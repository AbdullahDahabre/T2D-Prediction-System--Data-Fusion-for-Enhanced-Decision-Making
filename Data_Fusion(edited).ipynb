{
 "cells": [
  {
   "cell_type": "markdown",
   "metadata": {},
   "source": [
    "# Data preprocessing for Fusion and Model"
   ]
  },
  {
   "cell_type": "markdown",
   "metadata": {},
   "source": [
    "Importing Libraries"
   ]
  },
  {
   "cell_type": "code",
   "execution_count": 1,
   "metadata": {
    "ExecuteTime": {
     "end_time": "2025-02-18T15:12:53.854083600Z",
     "start_time": "2025-02-18T15:12:41.761926600Z"
    }
   },
   "outputs": [],
   "source": [
    "# Essentials\n",
    "import pandas as pd\n",
    "import numpy as np\n",
    "\n",
    "# Processing\n",
    "from sklearn.preprocessing import StandardScaler\n",
    "\n",
    "# Model\n",
    "\n",
    "# Visualization\n",
    "\n",
    "# Warnings\n",
    "import warnings\n",
    "warnings.filterwarnings('ignore')"
   ]
  },
  {
   "cell_type": "markdown",
   "metadata": {},
   "source": [
    "Loading Datasets"
   ]
  },
  {
   "cell_type": "code",
   "execution_count": 2,
   "metadata": {
    "ExecuteTime": {
     "end_time": "2025-02-18T15:36:25.581539600Z",
     "start_time": "2025-02-18T15:36:25.297433200Z"
    }
   },
   "outputs": [],
   "source": [
    "# Clinical Datasets\n",
    "African = pd.read_csv(\"/Users/mohammedbasem/Desktop/T2D-Prediction-System--Data-Fusion-for-Enhanced-Decision-Making/processed_datasets/clinical/African_pro.csv\")\n",
    "Bangladesh = pd.read_csv(\"/Users/mohammedbasem/Desktop/T2D-Prediction-System--Data-Fusion-for-Enhanced-Decision-Making/processed_datasets/clinical/Bangladesh_pro.csv\")\n",
    "Iraq = pd.read_csv(\"/Users/mohammedbasem/Desktop/T2D-Prediction-System--Data-Fusion-for-Enhanced-Decision-Making/processed_datasets/clinical/Iraq_pro.csv\")\n",
    "\n",
    "# Genetic Datasets\n",
    "inter_genetic = pd.read_csv(\"/Users/mohammedbasem/Desktop/T2D-Prediction-System--Data-Fusion-for-Enhanced-Decision-Making/processed_datasets/genetic/inter_genetic_dataset.csv\")\n",
    "normal_genetic = pd.read_csv(\"/Users/mohammedbasem/Desktop/T2D-Prediction-System--Data-Fusion-for-Enhanced-Decision-Making/processed_datasets/genetic/normal_genetic_dataset.csv\")"
   ]
  },
  {
   "cell_type": "markdown",
   "metadata": {},
   "source": [
    "Checking Target Columns"
   ]
  },
  {
   "cell_type": "code",
   "execution_count": 3,
   "metadata": {},
   "outputs": [
    {
     "name": "stdout",
     "output_type": "stream",
     "text": [
      "Index(['Patient number', 'Cholesterol', 'Glucose', 'HDL Chol',\n",
      "       'Chol/HDL ratio', 'Age', 'Gender', 'Height', 'Weight', 'BMI',\n",
      "       'Systolic BP', 'Diastolic BP', 'waist', 'hip', 'Waist/hip ratio',\n",
      "       'Diabetes', 'BMI Category'],\n",
      "      dtype='object') \n",
      "\n",
      "Index(['age', 'pulse_rate', 'systolic_bp', 'diastolic_bp', 'glucose', 'height',\n",
      "       'weight', 'bmi', 'family_diabetes', 'hypertensive',\n",
      "       'family_hypertension', 'cardiovascular_disease', 'stroke',\n",
      "       'gender_Encoded', 'diabetic_Encoded'],\n",
      "      dtype='object') \n",
      "\n",
      "Index(['Age', 'Urea', 'Cr', 'HbA1c', 'Chol', 'TG', 'HDL', 'LDL', 'VLDL', 'BMI',\n",
      "       'Gender_Encoded', 'Class_Encoded'],\n",
      "      dtype='object') \n",
      "\n",
      "Index(['STUDY', 'DISEASE_DESCRIPTION', 'REGION', 'CHR_ID', 'CHR_POS',\n",
      "       'MAPPED_GENE', 'UPSTREAM_GENE_ID', 'DOWNSTREAM_GENE_ID',\n",
      "       'UPSTREAM_GENE_DISTANCE', 'DOWNSTREAM_GENE_DISTANCE', 'SNPS', 'MERGED',\n",
      "       'GENOMIC_CONTEXT', 'INTERGENIC', 'RISK_ALLELE_FREQUENCY', 'PVALUE',\n",
      "       'PVALUE_MLOG', 'EFFECT_SIZE', 'CASE_PERCENTAGE', 'CI_LOWER_BOUND',\n",
      "       'CI_UPPER_BOUND', 'CI_RANGE', 'SNPS_PASSING_QC', 'PLATFORM_AFFYMETRIX',\n",
      "       'PLATFORM_AFFYMETRIX_ILLUMINA', 'PLATFORM_ILLUMINA', 'IMPUTED_ENCODED',\n",
      "       'RISK_ALLELE_ENCODED'],\n",
      "      dtype='object') \n",
      "\n",
      "Index(['STUDY', 'DISEASE_DESCRIPTION', 'REGION', 'CHR_ID', 'CHR_POS',\n",
      "       'MAPPED_GENE', 'SNP_GENE_IDS', 'SNPS', 'MERGED', 'GENOMIC_CONTEXT',\n",
      "       'INTERGENIC', 'RISK_ALLELE_FREQUENCY', 'PVALUE', 'PVALUE_MLOG',\n",
      "       'EFFECT_SIZE', 'CASE_PERCENTAGE', 'CI_LOWER_BOUND', 'CI_UPPER_BOUND',\n",
      "       'CI_RANGE', 'SNPS_PASSING_QC', 'PLATFORM_AFFYMETRIX',\n",
      "       'PLATFORM_AFFYMETRIX_ILLUMINA', 'PLATFORM_ILLUMINA', 'IMPUTED_ENCODED',\n",
      "       'RISK_ALLELE_ENCODED'],\n",
      "      dtype='object')\n"
     ]
    }
   ],
   "source": [
    "print(African.columns, \"\\n\")\n",
    "print(Bangladesh.columns, \"\\n\")\n",
    "print(Iraq.columns, \"\\n\")\n",
    "print(inter_genetic.columns, \"\\n\")\n",
    "print(normal_genetic.columns)"
   ]
  },
  {
   "cell_type": "markdown",
   "metadata": {},
   "source": [
    "Uniting Target Columns' name"
   ]
  },
  {
   "cell_type": "markdown",
   "metadata": {},
   "source": [
    "Checking Data Types "
   ]
  },
  {
   "cell_type": "code",
   "execution_count": 4,
   "metadata": {},
   "outputs": [
    {
     "name": "stdout",
     "output_type": "stream",
     "text": [
      "Patient number       int64\n",
      "Cholesterol          int64\n",
      "Glucose              int64\n",
      "HDL Chol             int64\n",
      "Chol/HDL ratio     float64\n",
      "Age                  int64\n",
      "Gender               int64\n",
      "Height               int64\n",
      "Weight               int64\n",
      "BMI                float64\n",
      "Systolic BP          int64\n",
      "Diastolic BP         int64\n",
      "waist                int64\n",
      "hip                  int64\n",
      "Waist/hip ratio    float64\n",
      "Diabetes             int64\n",
      "BMI Category         int64\n",
      "dtype: object \n",
      "\n",
      "age                         int64\n",
      "pulse_rate                  int64\n",
      "systolic_bp                 int64\n",
      "diastolic_bp                int64\n",
      "glucose                   float64\n",
      "height                    float64\n",
      "weight                    float64\n",
      "bmi                       float64\n",
      "family_diabetes             int64\n",
      "hypertensive                int64\n",
      "family_hypertension         int64\n",
      "cardiovascular_disease      int64\n",
      "stroke                      int64\n",
      "gender_Encoded              int64\n",
      "diabetic_Encoded            int64\n",
      "dtype: object \n",
      "\n",
      "Age                 int64\n",
      "Urea              float64\n",
      "Cr                  int64\n",
      "HbA1c             float64\n",
      "Chol              float64\n",
      "TG                float64\n",
      "HDL               float64\n",
      "LDL               float64\n",
      "VLDL              float64\n",
      "BMI               float64\n",
      "Gender_Encoded      int64\n",
      "Class_Encoded       int64\n",
      "dtype: object \n",
      "\n",
      "STUDY                            object\n",
      "DISEASE_DESCRIPTION              object\n",
      "REGION                           object\n",
      "CHR_ID                            int64\n",
      "CHR_POS                           int64\n",
      "MAPPED_GENE                      object\n",
      "UPSTREAM_GENE_ID                  int64\n",
      "DOWNSTREAM_GENE_ID                int64\n",
      "UPSTREAM_GENE_DISTANCE            int64\n",
      "DOWNSTREAM_GENE_DISTANCE          int64\n",
      "SNPS                             object\n",
      "MERGED                            int64\n",
      "GENOMIC_CONTEXT                  object\n",
      "INTERGENIC                        int64\n",
      "RISK_ALLELE_FREQUENCY           float64\n",
      "PVALUE                          float64\n",
      "PVALUE_MLOG                     float64\n",
      "EFFECT_SIZE                     float64\n",
      "CASE_PERCENTAGE                 float64\n",
      "CI_LOWER_BOUND                  float64\n",
      "CI_UPPER_BOUND                  float64\n",
      "CI_RANGE                        float64\n",
      "SNPS_PASSING_QC                   int64\n",
      "PLATFORM_AFFYMETRIX               int64\n",
      "PLATFORM_AFFYMETRIX_ILLUMINA      int64\n",
      "PLATFORM_ILLUMINA                 int64\n",
      "IMPUTED_ENCODED                   int64\n",
      "RISK_ALLELE_ENCODED               int64\n",
      "dtype: object \n",
      "\n",
      "STUDY                            object\n",
      "DISEASE_DESCRIPTION              object\n",
      "REGION                           object\n",
      "CHR_ID                            int64\n",
      "CHR_POS                           int64\n",
      "MAPPED_GENE                      object\n",
      "SNP_GENE_IDS                      int64\n",
      "SNPS                             object\n",
      "MERGED                            int64\n",
      "GENOMIC_CONTEXT                  object\n",
      "INTERGENIC                        int64\n",
      "RISK_ALLELE_FREQUENCY           float64\n",
      "PVALUE                          float64\n",
      "PVALUE_MLOG                     float64\n",
      "EFFECT_SIZE                     float64\n",
      "CASE_PERCENTAGE                 float64\n",
      "CI_LOWER_BOUND                  float64\n",
      "CI_UPPER_BOUND                  float64\n",
      "CI_RANGE                        float64\n",
      "SNPS_PASSING_QC                   int64\n",
      "PLATFORM_AFFYMETRIX               int64\n",
      "PLATFORM_AFFYMETRIX_ILLUMINA      int64\n",
      "PLATFORM_ILLUMINA                 int64\n",
      "IMPUTED_ENCODED                   int64\n",
      "RISK_ALLELE_ENCODED               int64\n",
      "dtype: object \n",
      "\n"
     ]
    }
   ],
   "source": [
    "print(African.dtypes, '\\n')\n",
    "print(Bangladesh.dtypes, '\\n')\n",
    "print(Iraq.dtypes, '\\n')\n",
    "print(inter_genetic.dtypes, '\\n')\n",
    "print(normal_genetic.dtypes, '\\n')"
   ]
  },
  {
   "cell_type": "markdown",
   "metadata": {},
   "source": [
    "Checking number of columns and rows"
   ]
  },
  {
   "cell_type": "code",
   "execution_count": 5,
   "metadata": {},
   "outputs": [
    {
     "name": "stdout",
     "output_type": "stream",
     "text": [
      "(390, 17) \n",
      "\n",
      "(5437, 15) \n",
      "\n",
      "(786, 12) \n",
      "\n",
      "(1110, 28) \n",
      "\n",
      "(2141, 25) \n",
      "\n"
     ]
    }
   ],
   "source": [
    "print(African.shape, '\\n')\n",
    "print(Bangladesh.shape, '\\n')\n",
    "print(Iraq.shape, '\\n')\n",
    "print(inter_genetic.shape, '\\n')\n",
    "print(normal_genetic.shape, '\\n')"
   ]
  },
  {
   "cell_type": "code",
   "execution_count": 6,
   "metadata": {},
   "outputs": [],
   "source": [
    "African.rename(columns={\n",
    "    'Diabetes': 'T2D',\n",
    "}, inplace=True)\n",
    " \n",
    "Bangladesh.rename(columns={\n",
    "    'diabetic_Encoded': 'T2D',\n",
    "}, inplace=True)\n",
    " \n",
    "Iraq.rename(columns={\n",
    "    'Class_Encoded': 'T2D',\n",
    "}, inplace=True)\n",
    " \n",
    "# Add a new column 'T2D' with all values set to 1\n",
    "#inter_genetic['T2D'] = 1\n",
    " \n",
    "# Add a new column 'T2D' with all values set to 1\n",
    "#normal_genetic['T2D'] = 1"
   ]
  },
  {
   "cell_type": "markdown",
   "metadata": {},
   "source": [
    "#  Imports & Target Renaming\n"
   ]
  },
  {
   "cell_type": "code",
   "execution_count": 7,
   "metadata": {},
   "outputs": [],
   "source": [
    "import numpy as np\n",
    "import pandas as pd\n",
    "\n",
    "from sklearn.model_selection import train_test_split\n",
    "from sklearn.preprocessing import MinMaxScaler, StandardScaler\n",
    "from sklearn.impute import SimpleImputer\n",
    "\n",
    "from sklearn.linear_model import LogisticRegression\n",
    "from sklearn.ensemble import RandomForestClassifier, GradientBoostingClassifier\n",
    "from sklearn.metrics import (\n",
    "    accuracy_score, roc_auc_score, average_precision_score, confusion_matrix\n",
    ")\n",
    "\n",
    "from keras.models import Sequential\n",
    "from keras.layers import Dense, LeakyReLU, BatchNormalization\n",
    "from keras.optimizers import Adam\n",
    "\n",
    "# Rename clinical targets to 'T2D'\n",
    "African.rename(columns={'Diabetes':'T2D'},      inplace=True)\n",
    "Bangladesh.rename(columns={'diabetic_Encoded':'T2D'}, inplace=True)\n",
    "Iraq.rename(columns={'Class_Encoded':'T2D'},    inplace=True)\n",
    "\n",
    "# Ensure genetic sets have a 'T2D' column (all positives)\n",
    "for df in (inter_genetic, normal_genetic):\n",
    "    if 'T2D' not in df.columns:\n",
    "        df['T2D'] = 1\n"
   ]
  },
  {
   "cell_type": "markdown",
   "metadata": {},
   "source": [
    "# Clinical Train/Val/Test Split\n"
   ]
  },
  {
   "cell_type": "code",
   "execution_count": 8,
   "metadata": {},
   "outputs": [],
   "source": [
    "test_size_clin = 0.20\n",
    "val_size_clin  = 0.25\n",
    "rs             = 42\n",
    "\n",
    "def split_clinical(df):\n",
    "    X_tr_val, X_test, y_tr_val, y_test = train_test_split(\n",
    "        df.drop(columns='T2D'), df['T2D'],\n",
    "        test_size=test_size_clin, stratify=df['T2D'], random_state=rs\n",
    "    )\n",
    "    X_train, X_val, y_train, y_val = train_test_split(\n",
    "        X_tr_val, y_tr_val,\n",
    "        test_size=val_size_clin, stratify=y_tr_val, random_state=rs\n",
    "    )\n",
    "    return X_train, y_train, X_val, y_val, X_test, y_test\n",
    "\n",
    "X_train_african, y_train_african, X_val_african, y_val_african, X_test_african, y_test_african = split_clinical(African)\n",
    "X_train_bangladesh, y_train_bangladesh, X_val_bangladesh, y_val_bangladesh, X_test_bangladesh, y_test_bangladesh = split_clinical(Bangladesh)\n",
    "X_train_iraq,       y_train_iraq,       X_val_iraq,       y_val_iraq,       X_test_iraq,       y_test_iraq       = split_clinical(Iraq)\n"
   ]
  },
  {
   "cell_type": "markdown",
   "metadata": {},
   "source": [
    "# Clinical Preprocessing (Scaling & Imputation)\n"
   ]
  },
  {
   "cell_type": "code",
   "execution_count": 9,
   "metadata": {},
   "outputs": [],
   "source": [
    "\n",
    "imputer = SimpleImputer(strategy='mean')\n",
    "\n",
    "def preprocess_clinical(X_train, X_val, X_test):\n",
    "    num_cols = X_train.select_dtypes(include=[np.number]).columns\n",
    "    scaler   = StandardScaler().fit(X_train[num_cols])\n",
    "    X_tr_sc   = scaler.transform(X_train[num_cols])\n",
    "    X_val_sc  = scaler.transform(X_val[num_cols])\n",
    "    X_test_sc = scaler.transform(X_test[num_cols])\n",
    "    return (\n",
    "        imputer.fit_transform(X_tr_sc),\n",
    "        imputer.transform(X_val_sc),\n",
    "        imputer.transform(X_test_sc)\n",
    "    )\n",
    "\n",
    "X_train_african_sc, X_val_african_sc, X_test_african_sc = preprocess_clinical(\n",
    "    X_train_african, X_val_african, X_test_african\n",
    ")\n",
    "X_train_bangladesh_sc, X_val_bangladesh_sc, X_test_bangladesh_sc = preprocess_clinical(\n",
    "    X_train_bangladesh, X_val_bangladesh, X_test_bangladesh\n",
    ")\n",
    "X_train_iraq_sc, X_val_iraq_sc, X_test_iraq_sc = preprocess_clinical(\n",
    "    X_train_iraq, X_val_iraq, X_test_iraq\n",
    ")\n"
   ]
  },
  {
   "cell_type": "markdown",
   "metadata": {},
   "source": [
    "#  GAN & Balancing Utilities\n"
   ]
  },
  {
   "cell_type": "code",
   "execution_count": 10,
   "metadata": {},
   "outputs": [],
   "source": [
    "def build_generator(input_dim, output_dim):\n",
    "    return Sequential([\n",
    "        Dense(128, input_dim=input_dim), LeakyReLU(0.2), BatchNormalization(),\n",
    "        Dense(256),                      LeakyReLU(0.2), BatchNormalization(),\n",
    "        Dense(output_dim, activation='tanh')\n",
    "    ])\n",
    "\n",
    "def build_discriminator(input_dim):\n",
    "    disc = Sequential([\n",
    "        Dense(256, input_dim=input_dim), LeakyReLU(0.2),\n",
    "        Dense(128),                       LeakyReLU(0.2),\n",
    "        Dense(1, activation='sigmoid')\n",
    "    ])\n",
    "    disc.compile(loss='binary_crossentropy', optimizer=Adam(), metrics=['accuracy'])\n",
    "    return disc\n",
    "\n",
    "def generate_synthetic_negatives(real_df, generator, scaler, num_cols, label_col='T2D'):\n",
    "    n = len(real_df)\n",
    "    # 1) Generate fake features\n",
    "    z    = np.random.normal(0, 1, (n, generator.input_shape[1])).astype(np.float32)\n",
    "    fake = generator.predict(z, verbose=0)\n",
    "    # 2) Inverse‐scale numeric\n",
    "    synth_num = scaler.inverse_transform(fake)\n",
    "    synth_df  = pd.DataFrame(synth_num, columns=num_cols)\n",
    "    synth_df[label_col] = 0\n",
    "    # 3) Real positives (numeric only)\n",
    "    pos_df = real_df[num_cols + [label_col]].copy()\n",
    "    # 4) Combine\n",
    "    balanced = pd.concat([pos_df, synth_df], ignore_index=True)\n",
    "    X = balanced[num_cols]      # drop any stray non-numeric\n",
    "    y = balanced[label_col]\n",
    "    return X, y\n"
   ]
  },
  {
   "cell_type": "markdown",
   "metadata": {},
   "source": [
    "#  Genetic Processing (Split, GAN, Balance)\n"
   ]
  },
  {
   "cell_type": "code",
   "execution_count": 11,
   "metadata": {},
   "outputs": [
    {
     "name": "stdout",
     "output_type": "stream",
     "text": [
      "[GAN] Epoch 0/1000\n",
      "[GAN] Epoch 200/1000\n",
      "[GAN] Epoch 400/1000\n",
      "[GAN] Epoch 600/1000\n",
      "[GAN] Epoch 800/1000\n",
      "[GAN] Epoch 0/1000\n",
      "[GAN] Epoch 200/1000\n",
      "[GAN] Epoch 400/1000\n",
      "[GAN] Epoch 600/1000\n",
      "[GAN] Epoch 800/1000\n"
     ]
    }
   ],
   "source": [
    "def process_genetic(df, test_size, val_size, rs, noise_dim=100, epochs=1000, batch_size=64):\n",
    "    # A) Split real positives into train+val vs test\n",
    "    X_all = df.drop(columns='T2D')\n",
    "    y_all = df['T2D']\n",
    "    X_tr_val, X_test, y_tr_val, y_test = train_test_split(\n",
    "        X_all, y_all, test_size=test_size, stratify=y_all, random_state=rs\n",
    "    )\n",
    "    # B) From train+val, carve out validation\n",
    "    X_train, X_val, y_train, y_val = train_test_split(\n",
    "        X_tr_val, y_tr_val, test_size=val_size, stratify=y_tr_val, random_state=rs\n",
    "    )\n",
    "    # C) Numeric features only\n",
    "    num_cols = [c for c in X_train.columns if pd.api.types.is_numeric_dtype(X_train[c])]\n",
    "    # D) Scale training positives\n",
    "    scaler = MinMaxScaler().fit(X_train[num_cols])\n",
    "    train_scaled = scaler.transform(X_train[num_cols]).astype(np.float32)\n",
    "    # E) Build & compile GAN\n",
    "    generator     = build_generator(noise_dim, train_scaled.shape[1])\n",
    "    discriminator = build_discriminator(train_scaled.shape[1])\n",
    "    discriminator.trainable = False\n",
    "    gan = Sequential([generator, discriminator])\n",
    "    gan.compile(loss='binary_crossentropy', optimizer=Adam())\n",
    "    # F) Train GAN (fewer epochs to avoid collapse)\n",
    "    for ep in range(epochs):\n",
    "        idx   = np.random.randint(0, len(train_scaled), batch_size)\n",
    "        real  = train_scaled[idx]\n",
    "        noise = np.random.normal(0,1,(batch_size,noise_dim))\n",
    "        fake  = generator.predict(noise, verbose=0)\n",
    "        discriminator.trainable = True\n",
    "        discriminator.train_on_batch(real, np.ones((batch_size,1)))\n",
    "        discriminator.train_on_batch(fake, np.zeros((batch_size,1)))\n",
    "        discriminator.trainable = False\n",
    "        gan.train_on_batch(np.random.normal(0,1,(batch_size,noise_dim)), np.ones((batch_size,1)))\n",
    "        if ep % 200 == 0:\n",
    "            print(f\"[GAN] Epoch {ep}/{epochs}\")\n",
    "    # G) Generate balanced splits\n",
    "    X_tr_bal, y_tr_bal = generate_synthetic_negatives(\n",
    "        pd.concat([X_train, y_train], axis=1),\n",
    "        generator, scaler, num_cols\n",
    "    )\n",
    "    X_val_bal, y_val_bal = generate_synthetic_negatives(\n",
    "        pd.concat([X_val, y_val], axis=1),\n",
    "        generator, scaler, num_cols\n",
    "    )\n",
    "    X_te_bal, y_te_bal   = generate_synthetic_negatives(\n",
    "        pd.concat([X_test, y_test], axis=1),\n",
    "        generator, scaler, num_cols\n",
    "    )\n",
    "    return X_tr_bal, y_tr_bal, X_val_bal, y_val_bal, X_te_bal, y_te_bal\n",
    "\n",
    "# New genetic split sizes\n",
    "test_size_gen = 0.20\n",
    "val_size_gen  = 0.10 / (1 - test_size_gen)  # ≈0.125\n",
    "\n",
    "# Process inter_genetic & normal_genetic\n",
    "X_train_inter, y_train_inter, X_val_inter, y_val_inter, X_test_inter, y_test_inter = \\\n",
    "    process_genetic(inter_genetic, test_size_gen, val_size_gen, rs)\n",
    "\n",
    "X_train_normal, y_train_normal, X_val_normal, y_val_normal, X_test_normal, y_test_normal = \\\n",
    "    process_genetic(normal_genetic, test_size_gen, val_size_gen, rs)\n"
   ]
  },
  {
   "cell_type": "markdown",
   "metadata": {},
   "source": [
    "# Define Models & Assemble Datasets\n"
   ]
  },
  {
   "cell_type": "code",
   "execution_count": 12,
   "metadata": {},
   "outputs": [],
   "source": [
    "best_models = {\n",
    "    \"African\":       LogisticRegression(random_state=rs, max_iter=1000),\n",
    "    \"Bangladesh\":    RandomForestClassifier(random_state=rs),\n",
    "    \"Iraq\":          GradientBoostingClassifier(random_state=rs),\n",
    "    \"InterGenetic\":  LogisticRegression(random_state=rs, max_iter=1000),\n",
    "    \"NormalGenetic\": LogisticRegression(random_state=rs, max_iter=1000),\n",
    "}\n",
    "\n",
    "datasets = {\n",
    "    \"African\":       (X_train_african_sc, y_train_african, X_val_african_sc, y_val_african, X_test_african_sc, y_test_african),\n",
    "    \"Bangladesh\":    (X_train_bangladesh_sc, y_train_bangladesh, X_val_bangladesh_sc, y_val_bangladesh, X_test_bangladesh_sc, y_test_bangladesh),\n",
    "    \"Iraq\":          (X_train_iraq_sc, y_train_iraq, X_val_iraq_sc, y_val_iraq, X_test_iraq_sc, y_test_iraq),\n",
    "    \"InterGenetic\":  (X_train_inter, y_train_inter, X_val_inter, y_val_inter, X_test_inter, y_test_inter),\n",
    "    \"NormalGenetic\": (X_train_normal, y_train_normal, X_val_normal, y_val_normal, X_test_normal, y_test_normal),\n",
    "}\n"
   ]
  },
  {
   "cell_type": "markdown",
   "metadata": {},
   "source": [
    "# Train & Evaluate All Models\n"
   ]
  },
  {
   "cell_type": "code",
   "execution_count": 13,
   "metadata": {},
   "outputs": [
    {
     "name": "stdout",
     "output_type": "stream",
     "text": [
      "\n",
      "African — Validation — Acc=0.910, ROC AUC=0.876, PR AUC=0.744\n",
      "African — Test       — Acc=0.885, ROC AUC=0.949, PR AUC=0.783\n",
      "Confusion Matrix:\n",
      "[[64  2]\n",
      " [ 7  5]]\n",
      "\n",
      "Bangladesh — Validation — Acc=0.947, ROC AUC=0.850, PR AUC=0.480\n",
      "Bangladesh — Test       — Acc=0.944, ROC AUC=0.878, PR AUC=0.410\n",
      "Confusion Matrix:\n",
      "[[1014    5]\n",
      " [  56   13]]\n",
      "\n",
      "Iraq — Validation — Acc=0.975, ROC AUC=0.997, PR AUC=0.980\n",
      "Iraq — Test       — Acc=0.975, ROC AUC=0.998, PR AUC=0.989\n",
      "Confusion Matrix:\n",
      "[[138   1]\n",
      " [  3  16]]\n",
      "\n",
      "InterGenetic — Validation — Acc=0.748, ROC AUC=0.795, PR AUC=0.831\n",
      "InterGenetic — Test       — Acc=0.757, ROC AUC=0.841, PR AUC=0.854\n",
      "Confusion Matrix:\n",
      "[[172  50]\n",
      " [ 58 164]]\n",
      "\n",
      "NormalGenetic — Validation — Acc=0.600, ROC AUC=0.609, PR AUC=0.677\n",
      "NormalGenetic — Test       — Acc=0.622, ROC AUC=0.619, PR AUC=0.715\n",
      "Confusion Matrix:\n",
      "[[318 111]\n",
      " [213 216]]\n"
     ]
    }
   ],
   "source": [
    "for name, (X_tr, y_tr, X_val, y_val, X_te, y_te) in datasets.items():\n",
    "    clf = best_models[name]\n",
    "    clf.fit(X_tr, y_tr)\n",
    "\n",
    "    # Validation\n",
    "    yv_pred  = clf.predict(X_val)\n",
    "    yv_proba = clf.predict_proba(X_val)[:,1] if hasattr(clf, \"predict_proba\") else np.zeros_like(yv_pred, float)\n",
    "    print(f\"\\n{name} — Validation — \"\n",
    "          f\"Acc={accuracy_score(y_val, yv_pred):.3f}, \"\n",
    "          f\"ROC AUC={roc_auc_score(y_val, yv_proba):.3f}, \"\n",
    "          f\"PR AUC={average_precision_score(y_val, yv_proba):.3f}\")\n",
    "\n",
    "    # Test\n",
    "    yt_pred  = clf.predict(X_te)\n",
    "    yt_proba = clf.predict_proba(X_te)[:,1] if hasattr(clf, \"predict_proba\") else np.zeros_like(yt_pred, float)\n",
    "    print(f\"{name} — Test       — \"\n",
    "          f\"Acc={accuracy_score(y_te, yt_pred):.3f}, \"\n",
    "          f\"ROC AUC={roc_auc_score(y_te, yt_proba):.3f}, \"\n",
    "          f\"PR AUC={average_precision_score(y_te, yt_proba):.3f}\")\n",
    "    print(\"Confusion Matrix:\")\n",
    "    print(confusion_matrix(y_te, yt_pred))\n"
   ]
  },
  {
   "cell_type": "markdown",
   "metadata": {},
   "source": [
    "## Subplots of Cross Validation for the best model"
   ]
  },
  {
   "cell_type": "code",
   "execution_count": 14,
   "metadata": {},
   "outputs": [
    {
     "data": {
      "application/vnd.plotly.v1+json": {
       "config": {
        "plotlyServerURL": "https://plot.ly"
       },
       "data": [
        {
         "mode": "lines+markers",
         "name": "African",
         "type": "scatter",
         "x": [
          1,
          2,
          3,
          4,
          5,
          6,
          7,
          8,
          9,
          10
         ],
         "xaxis": "x",
         "y": [
          0.9583333333333334,
          0.9583333333333334,
          0.9583333333333334,
          0.875,
          0.8260869565217391,
          0.8695652173913043,
          0.9130434782608695,
          0.9130434782608695,
          0.8695652173913043,
          0.782608695652174
         ],
         "yaxis": "y"
        },
        {
         "mode": "lines+markers",
         "name": "Bangladesh",
         "type": "scatter",
         "x": [
          1,
          2,
          3,
          4,
          5,
          6,
          7,
          8,
          9,
          10
         ],
         "xaxis": "x2",
         "y": [
          0.9357798165137615,
          0.9478527607361963,
          0.950920245398773,
          0.9386503067484663,
          0.9478527607361963,
          0.9386503067484663,
          0.9447852760736196,
          0.9355828220858896,
          0.9478527607361963,
          0.941717791411043
         ],
         "yaxis": "y2"
        },
        {
         "mode": "lines+markers",
         "name": "Iraq",
         "type": "scatter",
         "x": [
          1,
          2,
          3,
          4,
          5,
          6,
          7,
          8,
          9,
          10
         ],
         "xaxis": "x3",
         "y": [
          0.9791666666666666,
          1,
          0.9574468085106383,
          1,
          1,
          0.9787234042553191,
          1,
          0.9787234042553191,
          1,
          1
         ],
         "yaxis": "y3"
        },
        {
         "mode": "lines+markers",
         "name": "InterGenetic",
         "type": "scatter",
         "x": [
          1,
          2,
          3,
          4,
          5,
          6,
          7,
          8,
          9,
          10
         ],
         "xaxis": "x4",
         "y": [
          0.8012820512820513,
          0.8012820512820513,
          0.7756410256410257,
          0.8333333333333334,
          0.832258064516129,
          0.7870967741935484,
          0.8,
          0.7935483870967742,
          0.832258064516129,
          0.8129032258064516
         ],
         "yaxis": "y4"
        },
        {
         "mode": "lines+markers",
         "name": "NormalGenetic",
         "type": "scatter",
         "x": [
          1,
          2,
          3,
          4,
          5,
          6,
          7,
          8,
          9,
          10
         ],
         "xaxis": "x5",
         "y": [
          0.55,
          0.5633333333333334,
          0.5966666666666667,
          0.6466666666666666,
          0.5666666666666667,
          0.6033333333333334,
          0.6387959866220736,
          0.6053511705685619,
          0.6321070234113713,
          0.6321070234113713
         ],
         "yaxis": "y5"
        }
       ],
       "layout": {
        "annotations": [
         {
          "font": {
           "size": 16
          },
          "showarrow": false,
          "text": "African (LogisticRegression) CV Scores",
          "x": 0.5,
          "xanchor": "center",
          "xref": "paper",
          "y": 1,
          "yanchor": "bottom",
          "yref": "paper"
         },
         {
          "font": {
           "size": 16
          },
          "showarrow": false,
          "text": "Bangladesh (RandomForestClassifier) CV Scores",
          "x": 0.5,
          "xanchor": "center",
          "xref": "paper",
          "y": 0.78,
          "yanchor": "bottom",
          "yref": "paper"
         },
         {
          "font": {
           "size": 16
          },
          "showarrow": false,
          "text": "Iraq (GradientBoostingClassifier) CV Scores",
          "x": 0.5,
          "xanchor": "center",
          "xref": "paper",
          "y": 0.56,
          "yanchor": "bottom",
          "yref": "paper"
         },
         {
          "font": {
           "size": 16
          },
          "showarrow": false,
          "text": "InterGenetic (LogisticRegression) CV Scores",
          "x": 0.5,
          "xanchor": "center",
          "xref": "paper",
          "y": 0.33999999999999997,
          "yanchor": "bottom",
          "yref": "paper"
         },
         {
          "font": {
           "size": 16
          },
          "showarrow": false,
          "text": "NormalGenetic (LogisticRegression) CV Scores",
          "x": 0.5,
          "xanchor": "center",
          "xref": "paper",
          "y": 0.12,
          "yanchor": "bottom",
          "yref": "paper"
         }
        ],
        "height": 1500,
        "showlegend": false,
        "template": {
         "data": {
          "bar": [
           {
            "error_x": {
             "color": "#2a3f5f"
            },
            "error_y": {
             "color": "#2a3f5f"
            },
            "marker": {
             "line": {
              "color": "#E5ECF6",
              "width": 0.5
             },
             "pattern": {
              "fillmode": "overlay",
              "size": 10,
              "solidity": 0.2
             }
            },
            "type": "bar"
           }
          ],
          "barpolar": [
           {
            "marker": {
             "line": {
              "color": "#E5ECF6",
              "width": 0.5
             },
             "pattern": {
              "fillmode": "overlay",
              "size": 10,
              "solidity": 0.2
             }
            },
            "type": "barpolar"
           }
          ],
          "carpet": [
           {
            "aaxis": {
             "endlinecolor": "#2a3f5f",
             "gridcolor": "white",
             "linecolor": "white",
             "minorgridcolor": "white",
             "startlinecolor": "#2a3f5f"
            },
            "baxis": {
             "endlinecolor": "#2a3f5f",
             "gridcolor": "white",
             "linecolor": "white",
             "minorgridcolor": "white",
             "startlinecolor": "#2a3f5f"
            },
            "type": "carpet"
           }
          ],
          "choropleth": [
           {
            "colorbar": {
             "outlinewidth": 0,
             "ticks": ""
            },
            "type": "choropleth"
           }
          ],
          "contour": [
           {
            "colorbar": {
             "outlinewidth": 0,
             "ticks": ""
            },
            "colorscale": [
             [
              0,
              "#0d0887"
             ],
             [
              0.1111111111111111,
              "#46039f"
             ],
             [
              0.2222222222222222,
              "#7201a8"
             ],
             [
              0.3333333333333333,
              "#9c179e"
             ],
             [
              0.4444444444444444,
              "#bd3786"
             ],
             [
              0.5555555555555556,
              "#d8576b"
             ],
             [
              0.6666666666666666,
              "#ed7953"
             ],
             [
              0.7777777777777778,
              "#fb9f3a"
             ],
             [
              0.8888888888888888,
              "#fdca26"
             ],
             [
              1,
              "#f0f921"
             ]
            ],
            "type": "contour"
           }
          ],
          "contourcarpet": [
           {
            "colorbar": {
             "outlinewidth": 0,
             "ticks": ""
            },
            "type": "contourcarpet"
           }
          ],
          "heatmap": [
           {
            "colorbar": {
             "outlinewidth": 0,
             "ticks": ""
            },
            "colorscale": [
             [
              0,
              "#0d0887"
             ],
             [
              0.1111111111111111,
              "#46039f"
             ],
             [
              0.2222222222222222,
              "#7201a8"
             ],
             [
              0.3333333333333333,
              "#9c179e"
             ],
             [
              0.4444444444444444,
              "#bd3786"
             ],
             [
              0.5555555555555556,
              "#d8576b"
             ],
             [
              0.6666666666666666,
              "#ed7953"
             ],
             [
              0.7777777777777778,
              "#fb9f3a"
             ],
             [
              0.8888888888888888,
              "#fdca26"
             ],
             [
              1,
              "#f0f921"
             ]
            ],
            "type": "heatmap"
           }
          ],
          "heatmapgl": [
           {
            "colorbar": {
             "outlinewidth": 0,
             "ticks": ""
            },
            "colorscale": [
             [
              0,
              "#0d0887"
             ],
             [
              0.1111111111111111,
              "#46039f"
             ],
             [
              0.2222222222222222,
              "#7201a8"
             ],
             [
              0.3333333333333333,
              "#9c179e"
             ],
             [
              0.4444444444444444,
              "#bd3786"
             ],
             [
              0.5555555555555556,
              "#d8576b"
             ],
             [
              0.6666666666666666,
              "#ed7953"
             ],
             [
              0.7777777777777778,
              "#fb9f3a"
             ],
             [
              0.8888888888888888,
              "#fdca26"
             ],
             [
              1,
              "#f0f921"
             ]
            ],
            "type": "heatmapgl"
           }
          ],
          "histogram": [
           {
            "marker": {
             "pattern": {
              "fillmode": "overlay",
              "size": 10,
              "solidity": 0.2
             }
            },
            "type": "histogram"
           }
          ],
          "histogram2d": [
           {
            "colorbar": {
             "outlinewidth": 0,
             "ticks": ""
            },
            "colorscale": [
             [
              0,
              "#0d0887"
             ],
             [
              0.1111111111111111,
              "#46039f"
             ],
             [
              0.2222222222222222,
              "#7201a8"
             ],
             [
              0.3333333333333333,
              "#9c179e"
             ],
             [
              0.4444444444444444,
              "#bd3786"
             ],
             [
              0.5555555555555556,
              "#d8576b"
             ],
             [
              0.6666666666666666,
              "#ed7953"
             ],
             [
              0.7777777777777778,
              "#fb9f3a"
             ],
             [
              0.8888888888888888,
              "#fdca26"
             ],
             [
              1,
              "#f0f921"
             ]
            ],
            "type": "histogram2d"
           }
          ],
          "histogram2dcontour": [
           {
            "colorbar": {
             "outlinewidth": 0,
             "ticks": ""
            },
            "colorscale": [
             [
              0,
              "#0d0887"
             ],
             [
              0.1111111111111111,
              "#46039f"
             ],
             [
              0.2222222222222222,
              "#7201a8"
             ],
             [
              0.3333333333333333,
              "#9c179e"
             ],
             [
              0.4444444444444444,
              "#bd3786"
             ],
             [
              0.5555555555555556,
              "#d8576b"
             ],
             [
              0.6666666666666666,
              "#ed7953"
             ],
             [
              0.7777777777777778,
              "#fb9f3a"
             ],
             [
              0.8888888888888888,
              "#fdca26"
             ],
             [
              1,
              "#f0f921"
             ]
            ],
            "type": "histogram2dcontour"
           }
          ],
          "mesh3d": [
           {
            "colorbar": {
             "outlinewidth": 0,
             "ticks": ""
            },
            "type": "mesh3d"
           }
          ],
          "parcoords": [
           {
            "line": {
             "colorbar": {
              "outlinewidth": 0,
              "ticks": ""
             }
            },
            "type": "parcoords"
           }
          ],
          "pie": [
           {
            "automargin": true,
            "type": "pie"
           }
          ],
          "scatter": [
           {
            "fillpattern": {
             "fillmode": "overlay",
             "size": 10,
             "solidity": 0.2
            },
            "type": "scatter"
           }
          ],
          "scatter3d": [
           {
            "line": {
             "colorbar": {
              "outlinewidth": 0,
              "ticks": ""
             }
            },
            "marker": {
             "colorbar": {
              "outlinewidth": 0,
              "ticks": ""
             }
            },
            "type": "scatter3d"
           }
          ],
          "scattercarpet": [
           {
            "marker": {
             "colorbar": {
              "outlinewidth": 0,
              "ticks": ""
             }
            },
            "type": "scattercarpet"
           }
          ],
          "scattergeo": [
           {
            "marker": {
             "colorbar": {
              "outlinewidth": 0,
              "ticks": ""
             }
            },
            "type": "scattergeo"
           }
          ],
          "scattergl": [
           {
            "marker": {
             "colorbar": {
              "outlinewidth": 0,
              "ticks": ""
             }
            },
            "type": "scattergl"
           }
          ],
          "scattermapbox": [
           {
            "marker": {
             "colorbar": {
              "outlinewidth": 0,
              "ticks": ""
             }
            },
            "type": "scattermapbox"
           }
          ],
          "scatterpolar": [
           {
            "marker": {
             "colorbar": {
              "outlinewidth": 0,
              "ticks": ""
             }
            },
            "type": "scatterpolar"
           }
          ],
          "scatterpolargl": [
           {
            "marker": {
             "colorbar": {
              "outlinewidth": 0,
              "ticks": ""
             }
            },
            "type": "scatterpolargl"
           }
          ],
          "scatterternary": [
           {
            "marker": {
             "colorbar": {
              "outlinewidth": 0,
              "ticks": ""
             }
            },
            "type": "scatterternary"
           }
          ],
          "surface": [
           {
            "colorbar": {
             "outlinewidth": 0,
             "ticks": ""
            },
            "colorscale": [
             [
              0,
              "#0d0887"
             ],
             [
              0.1111111111111111,
              "#46039f"
             ],
             [
              0.2222222222222222,
              "#7201a8"
             ],
             [
              0.3333333333333333,
              "#9c179e"
             ],
             [
              0.4444444444444444,
              "#bd3786"
             ],
             [
              0.5555555555555556,
              "#d8576b"
             ],
             [
              0.6666666666666666,
              "#ed7953"
             ],
             [
              0.7777777777777778,
              "#fb9f3a"
             ],
             [
              0.8888888888888888,
              "#fdca26"
             ],
             [
              1,
              "#f0f921"
             ]
            ],
            "type": "surface"
           }
          ],
          "table": [
           {
            "cells": {
             "fill": {
              "color": "#EBF0F8"
             },
             "line": {
              "color": "white"
             }
            },
            "header": {
             "fill": {
              "color": "#C8D4E3"
             },
             "line": {
              "color": "white"
             }
            },
            "type": "table"
           }
          ]
         },
         "layout": {
          "annotationdefaults": {
           "arrowcolor": "#2a3f5f",
           "arrowhead": 0,
           "arrowwidth": 1
          },
          "autotypenumbers": "strict",
          "coloraxis": {
           "colorbar": {
            "outlinewidth": 0,
            "ticks": ""
           }
          },
          "colorscale": {
           "diverging": [
            [
             0,
             "#8e0152"
            ],
            [
             0.1,
             "#c51b7d"
            ],
            [
             0.2,
             "#de77ae"
            ],
            [
             0.3,
             "#f1b6da"
            ],
            [
             0.4,
             "#fde0ef"
            ],
            [
             0.5,
             "#f7f7f7"
            ],
            [
             0.6,
             "#e6f5d0"
            ],
            [
             0.7,
             "#b8e186"
            ],
            [
             0.8,
             "#7fbc41"
            ],
            [
             0.9,
             "#4d9221"
            ],
            [
             1,
             "#276419"
            ]
           ],
           "sequential": [
            [
             0,
             "#0d0887"
            ],
            [
             0.1111111111111111,
             "#46039f"
            ],
            [
             0.2222222222222222,
             "#7201a8"
            ],
            [
             0.3333333333333333,
             "#9c179e"
            ],
            [
             0.4444444444444444,
             "#bd3786"
            ],
            [
             0.5555555555555556,
             "#d8576b"
            ],
            [
             0.6666666666666666,
             "#ed7953"
            ],
            [
             0.7777777777777778,
             "#fb9f3a"
            ],
            [
             0.8888888888888888,
             "#fdca26"
            ],
            [
             1,
             "#f0f921"
            ]
           ],
           "sequentialminus": [
            [
             0,
             "#0d0887"
            ],
            [
             0.1111111111111111,
             "#46039f"
            ],
            [
             0.2222222222222222,
             "#7201a8"
            ],
            [
             0.3333333333333333,
             "#9c179e"
            ],
            [
             0.4444444444444444,
             "#bd3786"
            ],
            [
             0.5555555555555556,
             "#d8576b"
            ],
            [
             0.6666666666666666,
             "#ed7953"
            ],
            [
             0.7777777777777778,
             "#fb9f3a"
            ],
            [
             0.8888888888888888,
             "#fdca26"
            ],
            [
             1,
             "#f0f921"
            ]
           ]
          },
          "colorway": [
           "#636efa",
           "#EF553B",
           "#00cc96",
           "#ab63fa",
           "#FFA15A",
           "#19d3f3",
           "#FF6692",
           "#B6E880",
           "#FF97FF",
           "#FECB52"
          ],
          "font": {
           "color": "#2a3f5f"
          },
          "geo": {
           "bgcolor": "white",
           "lakecolor": "white",
           "landcolor": "#E5ECF6",
           "showlakes": true,
           "showland": true,
           "subunitcolor": "white"
          },
          "hoverlabel": {
           "align": "left"
          },
          "hovermode": "closest",
          "mapbox": {
           "style": "light"
          },
          "paper_bgcolor": "white",
          "plot_bgcolor": "#E5ECF6",
          "polar": {
           "angularaxis": {
            "gridcolor": "white",
            "linecolor": "white",
            "ticks": ""
           },
           "bgcolor": "#E5ECF6",
           "radialaxis": {
            "gridcolor": "white",
            "linecolor": "white",
            "ticks": ""
           }
          },
          "scene": {
           "xaxis": {
            "backgroundcolor": "#E5ECF6",
            "gridcolor": "white",
            "gridwidth": 2,
            "linecolor": "white",
            "showbackground": true,
            "ticks": "",
            "zerolinecolor": "white"
           },
           "yaxis": {
            "backgroundcolor": "#E5ECF6",
            "gridcolor": "white",
            "gridwidth": 2,
            "linecolor": "white",
            "showbackground": true,
            "ticks": "",
            "zerolinecolor": "white"
           },
           "zaxis": {
            "backgroundcolor": "#E5ECF6",
            "gridcolor": "white",
            "gridwidth": 2,
            "linecolor": "white",
            "showbackground": true,
            "ticks": "",
            "zerolinecolor": "white"
           }
          },
          "shapedefaults": {
           "line": {
            "color": "#2a3f5f"
           }
          },
          "ternary": {
           "aaxis": {
            "gridcolor": "white",
            "linecolor": "white",
            "ticks": ""
           },
           "baxis": {
            "gridcolor": "white",
            "linecolor": "white",
            "ticks": ""
           },
           "bgcolor": "#E5ECF6",
           "caxis": {
            "gridcolor": "white",
            "linecolor": "white",
            "ticks": ""
           }
          },
          "title": {
           "x": 0.05
          },
          "xaxis": {
           "automargin": true,
           "gridcolor": "white",
           "linecolor": "white",
           "ticks": "",
           "title": {
            "standoff": 15
           },
           "zerolinecolor": "white",
           "zerolinewidth": 2
          },
          "yaxis": {
           "automargin": true,
           "gridcolor": "white",
           "linecolor": "white",
           "ticks": "",
           "title": {
            "standoff": 15
           },
           "zerolinecolor": "white",
           "zerolinewidth": 2
          }
         }
        },
        "title": {
         "text": "10-Fold Cross-Validation Accuracy for Best Models"
        },
        "width": 800,
        "xaxis": {
         "anchor": "y",
         "domain": [
          0,
          1
         ],
         "matches": "x5",
         "showticklabels": false,
         "title": {
          "text": "Fold #"
         }
        },
        "xaxis2": {
         "anchor": "y2",
         "domain": [
          0,
          1
         ],
         "matches": "x5",
         "showticklabels": false,
         "title": {
          "text": "Fold #"
         }
        },
        "xaxis3": {
         "anchor": "y3",
         "domain": [
          0,
          1
         ],
         "matches": "x5",
         "showticklabels": false,
         "title": {
          "text": "Fold #"
         }
        },
        "xaxis4": {
         "anchor": "y4",
         "domain": [
          0,
          1
         ],
         "matches": "x5",
         "showticklabels": false,
         "title": {
          "text": "Fold #"
         }
        },
        "xaxis5": {
         "anchor": "y5",
         "domain": [
          0,
          1
         ],
         "title": {
          "text": "Fold #"
         }
        },
        "yaxis": {
         "anchor": "x",
         "domain": [
          0.88,
          1
         ],
         "title": {
          "text": "Accuracy"
         }
        },
        "yaxis2": {
         "anchor": "x2",
         "domain": [
          0.66,
          0.78
         ],
         "title": {
          "text": "Accuracy"
         }
        },
        "yaxis3": {
         "anchor": "x3",
         "domain": [
          0.44,
          0.56
         ],
         "title": {
          "text": "Accuracy"
         }
        },
        "yaxis4": {
         "anchor": "x4",
         "domain": [
          0.22,
          0.33999999999999997
         ],
         "title": {
          "text": "Accuracy"
         }
        },
        "yaxis5": {
         "anchor": "x5",
         "domain": [
          0,
          0.12
         ],
         "title": {
          "text": "Accuracy"
         }
        }
       }
      }
     },
     "metadata": {},
     "output_type": "display_data"
    }
   ],
   "source": [
    "import numpy as np\n",
    "from sklearn.model_selection import cross_val_score\n",
    "import plotly.graph_objects as go\n",
    "from plotly.subplots import make_subplots\n",
    "\n",
    "# ── 1) Best models mapping (reuse from earlier) ───────────────────────────────\n",
    "best_models_mapping = {\n",
    "    \"African\":       LogisticRegression(random_state=42, max_iter=1000),\n",
    "    \"Bangladesh\":    RandomForestClassifier(random_state=42),\n",
    "    \"Iraq\":          GradientBoostingClassifier(random_state=42),\n",
    "    \"InterGenetic\":  LogisticRegression(random_state=42, max_iter=1000),\n",
    "    \"NormalGenetic\": LogisticRegression(random_state=42, max_iter=1000),\n",
    "}\n",
    "\n",
    "# ── 2) CV datasets using our preprocessed training splits ──────────────────────\n",
    "cv_datasets = {\n",
    "    \"African\":       (X_train_african_sc,    y_train_african),\n",
    "    \"Bangladesh\":    (X_train_bangladesh_sc, y_train_bangladesh),\n",
    "    \"Iraq\":          (X_train_iraq_sc,       y_train_iraq),\n",
    "    \"InterGenetic\":  (X_train_inter,         y_train_inter),\n",
    "    \"NormalGenetic\": (X_train_normal,        y_train_normal),\n",
    "}\n",
    "\n",
    "cv_folds  = 10\n",
    "cv_scores = {}\n",
    "\n",
    "# ── 3) Perform cross-validation ────────────────────────────────────────────────\n",
    "for name, (X_tr, y_tr) in cv_datasets.items():\n",
    "    model = best_models_mapping[name]\n",
    "    scores = cross_val_score(model, X_tr, y_tr, cv=cv_folds)\n",
    "    cv_scores[name] = scores\n",
    "\n",
    "# ── 4) Build subplots ─────────────────────────────────────────────────────────\n",
    "fig = make_subplots(\n",
    "    rows=len(cv_datasets), cols=1, shared_xaxes=True,\n",
    "    subplot_titles=[\n",
    "        f\"{name} ({best_models_mapping[name].__class__.__name__}) CV Scores\"\n",
    "        for name in cv_datasets\n",
    "    ]\n",
    ")\n",
    "\n",
    "# ── 5) Plot each dataset’s fold scores ────────────────────────────────────────\n",
    "for i, (name, scores) in enumerate(cv_scores.items(), start=1):\n",
    "    fig.add_trace(\n",
    "        go.Scatter(\n",
    "            x=list(range(1, cv_folds + 1)),\n",
    "            y=scores,\n",
    "            mode='lines+markers',\n",
    "            name=name\n",
    "        ),\n",
    "        row=i, col=1\n",
    "    )\n",
    "\n",
    "# ── 6) Layout tweaks ──────────────────────────────────────────────────────────\n",
    "fig.update_layout(\n",
    "    height=300 * len(cv_datasets),\n",
    "    width=800,\n",
    "    title_text=\"10-Fold Cross-Validation Accuracy for Best Models\",\n",
    "    showlegend=False\n",
    ")\n",
    "fig.update_xaxes(title_text=\"Fold #\")\n",
    "fig.update_yaxes(title_text=\"Accuracy\")\n",
    "\n",
    "fig.show()\n",
    "\n"
   ]
  },
  {
   "cell_type": "markdown",
   "metadata": {},
   "source": [
    "ROC Curves for Best Models"
   ]
  },
  {
   "cell_type": "code",
   "execution_count": 15,
   "metadata": {},
   "outputs": [
    {
     "data": {
      "image/png": "[encoded data removed]",
      "text/plain": [
       "<Figure size 800x600 with 1 Axes>"
      ]
     },
     "metadata": {},
     "output_type": "display_data"
    }
   ],
   "source": [
    "import matplotlib.pyplot as plt\n",
    "from sklearn.metrics import roc_curve, auc\n",
    "\n",
    "# ── 1) Prepare ROC datasets using our preprocessed splits ─────────────────────\n",
    "roc_datasets = {\n",
    "    \"African\":       (X_train_african_sc,    X_test_african_sc,    y_train_african,    y_test_african),\n",
    "    \"Bangladesh\":    (X_train_bangladesh_sc, X_test_bangladesh_sc, y_train_bangladesh, y_test_bangladesh),\n",
    "    \"Iraq\":          (X_train_iraq_sc,       X_test_iraq_sc,       y_train_iraq,       y_test_iraq),\n",
    "    \"InterGenetic\":  (X_train_inter,         X_test_inter,         y_train_inter,      y_test_inter),\n",
    "    \"NormalGenetic\": (X_train_normal,        X_test_normal,        y_train_normal,     y_test_normal),\n",
    "}\n",
    "\n",
    "# ── 2) Compute ROC curve & AUC for each dataset’s best model ───────────────────\n",
    "roc_data = {}\n",
    "for name, (X_tr, X_te, y_tr, y_te) in roc_datasets.items():\n",
    "    model = best_models_mapping[name]\n",
    "    model.fit(X_tr, y_tr)                         # train on train split\n",
    "    y_prob = model.predict_proba(X_te)[:, 1]      # probability for positive class\n",
    "    fpr, tpr, _ = roc_curve(y_te, y_prob)         # ROC points\n",
    "    roc_auc = auc(fpr, tpr)                      # AUC value\n",
    "    roc_data[name] = (fpr, tpr, roc_auc)\n",
    "\n",
    "# ── 3) Plot all ROC curves together ────────────────────────────────────────────\n",
    "plt.figure(figsize=(8, 6))\n",
    "for name, (fpr, tpr, auc_val) in roc_data.items():\n",
    "    plt.plot(fpr, tpr, label=f\"{name} (AUC = {auc_val:.2f})\")\n",
    "\n",
    "# Diagonal “chance” line\n",
    "plt.plot([0, 1], [0, 1], linestyle='--', color='gray')\n",
    "\n",
    "plt.xlabel(\"False Positive Rate\")\n",
    "plt.ylabel(\"True Positive Rate\")\n",
    "plt.title(\"ROC Curves for Best Models on Each Dataset\")\n",
    "plt.legend(loc=\"lower right\")\n",
    "plt.grid(True)\n",
    "plt.show()\n"
   ]
  },
  {
   "cell_type": "markdown",
   "metadata": {},
   "source": [
    "Feature Importance"
   ]
  },
  {
   "cell_type": "code",
   "execution_count": 16,
   "metadata": {},
   "outputs": [
    {
     "name": "stdout",
     "output_type": "stream",
     "text": [
      "\n",
      "=== Top 5 features for African ===\n",
      "Glucose           0.385445\n",
      "Systolic BP       0.073045\n",
      "Chol/HDL ratio    0.068207\n",
      "Patient number    0.066245\n",
      "HDL Chol          0.054668\n",
      "dtype: float64\n",
      "\n",
      "=== Top 5 features for Bangladesh ===\n",
      "glucose         0.216040\n",
      "bmi             0.109953\n",
      "pulse_rate      0.099473\n",
      "diastolic_bp    0.097177\n",
      "systolic_bp     0.096943\n",
      "dtype: float64\n",
      "\n",
      "=== Top 5 features for Iraq ===\n",
      "HbA1c    0.330292\n",
      "BMI      0.260112\n",
      "Age      0.128298\n",
      "Chol     0.127068\n",
      "TG       0.045040\n",
      "dtype: float64\n",
      "\n",
      "=== Top 5 features for InterGenetic ===\n",
      "IMPUTED_ENCODED                 0.273656\n",
      "PLATFORM_AFFYMETRIX_ILLUMINA    0.157485\n",
      "PLATFORM_AFFYMETRIX             0.127362\n",
      "INTERGENIC                      0.113785\n",
      "MERGED                          0.065639\n",
      "dtype: float64\n",
      "\n",
      "=== Top 5 features for NormalGenetic ===\n",
      "IMPUTED_ENCODED                 0.246983\n",
      "INTERGENIC                      0.177342\n",
      "MERGED                          0.138414\n",
      "PLATFORM_AFFYMETRIX_ILLUMINA    0.137936\n",
      "CI_RANGE                        0.082671\n",
      "dtype: float64\n"
     ]
    }
   ],
   "source": [
    "import pandas as pd\n",
    "from sklearn.ensemble import RandomForestClassifier\n",
    "\n",
    "# ——— Assemble scaled features + original DataFrames for column names ——————\n",
    "datasets_scaled = {\n",
    "    \"African\":       (X_train_african_sc,    y_train_african,    X_train_african),\n",
    "    \"Bangladesh\":    (X_train_bangladesh_sc, y_train_bangladesh, X_train_bangladesh),\n",
    "    \"Iraq\":          (X_train_iraq_sc,       y_train_iraq,       X_train_iraq),\n",
    "    \"InterGenetic\":  (X_train_inter,         y_train_inter,      X_train_inter),\n",
    "    \"NormalGenetic\": (X_train_normal,        y_train_normal,     X_train_normal),\n",
    "}\n",
    "\n",
    "feature_importance_results = {}\n",
    "\n",
    "for name, (X_scaled, y, X_df) in datasets_scaled.items():\n",
    "    # Train the RandomForest on the scaled features\n",
    "    rf = RandomForestClassifier(random_state=42)\n",
    "    rf.fit(X_scaled, y)\n",
    "    \n",
    "    # Get numeric feature names\n",
    "    numeric_cols = list(X_df.select_dtypes(include=[np.number]).columns)\n",
    "    \n",
    "    # Map importances back to column names\n",
    "    imps = pd.Series(rf.feature_importances_, index=numeric_cols)\n",
    "    \n",
    "    # Sort descending\n",
    "    feature_importance_results[name] = imps.sort_values(ascending=False)\n",
    "\n",
    "# Print the top 5 features for each dataset\n",
    "for name, fi in feature_importance_results.items():\n",
    "    print(f\"\\n=== Top 5 features for {name} ===\")\n",
    "    print(fi.head(5))\n"
   ]
  },
  {
   "cell_type": "code",
   "execution_count": 17,
   "metadata": {},
   "outputs": [
    {
     "data": {
      "image/png": "[encoded data removed]",
      "text/plain": [
       "<Figure size 1400x1200 with 6 Axes>"
      ]
     },
     "metadata": {},
     "output_type": "display_data"
    }
   ],
   "source": [
    "import matplotlib.pyplot as plt\n",
    "import seaborn as sns\n",
    "import numpy as np\n",
    "from math import ceil\n",
    "\n",
    "# Use a clean style\n",
    "sns.set(style=\"white\")\n",
    "\n",
    "# Number of top features to show\n",
    "top_n = 5\n",
    "\n",
    "# Prepare subplots: 2 columns\n",
    "n_datasets = len(feature_importance_results)\n",
    "n_cols = 2\n",
    "n_rows = ceil(n_datasets / n_cols)\n",
    "fig, axes = plt.subplots(n_rows, n_cols, figsize=(14, n_rows * 4), constrained_layout=True)\n",
    "axes = axes.flatten()\n",
    "\n",
    "# A distinct color for each dataset\n",
    "palette = sns.color_palette(\"tab10\", n_colors=n_datasets)\n",
    "\n",
    "for idx, ((dataset_name, fi_series), ax) in enumerate(zip(feature_importance_results.items(), axes)):\n",
    "    # Take top_n and reverse for horizontal bar chart\n",
    "    top_features = fi_series.head(top_n)[::-1]\n",
    "    \n",
    "    # Plot\n",
    "    ax.barh(top_features.index, top_features.values, color=palette[idx], edgecolor=\"black\")\n",
    "    \n",
    "    # Annotate values\n",
    "    for i, v in enumerate(top_features.values):\n",
    "        ax.text(v + 0.005, i, f\"{v:.3f}\", va='center', fontsize=10)\n",
    "    \n",
    "    # Titles and labels\n",
    "    ax.set_title(dataset_name, fontsize=14, weight=\"bold\")\n",
    "    ax.set_xlabel(\"Importance Score\", fontsize=12)\n",
    "    ax.set_ylabel(\"\")  # feature names on y-axis are clear\n",
    "    \n",
    "    # Consistent x-axis across subplots\n",
    "    ax.set_xlim(0, max(fi_series.head(top_n).values) * 1.1)\n",
    "    \n",
    "    # Light grid\n",
    "    ax.xaxis.grid(True, linestyle='--', alpha=0.5)\n",
    "    ax.yaxis.grid(False)\n",
    "\n",
    "# Turn off any extra axes\n",
    "for ax in axes[n_datasets:]:\n",
    "    ax.axis('off')\n",
    "\n",
    "plt.suptitle(\"Top 5 Feature Importances per Dataset\", fontsize=16, weight=\"bold\", y=1.02)\n",
    "plt.show()\n"
   ]
  },
  {
   "cell_type": "markdown",
   "metadata": {},
   "source": [
    "# Data Fusion"
   ]
  },
  {
   "cell_type": "code",
   "execution_count": 18,
   "metadata": {},
   "outputs": [
    {
     "name": "stdout",
     "output_type": "stream",
     "text": [
      "Epoch 1/100\n",
      "\u001b[1m 8/10\u001b[0m \u001b[32m━━━━━━━━━━━━━━━━\u001b[0m\u001b[37m━━━━\u001b[0m \u001b[1m0s\u001b[0m 8ms/step - accuracy: 0.4966 - loss: 1.4771 Epoch 001 | loss=1.4967, acc=0.4715 | val_loss=1.3952, val_acc=0.4875 | 9.02s\n",
      "\u001b[1m10/10\u001b[0m \u001b[32m━━━━━━━━━━━━━━━━━━━━\u001b[0m\u001b[37m\u001b[0m \u001b[1m9s\u001b[0m 91ms/step - accuracy: 0.4901 - loss: 1.4814 - val_accuracy: 0.4875 - val_loss: 1.3952 - learning_rate: 1.0000e-04\n",
      "Epoch 2/100\n",
      "\u001b[1m 9/10\u001b[0m \u001b[32m━━━━━━━━━━━━━━━━━━\u001b[0m\u001b[37m━━\u001b[0m \u001b[1m0s\u001b[0m 7ms/step - accuracy: 0.4727 - loss: 1.4297 Epoch 002 | loss=1.4562, acc=0.4842 | val_loss=1.3890, val_acc=0.5375 | 0.23s\n",
      "\u001b[1m10/10\u001b[0m \u001b[32m━━━━━━━━━━━━━━━━━━━━\u001b[0m\u001b[37m\u001b[0m \u001b[1m0s\u001b[0m 20ms/step - accuracy: 0.4748 - loss: 1.4345 - val_accuracy: 0.5375 - val_loss: 1.3890 - learning_rate: 1.0000e-04\n",
      "Epoch 3/100\n",
      "\u001b[1m 9/10\u001b[0m \u001b[32m━━━━━━━━━━━━━━━━━━\u001b[0m\u001b[37m━━\u001b[0m \u001b[1m0s\u001b[0m 7ms/step - accuracy: 0.5223 - loss: 1.4347 Epoch 003 | loss=1.4272, acc=0.5158 | val_loss=1.3837, val_acc=0.5250 | 0.21s\n",
      "\u001b[1m10/10\u001b[0m \u001b[32m━━━━━━━━━━━━━━━━━━━━\u001b[0m\u001b[37m\u001b[0m \u001b[1m0s\u001b[0m 20ms/step - accuracy: 0.5211 - loss: 1.4333 - val_accuracy: 0.5250 - val_loss: 1.3837 - learning_rate: 1.0000e-04\n",
      "Epoch 4/100\n",
      "\u001b[1m 7/10\u001b[0m \u001b[32m━━━━━━━━━━━━━━\u001b[0m\u001b[37m━━━━━━\u001b[0m \u001b[1m0s\u001b[0m 9ms/step - accuracy: 0.4627 - loss: 1.4856 Epoch 004 | loss=1.4227, acc=0.5032 | val_loss=1.3788, val_acc=0.5375 | 0.23s\n",
      "\u001b[1m10/10\u001b[0m \u001b[32m━━━━━━━━━━━━━━━━━━━━\u001b[0m\u001b[37m\u001b[0m \u001b[1m0s\u001b[0m 21ms/step - accuracy: 0.4759 - loss: 1.4640 - val_accuracy: 0.5375 - val_loss: 1.3788 - learning_rate: 1.0000e-04\n",
      "Epoch 5/100\n",
      "\u001b[1m 8/10\u001b[0m \u001b[32m━━━━━━━━━━━━━━━━\u001b[0m\u001b[37m━━━━\u001b[0m \u001b[1m0s\u001b[0m 8ms/step - accuracy: 0.4791 - loss: 1.4353 Epoch 005 | loss=1.4227, acc=0.5063 | val_loss=1.3743, val_acc=0.5375 | 0.20s\n",
      "\u001b[1m10/10\u001b[0m \u001b[32m━━━━━━━━━━━━━━━━━━━━\u001b[0m\u001b[37m\u001b[0m \u001b[1m0s\u001b[0m 19ms/step - accuracy: 0.4847 - loss: 1.4331 - val_accuracy: 0.5375 - val_loss: 1.3743 - learning_rate: 1.0000e-04\n",
      "Epoch 6/100\n",
      "\u001b[1m 9/10\u001b[0m \u001b[32m━━━━━━━━━━━━━━━━━━\u001b[0m\u001b[37m━━\u001b[0m \u001b[1m0s\u001b[0m 7ms/step - accuracy: 0.5469 - loss: 1.4022 Epoch 006 | loss=1.3939, acc=0.5538 | val_loss=1.3699, val_acc=0.5375 | 0.17s\n",
      "\u001b[1m10/10\u001b[0m \u001b[32m━━━━━━━━━━━━━━━━━━━━\u001b[0m\u001b[37m\u001b[0m \u001b[1m0s\u001b[0m 15ms/step - accuracy: 0.5481 - loss: 1.4007 - val_accuracy: 0.5375 - val_loss: 1.3699 - learning_rate: 1.0000e-04\n",
      "Epoch 7/100\n",
      "\u001b[1m 8/10\u001b[0m \u001b[32m━━━━━━━━━━━━━━━━\u001b[0m\u001b[37m━━━━\u001b[0m \u001b[1m0s\u001b[0m 7ms/step - accuracy: 0.4975 - loss: 1.4298 Epoch 007 | loss=1.3990, acc=0.5443 | val_loss=1.3655, val_acc=0.5375 | 0.21s\n",
      "\u001b[1m10/10\u001b[0m \u001b[32m━━━━━━━━━━━━━━━━━━━━\u001b[0m\u001b[37m\u001b[0m \u001b[1m0s\u001b[0m 18ms/step - accuracy: 0.5084 - loss: 1.4229 - val_accuracy: 0.5375 - val_loss: 1.3655 - learning_rate: 1.0000e-04\n",
      "Epoch 8/100\n",
      "\u001b[1m 8/10\u001b[0m \u001b[32m━━━━━━━━━━━━━━━━\u001b[0m\u001b[37m━━━━\u001b[0m \u001b[1m0s\u001b[0m 9ms/step - accuracy: 0.4794 - loss: 1.4235 Epoch 008 | loss=1.4041, acc=0.5063 | val_loss=1.3609, val_acc=0.5500 | 0.22s\n",
      "\u001b[1m10/10\u001b[0m \u001b[32m━━━━━━━━━━━━━━━━━━━━\u001b[0m\u001b[37m\u001b[0m \u001b[1m0s\u001b[0m 21ms/step - accuracy: 0.4878 - loss: 1.4185 - val_accuracy: 0.5500 - val_loss: 1.3609 - learning_rate: 1.0000e-04\n",
      "Epoch 9/100\n",
      "\u001b[1m 9/10\u001b[0m \u001b[32m━━━━━━━━━━━━━━━━━━\u001b[0m\u001b[37m━━\u001b[0m \u001b[1m0s\u001b[0m 7ms/step - accuracy: 0.6126 - loss: 1.3683 Epoch 009 | loss=1.3591, acc=0.6108 | val_loss=1.3562, val_acc=0.5500 | 0.21s\n",
      "\u001b[1m10/10\u001b[0m \u001b[32m━━━━━━━━━━━━━━━━━━━━\u001b[0m\u001b[37m\u001b[0m \u001b[1m0s\u001b[0m 18ms/step - accuracy: 0.6123 - loss: 1.3666 - val_accuracy: 0.5500 - val_loss: 1.3562 - learning_rate: 1.0000e-04\n",
      "Epoch 10/100\n",
      "\u001b[1m 9/10\u001b[0m \u001b[32m━━━━━━━━━━━━━━━━━━\u001b[0m\u001b[37m━━\u001b[0m \u001b[1m0s\u001b[0m 7ms/step - accuracy: 0.6145 - loss: 1.3357 Epoch 010 | loss=1.3330, acc=0.6171 | val_loss=1.3518, val_acc=0.5750 | 0.23s\n",
      "\u001b[1m10/10\u001b[0m \u001b[32m━━━━━━━━━━━━━━━━━━━━\u001b[0m\u001b[37m\u001b[0m \u001b[1m0s\u001b[0m 21ms/step - accuracy: 0.6150 - loss: 1.3352 - val_accuracy: 0.5750 - val_loss: 1.3518 - learning_rate: 1.0000e-04\n",
      "Epoch 11/100\n",
      "\u001b[1m 9/10\u001b[0m \u001b[32m━━━━━━━━━━━━━━━━━━\u001b[0m\u001b[37m━━\u001b[0m \u001b[1m0s\u001b[0m 7ms/step - accuracy: 0.6138 - loss: 1.3249 Epoch 011 | loss=1.3446, acc=0.5665 | val_loss=1.3480, val_acc=0.6125 | 0.19s\n",
      "\u001b[1m10/10\u001b[0m \u001b[32m━━━━━━━━━━━━━━━━━━━━\u001b[0m\u001b[37m\u001b[0m \u001b[1m0s\u001b[0m 17ms/step - accuracy: 0.6052 - loss: 1.3285 - val_accuracy: 0.6125 - val_loss: 1.3480 - learning_rate: 1.0000e-04\n",
      "Epoch 12/100\n",
      "\u001b[1m 8/10\u001b[0m \u001b[32m━━━━━━━━━━━━━━━━\u001b[0m\u001b[37m━━━━\u001b[0m \u001b[1m0s\u001b[0m 8ms/step - accuracy: 0.5656 - loss: 1.3576 Epoch 012 | loss=1.3427, acc=0.5728 | val_loss=1.3441, val_acc=0.6125 | 0.23s\n",
      "\u001b[1m10/10\u001b[0m \u001b[32m━━━━━━━━━━━━━━━━━━━━\u001b[0m\u001b[37m\u001b[0m \u001b[1m0s\u001b[0m 20ms/step - accuracy: 0.5669 - loss: 1.3539 - val_accuracy: 0.6125 - val_loss: 1.3441 - learning_rate: 1.0000e-04\n",
      "Epoch 13/100\n",
      "\u001b[1m 8/10\u001b[0m \u001b[32m━━━━━━━━━━━━━━━━\u001b[0m\u001b[37m━━━━\u001b[0m \u001b[1m0s\u001b[0m 8ms/step - accuracy: 0.5880 - loss: 1.3602 Epoch 013 | loss=1.3335, acc=0.6108 | val_loss=1.3402, val_acc=0.6125 | 0.23s\n",
      "\u001b[1m10/10\u001b[0m \u001b[32m━━━━━━━━━━━━━━━━━━━━\u001b[0m\u001b[37m\u001b[0m \u001b[1m0s\u001b[0m 21ms/step - accuracy: 0.5945 - loss: 1.3527 - val_accuracy: 0.6125 - val_loss: 1.3402 - learning_rate: 1.0000e-04\n",
      "Epoch 14/100\n",
      "\u001b[1m 8/10\u001b[0m \u001b[32m━━━━━━━━━━━━━━━━\u001b[0m\u001b[37m━━━━\u001b[0m \u001b[1m0s\u001b[0m 7ms/step - accuracy: 0.5115 - loss: 1.3807 Epoch 014 | loss=1.3781, acc=0.5285 | val_loss=1.3359, val_acc=0.6125 | 0.21s\n",
      "\u001b[1m10/10\u001b[0m \u001b[32m━━━━━━━━━━━━━━━━━━━━\u001b[0m\u001b[37m\u001b[0m \u001b[1m0s\u001b[0m 19ms/step - accuracy: 0.5170 - loss: 1.3796 - val_accuracy: 0.6125 - val_loss: 1.3359 - learning_rate: 1.0000e-04\n",
      "Epoch 15/100\n",
      "\u001b[1m 9/10\u001b[0m \u001b[32m━━━━━━━━━━━━━━━━━━\u001b[0m\u001b[37m━━\u001b[0m \u001b[1m0s\u001b[0m 7ms/step - accuracy: 0.5832 - loss: 1.3580 Epoch 015 | loss=1.3561, acc=0.5823 | val_loss=1.3315, val_acc=0.6250 | 0.22s\n",
      "\u001b[1m10/10\u001b[0m \u001b[32m━━━━━━━━━━━━━━━━━━━━\u001b[0m\u001b[37m\u001b[0m \u001b[1m0s\u001b[0m 20ms/step - accuracy: 0.5830 - loss: 1.3576 - val_accuracy: 0.6250 - val_loss: 1.3315 - learning_rate: 1.0000e-04\n",
      "Epoch 16/100\n",
      "\u001b[1m 8/10\u001b[0m \u001b[32m━━━━━━━━━━━━━━━━\u001b[0m\u001b[37m━━━━\u001b[0m \u001b[1m0s\u001b[0m 8ms/step - accuracy: 0.6374 - loss: 1.3256 Epoch 016 | loss=1.3251, acc=0.6234 | val_loss=1.3273, val_acc=0.6500 | 0.22s\n",
      "\u001b[1m10/10\u001b[0m \u001b[32m━━━━━━━━━━━━━━━━━━━━\u001b[0m\u001b[37m\u001b[0m \u001b[1m0s\u001b[0m 19ms/step - accuracy: 0.6334 - loss: 1.3258 - val_accuracy: 0.6500 - val_loss: 1.3273 - learning_rate: 1.0000e-04\n",
      "Epoch 17/100\n",
      "\u001b[1m 8/10\u001b[0m \u001b[32m━━━━━━━━━━━━━━━━\u001b[0m\u001b[37m━━━━\u001b[0m \u001b[1m0s\u001b[0m 8ms/step - accuracy: 0.5672 - loss: 1.3567 Epoch 017 | loss=1.3528, acc=0.5791 | val_loss=1.3226, val_acc=0.6500 | 0.21s\n",
      "\u001b[1m10/10\u001b[0m \u001b[32m━━━━━━━━━━━━━━━━━━━━\u001b[0m\u001b[37m\u001b[0m \u001b[1m0s\u001b[0m 20ms/step - accuracy: 0.5702 - loss: 1.3557 - val_accuracy: 0.6500 - val_loss: 1.3226 - learning_rate: 1.0000e-04\n",
      "Epoch 18/100\n",
      "\u001b[1m 8/10\u001b[0m \u001b[32m━━━━━━━━━━━━━━━━\u001b[0m\u001b[37m━━━━\u001b[0m \u001b[1m0s\u001b[0m 8ms/step - accuracy: 0.5559 - loss: 1.3352 Epoch 018 | loss=1.3192, acc=0.5918 | val_loss=1.3181, val_acc=0.6500 | 0.22s\n",
      "\u001b[1m10/10\u001b[0m \u001b[32m━━━━━━━━━━━━━━━━━━━━\u001b[0m\u001b[37m\u001b[0m \u001b[1m0s\u001b[0m 19ms/step - accuracy: 0.5659 - loss: 1.3310 - val_accuracy: 0.6500 - val_loss: 1.3181 - learning_rate: 1.0000e-04\n",
      "Epoch 19/100\n",
      "\u001b[1m 8/10\u001b[0m \u001b[32m━━━━━━━━━━━━━━━━\u001b[0m\u001b[37m━━━━\u001b[0m \u001b[1m0s\u001b[0m 8ms/step - accuracy: 0.5933 - loss: 1.3335 Epoch 019 | loss=1.3140, acc=0.6297 | val_loss=1.3130, val_acc=0.6500 | 0.21s\n",
      "\u001b[1m10/10\u001b[0m \u001b[32m━━━━━━━━━━━━━━━━━━━━\u001b[0m\u001b[37m\u001b[0m \u001b[1m0s\u001b[0m 18ms/step - accuracy: 0.6034 - loss: 1.3283 - val_accuracy: 0.6500 - val_loss: 1.3130 - learning_rate: 1.0000e-04\n",
      "Epoch 20/100\n",
      "\u001b[1m 9/10\u001b[0m \u001b[32m━━━━━━━━━━━━━━━━━━\u001b[0m\u001b[37m━━\u001b[0m \u001b[1m0s\u001b[0m 6ms/step - accuracy: 0.6484 - loss: 1.3262  Epoch 020 | loss=1.3342, acc=0.6171 | val_loss=1.3081, val_acc=0.6500 | 0.32s\n",
      "\u001b[1m10/10\u001b[0m \u001b[32m━━━━━━━━━━━━━━━━━━━━\u001b[0m\u001b[37m\u001b[0m \u001b[1m0s\u001b[0m 19ms/step - accuracy: 0.6427 - loss: 1.3277 - val_accuracy: 0.6500 - val_loss: 1.3081 - learning_rate: 1.0000e-04\n",
      "Epoch 21/100\n",
      "\u001b[1m 8/10\u001b[0m \u001b[32m━━━━━━━━━━━━━━━━\u001b[0m\u001b[37m━━━━\u001b[0m \u001b[1m0s\u001b[0m 8ms/step - accuracy: 0.6359 - loss: 1.3049 Epoch 021 | loss=1.2995, acc=0.6361 | val_loss=1.3033, val_acc=0.6500 | 0.21s\n",
      "\u001b[1m10/10\u001b[0m \u001b[32m━━━━━━━━━━━━━━━━━━━━\u001b[0m\u001b[37m\u001b[0m \u001b[1m0s\u001b[0m 19ms/step - accuracy: 0.6368 - loss: 1.3028 - val_accuracy: 0.6500 - val_loss: 1.3033 - learning_rate: 1.0000e-04\n",
      "Epoch 22/100\n",
      "\u001b[1m 9/10\u001b[0m \u001b[32m━━━━━━━━━━━━━━━━━━\u001b[0m\u001b[37m━━\u001b[0m \u001b[1m0s\u001b[0m 7ms/step - accuracy: 0.6504 - loss: 1.2935 Epoch 022 | loss=1.2838, acc=0.6519 | val_loss=1.2983, val_acc=0.6500 | 0.19s\n",
      "\u001b[1m10/10\u001b[0m \u001b[32m━━━━━━━━━━━━━━━━━━━━\u001b[0m\u001b[37m\u001b[0m \u001b[1m0s\u001b[0m 18ms/step - accuracy: 0.6507 - loss: 1.2917 - val_accuracy: 0.6500 - val_loss: 1.2983 - learning_rate: 1.0000e-04\n",
      "Epoch 23/100\n",
      "\u001b[1m 7/10\u001b[0m \u001b[32m━━━━━━━━━━━━━━\u001b[0m\u001b[37m━━━━━━\u001b[0m \u001b[1m0s\u001b[0m 9ms/step - accuracy: 0.6120 - loss: 1.2908 Epoch 023 | loss=1.2953, acc=0.6487 | val_loss=1.2929, val_acc=0.6500 | 0.40s\n",
      "\u001b[1m10/10\u001b[0m \u001b[32m━━━━━━━━━━━━━━━━━━━━\u001b[0m\u001b[37m\u001b[0m \u001b[1m0s\u001b[0m 41ms/step - accuracy: 0.6284 - loss: 1.2900 - val_accuracy: 0.6500 - val_loss: 1.2929 - learning_rate: 1.0000e-04\n",
      "Epoch 24/100\n",
      "\u001b[1m 8/10\u001b[0m \u001b[32m━━━━━━━━━━━━━━━━\u001b[0m\u001b[37m━━━━\u001b[0m \u001b[1m0s\u001b[0m 7ms/step - accuracy: 0.6808 - loss: 1.2448 Epoch 024 | loss=1.2689, acc=0.6741 | val_loss=1.2877, val_acc=0.6500 | 0.21s\n",
      "\u001b[1m10/10\u001b[0m \u001b[32m━━━━━━━━━━━━━━━━━━━━\u001b[0m\u001b[37m\u001b[0m \u001b[1m0s\u001b[0m 20ms/step - accuracy: 0.6802 - loss: 1.2506 - val_accuracy: 0.6500 - val_loss: 1.2877 - learning_rate: 1.0000e-04\n",
      "Epoch 25/100\n",
      "\u001b[1m 7/10\u001b[0m \u001b[32m━━━━━━━━━━━━━━\u001b[0m\u001b[37m━━━━━━\u001b[0m \u001b[1m0s\u001b[0m 11ms/step - accuracy: 0.6905 - loss: 1.2816Epoch 025 | loss=1.2539, acc=0.6930 | val_loss=1.2827, val_acc=0.6500 | 0.24s\n",
      "\u001b[1m10/10\u001b[0m \u001b[32m━━━━━━━━━━━━━━━━━━━━\u001b[0m\u001b[37m\u001b[0m \u001b[1m0s\u001b[0m 22ms/step - accuracy: 0.6913 - loss: 1.2722 - val_accuracy: 0.6500 - val_loss: 1.2827 - learning_rate: 1.0000e-04\n",
      "Epoch 26/100\n",
      "\u001b[1m 6/10\u001b[0m \u001b[32m━━━━━━━━━━━━\u001b[0m\u001b[37m━━━━━━━━\u001b[0m \u001b[1m0s\u001b[0m 11ms/step - accuracy: 0.7336 - loss: 1.2261Epoch 026 | loss=1.2508, acc=0.7089 | val_loss=1.2768, val_acc=0.6500 | 0.25s\n",
      "\u001b[1m10/10\u001b[0m \u001b[32m━━━━━━━━━━━━━━━━━━━━\u001b[0m\u001b[37m\u001b[0m \u001b[1m0s\u001b[0m 23ms/step - accuracy: 0.7211 - loss: 1.2373 - val_accuracy: 0.6500 - val_loss: 1.2768 - learning_rate: 1.0000e-04\n",
      "Epoch 27/100\n",
      "\u001b[1m 7/10\u001b[0m \u001b[32m━━━━━━━━━━━━━━\u001b[0m\u001b[37m━━━━━━\u001b[0m \u001b[1m0s\u001b[0m 9ms/step - accuracy: 0.7424 - loss: 1.2262 Epoch 027 | loss=1.2231, acc=0.7437 | val_loss=1.2709, val_acc=0.6875 | 0.23s\n",
      "\u001b[1m10/10\u001b[0m \u001b[32m━━━━━━━━━━━━━━━━━━━━\u001b[0m\u001b[37m\u001b[0m \u001b[1m0s\u001b[0m 21ms/step - accuracy: 0.7427 - loss: 1.2255 - val_accuracy: 0.6875 - val_loss: 1.2709 - learning_rate: 1.0000e-04\n",
      "Epoch 28/100\n",
      "\u001b[1m 8/10\u001b[0m \u001b[32m━━━━━━━━━━━━━━━━\u001b[0m\u001b[37m━━━━\u001b[0m \u001b[1m0s\u001b[0m 8ms/step - accuracy: 0.6491 - loss: 1.2469 Epoch 028 | loss=1.2729, acc=0.6519 | val_loss=1.2651, val_acc=0.6750 | 0.23s\n",
      "\u001b[1m10/10\u001b[0m \u001b[32m━━━━━━━━━━━━━━━━━━━━\u001b[0m\u001b[37m\u001b[0m \u001b[1m0s\u001b[0m 20ms/step - accuracy: 0.6484 - loss: 1.2542 - val_accuracy: 0.6750 - val_loss: 1.2651 - learning_rate: 1.0000e-04\n",
      "Epoch 29/100\n",
      "\u001b[1m 7/10\u001b[0m \u001b[32m━━━━━━━━━━━━━━\u001b[0m\u001b[37m━━━━━━\u001b[0m \u001b[1m0s\u001b[0m 8ms/step - accuracy: 0.6388 - loss: 1.2684 Epoch 029 | loss=1.2516, acc=0.6867 | val_loss=1.2596, val_acc=0.6875 | 0.23s\n",
      "\u001b[1m10/10\u001b[0m \u001b[32m━━━━━━━━━━━━━━━━━━━━\u001b[0m\u001b[37m\u001b[0m \u001b[1m0s\u001b[0m 20ms/step - accuracy: 0.6554 - loss: 1.2632 - val_accuracy: 0.6875 - val_loss: 1.2596 - learning_rate: 1.0000e-04\n",
      "Epoch 30/100\n",
      "\u001b[1m 8/10\u001b[0m \u001b[32m━━━━━━━━━━━━━━━━\u001b[0m\u001b[37m━━━━\u001b[0m \u001b[1m0s\u001b[0m 7ms/step - accuracy: 0.7596 - loss: 1.1921 Epoch 030 | loss=1.2034, acc=0.7690 | val_loss=1.2539, val_acc=0.6875 | 0.21s\n",
      "\u001b[1m10/10\u001b[0m \u001b[32m━━━━━━━━━━━━━━━━━━━━\u001b[0m\u001b[37m\u001b[0m \u001b[1m0s\u001b[0m 19ms/step - accuracy: 0.7620 - loss: 1.1946 - val_accuracy: 0.6875 - val_loss: 1.2539 - learning_rate: 1.0000e-04\n",
      "Epoch 31/100\n",
      "\u001b[1m 8/10\u001b[0m \u001b[32m━━━━━━━━━━━━━━━━\u001b[0m\u001b[37m━━━━\u001b[0m \u001b[1m0s\u001b[0m 8ms/step - accuracy: 0.7397 - loss: 1.1859 Epoch 031 | loss=1.2087, acc=0.7184 | val_loss=1.2475, val_acc=0.7125 | 0.21s\n",
      "\u001b[1m10/10\u001b[0m \u001b[32m━━━━━━━━━━━━━━━━━━━━\u001b[0m\u001b[37m\u001b[0m \u001b[1m0s\u001b[0m 19ms/step - accuracy: 0.7333 - loss: 1.1921 - val_accuracy: 0.7125 - val_loss: 1.2475 - learning_rate: 1.0000e-04\n",
      "Epoch 32/100\n",
      "\u001b[1m 8/10\u001b[0m \u001b[32m━━━━━━━━━━━━━━━━\u001b[0m\u001b[37m━━━━\u001b[0m \u001b[1m0s\u001b[0m 8ms/step - accuracy: 0.7599 - loss: 1.2014 Epoch 032 | loss=1.2016, acc=0.7563 | val_loss=1.2411, val_acc=0.7250 | 0.21s\n",
      "\u001b[1m10/10\u001b[0m \u001b[32m━━━━━━━━━━━━━━━━━━━━\u001b[0m\u001b[37m\u001b[0m \u001b[1m0s\u001b[0m 18ms/step - accuracy: 0.7587 - loss: 1.2012 - val_accuracy: 0.7250 - val_loss: 1.2411 - learning_rate: 1.0000e-04\n",
      "Epoch 33/100\n",
      "\u001b[1m 6/10\u001b[0m \u001b[32m━━━━━━━━━━━━\u001b[0m\u001b[37m━━━━━━━━\u001b[0m \u001b[1m0s\u001b[0m 11ms/step - accuracy: 0.7097 - loss: 1.2130Epoch 033 | loss=1.2308, acc=0.6804 | val_loss=1.2349, val_acc=0.7500 | 0.30s\n",
      "\u001b[1m10/10\u001b[0m \u001b[32m━━━━━━━━━━━━━━━━━━━━\u001b[0m\u001b[37m\u001b[0m \u001b[1m0s\u001b[0m 25ms/step - accuracy: 0.6937 - loss: 1.2222 - val_accuracy: 0.7500 - val_loss: 1.2349 - learning_rate: 1.0000e-04\n",
      "Epoch 34/100\n",
      "\u001b[1m 9/10\u001b[0m \u001b[32m━━━━━━━━━━━━━━━━━━\u001b[0m\u001b[37m━━\u001b[0m \u001b[1m0s\u001b[0m 7ms/step - accuracy: 0.7395 - loss: 1.1933 Epoch 034 | loss=1.2019, acc=0.7184 | val_loss=1.2281, val_acc=0.7500 | 0.21s\n",
      "\u001b[1m10/10\u001b[0m \u001b[32m━━━━━━━━━━━━━━━━━━━━\u001b[0m\u001b[37m\u001b[0m \u001b[1m0s\u001b[0m 15ms/step - accuracy: 0.7357 - loss: 1.1949 - val_accuracy: 0.7500 - val_loss: 1.2281 - learning_rate: 1.0000e-04\n",
      "Epoch 35/100\n",
      "\u001b[1m 9/10\u001b[0m \u001b[32m━━━━━━━━━━━━━━━━━━\u001b[0m\u001b[37m━━\u001b[0m \u001b[1m0s\u001b[0m 7ms/step - accuracy: 0.7621 - loss: 1.1742 Epoch 035 | loss=1.1827, acc=0.7532 | val_loss=1.2214, val_acc=0.7625 | 0.20s\n",
      "\u001b[1m10/10\u001b[0m \u001b[32m━━━━━━━━━━━━━━━━━━━━\u001b[0m\u001b[37m\u001b[0m \u001b[1m0s\u001b[0m 18ms/step - accuracy: 0.7604 - loss: 1.1758 - val_accuracy: 0.7625 - val_loss: 1.2214 - learning_rate: 1.0000e-04\n",
      "Epoch 36/100\n",
      "\u001b[1m 8/10\u001b[0m \u001b[32m━━━━━━━━━━━━━━━━\u001b[0m\u001b[37m━━━━\u001b[0m \u001b[1m0s\u001b[0m 8ms/step - accuracy: 0.7684 - loss: 1.1656 Epoch 036 | loss=1.1823, acc=0.7563 | val_loss=1.2145, val_acc=0.7625 | 0.22s\n",
      "\u001b[1m10/10\u001b[0m \u001b[32m━━━━━━━━━━━━━━━━━━━━\u001b[0m\u001b[37m\u001b[0m \u001b[1m0s\u001b[0m 19ms/step - accuracy: 0.7658 - loss: 1.1697 - val_accuracy: 0.7625 - val_loss: 1.2145 - learning_rate: 1.0000e-04\n",
      "Epoch 37/100\n",
      "\u001b[1m 9/10\u001b[0m \u001b[32m━━━━━━━━━━━━━━━━━━\u001b[0m\u001b[37m━━\u001b[0m \u001b[1m0s\u001b[0m 6ms/step - accuracy: 0.7679 - loss: 1.1777 Epoch 037 | loss=1.1736, acc=0.7500 | val_loss=1.2079, val_acc=0.7625 | 0.21s\n",
      "\u001b[1m10/10\u001b[0m \u001b[32m━━━━━━━━━━━━━━━━━━━━\u001b[0m\u001b[37m\u001b[0m \u001b[1m0s\u001b[0m 19ms/step - accuracy: 0.7647 - loss: 1.1770 - val_accuracy: 0.7625 - val_loss: 1.2079 - learning_rate: 1.0000e-04\n",
      "Epoch 38/100\n",
      "\u001b[1m 8/10\u001b[0m \u001b[32m━━━━━━━━━━━━━━━━\u001b[0m\u001b[37m━━━━\u001b[0m \u001b[1m0s\u001b[0m 7ms/step - accuracy: 0.7802 - loss: 1.1732 Epoch 038 | loss=1.1604, acc=0.7785 | val_loss=1.2012, val_acc=0.7500 | 0.18s\n",
      "\u001b[1m10/10\u001b[0m \u001b[32m━━━━━━━━━━━━━━━━━━━━\u001b[0m\u001b[37m\u001b[0m \u001b[1m0s\u001b[0m 16ms/step - accuracy: 0.7803 - loss: 1.1700 - val_accuracy: 0.7500 - val_loss: 1.2012 - learning_rate: 1.0000e-04\n",
      "Epoch 39/100\n",
      "\u001b[1m 9/10\u001b[0m \u001b[32m━━━━━━━━━━━━━━━━━━\u001b[0m\u001b[37m━━\u001b[0m \u001b[1m0s\u001b[0m 7ms/step - accuracy: 0.7957 - loss: 1.1500 Epoch 039 | loss=1.1493, acc=0.8006 | val_loss=1.1942, val_acc=0.7500 | 0.21s\n",
      "\u001b[1m10/10\u001b[0m \u001b[32m━━━━━━━━━━━━━━━━━━━━\u001b[0m\u001b[37m\u001b[0m \u001b[1m0s\u001b[0m 19ms/step - accuracy: 0.7966 - loss: 1.1499 - val_accuracy: 0.7500 - val_loss: 1.1942 - learning_rate: 1.0000e-04\n",
      "Epoch 40/100\n",
      "\u001b[1m 9/10\u001b[0m \u001b[32m━━━━━━━━━━━━━━━━━━\u001b[0m\u001b[37m━━\u001b[0m \u001b[1m0s\u001b[0m 7ms/step - accuracy: 0.7543 - loss: 1.1611 Epoch 040 | loss=1.1649, acc=0.7563 | val_loss=1.1875, val_acc=0.7500 | 0.19s\n",
      "\u001b[1m10/10\u001b[0m \u001b[32m━━━━━━━━━━━━━━━━━━━━\u001b[0m\u001b[37m\u001b[0m \u001b[1m0s\u001b[0m 17ms/step - accuracy: 0.7546 - loss: 1.1618 - val_accuracy: 0.7500 - val_loss: 1.1875 - learning_rate: 1.0000e-04\n",
      "Epoch 41/100\n",
      "\u001b[1m 9/10\u001b[0m \u001b[32m━━━━━━━━━━━━━━━━━━\u001b[0m\u001b[37m━━\u001b[0m \u001b[1m0s\u001b[0m 7ms/step - accuracy: 0.7686 - loss: 1.1424 Epoch 041 | loss=1.1373, acc=0.7627 | val_loss=1.1803, val_acc=0.7500 | 0.20s\n",
      "\u001b[1m10/10\u001b[0m \u001b[32m━━━━━━━━━━━━━━━━━━━━\u001b[0m\u001b[37m\u001b[0m \u001b[1m0s\u001b[0m 18ms/step - accuracy: 0.7675 - loss: 1.1414 - val_accuracy: 0.7500 - val_loss: 1.1803 - learning_rate: 1.0000e-04\n",
      "Epoch 42/100\n",
      "\u001b[1m 8/10\u001b[0m \u001b[32m━━━━━━━━━━━━━━━━\u001b[0m\u001b[37m━━━━\u001b[0m \u001b[1m0s\u001b[0m 7ms/step - accuracy: 0.7918 - loss: 1.1209 Epoch 042 | loss=1.1472, acc=0.7627 | val_loss=1.1735, val_acc=0.7500 | 0.20s\n",
      "\u001b[1m10/10\u001b[0m \u001b[32m━━━━━━━━━━━━━━━━━━━━\u001b[0m\u001b[37m\u001b[0m \u001b[1m0s\u001b[0m 17ms/step - accuracy: 0.7839 - loss: 1.1280 - val_accuracy: 0.7500 - val_loss: 1.1735 - learning_rate: 1.0000e-04\n",
      "Epoch 43/100\n",
      "\u001b[1m 8/10\u001b[0m \u001b[32m━━━━━━━━━━━━━━━━\u001b[0m\u001b[37m━━━━\u001b[0m \u001b[1m0s\u001b[0m 7ms/step - accuracy: 0.7629 - loss: 1.1417 Epoch 043 | loss=1.1317, acc=0.7816 | val_loss=1.1670, val_acc=0.7500 | 0.19s\n",
      "\u001b[1m10/10\u001b[0m \u001b[32m━━━━━━━━━━━━━━━━━━━━\u001b[0m\u001b[37m\u001b[0m \u001b[1m0s\u001b[0m 18ms/step - accuracy: 0.7667 - loss: 1.1399 - val_accuracy: 0.7500 - val_loss: 1.1670 - learning_rate: 1.0000e-04\n",
      "Epoch 44/100\n",
      "\u001b[1m 9/10\u001b[0m \u001b[32m━━━━━━━━━━━━━━━━━━\u001b[0m\u001b[37m━━\u001b[0m \u001b[1m0s\u001b[0m 7ms/step - accuracy: 0.8268 - loss: 1.0869 Epoch 044 | loss=1.1079, acc=0.8259 | val_loss=1.1601, val_acc=0.7500 | 0.21s\n",
      "\u001b[1m10/10\u001b[0m \u001b[32m━━━━━━━━━━━━━━━━━━━━\u001b[0m\u001b[37m\u001b[0m \u001b[1m0s\u001b[0m 19ms/step - accuracy: 0.8266 - loss: 1.0907 - val_accuracy: 0.7500 - val_loss: 1.1601 - learning_rate: 1.0000e-04\n",
      "Epoch 45/100\n",
      "\u001b[1m 9/10\u001b[0m \u001b[32m━━━━━━━━━━━━━━━━━━\u001b[0m\u001b[37m━━\u001b[0m \u001b[1m0s\u001b[0m 7ms/step - accuracy: 0.8349 - loss: 1.0713 Epoch 045 | loss=1.0850, acc=0.8323 | val_loss=1.1526, val_acc=0.7625 | 0.19s\n",
      "\u001b[1m10/10\u001b[0m \u001b[32m━━━━━━━━━━━━━━━━━━━━\u001b[0m\u001b[37m\u001b[0m \u001b[1m0s\u001b[0m 19ms/step - accuracy: 0.8344 - loss: 1.0738 - val_accuracy: 0.7625 - val_loss: 1.1526 - learning_rate: 1.0000e-04\n",
      "Epoch 46/100\n",
      "\u001b[1m 4/10\u001b[0m \u001b[32m━━━━━━━━\u001b[0m\u001b[37m━━━━━━━━━━━━\u001b[0m \u001b[1m0s\u001b[0m 19ms/step - accuracy: 0.8496 - loss: 1.0898Epoch 046 | loss=1.0931, acc=0.8133 | val_loss=1.1466, val_acc=0.7625 | 0.24s\n",
      "\u001b[1m10/10\u001b[0m \u001b[32m━━━━━━━━━━━━━━━━━━━━\u001b[0m\u001b[37m\u001b[0m \u001b[1m0s\u001b[0m 21ms/step - accuracy: 0.8361 - loss: 1.0873 - val_accuracy: 0.7625 - val_loss: 1.1466 - learning_rate: 1.0000e-04\n",
      "Epoch 47/100\n",
      "\u001b[1m 9/10\u001b[0m \u001b[32m━━━━━━━━━━━━━━━━━━\u001b[0m\u001b[37m━━\u001b[0m \u001b[1m0s\u001b[0m 7ms/step - accuracy: 0.7663 - loss: 1.1022 Epoch 047 | loss=1.0920, acc=0.7943 | val_loss=1.1403, val_acc=0.7625 | 0.23s\n",
      "\u001b[1m10/10\u001b[0m \u001b[32m━━━━━━━━━━━━━━━━━━━━\u001b[0m\u001b[37m\u001b[0m \u001b[1m0s\u001b[0m 20ms/step - accuracy: 0.7714 - loss: 1.1003 - val_accuracy: 0.7625 - val_loss: 1.1403 - learning_rate: 1.0000e-04\n",
      "Epoch 48/100\n",
      "\u001b[1m 7/10\u001b[0m \u001b[32m━━━━━━━━━━━━━━\u001b[0m\u001b[37m━━━━━━\u001b[0m \u001b[1m0s\u001b[0m 8ms/step - accuracy: 0.7302 - loss: 1.1176 Epoch 048 | loss=1.0789, acc=0.8165 | val_loss=1.1340, val_acc=0.7750 | 0.22s\n",
      "\u001b[1m10/10\u001b[0m \u001b[32m━━━━━━━━━━━━━━━━━━━━\u001b[0m\u001b[37m\u001b[0m \u001b[1m0s\u001b[0m 20ms/step - accuracy: 0.7619 - loss: 1.1044 - val_accuracy: 0.7750 - val_loss: 1.1340 - learning_rate: 1.0000e-04\n",
      "Epoch 49/100\n",
      "\u001b[1m 8/10\u001b[0m \u001b[32m━━━━━━━━━━━━━━━━\u001b[0m\u001b[37m━━━━\u001b[0m \u001b[1m0s\u001b[0m 8ms/step - accuracy: 0.7872 - loss: 1.0988 Epoch 049 | loss=1.0759, acc=0.8228 | val_loss=1.1282, val_acc=0.7875 | 0.21s\n",
      "\u001b[1m10/10\u001b[0m \u001b[32m━━━━━━━━━━━━━━━━━━━━\u001b[0m\u001b[37m\u001b[0m \u001b[1m0s\u001b[0m 19ms/step - accuracy: 0.7972 - loss: 1.0928 - val_accuracy: 0.7875 - val_loss: 1.1282 - learning_rate: 1.0000e-04\n",
      "Epoch 50/100\n",
      "\u001b[1m 7/10\u001b[0m \u001b[32m━━━━━━━━━━━━━━\u001b[0m\u001b[37m━━━━━━\u001b[0m \u001b[1m0s\u001b[0m 9ms/step - accuracy: 0.8101 - loss: 1.0776 Epoch 050 | loss=1.0703, acc=0.8133 | val_loss=1.1223, val_acc=0.7875 | 0.20s\n",
      "\u001b[1m10/10\u001b[0m \u001b[32m━━━━━━━━━━━━━━━━━━━━\u001b[0m\u001b[37m\u001b[0m \u001b[1m0s\u001b[0m 19ms/step - accuracy: 0.8105 - loss: 1.0746 - val_accuracy: 0.7875 - val_loss: 1.1223 - learning_rate: 1.0000e-04\n",
      "Epoch 51/100\n",
      "\u001b[1m 9/10\u001b[0m \u001b[32m━━━━━━━━━━━━━━━━━━\u001b[0m\u001b[37m━━\u001b[0m \u001b[1m0s\u001b[0m 7ms/step - accuracy: 0.8097 - loss: 1.0586 Epoch 051 | loss=1.0456, acc=0.8386 | val_loss=1.1165, val_acc=0.7875 | 0.22s\n",
      "\u001b[1m10/10\u001b[0m \u001b[32m━━━━━━━━━━━━━━━━━━━━\u001b[0m\u001b[37m\u001b[0m \u001b[1m0s\u001b[0m 19ms/step - accuracy: 0.8150 - loss: 1.0563 - val_accuracy: 0.7875 - val_loss: 1.1165 - learning_rate: 1.0000e-04\n",
      "Epoch 52/100\n",
      "\u001b[1m 8/10\u001b[0m \u001b[32m━━━━━━━━━━━━━━━━\u001b[0m\u001b[37m━━━━\u001b[0m \u001b[1m0s\u001b[0m 8ms/step - accuracy: 0.8729 - loss: 1.0188 Epoch 052 | loss=1.0087, acc=0.8766 | val_loss=1.1107, val_acc=0.7750 | 0.19s\n",
      "\u001b[1m10/10\u001b[0m \u001b[32m━━━━━━━━━━━━━━━━━━━━\u001b[0m\u001b[37m\u001b[0m \u001b[1m0s\u001b[0m 18ms/step - accuracy: 0.8738 - loss: 1.0168 - val_accuracy: 0.7750 - val_loss: 1.1107 - learning_rate: 1.0000e-04\n",
      "Epoch 53/100\n",
      "\u001b[1m 9/10\u001b[0m \u001b[32m━━━━━━━━━━━━━━━━━━\u001b[0m\u001b[37m━━\u001b[0m \u001b[1m0s\u001b[0m 7ms/step - accuracy: 0.8444 - loss: 1.0539 Epoch 053 | loss=1.0360, acc=0.8544 | val_loss=1.1047, val_acc=0.7750 | 0.21s\n",
      "\u001b[1m10/10\u001b[0m \u001b[32m━━━━━━━━━━━━━━━━━━━━\u001b[0m\u001b[37m\u001b[0m \u001b[1m0s\u001b[0m 18ms/step - accuracy: 0.8462 - loss: 1.0506 - val_accuracy: 0.7750 - val_loss: 1.1047 - learning_rate: 1.0000e-04\n",
      "Epoch 54/100\n",
      "\u001b[1m 7/10\u001b[0m \u001b[32m━━━━━━━━━━━━━━\u001b[0m\u001b[37m━━━━━━\u001b[0m \u001b[1m0s\u001b[0m 9ms/step - accuracy: 0.8259 - loss: 1.0242 Epoch 054 | loss=1.0139, acc=0.8608 | val_loss=1.0984, val_acc=0.7750 | 0.22s\n",
      "\u001b[1m10/10\u001b[0m \u001b[32m━━━━━━━━━━━━━━━━━━━━\u001b[0m\u001b[37m\u001b[0m \u001b[1m0s\u001b[0m 20ms/step - accuracy: 0.8382 - loss: 1.0207 - val_accuracy: 0.7750 - val_loss: 1.0984 - learning_rate: 1.0000e-04\n",
      "Epoch 55/100\n",
      "\u001b[1m 7/10\u001b[0m \u001b[32m━━━━━━━━━━━━━━\u001b[0m\u001b[37m━━━━━━\u001b[0m \u001b[1m0s\u001b[0m 8ms/step - accuracy: 0.8368 - loss: 1.0394 Epoch 055 | loss=1.0437, acc=0.8291 | val_loss=1.0928, val_acc=0.7875 | 0.21s\n",
      "\u001b[1m10/10\u001b[0m \u001b[32m━━━━━━━━━━━━━━━━━━━━\u001b[0m\u001b[37m\u001b[0m \u001b[1m0s\u001b[0m 19ms/step - accuracy: 0.8337 - loss: 1.0411 - val_accuracy: 0.7875 - val_loss: 1.0928 - learning_rate: 1.0000e-04\n",
      "Epoch 56/100\n",
      "\u001b[1m 8/10\u001b[0m \u001b[32m━━━━━━━━━━━━━━━━\u001b[0m\u001b[37m━━━━\u001b[0m \u001b[1m0s\u001b[0m 7ms/step - accuracy: 0.8522 - loss: 1.0179 Epoch 056 | loss=1.0022, acc=0.8766 | val_loss=1.0868, val_acc=0.7875 | 0.20s\n",
      "\u001b[1m10/10\u001b[0m \u001b[32m━━━━━━━━━━━━━━━━━━━━\u001b[0m\u001b[37m\u001b[0m \u001b[1m0s\u001b[0m 18ms/step - accuracy: 0.8597 - loss: 1.0133 - val_accuracy: 0.7875 - val_loss: 1.0868 - learning_rate: 1.0000e-04\n",
      "Epoch 57/100\n",
      "\u001b[1m 8/10\u001b[0m \u001b[32m━━━━━━━━━━━━━━━━\u001b[0m\u001b[37m━━━━\u001b[0m \u001b[1m0s\u001b[0m 7ms/step - accuracy: 0.8469 - loss: 0.9757 Epoch 057 | loss=0.9908, acc=0.8481 | val_loss=1.0812, val_acc=0.7875 | 0.20s\n",
      "\u001b[1m10/10\u001b[0m \u001b[32m━━━━━━━━━━━━━━━━━━━━\u001b[0m\u001b[37m\u001b[0m \u001b[1m0s\u001b[0m 17ms/step - accuracy: 0.8465 - loss: 0.9805 - val_accuracy: 0.7875 - val_loss: 1.0812 - learning_rate: 1.0000e-04\n",
      "Epoch 58/100\n",
      "\u001b[1m 9/10\u001b[0m \u001b[32m━━━━━━━━━━━━━━━━━━\u001b[0m\u001b[37m━━\u001b[0m \u001b[1m0s\u001b[0m 7ms/step - accuracy: 0.8469 - loss: 0.9898 Epoch 058 | loss=0.9898, acc=0.8608 | val_loss=1.0763, val_acc=0.7875 | 0.21s\n",
      "\u001b[1m10/10\u001b[0m \u001b[32m━━━━━━━━━━━━━━━━━━━━\u001b[0m\u001b[37m\u001b[0m \u001b[1m0s\u001b[0m 18ms/step - accuracy: 0.8494 - loss: 0.9898 - val_accuracy: 0.7875 - val_loss: 1.0763 - learning_rate: 1.0000e-04\n",
      "Epoch 59/100\n",
      "\u001b[1m 8/10\u001b[0m \u001b[32m━━━━━━━━━━━━━━━━\u001b[0m\u001b[37m━━━━\u001b[0m \u001b[1m0s\u001b[0m 8ms/step - accuracy: 0.8880 - loss: 0.9763 Epoch 059 | loss=0.9859, acc=0.8639 | val_loss=1.0710, val_acc=0.8000 | 0.20s\n",
      "\u001b[1m10/10\u001b[0m \u001b[32m━━━━━━━━━━━━━━━━━━━━\u001b[0m\u001b[37m\u001b[0m \u001b[1m0s\u001b[0m 18ms/step - accuracy: 0.8818 - loss: 0.9788 - val_accuracy: 0.8000 - val_loss: 1.0710 - learning_rate: 1.0000e-04\n",
      "Epoch 60/100\n",
      "\u001b[1m 8/10\u001b[0m \u001b[32m━━━━━━━━━━━━━━━━\u001b[0m\u001b[37m━━━━\u001b[0m \u001b[1m0s\u001b[0m 8ms/step - accuracy: 0.8722 - loss: 0.9873 Epoch 060 | loss=0.9868, acc=0.8797 | val_loss=1.0668, val_acc=0.8000 | 0.20s\n",
      "\u001b[1m10/10\u001b[0m \u001b[32m━━━━━━━━━━━━━━━━━━━━\u001b[0m\u001b[37m\u001b[0m \u001b[1m0s\u001b[0m 18ms/step - accuracy: 0.8751 - loss: 0.9869 - val_accuracy: 0.8000 - val_loss: 1.0668 - learning_rate: 1.0000e-04\n",
      "Epoch 61/100\n",
      "\u001b[1m10/10\u001b[0m \u001b[32m━━━━━━━━━━━━━━━━━━━━\u001b[0m\u001b[37m\u001b[0m \u001b[1m0s\u001b[0m 6ms/step - accuracy: 0.8838 - loss: 0.9829 Epoch 061 | loss=0.9652, acc=0.8924 | val_loss=1.0622, val_acc=0.7875 | 0.19s\n",
      "\u001b[1m10/10\u001b[0m \u001b[32m━━━━━━━━━━━━━━━━━━━━\u001b[0m\u001b[37m\u001b[0m \u001b[1m0s\u001b[0m 17ms/step - accuracy: 0.8845 - loss: 0.9813 - val_accuracy: 0.7875 - val_loss: 1.0622 - learning_rate: 1.0000e-04\n",
      "Epoch 62/100\n",
      "\u001b[1m 9/10\u001b[0m \u001b[32m━━━━━━━━━━━━━━━━━━\u001b[0m\u001b[37m━━\u001b[0m \u001b[1m0s\u001b[0m 7ms/step - accuracy: 0.8488 - loss: 0.9973 Epoch 062 | loss=0.9785, acc=0.8639 | val_loss=1.0577, val_acc=0.8000 | 0.19s\n",
      "\u001b[1m10/10\u001b[0m \u001b[32m━━━━━━━━━━━━━━━━━━━━\u001b[0m\u001b[37m\u001b[0m \u001b[1m0s\u001b[0m 17ms/step - accuracy: 0.8515 - loss: 0.9939 - val_accuracy: 0.8000 - val_loss: 1.0577 - learning_rate: 1.0000e-04\n",
      "Epoch 63/100\n",
      "\u001b[1m 7/10\u001b[0m \u001b[32m━━━━━━━━━━━━━━\u001b[0m\u001b[37m━━━━━━\u001b[0m \u001b[1m0s\u001b[0m 9ms/step - accuracy: 0.9131 - loss: 0.9245 Epoch 063 | loss=0.9472, acc=0.8797 | val_loss=1.0534, val_acc=0.8000 | 0.20s\n",
      "\u001b[1m10/10\u001b[0m \u001b[32m━━━━━━━━━━━━━━━━━━━━\u001b[0m\u001b[37m\u001b[0m \u001b[1m0s\u001b[0m 18ms/step - accuracy: 0.9025 - loss: 0.9323 - val_accuracy: 0.8000 - val_loss: 1.0534 - learning_rate: 1.0000e-04\n",
      "Epoch 64/100\n",
      "\u001b[1m 9/10\u001b[0m \u001b[32m━━━━━━━━━━━━━━━━━━\u001b[0m\u001b[37m━━\u001b[0m \u001b[1m0s\u001b[0m 7ms/step - accuracy: 0.8867 - loss: 0.9539 Epoch 064 | loss=0.9545, acc=0.8892 | val_loss=1.0494, val_acc=0.7875 | 0.23s\n",
      "\u001b[1m10/10\u001b[0m \u001b[32m━━━━━━━━━━━━━━━━━━━━\u001b[0m\u001b[37m\u001b[0m \u001b[1m0s\u001b[0m 21ms/step - accuracy: 0.8872 - loss: 0.9540 - val_accuracy: 0.7875 - val_loss: 1.0494 - learning_rate: 1.0000e-04\n",
      "Epoch 65/100\n",
      "\u001b[1m 8/10\u001b[0m \u001b[32m━━━━━━━━━━━━━━━━\u001b[0m\u001b[37m━━━━\u001b[0m \u001b[1m0s\u001b[0m 8ms/step - accuracy: 0.9130 - loss: 0.9425 Epoch 065 | loss=0.9473, acc=0.9209 | val_loss=1.0446, val_acc=0.8000 | 0.20s\n",
      "\u001b[1m10/10\u001b[0m \u001b[32m━━━━━━━━━━━━━━━━━━━━\u001b[0m\u001b[37m\u001b[0m \u001b[1m0s\u001b[0m 18ms/step - accuracy: 0.9151 - loss: 0.9432 - val_accuracy: 0.8000 - val_loss: 1.0446 - learning_rate: 1.0000e-04\n",
      "Epoch 66/100\n",
      "\u001b[1m 7/10\u001b[0m \u001b[32m━━━━━━━━━━━━━━\u001b[0m\u001b[37m━━━━━━\u001b[0m \u001b[1m0s\u001b[0m 9ms/step - accuracy: 0.8862 - loss: 0.9223 Epoch 066 | loss=0.9148, acc=0.9114 | val_loss=1.0400, val_acc=0.8000 | 0.23s\n",
      "\u001b[1m10/10\u001b[0m \u001b[32m━━━━━━━━━━━━━━━━━━━━\u001b[0m\u001b[37m\u001b[0m \u001b[1m0s\u001b[0m 19ms/step - accuracy: 0.8937 - loss: 0.9211 - val_accuracy: 0.8000 - val_loss: 1.0400 - learning_rate: 1.0000e-04\n",
      "Epoch 67/100\n",
      "\u001b[1m 7/10\u001b[0m \u001b[32m━━━━━━━━━━━━━━\u001b[0m\u001b[37m━━━━━━\u001b[0m \u001b[1m0s\u001b[0m 9ms/step - accuracy: 0.9313 - loss: 0.9004 Epoch 067 | loss=0.9225, acc=0.9241 | val_loss=1.0351, val_acc=0.8000 | 0.21s\n",
      "\u001b[1m10/10\u001b[0m \u001b[32m━━━━━━━━━━━━━━━━━━━━\u001b[0m\u001b[37m\u001b[0m \u001b[1m0s\u001b[0m 19ms/step - accuracy: 0.9287 - loss: 0.9082 - val_accuracy: 0.8000 - val_loss: 1.0351 - learning_rate: 1.0000e-04\n",
      "Epoch 68/100\n",
      "\u001b[1m 9/10\u001b[0m \u001b[32m━━━━━━━━━━━━━━━━━━\u001b[0m\u001b[37m━━\u001b[0m \u001b[1m0s\u001b[0m 7ms/step - accuracy: 0.9014 - loss: 0.9006 Epoch 068 | loss=0.9024, acc=0.9051 | val_loss=1.0316, val_acc=0.8000 | 0.21s\n",
      "\u001b[1m10/10\u001b[0m \u001b[32m━━━━━━━━━━━━━━━━━━━━\u001b[0m\u001b[37m\u001b[0m \u001b[1m0s\u001b[0m 20ms/step - accuracy: 0.9020 - loss: 0.9009 - val_accuracy: 0.8000 - val_loss: 1.0316 - learning_rate: 1.0000e-04\n",
      "Epoch 69/100\n",
      "\u001b[1m 8/10\u001b[0m \u001b[32m━━━━━━━━━━━━━━━━\u001b[0m\u001b[37m━━━━\u001b[0m \u001b[1m0s\u001b[0m 8ms/step - accuracy: 0.9098 - loss: 0.9201 Epoch 069 | loss=0.9197, acc=0.9051 | val_loss=1.0290, val_acc=0.7875 | 0.22s\n",
      "\u001b[1m10/10\u001b[0m \u001b[32m━━━━━━━━━━━━━━━━━━━━\u001b[0m\u001b[37m\u001b[0m \u001b[1m0s\u001b[0m 19ms/step - accuracy: 0.9080 - loss: 0.9204 - val_accuracy: 0.7875 - val_loss: 1.0290 - learning_rate: 1.0000e-04\n",
      "Epoch 70/100\n",
      "\u001b[1m 8/10\u001b[0m \u001b[32m━━━━━━━━━━━━━━━━\u001b[0m\u001b[37m━━━━\u001b[0m \u001b[1m0s\u001b[0m 8ms/step - accuracy: 0.9332 - loss: 0.8924 Epoch 070 | loss=0.9186, acc=0.9019 | val_loss=1.0266, val_acc=0.7875 | 0.23s\n",
      "\u001b[1m10/10\u001b[0m \u001b[32m━━━━━━━━━━━━━━━━━━━━\u001b[0m\u001b[37m\u001b[0m \u001b[1m0s\u001b[0m 18ms/step - accuracy: 0.9251 - loss: 0.8994 - val_accuracy: 0.7875 - val_loss: 1.0266 - learning_rate: 1.0000e-04\n",
      "Epoch 71/100\n",
      "\u001b[1m 7/10\u001b[0m \u001b[32m━━━━━━━━━━━━━━\u001b[0m\u001b[37m━━━━━━\u001b[0m \u001b[1m0s\u001b[0m 9ms/step - accuracy: 0.8764 - loss: 0.9088 Epoch 071 | loss=0.9041, acc=0.8829 | val_loss=1.0236, val_acc=0.7875 | 0.22s\n",
      "\u001b[1m10/10\u001b[0m \u001b[32m━━━━━━━━━━━━━━━━━━━━\u001b[0m\u001b[37m\u001b[0m \u001b[1m0s\u001b[0m 20ms/step - accuracy: 0.8793 - loss: 0.9058 - val_accuracy: 0.7875 - val_loss: 1.0236 - learning_rate: 1.0000e-04\n",
      "Epoch 72/100\n",
      "\u001b[1m 8/10\u001b[0m \u001b[32m━━━━━━━━━━━━━━━━\u001b[0m\u001b[37m━━━━\u001b[0m \u001b[1m0s\u001b[0m 8ms/step - accuracy: 0.8981 - loss: 0.9115 Epoch 072 | loss=0.8817, acc=0.9146 | val_loss=1.0190, val_acc=0.7875 | 0.19s\n",
      "\u001b[1m10/10\u001b[0m \u001b[32m━━━━━━━━━━━━━━━━━━━━\u001b[0m\u001b[37m\u001b[0m \u001b[1m0s\u001b[0m 17ms/step - accuracy: 0.9018 - loss: 0.9040 - val_accuracy: 0.7875 - val_loss: 1.0190 - learning_rate: 1.0000e-04\n",
      "Epoch 73/100\n",
      "\u001b[1m 8/10\u001b[0m \u001b[32m━━━━━━━━━━━━━━━━\u001b[0m\u001b[37m━━━━\u001b[0m \u001b[1m0s\u001b[0m 8ms/step - accuracy: 0.8925 - loss: 0.9414 Epoch 073 | loss=0.9014, acc=0.9082 | val_loss=1.0142, val_acc=0.8000 | 0.21s\n",
      "\u001b[1m10/10\u001b[0m \u001b[32m━━━━━━━━━━━━━━━━━━━━\u001b[0m\u001b[37m\u001b[0m \u001b[1m0s\u001b[0m 19ms/step - accuracy: 0.8969 - loss: 0.9304 - val_accuracy: 0.8000 - val_loss: 1.0142 - learning_rate: 1.0000e-04\n",
      "Epoch 74/100\n",
      "\u001b[1m 7/10\u001b[0m \u001b[32m━━━━━━━━━━━━━━\u001b[0m\u001b[37m━━━━━━\u001b[0m \u001b[1m0s\u001b[0m 9ms/step - accuracy: 0.9281 - loss: 0.8929 Epoch 074 | loss=0.8822, acc=0.9430 | val_loss=1.0099, val_acc=0.8000 | 0.24s\n",
      "\u001b[1m10/10\u001b[0m \u001b[32m━━━━━━━━━━━━━━━━━━━━\u001b[0m\u001b[37m\u001b[0m \u001b[1m0s\u001b[0m 22ms/step - accuracy: 0.9335 - loss: 0.8880 - val_accuracy: 0.8000 - val_loss: 1.0099 - learning_rate: 1.0000e-04\n",
      "Epoch 75/100\n",
      "\u001b[1m 7/10\u001b[0m \u001b[32m━━━━━━━━━━━━━━\u001b[0m\u001b[37m━━━━━━\u001b[0m \u001b[1m0s\u001b[0m 9ms/step - accuracy: 0.9176 - loss: 0.8753 Epoch 075 | loss=0.8788, acc=0.9146 | val_loss=1.0063, val_acc=0.8000 | 0.22s\n",
      "\u001b[1m10/10\u001b[0m \u001b[32m━━━━━━━━━━━━━━━━━━━━\u001b[0m\u001b[37m\u001b[0m \u001b[1m0s\u001b[0m 20ms/step - accuracy: 0.9150 - loss: 0.8781 - val_accuracy: 0.8000 - val_loss: 1.0063 - learning_rate: 1.0000e-04\n",
      "Epoch 76/100\n",
      "\u001b[1m 8/10\u001b[0m \u001b[32m━━━━━━━━━━━━━━━━\u001b[0m\u001b[37m━━━━\u001b[0m \u001b[1m0s\u001b[0m 7ms/step - accuracy: 0.9499 - loss: 0.8393 Epoch 076 | loss=0.8652, acc=0.9335 | val_loss=1.0020, val_acc=0.8000 | 0.23s\n",
      "\u001b[1m10/10\u001b[0m \u001b[32m━━━━━━━━━━━━━━━━━━━━\u001b[0m\u001b[37m\u001b[0m \u001b[1m0s\u001b[0m 21ms/step - accuracy: 0.9455 - loss: 0.8461 - val_accuracy: 0.8000 - val_loss: 1.0020 - learning_rate: 1.0000e-04\n",
      "Epoch 77/100\n",
      "\u001b[1m 8/10\u001b[0m \u001b[32m━━━━━━━━━━━━━━━━\u001b[0m\u001b[37m━━━━\u001b[0m \u001b[1m0s\u001b[0m 8ms/step - accuracy: 0.8914 - loss: 0.8983 Epoch 077 | loss=0.8650, acc=0.9146 | val_loss=0.9976, val_acc=0.8000 | 0.21s\n",
      "\u001b[1m10/10\u001b[0m \u001b[32m━━━━━━━━━━━━━━━━━━━━\u001b[0m\u001b[37m\u001b[0m \u001b[1m0s\u001b[0m 19ms/step - accuracy: 0.8982 - loss: 0.8887 - val_accuracy: 0.8000 - val_loss: 0.9976 - learning_rate: 1.0000e-04\n",
      "Epoch 78/100\n",
      "\u001b[1m 8/10\u001b[0m \u001b[32m━━━━━━━━━━━━━━━━\u001b[0m\u001b[37m━━━━\u001b[0m \u001b[1m0s\u001b[0m 8ms/step - accuracy: 0.9194 - loss: 0.8775 Epoch 078 | loss=0.8612, acc=0.9335 | val_loss=0.9948, val_acc=0.8000 | 0.23s\n",
      "\u001b[1m10/10\u001b[0m \u001b[32m━━━━━━━━━━━━━━━━━━━━\u001b[0m\u001b[37m\u001b[0m \u001b[1m0s\u001b[0m 21ms/step - accuracy: 0.9230 - loss: 0.8738 - val_accuracy: 0.8000 - val_loss: 0.9948 - learning_rate: 1.0000e-04\n",
      "Epoch 79/100\n",
      "\u001b[1m 8/10\u001b[0m \u001b[32m━━━━━━━━━━━━━━━━\u001b[0m\u001b[37m━━━━\u001b[0m \u001b[1m0s\u001b[0m 8ms/step - accuracy: 0.9310 - loss: 0.8493 Epoch 079 | loss=0.8595, acc=0.9335 | val_loss=0.9908, val_acc=0.8000 | 0.21s\n",
      "\u001b[1m10/10\u001b[0m \u001b[32m━━━━━━━━━━━━━━━━━━━━\u001b[0m\u001b[37m\u001b[0m \u001b[1m0s\u001b[0m 19ms/step - accuracy: 0.9324 - loss: 0.8510 - val_accuracy: 0.8000 - val_loss: 0.9908 - learning_rate: 1.0000e-04\n",
      "Epoch 80/100\n",
      "\u001b[1m 9/10\u001b[0m \u001b[32m━━━━━━━━━━━━━━━━━━\u001b[0m\u001b[37m━━\u001b[0m \u001b[1m0s\u001b[0m 7ms/step - accuracy: 0.9306 - loss: 0.8567 Epoch 080 | loss=0.8469, acc=0.9304 | val_loss=0.9888, val_acc=0.8000 | 0.21s\n",
      "\u001b[1m10/10\u001b[0m \u001b[32m━━━━━━━━━━━━━━━━━━━━\u001b[0m\u001b[37m\u001b[0m \u001b[1m0s\u001b[0m 19ms/step - accuracy: 0.9305 - loss: 0.8549 - val_accuracy: 0.8000 - val_loss: 0.9888 - learning_rate: 1.0000e-04\n",
      "Epoch 81/100\n",
      "\u001b[1m 8/10\u001b[0m \u001b[32m━━━━━━━━━━━━━━━━\u001b[0m\u001b[37m━━━━\u001b[0m \u001b[1m0s\u001b[0m 8ms/step - accuracy: 0.9354 - loss: 0.8360 Epoch 081 | loss=0.8621, acc=0.9051 | val_loss=0.9857, val_acc=0.8000 | 0.21s\n",
      "\u001b[1m10/10\u001b[0m \u001b[32m━━━━━━━━━━━━━━━━━━━━\u001b[0m\u001b[37m\u001b[0m \u001b[1m0s\u001b[0m 19ms/step - accuracy: 0.9279 - loss: 0.8422 - val_accuracy: 0.8000 - val_loss: 0.9857 - learning_rate: 1.0000e-04\n",
      "Epoch 82/100\n",
      "\u001b[1m 7/10\u001b[0m \u001b[32m━━━━━━━━━━━━━━\u001b[0m\u001b[37m━━━━━━\u001b[0m \u001b[1m0s\u001b[0m 9ms/step - accuracy: 0.9482 - loss: 0.8001 Epoch 082 | loss=0.8297, acc=0.9272 | val_loss=0.9826, val_acc=0.8000 | 0.22s\n",
      "\u001b[1m10/10\u001b[0m \u001b[32m━━━━━━━━━━━━━━━━━━━━\u001b[0m\u001b[37m\u001b[0m \u001b[1m0s\u001b[0m 19ms/step - accuracy: 0.9418 - loss: 0.8108 - val_accuracy: 0.8000 - val_loss: 0.9826 - learning_rate: 1.0000e-04\n",
      "Epoch 83/100\n",
      "\u001b[1m 7/10\u001b[0m \u001b[32m━━━━━━━━━━━━━━\u001b[0m\u001b[37m━━━━━━\u001b[0m \u001b[1m0s\u001b[0m 8ms/step - accuracy: 0.9237 - loss: 0.8425 Epoch 083 | loss=0.8311, acc=0.9430 | val_loss=0.9787, val_acc=0.8000 | 0.21s\n",
      "\u001b[1m10/10\u001b[0m \u001b[32m━━━━━━━━━━━━━━━━━━━━\u001b[0m\u001b[37m\u001b[0m \u001b[1m0s\u001b[0m 20ms/step - accuracy: 0.9310 - loss: 0.8374 - val_accuracy: 0.8000 - val_loss: 0.9787 - learning_rate: 1.0000e-04\n",
      "Epoch 84/100\n",
      "\u001b[1m 9/10\u001b[0m \u001b[32m━━━━━━━━━━━━━━━━━━\u001b[0m\u001b[37m━━\u001b[0m \u001b[1m0s\u001b[0m 7ms/step - accuracy: 0.9840 - loss: 0.7999 Epoch 084 | loss=0.8192, acc=0.9620 | val_loss=0.9765, val_acc=0.8000 | 0.22s\n",
      "\u001b[1m10/10\u001b[0m \u001b[32m━━━━━━━━━━━━━━━━━━━━\u001b[0m\u001b[37m\u001b[0m \u001b[1m0s\u001b[0m 21ms/step - accuracy: 0.9800 - loss: 0.8034 - val_accuracy: 0.8000 - val_loss: 0.9765 - learning_rate: 1.0000e-04\n",
      "Epoch 85/100\n",
      "\u001b[1m 8/10\u001b[0m \u001b[32m━━━━━━━━━━━━━━━━\u001b[0m\u001b[37m━━━━\u001b[0m \u001b[1m0s\u001b[0m 8ms/step - accuracy: 0.9376 - loss: 0.8237 Epoch 085 | loss=0.8092, acc=0.9494 | val_loss=0.9746, val_acc=0.8000 | 0.22s\n",
      "\u001b[1m10/10\u001b[0m \u001b[32m━━━━━━━━━━━━━━━━━━━━\u001b[0m\u001b[37m\u001b[0m \u001b[1m0s\u001b[0m 20ms/step - accuracy: 0.9403 - loss: 0.8204 - val_accuracy: 0.8000 - val_loss: 0.9746 - learning_rate: 1.0000e-04\n",
      "Epoch 86/100\n",
      "\u001b[1m 6/10\u001b[0m \u001b[32m━━━━━━━━━━━━\u001b[0m\u001b[37m━━━━━━━━\u001b[0m \u001b[1m0s\u001b[0m 13ms/step - accuracy: 0.9701 - loss: 0.7867Epoch 086 | loss=0.8170, acc=0.9430 | val_loss=0.9715, val_acc=0.8000 | 0.25s\n",
      "\u001b[1m10/10\u001b[0m \u001b[32m━━━━━━━━━━━━━━━━━━━━\u001b[0m\u001b[37m\u001b[0m \u001b[1m0s\u001b[0m 23ms/step - accuracy: 0.9595 - loss: 0.7988 - val_accuracy: 0.8000 - val_loss: 0.9715 - learning_rate: 1.0000e-04\n",
      "Epoch 87/100\n",
      "\u001b[1m 7/10\u001b[0m \u001b[32m━━━━━━━━━━━━━━\u001b[0m\u001b[37m━━━━━━\u001b[0m \u001b[1m0s\u001b[0m 9ms/step - accuracy: 0.9211 - loss: 0.8102 Epoch 087 | loss=0.8188, acc=0.9335 | val_loss=0.9702, val_acc=0.8000 | 0.23s\n",
      "\u001b[1m10/10\u001b[0m \u001b[32m━━━━━━━━━━━━━━━━━━━━\u001b[0m\u001b[37m\u001b[0m \u001b[1m0s\u001b[0m 20ms/step - accuracy: 0.9253 - loss: 0.8135 - val_accuracy: 0.8000 - val_loss: 0.9702 - learning_rate: 1.0000e-04\n",
      "Epoch 88/100\n",
      "\u001b[1m 7/10\u001b[0m \u001b[32m━━━━━━━━━━━━━━\u001b[0m\u001b[37m━━━━━━\u001b[0m \u001b[1m0s\u001b[0m 9ms/step - accuracy: 0.9515 - loss: 0.7837 Epoch 088 | loss=0.7831, acc=0.9525 | val_loss=0.9684, val_acc=0.8125 | 0.23s\n",
      "\u001b[1m10/10\u001b[0m \u001b[32m━━━━━━━━━━━━━━━━━━━━\u001b[0m\u001b[37m\u001b[0m \u001b[1m0s\u001b[0m 20ms/step - accuracy: 0.9518 - loss: 0.7834 - val_accuracy: 0.8125 - val_loss: 0.9684 - learning_rate: 1.0000e-04\n",
      "Epoch 89/100\n",
      "\u001b[1m 7/10\u001b[0m \u001b[32m━━━━━━━━━━━━━━\u001b[0m\u001b[37m━━━━━━\u001b[0m \u001b[1m0s\u001b[0m 9ms/step - accuracy: 0.9403 - loss: 0.8175 Epoch 089 | loss=0.8113, acc=0.9399 | val_loss=0.9645, val_acc=0.8125 | 0.23s\n",
      "\u001b[1m10/10\u001b[0m \u001b[32m━━━━━━━━━━━━━━━━━━━━\u001b[0m\u001b[37m\u001b[0m \u001b[1m0s\u001b[0m 19ms/step - accuracy: 0.9400 - loss: 0.8148 - val_accuracy: 0.8125 - val_loss: 0.9645 - learning_rate: 1.0000e-04\n",
      "Epoch 90/100\n",
      "\u001b[1m 8/10\u001b[0m \u001b[32m━━━━━━━━━━━━━━━━\u001b[0m\u001b[37m━━━━\u001b[0m \u001b[1m0s\u001b[0m 7ms/step - accuracy: 0.9466 - loss: 0.8116 Epoch 090 | loss=0.8073, acc=0.9367 | val_loss=0.9621, val_acc=0.8250 | 0.21s\n",
      "\u001b[1m10/10\u001b[0m \u001b[32m━━━━━━━━━━━━━━━━━━━━\u001b[0m\u001b[37m\u001b[0m \u001b[1m0s\u001b[0m 18ms/step - accuracy: 0.9434 - loss: 0.8113 - val_accuracy: 0.8250 - val_loss: 0.9621 - learning_rate: 1.0000e-04\n",
      "Epoch 91/100\n",
      "\u001b[1m 8/10\u001b[0m \u001b[32m━━━━━━━━━━━━━━━━\u001b[0m\u001b[37m━━━━\u001b[0m \u001b[1m0s\u001b[0m 8ms/step - accuracy: 0.9655 - loss: 0.7929 Epoch 091 | loss=0.7966, acc=0.9525 | val_loss=0.9600, val_acc=0.8375 | 0.23s\n",
      "\u001b[1m10/10\u001b[0m \u001b[32m━━━━━━━━━━━━━━━━━━━━\u001b[0m\u001b[37m\u001b[0m \u001b[1m0s\u001b[0m 20ms/step - accuracy: 0.9622 - loss: 0.7943 - val_accuracy: 0.8375 - val_loss: 0.9600 - learning_rate: 1.0000e-04\n",
      "Epoch 92/100\n",
      "\u001b[1m 8/10\u001b[0m \u001b[32m━━━━━━━━━━━━━━━━\u001b[0m\u001b[37m━━━━\u001b[0m \u001b[1m0s\u001b[0m 8ms/step - accuracy: 0.9714 - loss: 0.7631 Epoch 092 | loss=0.7587, acc=0.9684 | val_loss=0.9562, val_acc=0.8250 | 0.22s\n",
      "\u001b[1m10/10\u001b[0m \u001b[32m━━━━━━━━━━━━━━━━━━━━\u001b[0m\u001b[37m\u001b[0m \u001b[1m0s\u001b[0m 19ms/step - accuracy: 0.9703 - loss: 0.7623 - val_accuracy: 0.8250 - val_loss: 0.9562 - learning_rate: 1.0000e-04\n",
      "Epoch 93/100\n",
      "\u001b[1m 7/10\u001b[0m \u001b[32m━━━━━━━━━━━━━━\u001b[0m\u001b[37m━━━━━━\u001b[0m \u001b[1m0s\u001b[0m 9ms/step - accuracy: 0.9590 - loss: 0.7461 Epoch 093 | loss=0.7707, acc=0.9557 | val_loss=0.9529, val_acc=0.8250 | 0.21s\n",
      "\u001b[1m10/10\u001b[0m \u001b[32m━━━━━━━━━━━━━━━━━━━━\u001b[0m\u001b[37m\u001b[0m \u001b[1m0s\u001b[0m 19ms/step - accuracy: 0.9578 - loss: 0.7547 - val_accuracy: 0.8250 - val_loss: 0.9529 - learning_rate: 1.0000e-04\n",
      "Epoch 94/100\n",
      "\u001b[1m 7/10\u001b[0m \u001b[32m━━━━━━━━━━━━━━\u001b[0m\u001b[37m━━━━━━\u001b[0m \u001b[1m0s\u001b[0m 9ms/step - accuracy: 0.9898 - loss: 0.7378 Epoch 094 | loss=0.7569, acc=0.9620 | val_loss=0.9494, val_acc=0.8375 | 0.21s\n",
      "\u001b[1m10/10\u001b[0m \u001b[32m━━━━━━━━━━━━━━━━━━━━\u001b[0m\u001b[37m\u001b[0m \u001b[1m0s\u001b[0m 20ms/step - accuracy: 0.9806 - loss: 0.7429 - val_accuracy: 0.8375 - val_loss: 0.9494 - learning_rate: 1.0000e-04\n",
      "Epoch 95/100\n",
      "\u001b[1m 8/10\u001b[0m \u001b[32m━━━━━━━━━━━━━━━━\u001b[0m\u001b[37m━━━━\u001b[0m \u001b[1m0s\u001b[0m 8ms/step - accuracy: 0.9746 - loss: 0.7614 Epoch 095 | loss=0.7826, acc=0.9430 | val_loss=0.9465, val_acc=0.8375 | 0.25s\n",
      "\u001b[1m10/10\u001b[0m \u001b[32m━━━━━━━━━━━━━━━━━━━━\u001b[0m\u001b[37m\u001b[0m \u001b[1m0s\u001b[0m 20ms/step - accuracy: 0.9658 - loss: 0.7677 - val_accuracy: 0.8375 - val_loss: 0.9465 - learning_rate: 1.0000e-04\n",
      "Epoch 96/100\n",
      "\u001b[1m 8/10\u001b[0m \u001b[32m━━━━━━━━━━━━━━━━\u001b[0m\u001b[37m━━━━\u001b[0m \u001b[1m0s\u001b[0m 7ms/step - accuracy: 0.9655 - loss: 0.7688 Epoch 096 | loss=0.7625, acc=0.9684 | val_loss=0.9436, val_acc=0.8375 | 0.20s\n",
      "\u001b[1m10/10\u001b[0m \u001b[32m━━━━━━━━━━━━━━━━━━━━\u001b[0m\u001b[37m\u001b[0m \u001b[1m0s\u001b[0m 18ms/step - accuracy: 0.9663 - loss: 0.7668 - val_accuracy: 0.8375 - val_loss: 0.9436 - learning_rate: 1.0000e-04\n",
      "Epoch 97/100\n",
      "\u001b[1m 8/10\u001b[0m \u001b[32m━━━━━━━━━━━━━━━━\u001b[0m\u001b[37m━━━━\u001b[0m \u001b[1m0s\u001b[0m 8ms/step - accuracy: 0.9751 - loss: 0.7385 Epoch 097 | loss=0.7579, acc=0.9684 | val_loss=0.9417, val_acc=0.8375 | 0.24s\n",
      "\u001b[1m10/10\u001b[0m \u001b[32m━━━━━━━━━━━━━━━━━━━━\u001b[0m\u001b[37m\u001b[0m \u001b[1m0s\u001b[0m 20ms/step - accuracy: 0.9730 - loss: 0.7441 - val_accuracy: 0.8375 - val_loss: 0.9417 - learning_rate: 1.0000e-04\n",
      "Epoch 98/100\n",
      "\u001b[1m 7/10\u001b[0m \u001b[32m━━━━━━━━━━━━━━\u001b[0m\u001b[37m━━━━━━\u001b[0m \u001b[1m0s\u001b[0m 9ms/step - accuracy: 0.9754 - loss: 0.7347 Epoch 098 | loss=0.7586, acc=0.9589 | val_loss=0.9389, val_acc=0.8375 | 0.25s\n",
      "\u001b[1m10/10\u001b[0m \u001b[32m━━━━━━━━━━━━━━━━━━━━\u001b[0m\u001b[37m\u001b[0m \u001b[1m0s\u001b[0m 24ms/step - accuracy: 0.9695 - loss: 0.7430 - val_accuracy: 0.8375 - val_loss: 0.9389 - learning_rate: 1.0000e-04\n",
      "Epoch 99/100\n",
      "\u001b[1m 7/10\u001b[0m \u001b[32m━━━━━━━━━━━━━━\u001b[0m\u001b[37m━━━━━━\u001b[0m \u001b[1m0s\u001b[0m 8ms/step - accuracy: 0.9743 - loss: 0.7500 Epoch 099 | loss=0.7615, acc=0.9652 | val_loss=0.9362, val_acc=0.8500 | 0.23s\n",
      "\u001b[1m10/10\u001b[0m \u001b[32m━━━━━━━━━━━━━━━━━━━━\u001b[0m\u001b[37m\u001b[0m \u001b[1m0s\u001b[0m 21ms/step - accuracy: 0.9716 - loss: 0.7533 - val_accuracy: 0.8500 - val_loss: 0.9362 - learning_rate: 1.0000e-04\n",
      "Epoch 100/100\n",
      "\u001b[1m 8/10\u001b[0m \u001b[32m━━━━━━━━━━━━━━━━\u001b[0m\u001b[37m━━━━\u001b[0m \u001b[1m0s\u001b[0m 8ms/step - accuracy: 0.9535 - loss: 0.7515 Epoch 100 | loss=0.7482, acc=0.9589 | val_loss=0.9327, val_acc=0.8625 | 0.22s\n",
      "\u001b[1m10/10\u001b[0m \u001b[32m━━━━━━━━━━━━━━━━━━━━\u001b[0m\u001b[37m\u001b[0m \u001b[1m0s\u001b[0m 20ms/step - accuracy: 0.9546 - loss: 0.7511 - val_accuracy: 0.8625 - val_loss: 0.9327 - learning_rate: 1.0000e-04\n"
     ]
    },
    {
     "data": {
      "image/png": "[encoded data removed]",
      "text/plain": [
       "<Figure size 800x400 with 1 Axes>"
      ]
     },
     "metadata": {},
     "output_type": "display_data"
    }
   ],
   "source": [
    "import numpy as np\n",
    "import pandas as pd\n",
    "import time\n",
    "import matplotlib.pyplot as plt\n",
    "\n",
    "from sklearn.model_selection import train_test_split\n",
    "from sklearn.preprocessing import StandardScaler\n",
    "from imblearn.over_sampling import SMOTE\n",
    "\n",
    "import tensorflow as tf\n",
    "from tensorflow.keras.layers import (\n",
    "    Input, Dense, BatchNormalization, Dropout,\n",
    "    Concatenate, Add, Multiply\n",
    ")\n",
    "from tensorflow.keras.models import Model, Sequential\n",
    "from tensorflow.keras.regularizers import l2\n",
    "from tensorflow.keras.optimizers import Adam\n",
    "from tensorflow.keras.callbacks import EarlyStopping, ReduceLROnPlateau, Callback\n",
    "\n",
    "\n",
    "rs = 42\n",
    "\n",
    "# ── 1) Individually balance each modality ────────────────────────────────────\n",
    "sm = SMOTE(random_state=rs)\n",
    "X_bal = {}\n",
    "y_bal = {}\n",
    "\n",
    "# clinical via SMOTE\n",
    "X_bal[\"African\"],    y_bal[\"African\"]    = sm.fit_resample(X_train_african_sc,    y_train_african)\n",
    "X_bal[\"Bangladesh\"], y_bal[\"Bangladesh\"] = sm.fit_resample(X_train_bangladesh_sc, y_train_bangladesh)\n",
    "X_bal[\"Iraq\"],       y_bal[\"Iraq\"]       = sm.fit_resample(X_train_iraq_sc,       y_train_iraq)\n",
    "\n",
    "# genetic already “balanced” by your GAN outputs\n",
    "X_bal[\"inter_genetic\"],  y_bal[\"inter_genetic\"]  = X_train_inter,  y_train_inter\n",
    "X_bal[\"normal_genetic\"], y_bal[\"normal_genetic\"] = X_train_normal, y_train_normal\n",
    "\n",
    "# ── 2) Down‐sample every modality to the same size ───────────────────────────\n",
    "modalities = list(X_bal.keys())\n",
    "N_min = min(len(y_bal[m]) for m in modalities)\n",
    "\n",
    "for m in modalities:\n",
    "    Xb, yb = X_bal[m], y_bal[m]\n",
    "    if len(yb) > N_min:\n",
    "        # stratified down‐sampling to exactly N_min\n",
    "        Xb_ds, _, yb_ds, _ = train_test_split(\n",
    "            Xb, yb,\n",
    "            train_size=N_min,\n",
    "            stratify=yb,\n",
    "            random_state=rs\n",
    "        )\n",
    "    else:\n",
    "        Xb_ds, yb_ds = Xb, yb\n",
    "    X_bal[m], y_bal[m] = Xb_ds, yb_ds\n",
    "\n",
    "# ── 3) Build shared train/test indices ──────────────────────────────────────\n",
    "indices = np.arange(N_min)\n",
    "# pick any modality (all now length N_min) for stratify\n",
    "idx_tr, idx_te = train_test_split(\n",
    "    indices,\n",
    "    test_size=0.2,\n",
    "    stratify=y_bal[modalities[0]],\n",
    "    random_state=rs\n",
    ")\n",
    "\n",
    "# ── 4) Scale each modality using row‐based indexing ────────────────────────\n",
    "scaled_splits = {}\n",
    "for m in modalities:\n",
    "    Xb = X_bal[m]\n",
    "    Xb_tr = Xb.iloc[idx_tr] if isinstance(Xb, pd.DataFrame) else Xb[idx_tr]\n",
    "    Xb_te = Xb.iloc[idx_te] if isinstance(Xb, pd.DataFrame) else Xb[idx_te]\n",
    "    scaler = StandardScaler().fit(Xb_tr)\n",
    "    scaled_splits[m] = (\n",
    "        scaler.transform(Xb_tr),\n",
    "        scaler.transform(Xb_te)\n",
    "    )\n",
    "\n",
    "X_tr_inputs = [scaled_splits[m][0] for m in modalities]\n",
    "X_te_inputs = [scaled_splits[m][1] for m in modalities]\n",
    "y_tr = (y_bal[modalities[0]].iloc[idx_tr]\n",
    "        if isinstance(y_bal[modalities[0]], pd.Series)\n",
    "        else y_bal[modalities[0]][idx_tr])\n",
    "y_te = (y_bal[modalities[0]].iloc[idx_te]\n",
    "        if isinstance(y_bal[modalities[0]], pd.Series)\n",
    "        else y_bal[modalities[0]][idx_te])\n",
    "\n",
    "# ── 5) Define fusion model ──────────────────────────────────────────────────\n",
    "def build_branch(input_dim, l2_reg=1e-3):\n",
    "    inp = Input(shape=(input_dim,))\n",
    "    x   = Dense(64, activation=\"relu\", kernel_regularizer=l2(l2_reg))(inp)\n",
    "    x   = BatchNormalization()(x)\n",
    "    x   = Dense(32, activation=\"relu\", kernel_regularizer=l2(l2_reg))(x)\n",
    "    proj= Dense(32, kernel_regularizer=l2(l2_reg))(inp)\n",
    "    x   = Add()([x, proj])\n",
    "    x   = BatchNormalization()(x)\n",
    "    return inp, x\n",
    "\n",
    "branches = [build_branch(scaled_splits[m][0].shape[1]) for m in modalities]\n",
    "inputs, feats = zip(*branches)\n",
    "\n",
    "merged = Concatenate()(feats)\n",
    "se = Dense(merged.shape[-1] // 16, activation=\"relu\")(merged)\n",
    "se = Dense(merged.shape[-1], activation=\"sigmoid\")(se)\n",
    "x  = Multiply()([merged, se])\n",
    "x  = Dense(128, activation=\"relu\", kernel_regularizer=l2(1e-3))(x)\n",
    "x  = Dropout(0.5)(x)\n",
    "x  = Dense(64, activation=\"relu\", kernel_regularizer=l2(1e-3))(x)\n",
    "x  = Dropout(0.5)(x)\n",
    "out= Dense(1, activation=\"sigmoid\")(x)\n",
    "\n",
    "model = Model(inputs=list(inputs), outputs=out)\n",
    "model.compile(\n",
    "    optimizer=Adam(learning_rate=1e-4, clipnorm=1.0),\n",
    "    loss=\"binary_crossentropy\",\n",
    "    metrics=[\"accuracy\"]\n",
    ")\n",
    "\n",
    "# ── 6) Train with time logger ───────────────────────────────────────────────\n",
    "class TimeLogger(Callback):\n",
    "    def on_epoch_begin(self, epoch, logs=None):\n",
    "        self._start = time.time()\n",
    "    def on_epoch_end(self, epoch, logs=None):\n",
    "        dt = time.time() - self._start\n",
    "        print(\n",
    "            f\"Epoch {epoch+1:03d} | loss={logs['loss']:.4f}, acc={logs['accuracy']:.4f} | \"\n",
    "            f\"val_loss={logs['val_loss']:.4f}, val_acc={logs['val_accuracy']:.4f} | \"\n",
    "            f\"{dt:.2f}s\"\n",
    "        )\n",
    "\n",
    "callbacks = [\n",
    "    EarlyStopping(monitor=\"val_loss\", patience=10, restore_best_weights=True),\n",
    "    ReduceLROnPlateau(monitor=\"val_loss\", factor=0.5, patience=5, min_lr=1e-6),\n",
    "    TimeLogger()\n",
    "]\n",
    "\n",
    "history = model.fit(\n",
    "    X_tr_inputs, y_tr,\n",
    "    validation_data=(X_te_inputs, y_te),\n",
    "    epochs=100,\n",
    "    batch_size=32,\n",
    "    callbacks=callbacks\n",
    ")\n",
    "\n",
    "# ── 7) Plot training & validation accuracy ─────────────────────────────────\n",
    "plt.figure(figsize=(8,4))\n",
    "plt.plot(history.history[\"accuracy\"], label=\"Train Acc\")\n",
    "plt.plot(history.history[\"val_accuracy\"], label=\"Val Acc\")\n",
    "plt.title(\"Enhanced Fusion Model Accuracy\")\n",
    "plt.xlabel(\"Epoch\")\n",
    "plt.ylabel(\"Accuracy\")\n",
    "plt.legend()\n",
    "plt.grid(True)\n",
    "plt.tight_layout()\n",
    "plt.show()\n"
   ]
  },
  {
   "cell_type": "markdown",
   "metadata": {},
   "source": [
    "# Saving model and scalers"
   ]
  },
  {
   "cell_type": "code",
   "execution_count": 19,
   "metadata": {},
   "outputs": [],
   "source": [
    "# Save in Keras v3 native format\n",
    "model.save('/Users/mohammedbasem/Desktop/T2D-Prediction-System--Data-Fusion-for-Enhanced-Decision-Making/fusion_model.keras')\n"
   ]
  },
  {
   "cell_type": "code",
   "execution_count": 20,
   "metadata": {},
   "outputs": [],
   "source": [
    "import tensorflow as tf\n",
    "model = tf.keras.models.load_model(\n",
    "    '/Users/mohammedbasem/Desktop/T2D-Prediction-System--Data-Fusion-for-Enhanced-Decision-Making/fusion_model.keras'\n",
    ")\n"
   ]
  },
  {
   "cell_type": "code",
   "execution_count": 21,
   "metadata": {},
   "outputs": [
    {
     "name": "stderr",
     "output_type": "stream",
     "text": [
      "WARNING:absl:You are saving your model as an HDF5 file via `model.save()` or `keras.saving.save_model(model)`. This file format is considered legacy. We recommend using instead the native Keras format, e.g. `model.save('my_model.keras')` or `keras.saving.save_model(model, 'my_model.keras')`. \n",
      "WARNING:absl:Compiled the loaded model, but the compiled metrics have yet to be built. `model.compile_metrics` will be empty until you train or evaluate the model.\n"
     ]
    }
   ],
   "source": [
    "# right after training…\n",
    "model.save('fusion_model.h5')\n",
    "\n",
    "from tensorflow.keras.models import load_model\n",
    "model = load_model('fusion_model.h5')\n"
   ]
  },
  {
   "cell_type": "code",
   "execution_count": 22,
   "metadata": {},
   "outputs": [],
   "source": [
    "import pickle\n",
    "from tensorflow.keras.models import model_from_json\n",
    "\n",
    "# ── Saving ──────────────────────────────────────────────────────────────────\n",
    "# 1) Serialize architecture to JSON\n",
    "arch = model.to_json()\n",
    "# 2) Get raw weights\n",
    "wts  = model.get_weights()\n",
    "# 3) Dump both into a pickle\n",
    "with open('fusion_model.pkl', 'wb') as f:\n",
    "    pickle.dump({'arch': arch, 'weights': wts}, f)\n",
    "\n",
    "# ── Loading ─────────────────────────────────────────────────────────────────\n",
    "with open('fusion_model.pkl', 'rb') as f:\n",
    "    data = pickle.load(f)\n",
    "\n",
    "# 1) Reconstruct from JSON\n",
    "model = model_from_json(data['arch'])\n",
    "# 2) Set the weights back\n",
    "model.set_weights(data['weights'])\n",
    "# 3) (Re)compile if you want to further train or evaluate\n",
    "model.compile(optimizer='adam', loss='binary_crossentropy', metrics=['accuracy'])\n"
   ]
  },
  {
   "cell_type": "code",
   "execution_count": 23,
   "metadata": {},
   "outputs": [
    {
     "data": {
      "text/plain": [
       "'from sklearn.metrics import (\\n    classification_report,\\n    confusion_matrix,\\n    roc_curve,\\n    auc,\\n    precision_recall_curve,\\n    average_precision_score\\n)\\nimport matplotlib.pyplot as plt\\nimport seaborn as sns\\n\\n# 1) Evaluate overall loss & accuracy on the combined test inputs\\nloss, acc = model.evaluate(\\n    X_te_inputs,   # list of 5 scaled test arrays\\n    y_te,\\n    verbose=0\\n)\\nprint(f\"Test Loss: {loss:.4f}    Test Accuracy: {acc:.4f}\\n\")\\n\\n# 2) Get per‐sample predictions (probabilities and binary labels)\\ny_pred_prob = model.predict(X_te_inputs).flatten()\\ny_pred      = (y_pred_prob >= 0.5).astype(int)\\n\\n# 3) Print classification report for both classes\\nprint(\"Classification Report:\\n\")\\nprint(classification_report(\\n    y_te,\\n    y_pred,\\n    target_names=[\\'No T2D (0)\\', \\'Yes T2D (1)\\'],\\n    zero_division=0\\n))\\n\\n# 4) Plot confusion matrix\\ncm = confusion_matrix(y_te, y_pred)\\nplt.figure(figsize=(5,4))\\nsns.heatmap(\\n    cm,\\n    annot=True,\\n    fmt=\\'d\\',\\n    cmap=\\'Blues\\',\\n    xticklabels=[\\'Pred: 0\\',\\'Pred: 1\\'],\\n    yticklabels=[\\'True: 0\\',\\'True: 1\\']\\n)\\nplt.title(\\'Confusion Matrix\\')\\nplt.ylabel(\\'True label\\')\\nplt.xlabel(\\'Predicted label\\')\\nplt.tight_layout()\\nplt.show()\\n\\n# 5) Plot ROC Curve and PR Curve side by side\\nfpr, tpr, _ = roc_curve(y_te, y_pred_prob)\\nroc_auc = auc(fpr, tpr)\\nprecision, recall, _ = precision_recall_curve(y_te, y_pred_prob)\\npr_auc = average_precision_score(y_te, y_pred_prob)\\n\\nfig, (ax1, ax2) = plt.subplots(1, 2, figsize=(12, 5))\\n\\n# ROC\\nax1.plot(fpr, tpr, label=f\"AUC = {roc_auc:.3f}\")\\nax1.plot([0,1], [0,1], \\'--\\', color=\\'gray\\')\\nax1.set_title(\"ROC Curve\")\\nax1.set_xlabel(\"False Positive Rate\")\\nax1.set_ylabel(\"True Positive Rate\")\\nax1.legend(loc=\"lower right\")\\nax1.grid(True)\\n\\n# Precision-Recall\\nax2.plot(recall, precision, label=f\"AP = {pr_auc:.3f}\")\\nax2.set_title(\"Precision-Recall Curve\")\\nax2.set_xlabel(\"Recall\")\\nax2.set_ylabel(\"Precision\")\\nax2.legend(loc=\"lower left\")\\nax2.grid(True)\\n\\nplt.tight_layout()\\nplt.show()'"
      ]
     },
     "execution_count": 23,
     "metadata": {},
     "output_type": "execute_result"
    }
   ],
   "source": [
    "'''from sklearn.metrics import (\n",
    "    classification_report,\n",
    "    confusion_matrix,\n",
    "    roc_curve,\n",
    "    auc,\n",
    "    precision_recall_curve,\n",
    "    average_precision_score\n",
    ")\n",
    "import matplotlib.pyplot as plt\n",
    "import seaborn as sns\n",
    "\n",
    "# 1) Evaluate overall loss & accuracy on the combined test inputs\n",
    "loss, acc = model.evaluate(\n",
    "    X_te_inputs,   # list of 5 scaled test arrays\n",
    "    y_te,\n",
    "    verbose=0\n",
    ")\n",
    "print(f\"Test Loss: {loss:.4f}    Test Accuracy: {acc:.4f}\\n\")\n",
    "\n",
    "# 2) Get per‐sample predictions (probabilities and binary labels)\n",
    "y_pred_prob = model.predict(X_te_inputs).flatten()\n",
    "y_pred      = (y_pred_prob >= 0.5).astype(int)\n",
    "\n",
    "# 3) Print classification report for both classes\n",
    "print(\"Classification Report:\\n\")\n",
    "print(classification_report(\n",
    "    y_te,\n",
    "    y_pred,\n",
    "    target_names=['No T2D (0)', 'Yes T2D (1)'],\n",
    "    zero_division=0\n",
    "))\n",
    "\n",
    "# 4) Plot confusion matrix\n",
    "cm = confusion_matrix(y_te, y_pred)\n",
    "plt.figure(figsize=(5,4))\n",
    "sns.heatmap(\n",
    "    cm,\n",
    "    annot=True,\n",
    "    fmt='d',\n",
    "    cmap='Blues',\n",
    "    xticklabels=['Pred: 0','Pred: 1'],\n",
    "    yticklabels=['True: 0','True: 1']\n",
    ")\n",
    "plt.title('Confusion Matrix')\n",
    "plt.ylabel('True label')\n",
    "plt.xlabel('Predicted label')\n",
    "plt.tight_layout()\n",
    "plt.show()\n",
    "\n",
    "# 5) Plot ROC Curve and PR Curve side by side\n",
    "fpr, tpr, _ = roc_curve(y_te, y_pred_prob)\n",
    "roc_auc = auc(fpr, tpr)\n",
    "precision, recall, _ = precision_recall_curve(y_te, y_pred_prob)\n",
    "pr_auc = average_precision_score(y_te, y_pred_prob)\n",
    "\n",
    "fig, (ax1, ax2) = plt.subplots(1, 2, figsize=(12, 5))\n",
    "\n",
    "# ROC\n",
    "ax1.plot(fpr, tpr, label=f\"AUC = {roc_auc:.3f}\")\n",
    "ax1.plot([0,1], [0,1], '--', color='gray')\n",
    "ax1.set_title(\"ROC Curve\")\n",
    "ax1.set_xlabel(\"False Positive Rate\")\n",
    "ax1.set_ylabel(\"True Positive Rate\")\n",
    "ax1.legend(loc=\"lower right\")\n",
    "ax1.grid(True)\n",
    "\n",
    "# Precision-Recall\n",
    "ax2.plot(recall, precision, label=f\"AP = {pr_auc:.3f}\")\n",
    "ax2.set_title(\"Precision-Recall Curve\")\n",
    "ax2.set_xlabel(\"Recall\")\n",
    "ax2.set_ylabel(\"Precision\")\n",
    "ax2.legend(loc=\"lower left\")\n",
    "ax2.grid(True)\n",
    "\n",
    "plt.tight_layout()\n",
    "plt.show()'''\n"
   ]
  }
 ],
 "metadata": {
  "kernelspec": {
   "display_name": "base",
   "language": "python",
   "name": "python3"
  },
  "language_info": {
   "codemirror_mode": {
    "name": "ipython",
    "version": 3
   },
   "file_extension": ".py",
   "mimetype": "text/x-python",
   "name": "python",
   "nbconvert_exporter": "python",
   "pygments_lexer": "ipython3",
   "version": "3.12.2"
  }
 },
 "nbformat": 4,
 "nbformat_minor": 2
}
