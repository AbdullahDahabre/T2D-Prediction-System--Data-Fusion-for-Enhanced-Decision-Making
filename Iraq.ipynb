{
 "cells": [
  {
   "cell_type": "markdown",
   "metadata": {},
   "source": [
    "# Attributes Definitions"
   ]
  },
  {
   "cell_type": "markdown",
   "metadata": {},
   "source": [
    "- **ID**: A unique identifier assigned to each patient.\n",
    "- **No_Pation**: The patient's assigned number within the dataset.\n",
    "- **Gender**: The sex of the patient, typically categorized as male or female.\n",
    "- **AGE**: The age of the patient in years.\n",
    "- **Urea**: The concentration of urea in the blood, indicating kidney function.\n",
    "- **Cr (Creatinine ratio)**: A measure of creatinine levels in the blood, used to assess kidney function.\n",
    "- **HbA1c**: Glycated hemoglobin percentage, reflecting average blood sugar levels over the past two to three months.\n",
    "- **Chol (Cholesterol)**: The total cholesterol level in the blood, important for assessing cardiovascular health.\n",
    "- **TG (Triglycerides)**: The level of triglycerides in the blood, a type of fat linked to heart disease risk.\n",
    "- **HDL (High-Density Lipoprotein)**: Often referred to as \"good\" cholesterol; higher levels are typically better.\n",
    "- **LDL (Low-Density Lipoprotein)**: Known as \"bad\" cholesterol; higher levels can lead to plaque buildup in arteries.\n",
    "- **VLDL (Very Low-Density Lipoprotein)**: Another type of \"bad\" cholesterol; elevated levels can contribute to plaque formation.\n",
    "- **BMI (Body Mass Index)**: A value derived from the weight and height of the patient, used to categorize underweight, normal weight, overweight, and obesity.\n",
    "- **CLASS**: The classification of the patient's diabetes status, which may be Diabetic, Non-Diabetic, or Predict-Diabetic."
   ]
  },
  {
   "cell_type": "markdown",
   "metadata": {},
   "source": [
    "# Features Relationships in the Dataset"
   ]
  },
  {
   "cell_type": "markdown",
   "metadata": {},
   "source": [
    "- **1. Gender**\n",
    "  - **BMI**: Men and women may show different average BMI levels due to physiological differences.\n",
    "  - **Chol, HDL, LDL**: Cholesterol levels might differ by gender due to hormonal factors.\n",
    "  - **Class**: The prevalence of diabetes may vary between genders.\n",
    "\n",
    "- **2. Age**\n",
    "  - **Class**: Older individuals are more likely to have diabetes or pre-diabetes (Class `D` or `P`).\n",
    "  - **Chol, TG, HDL, LDL**: Cholesterol and triglyceride levels tend to increase with age, which may indicate a higher risk of cardiovascular issues.\n",
    "  - **HbA1c**: Glycated hemoglobin may increase with age due to a decline in glucose metabolism efficiency.\n",
    "  - **BMI**: BMI might increase or decrease with age depending on lifestyle and health.\n",
    "\n",
    "- **3. Urea**\n",
    "  - **Cr (Creatinine)**: Both are indicators of kidney function; higher levels suggest kidney issues.\n",
    "  - **Class**: Diabetic patients may have higher urea levels due to potential kidney damage from prolonged diabetes.\n",
    "  - **Age**: Older individuals may show higher urea levels as kidney function declines with age.\n",
    "\n",
    "- **4. Cr (Creatinine Ratio)**\n",
    "  - **Urea**: Often correlated, as both indicate kidney function.\n",
    "  - **Class**: Diabetic patients with poor kidney function may have higher creatinine levels.\n",
    "  - **BMI**: High BMI can stress the kidneys, potentially leading to higher creatinine levels.\n",
    "\n",
    "- **5. HbA1c**\n",
    "  - **Class**: Strongly related, as HbA1c is a key marker for diagnosing diabetes. Higher values indicate diabetes (Class `D`) or pre-diabetes (Class `P`).\n",
    "  - **Age**: May increase with age, as older individuals are more prone to glucose regulation issues.\n",
    "  - **BMI**: Higher BMI is associated with poor glucose metabolism, leading to increased HbA1c levels.\n",
    "  - **Chol, TG, LDL**: Poor glucose control often correlates with abnormal lipid profiles.\n",
    "\n",
    "- **6. Chol (Cholesterol)**\n",
    "  - **HDL, LDL, TG, VLDL**: Cholesterol components are directly related; high LDL and VLDL often mean higher total cholesterol, while HDL counteracts it.\n",
    "  - **Class**: High cholesterol is often seen in diabetics due to poor lipid metabolism.\n",
    "  - **Age**: Cholesterol levels typically increase with age.\n",
    "  - **BMI**: Obesity often leads to higher cholesterol levels.\n",
    "\n",
    "- **7. TG (Triglycerides)**\n",
    "  - **Chol, VLDL**: Triglycerides contribute to VLDL levels and are part of total cholesterol.\n",
    "  - **Class**: High triglycerides are common in diabetic patients.\n",
    "  - **BMI**: High BMI is associated with elevated triglycerides.\n",
    "  - **Age**: Levels may increase with age due to slower metabolism.\n",
    "\n",
    "- **8. HDL (High-Density Lipoprotein)**\n",
    "  - **Chol, LDL, TG**: HDL is inversely related to LDL and TG; higher HDL is considered protective.\n",
    "  - **Class**: Lower HDL is often observed in diabetics.\n",
    "  - **Gender**: Women may have higher HDL levels compared to men due to hormonal differences.\n",
    "  - **BMI**: Higher BMI is associated with lower HDL levels.\n",
    "\n",
    "- **9. LDL (Low-Density Lipoprotein)**\n",
    "  - **Chol, HDL**: LDL contributes significantly to total cholesterol; higher LDL often coincides with lower HDL.\n",
    "  - **Class**: High LDL levels are more common in diabetics.\n",
    "  - **Age**: LDL levels typically increase with age.\n",
    "  - **BMI**: Obesity often correlates with higher LDL levels.\n",
    "\n",
    "- **10. VLDL (Very Low-Density Lipoprotein)**\n",
    "  - **TG, Chol**: VLDL is primarily composed of triglycerides and contributes to total cholesterol.\n",
    "  - **Class**: High VLDL levels are often seen in diabetics.\n",
    "  - **BMI**: VLDL tends to be higher in individuals with high BMI.\n",
    "\n",
    "- **11. BMI (Body Mass Index)**\n",
    "  - **Class**: Higher BMI is strongly associated with diabetes risk (Class `P` and `D`).\n",
    "  - **HbA1c**: Poor glucose control is often observed in individuals with high BMI.\n",
    "  - **Chol, TG, LDL**: High BMI is linked to poor lipid profiles.\n",
    "  - **Age**: BMI trends may vary with age due to lifestyle and health factors.\n",
    "\n",
    "- **12. Class**\n",
    "  - **HbA1c**: A direct diagnostic criterion for diabetes; higher HbA1c values correspond to Class `P` or `D`.\n",
    "  - **BMI**: Obesity increases the risk of diabetes (Class `P` or `D`).\n",
    "  - **Chol, TG, LDL, HDL, VLDL**: Lipid metabolism disorders are common in diabetic patients.\n",
    "  - **Age**: Older individuals are more likely to fall into Class `P` or `D`."
   ]
  },
  {
   "cell_type": "markdown",
   "metadata": {},
   "source": [
    "# Importing Libraries and Loading Data"
   ]
  },
  {
   "cell_type": "markdown",
   "metadata": {},
   "source": [
    "Libraries"
   ]
  },
  {
   "cell_type": "code",
   "execution_count": 2,
   "metadata": {},
   "outputs": [],
   "source": [
    "# Essentials\n",
    "#import numpy as np\n",
    "import pandas as pd\n",
    "\n",
    "# Visualization\n",
    "import matplotlib.pyplot as plt\n",
    "import seaborn as sns\n",
    "\n",
    "# Warnings\n",
    "import warnings\n",
    "warnings.filterwarnings('ignore')"
   ]
  },
  {
   "cell_type": "markdown",
   "metadata": {},
   "source": [
    "Data"
   ]
  },
  {
   "cell_type": "code",
   "execution_count": 3,
   "metadata": {},
   "outputs": [],
   "source": [
    "iraqi_df = pd.read_csv(\"C:/Users/dahab/OneDrive/Desktop/T2D-Prediction-System--Data-Fusion-for-Enhanced-Decision-Making/datasets/clinical/Iraq_clinical_dataset.csv\")"
   ]
  },
  {
   "cell_type": "markdown",
   "metadata": {},
   "source": [
    "# Exploratory Data Analysis and Cleaning"
   ]
  },
  {
   "cell_type": "markdown",
   "metadata": {},
   "source": [
    "First 5 rows"
   ]
  },
  {
   "cell_type": "code",
   "execution_count": 4,
   "metadata": {},
   "outputs": [
    {
     "data": {
      "text/html": [
       "<div>\n",
       "<style scoped>\n",
       "    .dataframe tbody tr th:only-of-type {\n",
       "        vertical-align: middle;\n",
       "    }\n",
       "\n",
       "    .dataframe tbody tr th {\n",
       "        vertical-align: top;\n",
       "    }\n",
       "\n",
       "    .dataframe thead th {\n",
       "        text-align: right;\n",
       "    }\n",
       "</style>\n",
       "<table border=\"1\" class=\"dataframe\">\n",
       "  <thead>\n",
       "    <tr style=\"text-align: right;\">\n",
       "      <th></th>\n",
       "      <th>ID</th>\n",
       "      <th>No_Pation</th>\n",
       "      <th>Gender</th>\n",
       "      <th>AGE</th>\n",
       "      <th>Urea</th>\n",
       "      <th>Cr</th>\n",
       "      <th>HbA1c</th>\n",
       "      <th>Chol</th>\n",
       "      <th>TG</th>\n",
       "      <th>HDL</th>\n",
       "      <th>LDL</th>\n",
       "      <th>VLDL</th>\n",
       "      <th>BMI</th>\n",
       "      <th>CLASS</th>\n",
       "    </tr>\n",
       "  </thead>\n",
       "  <tbody>\n",
       "    <tr>\n",
       "      <th>0</th>\n",
       "      <td>502</td>\n",
       "      <td>17975</td>\n",
       "      <td>F</td>\n",
       "      <td>50</td>\n",
       "      <td>4.7</td>\n",
       "      <td>46</td>\n",
       "      <td>4.9</td>\n",
       "      <td>4.2</td>\n",
       "      <td>0.9</td>\n",
       "      <td>2.4</td>\n",
       "      <td>1.4</td>\n",
       "      <td>0.5</td>\n",
       "      <td>24.0</td>\n",
       "      <td>N</td>\n",
       "    </tr>\n",
       "    <tr>\n",
       "      <th>1</th>\n",
       "      <td>735</td>\n",
       "      <td>34221</td>\n",
       "      <td>M</td>\n",
       "      <td>26</td>\n",
       "      <td>4.5</td>\n",
       "      <td>62</td>\n",
       "      <td>4.9</td>\n",
       "      <td>3.7</td>\n",
       "      <td>1.4</td>\n",
       "      <td>1.1</td>\n",
       "      <td>2.1</td>\n",
       "      <td>0.6</td>\n",
       "      <td>23.0</td>\n",
       "      <td>N</td>\n",
       "    </tr>\n",
       "    <tr>\n",
       "      <th>2</th>\n",
       "      <td>420</td>\n",
       "      <td>47975</td>\n",
       "      <td>F</td>\n",
       "      <td>50</td>\n",
       "      <td>4.7</td>\n",
       "      <td>46</td>\n",
       "      <td>4.9</td>\n",
       "      <td>4.2</td>\n",
       "      <td>0.9</td>\n",
       "      <td>2.4</td>\n",
       "      <td>1.4</td>\n",
       "      <td>0.5</td>\n",
       "      <td>24.0</td>\n",
       "      <td>N</td>\n",
       "    </tr>\n",
       "    <tr>\n",
       "      <th>3</th>\n",
       "      <td>680</td>\n",
       "      <td>87656</td>\n",
       "      <td>F</td>\n",
       "      <td>50</td>\n",
       "      <td>4.7</td>\n",
       "      <td>46</td>\n",
       "      <td>4.9</td>\n",
       "      <td>4.2</td>\n",
       "      <td>0.9</td>\n",
       "      <td>2.4</td>\n",
       "      <td>1.4</td>\n",
       "      <td>0.5</td>\n",
       "      <td>24.0</td>\n",
       "      <td>N</td>\n",
       "    </tr>\n",
       "    <tr>\n",
       "      <th>4</th>\n",
       "      <td>504</td>\n",
       "      <td>34223</td>\n",
       "      <td>M</td>\n",
       "      <td>33</td>\n",
       "      <td>7.1</td>\n",
       "      <td>46</td>\n",
       "      <td>4.9</td>\n",
       "      <td>4.9</td>\n",
       "      <td>1.0</td>\n",
       "      <td>0.8</td>\n",
       "      <td>2.0</td>\n",
       "      <td>0.4</td>\n",
       "      <td>21.0</td>\n",
       "      <td>N</td>\n",
       "    </tr>\n",
       "  </tbody>\n",
       "</table>\n",
       "</div>"
      ],
      "text/plain": [
       "    ID  No_Pation Gender  AGE  Urea  Cr  HbA1c  Chol   TG  HDL  LDL  VLDL  \\\n",
       "0  502      17975      F   50   4.7  46    4.9   4.2  0.9  2.4  1.4   0.5   \n",
       "1  735      34221      M   26   4.5  62    4.9   3.7  1.4  1.1  2.1   0.6   \n",
       "2  420      47975      F   50   4.7  46    4.9   4.2  0.9  2.4  1.4   0.5   \n",
       "3  680      87656      F   50   4.7  46    4.9   4.2  0.9  2.4  1.4   0.5   \n",
       "4  504      34223      M   33   7.1  46    4.9   4.9  1.0  0.8  2.0   0.4   \n",
       "\n",
       "    BMI CLASS  \n",
       "0  24.0     N  \n",
       "1  23.0     N  \n",
       "2  24.0     N  \n",
       "3  24.0     N  \n",
       "4  21.0     N  "
      ]
     },
     "execution_count": 4,
     "metadata": {},
     "output_type": "execute_result"
    }
   ],
   "source": [
    "iraqi_df.head()"
   ]
  },
  {
   "cell_type": "markdown",
   "metadata": {},
   "source": [
    "Dropping redundant columns"
   ]
  },
  {
   "cell_type": "code",
   "execution_count": 5,
   "metadata": {},
   "outputs": [
    {
     "data": {
      "text/html": [
       "<div>\n",
       "<style scoped>\n",
       "    .dataframe tbody tr th:only-of-type {\n",
       "        vertical-align: middle;\n",
       "    }\n",
       "\n",
       "    .dataframe tbody tr th {\n",
       "        vertical-align: top;\n",
       "    }\n",
       "\n",
       "    .dataframe thead th {\n",
       "        text-align: right;\n",
       "    }\n",
       "</style>\n",
       "<table border=\"1\" class=\"dataframe\">\n",
       "  <thead>\n",
       "    <tr style=\"text-align: right;\">\n",
       "      <th></th>\n",
       "      <th>Gender</th>\n",
       "      <th>AGE</th>\n",
       "      <th>Urea</th>\n",
       "      <th>Cr</th>\n",
       "      <th>HbA1c</th>\n",
       "      <th>Chol</th>\n",
       "      <th>TG</th>\n",
       "      <th>HDL</th>\n",
       "      <th>LDL</th>\n",
       "      <th>VLDL</th>\n",
       "      <th>BMI</th>\n",
       "      <th>CLASS</th>\n",
       "    </tr>\n",
       "  </thead>\n",
       "  <tbody>\n",
       "    <tr>\n",
       "      <th>0</th>\n",
       "      <td>F</td>\n",
       "      <td>50</td>\n",
       "      <td>4.7</td>\n",
       "      <td>46</td>\n",
       "      <td>4.9</td>\n",
       "      <td>4.2</td>\n",
       "      <td>0.9</td>\n",
       "      <td>2.4</td>\n",
       "      <td>1.4</td>\n",
       "      <td>0.5</td>\n",
       "      <td>24.0</td>\n",
       "      <td>N</td>\n",
       "    </tr>\n",
       "  </tbody>\n",
       "</table>\n",
       "</div>"
      ],
      "text/plain": [
       "  Gender  AGE  Urea  Cr  HbA1c  Chol   TG  HDL  LDL  VLDL   BMI CLASS\n",
       "0      F   50   4.7  46    4.9   4.2  0.9  2.4  1.4   0.5  24.0     N"
      ]
     },
     "execution_count": 5,
     "metadata": {},
     "output_type": "execute_result"
    }
   ],
   "source": [
    "iraqi_df = iraqi_df.drop(['ID', 'No_Pation'], axis=1)\n",
    "iraqi_df.head(1)"
   ]
  },
  {
   "cell_type": "markdown",
   "metadata": {},
   "source": [
    "Renaming some columns"
   ]
  },
  {
   "cell_type": "code",
   "execution_count": 6,
   "metadata": {},
   "outputs": [
    {
     "name": "stdout",
     "output_type": "stream",
     "text": [
      "Index(['Gender', 'Age', 'Urea', 'Cr', 'HbA1c', 'Chol', 'TG', 'HDL', 'LDL',\n",
      "       'VLDL', 'BMI', 'Class'],\n",
      "      dtype='object')\n"
     ]
    }
   ],
   "source": [
    "# Rename columns\n",
    "iraqi_df = iraqi_df.rename(columns={'AGE': 'Age', 'CLASS': 'Class'})\n",
    "\n",
    "# Display the updated DataFrame columns\n",
    "print(iraqi_df.columns)"
   ]
  },
  {
   "cell_type": "markdown",
   "metadata": {},
   "source": [
    "Checking Duplicates"
   ]
  },
  {
   "cell_type": "code",
   "execution_count": 7,
   "metadata": {},
   "outputs": [
    {
     "data": {
      "text/plain": [
       "169"
      ]
     },
     "execution_count": 7,
     "metadata": {},
     "output_type": "execute_result"
    }
   ],
   "source": [
    "iraqi_df.duplicated().sum()"
   ]
  },
  {
   "cell_type": "markdown",
   "metadata": {},
   "source": [
    "Dropping Duplicates"
   ]
  },
  {
   "cell_type": "code",
   "execution_count": 8,
   "metadata": {},
   "outputs": [
    {
     "data": {
      "text/plain": [
       "0"
      ]
     },
     "execution_count": 8,
     "metadata": {},
     "output_type": "execute_result"
    }
   ],
   "source": [
    "iraqi_df = iraqi_df.drop_duplicates()\n",
    "iraqi_df.duplicated().sum()"
   ]
  },
  {
   "cell_type": "markdown",
   "metadata": {},
   "source": [
    "Number of Columns and Rows"
   ]
  },
  {
   "cell_type": "code",
   "execution_count": 9,
   "metadata": {},
   "outputs": [
    {
     "data": {
      "text/plain": [
       "(831, 12)"
      ]
     },
     "execution_count": 9,
     "metadata": {},
     "output_type": "execute_result"
    }
   ],
   "source": [
    "iraqi_df.shape"
   ]
  },
  {
   "cell_type": "markdown",
   "metadata": {},
   "source": [
    "Concise Summary of Data"
   ]
  },
  {
   "cell_type": "code",
   "execution_count": 10,
   "metadata": {},
   "outputs": [
    {
     "name": "stdout",
     "output_type": "stream",
     "text": [
      "<class 'pandas.core.frame.DataFrame'>\n",
      "Index: 831 entries, 0 to 999\n",
      "Data columns (total 12 columns):\n",
      " #   Column  Non-Null Count  Dtype  \n",
      "---  ------  --------------  -----  \n",
      " 0   Gender  831 non-null    object \n",
      " 1   Age     831 non-null    int64  \n",
      " 2   Urea    831 non-null    float64\n",
      " 3   Cr      831 non-null    int64  \n",
      " 4   HbA1c   831 non-null    float64\n",
      " 5   Chol    831 non-null    float64\n",
      " 6   TG      831 non-null    float64\n",
      " 7   HDL     831 non-null    float64\n",
      " 8   LDL     831 non-null    float64\n",
      " 9   VLDL    831 non-null    float64\n",
      " 10  BMI     831 non-null    float64\n",
      " 11  Class   831 non-null    object \n",
      "dtypes: float64(8), int64(2), object(2)\n",
      "memory usage: 84.4+ KB\n"
     ]
    }
   ],
   "source": [
    "iraqi_df.info()"
   ]
  },
  {
   "cell_type": "markdown",
   "metadata": {},
   "source": [
    "Unique Values of Categorical Columns"
   ]
  },
  {
   "cell_type": "code",
   "execution_count": 11,
   "metadata": {},
   "outputs": [
    {
     "name": "stdout",
     "output_type": "stream",
     "text": [
      "Unique values in 'Gender' column: ['F' 'M' 'f']\n",
      "Unique values in 'Class' column: ['N' 'N ' 'P' 'Y' 'Y ']\n"
     ]
    }
   ],
   "source": [
    "# Identify categorical columns\n",
    "categorical_columns = iraqi_df.select_dtypes(include=['object']).columns\n",
    "\n",
    "# Display unique values for each categorical column\n",
    "for column in categorical_columns:\n",
    "    unique_values = iraqi_df[column].unique()\n",
    "    print(f\"Unique values in '{column}' column: {unique_values}\")"
   ]
  },
  {
   "cell_type": "markdown",
   "metadata": {},
   "source": [
    "Example of each"
   ]
  },
  {
   "cell_type": "code",
   "execution_count": 12,
   "metadata": {},
   "outputs": [
    {
     "name": "stdout",
     "output_type": "stream",
     "text": [
      "Examples for column: Gender\n",
      "        Age  Urea  Cr  HbA1c  Chol   TG  HDL  LDL  VLDL   BMI Class\n",
      "Gender                                                             \n",
      "F        50   4.7  46    4.9   4.2  0.9  2.4  1.4   0.5  24.0     N\n",
      "M        26   4.5  62    4.9   3.7  1.4  1.1  2.1   0.6  23.0     N\n",
      "f        55   4.1  34   13.9   5.4  1.6  1.6  3.1   0.7  33.0     Y\n",
      "\n",
      "\n",
      "Examples for column: Class\n",
      "      Gender  Age  Urea  Cr  HbA1c  Chol   TG  HDL  LDL  VLDL   BMI\n",
      "Class                                                              \n",
      "N          F   50   4.7  46    4.9   4.2  0.9  2.4  1.4   0.5  24.0\n",
      "N          M   38   6.1  83    5.4   4.5  1.7  0.9  2.8   0.8  24.6\n",
      "P          M   34   3.9  81    6.0   6.2  3.9  0.8  1.9   1.8  23.0\n",
      "Y          M   31   3.0  60   12.3   4.1  2.2  0.7  2.4  15.4  37.2\n",
      "Y          M   31   3.0  60   12.3   4.1  2.2  0.7  2.4  15.4  37.2\n",
      "\n",
      "\n"
     ]
    }
   ],
   "source": [
    "# Identify categorical columns\n",
    "categorical_columns = iraqi_df.select_dtypes(include=['object']).columns\n",
    "\n",
    "# Display one example for each unique value in each categorical column\n",
    "for column in categorical_columns:\n",
    "    print(f\"Examples for column: {column}\")\n",
    "    examples = iraqi_df.groupby(column).first()\n",
    "    print(examples)\n",
    "    print(\"\\n\")"
   ]
  },
  {
   "cell_type": "markdown",
   "metadata": {},
   "source": [
    "Unique Values of Categorical Columns after cleanup"
   ]
  },
  {
   "cell_type": "code",
   "execution_count": 13,
   "metadata": {},
   "outputs": [
    {
     "name": "stdout",
     "output_type": "stream",
     "text": [
      "Unique values in 'Gender' column after cleanup: ['F' 'M']\n",
      "Unique values in 'Class' column after cleanup: ['N' 'P' 'Y']\n"
     ]
    }
   ],
   "source": [
    "# Clean the 'Gender' column\n",
    "iraqi_df['Gender'] = iraqi_df['Gender'].str.strip().str.upper()\n",
    "\n",
    "# Clean the 'Class' column\n",
    "iraqi_df['Class'] = iraqi_df['Class'].str.strip()\n",
    "\n",
    "# Verify the unique values after cleanup\n",
    "print(\"Unique values in 'Gender' column after cleanup:\", iraqi_df['Gender'].unique())\n",
    "print(\"Unique values in 'Class' column after cleanup:\", iraqi_df['Class'].unique())"
   ]
  },
  {
   "cell_type": "markdown",
   "metadata": {},
   "source": [
    "Renaming Values in the `Class` Column"
   ]
  },
  {
   "cell_type": "code",
   "execution_count": 14,
   "metadata": {},
   "outputs": [
    {
     "name": "stdout",
     "output_type": "stream",
     "text": [
      "Unique values in the 'Class' column after replacing Y with D: ['N' 'P' 'D']\n"
     ]
    }
   ],
   "source": [
    "# Replace 'Y' with 'D' in the 'Class' column\n",
    "iraqi_df['Class'] = iraqi_df['Class'].replace('Y', 'D')\n",
    "\n",
    "# Verify the unique values after the change\n",
    "print(\"Unique values in the 'Class' column after replacing Y with D:\", iraqi_df['Class'].unique())"
   ]
  },
  {
   "cell_type": "markdown",
   "metadata": {},
   "source": [
    "Value Counts of `Class` column"
   ]
  },
  {
   "cell_type": "code",
   "execution_count": 15,
   "metadata": {},
   "outputs": [
    {
     "data": {
      "text/plain": [
       "Class\n",
       "D    695\n",
       "N     96\n",
       "P     40\n",
       "Name: count, dtype: int64"
      ]
     },
     "execution_count": 15,
     "metadata": {},
     "output_type": "execute_result"
    }
   ],
   "source": [
    "iraqi_df['Class'].value_counts()"
   ]
  },
  {
   "cell_type": "markdown",
   "metadata": {},
   "source": [
    "Checking duplicates again"
   ]
  },
  {
   "cell_type": "code",
   "execution_count": 16,
   "metadata": {},
   "outputs": [
    {
     "data": {
      "text/plain": [
       "5"
      ]
     },
     "execution_count": 16,
     "metadata": {},
     "output_type": "execute_result"
    }
   ],
   "source": [
    "iraqi_df.duplicated().sum()"
   ]
  },
  {
   "cell_type": "markdown",
   "metadata": {},
   "source": [
    "Dropping Duplicates"
   ]
  },
  {
   "cell_type": "code",
   "execution_count": 17,
   "metadata": {},
   "outputs": [
    {
     "data": {
      "text/plain": [
       "0"
      ]
     },
     "execution_count": 17,
     "metadata": {},
     "output_type": "execute_result"
    }
   ],
   "source": [
    "iraqi_df = iraqi_df.drop_duplicates()\n",
    "iraqi_df.duplicated().sum()"
   ]
  },
  {
   "cell_type": "markdown",
   "metadata": {},
   "source": [
    "Checking Missing Values"
   ]
  },
  {
   "cell_type": "code",
   "execution_count": 18,
   "metadata": {},
   "outputs": [
    {
     "data": {
      "text/plain": [
       "0"
      ]
     },
     "execution_count": 18,
     "metadata": {},
     "output_type": "execute_result"
    }
   ],
   "source": [
    "iraqi_df.isnull().sum().sum()"
   ]
  },
  {
   "cell_type": "markdown",
   "metadata": {},
   "source": [
    "Statistics of the Dataset"
   ]
  },
  {
   "cell_type": "code",
   "execution_count": 19,
   "metadata": {},
   "outputs": [
    {
     "data": {
      "text/html": [
       "<div>\n",
       "<style scoped>\n",
       "    .dataframe tbody tr th:only-of-type {\n",
       "        vertical-align: middle;\n",
       "    }\n",
       "\n",
       "    .dataframe tbody tr th {\n",
       "        vertical-align: top;\n",
       "    }\n",
       "\n",
       "    .dataframe thead th {\n",
       "        text-align: right;\n",
       "    }\n",
       "</style>\n",
       "<table border=\"1\" class=\"dataframe\">\n",
       "  <thead>\n",
       "    <tr style=\"text-align: right;\">\n",
       "      <th></th>\n",
       "      <th>Age</th>\n",
       "      <th>Urea</th>\n",
       "      <th>Cr</th>\n",
       "      <th>HbA1c</th>\n",
       "      <th>Chol</th>\n",
       "      <th>TG</th>\n",
       "      <th>HDL</th>\n",
       "      <th>LDL</th>\n",
       "      <th>VLDL</th>\n",
       "      <th>BMI</th>\n",
       "    </tr>\n",
       "  </thead>\n",
       "  <tbody>\n",
       "    <tr>\n",
       "      <th>count</th>\n",
       "      <td>826.000000</td>\n",
       "      <td>826.000000</td>\n",
       "      <td>826.000000</td>\n",
       "      <td>826.000000</td>\n",
       "      <td>826.000000</td>\n",
       "      <td>826.00000</td>\n",
       "      <td>826.000000</td>\n",
       "      <td>826.000000</td>\n",
       "      <td>826.000000</td>\n",
       "      <td>826.000000</td>\n",
       "    </tr>\n",
       "    <tr>\n",
       "      <th>mean</th>\n",
       "      <td>53.490315</td>\n",
       "      <td>5.184677</td>\n",
       "      <td>69.024213</td>\n",
       "      <td>8.326344</td>\n",
       "      <td>4.898208</td>\n",
       "      <td>2.39937</td>\n",
       "      <td>1.211804</td>\n",
       "      <td>2.590061</td>\n",
       "      <td>1.774576</td>\n",
       "      <td>29.459274</td>\n",
       "    </tr>\n",
       "    <tr>\n",
       "      <th>std</th>\n",
       "      <td>8.808427</td>\n",
       "      <td>3.077831</td>\n",
       "      <td>59.557108</td>\n",
       "      <td>2.602589</td>\n",
       "      <td>1.328812</td>\n",
       "      <td>1.45685</td>\n",
       "      <td>0.679610</td>\n",
       "      <td>1.132863</td>\n",
       "      <td>3.517931</td>\n",
       "      <td>4.996676</td>\n",
       "    </tr>\n",
       "    <tr>\n",
       "      <th>min</th>\n",
       "      <td>20.000000</td>\n",
       "      <td>0.500000</td>\n",
       "      <td>6.000000</td>\n",
       "      <td>0.900000</td>\n",
       "      <td>0.000000</td>\n",
       "      <td>0.30000</td>\n",
       "      <td>0.200000</td>\n",
       "      <td>0.300000</td>\n",
       "      <td>0.100000</td>\n",
       "      <td>19.000000</td>\n",
       "    </tr>\n",
       "    <tr>\n",
       "      <th>25%</th>\n",
       "      <td>51.000000</td>\n",
       "      <td>3.615000</td>\n",
       "      <td>48.000000</td>\n",
       "      <td>6.500000</td>\n",
       "      <td>4.000000</td>\n",
       "      <td>1.50000</td>\n",
       "      <td>0.900000</td>\n",
       "      <td>1.700000</td>\n",
       "      <td>0.700000</td>\n",
       "      <td>26.000000</td>\n",
       "    </tr>\n",
       "    <tr>\n",
       "      <th>50%</th>\n",
       "      <td>55.000000</td>\n",
       "      <td>4.600000</td>\n",
       "      <td>59.000000</td>\n",
       "      <td>8.100000</td>\n",
       "      <td>4.800000</td>\n",
       "      <td>2.01500</td>\n",
       "      <td>1.100000</td>\n",
       "      <td>2.500000</td>\n",
       "      <td>1.000000</td>\n",
       "      <td>30.000000</td>\n",
       "    </tr>\n",
       "    <tr>\n",
       "      <th>75%</th>\n",
       "      <td>59.000000</td>\n",
       "      <td>5.700000</td>\n",
       "      <td>73.000000</td>\n",
       "      <td>10.200000</td>\n",
       "      <td>5.600000</td>\n",
       "      <td>3.00000</td>\n",
       "      <td>1.300000</td>\n",
       "      <td>3.300000</td>\n",
       "      <td>1.500000</td>\n",
       "      <td>33.000000</td>\n",
       "    </tr>\n",
       "    <tr>\n",
       "      <th>max</th>\n",
       "      <td>79.000000</td>\n",
       "      <td>38.900000</td>\n",
       "      <td>800.000000</td>\n",
       "      <td>16.000000</td>\n",
       "      <td>10.300000</td>\n",
       "      <td>13.80000</td>\n",
       "      <td>9.900000</td>\n",
       "      <td>9.900000</td>\n",
       "      <td>35.000000</td>\n",
       "      <td>47.750000</td>\n",
       "    </tr>\n",
       "  </tbody>\n",
       "</table>\n",
       "</div>"
      ],
      "text/plain": [
       "              Age        Urea          Cr       HbA1c        Chol         TG  \\\n",
       "count  826.000000  826.000000  826.000000  826.000000  826.000000  826.00000   \n",
       "mean    53.490315    5.184677   69.024213    8.326344    4.898208    2.39937   \n",
       "std      8.808427    3.077831   59.557108    2.602589    1.328812    1.45685   \n",
       "min     20.000000    0.500000    6.000000    0.900000    0.000000    0.30000   \n",
       "25%     51.000000    3.615000   48.000000    6.500000    4.000000    1.50000   \n",
       "50%     55.000000    4.600000   59.000000    8.100000    4.800000    2.01500   \n",
       "75%     59.000000    5.700000   73.000000   10.200000    5.600000    3.00000   \n",
       "max     79.000000   38.900000  800.000000   16.000000   10.300000   13.80000   \n",
       "\n",
       "              HDL         LDL        VLDL         BMI  \n",
       "count  826.000000  826.000000  826.000000  826.000000  \n",
       "mean     1.211804    2.590061    1.774576   29.459274  \n",
       "std      0.679610    1.132863    3.517931    4.996676  \n",
       "min      0.200000    0.300000    0.100000   19.000000  \n",
       "25%      0.900000    1.700000    0.700000   26.000000  \n",
       "50%      1.100000    2.500000    1.000000   30.000000  \n",
       "75%      1.300000    3.300000    1.500000   33.000000  \n",
       "max      9.900000    9.900000   35.000000   47.750000  "
      ]
     },
     "execution_count": 19,
     "metadata": {},
     "output_type": "execute_result"
    }
   ],
   "source": [
    "iraqi_df.describe()"
   ]
  },
  {
   "cell_type": "markdown",
   "metadata": {},
   "source": [
    "# Feature Engineering"
   ]
  },
  {
   "cell_type": "markdown",
   "metadata": {},
   "source": [
    "Label Encoding for `Gender` column"
   ]
  },
  {
   "cell_type": "code",
   "execution_count": 20,
   "metadata": {},
   "outputs": [
    {
     "data": {
      "text/html": [
       "<div>\n",
       "<style scoped>\n",
       "    .dataframe tbody tr th:only-of-type {\n",
       "        vertical-align: middle;\n",
       "    }\n",
       "\n",
       "    .dataframe tbody tr th {\n",
       "        vertical-align: top;\n",
       "    }\n",
       "\n",
       "    .dataframe thead th {\n",
       "        text-align: right;\n",
       "    }\n",
       "</style>\n",
       "<table border=\"1\" class=\"dataframe\">\n",
       "  <thead>\n",
       "    <tr style=\"text-align: right;\">\n",
       "      <th></th>\n",
       "      <th>Age</th>\n",
       "      <th>Urea</th>\n",
       "      <th>Cr</th>\n",
       "      <th>HbA1c</th>\n",
       "      <th>Chol</th>\n",
       "      <th>TG</th>\n",
       "      <th>HDL</th>\n",
       "      <th>LDL</th>\n",
       "      <th>VLDL</th>\n",
       "      <th>BMI</th>\n",
       "      <th>Class</th>\n",
       "      <th>Gender_Encoded</th>\n",
       "    </tr>\n",
       "  </thead>\n",
       "  <tbody>\n",
       "    <tr>\n",
       "      <th>0</th>\n",
       "      <td>50</td>\n",
       "      <td>4.7</td>\n",
       "      <td>46</td>\n",
       "      <td>4.9</td>\n",
       "      <td>4.2</td>\n",
       "      <td>0.9</td>\n",
       "      <td>2.4</td>\n",
       "      <td>1.4</td>\n",
       "      <td>0.5</td>\n",
       "      <td>24.0</td>\n",
       "      <td>N</td>\n",
       "      <td>0</td>\n",
       "    </tr>\n",
       "    <tr>\n",
       "      <th>1</th>\n",
       "      <td>26</td>\n",
       "      <td>4.5</td>\n",
       "      <td>62</td>\n",
       "      <td>4.9</td>\n",
       "      <td>3.7</td>\n",
       "      <td>1.4</td>\n",
       "      <td>1.1</td>\n",
       "      <td>2.1</td>\n",
       "      <td>0.6</td>\n",
       "      <td>23.0</td>\n",
       "      <td>N</td>\n",
       "      <td>1</td>\n",
       "    </tr>\n",
       "    <tr>\n",
       "      <th>4</th>\n",
       "      <td>33</td>\n",
       "      <td>7.1</td>\n",
       "      <td>46</td>\n",
       "      <td>4.9</td>\n",
       "      <td>4.9</td>\n",
       "      <td>1.0</td>\n",
       "      <td>0.8</td>\n",
       "      <td>2.0</td>\n",
       "      <td>0.4</td>\n",
       "      <td>21.0</td>\n",
       "      <td>N</td>\n",
       "      <td>1</td>\n",
       "    </tr>\n",
       "    <tr>\n",
       "      <th>5</th>\n",
       "      <td>45</td>\n",
       "      <td>2.3</td>\n",
       "      <td>24</td>\n",
       "      <td>4.0</td>\n",
       "      <td>2.9</td>\n",
       "      <td>1.0</td>\n",
       "      <td>1.0</td>\n",
       "      <td>1.5</td>\n",
       "      <td>0.4</td>\n",
       "      <td>21.0</td>\n",
       "      <td>N</td>\n",
       "      <td>0</td>\n",
       "    </tr>\n",
       "    <tr>\n",
       "      <th>6</th>\n",
       "      <td>50</td>\n",
       "      <td>2.0</td>\n",
       "      <td>50</td>\n",
       "      <td>4.0</td>\n",
       "      <td>3.6</td>\n",
       "      <td>1.3</td>\n",
       "      <td>0.9</td>\n",
       "      <td>2.1</td>\n",
       "      <td>0.6</td>\n",
       "      <td>24.0</td>\n",
       "      <td>N</td>\n",
       "      <td>0</td>\n",
       "    </tr>\n",
       "  </tbody>\n",
       "</table>\n",
       "</div>"
      ],
      "text/plain": [
       "   Age  Urea  Cr  HbA1c  Chol   TG  HDL  LDL  VLDL   BMI Class  Gender_Encoded\n",
       "0   50   4.7  46    4.9   4.2  0.9  2.4  1.4   0.5  24.0     N               0\n",
       "1   26   4.5  62    4.9   3.7  1.4  1.1  2.1   0.6  23.0     N               1\n",
       "4   33   7.1  46    4.9   4.9  1.0  0.8  2.0   0.4  21.0     N               1\n",
       "5   45   2.3  24    4.0   2.9  1.0  1.0  1.5   0.4  21.0     N               0\n",
       "6   50   2.0  50    4.0   3.6  1.3  0.9  2.1   0.6  24.0     N               0"
      ]
     },
     "execution_count": 20,
     "metadata": {},
     "output_type": "execute_result"
    }
   ],
   "source": [
    "# Label encode Gender\n",
    "iraqi_df['Gender_Encoded'] = iraqi_df['Gender'].astype('category').cat.codes\n",
    "\n",
    "# Drop the original Gender column\n",
    "iraqi_df.drop(['Gender'], axis=1, inplace=True)\n",
    "\n",
    "# Output the modified dataset\n",
    "iraqi_df.head()"
   ]
  },
  {
   "cell_type": "markdown",
   "metadata": {},
   "source": [
    "Label Encoding for `Class` column"
   ]
  },
  {
   "cell_type": "code",
   "execution_count": 21,
   "metadata": {},
   "outputs": [
    {
     "data": {
      "text/html": [
       "<div>\n",
       "<style scoped>\n",
       "    .dataframe tbody tr th:only-of-type {\n",
       "        vertical-align: middle;\n",
       "    }\n",
       "\n",
       "    .dataframe tbody tr th {\n",
       "        vertical-align: top;\n",
       "    }\n",
       "\n",
       "    .dataframe thead th {\n",
       "        text-align: right;\n",
       "    }\n",
       "</style>\n",
       "<table border=\"1\" class=\"dataframe\">\n",
       "  <thead>\n",
       "    <tr style=\"text-align: right;\">\n",
       "      <th></th>\n",
       "      <th>Age</th>\n",
       "      <th>Urea</th>\n",
       "      <th>Cr</th>\n",
       "      <th>HbA1c</th>\n",
       "      <th>Chol</th>\n",
       "      <th>TG</th>\n",
       "      <th>HDL</th>\n",
       "      <th>LDL</th>\n",
       "      <th>VLDL</th>\n",
       "      <th>BMI</th>\n",
       "      <th>Gender_Encoded</th>\n",
       "      <th>Class_Encoded</th>\n",
       "    </tr>\n",
       "  </thead>\n",
       "  <tbody>\n",
       "    <tr>\n",
       "      <th>0</th>\n",
       "      <td>50</td>\n",
       "      <td>4.7</td>\n",
       "      <td>46</td>\n",
       "      <td>4.9</td>\n",
       "      <td>4.2</td>\n",
       "      <td>0.9</td>\n",
       "      <td>2.4</td>\n",
       "      <td>1.4</td>\n",
       "      <td>0.5</td>\n",
       "      <td>24.0</td>\n",
       "      <td>0</td>\n",
       "      <td>1</td>\n",
       "    </tr>\n",
       "    <tr>\n",
       "      <th>1</th>\n",
       "      <td>26</td>\n",
       "      <td>4.5</td>\n",
       "      <td>62</td>\n",
       "      <td>4.9</td>\n",
       "      <td>3.7</td>\n",
       "      <td>1.4</td>\n",
       "      <td>1.1</td>\n",
       "      <td>2.1</td>\n",
       "      <td>0.6</td>\n",
       "      <td>23.0</td>\n",
       "      <td>1</td>\n",
       "      <td>1</td>\n",
       "    </tr>\n",
       "    <tr>\n",
       "      <th>4</th>\n",
       "      <td>33</td>\n",
       "      <td>7.1</td>\n",
       "      <td>46</td>\n",
       "      <td>4.9</td>\n",
       "      <td>4.9</td>\n",
       "      <td>1.0</td>\n",
       "      <td>0.8</td>\n",
       "      <td>2.0</td>\n",
       "      <td>0.4</td>\n",
       "      <td>21.0</td>\n",
       "      <td>1</td>\n",
       "      <td>1</td>\n",
       "    </tr>\n",
       "    <tr>\n",
       "      <th>5</th>\n",
       "      <td>45</td>\n",
       "      <td>2.3</td>\n",
       "      <td>24</td>\n",
       "      <td>4.0</td>\n",
       "      <td>2.9</td>\n",
       "      <td>1.0</td>\n",
       "      <td>1.0</td>\n",
       "      <td>1.5</td>\n",
       "      <td>0.4</td>\n",
       "      <td>21.0</td>\n",
       "      <td>0</td>\n",
       "      <td>1</td>\n",
       "    </tr>\n",
       "    <tr>\n",
       "      <th>6</th>\n",
       "      <td>50</td>\n",
       "      <td>2.0</td>\n",
       "      <td>50</td>\n",
       "      <td>4.0</td>\n",
       "      <td>3.6</td>\n",
       "      <td>1.3</td>\n",
       "      <td>0.9</td>\n",
       "      <td>2.1</td>\n",
       "      <td>0.6</td>\n",
       "      <td>24.0</td>\n",
       "      <td>0</td>\n",
       "      <td>1</td>\n",
       "    </tr>\n",
       "  </tbody>\n",
       "</table>\n",
       "</div>"
      ],
      "text/plain": [
       "   Age  Urea  Cr  HbA1c  Chol   TG  HDL  LDL  VLDL   BMI  Gender_Encoded  \\\n",
       "0   50   4.7  46    4.9   4.2  0.9  2.4  1.4   0.5  24.0               0   \n",
       "1   26   4.5  62    4.9   3.7  1.4  1.1  2.1   0.6  23.0               1   \n",
       "4   33   7.1  46    4.9   4.9  1.0  0.8  2.0   0.4  21.0               1   \n",
       "5   45   2.3  24    4.0   2.9  1.0  1.0  1.5   0.4  21.0               0   \n",
       "6   50   2.0  50    4.0   3.6  1.3  0.9  2.1   0.6  24.0               0   \n",
       "\n",
       "   Class_Encoded  \n",
       "0              1  \n",
       "1              1  \n",
       "4              1  \n",
       "5              1  \n",
       "6              1  "
      ]
     },
     "execution_count": 21,
     "metadata": {},
     "output_type": "execute_result"
    }
   ],
   "source": [
    "# Label encode Gender\n",
    "iraqi_df['Class_Encoded'] = iraqi_df['Class'].astype('category').cat.codes\n",
    "\n",
    "# Drop the original Gender column\n",
    "iraqi_df.drop(['Class'], axis=1, inplace=True)\n",
    "\n",
    "# Output the modified dataset\n",
    "iraqi_df.head()"
   ]
  },
  {
   "cell_type": "markdown",
   "metadata": {},
   "source": [
    "# Data Visualization"
   ]
  },
  {
   "cell_type": "markdown",
   "metadata": {},
   "source": [
    "Count of Genders"
   ]
  },
  {
   "cell_type": "code",
   "execution_count": 22,
   "metadata": {},
   "outputs": [
    {
     "data": {
      "text/plain": [
       "\"# Create a temporary DataFrame for plotting with original gender labels\\ntemp_df = iraqi_df.copy()\\ntemp_df['Gender_Plot'] = temp_df['Gender_Encoded'].map({0: 'F', 1: 'M'})\\n\\n# Plot Gender counts with specific colors and display counts on bars\\nplt.figure(figsize=(8, 6))\\nax = sns.countplot(x='Gender_Plot', data=temp_df, palette=['pink', 'skyblue'])\\n\\n# Adding counts on top of each bar\\nfor p in ax.patches:\\n    ax.annotate(f'{int(p.get_height())}', \\n                (p.get_x() + p.get_width() / 2., p.get_height()), \\n                ha='center', va='center', fontsize=12, color='black', xytext=(0, 5), \\n                textcoords='offset points')\\n\\n# Add labels and title\\nplt.title('Count of Genders', fontsize=16)\\nplt.xlabel('Gender', fontsize=12)\\nplt.ylabel('Count', fontsize=12)\\nplt.show()\""
      ]
     },
     "execution_count": 22,
     "metadata": {},
     "output_type": "execute_result"
    }
   ],
   "source": [
    "\"\"\"# Create a temporary DataFrame for plotting with original gender labels\n",
    "temp_df = iraqi_df.copy()\n",
    "temp_df['Gender_Plot'] = temp_df['Gender_Encoded'].map({0: 'F', 1: 'M'})\n",
    "\n",
    "# Plot Gender counts with specific colors and display counts on bars\n",
    "plt.figure(figsize=(8, 6))\n",
    "ax = sns.countplot(x='Gender_Plot', data=temp_df, palette=['pink', 'skyblue'])\n",
    "\n",
    "# Adding counts on top of each bar\n",
    "for p in ax.patches:\n",
    "    ax.annotate(f'{int(p.get_height())}', \n",
    "                (p.get_x() + p.get_width() / 2., p.get_height()), \n",
    "                ha='center', va='center', fontsize=12, color='black', xytext=(0, 5), \n",
    "                textcoords='offset points')\n",
    "\n",
    "# Add labels and title\n",
    "plt.title('Count of Genders', fontsize=16)\n",
    "plt.xlabel('Gender', fontsize=12)\n",
    "plt.ylabel('Count', fontsize=12)\n",
    "plt.show()\"\"\""
   ]
  },
  {
   "cell_type": "markdown",
   "metadata": {},
   "source": [
    "Distribution of Numerical Features"
   ]
  },
  {
   "cell_type": "code",
   "execution_count": 23,
   "metadata": {},
   "outputs": [
    {
     "data": {
      "text/plain": [
       "\"# Select numerical columns from the dataset\\nnumerical_features = iraqi_df.select_dtypes(include=['float64', 'int64']).columns\\n\\n# Set up the figure for multiple subplots\\nplt.figure(figsize=(15, 15))\\nfor i, column in enumerate(numerical_features, 1):\\n    plt.subplot(len(numerical_features) // 3 + 1, 3, i)  # Create subplots dynamically\\n    sns.histplot(iraqi_df[column], kde=True, color='skyblue', bins=30)\\n    plt.title(f'Distribution of {column}')\\n    plt.xlabel(column)\\n    plt.ylabel('Frequency')\\n\\nplt.tight_layout()  # Adjust subplots to fit into figure area neatly\\nplt.show()\""
      ]
     },
     "execution_count": 23,
     "metadata": {},
     "output_type": "execute_result"
    }
   ],
   "source": [
    "\"\"\"# Select numerical columns from the dataset\n",
    "numerical_features = iraqi_df.select_dtypes(include=['float64', 'int64']).columns\n",
    "\n",
    "# Set up the figure for multiple subplots\n",
    "plt.figure(figsize=(15, 15))\n",
    "for i, column in enumerate(numerical_features, 1):\n",
    "    plt.subplot(len(numerical_features) // 3 + 1, 3, i)  # Create subplots dynamically\n",
    "    sns.histplot(iraqi_df[column], kde=True, color='skyblue', bins=30)\n",
    "    plt.title(f'Distribution of {column}')\n",
    "    plt.xlabel(column)\n",
    "    plt.ylabel('Frequency')\n",
    "\n",
    "plt.tight_layout()  # Adjust subplots to fit into figure area neatly\n",
    "plt.show()\"\"\""
   ]
  },
  {
   "cell_type": "markdown",
   "metadata": {},
   "source": [
    "Correlation Matrix of Numerical Features"
   ]
  },
  {
   "cell_type": "code",
   "execution_count": 24,
   "metadata": {},
   "outputs": [
    {
     "data": {
      "text/plain": [
       "'# Filter numeric columns only\\nnumeric_columns = iraqi_df.select_dtypes(include=[\\'float64\\', \\'int64\\'])\\n\\n# Compute the correlation matrix\\ncorrelation_matrix = numeric_columns.corr()\\n\\n# Display the correlation matrix as a heatmap\\nplt.figure(figsize=(10, 8))\\nsns.heatmap(correlation_matrix, annot=True, fmt=\".2f\", cmap=\"coolwarm\", cbar=True)\\n\\n# Add a title\\nplt.title(\"Correlation Matrix of Numerical Features\", fontsize=16)\\nplt.show()'"
      ]
     },
     "execution_count": 24,
     "metadata": {},
     "output_type": "execute_result"
    }
   ],
   "source": [
    "\"\"\"# Filter numeric columns only\n",
    "numeric_columns = iraqi_df.select_dtypes(include=['float64', 'int64'])\n",
    "\n",
    "# Compute the correlation matrix\n",
    "correlation_matrix = numeric_columns.corr()\n",
    "\n",
    "# Display the correlation matrix as a heatmap\n",
    "plt.figure(figsize=(10, 8))\n",
    "sns.heatmap(correlation_matrix, annot=True, fmt=\".2f\", cmap=\"coolwarm\", cbar=True)\n",
    "\n",
    "# Add a title\n",
    "plt.title(\"Correlation Matrix of Numerical Features\", fontsize=16)\n",
    "plt.show()\"\"\""
   ]
  },
  {
   "cell_type": "markdown",
   "metadata": {},
   "source": [
    "Gender Distribution Across Classes"
   ]
  },
  {
   "cell_type": "code",
   "execution_count": 25,
   "metadata": {},
   "outputs": [
    {
     "data": {
      "text/plain": [
       "\"# Reconstruct the original Class column from one-hot encoding\\ntemp_df = iraqi_df.copy()\\ntemp_df['Class_Plot'] = temp_df[['Class_N', 'Class_P', 'Class_D']].idxmax(axis=1).str.replace('Class_', '')\\n\\n# Map encoded Gender values back to original labels\\ntemp_df['Gender_Plot'] = temp_df['Gender_Encoded'].map({0: 'F', 1: 'M'})\\n\\n# Create a grouped bar plot\\nplt.figure(figsize=(8, 6))\\nax = sns.countplot(x='Class_Plot', hue='Gender_Plot', data=temp_df, palette=['pink', 'skyblue'])\\n\\n# Add counts on top of each bar\\nfor p in ax.patches:\\n    ax.annotate(\\n        f'{int(p.get_height())}',  # Text to display (bar height as integer)\\n        (p.get_x() + p.get_width() / 2., p.get_height()),  # Position at the center top of the bar\\n        ha='center',  # Align horizontally at center\\n        va='center',  # Align vertically\\n        fontsize=10,  # Font size\\n        color='black',  # Text color\\n        xytext=(0, 5),  # Offset from the top of the bar\\n        textcoords='offset points'  # Use offset positioning\\n    )\\n\\n# Add labels and title\\nplt.title('Gender Distribution Across Classes', fontsize=16)\\nplt.xlabel('Class', fontsize=12)\\nplt.ylabel('Count', fontsize=12)\\nplt.legend(title='Gender')\\nplt.show()\""
      ]
     },
     "execution_count": 25,
     "metadata": {},
     "output_type": "execute_result"
    }
   ],
   "source": [
    "\"\"\"# Reconstruct the original Class column from one-hot encoding\n",
    "temp_df = iraqi_df.copy()\n",
    "temp_df['Class_Plot'] = temp_df[['Class_N', 'Class_P', 'Class_D']].idxmax(axis=1).str.replace('Class_', '')\n",
    "\n",
    "# Map encoded Gender values back to original labels\n",
    "temp_df['Gender_Plot'] = temp_df['Gender_Encoded'].map({0: 'F', 1: 'M'})\n",
    "\n",
    "# Create a grouped bar plot\n",
    "plt.figure(figsize=(8, 6))\n",
    "ax = sns.countplot(x='Class_Plot', hue='Gender_Plot', data=temp_df, palette=['pink', 'skyblue'])\n",
    "\n",
    "# Add counts on top of each bar\n",
    "for p in ax.patches:\n",
    "    ax.annotate(\n",
    "        f'{int(p.get_height())}',  # Text to display (bar height as integer)\n",
    "        (p.get_x() + p.get_width() / 2., p.get_height()),  # Position at the center top of the bar\n",
    "        ha='center',  # Align horizontally at center\n",
    "        va='center',  # Align vertically\n",
    "        fontsize=10,  # Font size\n",
    "        color='black',  # Text color\n",
    "        xytext=(0, 5),  # Offset from the top of the bar\n",
    "        textcoords='offset points'  # Use offset positioning\n",
    "    )\n",
    "\n",
    "# Add labels and title\n",
    "plt.title('Gender Distribution Across Classes', fontsize=16)\n",
    "plt.xlabel('Class', fontsize=12)\n",
    "plt.ylabel('Count', fontsize=12)\n",
    "plt.legend(title='Gender')\n",
    "plt.show()\"\"\""
   ]
  },
  {
   "cell_type": "markdown",
   "metadata": {},
   "source": [
    "Pairplot of HDL, LDL, and VLDL Grouped by Class"
   ]
  },
  {
   "cell_type": "code",
   "execution_count": 26,
   "metadata": {},
   "outputs": [
    {
     "data": {
      "text/plain": [
       "\"# Create a temporary DataFrame for visualization\\ntemp_df = iraqi_df.copy()\\n\\n# Reconstruct the 'Class' column from one-hot encoded columns\\ntemp_df['Class_Reconstructed'] = temp_df[['Class_N', 'Class_P', 'Class_D']].idxmax(axis=1).str.replace('Class_', '')\\n\\n# Ensure necessary columns are present and drop rows with missing values\\ntemp_df = temp_df[['HDL', 'LDL', 'VLDL', 'Class_Reconstructed']].dropna()\\n\\n# Create a pair plot with Seaborn\\nsns.pairplot(\\n    temp_df,\\n    vars=['HDL', 'LDL', 'VLDL'],  # Numerical variables to plot\\n    hue='Class_Reconstructed',    # Group by Class\\n    palette='Set2',               # Set color palette\\n    diag_kind='kde',              # Kernel density estimation for diagonal\\n)\\n\\n# Add a title\\nplt.suptitle('Pairplot of HDL, LDL, and VLDL Grouped by Class', y=1.02, fontsize=16)\\n\\n# Show the plot\\nplt.show()\""
      ]
     },
     "execution_count": 26,
     "metadata": {},
     "output_type": "execute_result"
    }
   ],
   "source": [
    "\"\"\"# Create a temporary DataFrame for visualization\n",
    "temp_df = iraqi_df.copy()\n",
    "\n",
    "# Reconstruct the 'Class' column from one-hot encoded columns\n",
    "temp_df['Class_Reconstructed'] = temp_df[['Class_N', 'Class_P', 'Class_D']].idxmax(axis=1).str.replace('Class_', '')\n",
    "\n",
    "# Ensure necessary columns are present and drop rows with missing values\n",
    "temp_df = temp_df[['HDL', 'LDL', 'VLDL', 'Class_Reconstructed']].dropna()\n",
    "\n",
    "# Create a pair plot with Seaborn\n",
    "sns.pairplot(\n",
    "    temp_df,\n",
    "    vars=['HDL', 'LDL', 'VLDL'],  # Numerical variables to plot\n",
    "    hue='Class_Reconstructed',    # Group by Class\n",
    "    palette='Set2',               # Set color palette\n",
    "    diag_kind='kde',              # Kernel density estimation for diagonal\n",
    ")\n",
    "\n",
    "# Add a title\n",
    "plt.suptitle('Pairplot of HDL, LDL, and VLDL Grouped by Class', y=1.02, fontsize=16)\n",
    "\n",
    "# Show the plot\n",
    "plt.show()\"\"\""
   ]
  },
  {
   "cell_type": "markdown",
   "metadata": {},
   "source": [
    "Urea Values Across Classes"
   ]
  },
  {
   "cell_type": "code",
   "execution_count": 27,
   "metadata": {},
   "outputs": [
    {
     "data": {
      "text/plain": [
       "\"# Reconstruct the 'Class' column from one-hot encoded columns\\ntemp_df = iraqi_df.copy()\\ntemp_df['Class_Reconstructed'] = temp_df[['Class_N', 'Class_P', 'Class_D']].idxmax(axis=1).str.replace('Class_', '')\\n\\n# Create the swarm plot for Urea grouped by reconstructed Class\\nplt.figure(figsize=(8, 6))\\nsns.swarmplot(x='Class_Reconstructed', y='Urea', data=temp_df, palette='husl', alpha=0.8)\\n\\n# Add labels and title\\nplt.title('Urea Values Across Classes', fontsize=16)\\nplt.xlabel('Class', fontsize=12)\\nplt.ylabel('Urea', fontsize=12)\\nplt.show()\""
      ]
     },
     "execution_count": 27,
     "metadata": {},
     "output_type": "execute_result"
    }
   ],
   "source": [
    "\"\"\"# Reconstruct the 'Class' column from one-hot encoded columns\n",
    "temp_df = iraqi_df.copy()\n",
    "temp_df['Class_Reconstructed'] = temp_df[['Class_N', 'Class_P', 'Class_D']].idxmax(axis=1).str.replace('Class_', '')\n",
    "\n",
    "# Create the swarm plot for Urea grouped by reconstructed Class\n",
    "plt.figure(figsize=(8, 6))\n",
    "sns.swarmplot(x='Class_Reconstructed', y='Urea', data=temp_df, palette='husl', alpha=0.8)\n",
    "\n",
    "# Add labels and title\n",
    "plt.title('Urea Values Across Classes', fontsize=16)\n",
    "plt.xlabel('Class', fontsize=12)\n",
    "plt.ylabel('Urea', fontsize=12)\n",
    "plt.show()\"\"\""
   ]
  },
  {
   "cell_type": "markdown",
   "metadata": {},
   "source": [
    "Joint Plot of Cr vs Urea"
   ]
  },
  {
   "cell_type": "code",
   "execution_count": 28,
   "metadata": {},
   "outputs": [
    {
     "data": {
      "text/plain": [
       "\"# Reconstruct the 'Class' column from one-hot encoded columns\\ntemp_df = iraqi_df.copy()\\ntemp_df['Class_Reconstructed'] = temp_df[['Class_N', 'Class_P', 'Class_D']].idxmax(axis=1).str.replace('Class_', '')\\n\\n# Create a joint plot for Cr vs Urea, grouped by reconstructed Class\\nsns.jointplot(\\n    data=temp_df,\\n    x='Cr', \\n    y='Urea', \\n    hue='Class_Reconstructed', \\n    kind='scatter', \\n    palette='Set1', \\n    height=8\\n)\\n\\n# Add a title\\nplt.suptitle('Joint Plot of Cr vs Urea', y=1.02, fontsize=16)\\nplt.show()\""
      ]
     },
     "execution_count": 28,
     "metadata": {},
     "output_type": "execute_result"
    }
   ],
   "source": [
    "\"\"\"# Reconstruct the 'Class' column from one-hot encoded columns\n",
    "temp_df = iraqi_df.copy()\n",
    "temp_df['Class_Reconstructed'] = temp_df[['Class_N', 'Class_P', 'Class_D']].idxmax(axis=1).str.replace('Class_', '')\n",
    "\n",
    "# Create a joint plot for Cr vs Urea, grouped by reconstructed Class\n",
    "sns.jointplot(\n",
    "    data=temp_df,\n",
    "    x='Cr', \n",
    "    y='Urea', \n",
    "    hue='Class_Reconstructed', \n",
    "    kind='scatter', \n",
    "    palette='Set1', \n",
    "    height=8\n",
    ")\n",
    "\n",
    "# Add a title\n",
    "plt.suptitle('Joint Plot of Cr vs Urea', y=1.02, fontsize=16)\n",
    "plt.show()\"\"\""
   ]
  },
  {
   "cell_type": "markdown",
   "metadata": {},
   "source": [
    "HbA1c Values Across Classes"
   ]
  },
  {
   "cell_type": "code",
   "execution_count": 29,
   "metadata": {},
   "outputs": [
    {
     "data": {
      "text/plain": [
       "\"# Reconstruct the 'Class' column from one-hot encoded columns\\ntemp_df = iraqi_df.copy()\\ntemp_df['Class_Reconstructed'] = temp_df[['Class_N', 'Class_P', 'Class_D']].idxmax(axis=1).str.replace('Class_', '')\\n\\n# Create the swarm plot for HbA1c grouped by reconstructed Class\\nplt.figure(figsize=(8, 6))\\nsns.swarmplot(x='Class_Reconstructed', y='HbA1c', data=temp_df, palette='husl', alpha=0.8)\\n\\n# Add labels and title\\nplt.title('HbA1c Values Across Classes', fontsize=16)\\nplt.xlabel('Class', fontsize=12)\\nplt.ylabel('HbA1c', fontsize=12)\\nplt.show()\""
      ]
     },
     "execution_count": 29,
     "metadata": {},
     "output_type": "execute_result"
    }
   ],
   "source": [
    "\"\"\"# Reconstruct the 'Class' column from one-hot encoded columns\n",
    "temp_df = iraqi_df.copy()\n",
    "temp_df['Class_Reconstructed'] = temp_df[['Class_N', 'Class_P', 'Class_D']].idxmax(axis=1).str.replace('Class_', '')\n",
    "\n",
    "# Create the swarm plot for HbA1c grouped by reconstructed Class\n",
    "plt.figure(figsize=(8, 6))\n",
    "sns.swarmplot(x='Class_Reconstructed', y='HbA1c', data=temp_df, palette='husl', alpha=0.8)\n",
    "\n",
    "# Add labels and title\n",
    "plt.title('HbA1c Values Across Classes', fontsize=16)\n",
    "plt.xlabel('Class', fontsize=12)\n",
    "plt.ylabel('HbA1c', fontsize=12)\n",
    "plt.show()\"\"\""
   ]
  },
  {
   "cell_type": "markdown",
   "metadata": {},
   "source": [
    "Pairwise Relationships Between Features Grouped by Class"
   ]
  },
  {
   "cell_type": "code",
   "execution_count": 30,
   "metadata": {},
   "outputs": [
    {
     "data": {
      "text/plain": [
       "\"# Reconstruct the 'Class' column from one-hot encoded columns\\ntemp_df = iraqi_df.copy()\\ntemp_df['Class_Reconstructed'] = temp_df[['Class_N', 'Class_P', 'Class_D']].idxmax(axis=1).str.replace('Class_', '')\\n\\n# Select numerical columns for pair plot\\nnumeric_columns = iraqi_df.select_dtypes(include=['float64', 'int64']).columns  # Get column names as a list\\n\\n# Create the pair plot for numerical features grouped by reconstructed Class\\nsns.pairplot(\\n    temp_df,\\n    vars=numeric_columns,  # Numerical features to include\\n    hue='Class_Reconstructed',  # Group by reconstructed Class\\n    diag_kind='kde',  # Kernel density estimation on diagonals\\n    palette='Set2',  # Color palette\\n    height=3\\n)\\n\\n# Add a title\\nplt.suptitle('Pairwise Relationships Between Features Grouped by Class', y=1.02, fontsize=16)\\n\\n# Show the plot\\nplt.show()\""
      ]
     },
     "execution_count": 30,
     "metadata": {},
     "output_type": "execute_result"
    }
   ],
   "source": [
    "\"\"\"# Reconstruct the 'Class' column from one-hot encoded columns\n",
    "temp_df = iraqi_df.copy()\n",
    "temp_df['Class_Reconstructed'] = temp_df[['Class_N', 'Class_P', 'Class_D']].idxmax(axis=1).str.replace('Class_', '')\n",
    "\n",
    "# Select numerical columns for pair plot\n",
    "numeric_columns = iraqi_df.select_dtypes(include=['float64', 'int64']).columns  # Get column names as a list\n",
    "\n",
    "# Create the pair plot for numerical features grouped by reconstructed Class\n",
    "sns.pairplot(\n",
    "    temp_df,\n",
    "    vars=numeric_columns,  # Numerical features to include\n",
    "    hue='Class_Reconstructed',  # Group by reconstructed Class\n",
    "    diag_kind='kde',  # Kernel density estimation on diagonals\n",
    "    palette='Set2',  # Color palette\n",
    "    height=3\n",
    ")\n",
    "\n",
    "# Add a title\n",
    "plt.suptitle('Pairwise Relationships Between Features Grouped by Class', y=1.02, fontsize=16)\n",
    "\n",
    "# Show the plot\n",
    "plt.show()\"\"\""
   ]
  },
  {
   "cell_type": "markdown",
   "metadata": {},
   "source": [
    "# Saving Processed CSV File"
   ]
  },
  {
   "cell_type": "code",
   "execution_count": 31,
   "metadata": {},
   "outputs": [
    {
     "name": "stdout",
     "output_type": "stream",
     "text": [
      "Updated dataset saved to: C:\\Users\\dahab\\OneDrive\\Desktop\\T2D-Prediction-System--Data-Fusion-for-Enhanced-Decision-Making\\processed_datasets\\clinical\\Iraq_pro.csv\n"
     ]
    }
   ],
   "source": [
    "# Define the exact output file path\n",
    "output_file_path = r'C:\\Users\\dahab\\OneDrive\\Desktop\\T2D-Prediction-System--Data-Fusion-for-Enhanced-Decision-Making\\processed_datasets\\clinical\\Iraq_pro.csv'\n",
    "\n",
    "# Save the updated DataFrame to a CSV file\n",
    "iraqi_df.to_csv(output_file_path, index=False)\n",
    "\n",
    "print(f\"Updated dataset saved to: {output_file_path}\")"
   ]
  },
  {
   "cell_type": "markdown",
   "metadata": {},
   "source": [
    "# Conclusion"
   ]
  },
  {
   "cell_type": "markdown",
   "metadata": {},
   "source": []
  }
 ],
 "metadata": {
  "kernelspec": {
   "display_name": "base",
   "language": "python",
   "name": "python3"
  },
  "language_info": {
   "codemirror_mode": {
    "name": "ipython",
    "version": 3
   },
   "file_extension": ".py",
   "mimetype": "text/x-python",
   "name": "python",
   "nbconvert_exporter": "python",
   "pygments_lexer": "ipython3",
   "version": "3.11.7"
  }
 },
 "nbformat": 4,
 "nbformat_minor": 2
}
