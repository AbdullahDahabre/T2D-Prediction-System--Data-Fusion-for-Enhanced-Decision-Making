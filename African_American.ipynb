{
 "cells": [
  {
   "cell_type": "markdown",
   "metadata": {},
   "source": [
    "# Clinical Dataset Description\n",
    "\n",
    "| **Column Attribute** | **Description** | **Units** | **Data Type** |\n",
    "|-----------------------|-----------------|-----------|---------------|\n",
    "| **Patient Number**    | Identifies patients by number | -         | Numerical     |\n",
    "| **Cholesterol**       | Total cholesterol            | mg/dl     | Numerical     |\n",
    "| **Glucose**           | Fasting blood sugar          | mg/dl     | Numerical     |\n",
    "| **HDL**               | HDL or good cholesterol      | mg/dl     | Numerical     |\n",
    "| **Chol/HDL**          | Ratio of total cholesterol to good cholesterol. Desirable result is < 5 | - | Numerical |\n",
    "| **Age**               | All adult African Americans  | -         | Numerical     |\n",
    "| **Gender**            | 162 males, 228 females       | -         | Nominal       |\n",
    "| **Height**            | In inches                   | inches    | Numerical     |\n",
    "| **Weight**            | In pounds                   | lbs       | Numerical     |\n",
    "| **BMI**               | 703 x weight (lbs) / [height (inches)]² | - | Numerical |\n",
    "| **Systolic BP**       | The upper number of blood pressure | mmHg  | Numerical     |\n",
    "| **Diastolic BP**      | The lower number of blood pressure | mmHg | Numerical     |\n",
    "| **Waist**             | Measured in inches          | inches    | Numerical     |\n",
    "| **Hip**               | Measured in inches          | inches    | Numerical     |\n",
    "| **Waist/Hip**         | Ratio is possibly a stronger risk factor for heart disease than BMI | - | Numerical |\n",
    "| **Diabetes**          | Yes (60), No (330)          | -         | Nominal       |\n"
   ]
  },
  {
   "cell_type": "markdown",
   "metadata": {},
   "source": [
    "# Features Relationships in the Dataset"
   ]
  },
  {
   "cell_type": "markdown",
   "metadata": {},
   "source": [
    "### 1. Glucose and Diabetes\n",
    "Hypothesis: Diabetic patients are expected to have significantly higher fasting glucose levels compared to non-diabetic individuals.\n",
    "\n",
    "### 2. BMI and Diabetes\n",
    "Hypothesis: Obese and overweight individuals are more likely to be diabetic due to the strong association between body fat and insulin resistance.\n",
    "\n",
    "### 3. Cholesterol and HDL\n",
    "Hypothesis: Diabetic patients are likely to have higher total cholesterol levels and lower HDL levels, which increases the risk of cardiovascular complications.\n",
    "\n",
    "### 4. Blood Pressure (Systolic and Diastolic)\n",
    "Hypothesis: Diabetic patients are more likely to have elevated systolic and diastolic blood pressure due to the correlation between hypertension and diabetes.\n",
    "\n",
    "### 5. Age and Diabetes\n",
    "Hypothesis: The prevalence of diabetes increases with age, particularly among individuals over 45 years.\n",
    "\n",
    "### 6. Waist-to-Hip Ratio\n",
    "Hypothesis: A higher waist-to-hip ratio is a stronger indicator of abdominal obesity, which is closely linked to insulin resistance and diabetes.\n",
    "### 7. Chol/HDL Ratio\n",
    "Hypothesis: A higher Chol/HDL ratio indicates poorer lipid profiles and is often observed in diabetic patients."
   ]
  },
  {
   "cell_type": "markdown",
   "metadata": {},
   "source": [
    "# Importing Libraries and Loading Data"
   ]
  },
  {
   "cell_type": "code",
   "execution_count": 64,
   "metadata": {},
   "outputs": [],
   "source": [
    "# Essentials\n",
    "import numpy as np\n",
    "import pandas as pd\n",
    "from sklearn.preprocessing import LabelEncoder\n",
    "\n",
    "# Visualization\n",
    "import matplotlib.pyplot as plt\n",
    "import seaborn as sns\n",
    "\n",
    "# Warnings\n",
    "import warnings\n",
    "warnings.filterwarnings('ignore')"
   ]
  },
  {
   "cell_type": "code",
   "execution_count": 65,
   "metadata": {},
   "outputs": [],
   "source": [
    "data_path = r\"/Users/mohammedbasem/Desktop/T2D-Prediction-System--Data-Fusion-for-Enhanced-Decision-Making/datasets/clinical/African_clinical_dataset.csv\"\n",
    "african_df = pd.read_csv(data_path)"
   ]
  },
  {
   "cell_type": "markdown",
   "metadata": {},
   "source": [
    "# Exploratory Data Analysis and Cleaning"
   ]
  },
  {
   "cell_type": "markdown",
   "metadata": {},
   "source": [
    "#### Display basic information about the dataset"
   ]
  },
  {
   "cell_type": "code",
   "execution_count": 66,
   "metadata": {},
   "outputs": [
    {
     "name": "stdout",
     "output_type": "stream",
     "text": [
      "Dataset Info:\n",
      "<class 'pandas.core.frame.DataFrame'>\n",
      "RangeIndex: 390 entries, 0 to 389\n",
      "Data columns (total 16 columns):\n",
      " #   Column           Non-Null Count  Dtype  \n",
      "---  ------           --------------  -----  \n",
      " 0   Patient number   390 non-null    int64  \n",
      " 1   Cholesterol      390 non-null    int64  \n",
      " 2   Glucose          390 non-null    int64  \n",
      " 3   HDL Chol         390 non-null    int64  \n",
      " 4   Chol/HDL ratio   390 non-null    float64\n",
      " 5   Age              390 non-null    int64  \n",
      " 6   Gender           390 non-null    object \n",
      " 7   Height           390 non-null    int64  \n",
      " 8   Weight           390 non-null    int64  \n",
      " 9   BMI              390 non-null    float64\n",
      " 10  Systolic BP      390 non-null    int64  \n",
      " 11  Diastolic BP     390 non-null    int64  \n",
      " 12  waist            390 non-null    int64  \n",
      " 13  hip              390 non-null    int64  \n",
      " 14  Waist/hip ratio  390 non-null    float64\n",
      " 15  Diabetes         390 non-null    object \n",
      "dtypes: float64(3), int64(11), object(2)\n",
      "memory usage: 48.9+ KB\n"
     ]
    }
   ],
   "source": [
    "print(\"Dataset Info:\")\n",
    "african_df.info()"
   ]
  },
  {
   "cell_type": "markdown",
   "metadata": {},
   "source": [
    "#### Display the first few rows of the dataset"
   ]
  },
  {
   "cell_type": "code",
   "execution_count": 67,
   "metadata": {},
   "outputs": [
    {
     "name": "stdout",
     "output_type": "stream",
     "text": [
      "\n",
      "First 5 rows of the dataset:\n"
     ]
    },
    {
     "data": {
      "text/html": [
       "<div>\n",
       "<style scoped>\n",
       "    .dataframe tbody tr th:only-of-type {\n",
       "        vertical-align: middle;\n",
       "    }\n",
       "\n",
       "    .dataframe tbody tr th {\n",
       "        vertical-align: top;\n",
       "    }\n",
       "\n",
       "    .dataframe thead th {\n",
       "        text-align: right;\n",
       "    }\n",
       "</style>\n",
       "<table border=\"1\" class=\"dataframe\">\n",
       "  <thead>\n",
       "    <tr style=\"text-align: right;\">\n",
       "      <th></th>\n",
       "      <th>Patient number</th>\n",
       "      <th>Cholesterol</th>\n",
       "      <th>Glucose</th>\n",
       "      <th>HDL Chol</th>\n",
       "      <th>Chol/HDL ratio</th>\n",
       "      <th>Age</th>\n",
       "      <th>Gender</th>\n",
       "      <th>Height</th>\n",
       "      <th>Weight</th>\n",
       "      <th>BMI</th>\n",
       "      <th>Systolic BP</th>\n",
       "      <th>Diastolic BP</th>\n",
       "      <th>waist</th>\n",
       "      <th>hip</th>\n",
       "      <th>Waist/hip ratio</th>\n",
       "      <th>Diabetes</th>\n",
       "    </tr>\n",
       "  </thead>\n",
       "  <tbody>\n",
       "    <tr>\n",
       "      <th>0</th>\n",
       "      <td>1</td>\n",
       "      <td>193</td>\n",
       "      <td>77</td>\n",
       "      <td>49</td>\n",
       "      <td>3.9</td>\n",
       "      <td>19</td>\n",
       "      <td>female</td>\n",
       "      <td>61</td>\n",
       "      <td>119</td>\n",
       "      <td>22.5</td>\n",
       "      <td>118</td>\n",
       "      <td>70</td>\n",
       "      <td>32</td>\n",
       "      <td>38</td>\n",
       "      <td>0.84</td>\n",
       "      <td>No diabetes</td>\n",
       "    </tr>\n",
       "    <tr>\n",
       "      <th>1</th>\n",
       "      <td>2</td>\n",
       "      <td>146</td>\n",
       "      <td>79</td>\n",
       "      <td>41</td>\n",
       "      <td>3.6</td>\n",
       "      <td>19</td>\n",
       "      <td>female</td>\n",
       "      <td>60</td>\n",
       "      <td>135</td>\n",
       "      <td>26.4</td>\n",
       "      <td>108</td>\n",
       "      <td>58</td>\n",
       "      <td>33</td>\n",
       "      <td>40</td>\n",
       "      <td>0.83</td>\n",
       "      <td>No diabetes</td>\n",
       "    </tr>\n",
       "    <tr>\n",
       "      <th>2</th>\n",
       "      <td>3</td>\n",
       "      <td>217</td>\n",
       "      <td>75</td>\n",
       "      <td>54</td>\n",
       "      <td>4.0</td>\n",
       "      <td>20</td>\n",
       "      <td>female</td>\n",
       "      <td>67</td>\n",
       "      <td>187</td>\n",
       "      <td>29.3</td>\n",
       "      <td>110</td>\n",
       "      <td>72</td>\n",
       "      <td>40</td>\n",
       "      <td>45</td>\n",
       "      <td>0.89</td>\n",
       "      <td>No diabetes</td>\n",
       "    </tr>\n",
       "    <tr>\n",
       "      <th>3</th>\n",
       "      <td>4</td>\n",
       "      <td>226</td>\n",
       "      <td>97</td>\n",
       "      <td>70</td>\n",
       "      <td>3.2</td>\n",
       "      <td>20</td>\n",
       "      <td>female</td>\n",
       "      <td>64</td>\n",
       "      <td>114</td>\n",
       "      <td>19.6</td>\n",
       "      <td>122</td>\n",
       "      <td>64</td>\n",
       "      <td>31</td>\n",
       "      <td>39</td>\n",
       "      <td>0.79</td>\n",
       "      <td>No diabetes</td>\n",
       "    </tr>\n",
       "    <tr>\n",
       "      <th>4</th>\n",
       "      <td>5</td>\n",
       "      <td>164</td>\n",
       "      <td>91</td>\n",
       "      <td>67</td>\n",
       "      <td>2.4</td>\n",
       "      <td>20</td>\n",
       "      <td>female</td>\n",
       "      <td>70</td>\n",
       "      <td>141</td>\n",
       "      <td>20.2</td>\n",
       "      <td>122</td>\n",
       "      <td>86</td>\n",
       "      <td>32</td>\n",
       "      <td>39</td>\n",
       "      <td>0.82</td>\n",
       "      <td>No diabetes</td>\n",
       "    </tr>\n",
       "  </tbody>\n",
       "</table>\n",
       "</div>"
      ],
      "text/plain": [
       "   Patient number  Cholesterol  Glucose  HDL Chol  Chol/HDL ratio  Age  \\\n",
       "0               1          193       77        49             3.9   19   \n",
       "1               2          146       79        41             3.6   19   \n",
       "2               3          217       75        54             4.0   20   \n",
       "3               4          226       97        70             3.2   20   \n",
       "4               5          164       91        67             2.4   20   \n",
       "\n",
       "   Gender  Height  Weight   BMI  Systolic BP  Diastolic BP  waist  hip  \\\n",
       "0  female      61     119  22.5          118            70     32   38   \n",
       "1  female      60     135  26.4          108            58     33   40   \n",
       "2  female      67     187  29.3          110            72     40   45   \n",
       "3  female      64     114  19.6          122            64     31   39   \n",
       "4  female      70     141  20.2          122            86     32   39   \n",
       "\n",
       "   Waist/hip ratio     Diabetes  \n",
       "0             0.84  No diabetes  \n",
       "1             0.83  No diabetes  \n",
       "2             0.89  No diabetes  \n",
       "3             0.79  No diabetes  \n",
       "4             0.82  No diabetes  "
      ]
     },
     "execution_count": 67,
     "metadata": {},
     "output_type": "execute_result"
    }
   ],
   "source": [
    "print(\"\\nFirst 5 rows of the dataset:\")\n",
    "african_df.head()"
   ]
  },
  {
   "cell_type": "markdown",
   "metadata": {},
   "source": [
    "#### Check for missing values"
   ]
  },
  {
   "cell_type": "code",
   "execution_count": 68,
   "metadata": {},
   "outputs": [
    {
     "name": "stdout",
     "output_type": "stream",
     "text": [
      "\n",
      "Missing Values:\n",
      "Patient number     0\n",
      "Cholesterol        0\n",
      "Glucose            0\n",
      "HDL Chol           0\n",
      "Chol/HDL ratio     0\n",
      "Age                0\n",
      "Gender             0\n",
      "Height             0\n",
      "Weight             0\n",
      "BMI                0\n",
      "Systolic BP        0\n",
      "Diastolic BP       0\n",
      "waist              0\n",
      "hip                0\n",
      "Waist/hip ratio    0\n",
      "Diabetes           0\n",
      "dtype: int64\n"
     ]
    }
   ],
   "source": [
    "print(\"\\nMissing Values:\")\n",
    "print(african_df.isnull().sum())"
   ]
  },
  {
   "cell_type": "markdown",
   "metadata": {},
   "source": [
    "#### Check for duplicate rows"
   ]
  },
  {
   "cell_type": "code",
   "execution_count": 69,
   "metadata": {},
   "outputs": [
    {
     "name": "stdout",
     "output_type": "stream",
     "text": [
      "\n",
      "Duplicate Rows:\n",
      "0\n"
     ]
    }
   ],
   "source": [
    "print(\"\\nDuplicate Rows:\")\n",
    "print(african_df.duplicated().sum())"
   ]
  },
  {
   "cell_type": "markdown",
   "metadata": {},
   "source": [
    "#### Basic statistics of the dataset"
   ]
  },
  {
   "cell_type": "code",
   "execution_count": 70,
   "metadata": {},
   "outputs": [
    {
     "name": "stdout",
     "output_type": "stream",
     "text": [
      "\n",
      "Dataset Description:\n"
     ]
    },
    {
     "data": {
      "text/html": [
       "<div>\n",
       "<style scoped>\n",
       "    .dataframe tbody tr th:only-of-type {\n",
       "        vertical-align: middle;\n",
       "    }\n",
       "\n",
       "    .dataframe tbody tr th {\n",
       "        vertical-align: top;\n",
       "    }\n",
       "\n",
       "    .dataframe thead th {\n",
       "        text-align: right;\n",
       "    }\n",
       "</style>\n",
       "<table border=\"1\" class=\"dataframe\">\n",
       "  <thead>\n",
       "    <tr style=\"text-align: right;\">\n",
       "      <th></th>\n",
       "      <th>Patient number</th>\n",
       "      <th>Cholesterol</th>\n",
       "      <th>Glucose</th>\n",
       "      <th>HDL Chol</th>\n",
       "      <th>Chol/HDL ratio</th>\n",
       "      <th>Age</th>\n",
       "      <th>Height</th>\n",
       "      <th>Weight</th>\n",
       "      <th>BMI</th>\n",
       "      <th>Systolic BP</th>\n",
       "      <th>Diastolic BP</th>\n",
       "      <th>waist</th>\n",
       "      <th>hip</th>\n",
       "      <th>Waist/hip ratio</th>\n",
       "    </tr>\n",
       "  </thead>\n",
       "  <tbody>\n",
       "    <tr>\n",
       "      <th>count</th>\n",
       "      <td>390.000000</td>\n",
       "      <td>390.000000</td>\n",
       "      <td>390.000000</td>\n",
       "      <td>390.000000</td>\n",
       "      <td>390.000000</td>\n",
       "      <td>390.000000</td>\n",
       "      <td>390.000000</td>\n",
       "      <td>390.000000</td>\n",
       "      <td>390.000000</td>\n",
       "      <td>390.000000</td>\n",
       "      <td>390.000000</td>\n",
       "      <td>390.000000</td>\n",
       "      <td>390.000000</td>\n",
       "      <td>390.000000</td>\n",
       "    </tr>\n",
       "    <tr>\n",
       "      <th>mean</th>\n",
       "      <td>195.500000</td>\n",
       "      <td>207.230769</td>\n",
       "      <td>107.338462</td>\n",
       "      <td>50.266667</td>\n",
       "      <td>4.524615</td>\n",
       "      <td>46.774359</td>\n",
       "      <td>65.951282</td>\n",
       "      <td>177.407692</td>\n",
       "      <td>28.775641</td>\n",
       "      <td>137.133333</td>\n",
       "      <td>83.289744</td>\n",
       "      <td>37.869231</td>\n",
       "      <td>42.992308</td>\n",
       "      <td>0.881385</td>\n",
       "    </tr>\n",
       "    <tr>\n",
       "      <th>std</th>\n",
       "      <td>112.727548</td>\n",
       "      <td>44.666005</td>\n",
       "      <td>53.798188</td>\n",
       "      <td>17.279069</td>\n",
       "      <td>1.736634</td>\n",
       "      <td>16.435911</td>\n",
       "      <td>3.918867</td>\n",
       "      <td>40.407824</td>\n",
       "      <td>6.600915</td>\n",
       "      <td>22.859528</td>\n",
       "      <td>13.498192</td>\n",
       "      <td>5.760947</td>\n",
       "      <td>5.664342</td>\n",
       "      <td>0.073212</td>\n",
       "    </tr>\n",
       "    <tr>\n",
       "      <th>min</th>\n",
       "      <td>1.000000</td>\n",
       "      <td>78.000000</td>\n",
       "      <td>48.000000</td>\n",
       "      <td>12.000000</td>\n",
       "      <td>1.500000</td>\n",
       "      <td>19.000000</td>\n",
       "      <td>52.000000</td>\n",
       "      <td>99.000000</td>\n",
       "      <td>15.200000</td>\n",
       "      <td>90.000000</td>\n",
       "      <td>48.000000</td>\n",
       "      <td>26.000000</td>\n",
       "      <td>30.000000</td>\n",
       "      <td>0.680000</td>\n",
       "    </tr>\n",
       "    <tr>\n",
       "      <th>25%</th>\n",
       "      <td>98.250000</td>\n",
       "      <td>179.000000</td>\n",
       "      <td>81.000000</td>\n",
       "      <td>38.000000</td>\n",
       "      <td>3.200000</td>\n",
       "      <td>34.000000</td>\n",
       "      <td>63.000000</td>\n",
       "      <td>150.250000</td>\n",
       "      <td>24.100000</td>\n",
       "      <td>122.000000</td>\n",
       "      <td>75.000000</td>\n",
       "      <td>33.000000</td>\n",
       "      <td>39.000000</td>\n",
       "      <td>0.830000</td>\n",
       "    </tr>\n",
       "    <tr>\n",
       "      <th>50%</th>\n",
       "      <td>195.500000</td>\n",
       "      <td>203.000000</td>\n",
       "      <td>90.000000</td>\n",
       "      <td>46.000000</td>\n",
       "      <td>4.200000</td>\n",
       "      <td>44.500000</td>\n",
       "      <td>66.000000</td>\n",
       "      <td>173.000000</td>\n",
       "      <td>27.800000</td>\n",
       "      <td>136.000000</td>\n",
       "      <td>82.000000</td>\n",
       "      <td>37.000000</td>\n",
       "      <td>42.000000</td>\n",
       "      <td>0.880000</td>\n",
       "    </tr>\n",
       "    <tr>\n",
       "      <th>75%</th>\n",
       "      <td>292.750000</td>\n",
       "      <td>229.000000</td>\n",
       "      <td>107.750000</td>\n",
       "      <td>59.000000</td>\n",
       "      <td>5.400000</td>\n",
       "      <td>60.000000</td>\n",
       "      <td>69.000000</td>\n",
       "      <td>200.000000</td>\n",
       "      <td>32.275000</td>\n",
       "      <td>148.000000</td>\n",
       "      <td>90.000000</td>\n",
       "      <td>41.000000</td>\n",
       "      <td>46.000000</td>\n",
       "      <td>0.930000</td>\n",
       "    </tr>\n",
       "    <tr>\n",
       "      <th>max</th>\n",
       "      <td>390.000000</td>\n",
       "      <td>443.000000</td>\n",
       "      <td>385.000000</td>\n",
       "      <td>120.000000</td>\n",
       "      <td>19.300000</td>\n",
       "      <td>92.000000</td>\n",
       "      <td>76.000000</td>\n",
       "      <td>325.000000</td>\n",
       "      <td>55.800000</td>\n",
       "      <td>250.000000</td>\n",
       "      <td>124.000000</td>\n",
       "      <td>56.000000</td>\n",
       "      <td>64.000000</td>\n",
       "      <td>1.140000</td>\n",
       "    </tr>\n",
       "  </tbody>\n",
       "</table>\n",
       "</div>"
      ],
      "text/plain": [
       "       Patient number  Cholesterol     Glucose    HDL Chol  Chol/HDL ratio  \\\n",
       "count      390.000000   390.000000  390.000000  390.000000      390.000000   \n",
       "mean       195.500000   207.230769  107.338462   50.266667        4.524615   \n",
       "std        112.727548    44.666005   53.798188   17.279069        1.736634   \n",
       "min          1.000000    78.000000   48.000000   12.000000        1.500000   \n",
       "25%         98.250000   179.000000   81.000000   38.000000        3.200000   \n",
       "50%        195.500000   203.000000   90.000000   46.000000        4.200000   \n",
       "75%        292.750000   229.000000  107.750000   59.000000        5.400000   \n",
       "max        390.000000   443.000000  385.000000  120.000000       19.300000   \n",
       "\n",
       "              Age      Height      Weight         BMI  Systolic BP  \\\n",
       "count  390.000000  390.000000  390.000000  390.000000   390.000000   \n",
       "mean    46.774359   65.951282  177.407692   28.775641   137.133333   \n",
       "std     16.435911    3.918867   40.407824    6.600915    22.859528   \n",
       "min     19.000000   52.000000   99.000000   15.200000    90.000000   \n",
       "25%     34.000000   63.000000  150.250000   24.100000   122.000000   \n",
       "50%     44.500000   66.000000  173.000000   27.800000   136.000000   \n",
       "75%     60.000000   69.000000  200.000000   32.275000   148.000000   \n",
       "max     92.000000   76.000000  325.000000   55.800000   250.000000   \n",
       "\n",
       "       Diastolic BP       waist         hip  Waist/hip ratio  \n",
       "count    390.000000  390.000000  390.000000       390.000000  \n",
       "mean      83.289744   37.869231   42.992308         0.881385  \n",
       "std       13.498192    5.760947    5.664342         0.073212  \n",
       "min       48.000000   26.000000   30.000000         0.680000  \n",
       "25%       75.000000   33.000000   39.000000         0.830000  \n",
       "50%       82.000000   37.000000   42.000000         0.880000  \n",
       "75%       90.000000   41.000000   46.000000         0.930000  \n",
       "max      124.000000   56.000000   64.000000         1.140000  "
      ]
     },
     "execution_count": 70,
     "metadata": {},
     "output_type": "execute_result"
    }
   ],
   "source": [
    "print(\"\\nDataset Description:\")\n",
    "african_df.describe()"
   ]
  },
  {
   "cell_type": "markdown",
   "metadata": {},
   "source": [
    "#### Drop the first column ('Patient Number')"
   ]
  },
  {
   "cell_type": "code",
   "execution_count": 71,
   "metadata": {},
   "outputs": [],
   "source": [
    "\n",
    "african_df=african_df.iloc[:, 1:]"
   ]
  },
  {
   "cell_type": "code",
   "execution_count": 72,
   "metadata": {},
   "outputs": [
    {
     "name": "stdout",
     "output_type": "stream",
     "text": [
      "\n",
      "Categorical Columns: ['Gender', 'Diabetes']\n"
     ]
    }
   ],
   "source": [
    "cat_columns = african_df.select_dtypes(include=['object', 'category']).columns\n",
    "print(\"\\nCategorical Columns:\", list(cat_columns))"
   ]
  },
  {
   "cell_type": "markdown",
   "metadata": {},
   "source": [
    "#### Analyze categorical variables (e.g., value counts)"
   ]
  },
  {
   "cell_type": "code",
   "execution_count": 73,
   "metadata": {},
   "outputs": [
    {
     "data": {
      "text/plain": [
       "'for col in cat_columns:\\n    print(f\"\\nValue counts for {col}:\")\\n    print(african_df[col].value_counts())\\n    plt.figure(figsize=(8, 4))\\n    sns.countplot(data=african_df, x=col, order=african_df[col].value_counts().index)\\n    plt.title(f\"Count Plot of {col}\")\\n    plt.show()'"
      ]
     },
     "execution_count": 73,
     "metadata": {},
     "output_type": "execute_result"
    }
   ],
   "source": [
    "\"\"\"for col in cat_columns:\n",
    "    print(f\"\\nValue counts for {col}:\")\n",
    "    print(african_df[col].value_counts())\n",
    "    plt.figure(figsize=(8, 4))\n",
    "    sns.countplot(data=african_df, x=col, order=african_df[col].value_counts().index)\n",
    "    plt.title(f\"Count Plot of {col}\")\n",
    "    plt.show()\"\"\""
   ]
  },
  {
   "cell_type": "markdown",
   "metadata": {},
   "source": [
    "# Data Visualization"
   ]
  },
  {
   "cell_type": "markdown",
   "metadata": {},
   "source": [
    "#### Visualize distributions of numerical features"
   ]
  },
  {
   "cell_type": "code",
   "execution_count": 74,
   "metadata": {},
   "outputs": [
    {
     "data": {
      "text/plain": [
       "'\\nnum_columns = african_df.select_dtypes(include=[\\'float64\\', \\'int64\\']).columns\\n\\nfor col in num_columns:\\n    plt.figure(figsize=(8, 4))\\n    sns.histplot(african_df[col], kde=True, bins=30)\\n    plt.title(f\"Distribution of {col}\")\\n    plt.show()'"
      ]
     },
     "execution_count": 74,
     "metadata": {},
     "output_type": "execute_result"
    }
   ],
   "source": [
    "\"\"\"\n",
    "num_columns = african_df.select_dtypes(include=['float64', 'int64']).columns\n",
    "\n",
    "for col in num_columns:\n",
    "    plt.figure(figsize=(8, 4))\n",
    "    sns.histplot(african_df[col], kde=True, bins=30)\n",
    "    plt.title(f\"Distribution of {col}\")\n",
    "    plt.show()\"\"\""
   ]
  },
  {
   "cell_type": "markdown",
   "metadata": {},
   "source": [
    "# Correlation heatmap"
   ]
  },
  {
   "cell_type": "code",
   "execution_count": 75,
   "metadata": {},
   "outputs": [
    {
     "data": {
      "text/plain": [
       "'# Select only numerical columns for the correlation matrix\\nnumerical_data = african_df.select_dtypes(include=[\\'float64\\', \\'int64\\'])\\n\\n# Generate the correlation matrix\\nplt.figure(figsize=(12, 8))\\ncorrelation_matrix = numerical_data.corr()\\nsns.heatmap(correlation_matrix, annot=True, fmt=\".2f\", cmap=\"coolwarm\")\\nplt.title(\"Correlation Heatmap\")\\nplt.show()'"
      ]
     },
     "execution_count": 75,
     "metadata": {},
     "output_type": "execute_result"
    }
   ],
   "source": [
    "\"\"\"# Select only numerical columns for the correlation matrix\n",
    "numerical_data = african_df.select_dtypes(include=['float64', 'int64'])\n",
    "\n",
    "# Generate the correlation matrix\n",
    "plt.figure(figsize=(12, 8))\n",
    "correlation_matrix = numerical_data.corr()\n",
    "sns.heatmap(correlation_matrix, annot=True, fmt=\".2f\", cmap=\"coolwarm\")\n",
    "plt.title(\"Correlation Heatmap\")\n",
    "plt.show()\"\"\""
   ]
  },
  {
   "cell_type": "markdown",
   "metadata": {},
   "source": [
    "### Pairplot for numerical variables"
   ]
  },
  {
   "cell_type": "code",
   "execution_count": 76,
   "metadata": {},
   "outputs": [
    {
     "data": {
      "text/plain": [
       "'sns.pairplot(african_df[num_columns])\\nplt.show()'"
      ]
     },
     "execution_count": 76,
     "metadata": {},
     "output_type": "execute_result"
    }
   ],
   "source": [
    "\"\"\"sns.pairplot(african_df[num_columns])\n",
    "plt.show()\"\"\""
   ]
  },
  {
   "cell_type": "markdown",
   "metadata": {},
   "source": [
    "### Scatterplot: BMI vs Waist/Hip Ratio"
   ]
  },
  {
   "cell_type": "code",
   "execution_count": 77,
   "metadata": {},
   "outputs": [
    {
     "data": {
      "text/plain": [
       "'plt.figure(figsize=(8, 6))\\nsns.scatterplot(data=african_df, x=\"BMI\", y=\"Waist/hip ratio\", hue=\"Diabetes\")\\nplt.title(\"BMI vs Waist/Hip Ratio (Colored by Diabetes)\")\\nplt.show()'"
      ]
     },
     "execution_count": 77,
     "metadata": {},
     "output_type": "execute_result"
    }
   ],
   "source": [
    "\"\"\"plt.figure(figsize=(8, 6))\n",
    "sns.scatterplot(data=african_df, x=\"BMI\", y=\"Waist/hip ratio\", hue=\"Diabetes\")\n",
    "plt.title(\"BMI vs Waist/Hip Ratio (Colored by Diabetes)\")\n",
    "plt.show()\"\"\""
   ]
  },
  {
   "cell_type": "markdown",
   "metadata": {},
   "source": [
    "### Boxplot: Systolic BP by Gender"
   ]
  },
  {
   "cell_type": "code",
   "execution_count": 78,
   "metadata": {},
   "outputs": [
    {
     "data": {
      "text/plain": [
       "'# Boxplot: Systolic BP by Gender\\nplt.figure(figsize=(8, 6))\\nsns.boxplot(data=african_df, x=\"Gender\", y=\"Systolic BP\")\\nplt.title(\"Systolic Blood Pressure by Gender\")\\nplt.show()'"
      ]
     },
     "execution_count": 78,
     "metadata": {},
     "output_type": "execute_result"
    }
   ],
   "source": [
    "\"\"\"# Boxplot: Systolic BP by Gender\n",
    "plt.figure(figsize=(8, 6))\n",
    "sns.boxplot(data=african_df, x=\"Gender\", y=\"Systolic BP\")\n",
    "plt.title(\"Systolic Blood Pressure by Gender\")\n",
    "plt.show()\"\"\""
   ]
  },
  {
   "cell_type": "markdown",
   "metadata": {},
   "source": [
    "### Boxplot: Cholesterol by Gender"
   ]
  },
  {
   "cell_type": "code",
   "execution_count": 79,
   "metadata": {},
   "outputs": [
    {
     "data": {
      "text/plain": [
       "'# Boxplot: Cholesterol by Gender\\nplt.figure(figsize=(8, 6))\\nsns.boxplot(data=african_df, x=\"Gender\", y=\"Cholesterol\")\\nplt.title(\"Cholesterol Levels by Gender\")\\nplt.show()'"
      ]
     },
     "execution_count": 79,
     "metadata": {},
     "output_type": "execute_result"
    }
   ],
   "source": [
    "\"\"\"# Boxplot: Cholesterol by Gender\n",
    "plt.figure(figsize=(8, 6))\n",
    "sns.boxplot(data=african_df, x=\"Gender\", y=\"Cholesterol\")\n",
    "plt.title(\"Cholesterol Levels by Gender\")\n",
    "plt.show()\"\"\""
   ]
  },
  {
   "cell_type": "markdown",
   "metadata": {},
   "source": [
    "### Glucose vs Age (colored by Diabetes)"
   ]
  },
  {
   "cell_type": "code",
   "execution_count": 80,
   "metadata": {},
   "outputs": [
    {
     "data": {
      "text/plain": [
       "'### Glucose vs Age (colored by Diabetes)\\nif \\'Glucose\\' in african_df.columns and \\'Age\\' in african_df.columns and \\'Diabetes\\' in cat_columns:\\n    plt.figure(figsize=(8, 6))\\n    sns.scatterplot(data=african_df, x=\\'Age\\', y=\\'Glucose\\', hue=\\'Diabetes\\')\\n    plt.title(\"Glucose vs Age by Diabetes Status\")\\n    plt.show()'"
      ]
     },
     "execution_count": 80,
     "metadata": {},
     "output_type": "execute_result"
    }
   ],
   "source": [
    "\"\"\"### Glucose vs Age (colored by Diabetes)\n",
    "if 'Glucose' in african_df.columns and 'Age' in african_df.columns and 'Diabetes' in cat_columns:\n",
    "    plt.figure(figsize=(8, 6))\n",
    "    sns.scatterplot(data=african_df, x='Age', y='Glucose', hue='Diabetes')\n",
    "    plt.title(\"Glucose vs Age by Diabetes Status\")\n",
    "    plt.show()\"\"\""
   ]
  },
  {
   "cell_type": "markdown",
   "metadata": {},
   "source": [
    "### Waist vs Hip (colored by Gender)"
   ]
  },
  {
   "cell_type": "code",
   "execution_count": 81,
   "metadata": {},
   "outputs": [
    {
     "data": {
      "text/plain": [
       "'### Waist vs Hip (colored by Gender)\\nif \\'waist\\' in african_df.columns and \\'hip\\' in african_df.columns and \\'Gender\\' in cat_columns:\\n    plt.figure(figsize=(8, 6))\\n    sns.scatterplot(data=african_df, x=\\'waist\\', y=\\'hip\\', hue=\\'Gender\\')\\n    plt.title(\"Waist vs Hip by Gender\")\\n    plt.show()'"
      ]
     },
     "execution_count": 81,
     "metadata": {},
     "output_type": "execute_result"
    }
   ],
   "source": [
    "\"\"\"### Waist vs Hip (colored by Gender)\n",
    "if 'waist' in african_df.columns and 'hip' in african_df.columns and 'Gender' in cat_columns:\n",
    "    plt.figure(figsize=(8, 6))\n",
    "    sns.scatterplot(data=african_df, x='waist', y='hip', hue='Gender')\n",
    "    plt.title(\"Waist vs Hip by Gender\")\n",
    "    plt.show()\"\"\""
   ]
  },
  {
   "cell_type": "markdown",
   "metadata": {},
   "source": [
    "### Chol/HDL Ratio vs Age"
   ]
  },
  {
   "cell_type": "code",
   "execution_count": 82,
   "metadata": {},
   "outputs": [
    {
     "data": {
      "text/plain": [
       "'### Chol/HDL Ratio vs Age\\nif \\'Chol/HDL ratio\\' in african_df.columns and \\'Age\\' in african_df.columns:\\n    plt.figure(figsize=(8, 6))\\n    sns.scatterplot(data=african_df, x=\\'Age\\', y=\\'Chol/HDL ratio\\', hue=\\'Diabetes\\')\\n    plt.title(\"Chol/HDL Ratio vs Age by Diabetes Status\")\\n    plt.show()'"
      ]
     },
     "execution_count": 82,
     "metadata": {},
     "output_type": "execute_result"
    }
   ],
   "source": [
    "\"\"\"### Chol/HDL Ratio vs Age\n",
    "if 'Chol/HDL ratio' in african_df.columns and 'Age' in african_df.columns:\n",
    "    plt.figure(figsize=(8, 6))\n",
    "    sns.scatterplot(data=african_df, x='Age', y='Chol/HDL ratio', hue='Diabetes')\n",
    "    plt.title(\"Chol/HDL Ratio vs Age by Diabetes Status\")\n",
    "    plt.show()\"\"\""
   ]
  },
  {
   "cell_type": "markdown",
   "metadata": {},
   "source": [
    "### Glucose Distribution by Diabetes Status"
   ]
  },
  {
   "cell_type": "code",
   "execution_count": 83,
   "metadata": {},
   "outputs": [
    {
     "data": {
      "text/plain": [
       "'### Glucose Distribution by Diabetes Status\\nif \\'Glucose\\' in african_df.columns and \\'Diabetes\\' in cat_columns:\\n    plt.figure(figsize=(8, 6))\\n    sns.boxplot(data=african_df, x=\\'Diabetes\\', y=\\'Glucose\\')\\n    plt.title(\"Glucose Levels by Diabetes Status\")\\n    plt.show()'"
      ]
     },
     "execution_count": 83,
     "metadata": {},
     "output_type": "execute_result"
    }
   ],
   "source": [
    "\"\"\"### Glucose Distribution by Diabetes Status\n",
    "if 'Glucose' in african_df.columns and 'Diabetes' in cat_columns:\n",
    "    plt.figure(figsize=(8, 6))\n",
    "    sns.boxplot(data=african_df, x='Diabetes', y='Glucose')\n",
    "    plt.title(\"Glucose Levels by Diabetes Status\")\n",
    "    plt.show()\"\"\""
   ]
  },
  {
   "cell_type": "markdown",
   "metadata": {},
   "source": [
    "### BMI Categories and Diabetes"
   ]
  },
  {
   "cell_type": "code",
   "execution_count": 84,
   "metadata": {},
   "outputs": [
    {
     "data": {
      "text/plain": [
       "'### BMI Categories and Diabetes\\nif \\'BMI\\' in african_df.columns and \\'Diabetes\\' in cat_columns:\\n    def bmi_category(bmi):\\n        if bmi < 18.5:\\n            return \"Underweight\"\\n        elif 18.5 <= bmi < 24.9:\\n            return \"Normal\"\\n        elif 25 <= bmi < 29.9:\\n            return \"Overweight\"\\n        else:\\n            return \"Obese\"\\n\\n    african_df[\\'BMI Category\\'] = african_df[\\'BMI\\'].apply(bmi_category)\\n    plt.figure(figsize=(8, 6))\\n    sns.countplot(data=african_df, x=\\'BMI Category\\', hue=\\'Diabetes\\', order=[\\'Underweight\\', \\'Normal\\', \\'Overweight\\', \\'Obese\\'])\\n    plt.title(\"BMI Categories by Diabetes Status\")\\n    plt.show()'"
      ]
     },
     "execution_count": 84,
     "metadata": {},
     "output_type": "execute_result"
    }
   ],
   "source": [
    "\"\"\"### BMI Categories and Diabetes\n",
    "if 'BMI' in african_df.columns and 'Diabetes' in cat_columns:\n",
    "    def bmi_category(bmi):\n",
    "        if bmi < 18.5:\n",
    "            return \"Underweight\"\n",
    "        elif 18.5 <= bmi < 24.9:\n",
    "            return \"Normal\"\n",
    "        elif 25 <= bmi < 29.9:\n",
    "            return \"Overweight\"\n",
    "        else:\n",
    "            return \"Obese\"\n",
    "\n",
    "    african_df['BMI Category'] = african_df['BMI'].apply(bmi_category)\n",
    "    plt.figure(figsize=(8, 6))\n",
    "    sns.countplot(data=african_df, x='BMI Category', hue='Diabetes', order=['Underweight', 'Normal', 'Overweight', 'Obese'])\n",
    "    plt.title(\"BMI Categories by Diabetes Status\")\n",
    "    plt.show()\"\"\""
   ]
  },
  {
   "cell_type": "markdown",
   "metadata": {},
   "source": [
    "\n"
   ]
  },
  {
   "cell_type": "markdown",
   "metadata": {},
   "source": [
    "### Cholesterol vs HDL (colored by Diabetes)"
   ]
  },
  {
   "cell_type": "code",
   "execution_count": 85,
   "metadata": {},
   "outputs": [
    {
     "data": {
      "text/plain": [
       "'### Cholesterol vs HDL (colored by Diabetes)\\nif \\'Cholesterol\\' in african_df.columns and \\'HDL Chol\\' in african_df.columns and \\'Diabetes\\' in cat_columns:\\n    plt.figure(figsize=(8, 6))\\n    sns.scatterplot(data=african_df, x=\\'HDL Chol\\', y=\\'Cholesterol\\', hue=\\'Diabetes\\')\\n    plt.title(\"Cholesterol vs HDL by Diabetes Status\")\\n    plt.show()'"
      ]
     },
     "execution_count": 85,
     "metadata": {},
     "output_type": "execute_result"
    }
   ],
   "source": [
    "\"\"\"### Cholesterol vs HDL (colored by Diabetes)\n",
    "if 'Cholesterol' in african_df.columns and 'HDL Chol' in african_df.columns and 'Diabetes' in cat_columns:\n",
    "    plt.figure(figsize=(8, 6))\n",
    "    sns.scatterplot(data=african_df, x='HDL Chol', y='Cholesterol', hue='Diabetes')\n",
    "    plt.title(\"Cholesterol vs HDL by Diabetes Status\")\n",
    "    plt.show()\"\"\""
   ]
  },
  {
   "cell_type": "markdown",
   "metadata": {},
   "source": [
    "### Systolic BP vs Diastolic BP"
   ]
  },
  {
   "cell_type": "code",
   "execution_count": 86,
   "metadata": {},
   "outputs": [
    {
     "data": {
      "text/plain": [
       "'### Systolic BP vs Diastolic BP\\nif \\'Systolic BP\\' in african_df.columns and \\'Diastolic BP\\' in african_df.columns and \\'Diabetes\\' in cat_columns:\\n    plt.figure(figsize=(8, 6))\\n    sns.scatterplot(data=african_df, x=\\'Systolic BP\\', y=\\'Diastolic BP\\', hue=\\'Diabetes\\')\\n    plt.title(\"Systolic BP vs Diastolic BP by Diabetes Status\")\\n    plt.show()'"
      ]
     },
     "execution_count": 86,
     "metadata": {},
     "output_type": "execute_result"
    }
   ],
   "source": [
    "\"\"\"### Systolic BP vs Diastolic BP\n",
    "if 'Systolic BP' in african_df.columns and 'Diastolic BP' in african_df.columns and 'Diabetes' in cat_columns:\n",
    "    plt.figure(figsize=(8, 6))\n",
    "    sns.scatterplot(data=african_df, x='Systolic BP', y='Diastolic BP', hue='Diabetes')\n",
    "    plt.title(\"Systolic BP vs Diastolic BP by Diabetes Status\")\n",
    "    plt.show()\"\"\""
   ]
  },
  {
   "cell_type": "markdown",
   "metadata": {},
   "source": [
    "### Age Distribution by Diabetes Status"
   ]
  },
  {
   "cell_type": "code",
   "execution_count": 87,
   "metadata": {},
   "outputs": [
    {
     "data": {
      "text/plain": [
       "'### Age Distribution by Diabetes Status\\nif \\'Age\\' in african_df.columns and \\'Diabetes\\' in cat_columns:\\n    plt.figure(figsize=(8, 6))\\n    sns.histplot(data=african_df, x=\\'Age\\', hue=\\'Diabetes\\', kde=True, bins=20)\\n    plt.title(\"Age Distribution by Diabetes Status\")\\n    plt.show()'"
      ]
     },
     "execution_count": 87,
     "metadata": {},
     "output_type": "execute_result"
    }
   ],
   "source": [
    "\"\"\"### Age Distribution by Diabetes Status\n",
    "if 'Age' in african_df.columns and 'Diabetes' in cat_columns:\n",
    "    plt.figure(figsize=(8, 6))\n",
    "    sns.histplot(data=african_df, x='Age', hue='Diabetes', kde=True, bins=20)\n",
    "    plt.title(\"Age Distribution by Diabetes Status\")\n",
    "    plt.show()\"\"\""
   ]
  },
  {
   "cell_type": "markdown",
   "metadata": {},
   "source": [
    "# Feature Engineering"
   ]
  },
  {
   "cell_type": "markdown",
   "metadata": {},
   "source": [
    "#### Convert 'Gender' column to numerical"
   ]
  },
  {
   "cell_type": "code",
   "execution_count": 88,
   "metadata": {},
   "outputs": [
    {
     "name": "stdout",
     "output_type": "stream",
     "text": [
      "\n",
      "'Gender' column converted to numerical:\n",
      "   Gender\n",
      "0       0\n",
      "1       0\n",
      "2       0\n",
      "3       0\n",
      "4       0\n"
     ]
    }
   ],
   "source": [
    "if 'Gender' in african_df.columns:\n",
    "    le = LabelEncoder()\n",
    "    african_df['Gender'] = le.fit_transform(african_df['Gender'])\n",
    "    print(\"\\n'Gender' column converted to numerical:\")\n",
    "    print(african_df[['Gender']].head())"
   ]
  },
  {
   "cell_type": "markdown",
   "metadata": {},
   "source": [
    "####  Convert 'Diabetes' column to numerical"
   ]
  },
  {
   "cell_type": "code",
   "execution_count": 89,
   "metadata": {},
   "outputs": [
    {
     "name": "stdout",
     "output_type": "stream",
     "text": [
      "\n",
      "'Diabetes' column converted to 0 and 1:\n",
      "   Diabetes\n",
      "0         0\n",
      "1         0\n",
      "2         0\n",
      "3         0\n",
      "4         0\n"
     ]
    }
   ],
   "source": [
    "if 'Diabetes' in african_df.columns:\n",
    "    african_df['Diabetes'] = african_df['Diabetes'].map({'No diabetes': 0, 'Diabetes': 1})\n",
    "    print(\"\\n'Diabetes' column converted to 0 and 1:\")\n",
    "    print(african_df[['Diabetes']].head())"
   ]
  },
  {
   "cell_type": "markdown",
   "metadata": {},
   "source": [
    "### Encoded BMI Category to numircal "
   ]
  },
  {
   "cell_type": "code",
   "execution_count": 90,
   "metadata": {},
   "outputs": [],
   "source": [
    "# Convert BMI Categories to numerical\n",
    "if 'BMI Category' in african_df.columns:\n",
    "    bmi_mapping = {\"Underweight\": 0, \"Normal\": 1, \"Overweight\": 2, \"Obese\": 3}\n",
    "    african_df['BMI Category'] = african_df['BMI Category'].map(bmi_mapping)\n",
    "    print(\"\\n'BMI Category' column converted to numerical:\")\n",
    "    print(african_df[['BMI Category']].head())"
   ]
  },
  {
   "cell_type": "code",
   "execution_count": 91,
   "metadata": {},
   "outputs": [
    {
     "data": {
      "text/html": [
       "<div>\n",
       "<style scoped>\n",
       "    .dataframe tbody tr th:only-of-type {\n",
       "        vertical-align: middle;\n",
       "    }\n",
       "\n",
       "    .dataframe tbody tr th {\n",
       "        vertical-align: top;\n",
       "    }\n",
       "\n",
       "    .dataframe thead th {\n",
       "        text-align: right;\n",
       "    }\n",
       "</style>\n",
       "<table border=\"1\" class=\"dataframe\">\n",
       "  <thead>\n",
       "    <tr style=\"text-align: right;\">\n",
       "      <th></th>\n",
       "      <th>Cholesterol</th>\n",
       "      <th>Glucose</th>\n",
       "      <th>HDL Chol</th>\n",
       "      <th>Chol/HDL ratio</th>\n",
       "      <th>Age</th>\n",
       "      <th>Gender</th>\n",
       "      <th>Height</th>\n",
       "      <th>Weight</th>\n",
       "      <th>BMI</th>\n",
       "      <th>Systolic BP</th>\n",
       "      <th>Diastolic BP</th>\n",
       "      <th>waist</th>\n",
       "      <th>hip</th>\n",
       "      <th>Waist/hip ratio</th>\n",
       "      <th>Diabetes</th>\n",
       "    </tr>\n",
       "  </thead>\n",
       "  <tbody>\n",
       "    <tr>\n",
       "      <th>0</th>\n",
       "      <td>193</td>\n",
       "      <td>77</td>\n",
       "      <td>49</td>\n",
       "      <td>3.9</td>\n",
       "      <td>19</td>\n",
       "      <td>0</td>\n",
       "      <td>61</td>\n",
       "      <td>119</td>\n",
       "      <td>22.5</td>\n",
       "      <td>118</td>\n",
       "      <td>70</td>\n",
       "      <td>32</td>\n",
       "      <td>38</td>\n",
       "      <td>0.84</td>\n",
       "      <td>0</td>\n",
       "    </tr>\n",
       "    <tr>\n",
       "      <th>1</th>\n",
       "      <td>146</td>\n",
       "      <td>79</td>\n",
       "      <td>41</td>\n",
       "      <td>3.6</td>\n",
       "      <td>19</td>\n",
       "      <td>0</td>\n",
       "      <td>60</td>\n",
       "      <td>135</td>\n",
       "      <td>26.4</td>\n",
       "      <td>108</td>\n",
       "      <td>58</td>\n",
       "      <td>33</td>\n",
       "      <td>40</td>\n",
       "      <td>0.83</td>\n",
       "      <td>0</td>\n",
       "    </tr>\n",
       "    <tr>\n",
       "      <th>2</th>\n",
       "      <td>217</td>\n",
       "      <td>75</td>\n",
       "      <td>54</td>\n",
       "      <td>4.0</td>\n",
       "      <td>20</td>\n",
       "      <td>0</td>\n",
       "      <td>67</td>\n",
       "      <td>187</td>\n",
       "      <td>29.3</td>\n",
       "      <td>110</td>\n",
       "      <td>72</td>\n",
       "      <td>40</td>\n",
       "      <td>45</td>\n",
       "      <td>0.89</td>\n",
       "      <td>0</td>\n",
       "    </tr>\n",
       "    <tr>\n",
       "      <th>3</th>\n",
       "      <td>226</td>\n",
       "      <td>97</td>\n",
       "      <td>70</td>\n",
       "      <td>3.2</td>\n",
       "      <td>20</td>\n",
       "      <td>0</td>\n",
       "      <td>64</td>\n",
       "      <td>114</td>\n",
       "      <td>19.6</td>\n",
       "      <td>122</td>\n",
       "      <td>64</td>\n",
       "      <td>31</td>\n",
       "      <td>39</td>\n",
       "      <td>0.79</td>\n",
       "      <td>0</td>\n",
       "    </tr>\n",
       "    <tr>\n",
       "      <th>4</th>\n",
       "      <td>164</td>\n",
       "      <td>91</td>\n",
       "      <td>67</td>\n",
       "      <td>2.4</td>\n",
       "      <td>20</td>\n",
       "      <td>0</td>\n",
       "      <td>70</td>\n",
       "      <td>141</td>\n",
       "      <td>20.2</td>\n",
       "      <td>122</td>\n",
       "      <td>86</td>\n",
       "      <td>32</td>\n",
       "      <td>39</td>\n",
       "      <td>0.82</td>\n",
       "      <td>0</td>\n",
       "    </tr>\n",
       "  </tbody>\n",
       "</table>\n",
       "</div>"
      ],
      "text/plain": [
       "   Cholesterol  Glucose  HDL Chol  Chol/HDL ratio  Age  Gender  Height  \\\n",
       "0          193       77        49             3.9   19       0      61   \n",
       "1          146       79        41             3.6   19       0      60   \n",
       "2          217       75        54             4.0   20       0      67   \n",
       "3          226       97        70             3.2   20       0      64   \n",
       "4          164       91        67             2.4   20       0      70   \n",
       "\n",
       "   Weight   BMI  Systolic BP  Diastolic BP  waist  hip  Waist/hip ratio  \\\n",
       "0     119  22.5          118            70     32   38             0.84   \n",
       "1     135  26.4          108            58     33   40             0.83   \n",
       "2     187  29.3          110            72     40   45             0.89   \n",
       "3     114  19.6          122            64     31   39             0.79   \n",
       "4     141  20.2          122            86     32   39             0.82   \n",
       "\n",
       "   Diabetes  \n",
       "0         0  \n",
       "1         0  \n",
       "2         0  \n",
       "3         0  \n",
       "4         0  "
      ]
     },
     "execution_count": 91,
     "metadata": {},
     "output_type": "execute_result"
    }
   ],
   "source": [
    "african_df.head()"
   ]
  },
  {
   "cell_type": "markdown",
   "metadata": {},
   "source": [
    "# Saving Processed CSV File"
   ]
  },
  {
   "cell_type": "code",
   "execution_count": 92,
   "metadata": {},
   "outputs": [
    {
     "name": "stdout",
     "output_type": "stream",
     "text": [
      "Updated dataset saved to: /Users/mohammedbasem/Desktop/T2D-Prediction-System--Data-Fusion-for-Enhanced-Decision-Making/processed_datasets/clinical/African_pro.csv\n"
     ]
    }
   ],
   "source": [
    "# Define the exact output file path\n",
    "output_file_path = \"/Users/mohammedbasem/Desktop/T2D-Prediction-System--Data-Fusion-for-Enhanced-Decision-Making/processed_datasets/clinical/African_pro.csv\"\n",
    "\n",
    "# Save the updated DataFrame to a CSV file\n",
    "african_df.to_csv(output_file_path, index=False)\n",
    "\n",
    "print(f\"Updated dataset saved to: {output_file_path}\")"
   ]
  },
  {
   "cell_type": "markdown",
   "metadata": {},
   "source": [
    "# Conclusion"
   ]
  },
  {
   "cell_type": "markdown",
   "metadata": {},
   "source": []
  },
  {
   "cell_type": "markdown",
   "metadata": {},
   "source": [
    "# Dataset Source and Modifications\n",
    "\n",
    "This dataset originated from Vanderbilt, but the original data was collected as part of a study of rural African Americans in Virginia. I made the following modifications and notes:\n",
    "\n",
    "- **Data Cleaning**: \n",
    "  - Removed 13 patients who had missing data.\n",
    "  - Diabetes diagnosis was originally based on a glycohemoglobin level greater than 7. Current guidelines use a glycohemoglobin of 6.5 or greater to diagnose diabetes.\n",
    "\n",
    "- **New Ratios Created**:\n",
    "  - Added a **Total Cholesterol/HDL Cholesterol Ratio**, which is now commonly used but was not part of the original data.\n",
    "  - Added a **Waist-to-Hip Ratio**, also a common metric in contemporary studies.\n",
    "\n",
    "### Reference\n",
    "Williams JP, Saunders JT, Hunt DE, Schorling JB. *Prevalence of coronary risk factors among rural blacks: A community-based study.* Southern Medical Journal. 1997;90:814-820."
   ]
  }
 ],
 "metadata": {
  "kernelspec": {
   "display_name": "base",
   "language": "python",
   "name": "python3"
  },
  "language_info": {
   "codemirror_mode": {
    "name": "ipython",
    "version": 3
   },
   "file_extension": ".py",
   "mimetype": "text/x-python",
   "name": "python",
   "nbconvert_exporter": "python",
   "pygments_lexer": "ipython3",
   "version": "3.12.2"
  }
 },
 "nbformat": 4,
 "nbformat_minor": 2
}
