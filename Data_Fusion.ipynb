{
 "cells": [
  {
   "cell_type": "markdown",
   "metadata": {},
   "source": [
    "# Data preprocessing for Fusion and Model"
   ]
  },
  {
   "cell_type": "markdown",
   "metadata": {},
   "source": [
    "Importing Libraries"
   ]
  },
  {
   "cell_type": "code",
   "execution_count": 38,
   "metadata": {
    "ExecuteTime": {
     "end_time": "2025-02-18T15:12:53.854083600Z",
     "start_time": "2025-02-18T15:12:41.761926600Z"
    }
   },
   "outputs": [],
   "source": [
    "# Essentials\n",
    "import pandas as pd\n",
    "import numpy as np\n",
    "\n",
    "# Processing\n",
    "from sklearn.preprocessing import StandardScaler\n",
    "\n",
    "# Model\n",
    "\n",
    "# Visualization\n",
    "\n",
    "# Warnings\n",
    "import warnings\n",
    "warnings.filterwarnings('ignore')"
   ]
  },
  {
   "cell_type": "markdown",
   "metadata": {},
   "source": [
    "Loading Datasets"
   ]
  },
  {
   "cell_type": "code",
   "execution_count": 39,
   "metadata": {
    "ExecuteTime": {
     "end_time": "2025-02-18T15:36:25.581539600Z",
     "start_time": "2025-02-18T15:36:25.297433200Z"
    }
   },
   "outputs": [],
   "source": [
    "# Clinical Datasets\n",
    "African = pd.read_csv(\"/Users/mohammedbasem/Desktop/T2D-Prediction-System--Data-Fusion-for-Enhanced-Decision-Making/processed_datasets/clinical/African_pro.csv\")\n",
    "Bangladesh = pd.read_csv(\"/Users/mohammedbasem/Desktop/T2D-Prediction-System--Data-Fusion-for-Enhanced-Decision-Making/processed_datasets/clinical/Bangladesh_pro.csv\")\n",
    "Iraq = pd.read_csv(\"/Users/mohammedbasem/Desktop/T2D-Prediction-System--Data-Fusion-for-Enhanced-Decision-Making/processed_datasets/clinical/Iraq_pro.csv\")\n",
    "\n",
    "# Genetic Datasets\n",
    "inter_genetic = pd.read_csv(\"/Users/mohammedbasem/Desktop/T2D-Prediction-System--Data-Fusion-for-Enhanced-Decision-Making/processed_datasets/genetic/inter_genetic_dataset.csv\")\n",
    "normal_genetic = pd.read_csv(\"/Users/mohammedbasem/Desktop/T2D-Prediction-System--Data-Fusion-for-Enhanced-Decision-Making/processed_datasets/genetic/normal_genetic_dataset.csv\")"
   ]
  },
  {
   "cell_type": "markdown",
   "metadata": {},
   "source": [
    "Checking Target Columns"
   ]
  },
  {
   "cell_type": "code",
   "execution_count": 40,
   "metadata": {},
   "outputs": [
    {
     "name": "stdout",
     "output_type": "stream",
     "text": [
      "Index(['Patient number', 'Cholesterol', 'Glucose', 'HDL Chol',\n",
      "       'Chol/HDL ratio', 'Age', 'Gender', 'Height', 'Weight', 'BMI',\n",
      "       'Systolic BP', 'Diastolic BP', 'waist', 'hip', 'Waist/hip ratio',\n",
      "       'Diabetes', 'BMI Category'],\n",
      "      dtype='object') \n",
      "\n",
      "Index(['age', 'pulse_rate', 'systolic_bp', 'diastolic_bp', 'glucose', 'height',\n",
      "       'weight', 'bmi', 'family_diabetes', 'hypertensive',\n",
      "       'family_hypertension', 'cardiovascular_disease', 'stroke',\n",
      "       'gender_Encoded', 'diabetic_Encoded'],\n",
      "      dtype='object') \n",
      "\n",
      "Index(['Age', 'Urea', 'Cr', 'HbA1c', 'Chol', 'TG', 'HDL', 'LDL', 'VLDL', 'BMI',\n",
      "       'Gender_Encoded', 'Class_Encoded'],\n",
      "      dtype='object') \n",
      "\n",
      "Index(['STUDY', 'DISEASE_DESCRIPTION', 'REGION', 'CHR_ID', 'CHR_POS',\n",
      "       'MAPPED_GENE', 'UPSTREAM_GENE_ID', 'DOWNSTREAM_GENE_ID',\n",
      "       'UPSTREAM_GENE_DISTANCE', 'DOWNSTREAM_GENE_DISTANCE', 'SNPS', 'MERGED',\n",
      "       'GENOMIC_CONTEXT', 'INTERGENIC', 'RISK_ALLELE_FREQUENCY', 'PVALUE',\n",
      "       'PVALUE_MLOG', 'EFFECT_SIZE', 'CASE_PERCENTAGE', 'CI_LOWER_BOUND',\n",
      "       'CI_UPPER_BOUND', 'CI_RANGE', 'SNPS_PASSING_QC', 'PLATFORM_AFFYMETRIX',\n",
      "       'PLATFORM_AFFYMETRIX_ILLUMINA', 'PLATFORM_ILLUMINA', 'IMPUTED_ENCODED',\n",
      "       'RISK_ALLELE_ENCODED'],\n",
      "      dtype='object') \n",
      "\n",
      "Index(['STUDY', 'DISEASE_DESCRIPTION', 'REGION', 'CHR_ID', 'CHR_POS',\n",
      "       'MAPPED_GENE', 'SNP_GENE_IDS', 'SNPS', 'MERGED', 'GENOMIC_CONTEXT',\n",
      "       'INTERGENIC', 'RISK_ALLELE_FREQUENCY', 'PVALUE', 'PVALUE_MLOG',\n",
      "       'EFFECT_SIZE', 'CASE_PERCENTAGE', 'CI_LOWER_BOUND', 'CI_UPPER_BOUND',\n",
      "       'CI_RANGE', 'SNPS_PASSING_QC', 'PLATFORM_AFFYMETRIX',\n",
      "       'PLATFORM_AFFYMETRIX_ILLUMINA', 'PLATFORM_ILLUMINA', 'IMPUTED_ENCODED',\n",
      "       'RISK_ALLELE_ENCODED'],\n",
      "      dtype='object')\n"
     ]
    }
   ],
   "source": [
    "print(African.columns, \"\\n\")\n",
    "print(Bangladesh.columns, \"\\n\")\n",
    "print(Iraq.columns, \"\\n\")\n",
    "print(inter_genetic.columns, \"\\n\")\n",
    "print(normal_genetic.columns)"
   ]
  },
  {
   "cell_type": "markdown",
   "metadata": {},
   "source": [
    "Uniting Target Columns' name"
   ]
  },
  {
   "cell_type": "code",
   "execution_count": 41,
   "metadata": {},
   "outputs": [],
   "source": [
    "African.rename(columns={\n",
    "    'Diabetes': 'T2D',\n",
    "}, inplace=True)\n",
    " \n",
    "Bangladesh.rename(columns={\n",
    "    'diabetic_Encoded': 'T2D',\n",
    "}, inplace=True)\n",
    " \n",
    "Iraq.rename(columns={\n",
    "    'Class_Encoded': 'T2D',\n",
    "}, inplace=True)\n",
    " \n",
    "# Add a new column 'T2D' with all values set to 1\n",
    "#inter_genetic['T2D'] = 1\n",
    " \n",
    "# Add a new column 'T2D' with all values set to 1\n",
    "#normal_genetic['T2D'] = 1"
   ]
  },
  {
   "cell_type": "markdown",
   "metadata": {},
   "source": [
    "Checking Data Types "
   ]
  },
  {
   "cell_type": "code",
   "execution_count": 42,
   "metadata": {},
   "outputs": [
    {
     "name": "stdout",
     "output_type": "stream",
     "text": [
      "Patient number       int64\n",
      "Cholesterol          int64\n",
      "Glucose              int64\n",
      "HDL Chol             int64\n",
      "Chol/HDL ratio     float64\n",
      "Age                  int64\n",
      "Gender               int64\n",
      "Height               int64\n",
      "Weight               int64\n",
      "BMI                float64\n",
      "Systolic BP          int64\n",
      "Diastolic BP         int64\n",
      "waist                int64\n",
      "hip                  int64\n",
      "Waist/hip ratio    float64\n",
      "T2D                  int64\n",
      "BMI Category         int64\n",
      "dtype: object \n",
      "\n",
      "age                         int64\n",
      "pulse_rate                  int64\n",
      "systolic_bp                 int64\n",
      "diastolic_bp                int64\n",
      "glucose                   float64\n",
      "height                    float64\n",
      "weight                    float64\n",
      "bmi                       float64\n",
      "family_diabetes             int64\n",
      "hypertensive                int64\n",
      "family_hypertension         int64\n",
      "cardiovascular_disease      int64\n",
      "stroke                      int64\n",
      "gender_Encoded              int64\n",
      "T2D                         int64\n",
      "dtype: object \n",
      "\n",
      "Age                 int64\n",
      "Urea              float64\n",
      "Cr                  int64\n",
      "HbA1c             float64\n",
      "Chol              float64\n",
      "TG                float64\n",
      "HDL               float64\n",
      "LDL               float64\n",
      "VLDL              float64\n",
      "BMI               float64\n",
      "Gender_Encoded      int64\n",
      "T2D                 int64\n",
      "dtype: object \n",
      "\n",
      "STUDY                            object\n",
      "DISEASE_DESCRIPTION              object\n",
      "REGION                           object\n",
      "CHR_ID                            int64\n",
      "CHR_POS                           int64\n",
      "MAPPED_GENE                      object\n",
      "UPSTREAM_GENE_ID                  int64\n",
      "DOWNSTREAM_GENE_ID                int64\n",
      "UPSTREAM_GENE_DISTANCE            int64\n",
      "DOWNSTREAM_GENE_DISTANCE          int64\n",
      "SNPS                             object\n",
      "MERGED                            int64\n",
      "GENOMIC_CONTEXT                  object\n",
      "INTERGENIC                        int64\n",
      "RISK_ALLELE_FREQUENCY           float64\n",
      "PVALUE                          float64\n",
      "PVALUE_MLOG                     float64\n",
      "EFFECT_SIZE                     float64\n",
      "CASE_PERCENTAGE                 float64\n",
      "CI_LOWER_BOUND                  float64\n",
      "CI_UPPER_BOUND                  float64\n",
      "CI_RANGE                        float64\n",
      "SNPS_PASSING_QC                   int64\n",
      "PLATFORM_AFFYMETRIX               int64\n",
      "PLATFORM_AFFYMETRIX_ILLUMINA      int64\n",
      "PLATFORM_ILLUMINA                 int64\n",
      "IMPUTED_ENCODED                   int64\n",
      "RISK_ALLELE_ENCODED               int64\n",
      "dtype: object \n",
      "\n",
      "STUDY                            object\n",
      "DISEASE_DESCRIPTION              object\n",
      "REGION                           object\n",
      "CHR_ID                            int64\n",
      "CHR_POS                           int64\n",
      "MAPPED_GENE                      object\n",
      "SNP_GENE_IDS                      int64\n",
      "SNPS                             object\n",
      "MERGED                            int64\n",
      "GENOMIC_CONTEXT                  object\n",
      "INTERGENIC                        int64\n",
      "RISK_ALLELE_FREQUENCY           float64\n",
      "PVALUE                          float64\n",
      "PVALUE_MLOG                     float64\n",
      "EFFECT_SIZE                     float64\n",
      "CASE_PERCENTAGE                 float64\n",
      "CI_LOWER_BOUND                  float64\n",
      "CI_UPPER_BOUND                  float64\n",
      "CI_RANGE                        float64\n",
      "SNPS_PASSING_QC                   int64\n",
      "PLATFORM_AFFYMETRIX               int64\n",
      "PLATFORM_AFFYMETRIX_ILLUMINA      int64\n",
      "PLATFORM_ILLUMINA                 int64\n",
      "IMPUTED_ENCODED                   int64\n",
      "RISK_ALLELE_ENCODED               int64\n",
      "dtype: object \n",
      "\n"
     ]
    }
   ],
   "source": [
    "print(African.dtypes, '\\n')\n",
    "print(Bangladesh.dtypes, '\\n')\n",
    "print(Iraq.dtypes, '\\n')\n",
    "print(inter_genetic.dtypes, '\\n')\n",
    "print(normal_genetic.dtypes, '\\n')"
   ]
  },
  {
   "cell_type": "markdown",
   "metadata": {},
   "source": [
    "Checking number of columns and rows"
   ]
  },
  {
   "cell_type": "code",
   "execution_count": 43,
   "metadata": {},
   "outputs": [
    {
     "name": "stdout",
     "output_type": "stream",
     "text": [
      "(390, 17) \n",
      "\n",
      "(5437, 15) \n",
      "\n",
      "(786, 12) \n",
      "\n",
      "(1110, 28) \n",
      "\n",
      "(2141, 25) \n",
      "\n"
     ]
    }
   ],
   "source": [
    "print(African.shape, '\\n')\n",
    "print(Bangladesh.shape, '\\n')\n",
    "print(Iraq.shape, '\\n')\n",
    "print(inter_genetic.shape, '\\n')\n",
    "print(normal_genetic.shape, '\\n')"
   ]
  },
  {
   "cell_type": "markdown",
   "metadata": {},
   "source": [
    "# Generative Adversarial Networks (GANs)"
   ]
  },
  {
   "cell_type": "markdown",
   "metadata": {},
   "source": [
    "Define GAN Architecture"
   ]
  },
  {
   "cell_type": "code",
   "execution_count": 44,
   "metadata": {},
   "outputs": [],
   "source": [
    "import numpy as np\n",
    "import pandas as pd\n",
    "import tensorflow as tf\n",
    "from tensorflow.keras.layers import Dense, BatchNormalization, LeakyReLU\n",
    "from tensorflow.keras.models import Sequential\n",
    "from sklearn.preprocessing import MinMaxScaler\n",
    "import matplotlib.pyplot as plt"
   ]
  },
  {
   "cell_type": "code",
   "execution_count": 45,
   "metadata": {},
   "outputs": [],
   "source": [
    "# Define Generator model\n",
    "def build_generator(input_dim, output_dim):\n",
    "    model = Sequential([\n",
    "        Dense(128, input_dim=input_dim),\n",
    "        LeakyReLU(alpha=0.2),\n",
    "        BatchNormalization(),\n",
    "        Dense(256),\n",
    "        LeakyReLU(alpha=0.2),\n",
    "        BatchNormalization(),\n",
    "        Dense(output_dim, activation='tanh')\n",
    "    ])\n",
    "    return model\n",
    "\n",
    "# Define Discriminator model\n",
    "def build_discriminator(input_dim):\n",
    "    model = Sequential([\n",
    "        Dense(256, input_dim=input_dim),\n",
    "        LeakyReLU(alpha=0.2),\n",
    "        Dense(128),\n",
    "        LeakyReLU(alpha=0.2),\n",
    "        Dense(1, activation='sigmoid')  # Output probability (Real vs Fake)\n",
    "    ])\n",
    "    model.compile(loss='binary_crossentropy', optimizer='adam', metrics=['accuracy'])\n",
    "    return model"
   ]
  },
  {
   "cell_type": "markdown",
   "metadata": {},
   "source": [
    "Normalizing for `inter_genetic`"
   ]
  },
  {
   "cell_type": "code",
   "execution_count": 46,
   "metadata": {},
   "outputs": [],
   "source": [
    "# Selecting only numerical columns\n",
    "numerical_cols = inter_genetic.select_dtypes(include=['number']).columns\n",
    "\n",
    "# Normalizing only numerical columns\n",
    "scaler = MinMaxScaler()\n",
    "inter_genetic_scaled = inter_genetic.copy()  # Copying original dataframe\n",
    "inter_genetic_scaled[numerical_cols] = scaler.fit_transform(inter_genetic[numerical_cols])\n"
   ]
  },
  {
   "cell_type": "markdown",
   "metadata": {},
   "source": [
    "Build and Compile the GAN for `inter_genetic`"
   ]
  },
  {
   "cell_type": "code",
   "execution_count": 47,
   "metadata": {},
   "outputs": [],
   "source": [
    "input_dim = inter_genetic_scaled.shape[1]  # Number of features\n",
    "generator = build_generator(100, input_dim)  # Generator takes 100 noise dimensions\n",
    "discriminator = build_discriminator(input_dim)\n",
    "\n",
    "# Create GAN model (combining Generator & Discriminator)\n",
    "discriminator.trainable = False  # Freeze discriminator during GAN training\n",
    "\n",
    "gan = Sequential([generator, discriminator])\n",
    "gan.compile(loss='binary_crossentropy', optimizer='adam')"
   ]
  },
  {
   "cell_type": "code",
   "execution_count": 48,
   "metadata": {},
   "outputs": [],
   "source": [
    "inter_genetic_scaled = inter_genetic_scaled.apply(pd.to_numeric, errors='coerce').astype(np.float32)\n"
   ]
  },
  {
   "cell_type": "code",
   "execution_count": 49,
   "metadata": {},
   "outputs": [],
   "source": [
    "inter_genetic_scaled = inter_genetic_scaled.astype(np.float32)\n"
   ]
  },
  {
   "cell_type": "code",
   "execution_count": 50,
   "metadata": {},
   "outputs": [
    {
     "name": "stdout",
     "output_type": "stream",
     "text": [
      "STUDY                           float32\n",
      "DISEASE_DESCRIPTION             float32\n",
      "REGION                          float32\n",
      "CHR_ID                          float32\n",
      "CHR_POS                         float32\n",
      "MAPPED_GENE                     float32\n",
      "UPSTREAM_GENE_ID                float32\n",
      "DOWNSTREAM_GENE_ID              float32\n",
      "UPSTREAM_GENE_DISTANCE          float32\n",
      "DOWNSTREAM_GENE_DISTANCE        float32\n",
      "SNPS                            float32\n",
      "MERGED                          float32\n",
      "GENOMIC_CONTEXT                 float32\n",
      "INTERGENIC                      float32\n",
      "RISK_ALLELE_FREQUENCY           float32\n",
      "PVALUE                          float32\n",
      "PVALUE_MLOG                     float32\n",
      "EFFECT_SIZE                     float32\n",
      "CASE_PERCENTAGE                 float32\n",
      "CI_LOWER_BOUND                  float32\n",
      "CI_UPPER_BOUND                  float32\n",
      "CI_RANGE                        float32\n",
      "SNPS_PASSING_QC                 float32\n",
      "PLATFORM_AFFYMETRIX             float32\n",
      "PLATFORM_AFFYMETRIX_ILLUMINA    float32\n",
      "PLATFORM_ILLUMINA               float32\n",
      "IMPUTED_ENCODED                 float32\n",
      "RISK_ALLELE_ENCODED             float32\n",
      "dtype: object\n"
     ]
    }
   ],
   "source": [
    "print(inter_genetic_scaled.dtypes)\n"
   ]
  },
  {
   "cell_type": "markdown",
   "metadata": {},
   "source": [
    "Train the GAN for `inter_genetic`"
   ]
  },
  {
   "cell_type": "code",
   "execution_count": 51,
   "metadata": {},
   "outputs": [
    {
     "name": "stdout",
     "output_type": "stream",
     "text": [
      "\u001b[1m1/1\u001b[0m \u001b[32m━━━━━━━━━━━━━━━━━━━━\u001b[0m\u001b[37m\u001b[0m \u001b[1m0s\u001b[0m 103ms/step\n",
      "Epoch 0: D Loss: nan, G Loss: 0.7002\n",
      "\u001b[1m1/1\u001b[0m \u001b[32m━━━━━━━━━━━━━━━━━━━━\u001b[0m\u001b[37m\u001b[0m \u001b[1m0s\u001b[0m 18ms/step\n",
      "Epoch 1: D Loss: nan, G Loss: 0.7051\n",
      "\u001b[1m1/1\u001b[0m \u001b[32m━━━━━━━━━━━━━━━━━━━━\u001b[0m\u001b[37m\u001b[0m \u001b[1m0s\u001b[0m 18ms/step\n",
      "Epoch 2: D Loss: nan, G Loss: 0.7085\n",
      "\u001b[1m1/1\u001b[0m \u001b[32m━━━━━━━━━━━━━━━━━━━━\u001b[0m\u001b[37m\u001b[0m \u001b[1m0s\u001b[0m 18ms/step\n",
      "Epoch 3: D Loss: nan, G Loss: 0.7071\n",
      "\u001b[1m1/1\u001b[0m \u001b[32m━━━━━━━━━━━━━━━━━━━━\u001b[0m\u001b[37m\u001b[0m \u001b[1m0s\u001b[0m 20ms/step\n",
      "Epoch 4: D Loss: nan, G Loss: 0.7055\n",
      "\u001b[1m1/1\u001b[0m \u001b[32m━━━━━━━━━━━━━━━━━━━━\u001b[0m\u001b[37m\u001b[0m \u001b[1m0s\u001b[0m 17ms/step\n",
      "Epoch 5: D Loss: nan, G Loss: 0.7025\n",
      "\u001b[1m1/1\u001b[0m \u001b[32m━━━━━━━━━━━━━━━━━━━━\u001b[0m\u001b[37m\u001b[0m \u001b[1m0s\u001b[0m 16ms/step\n",
      "Epoch 6: D Loss: nan, G Loss: 0.7036\n",
      "\u001b[1m1/1\u001b[0m \u001b[32m━━━━━━━━━━━━━━━━━━━━\u001b[0m\u001b[37m\u001b[0m \u001b[1m0s\u001b[0m 18ms/step\n",
      "Epoch 7: D Loss: nan, G Loss: 0.7027\n",
      "\u001b[1m1/1\u001b[0m \u001b[32m━━━━━━━━━━━━━━━━━━━━\u001b[0m\u001b[37m\u001b[0m \u001b[1m0s\u001b[0m 18ms/step\n",
      "Epoch 8: D Loss: nan, G Loss: 0.6995\n",
      "\u001b[1m1/1\u001b[0m \u001b[32m━━━━━━━━━━━━━━━━━━━━\u001b[0m\u001b[37m\u001b[0m \u001b[1m0s\u001b[0m 25ms/step\n",
      "Epoch 9: D Loss: nan, G Loss: 0.6993\n",
      "\u001b[1m1/1\u001b[0m \u001b[32m━━━━━━━━━━━━━━━━━━━━\u001b[0m\u001b[37m\u001b[0m \u001b[1m0s\u001b[0m 18ms/step\n",
      "Epoch 10: D Loss: nan, G Loss: 0.6992\n",
      "\u001b[1m1/1\u001b[0m \u001b[32m━━━━━━━━━━━━━━━━━━━━\u001b[0m\u001b[37m\u001b[0m \u001b[1m0s\u001b[0m 17ms/step\n",
      "Epoch 11: D Loss: nan, G Loss: 0.6990\n",
      "\u001b[1m1/1\u001b[0m \u001b[32m━━━━━━━━━━━━━━━━━━━━\u001b[0m\u001b[37m\u001b[0m \u001b[1m0s\u001b[0m 20ms/step\n",
      "Epoch 12: D Loss: nan, G Loss: 0.6968\n",
      "\u001b[1m1/1\u001b[0m \u001b[32m━━━━━━━━━━━━━━━━━━━━\u001b[0m\u001b[37m\u001b[0m \u001b[1m0s\u001b[0m 22ms/step\n",
      "Epoch 13: D Loss: nan, G Loss: 0.6934\n",
      "\u001b[1m1/1\u001b[0m \u001b[32m━━━━━━━━━━━━━━━━━━━━\u001b[0m\u001b[37m\u001b[0m \u001b[1m0s\u001b[0m 18ms/step\n",
      "Epoch 14: D Loss: nan, G Loss: 0.6921\n",
      "\u001b[1m1/1\u001b[0m \u001b[32m━━━━━━━━━━━━━━━━━━━━\u001b[0m\u001b[37m\u001b[0m \u001b[1m0s\u001b[0m 18ms/step\n",
      "Epoch 15: D Loss: nan, G Loss: 0.6892\n",
      "\u001b[1m1/1\u001b[0m \u001b[32m━━━━━━━━━━━━━━━━━━━━\u001b[0m\u001b[37m\u001b[0m \u001b[1m0s\u001b[0m 19ms/step\n",
      "Epoch 16: D Loss: nan, G Loss: 0.6869\n",
      "\u001b[1m1/1\u001b[0m \u001b[32m━━━━━━━━━━━━━━━━━━━━\u001b[0m\u001b[37m\u001b[0m \u001b[1m0s\u001b[0m 20ms/step\n",
      "Epoch 17: D Loss: nan, G Loss: 0.6838\n",
      "\u001b[1m1/1\u001b[0m \u001b[32m━━━━━━━━━━━━━━━━━━━━\u001b[0m\u001b[37m\u001b[0m \u001b[1m0s\u001b[0m 20ms/step\n",
      "Epoch 18: D Loss: nan, G Loss: 0.6813\n",
      "\u001b[1m1/1\u001b[0m \u001b[32m━━━━━━━━━━━━━━━━━━━━\u001b[0m\u001b[37m\u001b[0m \u001b[1m0s\u001b[0m 18ms/step\n",
      "Epoch 19: D Loss: nan, G Loss: 0.6782\n",
      "\u001b[1m1/1\u001b[0m \u001b[32m━━━━━━━━━━━━━━━━━━━━\u001b[0m\u001b[37m\u001b[0m \u001b[1m0s\u001b[0m 18ms/step\n",
      "Epoch 20: D Loss: nan, G Loss: 0.6763\n",
      "\u001b[1m1/1\u001b[0m \u001b[32m━━━━━━━━━━━━━━━━━━━━\u001b[0m\u001b[37m\u001b[0m \u001b[1m0s\u001b[0m 19ms/step\n",
      "Epoch 21: D Loss: nan, G Loss: 0.6740\n",
      "\u001b[1m1/1\u001b[0m \u001b[32m━━━━━━━━━━━━━━━━━━━━\u001b[0m\u001b[37m\u001b[0m \u001b[1m0s\u001b[0m 18ms/step\n",
      "Epoch 22: D Loss: nan, G Loss: 0.6717\n",
      "\u001b[1m1/1\u001b[0m \u001b[32m━━━━━━━━━━━━━━━━━━━━\u001b[0m\u001b[37m\u001b[0m \u001b[1m0s\u001b[0m 17ms/step\n",
      "Epoch 23: D Loss: nan, G Loss: 0.6692\n",
      "\u001b[1m1/1\u001b[0m \u001b[32m━━━━━━━━━━━━━━━━━━━━\u001b[0m\u001b[37m\u001b[0m \u001b[1m0s\u001b[0m 18ms/step\n",
      "Epoch 24: D Loss: nan, G Loss: 0.6665\n"
     ]
    }
   ],
   "source": [
    "#edited\n",
    "\n",
    "def train_gan(epochs, batch_size):\n",
    "    real_labels = np.ones((batch_size, 1))  # Label 1 for real data (Yes)\n",
    "    fake_labels = np.zeros((batch_size, 1))  # Label 0 for fake data (No)\n",
    " \n",
    "    for epoch in range(epochs):\n",
    "        # Select a random batch of real samples\n",
    "        idx = np.random.randint(0, inter_genetic_scaled.shape[0], batch_size)\n",
    "        real_samples = inter_genetic_scaled.iloc[idx]  # ✅ Fixed: Use iloc\n",
    " \n",
    "        # Generate fake samples\n",
    "        noise = np.random.normal(0, 1, (batch_size, 100))  # Noise input\n",
    "        fake_samples = generator.predict(noise)\n",
    " \n",
    "        # Train the Discriminator\n",
    "        d_loss_real = discriminator.train_on_batch(real_samples, real_labels)\n",
    "        d_loss_fake = discriminator.train_on_batch(fake_samples, fake_labels)\n",
    " \n",
    "        # Extract loss values properly\n",
    "        d_loss_real_value = d_loss_real[0] if isinstance(d_loss_real, (list, tuple, np.ndarray)) else d_loss_real\n",
    "        d_loss_fake_value = d_loss_fake[0] if isinstance(d_loss_fake, (list, tuple, np.ndarray)) else d_loss_fake\n",
    "        d_loss = 0.5 * (d_loss_real_value + d_loss_fake_value)  # Compute average loss\n",
    " \n",
    "        # Train the Generator\n",
    "        noise = np.random.normal(0, 1, (batch_size, 100))\n",
    "        g_loss = gan.train_on_batch(noise, real_labels)  # Directly assign g_loss\n",
    " \n",
    "        # Print loss every epoch\n",
    "        print(f\"Epoch {epoch}: D Loss: {d_loss:.4f}, G Loss: {g_loss:.4f}\")\n",
    " \n",
    "# Train the GAN\n",
    "train_gan(epochs=25, batch_size=16)"
   ]
  },
  {
   "cell_type": "markdown",
   "metadata": {},
   "source": [
    "Generate Synthetic \"No\" Samples for `inter_genetic`"
   ]
  },
  {
   "cell_type": "code",
   "execution_count": 52,
   "metadata": {},
   "outputs": [
    {
     "name": "stdout",
     "output_type": "stream",
     "text": [
      "\u001b[1m35/35\u001b[0m \u001b[32m━━━━━━━━━━━━━━━━━━━━\u001b[0m\u001b[37m\u001b[0m \u001b[1m0s\u001b[0m 755us/step\n",
      "T2D\n",
      "1    1110\n",
      "0    1110\n",
      "Name: count, dtype: int64\n",
      "Null values in IMPUTED_ENCODED: 0\n",
      "Null values in RISK_ALLELE_ENCODED: 0\n",
      "Final columns: Index(['STUDY', 'DISEASE_DESCRIPTION', 'REGION', 'CHR_ID', 'CHR_POS',\n",
      "       'MAPPED_GENE', 'UPSTREAM_GENE_ID', 'DOWNSTREAM_GENE_ID',\n",
      "       'UPSTREAM_GENE_DISTANCE', 'DOWNSTREAM_GENE_DISTANCE', 'SNPS', 'MERGED',\n",
      "       'GENOMIC_CONTEXT', 'INTERGENIC', 'RISK_ALLELE_FREQUENCY', 'PVALUE',\n",
      "       'PVALUE_MLOG', 'EFFECT_SIZE', 'CASE_PERCENTAGE', 'CI_LOWER_BOUND',\n",
      "       'CI_UPPER_BOUND', 'CI_RANGE', 'SNPS_PASSING_QC', 'PLATFORM_AFFYMETRIX',\n",
      "       'PLATFORM_AFFYMETRIX_ILLUMINA', 'PLATFORM_ILLUMINA', 'IMPUTED_ENCODED',\n",
      "       'RISK_ALLELE_ENCODED', 'T2D'],\n",
      "      dtype='object')\n"
     ]
    }
   ],
   "source": [
    "import numpy as np\n",
    "import pandas as pd\n",
    "\n",
    "# Step 1: Ensure Generator Inputs Match Expected Noise Dim\n",
    "num_samples = 1110\n",
    "noise_dim = generator.input_shape[1]  # Get correct input size\n",
    "noise = np.random.normal(0, 1, (num_samples, noise_dim))  # Generate noise\n",
    "\n",
    "# Step 2: Generate Fake \"No\" Samples\n",
    "synthetic_no_samples = generator.predict(noise)\n",
    "\n",
    "# Step 3: Apply inverse_transform only on numerical columns\n",
    "synthetic_no_samples_scaled = scaler.inverse_transform(synthetic_no_samples[:, :scaler.scale_.shape[0]])\n",
    "\n",
    "# Step 4: Convert to DataFrame with Correct Column Names\n",
    "synthetic_df = pd.DataFrame(synthetic_no_samples_scaled, columns=inter_genetic.columns[:scaler.scale_.shape[0]])\n",
    "\n",
    "# Step 5: Add Missing Categorical Columns Randomly (Ensure IMPUTED_ENCODED & RISK_ALLELE_ENCODED are added)\n",
    "for col in inter_genetic.columns[scaler.scale_.shape[0]:-1]:  # Exclude target column\n",
    "    if col in [\"IMPUTED_ENCODED\", \"RISK_ALLELE_ENCODED\"]:  # ✅ Ensure these columns are restored\n",
    "        synthetic_df[col] = np.random.choice(inter_genetic[col].values, size=len(synthetic_df))\n",
    "    else:  # ✅ Add all other categorical columns normally\n",
    "        synthetic_df[col] = np.random.choice(inter_genetic[col].values, size=len(synthetic_df))\n",
    "\n",
    "# Step 6: Label Synthetic Samples as \"No\" (0)\n",
    "synthetic_df['T2D'] = 0\n",
    "\n",
    "# Step 7: Label Original Samples as \"Yes\" (1)\n",
    "inter_genetic['T2D'] = 1\n",
    "\n",
    "# Step 8: Combine Real and Synthetic Data\n",
    "balanced_inter_genetic = pd.concat([inter_genetic, synthetic_df], ignore_index=True)\n",
    "\n",
    "# Step 9: Fill Missing `IMPUTED_ENCODED` & `RISK_ALLELE_ENCODED` Values (If Any)\n",
    "for col in [\"IMPUTED_ENCODED\", \"RISK_ALLELE_ENCODED\"]:\n",
    "    if balanced_inter_genetic[col].isnull().sum() > 0:\n",
    "        real_values = balanced_inter_genetic.loc[balanced_inter_genetic['T2D'] == 1, col]\n",
    "        balanced_inter_genetic.loc[balanced_inter_genetic['T2D'] == 0, col] = np.random.choice(\n",
    "            real_values, size=(balanced_inter_genetic['T2D'] == 0).sum(), replace=True\n",
    "        )\n",
    "\n",
    "# Step 10: Check the distribution of labels\n",
    "print(balanced_inter_genetic['T2D'].value_counts())\n",
    "\n",
    "# Step 11: Verify Fixes\n",
    "print(\"Null values in IMPUTED_ENCODED:\", balanced_inter_genetic['IMPUTED_ENCODED'].isnull().sum())\n",
    "print(\"Null values in RISK_ALLELE_ENCODED:\", balanced_inter_genetic['RISK_ALLELE_ENCODED'].isnull().sum())\n",
    "print(\"Final columns:\", balanced_inter_genetic.columns)"
   ]
  },
  {
   "cell_type": "code",
   "execution_count": 53,
   "metadata": {},
   "outputs": [
    {
     "data": {
      "text/html": [
       "<div>\n",
       "<style scoped>\n",
       "    .dataframe tbody tr th:only-of-type {\n",
       "        vertical-align: middle;\n",
       "    }\n",
       "\n",
       "    .dataframe tbody tr th {\n",
       "        vertical-align: top;\n",
       "    }\n",
       "\n",
       "    .dataframe thead th {\n",
       "        text-align: right;\n",
       "    }\n",
       "</style>\n",
       "<table border=\"1\" class=\"dataframe\">\n",
       "  <thead>\n",
       "    <tr style=\"text-align: right;\">\n",
       "      <th></th>\n",
       "      <th>STUDY</th>\n",
       "      <th>DISEASE_DESCRIPTION</th>\n",
       "      <th>REGION</th>\n",
       "      <th>CHR_ID</th>\n",
       "      <th>CHR_POS</th>\n",
       "      <th>MAPPED_GENE</th>\n",
       "      <th>UPSTREAM_GENE_ID</th>\n",
       "      <th>DOWNSTREAM_GENE_ID</th>\n",
       "      <th>UPSTREAM_GENE_DISTANCE</th>\n",
       "      <th>DOWNSTREAM_GENE_DISTANCE</th>\n",
       "      <th>...</th>\n",
       "      <th>CI_LOWER_BOUND</th>\n",
       "      <th>CI_UPPER_BOUND</th>\n",
       "      <th>CI_RANGE</th>\n",
       "      <th>SNPS_PASSING_QC</th>\n",
       "      <th>PLATFORM_AFFYMETRIX</th>\n",
       "      <th>PLATFORM_AFFYMETRIX_ILLUMINA</th>\n",
       "      <th>PLATFORM_ILLUMINA</th>\n",
       "      <th>IMPUTED_ENCODED</th>\n",
       "      <th>RISK_ALLELE_ENCODED</th>\n",
       "      <th>T2D</th>\n",
       "    </tr>\n",
       "  </thead>\n",
       "  <tbody>\n",
       "    <tr>\n",
       "      <th>0</th>\n",
       "      <td>[-1.47616668e-02  5.09463213e-02  2.69961264e-...</td>\n",
       "      <td>[ 1.58013031e-01  9.36319865e-03 -6.81496318e-...</td>\n",
       "      <td>[ 3.05748135e-01 -2.47293934e-01 -1.75472543e-...</td>\n",
       "      <td>8</td>\n",
       "      <td>21853920</td>\n",
       "      <td>[ 1.15677923e-01  4.50637192e-02 -5.24731204e-...</td>\n",
       "      <td>168546</td>\n",
       "      <td>147443</td>\n",
       "      <td>41563</td>\n",
       "      <td>54953</td>\n",
       "      <td>...</td>\n",
       "      <td>0.46</td>\n",
       "      <td>0.56</td>\n",
       "      <td>0.09</td>\n",
       "      <td>6494962</td>\n",
       "      <td>0</td>\n",
       "      <td>1</td>\n",
       "      <td>0</td>\n",
       "      <td>1</td>\n",
       "      <td>0</td>\n",
       "      <td>1</td>\n",
       "    </tr>\n",
       "    <tr>\n",
       "      <th>1</th>\n",
       "      <td>[-1.47616668e-02  5.09463213e-02  2.69961264e-...</td>\n",
       "      <td>[ 1.58013031e-01  9.36319865e-03 -6.81496318e-...</td>\n",
       "      <td>[ 3.67390394e-01 -3.92685801e-01  1.06864296e-...</td>\n",
       "      <td>12</td>\n",
       "      <td>5284163</td>\n",
       "      <td>[ 2.10065857e-01 -2.48143420e-01 -4.31279140e-...</td>\n",
       "      <td>256115</td>\n",
       "      <td>185652</td>\n",
       "      <td>39964</td>\n",
       "      <td>147945</td>\n",
       "      <td>...</td>\n",
       "      <td>0.46</td>\n",
       "      <td>0.56</td>\n",
       "      <td>0.09</td>\n",
       "      <td>6494962</td>\n",
       "      <td>0</td>\n",
       "      <td>1</td>\n",
       "      <td>0</td>\n",
       "      <td>1</td>\n",
       "      <td>0</td>\n",
       "      <td>1</td>\n",
       "    </tr>\n",
       "    <tr>\n",
       "      <th>2</th>\n",
       "      <td>[ 1.53467417e-01 -1.21334471e-01  7.48024210e-...</td>\n",
       "      <td>[ 1.58013031e-01  9.36319865e-03 -6.81496318e-...</td>\n",
       "      <td>[ 2.82850683e-01 -1.11950912e-01  2.99117025e-...</td>\n",
       "      <td>8</td>\n",
       "      <td>107059816</td>\n",
       "      <td>[ 3.28507662e-01 -2.92603046e-01 -2.57462531e-...</td>\n",
       "      <td>174429</td>\n",
       "      <td>254146</td>\n",
       "      <td>289572</td>\n",
       "      <td>113384</td>\n",
       "      <td>...</td>\n",
       "      <td>1.34</td>\n",
       "      <td>2.08</td>\n",
       "      <td>0.74</td>\n",
       "      <td>6906962</td>\n",
       "      <td>0</td>\n",
       "      <td>1</td>\n",
       "      <td>0</td>\n",
       "      <td>1</td>\n",
       "      <td>1</td>\n",
       "      <td>1</td>\n",
       "    </tr>\n",
       "    <tr>\n",
       "      <th>3</th>\n",
       "      <td>[ 4.83314842e-02  1.37150949e-02 -2.07627401e-...</td>\n",
       "      <td>[-1.53973475e-01  1.47206217e-01 -1.56758264e-...</td>\n",
       "      <td>[ 2.93079883e-01 -1.66859761e-01 -1.55704990e-...</td>\n",
       "      <td>7</td>\n",
       "      <td>15013235</td>\n",
       "      <td>[ 3.02324921e-01 -1.51797831e-01 -1.33085012e-...</td>\n",
       "      <td>225816</td>\n",
       "      <td>187546</td>\n",
       "      <td>27161</td>\n",
       "      <td>187082</td>\n",
       "      <td>...</td>\n",
       "      <td>1.04</td>\n",
       "      <td>1.09</td>\n",
       "      <td>0.05</td>\n",
       "      <td>2500000</td>\n",
       "      <td>0</td>\n",
       "      <td>1</td>\n",
       "      <td>0</td>\n",
       "      <td>1</td>\n",
       "      <td>2</td>\n",
       "      <td>1</td>\n",
       "    </tr>\n",
       "    <tr>\n",
       "      <th>4</th>\n",
       "      <td>[ 4.83314842e-02  1.37150949e-02 -2.07627401e-...</td>\n",
       "      <td>[-1.53973475e-01  1.47206217e-01 -1.56758264e-...</td>\n",
       "      <td>[ 2.77950853e-01 -2.00821161e-01 -7.99589884e-...</td>\n",
       "      <td>9</td>\n",
       "      <td>22134095</td>\n",
       "      <td>[ 4.64857012e-01 -1.08726546e-01 -2.27923006e-...</td>\n",
       "      <td>240498</td>\n",
       "      <td>176399</td>\n",
       "      <td>5992</td>\n",
       "      <td>312729</td>\n",
       "      <td>...</td>\n",
       "      <td>1.15</td>\n",
       "      <td>1.22</td>\n",
       "      <td>0.07</td>\n",
       "      <td>2500000</td>\n",
       "      <td>0</td>\n",
       "      <td>1</td>\n",
       "      <td>0</td>\n",
       "      <td>1</td>\n",
       "      <td>0</td>\n",
       "      <td>1</td>\n",
       "    </tr>\n",
       "  </tbody>\n",
       "</table>\n",
       "<p>5 rows × 29 columns</p>\n",
       "</div>"
      ],
      "text/plain": [
       "                                               STUDY  \\\n",
       "0  [-1.47616668e-02  5.09463213e-02  2.69961264e-...   \n",
       "1  [-1.47616668e-02  5.09463213e-02  2.69961264e-...   \n",
       "2  [ 1.53467417e-01 -1.21334471e-01  7.48024210e-...   \n",
       "3  [ 4.83314842e-02  1.37150949e-02 -2.07627401e-...   \n",
       "4  [ 4.83314842e-02  1.37150949e-02 -2.07627401e-...   \n",
       "\n",
       "                                 DISEASE_DESCRIPTION  \\\n",
       "0  [ 1.58013031e-01  9.36319865e-03 -6.81496318e-...   \n",
       "1  [ 1.58013031e-01  9.36319865e-03 -6.81496318e-...   \n",
       "2  [ 1.58013031e-01  9.36319865e-03 -6.81496318e-...   \n",
       "3  [-1.53973475e-01  1.47206217e-01 -1.56758264e-...   \n",
       "4  [-1.53973475e-01  1.47206217e-01 -1.56758264e-...   \n",
       "\n",
       "                                              REGION  CHR_ID    CHR_POS  \\\n",
       "0  [ 3.05748135e-01 -2.47293934e-01 -1.75472543e-...       8   21853920   \n",
       "1  [ 3.67390394e-01 -3.92685801e-01  1.06864296e-...      12    5284163   \n",
       "2  [ 2.82850683e-01 -1.11950912e-01  2.99117025e-...       8  107059816   \n",
       "3  [ 2.93079883e-01 -1.66859761e-01 -1.55704990e-...       7   15013235   \n",
       "4  [ 2.77950853e-01 -2.00821161e-01 -7.99589884e-...       9   22134095   \n",
       "\n",
       "                                         MAPPED_GENE  UPSTREAM_GENE_ID  \\\n",
       "0  [ 1.15677923e-01  4.50637192e-02 -5.24731204e-...            168546   \n",
       "1  [ 2.10065857e-01 -2.48143420e-01 -4.31279140e-...            256115   \n",
       "2  [ 3.28507662e-01 -2.92603046e-01 -2.57462531e-...            174429   \n",
       "3  [ 3.02324921e-01 -1.51797831e-01 -1.33085012e-...            225816   \n",
       "4  [ 4.64857012e-01 -1.08726546e-01 -2.27923006e-...            240498   \n",
       "\n",
       "   DOWNSTREAM_GENE_ID  UPSTREAM_GENE_DISTANCE  DOWNSTREAM_GENE_DISTANCE  ...  \\\n",
       "0              147443                   41563                     54953  ...   \n",
       "1              185652                   39964                    147945  ...   \n",
       "2              254146                  289572                    113384  ...   \n",
       "3              187546                   27161                    187082  ...   \n",
       "4              176399                    5992                    312729  ...   \n",
       "\n",
       "  CI_LOWER_BOUND  CI_UPPER_BOUND CI_RANGE  SNPS_PASSING_QC  \\\n",
       "0           0.46            0.56     0.09          6494962   \n",
       "1           0.46            0.56     0.09          6494962   \n",
       "2           1.34            2.08     0.74          6906962   \n",
       "3           1.04            1.09     0.05          2500000   \n",
       "4           1.15            1.22     0.07          2500000   \n",
       "\n",
       "   PLATFORM_AFFYMETRIX  PLATFORM_AFFYMETRIX_ILLUMINA  PLATFORM_ILLUMINA  \\\n",
       "0                    0                             1                  0   \n",
       "1                    0                             1                  0   \n",
       "2                    0                             1                  0   \n",
       "3                    0                             1                  0   \n",
       "4                    0                             1                  0   \n",
       "\n",
       "   IMPUTED_ENCODED  RISK_ALLELE_ENCODED  T2D  \n",
       "0                1                    0    1  \n",
       "1                1                    0    1  \n",
       "2                1                    1    1  \n",
       "3                1                    2    1  \n",
       "4                1                    0    1  \n",
       "\n",
       "[5 rows x 29 columns]"
      ]
     },
     "execution_count": 53,
     "metadata": {},
     "output_type": "execute_result"
    }
   ],
   "source": [
    "inter_genetic.head()"
   ]
  },
  {
   "cell_type": "markdown",
   "metadata": {},
   "source": [
    "Checking null values for `balanced_inter_genetic`"
   ]
  },
  {
   "cell_type": "code",
   "execution_count": 54,
   "metadata": {},
   "outputs": [
    {
     "data": {
      "text/plain": [
       "STUDY                           0\n",
       "DISEASE_DESCRIPTION             0\n",
       "REGION                          0\n",
       "CHR_ID                          0\n",
       "CHR_POS                         0\n",
       "MAPPED_GENE                     0\n",
       "UPSTREAM_GENE_ID                0\n",
       "DOWNSTREAM_GENE_ID              0\n",
       "UPSTREAM_GENE_DISTANCE          0\n",
       "DOWNSTREAM_GENE_DISTANCE        0\n",
       "SNPS                            0\n",
       "MERGED                          0\n",
       "GENOMIC_CONTEXT                 0\n",
       "INTERGENIC                      0\n",
       "RISK_ALLELE_FREQUENCY           0\n",
       "PVALUE                          0\n",
       "PVALUE_MLOG                     0\n",
       "EFFECT_SIZE                     0\n",
       "CASE_PERCENTAGE                 0\n",
       "CI_LOWER_BOUND                  0\n",
       "CI_UPPER_BOUND                  0\n",
       "CI_RANGE                        0\n",
       "SNPS_PASSING_QC                 0\n",
       "PLATFORM_AFFYMETRIX             0\n",
       "PLATFORM_AFFYMETRIX_ILLUMINA    0\n",
       "PLATFORM_ILLUMINA               0\n",
       "IMPUTED_ENCODED                 0\n",
       "RISK_ALLELE_ENCODED             0\n",
       "T2D                             0\n",
       "dtype: int64"
      ]
     },
     "execution_count": 54,
     "metadata": {},
     "output_type": "execute_result"
    }
   ],
   "source": [
    "balanced_inter_genetic.isnull().sum()"
   ]
  },
  {
   "cell_type": "markdown",
   "metadata": {},
   "source": [
    "Nomalizing for `normal_genetic`"
   ]
  },
  {
   "cell_type": "code",
   "execution_count": 55,
   "metadata": {},
   "outputs": [],
   "source": [
    "# Selecting only numerical columns\n",
    "numerical_cols = normal_genetic.select_dtypes(include=['number']).columns\n",
    "\n",
    "# Normalizing only numerical columns\n",
    "scaler = MinMaxScaler()\n",
    "normal_genetic_scaled = normal_genetic.copy()  # Copying original dataframe\n",
    "normal_genetic_scaled[numerical_cols] = scaler.fit_transform(normal_genetic[numerical_cols])\n"
   ]
  },
  {
   "cell_type": "markdown",
   "metadata": {},
   "source": [
    "Build and Compile the GAN for `normal_genetic`"
   ]
  },
  {
   "cell_type": "code",
   "execution_count": 56,
   "metadata": {},
   "outputs": [],
   "source": [
    "# Define input dimension based on normal_genetic dataset\n",
    "input_dim = normal_genetic_scaled.shape[1]  # Number of features\n",
    "generator = build_generator(100, input_dim)  # Generator takes 100 noise dimensions\n",
    "discriminator = build_discriminator(input_dim)\n",
    "\n",
    "# Create GAN model (combining Generator & Discriminator)\n",
    "discriminator.trainable = False  # Freeze discriminator during GAN training\n",
    "gan = Sequential([generator, discriminator])\n",
    "gan.compile(loss='binary_crossentropy', optimizer='adam')"
   ]
  },
  {
   "cell_type": "code",
   "execution_count": 57,
   "metadata": {},
   "outputs": [],
   "source": [
    "normal_genetic_scaled = normal_genetic_scaled.apply(pd.to_numeric, errors='coerce').astype(np.float32)"
   ]
  },
  {
   "cell_type": "code",
   "execution_count": 58,
   "metadata": {},
   "outputs": [],
   "source": [
    "normal_genetic_scaled = normal_genetic_scaled.astype(np.float32)"
   ]
  },
  {
   "cell_type": "code",
   "execution_count": 59,
   "metadata": {},
   "outputs": [
    {
     "name": "stdout",
     "output_type": "stream",
     "text": [
      "STUDY                           float32\n",
      "DISEASE_DESCRIPTION             float32\n",
      "REGION                          float32\n",
      "CHR_ID                          float32\n",
      "CHR_POS                         float32\n",
      "MAPPED_GENE                     float32\n",
      "SNP_GENE_IDS                    float32\n",
      "SNPS                            float32\n",
      "MERGED                          float32\n",
      "GENOMIC_CONTEXT                 float32\n",
      "INTERGENIC                      float32\n",
      "RISK_ALLELE_FREQUENCY           float32\n",
      "PVALUE                          float32\n",
      "PVALUE_MLOG                     float32\n",
      "EFFECT_SIZE                     float32\n",
      "CASE_PERCENTAGE                 float32\n",
      "CI_LOWER_BOUND                  float32\n",
      "CI_UPPER_BOUND                  float32\n",
      "CI_RANGE                        float32\n",
      "SNPS_PASSING_QC                 float32\n",
      "PLATFORM_AFFYMETRIX             float32\n",
      "PLATFORM_AFFYMETRIX_ILLUMINA    float32\n",
      "PLATFORM_ILLUMINA               float32\n",
      "IMPUTED_ENCODED                 float32\n",
      "RISK_ALLELE_ENCODED             float32\n",
      "dtype: object\n"
     ]
    }
   ],
   "source": [
    "print(normal_genetic_scaled.dtypes)"
   ]
  },
  {
   "cell_type": "markdown",
   "metadata": {},
   "source": [
    "Train the GAN for `normal_genetic`"
   ]
  },
  {
   "cell_type": "code",
   "execution_count": 60,
   "metadata": {},
   "outputs": [
    {
     "name": "stdout",
     "output_type": "stream",
     "text": [
      "\u001b[1m1/1\u001b[0m \u001b[32m━━━━━━━━━━━━━━━━━━━━\u001b[0m\u001b[37m\u001b[0m \u001b[1m0s\u001b[0m 51ms/step\n",
      "Epoch 0: D Loss: nan, G Loss: 0.7479\n",
      "\u001b[1m1/1\u001b[0m \u001b[32m━━━━━━━━━━━━━━━━━━━━\u001b[0m\u001b[37m\u001b[0m \u001b[1m0s\u001b[0m 17ms/step\n",
      "Epoch 1: D Loss: nan, G Loss: 0.7435\n",
      "\u001b[1m1/1\u001b[0m \u001b[32m━━━━━━━━━━━━━━━━━━━━\u001b[0m\u001b[37m\u001b[0m \u001b[1m0s\u001b[0m 17ms/step\n",
      "Epoch 2: D Loss: nan, G Loss: 0.7335\n",
      "\u001b[1m1/1\u001b[0m \u001b[32m━━━━━━━━━━━━━━━━━━━━\u001b[0m\u001b[37m\u001b[0m \u001b[1m0s\u001b[0m 18ms/step\n",
      "Epoch 3: D Loss: nan, G Loss: 0.7228\n",
      "\u001b[1m1/1\u001b[0m \u001b[32m━━━━━━━━━━━━━━━━━━━━\u001b[0m\u001b[37m\u001b[0m \u001b[1m0s\u001b[0m 17ms/step\n",
      "Epoch 4: D Loss: nan, G Loss: 0.7191\n",
      "\u001b[1m1/1\u001b[0m \u001b[32m━━━━━━━━━━━━━━━━━━━━\u001b[0m\u001b[37m\u001b[0m \u001b[1m0s\u001b[0m 18ms/step\n",
      "Epoch 5: D Loss: nan, G Loss: 0.7147\n",
      "\u001b[1m1/1\u001b[0m \u001b[32m━━━━━━━━━━━━━━━━━━━━\u001b[0m\u001b[37m\u001b[0m \u001b[1m0s\u001b[0m 18ms/step\n",
      "Epoch 6: D Loss: nan, G Loss: 0.7132\n",
      "\u001b[1m1/1\u001b[0m \u001b[32m━━━━━━━━━━━━━━━━━━━━\u001b[0m\u001b[37m\u001b[0m \u001b[1m0s\u001b[0m 16ms/step\n",
      "Epoch 7: D Loss: nan, G Loss: 0.7128\n",
      "\u001b[1m1/1\u001b[0m \u001b[32m━━━━━━━━━━━━━━━━━━━━\u001b[0m\u001b[37m\u001b[0m \u001b[1m0s\u001b[0m 15ms/step\n",
      "Epoch 8: D Loss: nan, G Loss: 0.7087\n",
      "\u001b[1m1/1\u001b[0m \u001b[32m━━━━━━━━━━━━━━━━━━━━\u001b[0m\u001b[37m\u001b[0m \u001b[1m0s\u001b[0m 16ms/step\n",
      "Epoch 9: D Loss: nan, G Loss: 0.7051\n",
      "\u001b[1m1/1\u001b[0m \u001b[32m━━━━━━━━━━━━━━━━━━━━\u001b[0m\u001b[37m\u001b[0m \u001b[1m0s\u001b[0m 16ms/step\n",
      "Epoch 10: D Loss: nan, G Loss: 0.7019\n",
      "\u001b[1m1/1\u001b[0m \u001b[32m━━━━━━━━━━━━━━━━━━━━\u001b[0m\u001b[37m\u001b[0m \u001b[1m0s\u001b[0m 16ms/step\n",
      "Epoch 11: D Loss: nan, G Loss: 0.6987\n",
      "\u001b[1m1/1\u001b[0m \u001b[32m━━━━━━━━━━━━━━━━━━━━\u001b[0m\u001b[37m\u001b[0m \u001b[1m0s\u001b[0m 16ms/step\n",
      "Epoch 12: D Loss: nan, G Loss: 0.6961\n",
      "\u001b[1m1/1\u001b[0m \u001b[32m━━━━━━━━━━━━━━━━━━━━\u001b[0m\u001b[37m\u001b[0m \u001b[1m0s\u001b[0m 17ms/step\n",
      "Epoch 13: D Loss: nan, G Loss: 0.6935\n",
      "\u001b[1m1/1\u001b[0m \u001b[32m━━━━━━━━━━━━━━━━━━━━\u001b[0m\u001b[37m\u001b[0m \u001b[1m0s\u001b[0m 17ms/step\n",
      "Epoch 14: D Loss: nan, G Loss: 0.6910\n",
      "\u001b[1m1/1\u001b[0m \u001b[32m━━━━━━━━━━━━━━━━━━━━\u001b[0m\u001b[37m\u001b[0m \u001b[1m0s\u001b[0m 16ms/step\n",
      "Epoch 15: D Loss: nan, G Loss: 0.6882\n",
      "\u001b[1m1/1\u001b[0m \u001b[32m━━━━━━━━━━━━━━━━━━━━\u001b[0m\u001b[37m\u001b[0m \u001b[1m0s\u001b[0m 17ms/step\n",
      "Epoch 16: D Loss: nan, G Loss: 0.6856\n",
      "\u001b[1m1/1\u001b[0m \u001b[32m━━━━━━━━━━━━━━━━━━━━\u001b[0m\u001b[37m\u001b[0m \u001b[1m0s\u001b[0m 18ms/step\n",
      "Epoch 17: D Loss: nan, G Loss: 0.6819\n",
      "\u001b[1m1/1\u001b[0m \u001b[32m━━━━━━━━━━━━━━━━━━━━\u001b[0m\u001b[37m\u001b[0m \u001b[1m0s\u001b[0m 17ms/step\n",
      "Epoch 18: D Loss: nan, G Loss: 0.6794\n",
      "\u001b[1m1/1\u001b[0m \u001b[32m━━━━━━━━━━━━━━━━━━━━\u001b[0m\u001b[37m\u001b[0m \u001b[1m0s\u001b[0m 18ms/step\n",
      "Epoch 19: D Loss: nan, G Loss: 0.6770\n",
      "\u001b[1m1/1\u001b[0m \u001b[32m━━━━━━━━━━━━━━━━━━━━\u001b[0m\u001b[37m\u001b[0m \u001b[1m0s\u001b[0m 17ms/step\n",
      "Epoch 20: D Loss: nan, G Loss: 0.6742\n",
      "\u001b[1m1/1\u001b[0m \u001b[32m━━━━━━━━━━━━━━━━━━━━\u001b[0m\u001b[37m\u001b[0m \u001b[1m0s\u001b[0m 16ms/step\n",
      "Epoch 21: D Loss: nan, G Loss: 0.6721\n",
      "\u001b[1m1/1\u001b[0m \u001b[32m━━━━━━━━━━━━━━━━━━━━\u001b[0m\u001b[37m\u001b[0m \u001b[1m0s\u001b[0m 16ms/step\n",
      "Epoch 22: D Loss: nan, G Loss: 0.6694\n",
      "\u001b[1m1/1\u001b[0m \u001b[32m━━━━━━━━━━━━━━━━━━━━\u001b[0m\u001b[37m\u001b[0m \u001b[1m0s\u001b[0m 17ms/step\n",
      "Epoch 23: D Loss: nan, G Loss: 0.6680\n",
      "\u001b[1m1/1\u001b[0m \u001b[32m━━━━━━━━━━━━━━━━━━━━\u001b[0m\u001b[37m\u001b[0m \u001b[1m0s\u001b[0m 16ms/step\n",
      "Epoch 24: D Loss: nan, G Loss: 0.6658\n"
     ]
    }
   ],
   "source": [
    "def train_gan(epochs, batch_size):\n",
    "    real_labels = np.ones((batch_size, 1))  # Label 1 for real data (Yes)\n",
    "    fake_labels = np.zeros((batch_size, 1))  # Label 0 for fake data (No)\n",
    "\n",
    "    for epoch in range(epochs):\n",
    "        # Select a random batch of real samples\n",
    "        idx = np.random.randint(0, normal_genetic_scaled.shape[0], batch_size)\n",
    "        real_samples = normal_genetic_scaled.iloc[idx].values.astype(np.float32)  # ✅ Convert to float32 NumPy array\n",
    "\n",
    "        # Generate fake samples\n",
    "        noise = np.random.normal(0, 1, (batch_size, 100))  # Noise input\n",
    "        fake_samples = generator.predict(noise)\n",
    "\n",
    "        # Train the Discriminator\n",
    "        d_loss_real = discriminator.train_on_batch(real_samples, real_labels)\n",
    "        d_loss_fake = discriminator.train_on_batch(fake_samples, fake_labels)\n",
    "\n",
    "        # Compute average loss\n",
    "        d_loss_real_value = d_loss_real[0] if isinstance(d_loss_real, (list, tuple, np.ndarray)) else d_loss_real\n",
    "        d_loss_fake_value = d_loss_fake[0] if isinstance(d_loss_fake, (list, tuple, np.ndarray)) else d_loss_fake\n",
    "        d_loss = 0.5 * (d_loss_real_value + d_loss_fake_value)\n",
    "\n",
    "        # Train the Generator\n",
    "        noise = np.random.normal(0, 1, (batch_size, 100))\n",
    "        g_loss = gan.train_on_batch(noise, real_labels)  # Directly assign g_loss\n",
    "\n",
    "        # Print loss every epoch\n",
    "        print(f\"Epoch {epoch}: D Loss: {d_loss:.4f}, G Loss: {g_loss:.4f}\")\n",
    "\n",
    "# Train the GAN\n",
    "train_gan(epochs=25, batch_size=16)\n"
   ]
  },
  {
   "cell_type": "markdown",
   "metadata": {},
   "source": [
    "Generate Synthetic \"No\" Samples for `normal_genetic`"
   ]
  },
  {
   "cell_type": "code",
   "execution_count": 61,
   "metadata": {},
   "outputs": [
    {
     "name": "stdout",
     "output_type": "stream",
     "text": [
      "\u001b[1m35/35\u001b[0m \u001b[32m━━━━━━━━━━━━━━━━━━━━\u001b[0m\u001b[37m\u001b[0m \u001b[1m0s\u001b[0m 624us/step\n",
      "T2D\n",
      "1    2141\n",
      "0    1110\n",
      "Name: count, dtype: int64\n",
      "Null values in IMPUTED_ENCODED: 0\n",
      "Null values in RISK_ALLELE_ENCODED: 0\n",
      "Final columns: Index(['STUDY', 'DISEASE_DESCRIPTION', 'REGION', 'CHR_ID', 'CHR_POS',\n",
      "       'MAPPED_GENE', 'SNP_GENE_IDS', 'SNPS', 'MERGED', 'GENOMIC_CONTEXT',\n",
      "       'INTERGENIC', 'RISK_ALLELE_FREQUENCY', 'PVALUE', 'PVALUE_MLOG',\n",
      "       'EFFECT_SIZE', 'CASE_PERCENTAGE', 'CI_LOWER_BOUND', 'CI_UPPER_BOUND',\n",
      "       'CI_RANGE', 'SNPS_PASSING_QC', 'PLATFORM_AFFYMETRIX',\n",
      "       'PLATFORM_AFFYMETRIX_ILLUMINA', 'PLATFORM_ILLUMINA', 'IMPUTED_ENCODED',\n",
      "       'RISK_ALLELE_ENCODED', 'T2D'],\n",
      "      dtype='object')\n"
     ]
    }
   ],
   "source": [
    "# Step 1: Ensure Generator Inputs Match Expected Noise Dim\n",
    "num_samples = 1110\n",
    "noise_dim = generator.input_shape[1]  # Get correct input size\n",
    "noise = np.random.normal(0, 1, (num_samples, noise_dim))  # Generate noise\n",
    "\n",
    "# Step 2: Generate Fake \"No\" Samples\n",
    "synthetic_no_samples = generator.predict(noise)\n",
    "\n",
    "# Step 3: Apply inverse_transform only on numerical columns\n",
    "synthetic_no_samples_scaled = scaler.inverse_transform(synthetic_no_samples[:, :scaler.scale_.shape[0]])\n",
    "\n",
    "# Step 4: Convert to DataFrame with Correct Column Names\n",
    "synthetic_df = pd.DataFrame(synthetic_no_samples_scaled, columns=normal_genetic.columns[:scaler.scale_.shape[0]])\n",
    "\n",
    "# Step 5: Add Missing Categorical Columns Randomly (Ensure IMPUTED_ENCODED & RISK_ALLELE_ENCODED are added)\n",
    "for col in normal_genetic.columns[scaler.scale_.shape[0]:-1]:  # Exclude target column\n",
    "    if col in [\"IMPUTED_ENCODED\", \"RISK_ALLELE_ENCODED\"]:  # ✅ Ensure these columns are restored\n",
    "        synthetic_df[col] = np.random.choice(normal_genetic[col].values, size=len(synthetic_df))\n",
    "    else:  # ✅ Add all other categorical columns normally\n",
    "        synthetic_df[col] = np.random.choice(normal_genetic[col].values, size=len(synthetic_df))\n",
    "\n",
    "# Step 6: Label Synthetic Samples as \"No\" (0)\n",
    "synthetic_df['T2D'] = 0\n",
    "\n",
    "# Step 7: Label Original Samples as \"Yes\" (1)\n",
    "normal_genetic['T2D'] = 1\n",
    "\n",
    "# Step 8: Combine Real and Synthetic Data\n",
    "balanced_normal_genetic = pd.concat([normal_genetic, synthetic_df], ignore_index=True)\n",
    "\n",
    "# Step 9: Fill Missing `IMPUTED_ENCODED` & `RISK_ALLELE_ENCODED` Values (If Any)\n",
    "for col in [\"IMPUTED_ENCODED\", \"RISK_ALLELE_ENCODED\"]:\n",
    "    if balanced_normal_genetic[col].isnull().sum() > 0:\n",
    "        real_values = balanced_normal_genetic.loc[balanced_normal_genetic['T2D'] == 1, col]\n",
    "        balanced_normal_genetic.loc[balanced_normal_genetic['T2D'] == 0, col] = np.random.choice(\n",
    "            real_values, size=(balanced_normal_genetic['T2D'] == 0).sum(), replace=True\n",
    "        )\n",
    "\n",
    "# Step 10: Check the distribution of labels\n",
    "print(balanced_normal_genetic['T2D'].value_counts())\n",
    "\n",
    "# Step 11: Verify Fixes\n",
    "print(\"Null values in IMPUTED_ENCODED:\", balanced_normal_genetic['IMPUTED_ENCODED'].isnull().sum())\n",
    "print(\"Null values in RISK_ALLELE_ENCODED:\", balanced_normal_genetic['RISK_ALLELE_ENCODED'].isnull().sum())\n",
    "print(\"Final columns:\", balanced_normal_genetic.columns)"
   ]
  },
  {
   "cell_type": "code",
   "execution_count": 62,
   "metadata": {},
   "outputs": [
    {
     "data": {
      "text/html": [
       "<div>\n",
       "<style scoped>\n",
       "    .dataframe tbody tr th:only-of-type {\n",
       "        vertical-align: middle;\n",
       "    }\n",
       "\n",
       "    .dataframe tbody tr th {\n",
       "        vertical-align: top;\n",
       "    }\n",
       "\n",
       "    .dataframe thead th {\n",
       "        text-align: right;\n",
       "    }\n",
       "</style>\n",
       "<table border=\"1\" class=\"dataframe\">\n",
       "  <thead>\n",
       "    <tr style=\"text-align: right;\">\n",
       "      <th></th>\n",
       "      <th>STUDY</th>\n",
       "      <th>DISEASE_DESCRIPTION</th>\n",
       "      <th>REGION</th>\n",
       "      <th>CHR_ID</th>\n",
       "      <th>CHR_POS</th>\n",
       "      <th>MAPPED_GENE</th>\n",
       "      <th>SNP_GENE_IDS</th>\n",
       "      <th>SNPS</th>\n",
       "      <th>MERGED</th>\n",
       "      <th>GENOMIC_CONTEXT</th>\n",
       "      <th>...</th>\n",
       "      <th>CI_LOWER_BOUND</th>\n",
       "      <th>CI_UPPER_BOUND</th>\n",
       "      <th>CI_RANGE</th>\n",
       "      <th>SNPS_PASSING_QC</th>\n",
       "      <th>PLATFORM_AFFYMETRIX</th>\n",
       "      <th>PLATFORM_AFFYMETRIX_ILLUMINA</th>\n",
       "      <th>PLATFORM_ILLUMINA</th>\n",
       "      <th>IMPUTED_ENCODED</th>\n",
       "      <th>RISK_ALLELE_ENCODED</th>\n",
       "      <th>T2D</th>\n",
       "    </tr>\n",
       "  </thead>\n",
       "  <tbody>\n",
       "    <tr>\n",
       "      <th>0</th>\n",
       "      <td>[ 1.53467417e-01 -1.21334471e-01  7.48024210e-...</td>\n",
       "      <td>[ 1.58013031e-01  9.36319865e-03 -6.81496318e-...</td>\n",
       "      <td>[ 3.28317851e-01 -2.22687889e-02  5.97555749e-...</td>\n",
       "      <td>1.0</td>\n",
       "      <td>33480230.0</td>\n",
       "      <td>[ 2.26190373e-01 -3.46414000e-01  2.97874417e-...</td>\n",
       "      <td>121903.0</td>\n",
       "      <td>[ 2.22697318e-01 -1.97786130e-02  3.51657197e-...</td>\n",
       "      <td>0.0</td>\n",
       "      <td>[ 2.30852306e-01 -1.53246507e-01 -5.97583354e-...</td>\n",
       "      <td>...</td>\n",
       "      <td>1.37</td>\n",
       "      <td>2.02</td>\n",
       "      <td>0.65</td>\n",
       "      <td>6906962</td>\n",
       "      <td>0</td>\n",
       "      <td>1</td>\n",
       "      <td>0</td>\n",
       "      <td>1</td>\n",
       "      <td>0.0</td>\n",
       "      <td>1</td>\n",
       "    </tr>\n",
       "    <tr>\n",
       "      <th>1</th>\n",
       "      <td>[ 1.53467417e-01 -1.21334471e-01  7.48024210e-...</td>\n",
       "      <td>[ 1.58013031e-01  9.36319865e-03 -6.81496318e-...</td>\n",
       "      <td>[ 3.28317851e-01 -2.22687889e-02  5.97555749e-...</td>\n",
       "      <td>1.0</td>\n",
       "      <td>33480000.0</td>\n",
       "      <td>[ 2.26190373e-01 -3.46414000e-01  2.97874417e-...</td>\n",
       "      <td>121903.0</td>\n",
       "      <td>[ 1.39127567e-01 -1.73284680e-01  1.08205833e-...</td>\n",
       "      <td>0.0</td>\n",
       "      <td>[ 2.30852306e-01 -1.53246507e-01 -5.97583354e-...</td>\n",
       "      <td>...</td>\n",
       "      <td>1.68</td>\n",
       "      <td>3.17</td>\n",
       "      <td>1.49</td>\n",
       "      <td>6906962</td>\n",
       "      <td>0</td>\n",
       "      <td>1</td>\n",
       "      <td>0</td>\n",
       "      <td>1</td>\n",
       "      <td>1.0</td>\n",
       "      <td>1</td>\n",
       "    </tr>\n",
       "    <tr>\n",
       "      <th>2</th>\n",
       "      <td>[ 4.83314842e-02  1.37150949e-02 -2.07627401e-...</td>\n",
       "      <td>[-1.53973475e-01  1.47206217e-01 -1.56758264e-...</td>\n",
       "      <td>[ 1.94879174e-01 -2.05169976e-01 -5.05079329e-...</td>\n",
       "      <td>7.0</td>\n",
       "      <td>28156794.0</td>\n",
       "      <td>[ 5.20025551e-01 -4.88944441e-01  3.14070396e-...</td>\n",
       "      <td>153814.0</td>\n",
       "      <td>[ 2.49233589e-01 -1.36984721e-01  7.72382393e-...</td>\n",
       "      <td>0.0</td>\n",
       "      <td>[ 2.30852306e-01 -1.53246507e-01 -5.97583354e-...</td>\n",
       "      <td>...</td>\n",
       "      <td>1.08</td>\n",
       "      <td>1.13</td>\n",
       "      <td>0.05</td>\n",
       "      <td>2500000</td>\n",
       "      <td>0</td>\n",
       "      <td>1</td>\n",
       "      <td>0</td>\n",
       "      <td>1</td>\n",
       "      <td>1.0</td>\n",
       "      <td>1</td>\n",
       "    </tr>\n",
       "    <tr>\n",
       "      <th>3</th>\n",
       "      <td>[ 4.83314842e-02  1.37150949e-02 -2.07627401e-...</td>\n",
       "      <td>[-1.53973475e-01  1.47206217e-01 -1.56758264e-...</td>\n",
       "      <td>[ 8.26046243e-02 -1.68427393e-01 -1.87586889e-...</td>\n",
       "      <td>7.0</td>\n",
       "      <td>44205764.0</td>\n",
       "      <td>[ 4.80518907e-01 -3.28171670e-01  3.91541887e-...</td>\n",
       "      <td>106636.0</td>\n",
       "      <td>[ 3.10019791e-01 -2.49393567e-01  1.98352784e-...</td>\n",
       "      <td>0.0</td>\n",
       "      <td>[ 2.30852306e-01 -1.53246507e-01 -5.97583354e-...</td>\n",
       "      <td>...</td>\n",
       "      <td>1.04</td>\n",
       "      <td>1.10</td>\n",
       "      <td>0.06</td>\n",
       "      <td>2500000</td>\n",
       "      <td>0</td>\n",
       "      <td>1</td>\n",
       "      <td>0</td>\n",
       "      <td>1</td>\n",
       "      <td>3.0</td>\n",
       "      <td>1</td>\n",
       "    </tr>\n",
       "    <tr>\n",
       "      <th>4</th>\n",
       "      <td>[ 4.83314842e-02  1.37150949e-02 -2.07627401e-...</td>\n",
       "      <td>[-1.53973475e-01  1.47206217e-01 -1.56758264e-...</td>\n",
       "      <td>[ 2.34241426e-01 -2.30213180e-01  3.73001061e-...</td>\n",
       "      <td>8.0</td>\n",
       "      <td>41661730.0</td>\n",
       "      <td>[ 5.83934963e-01 -4.24800575e-01  8.80361199e-...</td>\n",
       "      <td>29534.0</td>\n",
       "      <td>[ 3.48467588e-01 -1.68800727e-01  1.54673547e-...</td>\n",
       "      <td>0.0</td>\n",
       "      <td>[ 1.23585604e-01 -3.54309492e-02 -3.14229220e-...</td>\n",
       "      <td>...</td>\n",
       "      <td>1.06</td>\n",
       "      <td>1.12</td>\n",
       "      <td>0.06</td>\n",
       "      <td>2500000</td>\n",
       "      <td>0</td>\n",
       "      <td>1</td>\n",
       "      <td>0</td>\n",
       "      <td>1</td>\n",
       "      <td>2.0</td>\n",
       "      <td>1</td>\n",
       "    </tr>\n",
       "  </tbody>\n",
       "</table>\n",
       "<p>5 rows × 26 columns</p>\n",
       "</div>"
      ],
      "text/plain": [
       "                                               STUDY  \\\n",
       "0  [ 1.53467417e-01 -1.21334471e-01  7.48024210e-...   \n",
       "1  [ 1.53467417e-01 -1.21334471e-01  7.48024210e-...   \n",
       "2  [ 4.83314842e-02  1.37150949e-02 -2.07627401e-...   \n",
       "3  [ 4.83314842e-02  1.37150949e-02 -2.07627401e-...   \n",
       "4  [ 4.83314842e-02  1.37150949e-02 -2.07627401e-...   \n",
       "\n",
       "                                 DISEASE_DESCRIPTION  \\\n",
       "0  [ 1.58013031e-01  9.36319865e-03 -6.81496318e-...   \n",
       "1  [ 1.58013031e-01  9.36319865e-03 -6.81496318e-...   \n",
       "2  [-1.53973475e-01  1.47206217e-01 -1.56758264e-...   \n",
       "3  [-1.53973475e-01  1.47206217e-01 -1.56758264e-...   \n",
       "4  [-1.53973475e-01  1.47206217e-01 -1.56758264e-...   \n",
       "\n",
       "                                              REGION  CHR_ID     CHR_POS  \\\n",
       "0  [ 3.28317851e-01 -2.22687889e-02  5.97555749e-...     1.0  33480230.0   \n",
       "1  [ 3.28317851e-01 -2.22687889e-02  5.97555749e-...     1.0  33480000.0   \n",
       "2  [ 1.94879174e-01 -2.05169976e-01 -5.05079329e-...     7.0  28156794.0   \n",
       "3  [ 8.26046243e-02 -1.68427393e-01 -1.87586889e-...     7.0  44205764.0   \n",
       "4  [ 2.34241426e-01 -2.30213180e-01  3.73001061e-...     8.0  41661730.0   \n",
       "\n",
       "                                         MAPPED_GENE  SNP_GENE_IDS  \\\n",
       "0  [ 2.26190373e-01 -3.46414000e-01  2.97874417e-...      121903.0   \n",
       "1  [ 2.26190373e-01 -3.46414000e-01  2.97874417e-...      121903.0   \n",
       "2  [ 5.20025551e-01 -4.88944441e-01  3.14070396e-...      153814.0   \n",
       "3  [ 4.80518907e-01 -3.28171670e-01  3.91541887e-...      106636.0   \n",
       "4  [ 5.83934963e-01 -4.24800575e-01  8.80361199e-...       29534.0   \n",
       "\n",
       "                                                SNPS  MERGED  \\\n",
       "0  [ 2.22697318e-01 -1.97786130e-02  3.51657197e-...     0.0   \n",
       "1  [ 1.39127567e-01 -1.73284680e-01  1.08205833e-...     0.0   \n",
       "2  [ 2.49233589e-01 -1.36984721e-01  7.72382393e-...     0.0   \n",
       "3  [ 3.10019791e-01 -2.49393567e-01  1.98352784e-...     0.0   \n",
       "4  [ 3.48467588e-01 -1.68800727e-01  1.54673547e-...     0.0   \n",
       "\n",
       "                                     GENOMIC_CONTEXT  ...  CI_LOWER_BOUND  \\\n",
       "0  [ 2.30852306e-01 -1.53246507e-01 -5.97583354e-...  ...            1.37   \n",
       "1  [ 2.30852306e-01 -1.53246507e-01 -5.97583354e-...  ...            1.68   \n",
       "2  [ 2.30852306e-01 -1.53246507e-01 -5.97583354e-...  ...            1.08   \n",
       "3  [ 2.30852306e-01 -1.53246507e-01 -5.97583354e-...  ...            1.04   \n",
       "4  [ 1.23585604e-01 -3.54309492e-02 -3.14229220e-...  ...            1.06   \n",
       "\n",
       "   CI_UPPER_BOUND  CI_RANGE  SNPS_PASSING_QC  PLATFORM_AFFYMETRIX  \\\n",
       "0            2.02      0.65          6906962                    0   \n",
       "1            3.17      1.49          6906962                    0   \n",
       "2            1.13      0.05          2500000                    0   \n",
       "3            1.10      0.06          2500000                    0   \n",
       "4            1.12      0.06          2500000                    0   \n",
       "\n",
       "   PLATFORM_AFFYMETRIX_ILLUMINA  PLATFORM_ILLUMINA  IMPUTED_ENCODED  \\\n",
       "0                             1                  0                1   \n",
       "1                             1                  0                1   \n",
       "2                             1                  0                1   \n",
       "3                             1                  0                1   \n",
       "4                             1                  0                1   \n",
       "\n",
       "   RISK_ALLELE_ENCODED  T2D  \n",
       "0                  0.0    1  \n",
       "1                  1.0    1  \n",
       "2                  1.0    1  \n",
       "3                  3.0    1  \n",
       "4                  2.0    1  \n",
       "\n",
       "[5 rows x 26 columns]"
      ]
     },
     "execution_count": 62,
     "metadata": {},
     "output_type": "execute_result"
    }
   ],
   "source": [
    "balanced_normal_genetic.head()"
   ]
  },
  {
   "cell_type": "markdown",
   "metadata": {},
   "source": [
    "Checking null values for `balanced_normal_genetic`"
   ]
  },
  {
   "cell_type": "code",
   "execution_count": 63,
   "metadata": {},
   "outputs": [
    {
     "data": {
      "text/plain": [
       "STUDY                           0\n",
       "DISEASE_DESCRIPTION             0\n",
       "REGION                          0\n",
       "CHR_ID                          0\n",
       "CHR_POS                         0\n",
       "MAPPED_GENE                     0\n",
       "SNP_GENE_IDS                    0\n",
       "SNPS                            0\n",
       "MERGED                          0\n",
       "GENOMIC_CONTEXT                 0\n",
       "INTERGENIC                      0\n",
       "RISK_ALLELE_FREQUENCY           0\n",
       "PVALUE                          0\n",
       "PVALUE_MLOG                     0\n",
       "EFFECT_SIZE                     0\n",
       "CASE_PERCENTAGE                 0\n",
       "CI_LOWER_BOUND                  0\n",
       "CI_UPPER_BOUND                  0\n",
       "CI_RANGE                        0\n",
       "SNPS_PASSING_QC                 0\n",
       "PLATFORM_AFFYMETRIX             0\n",
       "PLATFORM_AFFYMETRIX_ILLUMINA    0\n",
       "PLATFORM_ILLUMINA               0\n",
       "IMPUTED_ENCODED                 0\n",
       "RISK_ALLELE_ENCODED             0\n",
       "T2D                             0\n",
       "dtype: int64"
      ]
     },
     "execution_count": 63,
     "metadata": {},
     "output_type": "execute_result"
    }
   ],
   "source": [
    "balanced_normal_genetic.isnull().sum()"
   ]
  },
  {
   "cell_type": "markdown",
   "metadata": {},
   "source": [
    "Splitting Data"
   ]
  },
  {
   "cell_type": "code",
   "execution_count": 64,
   "metadata": {},
   "outputs": [],
   "source": [
    "# Splitting datasets into training and testing sets\n",
    "from sklearn.model_selection import train_test_split\n",
    "\n",
    "# Splitting African dataset\n",
    "X_train_african, X_test_african, y_train_african, y_test_african = train_test_split(\n",
    "    African.drop('T2D', axis=1), African['T2D'], test_size=0.2, random_state=42\n",
    ")\n",
    "\n",
    "# Splitting Bangladesh dataset\n",
    "X_train_bangladesh, X_test_bangladesh, y_train_bangladesh, y_test_bangladesh = train_test_split(\n",
    "    Bangladesh.drop('T2D', axis=1), Bangladesh['T2D'], test_size=0.2, random_state=42\n",
    ")\n",
    "\n",
    "# Splitting Iraq dataset\n",
    "X_train_iraq, X_test_iraq, y_train_iraq, y_test_iraq = train_test_split(\n",
    "    Iraq.drop('T2D', axis=1), Iraq['T2D'], test_size=0.2, random_state=42\n",
    ")\n",
    "\n",
    "# Splitting Inter Genetic dataset\n",
    "X_train_inter_genetic, X_test_inter_genetic, y_train_inter_genetic, y_test_inter_genetic = train_test_split(\n",
    "    balanced_inter_genetic.drop('T2D', axis=1), balanced_inter_genetic['T2D'], test_size=0.2, random_state=42\n",
    ")\n",
    "\n",
    "# Splitting Normal Genetic dataset\n",
    "X_train_normal_genetic, X_test_normal_genetic, y_train_normal_genetic, y_test_normal_genetic = train_test_split(\n",
    "    balanced_normal_genetic.drop('T2D', axis=1), balanced_normal_genetic['T2D'], test_size=0.2, random_state=42\n",
    ")"
   ]
  },
  {
   "cell_type": "code",
   "execution_count": 65,
   "metadata": {},
   "outputs": [],
   "source": [
    "# Importing necessary libraries\n",
    "from sklearn.preprocessing import StandardScaler\n",
    "import pandas as pd\n",
    "\n",
    "# Initializing the scaler\n",
    "scaler = StandardScaler()\n",
    "\n",
    "# Handling non-numeric data by selecting numeric columns only\n",
    "def preprocess_and_scale(X_train, X_test):\n",
    "    # Selecting only numeric columns\n",
    "    X_train_numeric = X_train.select_dtypes(include=[float, int])\n",
    "    X_test_numeric = X_test.select_dtypes(include=[float, int])\n",
    "    \n",
    "    # Scaling numeric features\n",
    "    X_train_scaled = scaler.fit_transform(X_train_numeric)\n",
    "    X_test_scaled = scaler.transform(X_test_numeric)\n",
    "    \n",
    "    return X_train_scaled, X_test_scaled\n",
    "\n",
    "# Preprocessing and scaling for African dataset\n",
    "X_train_african_scaled, X_test_african_scaled = preprocess_and_scale(\n",
    "    X_train_african, X_test_african\n",
    ")\n",
    "\n",
    "# Preprocessing and scaling for Bangladesh dataset\n",
    "X_train_bangladesh_scaled, X_test_bangladesh_scaled = preprocess_and_scale(\n",
    "    X_train_bangladesh, X_test_bangladesh\n",
    ")\n",
    "\n",
    "# Preprocessing and scaling for Iraq dataset\n",
    "X_train_iraq_scaled, X_test_iraq_scaled = preprocess_and_scale(\n",
    "    X_train_iraq, X_test_iraq\n",
    ")\n",
    "\n",
    "# Preprocessing and scaling for Inter Genetic dataset\n",
    "X_train_inter_genetic_scaled, X_test_inter_genetic_scaled = preprocess_and_scale(\n",
    "    X_train_inter_genetic, X_test_inter_genetic\n",
    ")\n",
    "\n",
    "# Preprocessing and scaling for Normal Genetic dataset\n",
    "X_train_normal_genetic_scaled, X_test_normal_genetic_scaled = preprocess_and_scale(\n",
    "    X_train_normal_genetic, X_test_normal_genetic\n",
    ")"
   ]
  },
  {
   "cell_type": "markdown",
   "metadata": {},
   "source": [
    "# Model Selection "
   ]
  },
  {
   "cell_type": "markdown",
   "metadata": {},
   "source": [
    "Training some machine learning models"
   ]
  },
  {
   "cell_type": "code",
   "execution_count": 66,
   "metadata": {},
   "outputs": [
    {
     "name": "stdout",
     "output_type": "stream",
     "text": [
      "\n",
      "African Dataset Model Selection Results:\n",
      "Logistic Regression: Accuracy = 0.9103\n",
      "Random Forest: Accuracy = 0.9103\n",
      "SVM: Accuracy = 0.8846\n",
      "KNN: Accuracy = 0.8590\n",
      "Gradient Boosting: Accuracy = 0.9103\n",
      "Naive Bayes: Accuracy = 0.8974\n",
      "Decision Tree: Accuracy = 0.8846\n",
      "\n",
      "Bangladesh Dataset Model Selection Results:\n",
      "Logistic Regression: Accuracy = 0.9384\n",
      "Random Forest: Accuracy = 0.9458\n",
      "SVM: Accuracy = 0.9403\n",
      "KNN: Accuracy = 0.9347\n",
      "Gradient Boosting: Accuracy = 0.9412\n",
      "Naive Bayes: Accuracy = 0.9053\n",
      "Decision Tree: Accuracy = 0.9081\n",
      "\n",
      "Iraq Dataset Model Selection Results:\n",
      "Logistic Regression: Accuracy = 0.9810\n",
      "Random Forest: Accuracy = 0.9747\n",
      "SVM: Accuracy = 0.9684\n",
      "KNN: Accuracy = 0.9494\n",
      "Gradient Boosting: Accuracy = 0.9747\n",
      "Naive Bayes: Accuracy = 0.9620\n",
      "Decision Tree: Accuracy = 0.9747\n",
      "\n",
      "Inter Genetic Dataset Model Selection Results:\n",
      "Logistic Regression: Accuracy = 1.0000\n",
      "Random Forest: Accuracy = 1.0000\n",
      "SVM: Accuracy = 0.9977\n",
      "KNN: Accuracy = 1.0000\n",
      "Gradient Boosting: Accuracy = 1.0000\n",
      "Naive Bayes: Accuracy = 1.0000\n",
      "Decision Tree: Accuracy = 1.0000\n",
      "\n",
      "Normal Genetic Dataset Model Selection Results:\n",
      "Logistic Regression: Accuracy = 1.0000\n",
      "Random Forest: Accuracy = 1.0000\n",
      "SVM: Accuracy = 1.0000\n",
      "KNN: Accuracy = 0.9969\n",
      "Gradient Boosting: Accuracy = 1.0000\n",
      "Naive Bayes: Accuracy = 1.0000\n",
      "Decision Tree: Accuracy = 1.0000\n"
     ]
    }
   ],
   "source": [
    "# Importing necessary libraries for model selection\n",
    "from sklearn.linear_model import LogisticRegression\n",
    "from sklearn.ensemble import RandomForestClassifier, GradientBoostingClassifier\n",
    "from sklearn.svm import SVC\n",
    "from sklearn.neighbors import KNeighborsClassifier\n",
    "from sklearn.naive_bayes import GaussianNB\n",
    "from sklearn.tree import DecisionTreeClassifier\n",
    "from sklearn.metrics import accuracy_score\n",
    "\n",
    "# Defining datasets and corresponding scaled data\n",
    "datasets = {\n",
    "    \"African\": (X_train_african_scaled, X_test_african_scaled, y_train_african, y_test_african),\n",
    "    \"Bangladesh\": (X_train_bangladesh_scaled, X_test_bangladesh_scaled, y_train_bangladesh, y_test_bangladesh),\n",
    "    \"Iraq\": (X_train_iraq_scaled, X_test_iraq_scaled, y_train_iraq, y_test_iraq),\n",
    "    \"Inter Genetic\": (X_train_inter_genetic_scaled, X_test_inter_genetic_scaled, y_train_inter_genetic, y_test_inter_genetic),\n",
    "    \"Normal Genetic\": (X_train_normal_genetic_scaled, X_test_normal_genetic_scaled, y_train_normal_genetic, y_test_normal_genetic)\n",
    "}\n",
    "\n",
    "# Models to evaluate\n",
    "models = {\n",
    "    \"Logistic Regression\": LogisticRegression(),\n",
    "    \"Random Forest\": RandomForestClassifier(),\n",
    "    \"SVM\": SVC(),\n",
    "    \"KNN\": KNeighborsClassifier(),\n",
    "    \"Gradient Boosting\": GradientBoostingClassifier(),\n",
    "    \"Naive Bayes\": GaussianNB(),\n",
    "    \"Decision Tree\": DecisionTreeClassifier(),\n",
    "}\n",
    "\n",
    "# Looping through each dataset and evaluating models\n",
    "for dataset_name, (X_train, X_test, y_train, y_test) in datasets.items():\n",
    "    print(f\"\\n{dataset_name} Dataset Model Selection Results:\")\n",
    "    results = {}\n",
    "    for model_name, model in models.items():\n",
    "        model.fit(X_train, y_train)  # Training the model\n",
    "        y_pred = model.predict(X_test)  # Predicting on the test set\n",
    "        accuracy = accuracy_score(y_test, y_pred)  # Calculating accuracy\n",
    "        results[model_name] = accuracy\n",
    "\n",
    "    # Displaying results for the current dataset\n",
    "    for model_name, accuracy in results.items():\n",
    "        print(f\"{model_name}: Accuracy = {accuracy:.4f}\")"
   ]
  },
  {
   "cell_type": "markdown",
   "metadata": {},
   "source": [
    "Subplots of Cross Validation for the best model"
   ]
  },
  {
   "cell_type": "code",
   "execution_count": 67,
   "metadata": {},
   "outputs": [
    {
     "data": {
      "application/vnd.plotly.v1+json": {
       "config": {
        "plotlyServerURL": "https://plot.ly"
       },
       "data": [
        {
         "name": "African Scores",
         "type": "scatter",
         "x": [
          1,
          2,
          3,
          4,
          5,
          6,
          7,
          8,
          9,
          10
         ],
         "xaxis": "x",
         "y": [
          0.875,
          0.9375,
          0.9032258064516129,
          0.9354838709677419,
          0.8709677419354839,
          0.967741935483871,
          0.9032258064516129,
          0.967741935483871,
          0.8709677419354839,
          0.9032258064516129
         ],
         "yaxis": "y"
        },
        {
         "name": "Bangladesh Scores",
         "type": "scatter",
         "x": [
          1,
          2,
          3,
          4,
          5,
          6,
          7,
          8,
          9,
          10
         ],
         "xaxis": "x2",
         "y": [
          0.9471264367816092,
          0.9402298850574713,
          0.9448275862068966,
          0.9517241379310345,
          0.9425287356321839,
          0.9356321839080459,
          0.9471264367816092,
          0.9425287356321839,
          0.9402298850574713,
          0.9585253456221198
         ],
         "yaxis": "y2"
        },
        {
         "name": "Iraq Scores",
         "type": "scatter",
         "x": [
          1,
          2,
          3,
          4,
          5,
          6,
          7,
          8,
          9,
          10
         ],
         "xaxis": "x3",
         "y": [
          0.9841269841269841,
          0.9682539682539683,
          0.9841269841269841,
          1,
          1,
          1,
          0.9841269841269841,
          0.9841269841269841,
          0.9838709677419355,
          0.9838709677419355
         ],
         "yaxis": "y3"
        },
        {
         "name": "Inter Genetic Scores",
         "type": "scatter",
         "x": [
          1,
          2,
          3,
          4,
          5,
          6,
          7,
          8,
          9,
          10
         ],
         "xaxis": "x4",
         "y": [
          1,
          1,
          1,
          1,
          1,
          1,
          1,
          1,
          1,
          1
         ],
         "yaxis": "y4"
        },
        {
         "name": "Normal Genetic Scores",
         "type": "scatter",
         "x": [
          1,
          2,
          3,
          4,
          5,
          6,
          7,
          8,
          9,
          10
         ],
         "xaxis": "x5",
         "y": [
          1,
          1,
          1,
          1,
          1,
          1,
          1,
          1,
          1,
          1
         ],
         "yaxis": "y5"
        }
       ],
       "layout": {
        "annotations": [
         {
          "font": {
           "size": 16
          },
          "showarrow": false,
          "text": "African (LogisticRegression) Cross Validation Scores",
          "x": 0.5,
          "xanchor": "center",
          "xref": "paper",
          "y": 1,
          "yanchor": "bottom",
          "yref": "paper"
         },
         {
          "font": {
           "size": 16
          },
          "showarrow": false,
          "text": "Bangladesh (RandomForestClassifier) Cross Validation Scores",
          "x": 0.5,
          "xanchor": "center",
          "xref": "paper",
          "y": 0.78,
          "yanchor": "bottom",
          "yref": "paper"
         },
         {
          "font": {
           "size": 16
          },
          "showarrow": false,
          "text": "Iraq (GradientBoostingClassifier) Cross Validation Scores",
          "x": 0.5,
          "xanchor": "center",
          "xref": "paper",
          "y": 0.56,
          "yanchor": "bottom",
          "yref": "paper"
         },
         {
          "font": {
           "size": 16
          },
          "showarrow": false,
          "text": "Inter Genetic (RandomForestClassifier) Cross Validation Scores",
          "x": 0.5,
          "xanchor": "center",
          "xref": "paper",
          "y": 0.33999999999999997,
          "yanchor": "bottom",
          "yref": "paper"
         },
         {
          "font": {
           "size": 16
          },
          "showarrow": false,
          "text": "Normal Genetic (LogisticRegression) Cross Validation Scores",
          "x": 0.5,
          "xanchor": "center",
          "xref": "paper",
          "y": 0.12,
          "yanchor": "bottom",
          "yref": "paper"
         }
        ],
        "height": 1500,
        "showlegend": true,
        "template": {
         "data": {
          "bar": [
           {
            "error_x": {
             "color": "#2a3f5f"
            },
            "error_y": {
             "color": "#2a3f5f"
            },
            "marker": {
             "line": {
              "color": "#E5ECF6",
              "width": 0.5
             },
             "pattern": {
              "fillmode": "overlay",
              "size": 10,
              "solidity": 0.2
             }
            },
            "type": "bar"
           }
          ],
          "barpolar": [
           {
            "marker": {
             "line": {
              "color": "#E5ECF6",
              "width": 0.5
             },
             "pattern": {
              "fillmode": "overlay",
              "size": 10,
              "solidity": 0.2
             }
            },
            "type": "barpolar"
           }
          ],
          "carpet": [
           {
            "aaxis": {
             "endlinecolor": "#2a3f5f",
             "gridcolor": "white",
             "linecolor": "white",
             "minorgridcolor": "white",
             "startlinecolor": "#2a3f5f"
            },
            "baxis": {
             "endlinecolor": "#2a3f5f",
             "gridcolor": "white",
             "linecolor": "white",
             "minorgridcolor": "white",
             "startlinecolor": "#2a3f5f"
            },
            "type": "carpet"
           }
          ],
          "choropleth": [
           {
            "colorbar": {
             "outlinewidth": 0,
             "ticks": ""
            },
            "type": "choropleth"
           }
          ],
          "contour": [
           {
            "colorbar": {
             "outlinewidth": 0,
             "ticks": ""
            },
            "colorscale": [
             [
              0,
              "#0d0887"
             ],
             [
              0.1111111111111111,
              "#46039f"
             ],
             [
              0.2222222222222222,
              "#7201a8"
             ],
             [
              0.3333333333333333,
              "#9c179e"
             ],
             [
              0.4444444444444444,
              "#bd3786"
             ],
             [
              0.5555555555555556,
              "#d8576b"
             ],
             [
              0.6666666666666666,
              "#ed7953"
             ],
             [
              0.7777777777777778,
              "#fb9f3a"
             ],
             [
              0.8888888888888888,
              "#fdca26"
             ],
             [
              1,
              "#f0f921"
             ]
            ],
            "type": "contour"
           }
          ],
          "contourcarpet": [
           {
            "colorbar": {
             "outlinewidth": 0,
             "ticks": ""
            },
            "type": "contourcarpet"
           }
          ],
          "heatmap": [
           {
            "colorbar": {
             "outlinewidth": 0,
             "ticks": ""
            },
            "colorscale": [
             [
              0,
              "#0d0887"
             ],
             [
              0.1111111111111111,
              "#46039f"
             ],
             [
              0.2222222222222222,
              "#7201a8"
             ],
             [
              0.3333333333333333,
              "#9c179e"
             ],
             [
              0.4444444444444444,
              "#bd3786"
             ],
             [
              0.5555555555555556,
              "#d8576b"
             ],
             [
              0.6666666666666666,
              "#ed7953"
             ],
             [
              0.7777777777777778,
              "#fb9f3a"
             ],
             [
              0.8888888888888888,
              "#fdca26"
             ],
             [
              1,
              "#f0f921"
             ]
            ],
            "type": "heatmap"
           }
          ],
          "heatmapgl": [
           {
            "colorbar": {
             "outlinewidth": 0,
             "ticks": ""
            },
            "colorscale": [
             [
              0,
              "#0d0887"
             ],
             [
              0.1111111111111111,
              "#46039f"
             ],
             [
              0.2222222222222222,
              "#7201a8"
             ],
             [
              0.3333333333333333,
              "#9c179e"
             ],
             [
              0.4444444444444444,
              "#bd3786"
             ],
             [
              0.5555555555555556,
              "#d8576b"
             ],
             [
              0.6666666666666666,
              "#ed7953"
             ],
             [
              0.7777777777777778,
              "#fb9f3a"
             ],
             [
              0.8888888888888888,
              "#fdca26"
             ],
             [
              1,
              "#f0f921"
             ]
            ],
            "type": "heatmapgl"
           }
          ],
          "histogram": [
           {
            "marker": {
             "pattern": {
              "fillmode": "overlay",
              "size": 10,
              "solidity": 0.2
             }
            },
            "type": "histogram"
           }
          ],
          "histogram2d": [
           {
            "colorbar": {
             "outlinewidth": 0,
             "ticks": ""
            },
            "colorscale": [
             [
              0,
              "#0d0887"
             ],
             [
              0.1111111111111111,
              "#46039f"
             ],
             [
              0.2222222222222222,
              "#7201a8"
             ],
             [
              0.3333333333333333,
              "#9c179e"
             ],
             [
              0.4444444444444444,
              "#bd3786"
             ],
             [
              0.5555555555555556,
              "#d8576b"
             ],
             [
              0.6666666666666666,
              "#ed7953"
             ],
             [
              0.7777777777777778,
              "#fb9f3a"
             ],
             [
              0.8888888888888888,
              "#fdca26"
             ],
             [
              1,
              "#f0f921"
             ]
            ],
            "type": "histogram2d"
           }
          ],
          "histogram2dcontour": [
           {
            "colorbar": {
             "outlinewidth": 0,
             "ticks": ""
            },
            "colorscale": [
             [
              0,
              "#0d0887"
             ],
             [
              0.1111111111111111,
              "#46039f"
             ],
             [
              0.2222222222222222,
              "#7201a8"
             ],
             [
              0.3333333333333333,
              "#9c179e"
             ],
             [
              0.4444444444444444,
              "#bd3786"
             ],
             [
              0.5555555555555556,
              "#d8576b"
             ],
             [
              0.6666666666666666,
              "#ed7953"
             ],
             [
              0.7777777777777778,
              "#fb9f3a"
             ],
             [
              0.8888888888888888,
              "#fdca26"
             ],
             [
              1,
              "#f0f921"
             ]
            ],
            "type": "histogram2dcontour"
           }
          ],
          "mesh3d": [
           {
            "colorbar": {
             "outlinewidth": 0,
             "ticks": ""
            },
            "type": "mesh3d"
           }
          ],
          "parcoords": [
           {
            "line": {
             "colorbar": {
              "outlinewidth": 0,
              "ticks": ""
             }
            },
            "type": "parcoords"
           }
          ],
          "pie": [
           {
            "automargin": true,
            "type": "pie"
           }
          ],
          "scatter": [
           {
            "fillpattern": {
             "fillmode": "overlay",
             "size": 10,
             "solidity": 0.2
            },
            "type": "scatter"
           }
          ],
          "scatter3d": [
           {
            "line": {
             "colorbar": {
              "outlinewidth": 0,
              "ticks": ""
             }
            },
            "marker": {
             "colorbar": {
              "outlinewidth": 0,
              "ticks": ""
             }
            },
            "type": "scatter3d"
           }
          ],
          "scattercarpet": [
           {
            "marker": {
             "colorbar": {
              "outlinewidth": 0,
              "ticks": ""
             }
            },
            "type": "scattercarpet"
           }
          ],
          "scattergeo": [
           {
            "marker": {
             "colorbar": {
              "outlinewidth": 0,
              "ticks": ""
             }
            },
            "type": "scattergeo"
           }
          ],
          "scattergl": [
           {
            "marker": {
             "colorbar": {
              "outlinewidth": 0,
              "ticks": ""
             }
            },
            "type": "scattergl"
           }
          ],
          "scattermapbox": [
           {
            "marker": {
             "colorbar": {
              "outlinewidth": 0,
              "ticks": ""
             }
            },
            "type": "scattermapbox"
           }
          ],
          "scatterpolar": [
           {
            "marker": {
             "colorbar": {
              "outlinewidth": 0,
              "ticks": ""
             }
            },
            "type": "scatterpolar"
           }
          ],
          "scatterpolargl": [
           {
            "marker": {
             "colorbar": {
              "outlinewidth": 0,
              "ticks": ""
             }
            },
            "type": "scatterpolargl"
           }
          ],
          "scatterternary": [
           {
            "marker": {
             "colorbar": {
              "outlinewidth": 0,
              "ticks": ""
             }
            },
            "type": "scatterternary"
           }
          ],
          "surface": [
           {
            "colorbar": {
             "outlinewidth": 0,
             "ticks": ""
            },
            "colorscale": [
             [
              0,
              "#0d0887"
             ],
             [
              0.1111111111111111,
              "#46039f"
             ],
             [
              0.2222222222222222,
              "#7201a8"
             ],
             [
              0.3333333333333333,
              "#9c179e"
             ],
             [
              0.4444444444444444,
              "#bd3786"
             ],
             [
              0.5555555555555556,
              "#d8576b"
             ],
             [
              0.6666666666666666,
              "#ed7953"
             ],
             [
              0.7777777777777778,
              "#fb9f3a"
             ],
             [
              0.8888888888888888,
              "#fdca26"
             ],
             [
              1,
              "#f0f921"
             ]
            ],
            "type": "surface"
           }
          ],
          "table": [
           {
            "cells": {
             "fill": {
              "color": "#EBF0F8"
             },
             "line": {
              "color": "white"
             }
            },
            "header": {
             "fill": {
              "color": "#C8D4E3"
             },
             "line": {
              "color": "white"
             }
            },
            "type": "table"
           }
          ]
         },
         "layout": {
          "annotationdefaults": {
           "arrowcolor": "#2a3f5f",
           "arrowhead": 0,
           "arrowwidth": 1
          },
          "autotypenumbers": "strict",
          "coloraxis": {
           "colorbar": {
            "outlinewidth": 0,
            "ticks": ""
           }
          },
          "colorscale": {
           "diverging": [
            [
             0,
             "#8e0152"
            ],
            [
             0.1,
             "#c51b7d"
            ],
            [
             0.2,
             "#de77ae"
            ],
            [
             0.3,
             "#f1b6da"
            ],
            [
             0.4,
             "#fde0ef"
            ],
            [
             0.5,
             "#f7f7f7"
            ],
            [
             0.6,
             "#e6f5d0"
            ],
            [
             0.7,
             "#b8e186"
            ],
            [
             0.8,
             "#7fbc41"
            ],
            [
             0.9,
             "#4d9221"
            ],
            [
             1,
             "#276419"
            ]
           ],
           "sequential": [
            [
             0,
             "#0d0887"
            ],
            [
             0.1111111111111111,
             "#46039f"
            ],
            [
             0.2222222222222222,
             "#7201a8"
            ],
            [
             0.3333333333333333,
             "#9c179e"
            ],
            [
             0.4444444444444444,
             "#bd3786"
            ],
            [
             0.5555555555555556,
             "#d8576b"
            ],
            [
             0.6666666666666666,
             "#ed7953"
            ],
            [
             0.7777777777777778,
             "#fb9f3a"
            ],
            [
             0.8888888888888888,
             "#fdca26"
            ],
            [
             1,
             "#f0f921"
            ]
           ],
           "sequentialminus": [
            [
             0,
             "#0d0887"
            ],
            [
             0.1111111111111111,
             "#46039f"
            ],
            [
             0.2222222222222222,
             "#7201a8"
            ],
            [
             0.3333333333333333,
             "#9c179e"
            ],
            [
             0.4444444444444444,
             "#bd3786"
            ],
            [
             0.5555555555555556,
             "#d8576b"
            ],
            [
             0.6666666666666666,
             "#ed7953"
            ],
            [
             0.7777777777777778,
             "#fb9f3a"
            ],
            [
             0.8888888888888888,
             "#fdca26"
            ],
            [
             1,
             "#f0f921"
            ]
           ]
          },
          "colorway": [
           "#636efa",
           "#EF553B",
           "#00cc96",
           "#ab63fa",
           "#FFA15A",
           "#19d3f3",
           "#FF6692",
           "#B6E880",
           "#FF97FF",
           "#FECB52"
          ],
          "font": {
           "color": "#2a3f5f"
          },
          "geo": {
           "bgcolor": "white",
           "lakecolor": "white",
           "landcolor": "#E5ECF6",
           "showlakes": true,
           "showland": true,
           "subunitcolor": "white"
          },
          "hoverlabel": {
           "align": "left"
          },
          "hovermode": "closest",
          "mapbox": {
           "style": "light"
          },
          "paper_bgcolor": "white",
          "plot_bgcolor": "#E5ECF6",
          "polar": {
           "angularaxis": {
            "gridcolor": "white",
            "linecolor": "white",
            "ticks": ""
           },
           "bgcolor": "#E5ECF6",
           "radialaxis": {
            "gridcolor": "white",
            "linecolor": "white",
            "ticks": ""
           }
          },
          "scene": {
           "xaxis": {
            "backgroundcolor": "#E5ECF6",
            "gridcolor": "white",
            "gridwidth": 2,
            "linecolor": "white",
            "showbackground": true,
            "ticks": "",
            "zerolinecolor": "white"
           },
           "yaxis": {
            "backgroundcolor": "#E5ECF6",
            "gridcolor": "white",
            "gridwidth": 2,
            "linecolor": "white",
            "showbackground": true,
            "ticks": "",
            "zerolinecolor": "white"
           },
           "zaxis": {
            "backgroundcolor": "#E5ECF6",
            "gridcolor": "white",
            "gridwidth": 2,
            "linecolor": "white",
            "showbackground": true,
            "ticks": "",
            "zerolinecolor": "white"
           }
          },
          "shapedefaults": {
           "line": {
            "color": "#2a3f5f"
           }
          },
          "ternary": {
           "aaxis": {
            "gridcolor": "white",
            "linecolor": "white",
            "ticks": ""
           },
           "baxis": {
            "gridcolor": "white",
            "linecolor": "white",
            "ticks": ""
           },
           "bgcolor": "#E5ECF6",
           "caxis": {
            "gridcolor": "white",
            "linecolor": "white",
            "ticks": ""
           }
          },
          "title": {
           "x": 0.05
          },
          "xaxis": {
           "automargin": true,
           "gridcolor": "white",
           "linecolor": "white",
           "ticks": "",
           "title": {
            "standoff": 15
           },
           "zerolinecolor": "white",
           "zerolinewidth": 2
          },
          "yaxis": {
           "automargin": true,
           "gridcolor": "white",
           "linecolor": "white",
           "ticks": "",
           "title": {
            "standoff": 15
           },
           "zerolinecolor": "white",
           "zerolinewidth": 2
          }
         }
        },
        "title": {
         "text": "10-Fold Cross Validation for Best Models Across Datasets"
        },
        "width": 1200,
        "xaxis": {
         "anchor": "y",
         "domain": [
          0,
          1
         ],
         "matches": "x5",
         "showticklabels": false,
         "title": {
          "text": "Fold #"
         }
        },
        "xaxis2": {
         "anchor": "y2",
         "domain": [
          0,
          1
         ],
         "matches": "x5",
         "showticklabels": false,
         "title": {
          "text": "Fold #"
         }
        },
        "xaxis3": {
         "anchor": "y3",
         "domain": [
          0,
          1
         ],
         "matches": "x5",
         "showticklabels": false,
         "title": {
          "text": "Fold #"
         }
        },
        "xaxis4": {
         "anchor": "y4",
         "domain": [
          0,
          1
         ],
         "matches": "x5",
         "showticklabels": false,
         "title": {
          "text": "Fold #"
         }
        },
        "xaxis5": {
         "anchor": "y5",
         "domain": [
          0,
          1
         ],
         "title": {
          "text": "Fold #"
         }
        },
        "yaxis": {
         "anchor": "x",
         "domain": [
          0.88,
          1
         ],
         "title": {
          "text": "Accuracy Score"
         }
        },
        "yaxis2": {
         "anchor": "x2",
         "domain": [
          0.66,
          0.78
         ],
         "title": {
          "text": "Accuracy Score"
         }
        },
        "yaxis3": {
         "anchor": "x3",
         "domain": [
          0.44,
          0.56
         ],
         "title": {
          "text": "Accuracy Score"
         }
        },
        "yaxis4": {
         "anchor": "x4",
         "domain": [
          0.22,
          0.33999999999999997
         ],
         "title": {
          "text": "Accuracy Score"
         }
        },
        "yaxis5": {
         "anchor": "x5",
         "domain": [
          0,
          0.12
         ],
         "title": {
          "text": "Accuracy Score"
         }
        }
       }
      }
     },
     "metadata": {},
     "output_type": "display_data"
    }
   ],
   "source": [
    "import plotly.graph_objects as go\n",
    "from plotly.subplots import make_subplots\n",
    "from sklearn.model_selection import cross_val_score\n",
    "from sklearn.linear_model import LogisticRegression\n",
    "from sklearn.ensemble import RandomForestClassifier, GradientBoostingClassifier\n",
    "\n",
    "# Define the best models for each dataset\n",
    "best_models_mapping = {\n",
    "    \"African\": LogisticRegression(),\n",
    "    \"Bangladesh\": RandomForestClassifier(),\n",
    "    \"Iraq\": GradientBoostingClassifier(),\n",
    "    \"Inter Genetic\": RandomForestClassifier(),\n",
    "    \"Normal Genetic\": LogisticRegression(),\n",
    "}\n",
    "\n",
    "# Define datasets (replace with actual variable names)\n",
    "datasets = {\n",
    "    \"African\": (X_train_african_scaled, y_train_african),  # Update with correct dataset variable names\n",
    "    \"Bangladesh\": (X_train_bangladesh_scaled, y_train_bangladesh),\n",
    "    \"Iraq\": (X_train_iraq_scaled, y_train_iraq),\n",
    "    \"Inter Genetic\": (X_train_inter_genetic_scaled, y_train_inter_genetic),\n",
    "    \"Normal Genetic\": (X_train_normal_genetic_scaled, y_train_normal_genetic),\n",
    "}\n",
    "\n",
    "cv_folds = 10  # Number of cross-validation folds\n",
    "cv_scores = {}\n",
    "\n",
    "# Perform cross-validation for each dataset's best model\n",
    "for dataset_name, (X, y) in datasets.items():\n",
    "    model = best_models_mapping[dataset_name]\n",
    "    scores = cross_val_score(model, X, y, cv=cv_folds)\n",
    "    cv_scores[dataset_name] = scores\n",
    "\n",
    "# Create subplots for each dataset's best model\n",
    "fig = make_subplots(\n",
    "    rows=len(datasets), cols=1, shared_xaxes=True,\n",
    "    subplot_titles=[f\"{dataset} ({best_models_mapping[dataset].__class__.__name__}) Cross Validation Scores\" \n",
    "                    for dataset in datasets.keys()]\n",
    ")\n",
    "\n",
    "# Add traces for each dataset's best model\n",
    "for i, (dataset_name, scores) in enumerate(cv_scores.items(), start=1):\n",
    "    fig.add_trace(\n",
    "        go.Scatter(x=list(range(1, len(scores) + 1)), y=scores, name=f\"{dataset_name} Scores\"),\n",
    "        row=i, col=1\n",
    "    )\n",
    "\n",
    "# Update layout\n",
    "fig.update_layout(\n",
    "    height=1500, width=1200,\n",
    "    title_text=\"10-Fold Cross Validation for Best Models Across Datasets\",\n",
    "    showlegend=True\n",
    ")\n",
    "fig.update_yaxes(title_text=\"Accuracy Score\")\n",
    "fig.update_xaxes(title_text=\"Fold #\")\n",
    "\n",
    "# Show the figure\n",
    "fig.show()"
   ]
  },
  {
   "cell_type": "markdown",
   "metadata": {},
   "source": [
    "Confusion Matrix, Accuracy, and Classification Report"
   ]
  },
  {
   "cell_type": "code",
   "execution_count": 68,
   "metadata": {},
   "outputs": [
    {
     "name": "stdout",
     "output_type": "stream",
     "text": [
      "\n",
      "==================== African ====================\n",
      "Confusion Matrix:\n",
      "[[265   3]\n",
      " [ 18  26]]\n",
      "\n",
      "Accuracy: 0.93\n",
      "\n",
      "Classification Report:\n",
      "              precision    recall  f1-score   support\n",
      "\n",
      "           0       0.94      0.99      0.96       268\n",
      "           1       0.90      0.59      0.71        44\n",
      "\n",
      "    accuracy                           0.93       312\n",
      "   macro avg       0.92      0.79      0.84       312\n",
      "weighted avg       0.93      0.93      0.93       312\n",
      "\n",
      "============================================================\n",
      "\n",
      "==================== Bangladesh ====================\n",
      "Confusion Matrix:\n",
      "[[4069    0]\n",
      " [   0  280]]\n",
      "\n",
      "Accuracy: 1.00\n",
      "\n",
      "Classification Report:\n",
      "              precision    recall  f1-score   support\n",
      "\n",
      "           0       1.00      1.00      1.00      4069\n",
      "           1       1.00      1.00      1.00       280\n",
      "\n",
      "    accuracy                           1.00      4349\n",
      "   macro avg       1.00      1.00      1.00      4349\n",
      "weighted avg       1.00      1.00      1.00      4349\n",
      "\n",
      "============================================================\n",
      "\n",
      "==================== Iraq ====================\n",
      "Confusion Matrix:\n",
      "[[555   0]\n",
      " [  0  73]]\n",
      "\n",
      "Accuracy: 1.00\n",
      "\n",
      "Classification Report:\n",
      "              precision    recall  f1-score   support\n",
      "\n",
      "           0       1.00      1.00      1.00       555\n",
      "           1       1.00      1.00      1.00        73\n",
      "\n",
      "    accuracy                           1.00       628\n",
      "   macro avg       1.00      1.00      1.00       628\n",
      "weighted avg       1.00      1.00      1.00       628\n",
      "\n",
      "============================================================\n",
      "\n",
      "==================== Inter Genetic ====================\n",
      "Confusion Matrix:\n",
      "[[886   0]\n",
      " [  0 890]]\n",
      "\n",
      "Accuracy: 1.00\n",
      "\n",
      "Classification Report:\n",
      "              precision    recall  f1-score   support\n",
      "\n",
      "           0       1.00      1.00      1.00       886\n",
      "           1       1.00      1.00      1.00       890\n",
      "\n",
      "    accuracy                           1.00      1776\n",
      "   macro avg       1.00      1.00      1.00      1776\n",
      "weighted avg       1.00      1.00      1.00      1776\n",
      "\n",
      "============================================================\n",
      "\n",
      "==================== Normal Genetic ====================\n",
      "Confusion Matrix:\n",
      "[[ 894    0]\n",
      " [   0 1706]]\n",
      "\n",
      "Accuracy: 1.00\n",
      "\n",
      "Classification Report:\n",
      "              precision    recall  f1-score   support\n",
      "\n",
      "           0       1.00      1.00      1.00       894\n",
      "           1       1.00      1.00      1.00      1706\n",
      "\n",
      "    accuracy                           1.00      2600\n",
      "   macro avg       1.00      1.00      1.00      2600\n",
      "weighted avg       1.00      1.00      1.00      2600\n",
      "\n",
      "============================================================\n"
     ]
    }
   ],
   "source": [
    "from sklearn.metrics import accuracy_score, classification_report, confusion_matrix\n",
    "\n",
    "# Dictionary to store evaluation metrics\n",
    "evaluation_results = {}\n",
    "\n",
    "# Compute confusion matrix, accuracy, and classification report for each dataset's best model\n",
    "for dataset_name, (X, y) in datasets.items():  # Updated to match (X, y) structure\n",
    "    model = best_models_mapping[dataset_name]\n",
    "    model.fit(X, y)  # Train the model\n",
    "    y_pred = model.predict(X)  # Predict on the same dataset (to evaluate performance)\n",
    "\n",
    "    # Compute confusion matrix\n",
    "    cm = confusion_matrix(y, y_pred)\n",
    "\n",
    "    # Compute accuracy\n",
    "    accuracy = accuracy_score(y, y_pred)\n",
    "\n",
    "    # Compute classification report\n",
    "    class_report = classification_report(y, y_pred, digits=2)\n",
    "\n",
    "    # Store results\n",
    "    evaluation_results[dataset_name] = {\n",
    "        \"Confusion Matrix\": cm,\n",
    "        \"Accuracy\": accuracy,\n",
    "        \"Classification Report\": class_report\n",
    "    }\n",
    "\n",
    "# Print evaluation results for each dataset\n",
    "for dataset_name, results in evaluation_results.items():\n",
    "    print(f\"\\n{'='*20} {dataset_name} {'='*20}\")\n",
    "    print(\"Confusion Matrix:\")\n",
    "    print(results[\"Confusion Matrix\"])\n",
    "    print(f\"\\nAccuracy: {results['Accuracy']:.2f}\")\n",
    "    print(\"\\nClassification Report:\")\n",
    "    print(results[\"Classification Report\"])\n",
    "    print(\"=\"*60)"
   ]
  },
  {
   "cell_type": "markdown",
   "metadata": {},
   "source": [
    "ROC Curves for Best Models"
   ]
  },
  {
   "cell_type": "code",
   "execution_count": 69,
   "metadata": {},
   "outputs": [
    {
     "data": {
      "image/png": "[encoded data removed]",
      "text/plain": [
       "<Figure size 1000x800 with 1 Axes>"
      ]
     },
     "metadata": {},
     "output_type": "display_data"
    }
   ],
   "source": [
    "import matplotlib.pyplot as plt\n",
    "from sklearn.model_selection import train_test_split\n",
    "from sklearn.metrics import roc_curve, auc\n",
    "\n",
    "# Dictionary to store ROC curve data\n",
    "roc_data = {}\n",
    "\n",
    "# Compute ROC curve for each dataset's best model\n",
    "for dataset_name, (X, y) in datasets.items():\n",
    "    # Split the data (80% train, 20% test)\n",
    "    X_train, X_test, y_train, y_test = train_test_split(X, y, test_size=0.2, random_state=42)\n",
    "\n",
    "    # Get the best model for this dataset\n",
    "    model = best_models_mapping[dataset_name]\n",
    "    model.fit(X_train, y_train)  # Train the model\n",
    "    y_pred_prob = model.predict_proba(X_test)[:, 1]  # Get probability estimates for class 1\n",
    "\n",
    "    # Compute ROC curve\n",
    "    fpr, tpr, _ = roc_curve(y_test, y_pred_prob)\n",
    "    roc_auc = auc(fpr, tpr)\n",
    "\n",
    "    # Store results\n",
    "    roc_data[dataset_name] = (fpr, tpr, roc_auc)\n",
    "\n",
    "# Plot ROC curves for all datasets\n",
    "plt.figure(figsize=(10, 8))\n",
    "for dataset_name, (fpr, tpr, roc_auc) in roc_data.items():\n",
    "    plt.plot(fpr, tpr, label=f\"{dataset_name} (AUC = {roc_auc:.2f})\")\n",
    "\n",
    "plt.plot([0, 1], [0, 1], linestyle='--', color='gray')  # Diagonal reference line\n",
    "plt.xlabel(\"False Positive Rate\")\n",
    "plt.ylabel(\"True Positive Rate\")\n",
    "plt.title(\"Receiver Operating Characteristic (ROC) Curve\")\n",
    "plt.legend(loc=\"lower right\")\n",
    "plt.grid()\n",
    "plt.show()"
   ]
  },
  {
   "cell_type": "markdown",
   "metadata": {},
   "source": [
    "Feature Importance"
   ]
  },
  {
   "cell_type": "code",
   "execution_count": 70,
   "metadata": {},
   "outputs": [],
   "source": [
    "from sklearn.ensemble import RandomForestClassifier\n",
    "\n",
    "feature_importance_results = {}  # Initialize dictionary\n",
    "\n",
    "# Train a model and extract feature importance for each dataset\n",
    "for dataset_name, (X, y) in datasets.items():\n",
    "    model = RandomForestClassifier(random_state=42)\n",
    "    model.fit(X, y)\n",
    "    feature_importance_results[dataset_name] = model.feature_importances_\n"
   ]
  },
  {
   "cell_type": "code",
   "execution_count": 71,
   "metadata": {},
   "outputs": [
    {
     "data": {
      "image/png": "[encoded data removed]",
      "text/plain": [
       "<Figure size 1200x800 with 1 Axes>"
      ]
     },
     "metadata": {},
     "output_type": "display_data"
    },
    {
     "data": {
      "image/png": "[encoded data removed]",
      "text/plain": [
       "<Figure size 1200x800 with 1 Axes>"
      ]
     },
     "metadata": {},
     "output_type": "display_data"
    },
    {
     "data": {
      "image/png": "[encoded data removed]",
      "text/plain": [
       "<Figure size 1200x800 with 1 Axes>"
      ]
     },
     "metadata": {},
     "output_type": "display_data"
    },
    {
     "data": {
      "image/png": "[encoded data removed]",
      "text/plain": [
       "<Figure size 1200x800 with 1 Axes>"
      ]
     },
     "metadata": {},
     "output_type": "display_data"
    },
    {
     "data": {
      "image/png": "[encoded data removed]",
      "text/plain": [
       "<Figure size 1200x800 with 1 Axes>"
      ]
     },
     "metadata": {},
     "output_type": "display_data"
    }
   ],
   "source": [
    "import matplotlib.pyplot as plt\n",
    "import numpy as np\n",
    "import seaborn as sns\n",
    "from sklearn.model_selection import train_test_split\n",
    "\n",
    "# Define a color palette for different datasets\n",
    "color_palette = sns.color_palette(\"husl\", len(datasets))  # Assign unique colors\n",
    "\n",
    "# Loop through all datasets and generate feature importance plots\n",
    "for i, (dataset_name, (X, y)) in enumerate(datasets.items()):\n",
    "    # Ensure feature importance is available\n",
    "    if dataset_name not in feature_importance_results:\n",
    "        print(f\"⚠ Warning: No feature importance data for {dataset_name}. Skipping...\")\n",
    "        continue\n",
    "\n",
    "    # Split data into training and testing (80% train, 20% test)\n",
    "    X_train, X_test, y_train, y_test = train_test_split(X, y, test_size=0.2, random_state=42)\n",
    "\n",
    "    feature_importances = feature_importance_results[dataset_name]\n",
    "\n",
    "    # Get correct feature names\n",
    "    feature_names = X_train.columns if hasattr(X_train, \"columns\") else [f\"Feature {i}\" for i in range(len(feature_importances))]\n",
    "\n",
    "    # Sort feature importances in descending order\n",
    "    sorted_indices = np.argsort(feature_importances)[::-1]\n",
    "    sorted_features = np.array(feature_names)[sorted_indices]\n",
    "    sorted_importances = feature_importances[sorted_indices]\n",
    "\n",
    "    # Create horizontal bar plot with unique color for each dataset\n",
    "    plt.figure(figsize=(12, 8))\n",
    "    bars = plt.barh(sorted_features, sorted_importances, color=color_palette[i])\n",
    "\n",
    "    # Add labels on bars\n",
    "    for bar, value in zip(bars, sorted_importances):\n",
    "        plt.text(bar.get_width(), bar.get_y() + bar.get_height()/2, f\"{value:.3f}\", va='center')\n",
    "\n",
    "    # Enhance appearance\n",
    "    plt.xlabel(\"Importance Score\", fontsize=12)\n",
    "    plt.ylabel(\"Features\", fontsize=12)\n",
    "    plt.title(f\"Feature Importance - {dataset_name}\", fontsize=14)\n",
    "    plt.gca().invert_yaxis()  # Highest importance on top\n",
    "    plt.grid(axis=\"x\", linestyle=\"--\", alpha=0.7)\n",
    "\n",
    "    # Show plot\n",
    "    plt.show()"
   ]
  },
  {
   "cell_type": "markdown",
   "metadata": {},
   "source": [
    "# Data Fusion"
   ]
  },
  {
   "cell_type": "code",
   "execution_count": 72,
   "metadata": {},
   "outputs": [
    {
     "name": "stdout",
     "output_type": "stream",
     "text": [
      "You must install graphviz (see instructions at https://graphviz.gitlab.io/download/) for `plot_model` to work.\n",
      "Epoch 1/100\n",
      "\u001b[1m1/9\u001b[0m \u001b[32m━━\u001b[0m\u001b[37m━━━━━━━━━━━━━━━━━━\u001b[0m \u001b[1m17s\u001b[0m 2s/step - accuracy: 0.5000 - loss: 2.9172Epoch 1: Accuracy = 0.5000, Val Accuracy = 0.4318, Loss = 3.0026, Val Loss = 2.8446, Time = 2.43s\n",
      "\u001b[1m9/9\u001b[0m \u001b[32m━━━━━━━━━━━━━━━━━━━━\u001b[0m\u001b[37m\u001b[0m \u001b[1m2s\u001b[0m 28ms/step - accuracy: 0.5080 - loss: 2.9819 - val_accuracy: 0.4318 - val_loss: 2.8446\n",
      "Epoch 2/100\n",
      "\u001b[1m1/9\u001b[0m \u001b[32m━━\u001b[0m\u001b[37m━━━━━━━━━━━━━━━━━━\u001b[0m \u001b[1m0s\u001b[0m 13ms/step - accuracy: 0.5781 - loss: 2.9623Epoch 2: Accuracy = 0.5227, Val Accuracy = 0.4167, Loss = 2.9763, Val Loss = 2.8358, Time = 0.06s\n",
      "\u001b[1m9/9\u001b[0m \u001b[32m━━━━━━━━━━━━━━━━━━━━\u001b[0m\u001b[37m\u001b[0m \u001b[1m0s\u001b[0m 6ms/step - accuracy: 0.5248 - loss: 2.9971 - val_accuracy: 0.4167 - val_loss: 2.8358\n",
      "Epoch 3/100\n",
      "\u001b[1m1/9\u001b[0m \u001b[32m━━\u001b[0m\u001b[37m━━━━━━━━━━━━━━━━━━\u001b[0m \u001b[1m0s\u001b[0m 13ms/step - accuracy: 0.4531 - loss: 2.9435Epoch 3: Accuracy = 0.5095, Val Accuracy = 0.4167, Loss = 2.9614, Val Loss = 2.8272, Time = 0.06s\n",
      "\u001b[1m9/9\u001b[0m \u001b[32m━━━━━━━━━━━━━━━━━━━━\u001b[0m\u001b[37m\u001b[0m \u001b[1m0s\u001b[0m 6ms/step - accuracy: 0.4972 - loss: 2.9713 - val_accuracy: 0.4167 - val_loss: 2.8272\n",
      "Epoch 4/100\n",
      "\u001b[1m1/9\u001b[0m \u001b[32m━━\u001b[0m\u001b[37m━━━━━━━━━━━━━━━━━━\u001b[0m \u001b[1m0s\u001b[0m 13ms/step - accuracy: 0.5625 - loss: 2.8991Epoch 4: Accuracy = 0.5114, Val Accuracy = 0.4242, Loss = 2.9647, Val Loss = 2.8189, Time = 0.06s\n",
      "\u001b[1m9/9\u001b[0m \u001b[32m━━━━━━━━━━━━━━━━━━━━\u001b[0m\u001b[37m\u001b[0m \u001b[1m0s\u001b[0m 6ms/step - accuracy: 0.5249 - loss: 2.9431 - val_accuracy: 0.4242 - val_loss: 2.8189\n",
      "Epoch 5/100\n",
      "\u001b[1m1/9\u001b[0m \u001b[32m━━\u001b[0m\u001b[37m━━━━━━━━━━━━━━━━━━\u001b[0m \u001b[1m0s\u001b[0m 14ms/step - accuracy: 0.5156 - loss: 2.9957Epoch 5: Accuracy = 0.5019, Val Accuracy = 0.4318, Loss = 2.9251, Val Loss = 2.8109, Time = 0.06s\n",
      "\u001b[1m9/9\u001b[0m \u001b[32m━━━━━━━━━━━━━━━━━━━━\u001b[0m\u001b[37m\u001b[0m \u001b[1m0s\u001b[0m 6ms/step - accuracy: 0.4942 - loss: 2.9600 - val_accuracy: 0.4318 - val_loss: 2.8109\n",
      "Epoch 6/100\n",
      "\u001b[1m1/9\u001b[0m \u001b[32m━━\u001b[0m\u001b[37m━━━━━━━━━━━━━━━━━━\u001b[0m \u001b[1m0s\u001b[0m 12ms/step - accuracy: 0.4219 - loss: 2.9793Epoch 6: Accuracy = 0.5038, Val Accuracy = 0.4167, Loss = 2.9101, Val Loss = 2.8028, Time = 0.06s\n",
      "\u001b[1m9/9\u001b[0m \u001b[32m━━━━━━━━━━━━━━━━━━━━\u001b[0m\u001b[37m\u001b[0m \u001b[1m0s\u001b[0m 6ms/step - accuracy: 0.5047 - loss: 2.8988 - val_accuracy: 0.4167 - val_loss: 2.8028\n",
      "Epoch 7/100\n",
      "\u001b[1m1/9\u001b[0m \u001b[32m━━\u001b[0m\u001b[37m━━━━━━━━━━━━━━━━━━\u001b[0m \u001b[1m0s\u001b[0m 12ms/step - accuracy: 0.4375 - loss: 2.9263Epoch 7: Accuracy = 0.5189, Val Accuracy = 0.4015, Loss = 2.9123, Val Loss = 2.7947, Time = 0.06s\n",
      "\u001b[1m9/9\u001b[0m \u001b[32m━━━━━━━━━━━━━━━━━━━━\u001b[0m\u001b[37m\u001b[0m \u001b[1m0s\u001b[0m 6ms/step - accuracy: 0.4993 - loss: 2.9229 - val_accuracy: 0.4015 - val_loss: 2.7947\n",
      "Epoch 8/100\n",
      "\u001b[1m1/9\u001b[0m \u001b[32m━━\u001b[0m\u001b[37m━━━━━━━━━━━━━━━━━━\u001b[0m \u001b[1m0s\u001b[0m 12ms/step - accuracy: 0.3750 - loss: 2.9915Epoch 8: Accuracy = 0.5284, Val Accuracy = 0.3864, Loss = 2.8903, Val Loss = 2.7867, Time = 0.06s\n",
      "\u001b[1m9/9\u001b[0m \u001b[32m━━━━━━━━━━━━━━━━━━━━\u001b[0m\u001b[37m\u001b[0m \u001b[1m0s\u001b[0m 6ms/step - accuracy: 0.4889 - loss: 2.9228 - val_accuracy: 0.3864 - val_loss: 2.7867\n",
      "Epoch 9/100\n",
      "\u001b[1m1/9\u001b[0m \u001b[32m━━\u001b[0m\u001b[37m━━━━━━━━━━━━━━━━━━\u001b[0m \u001b[1m0s\u001b[0m 13ms/step - accuracy: 0.4062 - loss: 2.9520Epoch 9: Accuracy = 0.5114, Val Accuracy = 0.3939, Loss = 2.8763, Val Loss = 2.7783, Time = 0.08s\n",
      "\u001b[1m9/9\u001b[0m \u001b[32m━━━━━━━━━━━━━━━━━━━━\u001b[0m\u001b[37m\u001b[0m \u001b[1m0s\u001b[0m 9ms/step - accuracy: 0.4987 - loss: 2.9038 - val_accuracy: 0.3939 - val_loss: 2.7783\n",
      "Epoch 10/100\n",
      "\u001b[1m1/9\u001b[0m \u001b[32m━━\u001b[0m\u001b[37m━━━━━━━━━━━━━━━━━━\u001b[0m \u001b[1m0s\u001b[0m 14ms/step - accuracy: 0.4219 - loss: 2.8826Epoch 10: Accuracy = 0.5019, Val Accuracy = 0.4091, Loss = 2.8550, Val Loss = 2.7702, Time = 0.06s\n",
      "\u001b[1m9/9\u001b[0m \u001b[32m━━━━━━━━━━━━━━━━━━━━\u001b[0m\u001b[37m\u001b[0m \u001b[1m0s\u001b[0m 6ms/step - accuracy: 0.4860 - loss: 2.8522 - val_accuracy: 0.4091 - val_loss: 2.7702\n",
      "Epoch 11/100\n",
      "\u001b[1m1/9\u001b[0m \u001b[32m━━\u001b[0m\u001b[37m━━━━━━━━━━━━━━━━━━\u001b[0m \u001b[1m0s\u001b[0m 12ms/step - accuracy: 0.4844 - loss: 2.9857Epoch 11: Accuracy = 0.5303, Val Accuracy = 0.4167, Loss = 2.8672, Val Loss = 2.7625, Time = 0.06s\n",
      "\u001b[1m9/9\u001b[0m \u001b[32m━━━━━━━━━━━━━━━━━━━━\u001b[0m\u001b[37m\u001b[0m \u001b[1m0s\u001b[0m 6ms/step - accuracy: 0.5220 - loss: 2.8883 - val_accuracy: 0.4167 - val_loss: 2.7625\n",
      "Epoch 12/100\n",
      "\u001b[1m1/9\u001b[0m \u001b[32m━━\u001b[0m\u001b[37m━━━━━━━━━━━━━━━━━━\u001b[0m \u001b[1m0s\u001b[0m 12ms/step - accuracy: 0.5000 - loss: 2.8468Epoch 12: Accuracy = 0.5436, Val Accuracy = 0.4167, Loss = 2.8273, Val Loss = 2.7548, Time = 0.06s\n",
      "\u001b[1m9/9\u001b[0m \u001b[32m━━━━━━━━━━━━━━━━━━━━\u001b[0m\u001b[37m\u001b[0m \u001b[1m0s\u001b[0m 6ms/step - accuracy: 0.5267 - loss: 2.8443 - val_accuracy: 0.4167 - val_loss: 2.7548\n",
      "Epoch 13/100\n",
      "\u001b[1m1/9\u001b[0m \u001b[32m━━\u001b[0m\u001b[37m━━━━━━━━━━━━━━━━━━\u001b[0m \u001b[1m0s\u001b[0m 13ms/step - accuracy: 0.5625 - loss: 2.8334Epoch 13: Accuracy = 0.5208, Val Accuracy = 0.4091, Loss = 2.8430, Val Loss = 2.7471, Time = 0.06s\n",
      "\u001b[1m9/9\u001b[0m \u001b[32m━━━━━━━━━━━━━━━━━━━━\u001b[0m\u001b[37m\u001b[0m \u001b[1m0s\u001b[0m 6ms/step - accuracy: 0.5379 - loss: 2.8442 - val_accuracy: 0.4091 - val_loss: 2.7471\n",
      "Epoch 14/100\n",
      "\u001b[1m1/9\u001b[0m \u001b[32m━━\u001b[0m\u001b[37m━━━━━━━━━━━━━━━━━━\u001b[0m \u001b[1m0s\u001b[0m 13ms/step - accuracy: 0.4531 - loss: 2.8236Epoch 14: Accuracy = 0.5000, Val Accuracy = 0.4545, Loss = 2.8314, Val Loss = 2.7391, Time = 0.06s\n",
      "\u001b[1m9/9\u001b[0m \u001b[32m━━━━━━━━━━━━━━━━━━━━\u001b[0m\u001b[37m\u001b[0m \u001b[1m0s\u001b[0m 6ms/step - accuracy: 0.4990 - loss: 2.8279 - val_accuracy: 0.4545 - val_loss: 2.7391\n",
      "Epoch 15/100\n",
      "\u001b[1m1/9\u001b[0m \u001b[32m━━\u001b[0m\u001b[37m━━━━━━━━━━━━━━━━━━\u001b[0m \u001b[1m0s\u001b[0m 13ms/step - accuracy: 0.4375 - loss: 2.8234Epoch 15: Accuracy = 0.4943, Val Accuracy = 0.4697, Loss = 2.8155, Val Loss = 2.7312, Time = 0.06s\n",
      "\u001b[1m9/9\u001b[0m \u001b[32m━━━━━━━━━━━━━━━━━━━━\u001b[0m\u001b[37m\u001b[0m \u001b[1m0s\u001b[0m 6ms/step - accuracy: 0.4778 - loss: 2.8213 - val_accuracy: 0.4697 - val_loss: 2.7312\n",
      "Epoch 16/100\n",
      "\u001b[1m1/9\u001b[0m \u001b[32m━━\u001b[0m\u001b[37m━━━━━━━━━━━━━━━━━━\u001b[0m \u001b[1m0s\u001b[0m 12ms/step - accuracy: 0.5312 - loss: 2.7700Epoch 16: Accuracy = 0.5227, Val Accuracy = 0.4621, Loss = 2.7890, Val Loss = 2.7234, Time = 0.06s\n",
      "\u001b[1m9/9\u001b[0m \u001b[32m━━━━━━━━━━━━━━━━━━━━\u001b[0m\u001b[37m\u001b[0m \u001b[1m0s\u001b[0m 6ms/step - accuracy: 0.5220 - loss: 2.7872 - val_accuracy: 0.4621 - val_loss: 2.7234\n",
      "Epoch 17/100\n",
      "\u001b[1m1/9\u001b[0m \u001b[32m━━\u001b[0m\u001b[37m━━━━━━━━━━━━━━━━━━\u001b[0m \u001b[1m0s\u001b[0m 12ms/step - accuracy: 0.5000 - loss: 2.8057Epoch 17: Accuracy = 0.4962, Val Accuracy = 0.4697, Loss = 2.8060, Val Loss = 2.7156, Time = 0.06s\n",
      "\u001b[1m9/9\u001b[0m \u001b[32m━━━━━━━━━━━━━━━━━━━━\u001b[0m\u001b[37m\u001b[0m \u001b[1m0s\u001b[0m 6ms/step - accuracy: 0.5002 - loss: 2.8057 - val_accuracy: 0.4697 - val_loss: 2.7156\n",
      "Epoch 18/100\n",
      "\u001b[1m1/9\u001b[0m \u001b[32m━━\u001b[0m\u001b[37m━━━━━━━━━━━━━━━━━━\u001b[0m \u001b[1m0s\u001b[0m 13ms/step - accuracy: 0.5000 - loss: 2.8044Epoch 18: Accuracy = 0.5417, Val Accuracy = 0.4848, Loss = 2.8006, Val Loss = 2.7076, Time = 0.06s\n",
      "\u001b[1m9/9\u001b[0m \u001b[32m━━━━━━━━━━━━━━━━━━━━\u001b[0m\u001b[37m\u001b[0m \u001b[1m0s\u001b[0m 6ms/step - accuracy: 0.5370 - loss: 2.8008 - val_accuracy: 0.4848 - val_loss: 2.7076\n",
      "Epoch 19/100\n",
      "\u001b[1m1/9\u001b[0m \u001b[32m━━\u001b[0m\u001b[37m━━━━━━━━━━━━━━━━━━\u001b[0m \u001b[1m0s\u001b[0m 14ms/step - accuracy: 0.5469 - loss: 2.9141Epoch 19: Accuracy = 0.5530, Val Accuracy = 0.5076, Loss = 2.7820, Val Loss = 2.7003, Time = 0.06s\n",
      "\u001b[1m9/9\u001b[0m \u001b[32m━━━━━━━━━━━━━━━━━━━━\u001b[0m\u001b[37m\u001b[0m \u001b[1m0s\u001b[0m 6ms/step - accuracy: 0.5422 - loss: 2.8111 - val_accuracy: 0.5076 - val_loss: 2.7003\n",
      "Epoch 20/100\n",
      "\u001b[1m1/9\u001b[0m \u001b[32m━━\u001b[0m\u001b[37m━━━━━━━━━━━━━━━━━━\u001b[0m \u001b[1m0s\u001b[0m 12ms/step - accuracy: 0.5312 - loss: 2.7388Epoch 20: Accuracy = 0.5152, Val Accuracy = 0.5152, Loss = 2.7643, Val Loss = 2.6929, Time = 0.06s\n",
      "\u001b[1m9/9\u001b[0m \u001b[32m━━━━━━━━━━━━━━━━━━━━\u001b[0m\u001b[37m\u001b[0m \u001b[1m0s\u001b[0m 6ms/step - accuracy: 0.5191 - loss: 2.7531 - val_accuracy: 0.5152 - val_loss: 2.6929\n",
      "Epoch 21/100\n",
      "\u001b[1m1/9\u001b[0m \u001b[32m━━\u001b[0m\u001b[37m━━━━━━━━━━━━━━━━━━\u001b[0m \u001b[1m0s\u001b[0m 12ms/step - accuracy: 0.4844 - loss: 2.7567Epoch 21: Accuracy = 0.5360, Val Accuracy = 0.5152, Loss = 2.7407, Val Loss = 2.6854, Time = 0.07s\n",
      "\u001b[1m9/9\u001b[0m \u001b[32m━━━━━━━━━━━━━━━━━━━━\u001b[0m\u001b[37m\u001b[0m \u001b[1m0s\u001b[0m 8ms/step - accuracy: 0.5184 - loss: 2.7596 - val_accuracy: 0.5152 - val_loss: 2.6854\n",
      "Epoch 22/100\n",
      "\u001b[1m1/9\u001b[0m \u001b[32m━━\u001b[0m\u001b[37m━━━━━━━━━━━━━━━━━━\u001b[0m \u001b[1m0s\u001b[0m 13ms/step - accuracy: 0.5312 - loss: 2.7498Epoch 22: Accuracy = 0.5152, Val Accuracy = 0.5152, Loss = 2.7439, Val Loss = 2.6777, Time = 0.06s\n",
      "\u001b[1m9/9\u001b[0m \u001b[32m━━━━━━━━━━━━━━━━━━━━\u001b[0m\u001b[37m\u001b[0m \u001b[1m0s\u001b[0m 6ms/step - accuracy: 0.5229 - loss: 2.7540 - val_accuracy: 0.5152 - val_loss: 2.6777\n",
      "Epoch 23/100\n",
      "\u001b[1m1/9\u001b[0m \u001b[32m━━\u001b[0m\u001b[37m━━━━━━━━━━━━━━━━━━\u001b[0m \u001b[1m0s\u001b[0m 12ms/step - accuracy: 0.5000 - loss: 2.7734Epoch 23: Accuracy = 0.5189, Val Accuracy = 0.5076, Loss = 2.7178, Val Loss = 2.6698, Time = 0.06s\n",
      "\u001b[1m9/9\u001b[0m \u001b[32m━━━━━━━━━━━━━━━━━━━━\u001b[0m\u001b[37m\u001b[0m \u001b[1m0s\u001b[0m 6ms/step - accuracy: 0.5179 - loss: 2.7261 - val_accuracy: 0.5076 - val_loss: 2.6698\n",
      "Epoch 24/100\n",
      "\u001b[1m1/9\u001b[0m \u001b[32m━━\u001b[0m\u001b[37m━━━━━━━━━━━━━━━━━━\u001b[0m \u001b[1m0s\u001b[0m 13ms/step - accuracy: 0.4844 - loss: 2.8420Epoch 24: Accuracy = 0.5341, Val Accuracy = 0.5227, Loss = 2.7363, Val Loss = 2.6619, Time = 0.06s\n",
      "\u001b[1m9/9\u001b[0m \u001b[32m━━━━━━━━━━━━━━━━━━━━\u001b[0m\u001b[37m\u001b[0m \u001b[1m0s\u001b[0m 6ms/step - accuracy: 0.5291 - loss: 2.7511 - val_accuracy: 0.5227 - val_loss: 2.6619\n",
      "Epoch 25/100\n",
      "\u001b[1m1/9\u001b[0m \u001b[32m━━\u001b[0m\u001b[37m━━━━━━━━━━━━━━━━━━\u001b[0m \u001b[1m0s\u001b[0m 12ms/step - accuracy: 0.5312 - loss: 2.6699Epoch 25: Accuracy = 0.5682, Val Accuracy = 0.5379, Loss = 2.6826, Val Loss = 2.6538, Time = 0.06s\n",
      "\u001b[1m9/9\u001b[0m \u001b[32m━━━━━━━━━━━━━━━━━━━━\u001b[0m\u001b[37m\u001b[0m \u001b[1m0s\u001b[0m 6ms/step - accuracy: 0.5432 - loss: 2.6929 - val_accuracy: 0.5379 - val_loss: 2.6538\n",
      "Epoch 26/100\n",
      "\u001b[1m1/9\u001b[0m \u001b[32m━━\u001b[0m\u001b[37m━━━━━━━━━━━━━━━━━━\u001b[0m \u001b[1m0s\u001b[0m 12ms/step - accuracy: 0.5000 - loss: 2.6619Epoch 26: Accuracy = 0.5019, Val Accuracy = 0.5379, Loss = 2.7285, Val Loss = 2.6457, Time = 0.06s\n",
      "\u001b[1m9/9\u001b[0m \u001b[32m━━━━━━━━━━━━━━━━━━━━\u001b[0m\u001b[37m\u001b[0m \u001b[1m0s\u001b[0m 6ms/step - accuracy: 0.5204 - loss: 2.7092 - val_accuracy: 0.5379 - val_loss: 2.6457\n",
      "Epoch 27/100\n",
      "\u001b[1m1/9\u001b[0m \u001b[32m━━\u001b[0m\u001b[37m━━━━━━━━━━━━━━━━━━\u001b[0m \u001b[1m0s\u001b[0m 12ms/step - accuracy: 0.4844 - loss: 2.7722Epoch 27: Accuracy = 0.5076, Val Accuracy = 0.5379, Loss = 2.7037, Val Loss = 2.6375, Time = 0.06s\n",
      "\u001b[1m9/9\u001b[0m \u001b[32m━━━━━━━━━━━━━━━━━━━━\u001b[0m\u001b[37m\u001b[0m \u001b[1m0s\u001b[0m 6ms/step - accuracy: 0.5054 - loss: 2.7156 - val_accuracy: 0.5379 - val_loss: 2.6375\n",
      "Epoch 28/100\n",
      "\u001b[1m1/9\u001b[0m \u001b[32m━━\u001b[0m\u001b[37m━━━━━━━━━━━━━━━━━━\u001b[0m \u001b[1m0s\u001b[0m 13ms/step - accuracy: 0.5312 - loss: 2.6618Epoch 28: Accuracy = 0.5606, Val Accuracy = 0.5530, Loss = 2.6676, Val Loss = 2.6297, Time = 0.06s\n",
      "\u001b[1m9/9\u001b[0m \u001b[32m━━━━━━━━━━━━━━━━━━━━\u001b[0m\u001b[37m\u001b[0m \u001b[1m0s\u001b[0m 6ms/step - accuracy: 0.5599 - loss: 2.6616 - val_accuracy: 0.5530 - val_loss: 2.6297\n",
      "Epoch 29/100\n",
      "\u001b[1m1/9\u001b[0m \u001b[32m━━\u001b[0m\u001b[37m━━━━━━━━━━━━━━━━━━\u001b[0m \u001b[1m0s\u001b[0m 13ms/step - accuracy: 0.4375 - loss: 2.7848Epoch 29: Accuracy = 0.5720, Val Accuracy = 0.5606, Loss = 2.6563, Val Loss = 2.6219, Time = 0.06s\n",
      "\u001b[1m9/9\u001b[0m \u001b[32m━━━━━━━━━━━━━━━━━━━━\u001b[0m\u001b[37m\u001b[0m \u001b[1m0s\u001b[0m 6ms/step - accuracy: 0.5434 - loss: 2.6842 - val_accuracy: 0.5606 - val_loss: 2.6219\n",
      "Epoch 30/100\n",
      "\u001b[1m1/9\u001b[0m \u001b[32m━━\u001b[0m\u001b[37m━━━━━━━━━━━━━━━━━━\u001b[0m \u001b[1m0s\u001b[0m 12ms/step - accuracy: 0.5000 - loss: 2.6441Epoch 30: Accuracy = 0.5417, Val Accuracy = 0.5530, Loss = 2.6523, Val Loss = 2.6141, Time = 0.06s\n",
      "\u001b[1m9/9\u001b[0m \u001b[32m━━━━━━━━━━━━━━━━━━━━\u001b[0m\u001b[37m\u001b[0m \u001b[1m0s\u001b[0m 6ms/step - accuracy: 0.5387 - loss: 2.6606 - val_accuracy: 0.5530 - val_loss: 2.6141\n",
      "Epoch 31/100\n",
      "\u001b[1m1/9\u001b[0m \u001b[32m━━\u001b[0m\u001b[37m━━━━━━━━━━━━━━━━━━\u001b[0m \u001b[1m0s\u001b[0m 13ms/step - accuracy: 0.6250 - loss: 2.6133Epoch 31: Accuracy = 0.5322, Val Accuracy = 0.5758, Loss = 2.6630, Val Loss = 2.6061, Time = 0.06s\n",
      "\u001b[1m9/9\u001b[0m \u001b[32m━━━━━━━━━━━━━━━━━━━━\u001b[0m\u001b[37m\u001b[0m \u001b[1m0s\u001b[0m 6ms/step - accuracy: 0.5463 - loss: 2.6574 - val_accuracy: 0.5758 - val_loss: 2.6061\n",
      "Epoch 32/100\n",
      "\u001b[1m1/9\u001b[0m \u001b[32m━━\u001b[0m\u001b[37m━━━━━━━━━━━━━━━━━━\u001b[0m \u001b[1m0s\u001b[0m 12ms/step - accuracy: 0.4531 - loss: 2.6973Epoch 32: Accuracy = 0.5303, Val Accuracy = 0.5909, Loss = 2.6573, Val Loss = 2.5981, Time = 0.06s\n",
      "\u001b[1m9/9\u001b[0m \u001b[32m━━━━━━━━━━━━━━━━━━━━\u001b[0m\u001b[37m\u001b[0m \u001b[1m0s\u001b[0m 6ms/step - accuracy: 0.5187 - loss: 2.6648 - val_accuracy: 0.5909 - val_loss: 2.5981\n",
      "Epoch 33/100\n",
      "\u001b[1m1/9\u001b[0m \u001b[32m━━\u001b[0m\u001b[37m━━━━━━━━━━━━━━━━━━\u001b[0m \u001b[1m0s\u001b[0m 13ms/step - accuracy: 0.4844 - loss: 2.7249Epoch 33: Accuracy = 0.5663, Val Accuracy = 0.5985, Loss = 2.6487, Val Loss = 2.5902, Time = 0.06s\n",
      "\u001b[1m9/9\u001b[0m \u001b[32m━━━━━━━━━━━━━━━━━━━━\u001b[0m\u001b[37m\u001b[0m \u001b[1m0s\u001b[0m 6ms/step - accuracy: 0.5583 - loss: 2.6610 - val_accuracy: 0.5985 - val_loss: 2.5902\n",
      "Epoch 34/100\n",
      "\u001b[1m1/9\u001b[0m \u001b[32m━━\u001b[0m\u001b[37m━━━━━━━━━━━━━━━━━━\u001b[0m \u001b[1m0s\u001b[0m 12ms/step - accuracy: 0.5000 - loss: 2.6192Epoch 34: Accuracy = 0.5511, Val Accuracy = 0.5985, Loss = 2.6254, Val Loss = 2.5825, Time = 0.06s\n",
      "\u001b[1m9/9\u001b[0m \u001b[32m━━━━━━━━━━━━━━━━━━━━\u001b[0m\u001b[37m\u001b[0m \u001b[1m0s\u001b[0m 6ms/step - accuracy: 0.5466 - loss: 2.6293 - val_accuracy: 0.5985 - val_loss: 2.5825\n",
      "Epoch 35/100\n",
      "\u001b[1m1/9\u001b[0m \u001b[32m━━\u001b[0m\u001b[37m━━━━━━━━━━━━━━━━━━\u001b[0m \u001b[1m0s\u001b[0m 12ms/step - accuracy: 0.6094 - loss: 2.5582Epoch 35: Accuracy = 0.5606, Val Accuracy = 0.6061, Loss = 2.6306, Val Loss = 2.5747, Time = 0.06s\n",
      "\u001b[1m9/9\u001b[0m \u001b[32m━━━━━━━━━━━━━━━━━━━━\u001b[0m\u001b[37m\u001b[0m \u001b[1m0s\u001b[0m 6ms/step - accuracy: 0.5665 - loss: 2.6216 - val_accuracy: 0.6061 - val_loss: 2.5747\n",
      "Epoch 36/100\n",
      "\u001b[1m1/9\u001b[0m \u001b[32m━━\u001b[0m\u001b[37m━━━━━━━━━━━━━━━━━━\u001b[0m \u001b[1m0s\u001b[0m 14ms/step - accuracy: 0.5156 - loss: 2.6036Epoch 36: Accuracy = 0.5341, Val Accuracy = 0.6136, Loss = 2.6149, Val Loss = 2.5668, Time = 0.06s\n",
      "\u001b[1m9/9\u001b[0m \u001b[32m━━━━━━━━━━━━━━━━━━━━\u001b[0m\u001b[37m\u001b[0m \u001b[1m0s\u001b[0m 6ms/step - accuracy: 0.5354 - loss: 2.6122 - val_accuracy: 0.6136 - val_loss: 2.5668\n",
      "Epoch 37/100\n",
      "\u001b[1m1/9\u001b[0m \u001b[32m━━\u001b[0m\u001b[37m━━━━━━━━━━━━━━━━━━\u001b[0m \u001b[1m0s\u001b[0m 12ms/step - accuracy: 0.5625 - loss: 2.6414Epoch 37: Accuracy = 0.5511, Val Accuracy = 0.6136, Loss = 2.5956, Val Loss = 2.5588, Time = 0.06s\n",
      "\u001b[1m9/9\u001b[0m \u001b[32m━━━━━━━━━━━━━━━━━━━━\u001b[0m\u001b[37m\u001b[0m \u001b[1m0s\u001b[0m 6ms/step - accuracy: 0.5588 - loss: 2.6048 - val_accuracy: 0.6136 - val_loss: 2.5588\n",
      "Epoch 38/100\n",
      "\u001b[1m1/9\u001b[0m \u001b[32m━━\u001b[0m\u001b[37m━━━━━━━━━━━━━━━━━━\u001b[0m \u001b[1m0s\u001b[0m 12ms/step - accuracy: 0.6562 - loss: 2.6152Epoch 38: Accuracy = 0.5777, Val Accuracy = 0.6212, Loss = 2.5963, Val Loss = 2.5508, Time = 0.06s\n",
      "\u001b[1m9/9\u001b[0m \u001b[32m━━━━━━━━━━━━━━━━━━━━\u001b[0m\u001b[37m\u001b[0m \u001b[1m0s\u001b[0m 6ms/step - accuracy: 0.5918 - loss: 2.6000 - val_accuracy: 0.6212 - val_loss: 2.5508\n",
      "Epoch 39/100\n",
      "\u001b[1m1/9\u001b[0m \u001b[32m━━\u001b[0m\u001b[37m━━━━━━━━━━━━━━━━━━\u001b[0m \u001b[1m0s\u001b[0m 12ms/step - accuracy: 0.5312 - loss: 2.5342Epoch 39: Accuracy = 0.5455, Val Accuracy = 0.6288, Loss = 2.5910, Val Loss = 2.5432, Time = 0.06s\n",
      "\u001b[1m9/9\u001b[0m \u001b[32m━━━━━━━━━━━━━━━━━━━━\u001b[0m\u001b[37m\u001b[0m \u001b[1m0s\u001b[0m 6ms/step - accuracy: 0.5542 - loss: 2.5744 - val_accuracy: 0.6288 - val_loss: 2.5432\n",
      "Epoch 40/100\n",
      "\u001b[1m1/9\u001b[0m \u001b[32m━━\u001b[0m\u001b[37m━━━━━━━━━━━━━━━━━━\u001b[0m \u001b[1m0s\u001b[0m 12ms/step - accuracy: 0.4531 - loss: 2.6615Epoch 40: Accuracy = 0.6098, Val Accuracy = 0.6364, Loss = 2.5574, Val Loss = 2.5355, Time = 0.06s\n",
      "\u001b[1m9/9\u001b[0m \u001b[32m━━━━━━━━━━━━━━━━━━━━\u001b[0m\u001b[37m\u001b[0m \u001b[1m0s\u001b[0m 6ms/step - accuracy: 0.5691 - loss: 2.5851 - val_accuracy: 0.6364 - val_loss: 2.5355\n",
      "Epoch 41/100\n",
      "\u001b[1m1/9\u001b[0m \u001b[32m━━\u001b[0m\u001b[37m━━━━━━━━━━━━━━━━━━\u001b[0m \u001b[1m0s\u001b[0m 12ms/step - accuracy: 0.6250 - loss: 2.5327Epoch 41: Accuracy = 0.5568, Val Accuracy = 0.6591, Loss = 2.5902, Val Loss = 2.5279, Time = 0.06s\n",
      "\u001b[1m9/9\u001b[0m \u001b[32m━━━━━━━━━━━━━━━━━━━━\u001b[0m\u001b[37m\u001b[0m \u001b[1m0s\u001b[0m 6ms/step - accuracy: 0.5683 - loss: 2.5843 - val_accuracy: 0.6591 - val_loss: 2.5279\n",
      "Epoch 42/100\n",
      "\u001b[1m1/9\u001b[0m \u001b[32m━━\u001b[0m\u001b[37m━━━━━━━━━━━━━━━━━━\u001b[0m \u001b[1m0s\u001b[0m 13ms/step - accuracy: 0.6406 - loss: 2.5789Epoch 42: Accuracy = 0.5549, Val Accuracy = 0.6667, Loss = 2.5483, Val Loss = 2.5202, Time = 0.07s\n",
      "\u001b[1m9/9\u001b[0m \u001b[32m━━━━━━━━━━━━━━━━━━━━\u001b[0m\u001b[37m\u001b[0m \u001b[1m0s\u001b[0m 8ms/step - accuracy: 0.5780 - loss: 2.5538 - val_accuracy: 0.6667 - val_loss: 2.5202\n",
      "Epoch 43/100\n",
      "\u001b[1m1/9\u001b[0m \u001b[32m━━\u001b[0m\u001b[37m━━━━━━━━━━━━━━━━━━\u001b[0m \u001b[1m0s\u001b[0m 12ms/step - accuracy: 0.5781 - loss: 2.5022Epoch 43: Accuracy = 0.6080, Val Accuracy = 0.6667, Loss = 2.5259, Val Loss = 2.5124, Time = 0.06s\n",
      "\u001b[1m9/9\u001b[0m \u001b[32m━━━━━━━━━━━━━━━━━━━━\u001b[0m\u001b[37m\u001b[0m \u001b[1m0s\u001b[0m 6ms/step - accuracy: 0.5993 - loss: 2.5313 - val_accuracy: 0.6667 - val_loss: 2.5124\n",
      "Epoch 44/100\n",
      "\u001b[1m1/9\u001b[0m \u001b[32m━━\u001b[0m\u001b[37m━━━━━━━━━━━━━━━━━━\u001b[0m \u001b[1m0s\u001b[0m 13ms/step - accuracy: 0.4688 - loss: 2.5717Epoch 44: Accuracy = 0.5417, Val Accuracy = 0.6742, Loss = 2.5640, Val Loss = 2.5045, Time = 0.06s\n",
      "\u001b[1m9/9\u001b[0m \u001b[32m━━━━━━━━━━━━━━━━━━━━\u001b[0m\u001b[37m\u001b[0m \u001b[1m0s\u001b[0m 6ms/step - accuracy: 0.5207 - loss: 2.5721 - val_accuracy: 0.6742 - val_loss: 2.5045\n",
      "Epoch 45/100\n",
      "\u001b[1m1/9\u001b[0m \u001b[32m━━\u001b[0m\u001b[37m━━━━━━━━━━━━━━━━━━\u001b[0m \u001b[1m0s\u001b[0m 14ms/step - accuracy: 0.6250 - loss: 2.5538Epoch 45: Accuracy = 0.6023, Val Accuracy = 0.6818, Loss = 2.5155, Val Loss = 2.4968, Time = 0.06s\n",
      "\u001b[1m9/9\u001b[0m \u001b[32m━━━━━━━━━━━━━━━━━━━━\u001b[0m\u001b[37m\u001b[0m \u001b[1m0s\u001b[0m 6ms/step - accuracy: 0.6196 - loss: 2.5178 - val_accuracy: 0.6818 - val_loss: 2.4968\n",
      "Epoch 46/100\n",
      "\u001b[1m1/9\u001b[0m \u001b[32m━━\u001b[0m\u001b[37m━━━━━━━━━━━━━━━━━━\u001b[0m \u001b[1m0s\u001b[0m 13ms/step - accuracy: 0.6875 - loss: 2.4712Epoch 46: Accuracy = 0.6250, Val Accuracy = 0.6818, Loss = 2.5003, Val Loss = 2.4890, Time = 0.06s\n",
      "\u001b[1m9/9\u001b[0m \u001b[32m━━━━━━━━━━━━━━━━━━━━\u001b[0m\u001b[37m\u001b[0m \u001b[1m0s\u001b[0m 6ms/step - accuracy: 0.6376 - loss: 2.4942 - val_accuracy: 0.6818 - val_loss: 2.4890\n",
      "Epoch 47/100\n",
      "\u001b[1m1/9\u001b[0m \u001b[32m━━\u001b[0m\u001b[37m━━━━━━━━━━━━━━━━━━\u001b[0m \u001b[1m0s\u001b[0m 13ms/step - accuracy: 0.4844 - loss: 2.5560Epoch 47: Accuracy = 0.5928, Val Accuracy = 0.6894, Loss = 2.5017, Val Loss = 2.4810, Time = 0.06s\n",
      "\u001b[1m9/9\u001b[0m \u001b[32m━━━━━━━━━━━━━━━━━━━━\u001b[0m\u001b[37m\u001b[0m \u001b[1m0s\u001b[0m 6ms/step - accuracy: 0.5699 - loss: 2.5146 - val_accuracy: 0.6894 - val_loss: 2.4810\n",
      "Epoch 48/100\n",
      "\u001b[1m1/9\u001b[0m \u001b[32m━━\u001b[0m\u001b[37m━━━━━━━━━━━━━━━━━━\u001b[0m \u001b[1m0s\u001b[0m 12ms/step - accuracy: 0.6562 - loss: 2.4707Epoch 48: Accuracy = 0.5871, Val Accuracy = 0.6894, Loss = 2.4872, Val Loss = 2.4728, Time = 0.06s\n",
      "\u001b[1m9/9\u001b[0m \u001b[32m━━━━━━━━━━━━━━━━━━━━\u001b[0m\u001b[37m\u001b[0m \u001b[1m0s\u001b[0m 6ms/step - accuracy: 0.5993 - loss: 2.4929 - val_accuracy: 0.6894 - val_loss: 2.4728\n",
      "Epoch 49/100\n",
      "\u001b[1m1/9\u001b[0m \u001b[32m━━\u001b[0m\u001b[37m━━━━━━━━━━━━━━━━━━\u001b[0m \u001b[1m0s\u001b[0m 13ms/step - accuracy: 0.6250 - loss: 2.5723Epoch 49: Accuracy = 0.5644, Val Accuracy = 0.6894, Loss = 2.5125, Val Loss = 2.4649, Time = 0.06s\n",
      "\u001b[1m9/9\u001b[0m \u001b[32m━━━━━━━━━━━━━━━━━━━━\u001b[0m\u001b[37m\u001b[0m \u001b[1m0s\u001b[0m 6ms/step - accuracy: 0.5730 - loss: 2.5317 - val_accuracy: 0.6894 - val_loss: 2.4649\n",
      "Epoch 50/100\n",
      "\u001b[1m1/9\u001b[0m \u001b[32m━━\u001b[0m\u001b[37m━━━━━━━━━━━━━━━━━━\u001b[0m \u001b[1m0s\u001b[0m 13ms/step - accuracy: 0.6406 - loss: 2.4821Epoch 50: Accuracy = 0.5814, Val Accuracy = 0.6970, Loss = 2.5014, Val Loss = 2.4571, Time = 0.06s\n",
      "\u001b[1m9/9\u001b[0m \u001b[32m━━━━━━━━━━━━━━━━━━━━\u001b[0m\u001b[37m\u001b[0m \u001b[1m0s\u001b[0m 6ms/step - accuracy: 0.5856 - loss: 2.5028 - val_accuracy: 0.6970 - val_loss: 2.4571\n",
      "Epoch 51/100\n",
      "\u001b[1m1/9\u001b[0m \u001b[32m━━\u001b[0m\u001b[37m━━━━━━━━━━━━━━━━━━\u001b[0m \u001b[1m0s\u001b[0m 12ms/step - accuracy: 0.5312 - loss: 2.5175Epoch 51: Accuracy = 0.5852, Val Accuracy = 0.6894, Loss = 2.4850, Val Loss = 2.4491, Time = 0.06s\n",
      "\u001b[1m9/9\u001b[0m \u001b[32m━━━━━━━━━━━━━━━━━━━━\u001b[0m\u001b[37m\u001b[0m \u001b[1m0s\u001b[0m 6ms/step - accuracy: 0.5751 - loss: 2.4862 - val_accuracy: 0.6894 - val_loss: 2.4491\n",
      "Epoch 52/100\n",
      "\u001b[1m1/9\u001b[0m \u001b[32m━━\u001b[0m\u001b[37m━━━━━━━━━━━━━━━━━━\u001b[0m \u001b[1m0s\u001b[0m 12ms/step - accuracy: 0.5938 - loss: 2.4449Epoch 52: Accuracy = 0.6004, Val Accuracy = 0.6894, Loss = 2.4676, Val Loss = 2.4409, Time = 0.06s\n",
      "\u001b[1m9/9\u001b[0m \u001b[32m━━━━━━━━━━━━━━━━━━━━\u001b[0m\u001b[37m\u001b[0m \u001b[1m0s\u001b[0m 6ms/step - accuracy: 0.5962 - loss: 2.4717 - val_accuracy: 0.6894 - val_loss: 2.4409\n",
      "Epoch 53/100\n",
      "\u001b[1m1/9\u001b[0m \u001b[32m━━\u001b[0m\u001b[37m━━━━━━━━━━━━━━━━━━\u001b[0m \u001b[1m0s\u001b[0m 13ms/step - accuracy: 0.6250 - loss: 2.4482Epoch 53: Accuracy = 0.6174, Val Accuracy = 0.6894, Loss = 2.4447, Val Loss = 2.4326, Time = 0.06s\n",
      "\u001b[1m9/9\u001b[0m \u001b[32m━━━━━━━━━━━━━━━━━━━━\u001b[0m\u001b[37m\u001b[0m \u001b[1m0s\u001b[0m 6ms/step - accuracy: 0.6244 - loss: 2.4430 - val_accuracy: 0.6894 - val_loss: 2.4326\n",
      "Epoch 54/100\n",
      "\u001b[1m1/9\u001b[0m \u001b[32m━━\u001b[0m\u001b[37m━━━━━━━━━━━━━━━━━━\u001b[0m \u001b[1m0s\u001b[0m 13ms/step - accuracy: 0.5938 - loss: 2.4099Epoch 54: Accuracy = 0.5985, Val Accuracy = 0.6970, Loss = 2.4533, Val Loss = 2.4243, Time = 0.06s\n",
      "\u001b[1m9/9\u001b[0m \u001b[32m━━━━━━━━━━━━━━━━━━━━\u001b[0m\u001b[37m\u001b[0m \u001b[1m0s\u001b[0m 6ms/step - accuracy: 0.6045 - loss: 2.4339 - val_accuracy: 0.6970 - val_loss: 2.4243\n",
      "Epoch 55/100\n",
      "\u001b[1m6/9\u001b[0m \u001b[32m━━━━━━━━━━━━━\u001b[0m\u001b[37m━━━━━━━\u001b[0m \u001b[1m0s\u001b[0m 12ms/step - accuracy: 0.6020 - loss: 2.4433Epoch 55: Accuracy = 0.6080, Val Accuracy = 0.7045, Loss = 2.4549, Val Loss = 2.4158, Time = 0.11s\n",
      "\u001b[1m9/9\u001b[0m \u001b[32m━━━━━━━━━━━━━━━━━━━━\u001b[0m\u001b[37m\u001b[0m \u001b[1m0s\u001b[0m 12ms/step - accuracy: 0.6059 - loss: 2.4473 - val_accuracy: 0.7045 - val_loss: 2.4158\n",
      "Epoch 56/100\n",
      "\u001b[1m1/9\u001b[0m \u001b[32m━━\u001b[0m\u001b[37m━━━━━━━━━━━━━━━━━━\u001b[0m \u001b[1m0s\u001b[0m 13ms/step - accuracy: 0.5156 - loss: 2.5105Epoch 56: Accuracy = 0.5814, Val Accuracy = 0.7045, Loss = 2.4422, Val Loss = 2.4074, Time = 0.06s\n",
      "\u001b[1m9/9\u001b[0m \u001b[32m━━━━━━━━━━━━━━━━━━━━\u001b[0m\u001b[37m\u001b[0m \u001b[1m0s\u001b[0m 6ms/step - accuracy: 0.5797 - loss: 2.4525 - val_accuracy: 0.7045 - val_loss: 2.4074\n",
      "Epoch 57/100\n",
      "\u001b[1m1/9\u001b[0m \u001b[32m━━\u001b[0m\u001b[37m━━━━━━━━━━━━━━━━━━\u001b[0m \u001b[1m0s\u001b[0m 12ms/step - accuracy: 0.5000 - loss: 2.4739Epoch 57: Accuracy = 0.6250, Val Accuracy = 0.7197, Loss = 2.4382, Val Loss = 2.3989, Time = 0.06s\n",
      "\u001b[1m9/9\u001b[0m \u001b[32m━━━━━━━━━━━━━━━━━━━━\u001b[0m\u001b[37m\u001b[0m \u001b[1m0s\u001b[0m 6ms/step - accuracy: 0.6074 - loss: 2.4425 - val_accuracy: 0.7197 - val_loss: 2.3989\n",
      "Epoch 58/100\n",
      "\u001b[1m1/9\u001b[0m \u001b[32m━━\u001b[0m\u001b[37m━━━━━━━━━━━━━━━━━━\u001b[0m \u001b[1m0s\u001b[0m 13ms/step - accuracy: 0.6250 - loss: 2.4476Epoch 58: Accuracy = 0.6117, Val Accuracy = 0.7273, Loss = 2.4161, Val Loss = 2.3905, Time = 0.06s\n",
      "\u001b[1m9/9\u001b[0m \u001b[32m━━━━━━━━━━━━━━━━━━━━\u001b[0m\u001b[37m\u001b[0m \u001b[1m0s\u001b[0m 6ms/step - accuracy: 0.5987 - loss: 2.4331 - val_accuracy: 0.7273 - val_loss: 2.3905\n",
      "Epoch 59/100\n",
      "\u001b[1m1/9\u001b[0m \u001b[32m━━\u001b[0m\u001b[37m━━━━━━━━━━━━━━━━━━\u001b[0m \u001b[1m0s\u001b[0m 13ms/step - accuracy: 0.6094 - loss: 2.4196Epoch 59: Accuracy = 0.6136, Val Accuracy = 0.7348, Loss = 2.4044, Val Loss = 2.3822, Time = 0.06s\n",
      "\u001b[1m9/9\u001b[0m \u001b[32m━━━━━━━━━━━━━━━━━━━━\u001b[0m\u001b[37m\u001b[0m \u001b[1m0s\u001b[0m 6ms/step - accuracy: 0.6101 - loss: 2.4080 - val_accuracy: 0.7348 - val_loss: 2.3822\n",
      "Epoch 60/100\n",
      "\u001b[1m1/9\u001b[0m \u001b[32m━━\u001b[0m\u001b[37m━━━━━━━━━━━━━━━━━━\u001b[0m \u001b[1m0s\u001b[0m 13ms/step - accuracy: 0.6406 - loss: 2.4268Epoch 60: Accuracy = 0.5890, Val Accuracy = 0.7348, Loss = 2.4229, Val Loss = 2.3740, Time = 0.08s\n",
      "\u001b[1m9/9\u001b[0m \u001b[32m━━━━━━━━━━━━━━━━━━━━\u001b[0m\u001b[37m\u001b[0m \u001b[1m0s\u001b[0m 8ms/step - accuracy: 0.6021 - loss: 2.4330 - val_accuracy: 0.7348 - val_loss: 2.3740\n",
      "Epoch 61/100\n",
      "\u001b[1m1/9\u001b[0m \u001b[32m━━\u001b[0m\u001b[37m━━━━━━━━━━━━━━━━━━\u001b[0m \u001b[1m0s\u001b[0m 12ms/step - accuracy: 0.5625 - loss: 2.3899Epoch 61: Accuracy = 0.5909, Val Accuracy = 0.7273, Loss = 2.4036, Val Loss = 2.3656, Time = 0.06s\n",
      "\u001b[1m9/9\u001b[0m \u001b[32m━━━━━━━━━━━━━━━━━━━━\u001b[0m\u001b[37m\u001b[0m \u001b[1m0s\u001b[0m 6ms/step - accuracy: 0.5937 - loss: 2.3972 - val_accuracy: 0.7273 - val_loss: 2.3656\n",
      "Epoch 62/100\n",
      "\u001b[1m1/9\u001b[0m \u001b[32m━━\u001b[0m\u001b[37m━━━━━━━━━━━━━━━━━━\u001b[0m \u001b[1m0s\u001b[0m 13ms/step - accuracy: 0.7031 - loss: 2.3641Epoch 62: Accuracy = 0.6307, Val Accuracy = 0.7348, Loss = 2.3674, Val Loss = 2.3572, Time = 0.06s\n",
      "\u001b[1m9/9\u001b[0m \u001b[32m━━━━━━━━━━━━━━━━━━━━\u001b[0m\u001b[37m\u001b[0m \u001b[1m0s\u001b[0m 6ms/step - accuracy: 0.6459 - loss: 2.3726 - val_accuracy: 0.7348 - val_loss: 2.3572\n",
      "Epoch 63/100\n",
      "\u001b[1m1/9\u001b[0m \u001b[32m━━\u001b[0m\u001b[37m━━━━━━━━━━━━━━━━━━\u001b[0m \u001b[1m0s\u001b[0m 12ms/step - accuracy: 0.6875 - loss: 2.3525Epoch 63: Accuracy = 0.6250, Val Accuracy = 0.7348, Loss = 2.3953, Val Loss = 2.3489, Time = 0.06s\n",
      "\u001b[1m9/9\u001b[0m \u001b[32m━━━━━━━━━━━━━━━━━━━━\u001b[0m\u001b[37m\u001b[0m \u001b[1m0s\u001b[0m 6ms/step - accuracy: 0.6282 - loss: 2.3932 - val_accuracy: 0.7348 - val_loss: 2.3489\n",
      "Epoch 64/100\n",
      "\u001b[1m1/9\u001b[0m \u001b[32m━━\u001b[0m\u001b[37m━━━━━━━━━━━━━━━━━━\u001b[0m \u001b[1m0s\u001b[0m 12ms/step - accuracy: 0.6094 - loss: 2.4154Epoch 64: Accuracy = 0.6136, Val Accuracy = 0.7500, Loss = 2.3717, Val Loss = 2.3402, Time = 0.06s\n",
      "\u001b[1m9/9\u001b[0m \u001b[32m━━━━━━━━━━━━━━━━━━━━\u001b[0m\u001b[37m\u001b[0m \u001b[1m0s\u001b[0m 6ms/step - accuracy: 0.6012 - loss: 2.3892 - val_accuracy: 0.7500 - val_loss: 2.3402\n",
      "Epoch 65/100\n",
      "\u001b[1m1/9\u001b[0m \u001b[32m━━\u001b[0m\u001b[37m━━━━━━━━━━━━━━━━━━\u001b[0m \u001b[1m0s\u001b[0m 12ms/step - accuracy: 0.6562 - loss: 2.3679Epoch 65: Accuracy = 0.6231, Val Accuracy = 0.7424, Loss = 2.3621, Val Loss = 2.3315, Time = 0.06s\n",
      "\u001b[1m9/9\u001b[0m \u001b[32m━━━━━━━━━━━━━━━━━━━━\u001b[0m\u001b[37m\u001b[0m \u001b[1m0s\u001b[0m 6ms/step - accuracy: 0.6365 - loss: 2.3548 - val_accuracy: 0.7424 - val_loss: 2.3315\n",
      "Epoch 66/100\n",
      "\u001b[1m1/9\u001b[0m \u001b[32m━━\u001b[0m\u001b[37m━━━━━━━━━━━━━━━━━━\u001b[0m \u001b[1m0s\u001b[0m 12ms/step - accuracy: 0.6719 - loss: 2.3237Epoch 66: Accuracy = 0.6080, Val Accuracy = 0.7652, Loss = 2.3546, Val Loss = 2.3228, Time = 0.06s\n",
      "\u001b[1m9/9\u001b[0m \u001b[32m━━━━━━━━━━━━━━━━━━━━\u001b[0m\u001b[37m\u001b[0m \u001b[1m0s\u001b[0m 6ms/step - accuracy: 0.6072 - loss: 2.3511 - val_accuracy: 0.7652 - val_loss: 2.3228\n",
      "Epoch 67/100\n",
      "\u001b[1m1/9\u001b[0m \u001b[32m━━\u001b[0m\u001b[37m━━━━━━━━━━━━━━━━━━\u001b[0m \u001b[1m0s\u001b[0m 12ms/step - accuracy: 0.6875 - loss: 2.3308Epoch 67: Accuracy = 0.6477, Val Accuracy = 0.7652, Loss = 2.3368, Val Loss = 2.3139, Time = 0.06s\n",
      "\u001b[1m9/9\u001b[0m \u001b[32m━━━━━━━━━━━━━━━━━━━━\u001b[0m\u001b[37m\u001b[0m \u001b[1m0s\u001b[0m 6ms/step - accuracy: 0.6518 - loss: 2.3326 - val_accuracy: 0.7652 - val_loss: 2.3139\n",
      "Epoch 68/100\n",
      "\u001b[1m1/9\u001b[0m \u001b[32m━━\u001b[0m\u001b[37m━━━━━━━━━━━━━━━━━━\u001b[0m \u001b[1m0s\u001b[0m 12ms/step - accuracy: 0.6250 - loss: 2.3464Epoch 68: Accuracy = 0.6174, Val Accuracy = 0.7727, Loss = 2.3492, Val Loss = 2.3050, Time = 0.06s\n",
      "\u001b[1m9/9\u001b[0m \u001b[32m━━━━━━━━━━━━━━━━━━━━\u001b[0m\u001b[37m\u001b[0m \u001b[1m0s\u001b[0m 6ms/step - accuracy: 0.6141 - loss: 2.3545 - val_accuracy: 0.7727 - val_loss: 2.3050\n",
      "Epoch 69/100\n",
      "\u001b[1m1/9\u001b[0m \u001b[32m━━\u001b[0m\u001b[37m━━━━━━━━━━━━━━━━━━\u001b[0m \u001b[1m0s\u001b[0m 13ms/step - accuracy: 0.7031 - loss: 2.2973Epoch 69: Accuracy = 0.6326, Val Accuracy = 0.7803, Loss = 2.3365, Val Loss = 2.2961, Time = 0.06s\n",
      "\u001b[1m9/9\u001b[0m \u001b[32m━━━━━━━━━━━━━━━━━━━━\u001b[0m\u001b[37m\u001b[0m \u001b[1m0s\u001b[0m 6ms/step - accuracy: 0.6262 - loss: 2.3379 - val_accuracy: 0.7803 - val_loss: 2.2961\n",
      "Epoch 70/100\n",
      "\u001b[1m1/9\u001b[0m \u001b[32m━━\u001b[0m\u001b[37m━━━━━━━━━━━━━━━━━━\u001b[0m \u001b[1m0s\u001b[0m 13ms/step - accuracy: 0.6406 - loss: 2.3182Epoch 70: Accuracy = 0.6496, Val Accuracy = 0.7803, Loss = 2.2979, Val Loss = 2.2870, Time = 0.06s\n",
      "\u001b[1m9/9\u001b[0m \u001b[32m━━━━━━━━━━━━━━━━━━━━\u001b[0m\u001b[37m\u001b[0m \u001b[1m0s\u001b[0m 6ms/step - accuracy: 0.6354 - loss: 2.3130 - val_accuracy: 0.7803 - val_loss: 2.2870\n",
      "Epoch 71/100\n",
      "\u001b[1m1/9\u001b[0m \u001b[32m━━\u001b[0m\u001b[37m━━━━━━━━━━━━━━━━━━\u001b[0m \u001b[1m0s\u001b[0m 13ms/step - accuracy: 0.5781 - loss: 2.3532Epoch 71: Accuracy = 0.6477, Val Accuracy = 0.7803, Loss = 2.2975, Val Loss = 2.2780, Time = 0.06s\n",
      "\u001b[1m9/9\u001b[0m \u001b[32m━━━━━━━━━━━━━━━━━━━━\u001b[0m\u001b[37m\u001b[0m \u001b[1m0s\u001b[0m 6ms/step - accuracy: 0.6429 - loss: 2.3047 - val_accuracy: 0.7803 - val_loss: 2.2780\n",
      "Epoch 72/100\n",
      "\u001b[1m1/9\u001b[0m \u001b[32m━━\u001b[0m\u001b[37m━━━━━━━━━━━━━━━━━━\u001b[0m \u001b[1m0s\u001b[0m 13ms/step - accuracy: 0.6250 - loss: 2.3571Epoch 72: Accuracy = 0.6364, Val Accuracy = 0.7803, Loss = 2.3159, Val Loss = 2.2693, Time = 0.06s\n",
      "\u001b[1m9/9\u001b[0m \u001b[32m━━━━━━━━━━━━━━━━━━━━\u001b[0m\u001b[37m\u001b[0m \u001b[1m0s\u001b[0m 6ms/step - accuracy: 0.6353 - loss: 2.3264 - val_accuracy: 0.7803 - val_loss: 2.2693\n",
      "Epoch 73/100\n",
      "\u001b[1m1/9\u001b[0m \u001b[32m━━\u001b[0m\u001b[37m━━━━━━━━━━━━━━━━━━\u001b[0m \u001b[1m0s\u001b[0m 12ms/step - accuracy: 0.5938 - loss: 2.2494Epoch 73: Accuracy = 0.6402, Val Accuracy = 0.7879, Loss = 2.2940, Val Loss = 2.2607, Time = 0.06s\n",
      "\u001b[1m9/9\u001b[0m \u001b[32m━━━━━━━━━━━━━━━━━━━━\u001b[0m\u001b[37m\u001b[0m \u001b[1m0s\u001b[0m 6ms/step - accuracy: 0.6158 - loss: 2.2978 - val_accuracy: 0.7879 - val_loss: 2.2607\n",
      "Epoch 74/100\n",
      "\u001b[1m1/9\u001b[0m \u001b[32m━━\u001b[0m\u001b[37m━━━━━━━━━━━━━━━━━━\u001b[0m \u001b[1m0s\u001b[0m 13ms/step - accuracy: 0.5625 - loss: 2.2984Epoch 74: Accuracy = 0.6477, Val Accuracy = 0.7879, Loss = 2.2815, Val Loss = 2.2514, Time = 0.06s\n",
      "\u001b[1m9/9\u001b[0m \u001b[32m━━━━━━━━━━━━━━━━━━━━\u001b[0m\u001b[37m\u001b[0m \u001b[1m0s\u001b[0m 6ms/step - accuracy: 0.6159 - loss: 2.2941 - val_accuracy: 0.7879 - val_loss: 2.2514\n",
      "Epoch 75/100\n",
      "\u001b[1m1/9\u001b[0m \u001b[32m━━\u001b[0m\u001b[37m━━━━━━━━━━━━━━━━━━\u001b[0m \u001b[1m0s\u001b[0m 13ms/step - accuracy: 0.5781 - loss: 2.3149Epoch 75: Accuracy = 0.6534, Val Accuracy = 0.7955, Loss = 2.2761, Val Loss = 2.2418, Time = 0.06s\n",
      "\u001b[1m9/9\u001b[0m \u001b[32m━━━━━━━━━━━━━━━━━━━━\u001b[0m\u001b[37m\u001b[0m \u001b[1m0s\u001b[0m 6ms/step - accuracy: 0.6416 - loss: 2.2762 - val_accuracy: 0.7955 - val_loss: 2.2418\n",
      "Epoch 76/100\n",
      "\u001b[1m1/9\u001b[0m \u001b[32m━━\u001b[0m\u001b[37m━━━━━━━━━━━━━━━━━━\u001b[0m \u001b[1m0s\u001b[0m 13ms/step - accuracy: 0.7812 - loss: 2.2491Epoch 76: Accuracy = 0.6875, Val Accuracy = 0.7955, Loss = 2.2508, Val Loss = 2.2323, Time = 0.06s\n",
      "\u001b[1m9/9\u001b[0m \u001b[32m━━━━━━━━━━━━━━━━━━━━\u001b[0m\u001b[37m\u001b[0m \u001b[1m0s\u001b[0m 6ms/step - accuracy: 0.7088 - loss: 2.2457 - val_accuracy: 0.7955 - val_loss: 2.2323\n",
      "Epoch 77/100\n",
      "\u001b[1m1/9\u001b[0m \u001b[32m━━\u001b[0m\u001b[37m━━━━━━━━━━━━━━━━━━\u001b[0m \u001b[1m0s\u001b[0m 13ms/step - accuracy: 0.6406 - loss: 2.2185Epoch 77: Accuracy = 0.6345, Val Accuracy = 0.7955, Loss = 2.2578, Val Loss = 2.2231, Time = 0.06s\n",
      "\u001b[1m9/9\u001b[0m \u001b[32m━━━━━━━━━━━━━━━━━━━━\u001b[0m\u001b[37m\u001b[0m \u001b[1m0s\u001b[0m 6ms/step - accuracy: 0.6378 - loss: 2.2566 - val_accuracy: 0.7955 - val_loss: 2.2231\n",
      "Epoch 78/100\n",
      "\u001b[1m1/9\u001b[0m \u001b[32m━━\u001b[0m\u001b[37m━━━━━━━━━━━━━━━━━━\u001b[0m \u001b[1m0s\u001b[0m 12ms/step - accuracy: 0.6250 - loss: 2.2827Epoch 78: Accuracy = 0.6458, Val Accuracy = 0.8030, Loss = 2.2570, Val Loss = 2.2139, Time = 0.06s\n",
      "\u001b[1m9/9\u001b[0m \u001b[32m━━━━━━━━━━━━━━━━━━━━\u001b[0m\u001b[37m\u001b[0m \u001b[1m0s\u001b[0m 6ms/step - accuracy: 0.6373 - loss: 2.2697 - val_accuracy: 0.8030 - val_loss: 2.2139\n",
      "Epoch 79/100\n",
      "\u001b[1m1/9\u001b[0m \u001b[32m━━\u001b[0m\u001b[37m━━━━━━━━━━━━━━━━━━\u001b[0m \u001b[1m0s\u001b[0m 14ms/step - accuracy: 0.6094 - loss: 2.2529Epoch 79: Accuracy = 0.6591, Val Accuracy = 0.8030, Loss = 2.2506, Val Loss = 2.2043, Time = 0.06s\n",
      "\u001b[1m9/9\u001b[0m \u001b[32m━━━━━━━━━━━━━━━━━━━━\u001b[0m\u001b[37m\u001b[0m \u001b[1m0s\u001b[0m 6ms/step - accuracy: 0.6485 - loss: 2.2496 - val_accuracy: 0.8030 - val_loss: 2.2043\n",
      "Epoch 80/100\n",
      "\u001b[1m1/9\u001b[0m \u001b[32m━━\u001b[0m\u001b[37m━━━━━━━━━━━━━━━━━━\u001b[0m \u001b[1m0s\u001b[0m 13ms/step - accuracy: 0.6719 - loss: 2.2008Epoch 80: Accuracy = 0.6913, Val Accuracy = 0.8030, Loss = 2.2145, Val Loss = 2.1946, Time = 0.07s\n",
      "\u001b[1m9/9\u001b[0m \u001b[32m━━━━━━━━━━━━━━━━━━━━\u001b[0m\u001b[37m\u001b[0m \u001b[1m0s\u001b[0m 8ms/step - accuracy: 0.6960 - loss: 2.2011 - val_accuracy: 0.8030 - val_loss: 2.1946\n",
      "Epoch 81/100\n",
      "\u001b[1m1/9\u001b[0m \u001b[32m━━\u001b[0m\u001b[37m━━━━━━━━━━━━━━━━━━\u001b[0m \u001b[1m0s\u001b[0m 12ms/step - accuracy: 0.6719 - loss: 2.1836Epoch 81: Accuracy = 0.6723, Val Accuracy = 0.7955, Loss = 2.2218, Val Loss = 2.1845, Time = 0.06s\n",
      "\u001b[1m9/9\u001b[0m \u001b[32m━━━━━━━━━━━━━━━━━━━━\u001b[0m\u001b[37m\u001b[0m \u001b[1m0s\u001b[0m 6ms/step - accuracy: 0.6690 - loss: 2.2197 - val_accuracy: 0.7955 - val_loss: 2.1845\n",
      "Epoch 82/100\n",
      "\u001b[1m1/9\u001b[0m \u001b[32m━━\u001b[0m\u001b[37m━━━━━━━━━━━━━━━━━━\u001b[0m \u001b[1m0s\u001b[0m 13ms/step - accuracy: 0.5781 - loss: 2.3025Epoch 82: Accuracy = 0.6553, Val Accuracy = 0.8030, Loss = 2.2379, Val Loss = 2.1746, Time = 0.06s\n",
      "\u001b[1m9/9\u001b[0m \u001b[32m━━━━━━━━━━━━━━━━━━━━\u001b[0m\u001b[37m\u001b[0m \u001b[1m0s\u001b[0m 6ms/step - accuracy: 0.6298 - loss: 2.2568 - val_accuracy: 0.8030 - val_loss: 2.1746\n",
      "Epoch 83/100\n",
      "\u001b[1m1/9\u001b[0m \u001b[32m━━\u001b[0m\u001b[37m━━━━━━━━━━━━━━━━━━\u001b[0m \u001b[1m0s\u001b[0m 13ms/step - accuracy: 0.7812 - loss: 2.1486Epoch 83: Accuracy = 0.7140, Val Accuracy = 0.8030, Loss = 2.1723, Val Loss = 2.1643, Time = 0.06s\n",
      "\u001b[1m9/9\u001b[0m \u001b[32m━━━━━━━━━━━━━━━━━━━━\u001b[0m\u001b[37m\u001b[0m \u001b[1m0s\u001b[0m 6ms/step - accuracy: 0.7147 - loss: 2.1723 - val_accuracy: 0.8030 - val_loss: 2.1643\n",
      "Epoch 84/100\n",
      "\u001b[1m1/9\u001b[0m \u001b[32m━━\u001b[0m\u001b[37m━━━━━━━━━━━━━━━━━━\u001b[0m \u001b[1m0s\u001b[0m 12ms/step - accuracy: 0.6875 - loss: 2.2840Epoch 84: Accuracy = 0.7027, Val Accuracy = 0.8030, Loss = 2.1974, Val Loss = 2.1542, Time = 0.06s\n",
      "\u001b[1m9/9\u001b[0m \u001b[32m━━━━━━━━━━━━━━━━━━━━\u001b[0m\u001b[37m\u001b[0m \u001b[1m0s\u001b[0m 6ms/step - accuracy: 0.7200 - loss: 2.2044 - val_accuracy: 0.8030 - val_loss: 2.1542\n",
      "Epoch 85/100\n",
      "\u001b[1m1/9\u001b[0m \u001b[32m━━\u001b[0m\u001b[37m━━━━━━━━━━━━━━━━━━\u001b[0m \u001b[1m0s\u001b[0m 12ms/step - accuracy: 0.7344 - loss: 2.1979Epoch 85: Accuracy = 0.6799, Val Accuracy = 0.8106, Loss = 2.1937, Val Loss = 2.1439, Time = 0.06s\n",
      "\u001b[1m9/9\u001b[0m \u001b[32m━━━━━━━━━━━━━━━━━━━━\u001b[0m\u001b[37m\u001b[0m \u001b[1m0s\u001b[0m 6ms/step - accuracy: 0.6925 - loss: 2.1962 - val_accuracy: 0.8106 - val_loss: 2.1439\n",
      "Epoch 86/100\n",
      "\u001b[1m1/9\u001b[0m \u001b[32m━━\u001b[0m\u001b[37m━━━━━━━━━━━━━━━━━━\u001b[0m \u001b[1m0s\u001b[0m 12ms/step - accuracy: 0.6250 - loss: 2.2295Epoch 86: Accuracy = 0.6818, Val Accuracy = 0.8106, Loss = 2.1706, Val Loss = 2.1339, Time = 0.06s\n",
      "\u001b[1m9/9\u001b[0m \u001b[32m━━━━━━━━━━━━━━━━━━━━\u001b[0m\u001b[37m\u001b[0m \u001b[1m0s\u001b[0m 6ms/step - accuracy: 0.6802 - loss: 2.1797 - val_accuracy: 0.8106 - val_loss: 2.1339\n",
      "Epoch 87/100\n",
      "\u001b[1m1/9\u001b[0m \u001b[32m━━\u001b[0m\u001b[37m━━━━━━━━━━━━━━━━━━\u001b[0m \u001b[1m0s\u001b[0m 13ms/step - accuracy: 0.6250 - loss: 2.2004Epoch 87: Accuracy = 0.6799, Val Accuracy = 0.8106, Loss = 2.1637, Val Loss = 2.1238, Time = 0.06s\n",
      "\u001b[1m9/9\u001b[0m \u001b[32m━━━━━━━━━━━━━━━━━━━━\u001b[0m\u001b[37m\u001b[0m \u001b[1m0s\u001b[0m 6ms/step - accuracy: 0.6658 - loss: 2.1750 - val_accuracy: 0.8106 - val_loss: 2.1238\n",
      "Epoch 88/100\n",
      "\u001b[1m1/9\u001b[0m \u001b[32m━━\u001b[0m\u001b[37m━━━━━━━━━━━━━━━━━━\u001b[0m \u001b[1m0s\u001b[0m 12ms/step - accuracy: 0.7500 - loss: 2.1346Epoch 88: Accuracy = 0.7216, Val Accuracy = 0.8106, Loss = 2.1478, Val Loss = 2.1134, Time = 0.06s\n",
      "\u001b[1m9/9\u001b[0m \u001b[32m━━━━━━━━━━━━━━━━━━━━\u001b[0m\u001b[37m\u001b[0m \u001b[1m0s\u001b[0m 6ms/step - accuracy: 0.7371 - loss: 2.1448 - val_accuracy: 0.8106 - val_loss: 2.1134\n",
      "Epoch 89/100\n",
      "\u001b[1m7/9\u001b[0m \u001b[32m━━━━━━━━━━━━━━━\u001b[0m\u001b[37m━━━━━\u001b[0m \u001b[1m0s\u001b[0m 9ms/step - accuracy: 0.7104 - loss: 2.1478 Epoch 89: Accuracy = 0.7045, Val Accuracy = 0.8106, Loss = 2.1505, Val Loss = 2.1034, Time = 0.10s\n",
      "\u001b[1m9/9\u001b[0m \u001b[32m━━━━━━━━━━━━━━━━━━━━\u001b[0m\u001b[37m\u001b[0m \u001b[1m0s\u001b[0m 12ms/step - accuracy: 0.7083 - loss: 2.1489 - val_accuracy: 0.8106 - val_loss: 2.1034\n",
      "Epoch 90/100\n",
      "\u001b[1m1/9\u001b[0m \u001b[32m━━\u001b[0m\u001b[37m━━━━━━━━━━━━━━━━━━\u001b[0m \u001b[1m0s\u001b[0m 14ms/step - accuracy: 0.7031 - loss: 2.0875Epoch 90: Accuracy = 0.7197, Val Accuracy = 0.8182, Loss = 2.1359, Val Loss = 2.0929, Time = 0.06s\n",
      "\u001b[1m9/9\u001b[0m \u001b[32m━━━━━━━━━━━━━━━━━━━━\u001b[0m\u001b[37m\u001b[0m \u001b[1m0s\u001b[0m 6ms/step - accuracy: 0.7264 - loss: 2.1209 - val_accuracy: 0.8182 - val_loss: 2.0929\n",
      "Epoch 91/100\n",
      "\u001b[1m1/9\u001b[0m \u001b[32m━━\u001b[0m\u001b[37m━━━━━━━━━━━━━━━━━━\u001b[0m \u001b[1m0s\u001b[0m 12ms/step - accuracy: 0.7188 - loss: 2.1014Epoch 91: Accuracy = 0.7008, Val Accuracy = 0.8182, Loss = 2.1303, Val Loss = 2.0818, Time = 0.06s\n",
      "\u001b[1m9/9\u001b[0m \u001b[32m━━━━━━━━━━━━━━━━━━━━\u001b[0m\u001b[37m\u001b[0m \u001b[1m0s\u001b[0m 6ms/step - accuracy: 0.7064 - loss: 2.1246 - val_accuracy: 0.8182 - val_loss: 2.0818\n",
      "Epoch 92/100\n",
      "\u001b[1m1/9\u001b[0m \u001b[32m━━\u001b[0m\u001b[37m━━━━━━━━━━━━━━━━━━\u001b[0m \u001b[1m0s\u001b[0m 13ms/step - accuracy: 0.7812 - loss: 2.0784Epoch 92: Accuracy = 0.7405, Val Accuracy = 0.8182, Loss = 2.1227, Val Loss = 2.0712, Time = 0.06s\n",
      "\u001b[1m9/9\u001b[0m \u001b[32m━━━━━━━━━━━━━━━━━━━━\u001b[0m\u001b[37m\u001b[0m \u001b[1m0s\u001b[0m 6ms/step - accuracy: 0.7440 - loss: 2.1165 - val_accuracy: 0.8182 - val_loss: 2.0712\n",
      "Epoch 93/100\n",
      "\u001b[1m1/9\u001b[0m \u001b[32m━━\u001b[0m\u001b[37m━━━━━━━━━━━━━━━━━━\u001b[0m \u001b[1m0s\u001b[0m 13ms/step - accuracy: 0.6094 - loss: 2.1842Epoch 93: Accuracy = 0.7235, Val Accuracy = 0.8182, Loss = 2.0971, Val Loss = 2.0604, Time = 0.06s\n",
      "\u001b[1m9/9\u001b[0m \u001b[32m━━━━━━━━━━━━━━━━━━━━\u001b[0m\u001b[37m\u001b[0m \u001b[1m0s\u001b[0m 6ms/step - accuracy: 0.7021 - loss: 2.1077 - val_accuracy: 0.8182 - val_loss: 2.0604\n",
      "Epoch 94/100\n",
      "\u001b[1m1/9\u001b[0m \u001b[32m━━\u001b[0m\u001b[37m━━━━━━━━━━━━━━━━━━\u001b[0m \u001b[1m0s\u001b[0m 12ms/step - accuracy: 0.7031 - loss: 2.1035Epoch 94: Accuracy = 0.7348, Val Accuracy = 0.8333, Loss = 2.0987, Val Loss = 2.0498, Time = 0.06s\n",
      "\u001b[1m9/9\u001b[0m \u001b[32m━━━━━━━━━━━━━━━━━━━━\u001b[0m\u001b[37m\u001b[0m \u001b[1m0s\u001b[0m 6ms/step - accuracy: 0.7282 - loss: 2.1023 - val_accuracy: 0.8333 - val_loss: 2.0498\n",
      "Epoch 95/100\n",
      "\u001b[1m1/9\u001b[0m \u001b[32m━━\u001b[0m\u001b[37m━━━━━━━━━━━━━━━━━━\u001b[0m \u001b[1m0s\u001b[0m 13ms/step - accuracy: 0.7500 - loss: 2.1451Epoch 95: Accuracy = 0.7178, Val Accuracy = 0.8333, Loss = 2.1078, Val Loss = 2.0388, Time = 0.06s\n",
      "\u001b[1m9/9\u001b[0m \u001b[32m━━━━━━━━━━━━━━━━━━━━\u001b[0m\u001b[37m\u001b[0m \u001b[1m0s\u001b[0m 6ms/step - accuracy: 0.7185 - loss: 2.1174 - val_accuracy: 0.8333 - val_loss: 2.0388\n",
      "Epoch 96/100\n",
      "\u001b[1m1/9\u001b[0m \u001b[32m━━\u001b[0m\u001b[37m━━━━━━━━━━━━━━━━━━\u001b[0m \u001b[1m0s\u001b[0m 12ms/step - accuracy: 0.7344 - loss: 2.0890Epoch 96: Accuracy = 0.7481, Val Accuracy = 0.8333, Loss = 2.0714, Val Loss = 2.0275, Time = 0.06s\n",
      "\u001b[1m9/9\u001b[0m \u001b[32m━━━━━━━━━━━━━━━━━━━━\u001b[0m\u001b[37m\u001b[0m \u001b[1m0s\u001b[0m 6ms/step - accuracy: 0.7436 - loss: 2.0731 - val_accuracy: 0.8333 - val_loss: 2.0275\n",
      "Epoch 97/100\n",
      "\u001b[1m1/9\u001b[0m \u001b[32m━━\u001b[0m\u001b[37m━━━━━━━━━━━━━━━━━━\u001b[0m \u001b[1m0s\u001b[0m 13ms/step - accuracy: 0.7344 - loss: 2.0490Epoch 97: Accuracy = 0.7557, Val Accuracy = 0.8333, Loss = 2.0453, Val Loss = 2.0156, Time = 0.06s\n",
      "\u001b[1m9/9\u001b[0m \u001b[32m━━━━━━━━━━━━━━━━━━━━\u001b[0m\u001b[37m\u001b[0m \u001b[1m0s\u001b[0m 6ms/step - accuracy: 0.7573 - loss: 2.0496 - val_accuracy: 0.8333 - val_loss: 2.0156\n",
      "Epoch 98/100\n",
      "\u001b[1m1/9\u001b[0m \u001b[32m━━\u001b[0m\u001b[37m━━━━━━━━━━━━━━━━━━\u001b[0m \u001b[1m0s\u001b[0m 12ms/step - accuracy: 0.7500 - loss: 2.0943Epoch 98: Accuracy = 0.7273, Val Accuracy = 0.8333, Loss = 2.0547, Val Loss = 2.0041, Time = 0.07s\n",
      "\u001b[1m9/9\u001b[0m \u001b[32m━━━━━━━━━━━━━━━━━━━━\u001b[0m\u001b[37m\u001b[0m \u001b[1m0s\u001b[0m 8ms/step - accuracy: 0.7192 - loss: 2.0714 - val_accuracy: 0.8333 - val_loss: 2.0041\n",
      "Epoch 99/100\n",
      "\u001b[1m1/9\u001b[0m \u001b[32m━━\u001b[0m\u001b[37m━━━━━━━━━━━━━━━━━━\u001b[0m \u001b[1m0s\u001b[0m 13ms/step - accuracy: 0.7500 - loss: 2.0757Epoch 99: Accuracy = 0.7576, Val Accuracy = 0.8333, Loss = 2.0446, Val Loss = 1.9933, Time = 0.06s\n",
      "\u001b[1m9/9\u001b[0m \u001b[32m━━━━━━━━━━━━━━━━━━━━\u001b[0m\u001b[37m\u001b[0m \u001b[1m0s\u001b[0m 6ms/step - accuracy: 0.7604 - loss: 2.0462 - val_accuracy: 0.8333 - val_loss: 1.9933\n",
      "Epoch 100/100\n",
      "\u001b[1m1/9\u001b[0m \u001b[32m━━\u001b[0m\u001b[37m━━━━━━━━━━━━━━━━━━\u001b[0m \u001b[1m0s\u001b[0m 13ms/step - accuracy: 0.7812 - loss: 2.0378Epoch 100: Accuracy = 0.7689, Val Accuracy = 0.8485, Loss = 2.0314, Val Loss = 1.9824, Time = 0.06s\n",
      "\u001b[1m9/9\u001b[0m \u001b[32m━━━━━━━━━━━━━━━━━━━━\u001b[0m\u001b[37m\u001b[0m \u001b[1m0s\u001b[0m 6ms/step - accuracy: 0.7613 - loss: 2.0450 - val_accuracy: 0.8485 - val_loss: 1.9824\n"
     ]
    },
    {
     "data": {
      "image/png": "[encoded data removed]",
      "text/plain": [
       "<Figure size 640x480 with 1 Axes>"
      ]
     },
     "metadata": {},
     "output_type": "display_data"
    }
   ],
   "source": [
    "import numpy as np\n",
    "import pandas as pd\n",
    "import tensorflow as tf\n",
    "from tensorflow.keras.layers import Input, Dense, Concatenate, Dropout, BatchNormalization\n",
    "from tensorflow.keras.models import Model\n",
    "from tensorflow.keras.optimizers import Adam\n",
    "from tensorflow.keras.callbacks import EarlyStopping\n",
    "from tensorflow.keras.regularizers import l2\n",
    "from tensorflow.keras.utils import plot_model\n",
    "import matplotlib.pyplot as plt\n",
    "import time\n",
    "from sklearn.preprocessing import StandardScaler\n",
    "from sklearn.utils import resample\n",
    "from sklearn.model_selection import train_test_split\n",
    "from imblearn.over_sampling import SMOTE\n",
    "\n",
    "\n",
    "# Drop non-numeric columns\n",
    "African = African.select_dtypes(include=[np.number])\n",
    "Bangladesh = Bangladesh.select_dtypes(include=[np.number])\n",
    "Iraq = Iraq.select_dtypes(include=[np.number])\n",
    "inter_genetic = inter_genetic.select_dtypes(include=[np.number])\n",
    "normal_genetic = normal_genetic.select_dtypes(include=[np.number])\n",
    "\n",
    "# Detect the target column dynamically\n",
    "target_col = [col for col in African.columns if 't2d' in col.lower()]\n",
    "if target_col:\n",
    "    target_col = target_col[0]\n",
    "else:\n",
    "    raise ValueError(\"Target column 'T2D' not found in dataset!\")\n",
    "\n",
    "# Extract features and labels\n",
    "X_African, y = African.drop(columns=[target_col]), African[target_col]\n",
    "X_Bangladesh = Bangladesh.drop(columns=[target_col])\n",
    "X_Iraq = Iraq.drop(columns=[target_col])\n",
    "X_inter_genetic = inter_genetic.drop(columns=[target_col])\n",
    "X_normal_genetic = normal_genetic.drop(columns=[target_col])\n",
    "\n",
    "# Standardize features\n",
    "scaler = StandardScaler()\n",
    "X_African_scaled = scaler.fit_transform(X_African)\n",
    "X_Bangladesh_scaled = scaler.fit_transform(X_Bangladesh)\n",
    "X_Iraq_scaled = scaler.fit_transform(X_Iraq)\n",
    "X_inter_genetic_scaled = scaler.fit_transform(X_inter_genetic)\n",
    "X_normal_genetic_scaled = scaler.fit_transform(X_normal_genetic)\n",
    "\n",
    "# Apply SMOTE to handle class imbalance\n",
    "smote = SMOTE(random_state=42)\n",
    "X_African_scaled, y = smote.fit_resample(X_African_scaled, y)\n",
    "\n",
    "# Ensure all datasets have the same number of samples\n",
    "def upsample_to_target(X, target_size):\n",
    "    return resample(X, replace=True, n_samples=target_size, random_state=42)\n",
    "\n",
    "target_size = len(y)  # Use the size of y_train as the reference\n",
    "X_Bangladesh_scaled = upsample_to_target(X_Bangladesh_scaled, target_size)\n",
    "X_Iraq_scaled = upsample_to_target(X_Iraq_scaled, target_size)\n",
    "X_inter_genetic_scaled = upsample_to_target(X_inter_genetic_scaled, target_size)\n",
    "X_normal_genetic_scaled = upsample_to_target(X_normal_genetic_scaled, target_size)\n",
    "\n",
    "# Split data into train/test sets\n",
    "X_train_African, X_test_African, y_train, y_test = train_test_split(X_African_scaled, y, test_size=0.2, random_state=42)\n",
    "X_train_Bangladesh, X_test_Bangladesh = train_test_split(X_Bangladesh_scaled, test_size=0.2, random_state=42)\n",
    "X_train_Iraq, X_test_Iraq = train_test_split(X_Iraq_scaled, test_size=0.2, random_state=42)\n",
    "X_train_inter_genetic, X_test_inter_genetic = train_test_split(X_inter_genetic_scaled, test_size=0.2, random_state=42)\n",
    "X_train_normal_genetic, X_test_normal_genetic = train_test_split(X_normal_genetic_scaled, test_size=0.2, random_state=42)\n",
    "\n",
    "# Get feature dimensions\n",
    "African_dim = X_train_African.shape[1]\n",
    "Bangladesh_dim = X_train_Bangladesh.shape[1]\n",
    "Iraq_dim = X_train_Iraq.shape[1]\n",
    "inter_genetic_dim = X_train_inter_genetic.shape[1]\n",
    "normal_genetic_dim = X_train_normal_genetic.shape[1]\n",
    "\n",
    "# Define Neural Networks with Stronger Regularization\n",
    "def build_branch(input_dim):\n",
    "    input_layer = Input(shape=(input_dim,))\n",
    "    x = Dense(32, activation='relu', kernel_regularizer=l2(0.01))(input_layer)\n",
    "    x = BatchNormalization()(x)\n",
    "    x = Dense(16, activation='relu', kernel_regularizer=l2(0.01))(x)\n",
    "    return input_layer, x\n",
    "\n",
    "# Build Branches\n",
    "African_input, x1 = build_branch(African_dim)\n",
    "Bangladesh_input, x2 = build_branch(Bangladesh_dim)\n",
    "Iraq_input, x3 = build_branch(Iraq_dim)\n",
    "inter_genetic_input, x4 = build_branch(inter_genetic_dim)\n",
    "normal_genetic_input, x5 = build_branch(normal_genetic_dim)\n",
    "\n",
    "# Fusion Layer\n",
    "merged = Concatenate()([x1, x2, x3, x4, x5])\n",
    "x = Dense(64, activation='relu')(merged)\n",
    "x = Dropout(0.6)(x)\n",
    "x = Dense(32, activation='relu')(x)\n",
    "x = Dropout(0.6)(x)\n",
    "output = Dense(1, activation='sigmoid')(x)\n",
    "\n",
    "# Build & Compile Model\n",
    "model = Model(inputs=[African_input, Bangladesh_input, Iraq_input, inter_genetic_input, normal_genetic_input], outputs=output)\n",
    "model.compile(optimizer=Adam(learning_rate=0.0001, clipnorm=1.0), loss='binary_crossentropy', metrics=['accuracy'])\n",
    "\n",
    "# Save model visualization\n",
    "plot_model(model, to_file=\"model_structure.png\", show_shapes=True, show_layer_names=True)\n",
    "\n",
    "# Custom Training Logger\n",
    "class CustomTrainingLogger(tf.keras.callbacks.Callback):\n",
    "    def on_epoch_begin(self, epoch, logs=None):\n",
    "        self.epoch_start_time = time.time()\n",
    "\n",
    "    def on_epoch_end(self, epoch, logs=None):\n",
    "        epoch_time = time.time() - self.epoch_start_time\n",
    "        print(f\"Epoch {epoch+1}: Accuracy = {logs['accuracy']:.4f}, \"\n",
    "              f\"Val Accuracy = {logs['val_accuracy']:.4f}, \"\n",
    "              f\"Loss = {logs['loss']:.4f}, Val Loss = {logs['val_loss']:.4f}, \"\n",
    "              f\"Time = {epoch_time:.2f}s\")\n",
    "\n",
    "callbacks = [EarlyStopping(monitor='val_loss', patience=10, restore_best_weights=True), CustomTrainingLogger()]\n",
    "\n",
    "# Train Model\n",
    "history = model.fit(\n",
    "    [X_train_African, X_train_Bangladesh, X_train_Iraq, X_train_inter_genetic, X_train_normal_genetic], y_train,\n",
    "    validation_data=([X_test_African, X_test_Bangladesh, X_test_Iraq, X_test_inter_genetic, X_test_normal_genetic], y_test),\n",
    "    epochs=100, batch_size=64, callbacks=callbacks)\n",
    "\n",
    "# Plot Training Curves\n",
    "plt.plot(history.history['accuracy'], label=\"Training Accuracy\")\n",
    "plt.plot(history.history['val_accuracy'], label=\"Validation Accuracy\")\n",
    "plt.legend()\n",
    "plt.show()\n"
   ]
  },
  {
   "cell_type": "code",
   "execution_count": 73,
   "metadata": {},
   "outputs": [
    {
     "name": "stdout",
     "output_type": "stream",
     "text": [
      "You must install graphviz (see instructions at https://graphviz.gitlab.io/download/) for `plot_model` to work.\n",
      "Epoch 1/50\n",
      "\u001b[1m109/136\u001b[0m \u001b[32m━━━━━━━━━━━━━━━━\u001b[0m\u001b[37m━━━━\u001b[0m \u001b[1m0s\u001b[0m 933us/step - accuracy: 0.6474 - loss: 3.6765Epoch 1: Accuracy = 0.8048, Val Accuracy = 0.8438, Loss = 3.0524, Val Loss = 2.1956, Time = 1.92s\n",
      "\u001b[1m136/136\u001b[0m \u001b[32m━━━━━━━━━━━━━━━━━━━━\u001b[0m\u001b[37m\u001b[0m \u001b[1m2s\u001b[0m 2ms/step - accuracy: 0.6784 - loss: 3.5648 - val_accuracy: 0.8438 - val_loss: 2.1956\n",
      "Epoch 2/50\n",
      "\u001b[1m104/136\u001b[0m \u001b[32m━━━━━━━━━━━━━━━\u001b[0m\u001b[37m━━━━━\u001b[0m \u001b[1m0s\u001b[0m 981us/step - accuracy: 0.8690 - loss: 1.9629Epoch 2: Accuracy = 0.9000, Val Accuracy = 0.9384, Loss = 1.6411, Val Loss = 1.1779, Time = 0.19s\n",
      "\u001b[1m136/136\u001b[0m \u001b[32m━━━━━━━━━━━━━━━━━━━━\u001b[0m\u001b[37m\u001b[0m \u001b[1m0s\u001b[0m 1ms/step - accuracy: 0.8752 - loss: 1.8980 - val_accuracy: 0.9384 - val_loss: 1.1779\n",
      "Epoch 3/50\n",
      "\u001b[1m105/136\u001b[0m \u001b[32m━━━━━━━━━━━━━━━\u001b[0m\u001b[37m━━━━━\u001b[0m \u001b[1m0s\u001b[0m 966us/step - accuracy: 0.9410 - loss: 1.0623Epoch 3: Accuracy = 0.9485, Val Accuracy = 0.9522, Loss = 0.9050, Val Loss = 0.6703, Time = 0.19s\n",
      "\u001b[1m136/136\u001b[0m \u001b[32m━━━━━━━━━━━━━━━━━━━━\u001b[0m\u001b[37m\u001b[0m \u001b[1m0s\u001b[0m 1ms/step - accuracy: 0.9422 - loss: 1.0314 - val_accuracy: 0.9522 - val_loss: 0.6703\n",
      "Epoch 4/50\n",
      "\u001b[1m105/136\u001b[0m \u001b[32m━━━━━━━━━━━━━━━\u001b[0m\u001b[37m━━━━━\u001b[0m \u001b[1m0s\u001b[0m 966us/step - accuracy: 0.9581 - loss: 0.6236Epoch 4: Accuracy = 0.9639, Val Accuracy = 0.9733, Loss = 0.5410, Val Loss = 0.4105, Time = 0.19s\n",
      "\u001b[1m136/136\u001b[0m \u001b[32m━━━━━━━━━━━━━━━━━━━━\u001b[0m\u001b[37m\u001b[0m \u001b[1m0s\u001b[0m 1ms/step - accuracy: 0.9594 - loss: 0.6071 - val_accuracy: 0.9733 - val_loss: 0.4105\n",
      "Epoch 5/50\n",
      "\u001b[1m103/136\u001b[0m \u001b[32m━━━━━━━━━━━━━━━\u001b[0m\u001b[37m━━━━━\u001b[0m \u001b[1m0s\u001b[0m 992us/step - accuracy: 0.9734 - loss: 0.3835Epoch 5: Accuracy = 0.9736, Val Accuracy = 0.9743, Loss = 0.3432, Val Loss = 0.2748, Time = 0.19s\n",
      "\u001b[1m136/136\u001b[0m \u001b[32m━━━━━━━━━━━━━━━━━━━━\u001b[0m\u001b[37m\u001b[0m \u001b[1m0s\u001b[0m 1ms/step - accuracy: 0.9736 - loss: 0.3752 - val_accuracy: 0.9743 - val_loss: 0.2748\n",
      "Epoch 6/50\n",
      "\u001b[1m107/136\u001b[0m \u001b[32m━━━━━━━━━━━━━━━\u001b[0m\u001b[37m━━━━━\u001b[0m \u001b[1m0s\u001b[0m 950us/step - accuracy: 0.9776 - loss: 0.2622Epoch 6: Accuracy = 0.9793, Val Accuracy = 0.9798, Loss = 0.2391, Val Loss = 0.1991, Time = 0.19s\n",
      "\u001b[1m136/136\u001b[0m \u001b[32m━━━━━━━━━━━━━━━━━━━━\u001b[0m\u001b[37m\u001b[0m \u001b[1m0s\u001b[0m 1ms/step - accuracy: 0.9781 - loss: 0.2575 - val_accuracy: 0.9798 - val_loss: 0.1991\n",
      "Epoch 7/50\n",
      "\u001b[1m106/136\u001b[0m \u001b[32m━━━━━━━━━━━━━━━\u001b[0m\u001b[37m━━━━━\u001b[0m \u001b[1m0s\u001b[0m 966us/step - accuracy: 0.9833 - loss: 0.1930Epoch 7: Accuracy = 0.9795, Val Accuracy = 0.9844, Loss = 0.1877, Val Loss = 0.1499, Time = 0.19s\n",
      "\u001b[1m136/136\u001b[0m \u001b[32m━━━━━━━━━━━━━━━━━━━━\u001b[0m\u001b[37m\u001b[0m \u001b[1m0s\u001b[0m 1ms/step - accuracy: 0.9827 - loss: 0.1916 - val_accuracy: 0.9844 - val_loss: 0.1499\n",
      "Epoch 8/50\n",
      "\u001b[1m104/136\u001b[0m \u001b[32m━━━━━━━━━━━━━━━\u001b[0m\u001b[37m━━━━━\u001b[0m \u001b[1m0s\u001b[0m 982us/step - accuracy: 0.9746 - loss: 0.1721Epoch 8: Accuracy = 0.9832, Val Accuracy = 0.9890, Loss = 0.1482, Val Loss = 0.1205, Time = 0.19s\n",
      "\u001b[1m136/136\u001b[0m \u001b[32m━━━━━━━━━━━━━━━━━━━━\u001b[0m\u001b[37m\u001b[0m \u001b[1m0s\u001b[0m 1ms/step - accuracy: 0.9765 - loss: 0.1672 - val_accuracy: 0.9890 - val_loss: 0.1205\n",
      "Epoch 9/50\n",
      "\u001b[1m105/136\u001b[0m \u001b[32m━━━━━━━━━━━━━━━\u001b[0m\u001b[37m━━━━━\u001b[0m \u001b[1m0s\u001b[0m 967us/step - accuracy: 0.9861 - loss: 0.1260Epoch 9: Accuracy = 0.9839, Val Accuracy = 0.9899, Loss = 0.1297, Val Loss = 0.1027, Time = 0.19s\n",
      "\u001b[1m136/136\u001b[0m \u001b[32m━━━━━━━━━━━━━━━━━━━━\u001b[0m\u001b[37m\u001b[0m \u001b[1m0s\u001b[0m 1ms/step - accuracy: 0.9856 - loss: 0.1267 - val_accuracy: 0.9899 - val_loss: 0.1027\n",
      "Epoch 10/50\n",
      "\u001b[1m107/136\u001b[0m \u001b[32m━━━━━━━━━━━━━━━\u001b[0m\u001b[37m━━━━━\u001b[0m \u001b[1m0s\u001b[0m 961us/step - accuracy: 0.9928 - loss: 0.1029Epoch 10: Accuracy = 0.9892, Val Accuracy = 0.9881, Loss = 0.1074, Val Loss = 0.0970, Time = 0.19s\n",
      "\u001b[1m136/136\u001b[0m \u001b[32m━━━━━━━━━━━━━━━━━━━━\u001b[0m\u001b[37m\u001b[0m \u001b[1m0s\u001b[0m 1ms/step - accuracy: 0.9923 - loss: 0.1032 - val_accuracy: 0.9881 - val_loss: 0.0970\n",
      "Epoch 11/50\n",
      "\u001b[1m103/136\u001b[0m \u001b[32m━━━━━━━━━━━━━━━\u001b[0m\u001b[37m━━━━━\u001b[0m \u001b[1m0s\u001b[0m 990us/step - accuracy: 0.9890 - loss: 0.1015Epoch 11: Accuracy = 0.9890, Val Accuracy = 0.9926, Loss = 0.0975, Val Loss = 0.0849, Time = 0.19s\n",
      "\u001b[1m136/136\u001b[0m \u001b[32m━━━━━━━━━━━━━━━━━━━━\u001b[0m\u001b[37m\u001b[0m \u001b[1m0s\u001b[0m 1ms/step - accuracy: 0.9891 - loss: 0.1005 - val_accuracy: 0.9926 - val_loss: 0.0849\n",
      "Epoch 12/50\n",
      "\u001b[1m104/136\u001b[0m \u001b[32m━━━━━━━━━━━━━━━\u001b[0m\u001b[37m━━━━━\u001b[0m \u001b[1m0s\u001b[0m 977us/step - accuracy: 0.9903 - loss: 0.0879Epoch 12: Accuracy = 0.9910, Val Accuracy = 0.9954, Loss = 0.0870, Val Loss = 0.0723, Time = 0.19s\n",
      "\u001b[1m136/136\u001b[0m \u001b[32m━━━━━━━━━━━━━━━━━━━━\u001b[0m\u001b[37m\u001b[0m \u001b[1m0s\u001b[0m 1ms/step - accuracy: 0.9906 - loss: 0.0875 - val_accuracy: 0.9954 - val_loss: 0.0723\n",
      "Epoch 13/50\n",
      "\u001b[1m107/136\u001b[0m \u001b[32m━━━━━━━━━━━━━━━\u001b[0m\u001b[37m━━━━━\u001b[0m \u001b[1m0s\u001b[0m 957us/step - accuracy: 0.9966 - loss: 0.0735Epoch 13: Accuracy = 0.9959, Val Accuracy = 0.9982, Loss = 0.0714, Val Loss = 0.0581, Time = 0.19s\n",
      "\u001b[1m136/136\u001b[0m \u001b[32m━━━━━━━━━━━━━━━━━━━━\u001b[0m\u001b[37m\u001b[0m \u001b[1m0s\u001b[0m 1ms/step - accuracy: 0.9965 - loss: 0.0732 - val_accuracy: 0.9982 - val_loss: 0.0581\n",
      "Epoch 14/50\n",
      "\u001b[1m106/136\u001b[0m \u001b[32m━━━━━━━━━━━━━━━\u001b[0m\u001b[37m━━━━━\u001b[0m \u001b[1m0s\u001b[0m 955us/step - accuracy: 0.9966 - loss: 0.0653Epoch 14: Accuracy = 0.9931, Val Accuracy = 0.9844, Loss = 0.0711, Val Loss = 0.0784, Time = 0.19s\n",
      "\u001b[1m136/136\u001b[0m \u001b[32m━━━━━━━━━━━━━━━━━━━━\u001b[0m\u001b[37m\u001b[0m \u001b[1m0s\u001b[0m 1ms/step - accuracy: 0.9962 - loss: 0.0659 - val_accuracy: 0.9844 - val_loss: 0.0784\n",
      "Epoch 15/50\n",
      "\u001b[1m107/136\u001b[0m \u001b[32m━━━━━━━━━━━━━━━\u001b[0m\u001b[37m━━━━━\u001b[0m \u001b[1m0s\u001b[0m 959us/step - accuracy: 0.9886 - loss: 0.0768Epoch 15: Accuracy = 0.9892, Val Accuracy = 0.9991, Loss = 0.0778, Val Loss = 0.0630, Time = 0.19s\n",
      "\u001b[1m136/136\u001b[0m \u001b[32m━━━━━━━━━━━━━━━━━━━━\u001b[0m\u001b[37m\u001b[0m \u001b[1m0s\u001b[0m 1ms/step - accuracy: 0.9887 - loss: 0.0770 - val_accuracy: 0.9991 - val_loss: 0.0630\n",
      "Epoch 16/50\n",
      "\u001b[1m105/136\u001b[0m \u001b[32m━━━━━━━━━━━━━━━\u001b[0m\u001b[37m━━━━━\u001b[0m \u001b[1m0s\u001b[0m 973us/step - accuracy: 0.9974 - loss: 0.0580Epoch 16: Accuracy = 0.9979, Val Accuracy = 1.0000, Loss = 0.0562, Val Loss = 0.0479, Time = 0.19s\n",
      "\u001b[1m136/136\u001b[0m \u001b[32m━━━━━━━━━━━━━━━━━━━━\u001b[0m\u001b[37m\u001b[0m \u001b[1m0s\u001b[0m 1ms/step - accuracy: 0.9976 - loss: 0.0576 - val_accuracy: 1.0000 - val_loss: 0.0479\n",
      "Epoch 17/50\n",
      "\u001b[1m107/136\u001b[0m \u001b[32m━━━━━━━━━━━━━━━\u001b[0m\u001b[37m━━━━━\u001b[0m \u001b[1m0s\u001b[0m 954us/step - accuracy: 0.9991 - loss: 0.0504Epoch 17: Accuracy = 0.9989, Val Accuracy = 0.9954, Loss = 0.0500, Val Loss = 0.0513, Time = 0.19s\n",
      "\u001b[1m136/136\u001b[0m \u001b[32m━━━━━━━━━━━━━━━━━━━━\u001b[0m\u001b[37m\u001b[0m \u001b[1m0s\u001b[0m 1ms/step - accuracy: 0.9991 - loss: 0.0503 - val_accuracy: 0.9954 - val_loss: 0.0513\n",
      "Epoch 18/50\n",
      "\u001b[1m105/136\u001b[0m \u001b[32m━━━━━━━━━━━━━━━\u001b[0m\u001b[37m━━━━━\u001b[0m \u001b[1m0s\u001b[0m 977us/step - accuracy: 0.9983 - loss: 0.0513Epoch 18: Accuracy = 0.9982, Val Accuracy = 1.0000, Loss = 0.0506, Val Loss = 0.0426, Time = 0.19s\n",
      "\u001b[1m136/136\u001b[0m \u001b[32m━━━━━━━━━━━━━━━━━━━━\u001b[0m\u001b[37m\u001b[0m \u001b[1m0s\u001b[0m 1ms/step - accuracy: 0.9983 - loss: 0.0512 - val_accuracy: 1.0000 - val_loss: 0.0426\n",
      "Epoch 19/50\n",
      "\u001b[1m105/136\u001b[0m \u001b[32m━━━━━━━━━━━━━━━\u001b[0m\u001b[37m━━━━━\u001b[0m \u001b[1m0s\u001b[0m 968us/step - accuracy: 0.9998 - loss: 0.0448Epoch 19: Accuracy = 0.9993, Val Accuracy = 1.0000, Loss = 0.0440, Val Loss = 0.0404, Time = 0.19s\n",
      "\u001b[1m136/136\u001b[0m \u001b[32m━━━━━━━━━━━━━━━━━━━━\u001b[0m\u001b[37m\u001b[0m \u001b[1m0s\u001b[0m 1ms/step - accuracy: 0.9997 - loss: 0.0447 - val_accuracy: 1.0000 - val_loss: 0.0404\n",
      "Epoch 20/50\n",
      "\u001b[1m106/136\u001b[0m \u001b[32m━━━━━━━━━━━━━━━\u001b[0m\u001b[37m━━━━━\u001b[0m \u001b[1m0s\u001b[0m 963us/step - accuracy: 1.0000 - loss: 0.0405Epoch 20: Accuracy = 1.0000, Val Accuracy = 1.0000, Loss = 0.0393, Val Loss = 0.0365, Time = 0.19s\n",
      "\u001b[1m136/136\u001b[0m \u001b[32m━━━━━━━━━━━━━━━━━━━━\u001b[0m\u001b[37m\u001b[0m \u001b[1m0s\u001b[0m 1ms/step - accuracy: 1.0000 - loss: 0.0402 - val_accuracy: 1.0000 - val_loss: 0.0365\n",
      "Epoch 21/50\n",
      "\u001b[1m107/136\u001b[0m \u001b[32m━━━━━━━━━━━━━━━\u001b[0m\u001b[37m━━━━━\u001b[0m \u001b[1m0s\u001b[0m 953us/step - accuracy: 0.9998 - loss: 0.0377Epoch 21: Accuracy = 0.9989, Val Accuracy = 0.9954, Loss = 0.0401, Val Loss = 0.0506, Time = 0.18s\n",
      "\u001b[1m136/136\u001b[0m \u001b[32m━━━━━━━━━━━━━━━━━━━━\u001b[0m\u001b[37m\u001b[0m \u001b[1m0s\u001b[0m 1ms/step - accuracy: 0.9996 - loss: 0.0381 - val_accuracy: 0.9954 - val_loss: 0.0506\n",
      "Epoch 22/50\n",
      "\u001b[1m104/136\u001b[0m \u001b[32m━━━━━━━━━━━━━━━\u001b[0m\u001b[37m━━━━━\u001b[0m \u001b[1m0s\u001b[0m 985us/step - accuracy: 0.9922 - loss: 0.0646Epoch 22: Accuracy = 0.9920, Val Accuracy = 0.9991, Loss = 0.0648, Val Loss = 0.0407, Time = 0.19s\n",
      "\u001b[1m136/136\u001b[0m \u001b[32m━━━━━━━━━━━━━━━━━━━━\u001b[0m\u001b[37m\u001b[0m \u001b[1m0s\u001b[0m 1ms/step - accuracy: 0.9919 - loss: 0.0653 - val_accuracy: 0.9991 - val_loss: 0.0407\n",
      "Epoch 23/50\n",
      "\u001b[1m103/136\u001b[0m \u001b[32m━━━━━━━━━━━━━━━\u001b[0m\u001b[37m━━━━━\u001b[0m \u001b[1m0s\u001b[0m 984us/step - accuracy: 0.9989 - loss: 0.0413Epoch 23: Accuracy = 0.9993, Val Accuracy = 1.0000, Loss = 0.0393, Val Loss = 0.0358, Time = 0.19s\n",
      "\u001b[1m136/136\u001b[0m \u001b[32m━━━━━━━━━━━━━━━━━━━━\u001b[0m\u001b[37m\u001b[0m \u001b[1m0s\u001b[0m 1ms/step - accuracy: 0.9990 - loss: 0.0408 - val_accuracy: 1.0000 - val_loss: 0.0358\n",
      "Epoch 24/50\n",
      "\u001b[1m106/136\u001b[0m \u001b[32m━━━━━━━━━━━━━━━\u001b[0m\u001b[37m━━━━━\u001b[0m \u001b[1m0s\u001b[0m 960us/step - accuracy: 1.0000 - loss: 0.0371Epoch 24: Accuracy = 1.0000, Val Accuracy = 1.0000, Loss = 0.0361, Val Loss = 0.0335, Time = 0.19s\n",
      "\u001b[1m136/136\u001b[0m \u001b[32m━━━━━━━━━━━━━━━━━━━━\u001b[0m\u001b[37m\u001b[0m \u001b[1m0s\u001b[0m 1ms/step - accuracy: 1.0000 - loss: 0.0369 - val_accuracy: 1.0000 - val_loss: 0.0335\n",
      "Epoch 25/50\n",
      "\u001b[1m104/136\u001b[0m \u001b[32m━━━━━━━━━━━━━━━\u001b[0m\u001b[37m━━━━━\u001b[0m \u001b[1m0s\u001b[0m 980us/step - accuracy: 0.9999 - loss: 0.0340Epoch 25: Accuracy = 0.9991, Val Accuracy = 0.9991, Loss = 0.0350, Val Loss = 0.0330, Time = 0.19s\n",
      "\u001b[1m136/136\u001b[0m \u001b[32m━━━━━━━━━━━━━━━━━━━━\u001b[0m\u001b[37m\u001b[0m \u001b[1m0s\u001b[0m 1ms/step - accuracy: 0.9998 - loss: 0.0341 - val_accuracy: 0.9991 - val_loss: 0.0330\n",
      "Epoch 26/50\n",
      "\u001b[1m106/136\u001b[0m \u001b[32m━━━━━━━━━━━━━━━\u001b[0m\u001b[37m━━━━━\u001b[0m \u001b[1m0s\u001b[0m 958us/step - accuracy: 0.9957 - loss: 0.0477Epoch 26: Accuracy = 0.9977, Val Accuracy = 1.0000, Loss = 0.0410, Val Loss = 0.0319, Time = 0.19s\n",
      "\u001b[1m136/136\u001b[0m \u001b[32m━━━━━━━━━━━━━━━━━━━━\u001b[0m\u001b[37m\u001b[0m \u001b[1m0s\u001b[0m 1ms/step - accuracy: 0.9961 - loss: 0.0464 - val_accuracy: 1.0000 - val_loss: 0.0319\n",
      "Epoch 27/50\n",
      "\u001b[1m107/136\u001b[0m \u001b[32m━━━━━━━━━━━━━━━\u001b[0m\u001b[37m━━━━━\u001b[0m \u001b[1m0s\u001b[0m 953us/step - accuracy: 1.0000 - loss: 0.0324Epoch 27: Accuracy = 1.0000, Val Accuracy = 1.0000, Loss = 0.0316, Val Loss = 0.0298, Time = 0.19s\n",
      "\u001b[1m136/136\u001b[0m \u001b[32m━━━━━━━━━━━━━━━━━━━━\u001b[0m\u001b[37m\u001b[0m \u001b[1m0s\u001b[0m 1ms/step - accuracy: 1.0000 - loss: 0.0322 - val_accuracy: 1.0000 - val_loss: 0.0298\n",
      "Epoch 28/50\n",
      "\u001b[1m105/136\u001b[0m \u001b[32m━━━━━━━━━━━━━━━\u001b[0m\u001b[37m━━━━━\u001b[0m \u001b[1m0s\u001b[0m 972us/step - accuracy: 1.0000 - loss: 0.0299Epoch 28: Accuracy = 1.0000, Val Accuracy = 1.0000, Loss = 0.0294, Val Loss = 0.0280, Time = 0.19s\n",
      "\u001b[1m136/136\u001b[0m \u001b[32m━━━━━━━━━━━━━━━━━━━━\u001b[0m\u001b[37m\u001b[0m \u001b[1m0s\u001b[0m 1ms/step - accuracy: 1.0000 - loss: 0.0298 - val_accuracy: 1.0000 - val_loss: 0.0280\n",
      "Epoch 29/50\n",
      "\u001b[1m104/136\u001b[0m \u001b[32m━━━━━━━━━━━━━━━\u001b[0m\u001b[37m━━━━━\u001b[0m \u001b[1m0s\u001b[0m 982us/step - accuracy: 1.0000 - loss: 0.0283Epoch 29: Accuracy = 0.9995, Val Accuracy = 0.9954, Loss = 0.0288, Val Loss = 0.0366, Time = 0.19s\n",
      "\u001b[1m136/136\u001b[0m \u001b[32m━━━━━━━━━━━━━━━━━━━━\u001b[0m\u001b[37m\u001b[0m \u001b[1m0s\u001b[0m 1ms/step - accuracy: 0.9999 - loss: 0.0283 - val_accuracy: 0.9954 - val_loss: 0.0366\n",
      "Epoch 30/50\n",
      "\u001b[1m107/136\u001b[0m \u001b[32m━━━━━━━━━━━━━━━\u001b[0m\u001b[37m━━━━━\u001b[0m \u001b[1m0s\u001b[0m 955us/step - accuracy: 1.0000 - loss: 0.0279Epoch 30: Accuracy = 1.0000, Val Accuracy = 1.0000, Loss = 0.0270, Val Loss = 0.0252, Time = 0.19s\n",
      "\u001b[1m136/136\u001b[0m \u001b[32m━━━━━━━━━━━━━━━━━━━━\u001b[0m\u001b[37m\u001b[0m \u001b[1m0s\u001b[0m 1ms/step - accuracy: 1.0000 - loss: 0.0277 - val_accuracy: 1.0000 - val_loss: 0.0252\n",
      "Epoch 31/50\n",
      "\u001b[1m106/136\u001b[0m \u001b[32m━━━━━━━━━━━━━━━\u001b[0m\u001b[37m━━━━━\u001b[0m \u001b[1m0s\u001b[0m 957us/step - accuracy: 0.9999 - loss: 0.0258Epoch 31: Accuracy = 0.9995, Val Accuracy = 0.9954, Loss = 0.0262, Val Loss = 0.0490, Time = 0.19s\n",
      "\u001b[1m136/136\u001b[0m \u001b[32m━━━━━━━━━━━━━━━━━━━━\u001b[0m\u001b[37m\u001b[0m \u001b[1m0s\u001b[0m 1ms/step - accuracy: 0.9998 - loss: 0.0259 - val_accuracy: 0.9954 - val_loss: 0.0490\n",
      "Epoch 32/50\n",
      "\u001b[1m108/136\u001b[0m \u001b[32m━━━━━━━━━━━━━━━\u001b[0m\u001b[37m━━━━━\u001b[0m \u001b[1m0s\u001b[0m 950us/step - accuracy: 0.9901 - loss: 0.0642Epoch 32: Accuracy = 0.9890, Val Accuracy = 0.9982, Loss = 0.0678, Val Loss = 0.0327, Time = 0.19s\n",
      "\u001b[1m136/136\u001b[0m \u001b[32m━━━━━━━━━━━━━━━━━━━━\u001b[0m\u001b[37m\u001b[0m \u001b[1m0s\u001b[0m 1ms/step - accuracy: 0.9899 - loss: 0.0651 - val_accuracy: 0.9982 - val_loss: 0.0327\n",
      "Epoch 33/50\n",
      "\u001b[1m105/136\u001b[0m \u001b[32m━━━━━━━━━━━━━━━\u001b[0m\u001b[37m━━━━━\u001b[0m \u001b[1m0s\u001b[0m 968us/step - accuracy: 0.9973 - loss: 0.0416Epoch 33: Accuracy = 0.9991, Val Accuracy = 1.0000, Loss = 0.0331, Val Loss = 0.0266, Time = 0.19s\n",
      "\u001b[1m136/136\u001b[0m \u001b[32m━━━━━━━━━━━━━━━━━━━━\u001b[0m\u001b[37m\u001b[0m \u001b[1m0s\u001b[0m 1ms/step - accuracy: 0.9977 - loss: 0.0398 - val_accuracy: 1.0000 - val_loss: 0.0266\n",
      "Epoch 34/50\n",
      "\u001b[1m106/136\u001b[0m \u001b[32m━━━━━━━━━━━━━━━\u001b[0m\u001b[37m━━━━━\u001b[0m \u001b[1m0s\u001b[0m 964us/step - accuracy: 1.0000 - loss: 0.0273Epoch 34: Accuracy = 1.0000, Val Accuracy = 1.0000, Loss = 0.0267, Val Loss = 0.0250, Time = 0.19s\n",
      "\u001b[1m136/136\u001b[0m \u001b[32m━━━━━━━━━━━━━━━━━━━━\u001b[0m\u001b[37m\u001b[0m \u001b[1m0s\u001b[0m 1ms/step - accuracy: 1.0000 - loss: 0.0272 - val_accuracy: 1.0000 - val_loss: 0.0250\n",
      "Epoch 35/50\n",
      "\u001b[1m104/136\u001b[0m \u001b[32m━━━━━━━━━━━━━━━\u001b[0m\u001b[37m━━━━━\u001b[0m \u001b[1m0s\u001b[0m 979us/step - accuracy: 1.0000 - loss: 0.0255Epoch 35: Accuracy = 1.0000, Val Accuracy = 1.0000, Loss = 0.0250, Val Loss = 0.0236, Time = 0.19s\n",
      "\u001b[1m136/136\u001b[0m \u001b[32m━━━━━━━━━━━━━━━━━━━━\u001b[0m\u001b[37m\u001b[0m \u001b[1m0s\u001b[0m 1ms/step - accuracy: 1.0000 - loss: 0.0254 - val_accuracy: 1.0000 - val_loss: 0.0236\n",
      "Epoch 36/50\n",
      "\u001b[1m105/136\u001b[0m \u001b[32m━━━━━━━━━━━━━━━\u001b[0m\u001b[37m━━━━━\u001b[0m \u001b[1m0s\u001b[0m 969us/step - accuracy: 1.0000 - loss: 0.0239Epoch 36: Accuracy = 1.0000, Val Accuracy = 1.0000, Loss = 0.0235, Val Loss = 0.0223, Time = 0.19s\n",
      "\u001b[1m136/136\u001b[0m \u001b[32m━━━━━━━━━━━━━━━━━━━━\u001b[0m\u001b[37m\u001b[0m \u001b[1m0s\u001b[0m 1ms/step - accuracy: 1.0000 - loss: 0.0238 - val_accuracy: 1.0000 - val_loss: 0.0223\n",
      "Epoch 37/50\n",
      "\u001b[1m107/136\u001b[0m \u001b[32m━━━━━━━━━━━━━━━\u001b[0m\u001b[37m━━━━━\u001b[0m \u001b[1m0s\u001b[0m 949us/step - accuracy: 1.0000 - loss: 0.0227Epoch 37: Accuracy = 1.0000, Val Accuracy = 1.0000, Loss = 0.0223, Val Loss = 0.0211, Time = 0.19s\n",
      "\u001b[1m136/136\u001b[0m \u001b[32m━━━━━━━━━━━━━━━━━━━━\u001b[0m\u001b[37m\u001b[0m \u001b[1m0s\u001b[0m 1ms/step - accuracy: 1.0000 - loss: 0.0226 - val_accuracy: 1.0000 - val_loss: 0.0211\n",
      "Epoch 38/50\n",
      "\u001b[1m123/136\u001b[0m \u001b[32m━━━━━━━━━━━━━━━━━━\u001b[0m\u001b[37m━━\u001b[0m \u001b[1m0s\u001b[0m 1ms/step - accuracy: 1.0000 - loss: 0.0213  Epoch 38: Accuracy = 1.0000, Val Accuracy = 1.0000, Loss = 0.0212, Val Loss = 0.0201, Time = 0.23s\n",
      "\u001b[1m136/136\u001b[0m \u001b[32m━━━━━━━━━━━━━━━━━━━━\u001b[0m\u001b[37m\u001b[0m \u001b[1m0s\u001b[0m 2ms/step - accuracy: 1.0000 - loss: 0.0213 - val_accuracy: 1.0000 - val_loss: 0.0201\n",
      "Epoch 39/50\n",
      "\u001b[1m102/136\u001b[0m \u001b[32m━━━━━━━━━━━━━━━\u001b[0m\u001b[37m━━━━━\u001b[0m \u001b[1m0s\u001b[0m 998us/step - accuracy: 1.0000 - loss: 0.0206Epoch 39: Accuracy = 1.0000, Val Accuracy = 1.0000, Loss = 0.0201, Val Loss = 0.0190, Time = 0.19s\n",
      "\u001b[1m136/136\u001b[0m \u001b[32m━━━━━━━━━━━━━━━━━━━━\u001b[0m\u001b[37m\u001b[0m \u001b[1m0s\u001b[0m 1ms/step - accuracy: 1.0000 - loss: 0.0205 - val_accuracy: 1.0000 - val_loss: 0.0190\n",
      "Epoch 40/50\n",
      "\u001b[1m105/136\u001b[0m \u001b[32m━━━━━━━━━━━━━━━\u001b[0m\u001b[37m━━━━━\u001b[0m \u001b[1m0s\u001b[0m 973us/step - accuracy: 1.0000 - loss: 0.0194Epoch 40: Accuracy = 1.0000, Val Accuracy = 1.0000, Loss = 0.0192, Val Loss = 0.0181, Time = 0.19s\n",
      "\u001b[1m136/136\u001b[0m \u001b[32m━━━━━━━━━━━━━━━━━━━━\u001b[0m\u001b[37m\u001b[0m \u001b[1m0s\u001b[0m 1ms/step - accuracy: 1.0000 - loss: 0.0193 - val_accuracy: 1.0000 - val_loss: 0.0181\n",
      "Epoch 41/50\n",
      "\u001b[1m107/136\u001b[0m \u001b[32m━━━━━━━━━━━━━━━\u001b[0m\u001b[37m━━━━━\u001b[0m \u001b[1m0s\u001b[0m 957us/step - accuracy: 1.0000 - loss: 0.0192Epoch 41: Accuracy = 0.9998, Val Accuracy = 1.0000, Loss = 0.0190, Val Loss = 0.0180, Time = 0.19s\n",
      "\u001b[1m136/136\u001b[0m \u001b[32m━━━━━━━━━━━━━━━━━━━━\u001b[0m\u001b[37m\u001b[0m \u001b[1m0s\u001b[0m 1ms/step - accuracy: 1.0000 - loss: 0.0191 - val_accuracy: 1.0000 - val_loss: 0.0180\n",
      "Epoch 42/50\n",
      "\u001b[1m107/136\u001b[0m \u001b[32m━━━━━━━━━━━━━━━\u001b[0m\u001b[37m━━━━━\u001b[0m \u001b[1m0s\u001b[0m 954us/step - accuracy: 0.9931 - loss: 0.0468Epoch 42: Accuracy = 0.9853, Val Accuracy = 0.9871, Loss = 0.0808, Val Loss = 0.0458, Time = 0.18s\n",
      "\u001b[1m136/136\u001b[0m \u001b[32m━━━━━━━━━━━━━━━━━━━━\u001b[0m\u001b[37m\u001b[0m \u001b[1m0s\u001b[0m 1ms/step - accuracy: 0.9912 - loss: 0.0553 - val_accuracy: 0.9871 - val_loss: 0.0458\n",
      "Epoch 43/50\n",
      "\u001b[1m106/136\u001b[0m \u001b[32m━━━━━━━━━━━━━━━\u001b[0m\u001b[37m━━━━━\u001b[0m \u001b[1m0s\u001b[0m 963us/step - accuracy: 0.9942 - loss: 0.0372Epoch 43: Accuracy = 0.9970, Val Accuracy = 1.0000, Loss = 0.0308, Val Loss = 0.0219, Time = 0.19s\n",
      "\u001b[1m136/136\u001b[0m \u001b[32m━━━━━━━━━━━━━━━━━━━━\u001b[0m\u001b[37m\u001b[0m \u001b[1m0s\u001b[0m 1ms/step - accuracy: 0.9947 - loss: 0.0359 - val_accuracy: 1.0000 - val_loss: 0.0219\n",
      "Epoch 44/50\n",
      "\u001b[1m104/136\u001b[0m \u001b[32m━━━━━━━━━━━━━━━\u001b[0m\u001b[37m━━━━━\u001b[0m \u001b[1m0s\u001b[0m 972us/step - accuracy: 1.0000 - loss: 0.0228Epoch 44: Accuracy = 1.0000, Val Accuracy = 1.0000, Loss = 0.0220, Val Loss = 0.0204, Time = 0.19s\n",
      "\u001b[1m136/136\u001b[0m \u001b[32m━━━━━━━━━━━━━━━━━━━━\u001b[0m\u001b[37m\u001b[0m \u001b[1m0s\u001b[0m 1ms/step - accuracy: 1.0000 - loss: 0.0227 - val_accuracy: 1.0000 - val_loss: 0.0204\n",
      "Epoch 45/50\n",
      "\u001b[1m106/136\u001b[0m \u001b[32m━━━━━━━━━━━━━━━\u001b[0m\u001b[37m━━━━━\u001b[0m \u001b[1m0s\u001b[0m 960us/step - accuracy: 1.0000 - loss: 0.0207Epoch 45: Accuracy = 1.0000, Val Accuracy = 1.0000, Loss = 0.0203, Val Loss = 0.0192, Time = 0.19s\n",
      "\u001b[1m136/136\u001b[0m \u001b[32m━━━━━━━━━━━━━━━━━━━━\u001b[0m\u001b[37m\u001b[0m \u001b[1m0s\u001b[0m 1ms/step - accuracy: 1.0000 - loss: 0.0206 - val_accuracy: 1.0000 - val_loss: 0.0192\n",
      "Epoch 46/50\n",
      "\u001b[1m104/136\u001b[0m \u001b[32m━━━━━━━━━━━━━━━\u001b[0m\u001b[37m━━━━━\u001b[0m \u001b[1m0s\u001b[0m 979us/step - accuracy: 0.9990 - loss: 0.0226Epoch 46: Accuracy = 0.9989, Val Accuracy = 1.0000, Loss = 0.0239, Val Loss = 0.0201, Time = 0.19s\n",
      "\u001b[1m136/136\u001b[0m \u001b[32m━━━━━━━━━━━━━━━━━━━━\u001b[0m\u001b[37m\u001b[0m \u001b[1m0s\u001b[0m 1ms/step - accuracy: 0.9989 - loss: 0.0230 - val_accuracy: 1.0000 - val_loss: 0.0201\n"
     ]
    },
    {
     "data": {
      "image/png": "[encoded data removed]",
      "text/plain": [
       "<Figure size 640x480 with 1 Axes>"
      ]
     },
     "metadata": {},
     "output_type": "display_data"
    }
   ],
   "source": [
    "import numpy as np\n",
    "import pandas as pd\n",
    "import tensorflow as tf\n",
    "from tensorflow.keras.layers import Input, Dense, Concatenate, Dropout\n",
    "from tensorflow.keras.models import Model\n",
    "from tensorflow.keras.optimizers import Adam\n",
    "from tensorflow.keras.callbacks import EarlyStopping\n",
    "from tensorflow.keras.regularizers import l2\n",
    "from tensorflow.keras.utils import plot_model\n",
    "import matplotlib.pyplot as plt\n",
    "import time\n",
    "from sklearn.preprocessing import StandardScaler\n",
    "from sklearn.utils import resample\n",
    "from sklearn.model_selection import train_test_split\n",
    "\n",
    "# Find the maximum sample size across all datasets\n",
    "max_samples = max(len(African), len(Bangladesh), len(Iraq), len(inter_genetic), len(normal_genetic))\n",
    "\n",
    "# Function to upsample datasets to match the largest dataset\n",
    "def upsample_data(df, target_size):\n",
    "    return resample(df, replace=True, n_samples=target_size, random_state=42)\n",
    "\n",
    "# Upsample all datasets to the same number of rows\n",
    "African = upsample_data(African, max_samples)\n",
    "Bangladesh = upsample_data(Bangladesh, max_samples)\n",
    "Iraq = upsample_data(Iraq, max_samples)\n",
    "inter_genetic = upsample_data(inter_genetic, max_samples)\n",
    "normal_genetic = upsample_data(normal_genetic, max_samples)\n",
    "\n",
    "# Drop non-numeric columns\n",
    "African = African.select_dtypes(include=[np.number])\n",
    "Bangladesh = Bangladesh.select_dtypes(include=[np.number])\n",
    "Iraq = Iraq.select_dtypes(include=[np.number])\n",
    "inter_genetic = inter_genetic.select_dtypes(include=[np.number])\n",
    "normal_genetic = normal_genetic.select_dtypes(include=[np.number])\n",
    "\n",
    "# Detect the target column dynamically\n",
    "target_col = [col for col in African.columns if 't2d' in col.lower()]\n",
    "if target_col:\n",
    "    target_col = target_col[0]  # Get correct column name\n",
    "else:\n",
    "    raise ValueError(\"Target column 'T2D' not found in dataset!\")\n",
    "\n",
    "# Extract features and labels\n",
    "X_African, y = African.drop(columns=[target_col]), African[target_col]\n",
    "X_Bangladesh = Bangladesh.drop(columns=[target_col])\n",
    "X_Iraq = Iraq.drop(columns=[target_col])\n",
    "X_inter_genetic = inter_genetic.drop(columns=[target_col])\n",
    "X_normal_genetic = normal_genetic.drop(columns=[target_col])\n",
    "\n",
    "# Standardize features\n",
    "scaler = StandardScaler()\n",
    "X_African_scaled = scaler.fit_transform(X_African)\n",
    "X_Bangladesh_scaled = scaler.fit_transform(X_Bangladesh)\n",
    "X_Iraq_scaled = scaler.fit_transform(X_Iraq)\n",
    "X_inter_genetic_scaled = scaler.fit_transform(X_inter_genetic)\n",
    "X_normal_genetic_scaled = scaler.fit_transform(X_normal_genetic)\n",
    "\n",
    "# Split data into train/test sets\n",
    "X_train_African, X_test_African, y_train, y_test = train_test_split(X_African_scaled, y, test_size=0.2, random_state=42)\n",
    "X_train_Bangladesh, X_test_Bangladesh = train_test_split(X_Bangladesh_scaled, test_size=0.2, random_state=42)\n",
    "X_train_Iraq, X_test_Iraq = train_test_split(X_Iraq_scaled, test_size=0.2, random_state=42)\n",
    "X_train_inter_genetic, X_test_inter_genetic = train_test_split(X_inter_genetic_scaled, test_size=0.2, random_state=42)\n",
    "X_train_normal_genetic, X_test_normal_genetic = train_test_split(X_normal_genetic_scaled, test_size=0.2, random_state=42)\n",
    "\n",
    "# Get feature dimensions\n",
    "African_dim = X_train_African.shape[1]\n",
    "Bangladesh_dim = X_train_Bangladesh.shape[1]\n",
    "Iraq_dim = X_train_Iraq.shape[1]\n",
    "inter_genetic_dim = X_train_inter_genetic.shape[1]\n",
    "normal_genetic_dim = X_train_normal_genetic.shape[1]\n",
    "\n",
    "# Define Neural Networks with L2 Regularization\n",
    "African_input = Input(shape=(African_dim,))\n",
    "x1 = Dense(64, activation='relu', kernel_regularizer=l2(0.01))(African_input)\n",
    "x1 = Dense(32, activation='relu', kernel_regularizer=l2(0.01))(x1)\n",
    "\n",
    "Bangladesh_input = Input(shape=(Bangladesh_dim,))\n",
    "x2 = Dense(64, activation='relu', kernel_regularizer=l2(0.01))(Bangladesh_input)\n",
    "x2 = Dense(32, activation='relu', kernel_regularizer=l2(0.01))(x2)\n",
    "\n",
    "Iraq_input = Input(shape=(Iraq_dim,))\n",
    "x3 = Dense(64, activation='relu', kernel_regularizer=l2(0.01))(Iraq_input)\n",
    "x3 = Dense(32, activation='relu', kernel_regularizer=l2(0.01))(x3)\n",
    "\n",
    "inter_genetic_input = Input(shape=(inter_genetic_dim,))\n",
    "x4 = Dense(64, activation='relu', kernel_regularizer=l2(0.01))(inter_genetic_input)\n",
    "x4 = Dense(32, activation='relu', kernel_regularizer=l2(0.01))(x4)\n",
    "\n",
    "normal_genetic_input = Input(shape=(normal_genetic_dim,))\n",
    "x5 = Dense(64, activation='relu', kernel_regularizer=l2(0.01))(normal_genetic_input)\n",
    "x5 = Dense(32, activation='relu', kernel_regularizer=l2(0.01))(x5)\n",
    "\n",
    "# Fusion Layer\n",
    "merged = Concatenate()([x1, x2, x3, x4, x5])\n",
    "x = Dense(128, activation='relu')(merged)\n",
    "x = Dropout(0.5)(x)  \n",
    "x = Dense(64, activation='relu')(x)\n",
    "x = Dropout(0.5)(x)\n",
    "x = Dense(32, activation='relu')(x)\n",
    "output = Dense(1, activation='sigmoid')(x)  \n",
    "\n",
    "# Build & Compile Model\n",
    "model = Model(inputs=[African_input, Bangladesh_input, Iraq_input, inter_genetic_input, normal_genetic_input], outputs=output)\n",
    "model.compile(optimizer=Adam(learning_rate=0.0005), loss='binary_crossentropy', metrics=['accuracy'])\n",
    "\n",
    "# Save model visualization\n",
    "plot_model(model, to_file=\"model_structure.png\", show_shapes=True, show_layer_names=True)\n",
    "\n",
    "# Custom Training Logger\n",
    "class CustomTrainingLogger(tf.keras.callbacks.Callback):\n",
    "    def on_epoch_begin(self, epoch, logs=None):\n",
    "        self.epoch_start_time = time.time()\n",
    "\n",
    "    def on_epoch_end(self, epoch, logs=None):\n",
    "        epoch_time = time.time() - self.epoch_start_time\n",
    "        print(f\"Epoch {epoch+1}: Accuracy = {logs['accuracy']:.4f}, \"\n",
    "              f\"Val Accuracy = {logs['val_accuracy']:.4f}, \"\n",
    "              f\"Loss = {logs['loss']:.4f}, Val Loss = {logs['val_loss']:.4f}, \"\n",
    "              f\"Time = {epoch_time:.2f}s\")\n",
    "\n",
    "callbacks = [EarlyStopping(monitor='val_loss', patience=5, restore_best_weights=True), CustomTrainingLogger()]\n",
    "\n",
    "# Train Model\n",
    "history = model.fit(\n",
    "    [X_train_African, X_train_Bangladesh, X_train_Iraq, X_train_inter_genetic, X_train_normal_genetic], y_train,\n",
    "    validation_data=([X_test_African, X_test_Bangladesh, X_test_Iraq, X_test_inter_genetic, X_test_normal_genetic], y_test),\n",
    "    epochs=50, batch_size=32, callbacks=callbacks)\n",
    "\n",
    "# Plot Training Curves\n",
    "plt.plot(history.history['accuracy'], label=\"Training Accuracy\")\n",
    "plt.plot(history.history['val_accuracy'], label=\"Validation Accuracy\")\n",
    "plt.legend()\n",
    "plt.show()\n"
   ]
  },
  {
   "cell_type": "code",
   "execution_count": 74,
   "metadata": {},
   "outputs": [
    {
     "data": {
      "text/html": [
       "<pre style=\"white-space:pre;overflow-x:auto;line-height:normal;font-family:Menlo,'DejaVu Sans Mono',consolas,'Courier New',monospace\"><span style=\"font-weight: bold\">Model: \"functional_15\"</span>\n",
       "</pre>\n"
      ],
      "text/plain": [
       "\u001b[1mModel: \"functional_15\"\u001b[0m\n"
      ]
     },
     "metadata": {},
     "output_type": "display_data"
    },
    {
     "data": {
      "text/html": [
       "<pre style=\"white-space:pre;overflow-x:auto;line-height:normal;font-family:Menlo,'DejaVu Sans Mono',consolas,'Courier New',monospace\">┏━━━━━━━━━━━━━━━━━━━━━┳━━━━━━━━━━━━━━━━━━━┳━━━━━━━━━━━━┳━━━━━━━━━━━━━━━━━━━┓\n",
       "┃<span style=\"font-weight: bold\"> Layer (type)        </span>┃<span style=\"font-weight: bold\"> Output Shape      </span>┃<span style=\"font-weight: bold\">    Param # </span>┃<span style=\"font-weight: bold\"> Connected to      </span>┃\n",
       "┡━━━━━━━━━━━━━━━━━━━━━╇━━━━━━━━━━━━━━━━━━━╇━━━━━━━━━━━━╇━━━━━━━━━━━━━━━━━━━┩\n",
       "│ input_layer_27      │ (<span style=\"color: #00d7ff; text-decoration-color: #00d7ff\">None</span>, <span style=\"color: #00af00; text-decoration-color: #00af00\">16</span>)        │          <span style=\"color: #00af00; text-decoration-color: #00af00\">0</span> │ -                 │\n",
       "│ (<span style=\"color: #0087ff; text-decoration-color: #0087ff\">InputLayer</span>)        │                   │            │                   │\n",
       "├─────────────────────┼───────────────────┼────────────┼───────────────────┤\n",
       "│ input_layer_28      │ (<span style=\"color: #00d7ff; text-decoration-color: #00d7ff\">None</span>, <span style=\"color: #00af00; text-decoration-color: #00af00\">14</span>)        │          <span style=\"color: #00af00; text-decoration-color: #00af00\">0</span> │ -                 │\n",
       "│ (<span style=\"color: #0087ff; text-decoration-color: #0087ff\">InputLayer</span>)        │                   │            │                   │\n",
       "├─────────────────────┼───────────────────┼────────────┼───────────────────┤\n",
       "│ input_layer_29      │ (<span style=\"color: #00d7ff; text-decoration-color: #00d7ff\">None</span>, <span style=\"color: #00af00; text-decoration-color: #00af00\">11</span>)        │          <span style=\"color: #00af00; text-decoration-color: #00af00\">0</span> │ -                 │\n",
       "│ (<span style=\"color: #0087ff; text-decoration-color: #0087ff\">InputLayer</span>)        │                   │            │                   │\n",
       "├─────────────────────┼───────────────────┼────────────┼───────────────────┤\n",
       "│ input_layer_30      │ (<span style=\"color: #00d7ff; text-decoration-color: #00d7ff\">None</span>, <span style=\"color: #00af00; text-decoration-color: #00af00\">22</span>)        │          <span style=\"color: #00af00; text-decoration-color: #00af00\">0</span> │ -                 │\n",
       "│ (<span style=\"color: #0087ff; text-decoration-color: #0087ff\">InputLayer</span>)        │                   │            │                   │\n",
       "├─────────────────────┼───────────────────┼────────────┼───────────────────┤\n",
       "│ input_layer_31      │ (<span style=\"color: #00d7ff; text-decoration-color: #00d7ff\">None</span>, <span style=\"color: #00af00; text-decoration-color: #00af00\">19</span>)        │          <span style=\"color: #00af00; text-decoration-color: #00af00\">0</span> │ -                 │\n",
       "│ (<span style=\"color: #0087ff; text-decoration-color: #0087ff\">InputLayer</span>)        │                   │            │                   │\n",
       "├─────────────────────┼───────────────────┼────────────┼───────────────────┤\n",
       "│ dense_64 (<span style=\"color: #0087ff; text-decoration-color: #0087ff\">Dense</span>)    │ (<span style=\"color: #00d7ff; text-decoration-color: #00d7ff\">None</span>, <span style=\"color: #00af00; text-decoration-color: #00af00\">64</span>)        │      <span style=\"color: #00af00; text-decoration-color: #00af00\">1,088</span> │ input_layer_27[<span style=\"color: #00af00; text-decoration-color: #00af00\">0</span>… │\n",
       "├─────────────────────┼───────────────────┼────────────┼───────────────────┤\n",
       "│ dense_66 (<span style=\"color: #0087ff; text-decoration-color: #0087ff\">Dense</span>)    │ (<span style=\"color: #00d7ff; text-decoration-color: #00d7ff\">None</span>, <span style=\"color: #00af00; text-decoration-color: #00af00\">64</span>)        │        <span style=\"color: #00af00; text-decoration-color: #00af00\">960</span> │ input_layer_28[<span style=\"color: #00af00; text-decoration-color: #00af00\">0</span>… │\n",
       "├─────────────────────┼───────────────────┼────────────┼───────────────────┤\n",
       "│ dense_68 (<span style=\"color: #0087ff; text-decoration-color: #0087ff\">Dense</span>)    │ (<span style=\"color: #00d7ff; text-decoration-color: #00d7ff\">None</span>, <span style=\"color: #00af00; text-decoration-color: #00af00\">64</span>)        │        <span style=\"color: #00af00; text-decoration-color: #00af00\">768</span> │ input_layer_29[<span style=\"color: #00af00; text-decoration-color: #00af00\">0</span>… │\n",
       "├─────────────────────┼───────────────────┼────────────┼───────────────────┤\n",
       "│ dense_70 (<span style=\"color: #0087ff; text-decoration-color: #0087ff\">Dense</span>)    │ (<span style=\"color: #00d7ff; text-decoration-color: #00d7ff\">None</span>, <span style=\"color: #00af00; text-decoration-color: #00af00\">64</span>)        │      <span style=\"color: #00af00; text-decoration-color: #00af00\">1,472</span> │ input_layer_30[<span style=\"color: #00af00; text-decoration-color: #00af00\">0</span>… │\n",
       "├─────────────────────┼───────────────────┼────────────┼───────────────────┤\n",
       "│ dense_72 (<span style=\"color: #0087ff; text-decoration-color: #0087ff\">Dense</span>)    │ (<span style=\"color: #00d7ff; text-decoration-color: #00d7ff\">None</span>, <span style=\"color: #00af00; text-decoration-color: #00af00\">64</span>)        │      <span style=\"color: #00af00; text-decoration-color: #00af00\">1,280</span> │ input_layer_31[<span style=\"color: #00af00; text-decoration-color: #00af00\">0</span>… │\n",
       "├─────────────────────┼───────────────────┼────────────┼───────────────────┤\n",
       "│ dense_65 (<span style=\"color: #0087ff; text-decoration-color: #0087ff\">Dense</span>)    │ (<span style=\"color: #00d7ff; text-decoration-color: #00d7ff\">None</span>, <span style=\"color: #00af00; text-decoration-color: #00af00\">32</span>)        │      <span style=\"color: #00af00; text-decoration-color: #00af00\">2,080</span> │ dense_64[<span style=\"color: #00af00; text-decoration-color: #00af00\">0</span>][<span style=\"color: #00af00; text-decoration-color: #00af00\">0</span>]    │\n",
       "├─────────────────────┼───────────────────┼────────────┼───────────────────┤\n",
       "│ dense_67 (<span style=\"color: #0087ff; text-decoration-color: #0087ff\">Dense</span>)    │ (<span style=\"color: #00d7ff; text-decoration-color: #00d7ff\">None</span>, <span style=\"color: #00af00; text-decoration-color: #00af00\">32</span>)        │      <span style=\"color: #00af00; text-decoration-color: #00af00\">2,080</span> │ dense_66[<span style=\"color: #00af00; text-decoration-color: #00af00\">0</span>][<span style=\"color: #00af00; text-decoration-color: #00af00\">0</span>]    │\n",
       "├─────────────────────┼───────────────────┼────────────┼───────────────────┤\n",
       "│ dense_69 (<span style=\"color: #0087ff; text-decoration-color: #0087ff\">Dense</span>)    │ (<span style=\"color: #00d7ff; text-decoration-color: #00d7ff\">None</span>, <span style=\"color: #00af00; text-decoration-color: #00af00\">32</span>)        │      <span style=\"color: #00af00; text-decoration-color: #00af00\">2,080</span> │ dense_68[<span style=\"color: #00af00; text-decoration-color: #00af00\">0</span>][<span style=\"color: #00af00; text-decoration-color: #00af00\">0</span>]    │\n",
       "├─────────────────────┼───────────────────┼────────────┼───────────────────┤\n",
       "│ dense_71 (<span style=\"color: #0087ff; text-decoration-color: #0087ff\">Dense</span>)    │ (<span style=\"color: #00d7ff; text-decoration-color: #00d7ff\">None</span>, <span style=\"color: #00af00; text-decoration-color: #00af00\">32</span>)        │      <span style=\"color: #00af00; text-decoration-color: #00af00\">2,080</span> │ dense_70[<span style=\"color: #00af00; text-decoration-color: #00af00\">0</span>][<span style=\"color: #00af00; text-decoration-color: #00af00\">0</span>]    │\n",
       "├─────────────────────┼───────────────────┼────────────┼───────────────────┤\n",
       "│ dense_73 (<span style=\"color: #0087ff; text-decoration-color: #0087ff\">Dense</span>)    │ (<span style=\"color: #00d7ff; text-decoration-color: #00d7ff\">None</span>, <span style=\"color: #00af00; text-decoration-color: #00af00\">32</span>)        │      <span style=\"color: #00af00; text-decoration-color: #00af00\">2,080</span> │ dense_72[<span style=\"color: #00af00; text-decoration-color: #00af00\">0</span>][<span style=\"color: #00af00; text-decoration-color: #00af00\">0</span>]    │\n",
       "├─────────────────────┼───────────────────┼────────────┼───────────────────┤\n",
       "│ concatenate_3       │ (<span style=\"color: #00d7ff; text-decoration-color: #00d7ff\">None</span>, <span style=\"color: #00af00; text-decoration-color: #00af00\">160</span>)       │          <span style=\"color: #00af00; text-decoration-color: #00af00\">0</span> │ dense_65[<span style=\"color: #00af00; text-decoration-color: #00af00\">0</span>][<span style=\"color: #00af00; text-decoration-color: #00af00\">0</span>],   │\n",
       "│ (<span style=\"color: #0087ff; text-decoration-color: #0087ff\">Concatenate</span>)       │                   │            │ dense_67[<span style=\"color: #00af00; text-decoration-color: #00af00\">0</span>][<span style=\"color: #00af00; text-decoration-color: #00af00\">0</span>],   │\n",
       "│                     │                   │            │ dense_69[<span style=\"color: #00af00; text-decoration-color: #00af00\">0</span>][<span style=\"color: #00af00; text-decoration-color: #00af00\">0</span>],   │\n",
       "│                     │                   │            │ dense_71[<span style=\"color: #00af00; text-decoration-color: #00af00\">0</span>][<span style=\"color: #00af00; text-decoration-color: #00af00\">0</span>],   │\n",
       "│                     │                   │            │ dense_73[<span style=\"color: #00af00; text-decoration-color: #00af00\">0</span>][<span style=\"color: #00af00; text-decoration-color: #00af00\">0</span>]    │\n",
       "├─────────────────────┼───────────────────┼────────────┼───────────────────┤\n",
       "│ dense_74 (<span style=\"color: #0087ff; text-decoration-color: #0087ff\">Dense</span>)    │ (<span style=\"color: #00d7ff; text-decoration-color: #00d7ff\">None</span>, <span style=\"color: #00af00; text-decoration-color: #00af00\">128</span>)       │     <span style=\"color: #00af00; text-decoration-color: #00af00\">20,608</span> │ concatenate_3[<span style=\"color: #00af00; text-decoration-color: #00af00\">0</span>]… │\n",
       "├─────────────────────┼───────────────────┼────────────┼───────────────────┤\n",
       "│ dropout_6 (<span style=\"color: #0087ff; text-decoration-color: #0087ff\">Dropout</span>) │ (<span style=\"color: #00d7ff; text-decoration-color: #00d7ff\">None</span>, <span style=\"color: #00af00; text-decoration-color: #00af00\">128</span>)       │          <span style=\"color: #00af00; text-decoration-color: #00af00\">0</span> │ dense_74[<span style=\"color: #00af00; text-decoration-color: #00af00\">0</span>][<span style=\"color: #00af00; text-decoration-color: #00af00\">0</span>]    │\n",
       "├─────────────────────┼───────────────────┼────────────┼───────────────────┤\n",
       "│ dense_75 (<span style=\"color: #0087ff; text-decoration-color: #0087ff\">Dense</span>)    │ (<span style=\"color: #00d7ff; text-decoration-color: #00d7ff\">None</span>, <span style=\"color: #00af00; text-decoration-color: #00af00\">64</span>)        │      <span style=\"color: #00af00; text-decoration-color: #00af00\">8,256</span> │ dropout_6[<span style=\"color: #00af00; text-decoration-color: #00af00\">0</span>][<span style=\"color: #00af00; text-decoration-color: #00af00\">0</span>]   │\n",
       "├─────────────────────┼───────────────────┼────────────┼───────────────────┤\n",
       "│ dropout_7 (<span style=\"color: #0087ff; text-decoration-color: #0087ff\">Dropout</span>) │ (<span style=\"color: #00d7ff; text-decoration-color: #00d7ff\">None</span>, <span style=\"color: #00af00; text-decoration-color: #00af00\">64</span>)        │          <span style=\"color: #00af00; text-decoration-color: #00af00\">0</span> │ dense_75[<span style=\"color: #00af00; text-decoration-color: #00af00\">0</span>][<span style=\"color: #00af00; text-decoration-color: #00af00\">0</span>]    │\n",
       "├─────────────────────┼───────────────────┼────────────┼───────────────────┤\n",
       "│ dense_76 (<span style=\"color: #0087ff; text-decoration-color: #0087ff\">Dense</span>)    │ (<span style=\"color: #00d7ff; text-decoration-color: #00d7ff\">None</span>, <span style=\"color: #00af00; text-decoration-color: #00af00\">32</span>)        │      <span style=\"color: #00af00; text-decoration-color: #00af00\">2,080</span> │ dropout_7[<span style=\"color: #00af00; text-decoration-color: #00af00\">0</span>][<span style=\"color: #00af00; text-decoration-color: #00af00\">0</span>]   │\n",
       "├─────────────────────┼───────────────────┼────────────┼───────────────────┤\n",
       "│ dense_77 (<span style=\"color: #0087ff; text-decoration-color: #0087ff\">Dense</span>)    │ (<span style=\"color: #00d7ff; text-decoration-color: #00d7ff\">None</span>, <span style=\"color: #00af00; text-decoration-color: #00af00\">1</span>)         │         <span style=\"color: #00af00; text-decoration-color: #00af00\">33</span> │ dense_76[<span style=\"color: #00af00; text-decoration-color: #00af00\">0</span>][<span style=\"color: #00af00; text-decoration-color: #00af00\">0</span>]    │\n",
       "└─────────────────────┴───────────────────┴────────────┴───────────────────┘\n",
       "</pre>\n"
      ],
      "text/plain": [
       "┏━━━━━━━━━━━━━━━━━━━━━┳━━━━━━━━━━━━━━━━━━━┳━━━━━━━━━━━━┳━━━━━━━━━━━━━━━━━━━┓\n",
       "┃\u001b[1m \u001b[0m\u001b[1mLayer (type)       \u001b[0m\u001b[1m \u001b[0m┃\u001b[1m \u001b[0m\u001b[1mOutput Shape     \u001b[0m\u001b[1m \u001b[0m┃\u001b[1m \u001b[0m\u001b[1m   Param #\u001b[0m\u001b[1m \u001b[0m┃\u001b[1m \u001b[0m\u001b[1mConnected to     \u001b[0m\u001b[1m \u001b[0m┃\n",
       "┡━━━━━━━━━━━━━━━━━━━━━╇━━━━━━━━━━━━━━━━━━━╇━━━━━━━━━━━━╇━━━━━━━━━━━━━━━━━━━┩\n",
       "│ input_layer_27      │ (\u001b[38;5;45mNone\u001b[0m, \u001b[38;5;34m16\u001b[0m)        │          \u001b[38;5;34m0\u001b[0m │ -                 │\n",
       "│ (\u001b[38;5;33mInputLayer\u001b[0m)        │                   │            │                   │\n",
       "├─────────────────────┼───────────────────┼────────────┼───────────────────┤\n",
       "│ input_layer_28      │ (\u001b[38;5;45mNone\u001b[0m, \u001b[38;5;34m14\u001b[0m)        │          \u001b[38;5;34m0\u001b[0m │ -                 │\n",
       "│ (\u001b[38;5;33mInputLayer\u001b[0m)        │                   │            │                   │\n",
       "├─────────────────────┼───────────────────┼────────────┼───────────────────┤\n",
       "│ input_layer_29      │ (\u001b[38;5;45mNone\u001b[0m, \u001b[38;5;34m11\u001b[0m)        │          \u001b[38;5;34m0\u001b[0m │ -                 │\n",
       "│ (\u001b[38;5;33mInputLayer\u001b[0m)        │                   │            │                   │\n",
       "├─────────────────────┼───────────────────┼────────────┼───────────────────┤\n",
       "│ input_layer_30      │ (\u001b[38;5;45mNone\u001b[0m, \u001b[38;5;34m22\u001b[0m)        │          \u001b[38;5;34m0\u001b[0m │ -                 │\n",
       "│ (\u001b[38;5;33mInputLayer\u001b[0m)        │                   │            │                   │\n",
       "├─────────────────────┼───────────────────┼────────────┼───────────────────┤\n",
       "│ input_layer_31      │ (\u001b[38;5;45mNone\u001b[0m, \u001b[38;5;34m19\u001b[0m)        │          \u001b[38;5;34m0\u001b[0m │ -                 │\n",
       "│ (\u001b[38;5;33mInputLayer\u001b[0m)        │                   │            │                   │\n",
       "├─────────────────────┼───────────────────┼────────────┼───────────────────┤\n",
       "│ dense_64 (\u001b[38;5;33mDense\u001b[0m)    │ (\u001b[38;5;45mNone\u001b[0m, \u001b[38;5;34m64\u001b[0m)        │      \u001b[38;5;34m1,088\u001b[0m │ input_layer_27[\u001b[38;5;34m0\u001b[0m… │\n",
       "├─────────────────────┼───────────────────┼────────────┼───────────────────┤\n",
       "│ dense_66 (\u001b[38;5;33mDense\u001b[0m)    │ (\u001b[38;5;45mNone\u001b[0m, \u001b[38;5;34m64\u001b[0m)        │        \u001b[38;5;34m960\u001b[0m │ input_layer_28[\u001b[38;5;34m0\u001b[0m… │\n",
       "├─────────────────────┼───────────────────┼────────────┼───────────────────┤\n",
       "│ dense_68 (\u001b[38;5;33mDense\u001b[0m)    │ (\u001b[38;5;45mNone\u001b[0m, \u001b[38;5;34m64\u001b[0m)        │        \u001b[38;5;34m768\u001b[0m │ input_layer_29[\u001b[38;5;34m0\u001b[0m… │\n",
       "├─────────────────────┼───────────────────┼────────────┼───────────────────┤\n",
       "│ dense_70 (\u001b[38;5;33mDense\u001b[0m)    │ (\u001b[38;5;45mNone\u001b[0m, \u001b[38;5;34m64\u001b[0m)        │      \u001b[38;5;34m1,472\u001b[0m │ input_layer_30[\u001b[38;5;34m0\u001b[0m… │\n",
       "├─────────────────────┼───────────────────┼────────────┼───────────────────┤\n",
       "│ dense_72 (\u001b[38;5;33mDense\u001b[0m)    │ (\u001b[38;5;45mNone\u001b[0m, \u001b[38;5;34m64\u001b[0m)        │      \u001b[38;5;34m1,280\u001b[0m │ input_layer_31[\u001b[38;5;34m0\u001b[0m… │\n",
       "├─────────────────────┼───────────────────┼────────────┼───────────────────┤\n",
       "│ dense_65 (\u001b[38;5;33mDense\u001b[0m)    │ (\u001b[38;5;45mNone\u001b[0m, \u001b[38;5;34m32\u001b[0m)        │      \u001b[38;5;34m2,080\u001b[0m │ dense_64[\u001b[38;5;34m0\u001b[0m][\u001b[38;5;34m0\u001b[0m]    │\n",
       "├─────────────────────┼───────────────────┼────────────┼───────────────────┤\n",
       "│ dense_67 (\u001b[38;5;33mDense\u001b[0m)    │ (\u001b[38;5;45mNone\u001b[0m, \u001b[38;5;34m32\u001b[0m)        │      \u001b[38;5;34m2,080\u001b[0m │ dense_66[\u001b[38;5;34m0\u001b[0m][\u001b[38;5;34m0\u001b[0m]    │\n",
       "├─────────────────────┼───────────────────┼────────────┼───────────────────┤\n",
       "│ dense_69 (\u001b[38;5;33mDense\u001b[0m)    │ (\u001b[38;5;45mNone\u001b[0m, \u001b[38;5;34m32\u001b[0m)        │      \u001b[38;5;34m2,080\u001b[0m │ dense_68[\u001b[38;5;34m0\u001b[0m][\u001b[38;5;34m0\u001b[0m]    │\n",
       "├─────────────────────┼───────────────────┼────────────┼───────────────────┤\n",
       "│ dense_71 (\u001b[38;5;33mDense\u001b[0m)    │ (\u001b[38;5;45mNone\u001b[0m, \u001b[38;5;34m32\u001b[0m)        │      \u001b[38;5;34m2,080\u001b[0m │ dense_70[\u001b[38;5;34m0\u001b[0m][\u001b[38;5;34m0\u001b[0m]    │\n",
       "├─────────────────────┼───────────────────┼────────────┼───────────────────┤\n",
       "│ dense_73 (\u001b[38;5;33mDense\u001b[0m)    │ (\u001b[38;5;45mNone\u001b[0m, \u001b[38;5;34m32\u001b[0m)        │      \u001b[38;5;34m2,080\u001b[0m │ dense_72[\u001b[38;5;34m0\u001b[0m][\u001b[38;5;34m0\u001b[0m]    │\n",
       "├─────────────────────┼───────────────────┼────────────┼───────────────────┤\n",
       "│ concatenate_3       │ (\u001b[38;5;45mNone\u001b[0m, \u001b[38;5;34m160\u001b[0m)       │          \u001b[38;5;34m0\u001b[0m │ dense_65[\u001b[38;5;34m0\u001b[0m][\u001b[38;5;34m0\u001b[0m],   │\n",
       "│ (\u001b[38;5;33mConcatenate\u001b[0m)       │                   │            │ dense_67[\u001b[38;5;34m0\u001b[0m][\u001b[38;5;34m0\u001b[0m],   │\n",
       "│                     │                   │            │ dense_69[\u001b[38;5;34m0\u001b[0m][\u001b[38;5;34m0\u001b[0m],   │\n",
       "│                     │                   │            │ dense_71[\u001b[38;5;34m0\u001b[0m][\u001b[38;5;34m0\u001b[0m],   │\n",
       "│                     │                   │            │ dense_73[\u001b[38;5;34m0\u001b[0m][\u001b[38;5;34m0\u001b[0m]    │\n",
       "├─────────────────────┼───────────────────┼────────────┼───────────────────┤\n",
       "│ dense_74 (\u001b[38;5;33mDense\u001b[0m)    │ (\u001b[38;5;45mNone\u001b[0m, \u001b[38;5;34m128\u001b[0m)       │     \u001b[38;5;34m20,608\u001b[0m │ concatenate_3[\u001b[38;5;34m0\u001b[0m]… │\n",
       "├─────────────────────┼───────────────────┼────────────┼───────────────────┤\n",
       "│ dropout_6 (\u001b[38;5;33mDropout\u001b[0m) │ (\u001b[38;5;45mNone\u001b[0m, \u001b[38;5;34m128\u001b[0m)       │          \u001b[38;5;34m0\u001b[0m │ dense_74[\u001b[38;5;34m0\u001b[0m][\u001b[38;5;34m0\u001b[0m]    │\n",
       "├─────────────────────┼───────────────────┼────────────┼───────────────────┤\n",
       "│ dense_75 (\u001b[38;5;33mDense\u001b[0m)    │ (\u001b[38;5;45mNone\u001b[0m, \u001b[38;5;34m64\u001b[0m)        │      \u001b[38;5;34m8,256\u001b[0m │ dropout_6[\u001b[38;5;34m0\u001b[0m][\u001b[38;5;34m0\u001b[0m]   │\n",
       "├─────────────────────┼───────────────────┼────────────┼───────────────────┤\n",
       "│ dropout_7 (\u001b[38;5;33mDropout\u001b[0m) │ (\u001b[38;5;45mNone\u001b[0m, \u001b[38;5;34m64\u001b[0m)        │          \u001b[38;5;34m0\u001b[0m │ dense_75[\u001b[38;5;34m0\u001b[0m][\u001b[38;5;34m0\u001b[0m]    │\n",
       "├─────────────────────┼───────────────────┼────────────┼───────────────────┤\n",
       "│ dense_76 (\u001b[38;5;33mDense\u001b[0m)    │ (\u001b[38;5;45mNone\u001b[0m, \u001b[38;5;34m32\u001b[0m)        │      \u001b[38;5;34m2,080\u001b[0m │ dropout_7[\u001b[38;5;34m0\u001b[0m][\u001b[38;5;34m0\u001b[0m]   │\n",
       "├─────────────────────┼───────────────────┼────────────┼───────────────────┤\n",
       "│ dense_77 (\u001b[38;5;33mDense\u001b[0m)    │ (\u001b[38;5;45mNone\u001b[0m, \u001b[38;5;34m1\u001b[0m)         │         \u001b[38;5;34m33\u001b[0m │ dense_76[\u001b[38;5;34m0\u001b[0m][\u001b[38;5;34m0\u001b[0m]    │\n",
       "└─────────────────────┴───────────────────┴────────────┴───────────────────┘\n"
      ]
     },
     "metadata": {},
     "output_type": "display_data"
    },
    {
     "data": {
      "text/html": [
       "<pre style=\"white-space:pre;overflow-x:auto;line-height:normal;font-family:Menlo,'DejaVu Sans Mono',consolas,'Courier New',monospace\"><span style=\"font-weight: bold\"> Total params: </span><span style=\"color: #00af00; text-decoration-color: #00af00\">46,945</span> (183.38 KB)\n",
       "</pre>\n"
      ],
      "text/plain": [
       "\u001b[1m Total params: \u001b[0m\u001b[38;5;34m46,945\u001b[0m (183.38 KB)\n"
      ]
     },
     "metadata": {},
     "output_type": "display_data"
    },
    {
     "data": {
      "text/html": [
       "<pre style=\"white-space:pre;overflow-x:auto;line-height:normal;font-family:Menlo,'DejaVu Sans Mono',consolas,'Courier New',monospace\"><span style=\"font-weight: bold\"> Trainable params: </span><span style=\"color: #00af00; text-decoration-color: #00af00\">46,945</span> (183.38 KB)\n",
       "</pre>\n"
      ],
      "text/plain": [
       "\u001b[1m Trainable params: \u001b[0m\u001b[38;5;34m46,945\u001b[0m (183.38 KB)\n"
      ]
     },
     "metadata": {},
     "output_type": "display_data"
    },
    {
     "data": {
      "text/html": [
       "<pre style=\"white-space:pre;overflow-x:auto;line-height:normal;font-family:Menlo,'DejaVu Sans Mono',consolas,'Courier New',monospace\"><span style=\"font-weight: bold\"> Non-trainable params: </span><span style=\"color: #00af00; text-decoration-color: #00af00\">0</span> (0.00 B)\n",
       "</pre>\n"
      ],
      "text/plain": [
       "\u001b[1m Non-trainable params: \u001b[0m\u001b[38;5;34m0\u001b[0m (0.00 B)\n"
      ]
     },
     "metadata": {},
     "output_type": "display_data"
    },
    {
     "name": "stdout",
     "output_type": "stream",
     "text": [
      "Epoch 1/50\n",
      "\u001b[1m136/136\u001b[0m \u001b[32m━━━━━━━━━━━━━━━━━━━━\u001b[0m\u001b[37m\u001b[0m \u001b[1m2s\u001b[0m 2ms/step - accuracy: 0.8682 - loss: 0.3879 - val_accuracy: 0.9651 - val_loss: 0.1103\n",
      "Epoch 2/50\n",
      "\u001b[1m136/136\u001b[0m \u001b[32m━━━━━━━━━━━━━━━━━━━━\u001b[0m\u001b[37m\u001b[0m \u001b[1m0s\u001b[0m 1ms/step - accuracy: 0.9581 - loss: 0.1351 - val_accuracy: 0.9798 - val_loss: 0.0620\n",
      "Epoch 3/50\n",
      "\u001b[1m136/136\u001b[0m \u001b[32m━━━━━━━━━━━━━━━━━━━━\u001b[0m\u001b[37m\u001b[0m \u001b[1m0s\u001b[0m 1ms/step - accuracy: 0.9799 - loss: 0.0673 - val_accuracy: 0.9917 - val_loss: 0.0315\n",
      "Epoch 4/50\n",
      "\u001b[1m136/136\u001b[0m \u001b[32m━━━━━━━━━━━━━━━━━━━━\u001b[0m\u001b[37m\u001b[0m \u001b[1m0s\u001b[0m 2ms/step - accuracy: 0.9910 - loss: 0.0357 - val_accuracy: 0.9816 - val_loss: 0.0487\n",
      "Epoch 5/50\n",
      "\u001b[1m136/136\u001b[0m \u001b[32m━━━━━━━━━━━━━━━━━━━━\u001b[0m\u001b[37m\u001b[0m \u001b[1m0s\u001b[0m 2ms/step - accuracy: 0.9830 - loss: 0.0439 - val_accuracy: 0.9954 - val_loss: 0.0098\n",
      "Epoch 6/50\n",
      "\u001b[1m136/136\u001b[0m \u001b[32m━━━━━━━━━━━━━━━━━━━━\u001b[0m\u001b[37m\u001b[0m \u001b[1m0s\u001b[0m 2ms/step - accuracy: 0.9985 - loss: 0.0053 - val_accuracy: 0.9917 - val_loss: 0.0197\n",
      "Epoch 7/50\n",
      "\u001b[1m136/136\u001b[0m \u001b[32m━━━━━━━━━━━━━━━━━━━━\u001b[0m\u001b[37m\u001b[0m \u001b[1m0s\u001b[0m 1ms/step - accuracy: 0.9944 - loss: 0.0148 - val_accuracy: 0.9954 - val_loss: 0.0118\n",
      "Epoch 8/50\n",
      "\u001b[1m136/136\u001b[0m \u001b[32m━━━━━━━━━━━━━━━━━━━━\u001b[0m\u001b[37m\u001b[0m \u001b[1m0s\u001b[0m 2ms/step - accuracy: 0.9986 - loss: 0.0045 - val_accuracy: 0.9991 - val_loss: 0.0040\n",
      "Epoch 9/50\n",
      "\u001b[1m136/136\u001b[0m \u001b[32m━━━━━━━━━━━━━━━━━━━━\u001b[0m\u001b[37m\u001b[0m \u001b[1m0s\u001b[0m 2ms/step - accuracy: 0.9986 - loss: 0.0057 - val_accuracy: 0.9991 - val_loss: 0.0021\n",
      "Epoch 10/50\n",
      "\u001b[1m136/136\u001b[0m \u001b[32m━━━━━━━━━━━━━━━━━━━━\u001b[0m\u001b[37m\u001b[0m \u001b[1m0s\u001b[0m 2ms/step - accuracy: 0.9982 - loss: 0.0041 - val_accuracy: 0.9982 - val_loss: 0.0037\n",
      "Epoch 11/50\n",
      "\u001b[1m136/136\u001b[0m \u001b[32m━━━━━━━━━━━━━━━━━━━━\u001b[0m\u001b[37m\u001b[0m \u001b[1m0s\u001b[0m 2ms/step - accuracy: 0.9983 - loss: 0.0040 - val_accuracy: 0.9991 - val_loss: 0.0019\n",
      "Epoch 12/50\n",
      "\u001b[1m136/136\u001b[0m \u001b[32m━━━━━━━━━━━━━━━━━━━━\u001b[0m\u001b[37m\u001b[0m \u001b[1m0s\u001b[0m 2ms/step - accuracy: 0.9981 - loss: 0.0046 - val_accuracy: 0.9908 - val_loss: 0.0261\n",
      "Epoch 13/50\n",
      "\u001b[1m136/136\u001b[0m \u001b[32m━━━━━━━━━━━━━━━━━━━━\u001b[0m\u001b[37m\u001b[0m \u001b[1m0s\u001b[0m 2ms/step - accuracy: 0.9984 - loss: 0.0033 - val_accuracy: 1.0000 - val_loss: 7.0491e-04\n",
      "Epoch 14/50\n",
      "\u001b[1m136/136\u001b[0m \u001b[32m━━━━━━━━━━━━━━━━━━━━\u001b[0m\u001b[37m\u001b[0m \u001b[1m0s\u001b[0m 1ms/step - accuracy: 1.0000 - loss: 2.6886e-04 - val_accuracy: 1.0000 - val_loss: 2.9433e-04\n",
      "Epoch 15/50\n",
      "\u001b[1m136/136\u001b[0m \u001b[32m━━━━━━━━━━━━━━━━━━━━\u001b[0m\u001b[37m\u001b[0m \u001b[1m0s\u001b[0m 2ms/step - accuracy: 1.0000 - loss: 2.2444e-04 - val_accuracy: 1.0000 - val_loss: 1.8054e-04\n",
      "Epoch 16/50\n",
      "\u001b[1m136/136\u001b[0m \u001b[32m━━━━━━━━━━━━━━━━━━━━\u001b[0m\u001b[37m\u001b[0m \u001b[1m0s\u001b[0m 1ms/step - accuracy: 1.0000 - loss: 1.0897e-04 - val_accuracy: 1.0000 - val_loss: 1.6214e-04\n",
      "Epoch 17/50\n",
      "\u001b[1m136/136\u001b[0m \u001b[32m━━━━━━━━━━━━━━━━━━━━\u001b[0m\u001b[37m\u001b[0m \u001b[1m0s\u001b[0m 1ms/step - accuracy: 1.0000 - loss: 5.1847e-05 - val_accuracy: 1.0000 - val_loss: 1.1425e-04\n",
      "Epoch 18/50\n",
      "\u001b[1m136/136\u001b[0m \u001b[32m━━━━━━━━━━━━━━━━━━━━\u001b[0m\u001b[37m\u001b[0m \u001b[1m0s\u001b[0m 1ms/step - accuracy: 1.0000 - loss: 8.5411e-05 - val_accuracy: 1.0000 - val_loss: 7.9877e-05\n",
      "Epoch 19/50\n",
      "\u001b[1m136/136\u001b[0m \u001b[32m━━━━━━━━━━━━━━━━━━━━\u001b[0m\u001b[37m\u001b[0m \u001b[1m0s\u001b[0m 1ms/step - accuracy: 1.0000 - loss: 1.1160e-04 - val_accuracy: 1.0000 - val_loss: 3.6792e-05\n",
      "Epoch 20/50\n",
      "\u001b[1m136/136\u001b[0m \u001b[32m━━━━━━━━━━━━━━━━━━━━\u001b[0m\u001b[37m\u001b[0m \u001b[1m0s\u001b[0m 1ms/step - accuracy: 1.0000 - loss: 2.7079e-05 - val_accuracy: 1.0000 - val_loss: 2.8362e-05\n",
      "Epoch 21/50\n",
      "\u001b[1m136/136\u001b[0m \u001b[32m━━━━━━━━━━━━━━━━━━━━\u001b[0m\u001b[37m\u001b[0m \u001b[1m0s\u001b[0m 1ms/step - accuracy: 1.0000 - loss: 3.1443e-05 - val_accuracy: 1.0000 - val_loss: 2.4024e-05\n",
      "Epoch 22/50\n",
      "\u001b[1m136/136\u001b[0m \u001b[32m━━━━━━━━━━━━━━━━━━━━\u001b[0m\u001b[37m\u001b[0m \u001b[1m0s\u001b[0m 1ms/step - accuracy: 1.0000 - loss: 6.0592e-05 - val_accuracy: 1.0000 - val_loss: 1.5181e-05\n",
      "Epoch 23/50\n",
      "\u001b[1m136/136\u001b[0m \u001b[32m━━━━━━━━━━━━━━━━━━━━\u001b[0m\u001b[37m\u001b[0m \u001b[1m0s\u001b[0m 1ms/step - accuracy: 1.0000 - loss: 2.0910e-05 - val_accuracy: 1.0000 - val_loss: 1.4128e-05\n",
      "Epoch 24/50\n",
      "\u001b[1m136/136\u001b[0m \u001b[32m━━━━━━━━━━━━━━━━━━━━\u001b[0m\u001b[37m\u001b[0m \u001b[1m0s\u001b[0m 1ms/step - accuracy: 0.9950 - loss: 0.0251 - val_accuracy: 0.9991 - val_loss: 0.0044\n",
      "Epoch 25/50\n",
      "\u001b[1m136/136\u001b[0m \u001b[32m━━━━━━━━━━━━━━━━━━━━\u001b[0m\u001b[37m\u001b[0m \u001b[1m0s\u001b[0m 1ms/step - accuracy: 0.9995 - loss: 0.0016 - val_accuracy: 0.9991 - val_loss: 9.0964e-04\n",
      "Epoch 26/50\n",
      "\u001b[1m136/136\u001b[0m \u001b[32m━━━━━━━━━━━━━━━━━━━━\u001b[0m\u001b[37m\u001b[0m \u001b[1m0s\u001b[0m 1ms/step - accuracy: 0.9997 - loss: 0.0019 - val_accuracy: 0.9991 - val_loss: 0.0036\n",
      "Epoch 27/50\n",
      "\u001b[1m136/136\u001b[0m \u001b[32m━━━━━━━━━━━━━━━━━━━━\u001b[0m\u001b[37m\u001b[0m \u001b[1m0s\u001b[0m 1ms/step - accuracy: 0.9992 - loss: 0.0032 - val_accuracy: 1.0000 - val_loss: 5.5607e-04\n",
      "Epoch 28/50\n",
      "\u001b[1m136/136\u001b[0m \u001b[32m━━━━━━━━━━━━━━━━━━━━\u001b[0m\u001b[37m\u001b[0m \u001b[1m0s\u001b[0m 1ms/step - accuracy: 0.9997 - loss: 0.0013 - val_accuracy: 0.9991 - val_loss: 0.0011\n",
      "\u001b[1m34/34\u001b[0m \u001b[32m━━━━━━━━━━━━━━━━━━━━\u001b[0m\u001b[37m\u001b[0m \u001b[1m0s\u001b[0m 821us/step - accuracy: 1.0000 - loss: 1.0786e-05\n",
      "Test Accuracy: 1.0000\n"
     ]
    }
   ],
   "source": [
    "import numpy as np\n",
    "import pandas as pd\n",
    "import tensorflow as tf\n",
    "from tensorflow.keras.layers import Input, Dense, Concatenate, Dropout\n",
    "from tensorflow.keras.models import Model\n",
    "from tensorflow.keras.optimizers import Adam\n",
    "from tensorflow.keras.callbacks import EarlyStopping\n",
    "from sklearn.preprocessing import StandardScaler\n",
    "from sklearn.utils import resample\n",
    "\n",
    "# Find the maximum sample size across all datasets\n",
    "max_samples = max(len(African), len(Bangladesh), len(Iraq), len(inter_genetic), len(normal_genetic))\n",
    "\n",
    "# Function to upsample datasets to match the largest dataset\n",
    "def upsample_data(df, target_size):\n",
    "    return resample(df, replace=True, n_samples=target_size, random_state=42)\n",
    "\n",
    "# Upsample all datasets to have the same number of rows\n",
    "African = upsample_data(African, max_samples)\n",
    "Bangladesh = upsample_data(Bangladesh, max_samples)\n",
    "Iraq = upsample_data(Iraq, max_samples)\n",
    "inter_genetic = upsample_data(inter_genetic, max_samples)\n",
    "normal_genetic = upsample_data(normal_genetic, max_samples)\n",
    "\n",
    "# **Drop non-numeric columns**\n",
    "African = African.select_dtypes(include=[np.number])\n",
    "Bangladesh = Bangladesh.select_dtypes(include=[np.number])\n",
    "Iraq = Iraq.select_dtypes(include=[np.number])\n",
    "inter_genetic = inter_genetic.select_dtypes(include=[np.number])\n",
    "normal_genetic = normal_genetic.select_dtypes(include=[np.number])\n",
    "\n",
    "# Extract features and labels ('T2D' is the target column)\n",
    "X_African, y = African.drop(columns=['T2D'], errors='ignore'), African['T2D']\n",
    "X_Bangladesh = Bangladesh.drop(columns=['T2D'], errors='ignore')\n",
    "X_Iraq = Iraq.drop(columns=['T2D'], errors='ignore')\n",
    "X_inter_genetic = inter_genetic.drop(columns=['T2D'], errors='ignore')\n",
    "X_normal_genetic = normal_genetic.drop(columns=['T2D'], errors='ignore')\n",
    "\n",
    "# Standardize features\n",
    "scaler = StandardScaler()\n",
    "X_African_scaled = scaler.fit_transform(X_African)\n",
    "X_Bangladesh_scaled = scaler.fit_transform(X_Bangladesh)\n",
    "X_Iraq_scaled = scaler.fit_transform(X_Iraq)\n",
    "X_inter_genetic_scaled = scaler.fit_transform(X_inter_genetic)\n",
    "X_normal_genetic_scaled = scaler.fit_transform(X_normal_genetic)\n",
    "\n",
    "# Split data into train/test sets (80% train, 20% test)\n",
    "from sklearn.model_selection import train_test_split\n",
    "\n",
    "X_train_African, X_test_African, y_train, y_test = train_test_split(X_African_scaled, y, test_size=0.2, random_state=42)\n",
    "X_train_Bangladesh, X_test_Bangladesh = train_test_split(X_Bangladesh_scaled, test_size=0.2, random_state=42)\n",
    "X_train_Iraq, X_test_Iraq = train_test_split(X_Iraq_scaled, test_size=0.2, random_state=42)\n",
    "X_train_inter_genetic, X_test_inter_genetic = train_test_split(X_inter_genetic_scaled, test_size=0.2, random_state=42)\n",
    "X_train_normal_genetic, X_test_normal_genetic = train_test_split(X_normal_genetic_scaled, test_size=0.2, random_state=42)\n",
    "\n",
    "# Get feature dimensions\n",
    "African_dim = X_train_African.shape[1]\n",
    "Bangladesh_dim = X_train_Bangladesh.shape[1]\n",
    "Iraq_dim = X_train_Iraq.shape[1]\n",
    "inter_genetic_dim = X_train_inter_genetic.shape[1]\n",
    "normal_genetic_dim = X_train_normal_genetic.shape[1]\n",
    "\n",
    "# Define Neural Networks for Each Dataset\n",
    "African_input = Input(shape=(African_dim,))\n",
    "x1 = Dense(64, activation='relu')(African_input)\n",
    "x1 = Dense(32, activation='relu')(x1)\n",
    "\n",
    "Bangladesh_input = Input(shape=(Bangladesh_dim,))\n",
    "x2 = Dense(64, activation='relu')(Bangladesh_input)\n",
    "x2 = Dense(32, activation='relu')(x2)\n",
    "\n",
    "Iraq_input = Input(shape=(Iraq_dim,))\n",
    "x3 = Dense(64, activation='relu')(Iraq_input)\n",
    "x3 = Dense(32, activation='relu')(x3)\n",
    "\n",
    "inter_genetic_input = Input(shape=(inter_genetic_dim,))\n",
    "x4 = Dense(64, activation='relu')(inter_genetic_input)\n",
    "x4 = Dense(32, activation='relu')(x4)\n",
    "\n",
    "normal_genetic_input = Input(shape=(normal_genetic_dim,))\n",
    "x5 = Dense(64, activation='relu')(normal_genetic_input)\n",
    "x5 = Dense(32, activation='relu')(x5)\n",
    "\n",
    "# Fusion Layer (Combining All Features)\n",
    "merged = Concatenate()([x1, x2, x3, x4, x5])\n",
    "x = Dense(128, activation='relu')(merged)\n",
    "x = Dropout(0.3)(x)  # Regularization\n",
    "x = Dense(64, activation='relu')(x)\n",
    "x = Dropout(0.3)(x)  # Prevent overfitting\n",
    "x = Dense(32, activation='relu')(x)\n",
    "output = Dense(1, activation='sigmoid')(x)  # Binary classification\n",
    "\n",
    "# Build & Compile Model\n",
    "model = Model(inputs=[African_input, Bangladesh_input, Iraq_input, inter_genetic_input, normal_genetic_input], outputs=output)\n",
    "model.compile(optimizer=Adam(learning_rate=0.001), loss='binary_crossentropy', metrics=['accuracy'])\n",
    "\n",
    "# Model Summary\n",
    "model.summary()\n",
    "\n",
    "# Define Early Stopping (Stop training if validation loss stops improving)\n",
    "early_stopping = EarlyStopping(monitor='val_loss', patience=5, restore_best_weights=True)\n",
    "\n",
    "# Train the Model\n",
    "model.fit(\n",
    "    [X_train_African, X_train_Bangladesh, X_train_Iraq, X_train_inter_genetic, X_train_normal_genetic], y_train, \n",
    "    validation_data=([X_test_African, X_test_Bangladesh, X_test_Iraq, X_test_inter_genetic, X_test_normal_genetic], y_test), \n",
    "    epochs=50, batch_size=32, callbacks=[early_stopping])\n",
    "\n",
    "# Evaluate the Model\n",
    "loss, accuracy = model.evaluate([X_test_African, X_test_Bangladesh, X_test_Iraq, X_test_inter_genetic, X_test_normal_genetic], y_test)\n",
    "print(f\"Test Accuracy: {accuracy:.4f}\")\n"
   ]
  }
 ],
 "metadata": {
  "kernelspec": {
   "display_name": "base",
   "language": "python",
   "name": "python3"
  },
  "language_info": {
   "codemirror_mode": {
    "name": "ipython",
    "version": 3
   },
   "file_extension": ".py",
   "mimetype": "text/x-python",
   "name": "python",
   "nbconvert_exporter": "python",
   "pygments_lexer": "ipython3",
   "version": "3.12.2"
  }
 },
 "nbformat": 4,
 "nbformat_minor": 2
}
