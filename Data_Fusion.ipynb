{
 "cells": [
  {
   "cell_type": "markdown",
   "metadata": {},
   "source": [
    "# Data preprocessing for Fusion and Model"
   ]
  },
  {
   "cell_type": "markdown",
   "metadata": {},
   "source": [
    "Importing Libraries"
   ]
  },
  {
   "cell_type": "code",
   "execution_count": 151,
   "metadata": {
    "ExecuteTime": {
     "end_time": "2025-02-18T15:12:53.854083600Z",
     "start_time": "2025-02-18T15:12:41.761926600Z"
    }
   },
   "outputs": [],
   "source": [
    "# Essentials\n",
    "import pandas as pd\n",
    "import numpy as np\n",
    "\n",
    "# Processing\n",
    "from sklearn.preprocessing import StandardScaler\n",
    "\n",
    "# Model\n",
    "\n",
    "# Visualization\n",
    "\n",
    "# Warnings\n",
    "import warnings\n",
    "warnings.filterwarnings('ignore')"
   ]
  },
  {
   "cell_type": "markdown",
   "metadata": {},
   "source": [
    "Loading Datasets"
   ]
  },
  {
   "cell_type": "code",
   "execution_count": 152,
   "metadata": {
    "ExecuteTime": {
     "end_time": "2025-02-18T15:36:25.581539600Z",
     "start_time": "2025-02-18T15:36:25.297433200Z"
    }
   },
   "outputs": [],
   "source": [
    "# Clinical Datasets\n",
    "African = pd.read_csv(r\"C:\\Users\\dahab\\OneDrive\\Desktop\\T2D-Prediction-System--Data-Fusion-for-Enhanced-Decision-Making\\processed_datasets\\clinical\\African_pro.csv\")\n",
    "Bangladesh = pd.read_csv(r\"C:\\Users\\dahab\\OneDrive\\Desktop\\T2D-Prediction-System--Data-Fusion-for-Enhanced-Decision-Making\\processed_datasets\\clinical\\Bangladesh_pro.csv\")\n",
    "Iraq = pd.read_csv(r\"C:\\Users\\dahab\\OneDrive\\Desktop\\T2D-Prediction-System--Data-Fusion-for-Enhanced-Decision-Making\\processed_datasets\\clinical\\Iraq_pro.csv\")\n",
    "\n",
    "# Genetic Datasets\n",
    "inter_genetic = pd.read_csv(r\"C:\\Users\\dahab\\OneDrive\\Desktop\\T2D-Prediction-System--Data-Fusion-for-Enhanced-Decision-Making\\processed_datasets\\genetic\\inter_genetic_dataset.csv\")\n",
    "normal_genetic = pd.read_csv(r\"C:\\Users\\dahab\\OneDrive\\Desktop\\T2D-Prediction-System--Data-Fusion-for-Enhanced-Decision-Making\\processed_datasets\\genetic\\normal_genetic_dataset.csv\")"
   ]
  },
  {
   "cell_type": "markdown",
   "metadata": {},
   "source": [
    "Checking Target Columns"
   ]
  },
  {
   "cell_type": "code",
   "execution_count": 153,
   "metadata": {},
   "outputs": [
    {
     "name": "stdout",
     "output_type": "stream",
     "text": [
      "Index(['Patient number', 'Cholesterol', 'Glucose', 'HDL Chol',\n",
      "       'Chol/HDL ratio', 'Age', 'Gender', 'Height', 'Weight', 'BMI',\n",
      "       'Systolic BP', 'Diastolic BP', 'waist', 'hip', 'Waist/hip ratio',\n",
      "       'Diabetes', 'BMI Category'],\n",
      "      dtype='object') \n",
      "\n",
      "Index(['age', 'pulse_rate', 'systolic_bp', 'diastolic_bp', 'glucose', 'height',\n",
      "       'weight', 'bmi', 'family_diabetes', 'hypertensive',\n",
      "       'family_hypertension', 'cardiovascular_disease', 'stroke',\n",
      "       'gender_Encoded', 'diabetic_Encoded'],\n",
      "      dtype='object') \n",
      "\n",
      "Index(['Age', 'Urea', 'Cr', 'HbA1c', 'Chol', 'TG', 'HDL', 'LDL', 'VLDL', 'BMI',\n",
      "       'Gender_Encoded', 'Class_Encoded'],\n",
      "      dtype='object') \n",
      "\n",
      "Index(['STUDY', 'DISEASE_DESCRIPTION', 'REGION', 'CHR_ID', 'CHR_POS',\n",
      "       'MAPPED_GENE', 'UPSTREAM_GENE_ID', 'DOWNSTREAM_GENE_ID',\n",
      "       'UPSTREAM_GENE_DISTANCE', 'DOWNSTREAM_GENE_DISTANCE', 'SNPS', 'MERGED',\n",
      "       'GENOMIC_CONTEXT', 'INTERGENIC', 'RISK_ALLELE_FREQUENCY', 'PVALUE',\n",
      "       'PVALUE_MLOG', 'EFFECT_SIZE', 'CASE_PERCENTAGE', 'CI_LOWER_BOUND',\n",
      "       'CI_UPPER_BOUND', 'CI_RANGE', 'SNPS_PASSING_QC', 'PLATFORM_AFFYMETRIX',\n",
      "       'PLATFORM_AFFYMETRIX_ILLUMINA', 'PLATFORM_ILLUMINA', 'IMPUTED_ENCODED',\n",
      "       'RISK_ALLELE_ENCODED'],\n",
      "      dtype='object') \n",
      "\n",
      "Index(['STUDY', 'DISEASE_DESCRIPTION', 'REGION', 'CHR_ID', 'CHR_POS',\n",
      "       'MAPPED_GENE', 'SNP_GENE_IDS', 'SNPS', 'MERGED', 'GENOMIC_CONTEXT',\n",
      "       'INTERGENIC', 'RISK_ALLELE_FREQUENCY', 'PVALUE', 'PVALUE_MLOG',\n",
      "       'EFFECT_SIZE', 'CASE_PERCENTAGE', 'CI_LOWER_BOUND', 'CI_UPPER_BOUND',\n",
      "       'CI_RANGE', 'SNPS_PASSING_QC', 'PLATFORM_AFFYMETRIX',\n",
      "       'PLATFORM_AFFYMETRIX_ILLUMINA', 'PLATFORM_ILLUMINA', 'IMPUTED_ENCODED',\n",
      "       'RISK_ALLELE_ENCODED'],\n",
      "      dtype='object')\n"
     ]
    }
   ],
   "source": [
    "print(African.columns, \"\\n\")\n",
    "print(Bangladesh.columns, \"\\n\")\n",
    "print(Iraq.columns, \"\\n\")\n",
    "print(inter_genetic.columns, \"\\n\")\n",
    "print(normal_genetic.columns)"
   ]
  },
  {
   "cell_type": "markdown",
   "metadata": {},
   "source": [
    "Uniting Target Columns' name"
   ]
  },
  {
   "cell_type": "code",
   "execution_count": 154,
   "metadata": {},
   "outputs": [],
   "source": [
    "African.rename(columns={\n",
    "    'Diabetes': 'T2D',\n",
    "}, inplace=True)\n",
    " \n",
    "Bangladesh.rename(columns={\n",
    "    'diabetic_Encoded': 'T2D',\n",
    "}, inplace=True)\n",
    " \n",
    "Iraq.rename(columns={\n",
    "    'Class_Encoded': 'T2D',\n",
    "}, inplace=True)\n",
    " \n",
    "# Add a new column 'T2D' with all values set to 1\n",
    "#inter_genetic['T2D'] = 1\n",
    " \n",
    "# Add a new column 'T2D' with all values set to 1\n",
    "#normal_genetic['T2D'] = 1"
   ]
  },
  {
   "cell_type": "markdown",
   "metadata": {},
   "source": [
    "Checking Data Types "
   ]
  },
  {
   "cell_type": "code",
   "execution_count": 155,
   "metadata": {},
   "outputs": [
    {
     "name": "stdout",
     "output_type": "stream",
     "text": [
      "Patient number       int64\n",
      "Cholesterol          int64\n",
      "Glucose              int64\n",
      "HDL Chol             int64\n",
      "Chol/HDL ratio     float64\n",
      "Age                  int64\n",
      "Gender               int64\n",
      "Height               int64\n",
      "Weight               int64\n",
      "BMI                float64\n",
      "Systolic BP          int64\n",
      "Diastolic BP         int64\n",
      "waist                int64\n",
      "hip                  int64\n",
      "Waist/hip ratio    float64\n",
      "T2D                  int64\n",
      "BMI Category         int64\n",
      "dtype: object \n",
      "\n",
      "age                         int64\n",
      "pulse_rate                  int64\n",
      "systolic_bp                 int64\n",
      "diastolic_bp                int64\n",
      "glucose                   float64\n",
      "height                    float64\n",
      "weight                    float64\n",
      "bmi                       float64\n",
      "family_diabetes             int64\n",
      "hypertensive                int64\n",
      "family_hypertension         int64\n",
      "cardiovascular_disease      int64\n",
      "stroke                      int64\n",
      "gender_Encoded              int64\n",
      "T2D                         int64\n",
      "dtype: object \n",
      "\n",
      "Age                 int64\n",
      "Urea              float64\n",
      "Cr                  int64\n",
      "HbA1c             float64\n",
      "Chol              float64\n",
      "TG                float64\n",
      "HDL               float64\n",
      "LDL               float64\n",
      "VLDL              float64\n",
      "BMI               float64\n",
      "Gender_Encoded      int64\n",
      "T2D                 int64\n",
      "dtype: object \n",
      "\n",
      "STUDY                            object\n",
      "DISEASE_DESCRIPTION              object\n",
      "REGION                           object\n",
      "CHR_ID                            int64\n",
      "CHR_POS                           int64\n",
      "MAPPED_GENE                      object\n",
      "UPSTREAM_GENE_ID                  int64\n",
      "DOWNSTREAM_GENE_ID                int64\n",
      "UPSTREAM_GENE_DISTANCE            int64\n",
      "DOWNSTREAM_GENE_DISTANCE          int64\n",
      "SNPS                             object\n",
      "MERGED                            int64\n",
      "GENOMIC_CONTEXT                  object\n",
      "INTERGENIC                        int64\n",
      "RISK_ALLELE_FREQUENCY           float64\n",
      "PVALUE                          float64\n",
      "PVALUE_MLOG                     float64\n",
      "EFFECT_SIZE                     float64\n",
      "CASE_PERCENTAGE                 float64\n",
      "CI_LOWER_BOUND                  float64\n",
      "CI_UPPER_BOUND                  float64\n",
      "CI_RANGE                        float64\n",
      "SNPS_PASSING_QC                   int64\n",
      "PLATFORM_AFFYMETRIX               int64\n",
      "PLATFORM_AFFYMETRIX_ILLUMINA      int64\n",
      "PLATFORM_ILLUMINA                 int64\n",
      "IMPUTED_ENCODED                   int64\n",
      "RISK_ALLELE_ENCODED               int64\n",
      "dtype: object \n",
      "\n",
      "STUDY                            object\n",
      "DISEASE_DESCRIPTION              object\n",
      "REGION                           object\n",
      "CHR_ID                            int64\n",
      "CHR_POS                           int64\n",
      "MAPPED_GENE                      object\n",
      "SNP_GENE_IDS                      int64\n",
      "SNPS                             object\n",
      "MERGED                            int64\n",
      "GENOMIC_CONTEXT                  object\n",
      "INTERGENIC                        int64\n",
      "RISK_ALLELE_FREQUENCY           float64\n",
      "PVALUE                          float64\n",
      "PVALUE_MLOG                     float64\n",
      "EFFECT_SIZE                     float64\n",
      "CASE_PERCENTAGE                 float64\n",
      "CI_LOWER_BOUND                  float64\n",
      "CI_UPPER_BOUND                  float64\n",
      "CI_RANGE                        float64\n",
      "SNPS_PASSING_QC                   int64\n",
      "PLATFORM_AFFYMETRIX               int64\n",
      "PLATFORM_AFFYMETRIX_ILLUMINA      int64\n",
      "PLATFORM_ILLUMINA                 int64\n",
      "IMPUTED_ENCODED                   int64\n",
      "RISK_ALLELE_ENCODED               int64\n",
      "dtype: object \n",
      "\n"
     ]
    }
   ],
   "source": [
    "print(African.dtypes, '\\n')\n",
    "print(Bangladesh.dtypes, '\\n')\n",
    "print(Iraq.dtypes, '\\n')\n",
    "print(inter_genetic.dtypes, '\\n')\n",
    "print(normal_genetic.dtypes, '\\n')"
   ]
  },
  {
   "cell_type": "markdown",
   "metadata": {},
   "source": [
    "Checking number of columns and rows"
   ]
  },
  {
   "cell_type": "code",
   "execution_count": 156,
   "metadata": {},
   "outputs": [
    {
     "name": "stdout",
     "output_type": "stream",
     "text": [
      "(390, 17) \n",
      "\n",
      "(5437, 15) \n",
      "\n",
      "(786, 12) \n",
      "\n",
      "(1110, 28) \n",
      "\n",
      "(2141, 25) \n",
      "\n"
     ]
    }
   ],
   "source": [
    "print(African.shape, '\\n')\n",
    "print(Bangladesh.shape, '\\n')\n",
    "print(Iraq.shape, '\\n')\n",
    "print(inter_genetic.shape, '\\n')\n",
    "print(normal_genetic.shape, '\\n')"
   ]
  },
  {
   "cell_type": "markdown",
   "metadata": {},
   "source": [
    "# Generative Adversarial Networks (GANs)"
   ]
  },
  {
   "cell_type": "markdown",
   "metadata": {},
   "source": [
    "Define GAN Architecture"
   ]
  },
  {
   "cell_type": "code",
   "execution_count": 157,
   "metadata": {},
   "outputs": [],
   "source": [
    "import numpy as np\n",
    "import pandas as pd\n",
    "import tensorflow as tf\n",
    "from tensorflow.keras.layers import Dense, BatchNormalization, LeakyReLU\n",
    "from tensorflow.keras.models import Sequential\n",
    "from sklearn.preprocessing import MinMaxScaler\n",
    "import matplotlib.pyplot as plt"
   ]
  },
  {
   "cell_type": "code",
   "execution_count": 158,
   "metadata": {},
   "outputs": [],
   "source": [
    "# Define Generator model\n",
    "def build_generator(input_dim, output_dim):\n",
    "    model = Sequential([\n",
    "        Dense(128, input_dim=input_dim),\n",
    "        LeakyReLU(alpha=0.2),\n",
    "        BatchNormalization(),\n",
    "        Dense(256),\n",
    "        LeakyReLU(alpha=0.2),\n",
    "        BatchNormalization(),\n",
    "        Dense(output_dim, activation='tanh')\n",
    "    ])\n",
    "    return model\n",
    "\n",
    "# Define Discriminator model\n",
    "def build_discriminator(input_dim):\n",
    "    model = Sequential([\n",
    "        Dense(256, input_dim=input_dim),\n",
    "        LeakyReLU(alpha=0.2),\n",
    "        Dense(128),\n",
    "        LeakyReLU(alpha=0.2),\n",
    "        Dense(1, activation='sigmoid')  # Output probability (Real vs Fake)\n",
    "    ])\n",
    "    model.compile(loss='binary_crossentropy', optimizer='adam', metrics=['accuracy'])\n",
    "    return model"
   ]
  },
  {
   "cell_type": "markdown",
   "metadata": {},
   "source": [
    "Normalizing for `inter_genetic`"
   ]
  },
  {
   "cell_type": "code",
   "execution_count": 159,
   "metadata": {},
   "outputs": [],
   "source": [
    "# Select only numerical columns\n",
    "numerical_cols = inter_genetic.select_dtypes(include=['number']).columns\n",
    "\n",
    "# Normalize only numerical columns\n",
    "scaler = MinMaxScaler()\n",
    "inter_genetic_scaled = pd.DataFrame(scaler.fit_transform(inter_genetic[numerical_cols]), columns=numerical_cols)"
   ]
  },
  {
   "cell_type": "markdown",
   "metadata": {},
   "source": [
    "Build and Compile the GAN for `inter_genetic`"
   ]
  },
  {
   "cell_type": "code",
   "execution_count": 160,
   "metadata": {},
   "outputs": [],
   "source": [
    "input_dim = inter_genetic_scaled.shape[1]  # Number of features\n",
    "generator = build_generator(100, input_dim)  # Generator takes 100 noise dimensions\n",
    "discriminator = build_discriminator(input_dim)\n",
    "\n",
    "# Create GAN model (combining Generator & Discriminator)\n",
    "discriminator.trainable = False  # Freeze discriminator during GAN training\n",
    "\n",
    "gan = Sequential([generator, discriminator])\n",
    "gan.compile(loss='binary_crossentropy', optimizer='adam')"
   ]
  },
  {
   "cell_type": "markdown",
   "metadata": {},
   "source": [
    "Train the GAN for `inter_genetic`"
   ]
  },
  {
   "cell_type": "code",
   "execution_count": 161,
   "metadata": {},
   "outputs": [
    {
     "name": "stdout",
     "output_type": "stream",
     "text": [
      "\u001b[1m1/1\u001b[0m \u001b[32m━━━━━━━━━━━━━━━━━━━━\u001b[0m\u001b[37m\u001b[0m \u001b[1m0s\u001b[0m 307ms/step\n",
      "Epoch 0: D Loss: 0.6386, G Loss: 0.6794\n",
      "\u001b[1m1/1\u001b[0m \u001b[32m━━━━━━━━━━━━━━━━━━━━\u001b[0m\u001b[37m\u001b[0m \u001b[1m0s\u001b[0m 62ms/step\n",
      "Epoch 1: D Loss: 0.6641, G Loss: 0.6735\n",
      "\u001b[1m1/1\u001b[0m \u001b[32m━━━━━━━━━━━━━━━━━━━━\u001b[0m\u001b[37m\u001b[0m \u001b[1m0s\u001b[0m 31ms/step\n",
      "Epoch 2: D Loss: 0.6643, G Loss: 0.6718\n",
      "\u001b[1m1/1\u001b[0m \u001b[32m━━━━━━━━━━━━━━━━━━━━\u001b[0m\u001b[37m\u001b[0m \u001b[1m0s\u001b[0m 26ms/step\n",
      "Epoch 3: D Loss: 0.6634, G Loss: 0.6667\n",
      "\u001b[1m1/1\u001b[0m \u001b[32m━━━━━━━━━━━━━━━━━━━━\u001b[0m\u001b[37m\u001b[0m \u001b[1m0s\u001b[0m 51ms/step\n",
      "Epoch 4: D Loss: 0.6648, G Loss: 0.6696\n",
      "\u001b[1m1/1\u001b[0m \u001b[32m━━━━━━━━━━━━━━━━━━━━\u001b[0m\u001b[37m\u001b[0m \u001b[1m0s\u001b[0m 38ms/step\n",
      "Epoch 5: D Loss: 0.6675, G Loss: 0.6714\n",
      "\u001b[1m1/1\u001b[0m \u001b[32m━━━━━━━━━━━━━━━━━━━━\u001b[0m\u001b[37m\u001b[0m \u001b[1m0s\u001b[0m 64ms/step\n",
      "Epoch 6: D Loss: 0.6681, G Loss: 0.6712\n",
      "\u001b[1m1/1\u001b[0m \u001b[32m━━━━━━━━━━━━━━━━━━━━\u001b[0m\u001b[37m\u001b[0m \u001b[1m0s\u001b[0m 122ms/step\n",
      "Epoch 7: D Loss: 0.6694, G Loss: 0.6725\n",
      "\u001b[1m1/1\u001b[0m \u001b[32m━━━━━━━━━━━━━━━━━━━━\u001b[0m\u001b[37m\u001b[0m \u001b[1m0s\u001b[0m 62ms/step\n",
      "Epoch 8: D Loss: 0.6701, G Loss: 0.6718\n",
      "\u001b[1m1/1\u001b[0m \u001b[32m━━━━━━━━━━━━━━━━━━━━\u001b[0m\u001b[37m\u001b[0m \u001b[1m0s\u001b[0m 38ms/step\n",
      "Epoch 9: D Loss: 0.6703, G Loss: 0.6723\n",
      "\u001b[1m1/1\u001b[0m \u001b[32m━━━━━━━━━━━━━━━━━━━━\u001b[0m\u001b[37m\u001b[0m \u001b[1m0s\u001b[0m 36ms/step\n",
      "Epoch 10: D Loss: 0.6703, G Loss: 0.6718\n",
      "\u001b[1m1/1\u001b[0m \u001b[32m━━━━━━━━━━━━━━━━━━━━\u001b[0m\u001b[37m\u001b[0m \u001b[1m0s\u001b[0m 144ms/step\n",
      "Epoch 11: D Loss: 0.6708, G Loss: 0.6723\n",
      "\u001b[1m1/1\u001b[0m \u001b[32m━━━━━━━━━━━━━━━━━━━━\u001b[0m\u001b[37m\u001b[0m \u001b[1m0s\u001b[0m 68ms/step\n",
      "Epoch 12: D Loss: 0.6714, G Loss: 0.6733\n",
      "\u001b[1m1/1\u001b[0m \u001b[32m━━━━━━━━━━━━━━━━━━━━\u001b[0m\u001b[37m\u001b[0m \u001b[1m0s\u001b[0m 36ms/step\n",
      "Epoch 13: D Loss: 0.6722, G Loss: 0.6739\n",
      "\u001b[1m1/1\u001b[0m \u001b[32m━━━━━━━━━━━━━━━━━━━━\u001b[0m\u001b[37m\u001b[0m \u001b[1m0s\u001b[0m 72ms/step\n",
      "Epoch 14: D Loss: 0.6729, G Loss: 0.6744\n",
      "\u001b[1m1/1\u001b[0m \u001b[32m━━━━━━━━━━━━━━━━━━━━\u001b[0m\u001b[37m\u001b[0m \u001b[1m0s\u001b[0m 35ms/step\n",
      "Epoch 15: D Loss: 0.6733, G Loss: 0.6745\n",
      "\u001b[1m1/1\u001b[0m \u001b[32m━━━━━━━━━━━━━━━━━━━━\u001b[0m\u001b[37m\u001b[0m \u001b[1m0s\u001b[0m 32ms/step\n",
      "Epoch 16: D Loss: 0.6737, G Loss: 0.6752\n",
      "\u001b[1m1/1\u001b[0m \u001b[32m━━━━━━━━━━━━━━━━━━━━\u001b[0m\u001b[37m\u001b[0m \u001b[1m0s\u001b[0m 48ms/step\n",
      "Epoch 17: D Loss: 0.6743, G Loss: 0.6756\n",
      "\u001b[1m1/1\u001b[0m \u001b[32m━━━━━━━━━━━━━━━━━━━━\u001b[0m\u001b[37m\u001b[0m \u001b[1m0s\u001b[0m 33ms/step\n",
      "Epoch 18: D Loss: 0.6752, G Loss: 0.6767\n",
      "\u001b[1m1/1\u001b[0m \u001b[32m━━━━━━━━━━━━━━━━━━━━\u001b[0m\u001b[37m\u001b[0m \u001b[1m0s\u001b[0m 41ms/step\n",
      "Epoch 19: D Loss: 0.6756, G Loss: 0.6766\n",
      "\u001b[1m1/1\u001b[0m \u001b[32m━━━━━━━━━━━━━━━━━━━━\u001b[0m\u001b[37m\u001b[0m \u001b[1m0s\u001b[0m 54ms/step\n",
      "Epoch 20: D Loss: 0.6758, G Loss: 0.6771\n",
      "\u001b[1m1/1\u001b[0m \u001b[32m━━━━━━━━━━━━━━━━━━━━\u001b[0m\u001b[37m\u001b[0m \u001b[1m0s\u001b[0m 43ms/step\n",
      "Epoch 21: D Loss: 0.6761, G Loss: 0.6770\n",
      "\u001b[1m1/1\u001b[0m \u001b[32m━━━━━━━━━━━━━━━━━━━━\u001b[0m\u001b[37m\u001b[0m \u001b[1m0s\u001b[0m 34ms/step\n",
      "Epoch 22: D Loss: 0.6767, G Loss: 0.6780\n",
      "\u001b[1m1/1\u001b[0m \u001b[32m━━━━━━━━━━━━━━━━━━━━\u001b[0m\u001b[37m\u001b[0m \u001b[1m0s\u001b[0m 27ms/step\n",
      "Epoch 23: D Loss: 0.6778, G Loss: 0.6790\n",
      "\u001b[1m1/1\u001b[0m \u001b[32m━━━━━━━━━━━━━━━━━━━━\u001b[0m\u001b[37m\u001b[0m \u001b[1m0s\u001b[0m 26ms/step\n",
      "Epoch 24: D Loss: 0.6783, G Loss: 0.6795\n"
     ]
    }
   ],
   "source": [
    "def train_gan(epochs, batch_size):\n",
    "    real_labels = np.ones((batch_size, 1))  # Label 1 for real data (Yes)\n",
    "    fake_labels = np.zeros((batch_size, 1))  # Label 0 for fake data (No)\n",
    "\n",
    "    for epoch in range(epochs):\n",
    "        # Select a random batch of real samples\n",
    "        idx = np.random.randint(0, inter_genetic_scaled.shape[0], batch_size)\n",
    "        real_samples = inter_genetic_scaled.iloc[idx]  # ✅ Fixed: Use iloc\n",
    "\n",
    "        # Generate fake samples\n",
    "        noise = np.random.normal(0, 1, (batch_size, 100))  # Noise input\n",
    "        fake_samples = generator.predict(noise)\n",
    "\n",
    "        # Train the Discriminator\n",
    "        d_loss_real = discriminator.train_on_batch(real_samples, real_labels)\n",
    "        d_loss_fake = discriminator.train_on_batch(fake_samples, fake_labels)\n",
    "\n",
    "        # Extract loss values properly\n",
    "        d_loss_real_value = d_loss_real[0] if isinstance(d_loss_real, (list, tuple, np.ndarray)) else d_loss_real\n",
    "        d_loss_fake_value = d_loss_fake[0] if isinstance(d_loss_fake, (list, tuple, np.ndarray)) else d_loss_fake\n",
    "        d_loss = 0.5 * (d_loss_real_value + d_loss_fake_value)  # Compute average loss\n",
    "\n",
    "        # Train the Generator\n",
    "        noise = np.random.normal(0, 1, (batch_size, 100))\n",
    "        g_loss_data = gan.train_on_batch(noise, real_labels)\n",
    "\n",
    "        # Extract loss value from g_loss_data\n",
    "        g_loss = g_loss_data[0] if isinstance(g_loss_data, (list, tuple, np.ndarray)) else g_loss_data\n",
    "\n",
    "        # Print loss every 500 epochs\n",
    "        print(f\"Epoch {epoch}: D Loss: {d_loss:.4f}, G Loss: {g_loss:.4f}\")\n",
    "\n",
    "# Train the GAN\n",
    "train_gan(epochs=25, batch_size=16)"
   ]
  },
  {
   "cell_type": "markdown",
   "metadata": {},
   "source": [
    "Generate Synthetic \"No\" Samples for `inter_genetic`"
   ]
  },
  {
   "cell_type": "code",
   "execution_count": null,
   "metadata": {},
   "outputs": [
    {
     "name": "stdout",
     "output_type": "stream",
     "text": [
      "\u001b[1m35/35\u001b[0m \u001b[32m━━━━━━━━━━━━━━━━━━━━\u001b[0m\u001b[37m\u001b[0m \u001b[1m0s\u001b[0m 2ms/step\n",
      "Generated dataset saved successfully!\n",
      "T2D\n",
      "1    1110\n",
      "0    1110\n",
      "Name: count, dtype: int64\n",
      "Null values in IMPUTED_ENCODED: 0\n",
      "Null values in RISK_ALLELE_ENCODED: 0\n",
      "Final columns: Index(['STUDY', 'DISEASE_DESCRIPTION', 'REGION', 'CHR_ID', 'CHR_POS',\n",
      "       'MAPPED_GENE', 'UPSTREAM_GENE_ID', 'DOWNSTREAM_GENE_ID',\n",
      "       'UPSTREAM_GENE_DISTANCE', 'DOWNSTREAM_GENE_DISTANCE', 'SNPS', 'MERGED',\n",
      "       'GENOMIC_CONTEXT', 'INTERGENIC', 'RISK_ALLELE_FREQUENCY', 'PVALUE',\n",
      "       'PVALUE_MLOG', 'EFFECT_SIZE', 'CASE_PERCENTAGE', 'CI_LOWER_BOUND',\n",
      "       'CI_UPPER_BOUND', 'CI_RANGE', 'SNPS_PASSING_QC', 'PLATFORM_AFFYMETRIX',\n",
      "       'PLATFORM_AFFYMETRIX_ILLUMINA', 'PLATFORM_ILLUMINA', 'IMPUTED_ENCODED',\n",
      "       'RISK_ALLELE_ENCODED', 'T2D'],\n",
      "      dtype='object')\n"
     ]
    }
   ],
   "source": [
    "import numpy as np\n",
    "import pandas as pd\n",
    "\n",
    "# Step 1: Ensure Generator Inputs Match Expected Noise Dim\n",
    "num_samples = 1110\n",
    "noise_dim = generator.input_shape[1]  # Get correct input size\n",
    "noise = np.random.normal(0, 1, (num_samples, noise_dim))  # Generate noise\n",
    "\n",
    "# Step 2: Generate Fake \"No\" Samples\n",
    "synthetic_no_samples = generator.predict(noise)\n",
    "\n",
    "# Step 3: Apply inverse_transform only on numerical columns\n",
    "synthetic_no_samples_scaled = scaler.inverse_transform(synthetic_no_samples[:, :scaler.scale_.shape[0]])\n",
    "\n",
    "# Step 4: Convert to DataFrame with Correct Column Names\n",
    "synthetic_df = pd.DataFrame(synthetic_no_samples_scaled, columns=inter_genetic.columns[:scaler.scale_.shape[0]])\n",
    "\n",
    "# Step 5: Add Missing Categorical Columns Randomly (Ensure IMPUTED_ENCODED & RISK_ALLELE_ENCODED are added)\n",
    "for col in inter_genetic.columns[scaler.scale_.shape[0]:-1]:  # Exclude target column\n",
    "    if col in [\"IMPUTED_ENCODED\", \"RISK_ALLELE_ENCODED\"]:  # ✅ Ensure these columns are restored\n",
    "        synthetic_df[col] = np.random.choice(inter_genetic[col].values, size=len(synthetic_df))\n",
    "    else:  # ✅ Add all other categorical columns normally\n",
    "        synthetic_df[col] = np.random.choice(inter_genetic[col].values, size=len(synthetic_df))\n",
    "\n",
    "# Step 6: Label Synthetic Samples as \"No\" (0)\n",
    "synthetic_df['T2D'] = 0\n",
    "\n",
    "# Step 7: Label Original Samples as \"Yes\" (1)\n",
    "inter_genetic['T2D'] = 1\n",
    "\n",
    "# Step 8: Combine Real and Synthetic Data\n",
    "balanced_inter_genetic = pd.concat([inter_genetic, synthetic_df], ignore_index=True)\n",
    "\n",
    "# Step 9: Fill Missing `IMPUTED_ENCODED` & `RISK_ALLELE_ENCODED` Values (If Any)\n",
    "for col in [\"IMPUTED_ENCODED\", \"RISK_ALLELE_ENCODED\"]:\n",
    "    if balanced_inter_genetic[col].isnull().sum() > 0:\n",
    "        real_values = balanced_inter_genetic.loc[balanced_inter_genetic['T2D'] == 1, col]\n",
    "        balanced_inter_genetic.loc[balanced_inter_genetic['T2D'] == 0, col] = np.random.choice(\n",
    "            real_values, size=(balanced_inter_genetic['T2D'] == 0).sum(), replace=True\n",
    "        )\n",
    "\n",
    "# Step 10: Check the distribution of labels\n",
    "print(balanced_inter_genetic['T2D'].value_counts())\n",
    "\n",
    "# Step 11: Verify Fixes\n",
    "print(\"Null values in IMPUTED_ENCODED:\", balanced_inter_genetic['IMPUTED_ENCODED'].isnull().sum())\n",
    "print(\"Null values in RISK_ALLELE_ENCODED:\", balanced_inter_genetic['RISK_ALLELE_ENCODED'].isnull().sum())\n",
    "print(\"Final columns:\", balanced_inter_genetic.columns)"
   ]
  },
  {
   "cell_type": "code",
   "execution_count": 163,
   "metadata": {},
   "outputs": [
    {
     "data": {
      "text/html": [
       "<div>\n",
       "<style scoped>\n",
       "    .dataframe tbody tr th:only-of-type {\n",
       "        vertical-align: middle;\n",
       "    }\n",
       "\n",
       "    .dataframe tbody tr th {\n",
       "        vertical-align: top;\n",
       "    }\n",
       "\n",
       "    .dataframe thead th {\n",
       "        text-align: right;\n",
       "    }\n",
       "</style>\n",
       "<table border=\"1\" class=\"dataframe\">\n",
       "  <thead>\n",
       "    <tr style=\"text-align: right;\">\n",
       "      <th></th>\n",
       "      <th>STUDY</th>\n",
       "      <th>DISEASE_DESCRIPTION</th>\n",
       "      <th>REGION</th>\n",
       "      <th>CHR_ID</th>\n",
       "      <th>CHR_POS</th>\n",
       "      <th>MAPPED_GENE</th>\n",
       "      <th>UPSTREAM_GENE_ID</th>\n",
       "      <th>DOWNSTREAM_GENE_ID</th>\n",
       "      <th>UPSTREAM_GENE_DISTANCE</th>\n",
       "      <th>DOWNSTREAM_GENE_DISTANCE</th>\n",
       "      <th>...</th>\n",
       "      <th>CI_LOWER_BOUND</th>\n",
       "      <th>CI_UPPER_BOUND</th>\n",
       "      <th>CI_RANGE</th>\n",
       "      <th>SNPS_PASSING_QC</th>\n",
       "      <th>PLATFORM_AFFYMETRIX</th>\n",
       "      <th>PLATFORM_AFFYMETRIX_ILLUMINA</th>\n",
       "      <th>PLATFORM_ILLUMINA</th>\n",
       "      <th>IMPUTED_ENCODED</th>\n",
       "      <th>RISK_ALLELE_ENCODED</th>\n",
       "      <th>T2D</th>\n",
       "    </tr>\n",
       "  </thead>\n",
       "  <tbody>\n",
       "    <tr>\n",
       "      <th>0</th>\n",
       "      <td>[-1.47616668e-02  5.09463213e-02  2.69961264e-...</td>\n",
       "      <td>[ 1.58013031e-01  9.36319865e-03 -6.81496318e-...</td>\n",
       "      <td>[ 3.05748135e-01 -2.47293934e-01 -1.75472543e-...</td>\n",
       "      <td>8</td>\n",
       "      <td>21853920</td>\n",
       "      <td>[ 1.15677923e-01  4.50637192e-02 -5.24731204e-...</td>\n",
       "      <td>168546</td>\n",
       "      <td>147443</td>\n",
       "      <td>41563</td>\n",
       "      <td>54953</td>\n",
       "      <td>...</td>\n",
       "      <td>0.46</td>\n",
       "      <td>0.56</td>\n",
       "      <td>0.09</td>\n",
       "      <td>6494962</td>\n",
       "      <td>0</td>\n",
       "      <td>1</td>\n",
       "      <td>0</td>\n",
       "      <td>1</td>\n",
       "      <td>0</td>\n",
       "      <td>1</td>\n",
       "    </tr>\n",
       "    <tr>\n",
       "      <th>1</th>\n",
       "      <td>[-1.47616668e-02  5.09463213e-02  2.69961264e-...</td>\n",
       "      <td>[ 1.58013031e-01  9.36319865e-03 -6.81496318e-...</td>\n",
       "      <td>[ 3.67390394e-01 -3.92685801e-01  1.06864296e-...</td>\n",
       "      <td>12</td>\n",
       "      <td>5284163</td>\n",
       "      <td>[ 2.10065857e-01 -2.48143420e-01 -4.31279140e-...</td>\n",
       "      <td>256115</td>\n",
       "      <td>185652</td>\n",
       "      <td>39964</td>\n",
       "      <td>147945</td>\n",
       "      <td>...</td>\n",
       "      <td>0.46</td>\n",
       "      <td>0.56</td>\n",
       "      <td>0.09</td>\n",
       "      <td>6494962</td>\n",
       "      <td>0</td>\n",
       "      <td>1</td>\n",
       "      <td>0</td>\n",
       "      <td>1</td>\n",
       "      <td>0</td>\n",
       "      <td>1</td>\n",
       "    </tr>\n",
       "    <tr>\n",
       "      <th>2</th>\n",
       "      <td>[ 1.53467417e-01 -1.21334471e-01  7.48024210e-...</td>\n",
       "      <td>[ 1.58013031e-01  9.36319865e-03 -6.81496318e-...</td>\n",
       "      <td>[ 2.82850683e-01 -1.11950912e-01  2.99117025e-...</td>\n",
       "      <td>8</td>\n",
       "      <td>107059816</td>\n",
       "      <td>[ 3.28507662e-01 -2.92603046e-01 -2.57462531e-...</td>\n",
       "      <td>174429</td>\n",
       "      <td>254146</td>\n",
       "      <td>289572</td>\n",
       "      <td>113384</td>\n",
       "      <td>...</td>\n",
       "      <td>1.34</td>\n",
       "      <td>2.08</td>\n",
       "      <td>0.74</td>\n",
       "      <td>6906962</td>\n",
       "      <td>0</td>\n",
       "      <td>1</td>\n",
       "      <td>0</td>\n",
       "      <td>1</td>\n",
       "      <td>1</td>\n",
       "      <td>1</td>\n",
       "    </tr>\n",
       "    <tr>\n",
       "      <th>3</th>\n",
       "      <td>[ 4.83314842e-02  1.37150949e-02 -2.07627401e-...</td>\n",
       "      <td>[-1.53973475e-01  1.47206217e-01 -1.56758264e-...</td>\n",
       "      <td>[ 2.93079883e-01 -1.66859761e-01 -1.55704990e-...</td>\n",
       "      <td>7</td>\n",
       "      <td>15013235</td>\n",
       "      <td>[ 3.02324921e-01 -1.51797831e-01 -1.33085012e-...</td>\n",
       "      <td>225816</td>\n",
       "      <td>187546</td>\n",
       "      <td>27161</td>\n",
       "      <td>187082</td>\n",
       "      <td>...</td>\n",
       "      <td>1.04</td>\n",
       "      <td>1.09</td>\n",
       "      <td>0.05</td>\n",
       "      <td>2500000</td>\n",
       "      <td>0</td>\n",
       "      <td>1</td>\n",
       "      <td>0</td>\n",
       "      <td>1</td>\n",
       "      <td>2</td>\n",
       "      <td>1</td>\n",
       "    </tr>\n",
       "    <tr>\n",
       "      <th>4</th>\n",
       "      <td>[ 4.83314842e-02  1.37150949e-02 -2.07627401e-...</td>\n",
       "      <td>[-1.53973475e-01  1.47206217e-01 -1.56758264e-...</td>\n",
       "      <td>[ 2.77950853e-01 -2.00821161e-01 -7.99589884e-...</td>\n",
       "      <td>9</td>\n",
       "      <td>22134095</td>\n",
       "      <td>[ 4.64857012e-01 -1.08726546e-01 -2.27923006e-...</td>\n",
       "      <td>240498</td>\n",
       "      <td>176399</td>\n",
       "      <td>5992</td>\n",
       "      <td>312729</td>\n",
       "      <td>...</td>\n",
       "      <td>1.15</td>\n",
       "      <td>1.22</td>\n",
       "      <td>0.07</td>\n",
       "      <td>2500000</td>\n",
       "      <td>0</td>\n",
       "      <td>1</td>\n",
       "      <td>0</td>\n",
       "      <td>1</td>\n",
       "      <td>0</td>\n",
       "      <td>1</td>\n",
       "    </tr>\n",
       "  </tbody>\n",
       "</table>\n",
       "<p>5 rows × 29 columns</p>\n",
       "</div>"
      ],
      "text/plain": [
       "                                               STUDY  \\\n",
       "0  [-1.47616668e-02  5.09463213e-02  2.69961264e-...   \n",
       "1  [-1.47616668e-02  5.09463213e-02  2.69961264e-...   \n",
       "2  [ 1.53467417e-01 -1.21334471e-01  7.48024210e-...   \n",
       "3  [ 4.83314842e-02  1.37150949e-02 -2.07627401e-...   \n",
       "4  [ 4.83314842e-02  1.37150949e-02 -2.07627401e-...   \n",
       "\n",
       "                                 DISEASE_DESCRIPTION  \\\n",
       "0  [ 1.58013031e-01  9.36319865e-03 -6.81496318e-...   \n",
       "1  [ 1.58013031e-01  9.36319865e-03 -6.81496318e-...   \n",
       "2  [ 1.58013031e-01  9.36319865e-03 -6.81496318e-...   \n",
       "3  [-1.53973475e-01  1.47206217e-01 -1.56758264e-...   \n",
       "4  [-1.53973475e-01  1.47206217e-01 -1.56758264e-...   \n",
       "\n",
       "                                              REGION  CHR_ID    CHR_POS  \\\n",
       "0  [ 3.05748135e-01 -2.47293934e-01 -1.75472543e-...       8   21853920   \n",
       "1  [ 3.67390394e-01 -3.92685801e-01  1.06864296e-...      12    5284163   \n",
       "2  [ 2.82850683e-01 -1.11950912e-01  2.99117025e-...       8  107059816   \n",
       "3  [ 2.93079883e-01 -1.66859761e-01 -1.55704990e-...       7   15013235   \n",
       "4  [ 2.77950853e-01 -2.00821161e-01 -7.99589884e-...       9   22134095   \n",
       "\n",
       "                                         MAPPED_GENE  UPSTREAM_GENE_ID  \\\n",
       "0  [ 1.15677923e-01  4.50637192e-02 -5.24731204e-...            168546   \n",
       "1  [ 2.10065857e-01 -2.48143420e-01 -4.31279140e-...            256115   \n",
       "2  [ 3.28507662e-01 -2.92603046e-01 -2.57462531e-...            174429   \n",
       "3  [ 3.02324921e-01 -1.51797831e-01 -1.33085012e-...            225816   \n",
       "4  [ 4.64857012e-01 -1.08726546e-01 -2.27923006e-...            240498   \n",
       "\n",
       "   DOWNSTREAM_GENE_ID  UPSTREAM_GENE_DISTANCE  DOWNSTREAM_GENE_DISTANCE  ...  \\\n",
       "0              147443                   41563                     54953  ...   \n",
       "1              185652                   39964                    147945  ...   \n",
       "2              254146                  289572                    113384  ...   \n",
       "3              187546                   27161                    187082  ...   \n",
       "4              176399                    5992                    312729  ...   \n",
       "\n",
       "  CI_LOWER_BOUND  CI_UPPER_BOUND CI_RANGE  SNPS_PASSING_QC  \\\n",
       "0           0.46            0.56     0.09          6494962   \n",
       "1           0.46            0.56     0.09          6494962   \n",
       "2           1.34            2.08     0.74          6906962   \n",
       "3           1.04            1.09     0.05          2500000   \n",
       "4           1.15            1.22     0.07          2500000   \n",
       "\n",
       "   PLATFORM_AFFYMETRIX  PLATFORM_AFFYMETRIX_ILLUMINA  PLATFORM_ILLUMINA  \\\n",
       "0                    0                             1                  0   \n",
       "1                    0                             1                  0   \n",
       "2                    0                             1                  0   \n",
       "3                    0                             1                  0   \n",
       "4                    0                             1                  0   \n",
       "\n",
       "   IMPUTED_ENCODED  RISK_ALLELE_ENCODED  T2D  \n",
       "0                1                    0    1  \n",
       "1                1                    0    1  \n",
       "2                1                    1    1  \n",
       "3                1                    2    1  \n",
       "4                1                    0    1  \n",
       "\n",
       "[5 rows x 29 columns]"
      ]
     },
     "execution_count": 163,
     "metadata": {},
     "output_type": "execute_result"
    }
   ],
   "source": [
    "inter_genetic.head()"
   ]
  },
  {
   "cell_type": "markdown",
   "metadata": {},
   "source": [
    "Checking null values for `balanced_inter_genetic`"
   ]
  },
  {
   "cell_type": "code",
   "execution_count": 164,
   "metadata": {},
   "outputs": [
    {
     "data": {
      "text/plain": [
       "STUDY                           0\n",
       "DISEASE_DESCRIPTION             0\n",
       "REGION                          0\n",
       "CHR_ID                          0\n",
       "CHR_POS                         0\n",
       "MAPPED_GENE                     0\n",
       "UPSTREAM_GENE_ID                0\n",
       "DOWNSTREAM_GENE_ID              0\n",
       "UPSTREAM_GENE_DISTANCE          0\n",
       "DOWNSTREAM_GENE_DISTANCE        0\n",
       "SNPS                            0\n",
       "MERGED                          0\n",
       "GENOMIC_CONTEXT                 0\n",
       "INTERGENIC                      0\n",
       "RISK_ALLELE_FREQUENCY           0\n",
       "PVALUE                          0\n",
       "PVALUE_MLOG                     0\n",
       "EFFECT_SIZE                     0\n",
       "CASE_PERCENTAGE                 0\n",
       "CI_LOWER_BOUND                  0\n",
       "CI_UPPER_BOUND                  0\n",
       "CI_RANGE                        0\n",
       "SNPS_PASSING_QC                 0\n",
       "PLATFORM_AFFYMETRIX             0\n",
       "PLATFORM_AFFYMETRIX_ILLUMINA    0\n",
       "PLATFORM_ILLUMINA               0\n",
       "IMPUTED_ENCODED                 0\n",
       "RISK_ALLELE_ENCODED             0\n",
       "T2D                             0\n",
       "dtype: int64"
      ]
     },
     "execution_count": 164,
     "metadata": {},
     "output_type": "execute_result"
    }
   ],
   "source": [
    "balanced_inter_genetic.isnull().sum()"
   ]
  },
  {
   "cell_type": "markdown",
   "metadata": {},
   "source": [
    "Nomalizing for `normal_genetic`"
   ]
  },
  {
   "cell_type": "code",
   "execution_count": 165,
   "metadata": {},
   "outputs": [],
   "source": [
    "# Select only numerical columns\n",
    "numerical_cols = normal_genetic.select_dtypes(include=['number']).columns\n",
    "\n",
    "# Normalize only numerical columns\n",
    "scaler = StandardScaler()\n",
    "normal_genetic_scaled = pd.DataFrame(scaler.fit_transform(normal_genetic[numerical_cols]), columns=numerical_cols)"
   ]
  },
  {
   "cell_type": "markdown",
   "metadata": {},
   "source": [
    "Build and Compile the GAN for `normal_genetic`"
   ]
  },
  {
   "cell_type": "code",
   "execution_count": 166,
   "metadata": {},
   "outputs": [],
   "source": [
    "# Define input dimension based on normal_genetic dataset\n",
    "input_dim = normal_genetic_scaled.shape[1]  # Number of features\n",
    "generator = build_generator(100, input_dim)  # Generator takes 100 noise dimensions\n",
    "discriminator = build_discriminator(input_dim)\n",
    "\n",
    "# Create GAN model (combining Generator & Discriminator)\n",
    "discriminator.trainable = False  # Freeze discriminator during GAN training\n",
    "gan = Sequential([generator, discriminator])\n",
    "gan.compile(loss='binary_crossentropy', optimizer='adam')"
   ]
  },
  {
   "cell_type": "markdown",
   "metadata": {},
   "source": [
    "Train the GAN for `normal_genetic`"
   ]
  },
  {
   "cell_type": "code",
   "execution_count": 167,
   "metadata": {},
   "outputs": [
    {
     "name": "stdout",
     "output_type": "stream",
     "text": [
      "\u001b[1m1/1\u001b[0m \u001b[32m━━━━━━━━━━━━━━━━━━━━\u001b[0m\u001b[37m\u001b[0m \u001b[1m0s\u001b[0m 156ms/step\n",
      "Epoch 0: D Loss: 0.7243, G Loss: 0.6946\n",
      "\u001b[1m1/1\u001b[0m \u001b[32m━━━━━━━━━━━━━━━━━━━━\u001b[0m\u001b[37m\u001b[0m \u001b[1m0s\u001b[0m 28ms/step\n",
      "Epoch 1: D Loss: 0.7010, G Loss: 0.6944\n",
      "\u001b[1m1/1\u001b[0m \u001b[32m━━━━━━━━━━━━━━━━━━━━\u001b[0m\u001b[37m\u001b[0m \u001b[1m0s\u001b[0m 39ms/step\n",
      "Epoch 2: D Loss: 0.7003, G Loss: 0.6964\n",
      "\u001b[1m1/1\u001b[0m \u001b[32m━━━━━━━━━━━━━━━━━━━━\u001b[0m\u001b[37m\u001b[0m \u001b[1m0s\u001b[0m 28ms/step\n",
      "Epoch 3: D Loss: 0.7005, G Loss: 0.6967\n",
      "\u001b[1m1/1\u001b[0m \u001b[32m━━━━━━━━━━━━━━━━━━━━\u001b[0m\u001b[37m\u001b[0m \u001b[1m0s\u001b[0m 27ms/step\n",
      "Epoch 4: D Loss: 0.6993, G Loss: 0.6967\n",
      "\u001b[1m1/1\u001b[0m \u001b[32m━━━━━━━━━━━━━━━━━━━━\u001b[0m\u001b[37m\u001b[0m \u001b[1m0s\u001b[0m 26ms/step\n",
      "Epoch 5: D Loss: 0.7010, G Loss: 0.6980\n",
      "\u001b[1m1/1\u001b[0m \u001b[32m━━━━━━━━━━━━━━━━━━━━\u001b[0m\u001b[37m\u001b[0m \u001b[1m0s\u001b[0m 23ms/step\n",
      "Epoch 6: D Loss: 0.7038, G Loss: 0.7027\n",
      "\u001b[1m1/1\u001b[0m \u001b[32m━━━━━━━━━━━━━━━━━━━━\u001b[0m\u001b[37m\u001b[0m \u001b[1m0s\u001b[0m 25ms/step\n",
      "Epoch 7: D Loss: 0.7049, G Loss: 0.7029\n",
      "\u001b[1m1/1\u001b[0m \u001b[32m━━━━━━━━━━━━━━━━━━━━\u001b[0m\u001b[37m\u001b[0m \u001b[1m0s\u001b[0m 24ms/step\n",
      "Epoch 8: D Loss: 0.7046, G Loss: 0.7029\n",
      "\u001b[1m1/1\u001b[0m \u001b[32m━━━━━━━━━━━━━━━━━━━━\u001b[0m\u001b[37m\u001b[0m \u001b[1m0s\u001b[0m 38ms/step\n",
      "Epoch 9: D Loss: 0.7032, G Loss: 0.7019\n",
      "\u001b[1m1/1\u001b[0m \u001b[32m━━━━━━━━━━━━━━━━━━━━\u001b[0m\u001b[37m\u001b[0m \u001b[1m0s\u001b[0m 30ms/step\n",
      "Epoch 10: D Loss: 0.7018, G Loss: 0.7012\n",
      "\u001b[1m1/1\u001b[0m \u001b[32m━━━━━━━━━━━━━━━━━━━━\u001b[0m\u001b[37m\u001b[0m \u001b[1m0s\u001b[0m 30ms/step\n",
      "Epoch 11: D Loss: 0.7010, G Loss: 0.7002\n",
      "\u001b[1m1/1\u001b[0m \u001b[32m━━━━━━━━━━━━━━━━━━━━\u001b[0m\u001b[37m\u001b[0m \u001b[1m0s\u001b[0m 27ms/step\n",
      "Epoch 12: D Loss: 0.7018, G Loss: 0.7014\n",
      "\u001b[1m1/1\u001b[0m \u001b[32m━━━━━━━━━━━━━━━━━━━━\u001b[0m\u001b[37m\u001b[0m \u001b[1m0s\u001b[0m 30ms/step\n",
      "Epoch 13: D Loss: 0.7026, G Loss: 0.7018\n",
      "\u001b[1m1/1\u001b[0m \u001b[32m━━━━━━━━━━━━━━━━━━━━\u001b[0m\u001b[37m\u001b[0m \u001b[1m0s\u001b[0m 27ms/step\n",
      "Epoch 14: D Loss: 0.7022, G Loss: 0.7016\n",
      "\u001b[1m1/1\u001b[0m \u001b[32m━━━━━━━━━━━━━━━━━━━━\u001b[0m\u001b[37m\u001b[0m \u001b[1m0s\u001b[0m 37ms/step\n",
      "Epoch 15: D Loss: 0.7026, G Loss: 0.7021\n",
      "\u001b[1m1/1\u001b[0m \u001b[32m━━━━━━━━━━━━━━━━━━━━\u001b[0m\u001b[37m\u001b[0m \u001b[1m0s\u001b[0m 43ms/step\n",
      "Epoch 16: D Loss: 0.7032, G Loss: 0.7028\n",
      "\u001b[1m1/1\u001b[0m \u001b[32m━━━━━━━━━━━━━━━━━━━━\u001b[0m\u001b[37m\u001b[0m \u001b[1m0s\u001b[0m 25ms/step\n",
      "Epoch 17: D Loss: 0.7044, G Loss: 0.7042\n",
      "\u001b[1m1/1\u001b[0m \u001b[32m━━━━━━━━━━━━━━━━━━━━\u001b[0m\u001b[37m\u001b[0m \u001b[1m0s\u001b[0m 37ms/step\n",
      "Epoch 18: D Loss: 0.7044, G Loss: 0.7041\n",
      "\u001b[1m1/1\u001b[0m \u001b[32m━━━━━━━━━━━━━━━━━━━━\u001b[0m\u001b[37m\u001b[0m \u001b[1m0s\u001b[0m 36ms/step\n",
      "Epoch 19: D Loss: 0.7065, G Loss: 0.7064\n",
      "\u001b[1m1/1\u001b[0m \u001b[32m━━━━━━━━━━━━━━━━━━━━\u001b[0m\u001b[37m\u001b[0m \u001b[1m0s\u001b[0m 34ms/step\n",
      "Epoch 20: D Loss: 0.7068, G Loss: 0.7066\n",
      "\u001b[1m1/1\u001b[0m \u001b[32m━━━━━━━━━━━━━━━━━━━━\u001b[0m\u001b[37m\u001b[0m \u001b[1m0s\u001b[0m 29ms/step\n",
      "Epoch 21: D Loss: 0.7074, G Loss: 0.7075\n",
      "\u001b[1m1/1\u001b[0m \u001b[32m━━━━━━━━━━━━━━━━━━━━\u001b[0m\u001b[37m\u001b[0m \u001b[1m0s\u001b[0m 44ms/step\n",
      "Epoch 22: D Loss: 0.7092, G Loss: 0.7090\n",
      "\u001b[1m1/1\u001b[0m \u001b[32m━━━━━━━━━━━━━━━━━━━━\u001b[0m\u001b[37m\u001b[0m \u001b[1m0s\u001b[0m 32ms/step\n",
      "Epoch 23: D Loss: 0.7097, G Loss: 0.7096\n",
      "\u001b[1m1/1\u001b[0m \u001b[32m━━━━━━━━━━━━━━━━━━━━\u001b[0m\u001b[37m\u001b[0m \u001b[1m0s\u001b[0m 44ms/step\n",
      "Epoch 24: D Loss: 0.7095, G Loss: 0.7094\n"
     ]
    }
   ],
   "source": [
    "def train_gan(epochs, batch_size):\n",
    "    real_labels = np.ones((batch_size, 1))  # Label 1 for real data (Yes)\n",
    "    fake_labels = np.zeros((batch_size, 1))  # Label 0 for fake data (No)\n",
    "\n",
    "    for epoch in range(epochs):\n",
    "        # Select a random batch of real samples\n",
    "        idx = np.random.randint(0, normal_genetic_scaled.shape[0], batch_size)\n",
    "        real_samples = normal_genetic_scaled.iloc[idx]  # ✅ Fixed: Use iloc\n",
    "\n",
    "        # Generate fake samples\n",
    "        noise = np.random.normal(0, 1, (batch_size, 100))  # Noise input\n",
    "        fake_samples = generator.predict(noise)\n",
    "\n",
    "        # Train the Discriminator\n",
    "        d_loss_real = discriminator.train_on_batch(real_samples, real_labels)\n",
    "        d_loss_fake = discriminator.train_on_batch(fake_samples, fake_labels)\n",
    "\n",
    "        # Extract loss values properly\n",
    "        d_loss_real_value = d_loss_real[0] if isinstance(d_loss_real, (list, tuple, np.ndarray)) else d_loss_real\n",
    "        d_loss_fake_value = d_loss_fake[0] if isinstance(d_loss_fake, (list, tuple, np.ndarray)) else d_loss_fake\n",
    "        d_loss = 0.5 * (d_loss_real_value + d_loss_fake_value)  # Compute average loss\n",
    "\n",
    "        # Train the Generator\n",
    "        noise = np.random.normal(0, 1, (batch_size, 100))\n",
    "        g_loss_data = gan.train_on_batch(noise, real_labels)\n",
    "\n",
    "        # Extract loss value from g_loss_data\n",
    "        g_loss = g_loss_data[0] if isinstance(g_loss_data, (list, tuple, np.ndarray)) else g_loss_data\n",
    "\n",
    "        # Print loss every 500 epochs\n",
    "        print(f\"Epoch {epoch}: D Loss: {d_loss:.4f}, G Loss: {g_loss:.4f}\")\n",
    "\n",
    "# Train the GAN\n",
    "train_gan(epochs=25, batch_size=16)"
   ]
  },
  {
   "cell_type": "markdown",
   "metadata": {},
   "source": [
    "Generate Synthetic \"No\" Samples for `normal_genetic`"
   ]
  },
  {
   "cell_type": "code",
   "execution_count": null,
   "metadata": {},
   "outputs": [
    {
     "name": "stdout",
     "output_type": "stream",
     "text": [
      "\u001b[1m35/35\u001b[0m \u001b[32m━━━━━━━━━━━━━━━━━━━━\u001b[0m\u001b[37m\u001b[0m \u001b[1m0s\u001b[0m 3ms/step \n",
      "Generated dataset saved successfully!\n",
      "T2D\n",
      "1    2141\n",
      "0    1110\n",
      "Name: count, dtype: int64\n",
      "Null values in IMPUTED_ENCODED: 0\n",
      "Null values in RISK_ALLELE_ENCODED: 0\n",
      "Final columns: Index(['STUDY', 'DISEASE_DESCRIPTION', 'REGION', 'CHR_ID', 'CHR_POS',\n",
      "       'MAPPED_GENE', 'SNP_GENE_IDS', 'SNPS', 'MERGED', 'GENOMIC_CONTEXT',\n",
      "       'INTERGENIC', 'RISK_ALLELE_FREQUENCY', 'PVALUE', 'PVALUE_MLOG',\n",
      "       'EFFECT_SIZE', 'CASE_PERCENTAGE', 'CI_LOWER_BOUND', 'CI_UPPER_BOUND',\n",
      "       'CI_RANGE', 'SNPS_PASSING_QC', 'PLATFORM_AFFYMETRIX',\n",
      "       'PLATFORM_AFFYMETRIX_ILLUMINA', 'PLATFORM_ILLUMINA', 'IMPUTED_ENCODED',\n",
      "       'RISK_ALLELE_ENCODED', 'T2D'],\n",
      "      dtype='object')\n"
     ]
    }
   ],
   "source": [
    "# Step 1: Ensure Generator Inputs Match Expected Noise Dim\n",
    "num_samples = 1110\n",
    "noise_dim = generator.input_shape[1]  # Get correct input size\n",
    "noise = np.random.normal(0, 1, (num_samples, noise_dim))  # Generate noise\n",
    "\n",
    "# Step 2: Generate Fake \"No\" Samples\n",
    "synthetic_no_samples = generator.predict(noise)\n",
    "\n",
    "# Step 3: Apply inverse_transform only on numerical columns\n",
    "synthetic_no_samples_scaled = scaler.inverse_transform(synthetic_no_samples[:, :scaler.scale_.shape[0]])\n",
    "\n",
    "# Step 4: Convert to DataFrame with Correct Column Names\n",
    "synthetic_df = pd.DataFrame(synthetic_no_samples_scaled, columns=normal_genetic.columns[:scaler.scale_.shape[0]])\n",
    "\n",
    "# Step 5: Add Missing Categorical Columns Randomly (Ensure IMPUTED_ENCODED & RISK_ALLELE_ENCODED are added)\n",
    "for col in normal_genetic.columns[scaler.scale_.shape[0]:-1]:  # Exclude target column\n",
    "    if col in [\"IMPUTED_ENCODED\", \"RISK_ALLELE_ENCODED\"]:  # ✅ Ensure these columns are restored\n",
    "        synthetic_df[col] = np.random.choice(normal_genetic[col].values, size=len(synthetic_df))\n",
    "    else:  # ✅ Add all other categorical columns normally\n",
    "        synthetic_df[col] = np.random.choice(normal_genetic[col].values, size=len(synthetic_df))\n",
    "\n",
    "# Step 6: Label Synthetic Samples as \"No\" (0)\n",
    "synthetic_df['T2D'] = 0\n",
    "\n",
    "# Step 7: Label Original Samples as \"Yes\" (1)\n",
    "normal_genetic['T2D'] = 1\n",
    "\n",
    "# Step 8: Combine Real and Synthetic Data\n",
    "balanced_normal_genetic = pd.concat([normal_genetic, synthetic_df], ignore_index=True)\n",
    "\n",
    "# Step 9: Fill Missing `IMPUTED_ENCODED` & `RISK_ALLELE_ENCODED` Values (If Any)\n",
    "for col in [\"IMPUTED_ENCODED\", \"RISK_ALLELE_ENCODED\"]:\n",
    "    if balanced_normal_genetic[col].isnull().sum() > 0:\n",
    "        real_values = balanced_normal_genetic.loc[balanced_normal_genetic['T2D'] == 1, col]\n",
    "        balanced_normal_genetic.loc[balanced_normal_genetic['T2D'] == 0, col] = np.random.choice(\n",
    "            real_values, size=(balanced_normal_genetic['T2D'] == 0).sum(), replace=True\n",
    "        )\n",
    "\n",
    "# Step 10: Check the distribution of labels\n",
    "print(balanced_normal_genetic['T2D'].value_counts())\n",
    "\n",
    "# Step 11: Verify Fixes\n",
    "print(\"Null values in IMPUTED_ENCODED:\", balanced_normal_genetic['IMPUTED_ENCODED'].isnull().sum())\n",
    "print(\"Null values in RISK_ALLELE_ENCODED:\", balanced_normal_genetic['RISK_ALLELE_ENCODED'].isnull().sum())\n",
    "print(\"Final columns:\", balanced_normal_genetic.columns)"
   ]
  },
  {
   "cell_type": "code",
   "execution_count": 169,
   "metadata": {},
   "outputs": [
    {
     "data": {
      "text/html": [
       "<div>\n",
       "<style scoped>\n",
       "    .dataframe tbody tr th:only-of-type {\n",
       "        vertical-align: middle;\n",
       "    }\n",
       "\n",
       "    .dataframe tbody tr th {\n",
       "        vertical-align: top;\n",
       "    }\n",
       "\n",
       "    .dataframe thead th {\n",
       "        text-align: right;\n",
       "    }\n",
       "</style>\n",
       "<table border=\"1\" class=\"dataframe\">\n",
       "  <thead>\n",
       "    <tr style=\"text-align: right;\">\n",
       "      <th></th>\n",
       "      <th>STUDY</th>\n",
       "      <th>DISEASE_DESCRIPTION</th>\n",
       "      <th>REGION</th>\n",
       "      <th>CHR_ID</th>\n",
       "      <th>CHR_POS</th>\n",
       "      <th>MAPPED_GENE</th>\n",
       "      <th>SNP_GENE_IDS</th>\n",
       "      <th>SNPS</th>\n",
       "      <th>MERGED</th>\n",
       "      <th>GENOMIC_CONTEXT</th>\n",
       "      <th>...</th>\n",
       "      <th>CI_LOWER_BOUND</th>\n",
       "      <th>CI_UPPER_BOUND</th>\n",
       "      <th>CI_RANGE</th>\n",
       "      <th>SNPS_PASSING_QC</th>\n",
       "      <th>PLATFORM_AFFYMETRIX</th>\n",
       "      <th>PLATFORM_AFFYMETRIX_ILLUMINA</th>\n",
       "      <th>PLATFORM_ILLUMINA</th>\n",
       "      <th>IMPUTED_ENCODED</th>\n",
       "      <th>RISK_ALLELE_ENCODED</th>\n",
       "      <th>T2D</th>\n",
       "    </tr>\n",
       "  </thead>\n",
       "  <tbody>\n",
       "    <tr>\n",
       "      <th>0</th>\n",
       "      <td>[ 1.53467417e-01 -1.21334471e-01  7.48024210e-...</td>\n",
       "      <td>[ 1.58013031e-01  9.36319865e-03 -6.81496318e-...</td>\n",
       "      <td>[ 3.28317851e-01 -2.22687889e-02  5.97555749e-...</td>\n",
       "      <td>1.0</td>\n",
       "      <td>33480230.0</td>\n",
       "      <td>[ 2.26190373e-01 -3.46414000e-01  2.97874417e-...</td>\n",
       "      <td>121903.0</td>\n",
       "      <td>[ 2.22697318e-01 -1.97786130e-02  3.51657197e-...</td>\n",
       "      <td>0.0</td>\n",
       "      <td>[ 2.30852306e-01 -1.53246507e-01 -5.97583354e-...</td>\n",
       "      <td>...</td>\n",
       "      <td>1.37</td>\n",
       "      <td>2.02</td>\n",
       "      <td>0.65</td>\n",
       "      <td>6906962</td>\n",
       "      <td>0</td>\n",
       "      <td>1</td>\n",
       "      <td>0</td>\n",
       "      <td>1</td>\n",
       "      <td>0.0</td>\n",
       "      <td>1</td>\n",
       "    </tr>\n",
       "    <tr>\n",
       "      <th>1</th>\n",
       "      <td>[ 1.53467417e-01 -1.21334471e-01  7.48024210e-...</td>\n",
       "      <td>[ 1.58013031e-01  9.36319865e-03 -6.81496318e-...</td>\n",
       "      <td>[ 3.28317851e-01 -2.22687889e-02  5.97555749e-...</td>\n",
       "      <td>1.0</td>\n",
       "      <td>33480000.0</td>\n",
       "      <td>[ 2.26190373e-01 -3.46414000e-01  2.97874417e-...</td>\n",
       "      <td>121903.0</td>\n",
       "      <td>[ 1.39127567e-01 -1.73284680e-01  1.08205833e-...</td>\n",
       "      <td>0.0</td>\n",
       "      <td>[ 2.30852306e-01 -1.53246507e-01 -5.97583354e-...</td>\n",
       "      <td>...</td>\n",
       "      <td>1.68</td>\n",
       "      <td>3.17</td>\n",
       "      <td>1.49</td>\n",
       "      <td>6906962</td>\n",
       "      <td>0</td>\n",
       "      <td>1</td>\n",
       "      <td>0</td>\n",
       "      <td>1</td>\n",
       "      <td>1.0</td>\n",
       "      <td>1</td>\n",
       "    </tr>\n",
       "    <tr>\n",
       "      <th>2</th>\n",
       "      <td>[ 4.83314842e-02  1.37150949e-02 -2.07627401e-...</td>\n",
       "      <td>[-1.53973475e-01  1.47206217e-01 -1.56758264e-...</td>\n",
       "      <td>[ 1.94879174e-01 -2.05169976e-01 -5.05079329e-...</td>\n",
       "      <td>7.0</td>\n",
       "      <td>28156794.0</td>\n",
       "      <td>[ 5.20025551e-01 -4.88944441e-01  3.14070396e-...</td>\n",
       "      <td>153814.0</td>\n",
       "      <td>[ 2.49233589e-01 -1.36984721e-01  7.72382393e-...</td>\n",
       "      <td>0.0</td>\n",
       "      <td>[ 2.30852306e-01 -1.53246507e-01 -5.97583354e-...</td>\n",
       "      <td>...</td>\n",
       "      <td>1.08</td>\n",
       "      <td>1.13</td>\n",
       "      <td>0.05</td>\n",
       "      <td>2500000</td>\n",
       "      <td>0</td>\n",
       "      <td>1</td>\n",
       "      <td>0</td>\n",
       "      <td>1</td>\n",
       "      <td>1.0</td>\n",
       "      <td>1</td>\n",
       "    </tr>\n",
       "    <tr>\n",
       "      <th>3</th>\n",
       "      <td>[ 4.83314842e-02  1.37150949e-02 -2.07627401e-...</td>\n",
       "      <td>[-1.53973475e-01  1.47206217e-01 -1.56758264e-...</td>\n",
       "      <td>[ 8.26046243e-02 -1.68427393e-01 -1.87586889e-...</td>\n",
       "      <td>7.0</td>\n",
       "      <td>44205764.0</td>\n",
       "      <td>[ 4.80518907e-01 -3.28171670e-01  3.91541887e-...</td>\n",
       "      <td>106636.0</td>\n",
       "      <td>[ 3.10019791e-01 -2.49393567e-01  1.98352784e-...</td>\n",
       "      <td>0.0</td>\n",
       "      <td>[ 2.30852306e-01 -1.53246507e-01 -5.97583354e-...</td>\n",
       "      <td>...</td>\n",
       "      <td>1.04</td>\n",
       "      <td>1.10</td>\n",
       "      <td>0.06</td>\n",
       "      <td>2500000</td>\n",
       "      <td>0</td>\n",
       "      <td>1</td>\n",
       "      <td>0</td>\n",
       "      <td>1</td>\n",
       "      <td>3.0</td>\n",
       "      <td>1</td>\n",
       "    </tr>\n",
       "    <tr>\n",
       "      <th>4</th>\n",
       "      <td>[ 4.83314842e-02  1.37150949e-02 -2.07627401e-...</td>\n",
       "      <td>[-1.53973475e-01  1.47206217e-01 -1.56758264e-...</td>\n",
       "      <td>[ 2.34241426e-01 -2.30213180e-01  3.73001061e-...</td>\n",
       "      <td>8.0</td>\n",
       "      <td>41661730.0</td>\n",
       "      <td>[ 5.83934963e-01 -4.24800575e-01  8.80361199e-...</td>\n",
       "      <td>29534.0</td>\n",
       "      <td>[ 3.48467588e-01 -1.68800727e-01  1.54673547e-...</td>\n",
       "      <td>0.0</td>\n",
       "      <td>[ 1.23585604e-01 -3.54309492e-02 -3.14229220e-...</td>\n",
       "      <td>...</td>\n",
       "      <td>1.06</td>\n",
       "      <td>1.12</td>\n",
       "      <td>0.06</td>\n",
       "      <td>2500000</td>\n",
       "      <td>0</td>\n",
       "      <td>1</td>\n",
       "      <td>0</td>\n",
       "      <td>1</td>\n",
       "      <td>2.0</td>\n",
       "      <td>1</td>\n",
       "    </tr>\n",
       "  </tbody>\n",
       "</table>\n",
       "<p>5 rows × 26 columns</p>\n",
       "</div>"
      ],
      "text/plain": [
       "                                               STUDY  \\\n",
       "0  [ 1.53467417e-01 -1.21334471e-01  7.48024210e-...   \n",
       "1  [ 1.53467417e-01 -1.21334471e-01  7.48024210e-...   \n",
       "2  [ 4.83314842e-02  1.37150949e-02 -2.07627401e-...   \n",
       "3  [ 4.83314842e-02  1.37150949e-02 -2.07627401e-...   \n",
       "4  [ 4.83314842e-02  1.37150949e-02 -2.07627401e-...   \n",
       "\n",
       "                                 DISEASE_DESCRIPTION  \\\n",
       "0  [ 1.58013031e-01  9.36319865e-03 -6.81496318e-...   \n",
       "1  [ 1.58013031e-01  9.36319865e-03 -6.81496318e-...   \n",
       "2  [-1.53973475e-01  1.47206217e-01 -1.56758264e-...   \n",
       "3  [-1.53973475e-01  1.47206217e-01 -1.56758264e-...   \n",
       "4  [-1.53973475e-01  1.47206217e-01 -1.56758264e-...   \n",
       "\n",
       "                                              REGION  CHR_ID     CHR_POS  \\\n",
       "0  [ 3.28317851e-01 -2.22687889e-02  5.97555749e-...     1.0  33480230.0   \n",
       "1  [ 3.28317851e-01 -2.22687889e-02  5.97555749e-...     1.0  33480000.0   \n",
       "2  [ 1.94879174e-01 -2.05169976e-01 -5.05079329e-...     7.0  28156794.0   \n",
       "3  [ 8.26046243e-02 -1.68427393e-01 -1.87586889e-...     7.0  44205764.0   \n",
       "4  [ 2.34241426e-01 -2.30213180e-01  3.73001061e-...     8.0  41661730.0   \n",
       "\n",
       "                                         MAPPED_GENE  SNP_GENE_IDS  \\\n",
       "0  [ 2.26190373e-01 -3.46414000e-01  2.97874417e-...      121903.0   \n",
       "1  [ 2.26190373e-01 -3.46414000e-01  2.97874417e-...      121903.0   \n",
       "2  [ 5.20025551e-01 -4.88944441e-01  3.14070396e-...      153814.0   \n",
       "3  [ 4.80518907e-01 -3.28171670e-01  3.91541887e-...      106636.0   \n",
       "4  [ 5.83934963e-01 -4.24800575e-01  8.80361199e-...       29534.0   \n",
       "\n",
       "                                                SNPS  MERGED  \\\n",
       "0  [ 2.22697318e-01 -1.97786130e-02  3.51657197e-...     0.0   \n",
       "1  [ 1.39127567e-01 -1.73284680e-01  1.08205833e-...     0.0   \n",
       "2  [ 2.49233589e-01 -1.36984721e-01  7.72382393e-...     0.0   \n",
       "3  [ 3.10019791e-01 -2.49393567e-01  1.98352784e-...     0.0   \n",
       "4  [ 3.48467588e-01 -1.68800727e-01  1.54673547e-...     0.0   \n",
       "\n",
       "                                     GENOMIC_CONTEXT  ...  CI_LOWER_BOUND  \\\n",
       "0  [ 2.30852306e-01 -1.53246507e-01 -5.97583354e-...  ...            1.37   \n",
       "1  [ 2.30852306e-01 -1.53246507e-01 -5.97583354e-...  ...            1.68   \n",
       "2  [ 2.30852306e-01 -1.53246507e-01 -5.97583354e-...  ...            1.08   \n",
       "3  [ 2.30852306e-01 -1.53246507e-01 -5.97583354e-...  ...            1.04   \n",
       "4  [ 1.23585604e-01 -3.54309492e-02 -3.14229220e-...  ...            1.06   \n",
       "\n",
       "   CI_UPPER_BOUND  CI_RANGE  SNPS_PASSING_QC  PLATFORM_AFFYMETRIX  \\\n",
       "0            2.02      0.65          6906962                    0   \n",
       "1            3.17      1.49          6906962                    0   \n",
       "2            1.13      0.05          2500000                    0   \n",
       "3            1.10      0.06          2500000                    0   \n",
       "4            1.12      0.06          2500000                    0   \n",
       "\n",
       "   PLATFORM_AFFYMETRIX_ILLUMINA  PLATFORM_ILLUMINA  IMPUTED_ENCODED  \\\n",
       "0                             1                  0                1   \n",
       "1                             1                  0                1   \n",
       "2                             1                  0                1   \n",
       "3                             1                  0                1   \n",
       "4                             1                  0                1   \n",
       "\n",
       "   RISK_ALLELE_ENCODED  T2D  \n",
       "0                  0.0    1  \n",
       "1                  1.0    1  \n",
       "2                  1.0    1  \n",
       "3                  3.0    1  \n",
       "4                  2.0    1  \n",
       "\n",
       "[5 rows x 26 columns]"
      ]
     },
     "execution_count": 169,
     "metadata": {},
     "output_type": "execute_result"
    }
   ],
   "source": [
    "balanced_normal_genetic.head()"
   ]
  },
  {
   "cell_type": "markdown",
   "metadata": {},
   "source": [
    "Checking null values for `balanced_normal_genetic`"
   ]
  },
  {
   "cell_type": "code",
   "execution_count": 170,
   "metadata": {},
   "outputs": [
    {
     "data": {
      "text/plain": [
       "STUDY                           0\n",
       "DISEASE_DESCRIPTION             0\n",
       "REGION                          0\n",
       "CHR_ID                          0\n",
       "CHR_POS                         0\n",
       "MAPPED_GENE                     0\n",
       "SNP_GENE_IDS                    0\n",
       "SNPS                            0\n",
       "MERGED                          0\n",
       "GENOMIC_CONTEXT                 0\n",
       "INTERGENIC                      0\n",
       "RISK_ALLELE_FREQUENCY           0\n",
       "PVALUE                          0\n",
       "PVALUE_MLOG                     0\n",
       "EFFECT_SIZE                     0\n",
       "CASE_PERCENTAGE                 0\n",
       "CI_LOWER_BOUND                  0\n",
       "CI_UPPER_BOUND                  0\n",
       "CI_RANGE                        0\n",
       "SNPS_PASSING_QC                 0\n",
       "PLATFORM_AFFYMETRIX             0\n",
       "PLATFORM_AFFYMETRIX_ILLUMINA    0\n",
       "PLATFORM_ILLUMINA               0\n",
       "IMPUTED_ENCODED                 0\n",
       "RISK_ALLELE_ENCODED             0\n",
       "T2D                             0\n",
       "dtype: int64"
      ]
     },
     "execution_count": 170,
     "metadata": {},
     "output_type": "execute_result"
    }
   ],
   "source": [
    "balanced_normal_genetic.isnull().sum()"
   ]
  },
  {
   "cell_type": "markdown",
   "metadata": {},
   "source": [
    "Splitting Data"
   ]
  },
  {
   "cell_type": "code",
   "execution_count": 171,
   "metadata": {},
   "outputs": [],
   "source": [
    "# Splitting datasets into training and testing sets\n",
    "from sklearn.model_selection import train_test_split\n",
    "\n",
    "# Splitting African dataset\n",
    "X_train_african, X_test_african, y_train_african, y_test_african = train_test_split(\n",
    "    African.drop('T2D', axis=1), African['T2D'], test_size=0.2, random_state=42\n",
    ")\n",
    "\n",
    "# Splitting Bangladesh dataset\n",
    "X_train_bangladesh, X_test_bangladesh, y_train_bangladesh, y_test_bangladesh = train_test_split(\n",
    "    Bangladesh.drop('T2D', axis=1), Bangladesh['T2D'], test_size=0.2, random_state=42\n",
    ")\n",
    "\n",
    "# Splitting Iraq dataset\n",
    "X_train_iraq, X_test_iraq, y_train_iraq, y_test_iraq = train_test_split(\n",
    "    Iraq.drop('T2D', axis=1), Iraq['T2D'], test_size=0.2, random_state=42\n",
    ")\n",
    "\n",
    "# Splitting Inter Genetic dataset\n",
    "X_train_inter_genetic, X_test_inter_genetic, y_train_inter_genetic, y_test_inter_genetic = train_test_split(\n",
    "    balanced_inter_genetic.drop('T2D', axis=1), balanced_inter_genetic['T2D'], test_size=0.2, random_state=42\n",
    ")\n",
    "\n",
    "# Splitting Normal Genetic dataset\n",
    "X_train_normal_genetic, X_test_normal_genetic, y_train_normal_genetic, y_test_normal_genetic = train_test_split(\n",
    "    balanced_normal_genetic.drop('T2D', axis=1), balanced_normal_genetic['T2D'], test_size=0.2, random_state=42\n",
    ")"
   ]
  },
  {
   "cell_type": "code",
   "execution_count": 172,
   "metadata": {},
   "outputs": [],
   "source": [
    "# Importing necessary libraries\n",
    "from sklearn.preprocessing import StandardScaler\n",
    "import pandas as pd\n",
    "\n",
    "# Initializing the scaler\n",
    "scaler = StandardScaler()\n",
    "\n",
    "# Handling non-numeric data by selecting numeric columns only\n",
    "def preprocess_and_scale(X_train, X_test):\n",
    "    # Selecting only numeric columns\n",
    "    X_train_numeric = X_train.select_dtypes(include=[float, int])\n",
    "    X_test_numeric = X_test.select_dtypes(include=[float, int])\n",
    "    \n",
    "    # Scaling numeric features\n",
    "    X_train_scaled = scaler.fit_transform(X_train_numeric)\n",
    "    X_test_scaled = scaler.transform(X_test_numeric)\n",
    "    \n",
    "    return X_train_scaled, X_test_scaled\n",
    "\n",
    "# Preprocessing and scaling for African dataset\n",
    "X_train_african_scaled, X_test_african_scaled = preprocess_and_scale(\n",
    "    X_train_african, X_test_african\n",
    ")\n",
    "\n",
    "# Preprocessing and scaling for Bangladesh dataset\n",
    "X_train_bangladesh_scaled, X_test_bangladesh_scaled = preprocess_and_scale(\n",
    "    X_train_bangladesh, X_test_bangladesh\n",
    ")\n",
    "\n",
    "# Preprocessing and scaling for Iraq dataset\n",
    "X_train_iraq_scaled, X_test_iraq_scaled = preprocess_and_scale(\n",
    "    X_train_iraq, X_test_iraq\n",
    ")\n",
    "\n",
    "# Preprocessing and scaling for Inter Genetic dataset\n",
    "X_train_inter_genetic_scaled, X_test_inter_genetic_scaled = preprocess_and_scale(\n",
    "    X_train_inter_genetic, X_test_inter_genetic\n",
    ")\n",
    "\n",
    "# Preprocessing and scaling for Normal Genetic dataset\n",
    "X_train_normal_genetic_scaled, X_test_normal_genetic_scaled = preprocess_and_scale(\n",
    "    X_train_normal_genetic, X_test_normal_genetic\n",
    ")"
   ]
  },
  {
   "cell_type": "markdown",
   "metadata": {},
   "source": [
    "# Model Selection "
   ]
  },
  {
   "cell_type": "markdown",
   "metadata": {},
   "source": [
    "Training some machine learning models"
   ]
  },
  {
   "cell_type": "code",
   "execution_count": 173,
   "metadata": {},
   "outputs": [
    {
     "name": "stdout",
     "output_type": "stream",
     "text": [
      "\n",
      "African Dataset Model Selection Results:\n",
      "Logistic Regression: Accuracy = 0.9103\n",
      "Random Forest: Accuracy = 0.9103\n",
      "SVM: Accuracy = 0.8846\n",
      "KNN: Accuracy = 0.8590\n",
      "Gradient Boosting: Accuracy = 0.9103\n",
      "Naive Bayes: Accuracy = 0.8974\n",
      "Decision Tree: Accuracy = 0.8718\n",
      "\n",
      "Bangladesh Dataset Model Selection Results:\n",
      "Logistic Regression: Accuracy = 0.9384\n",
      "Random Forest: Accuracy = 0.9430\n",
      "SVM: Accuracy = 0.9403\n",
      "KNN: Accuracy = 0.9347\n",
      "Gradient Boosting: Accuracy = 0.9421\n",
      "Naive Bayes: Accuracy = 0.9053\n",
      "Decision Tree: Accuracy = 0.9044\n",
      "\n",
      "Iraq Dataset Model Selection Results:\n",
      "Logistic Regression: Accuracy = 0.9810\n",
      "Random Forest: Accuracy = 0.9810\n",
      "SVM: Accuracy = 0.9684\n",
      "KNN: Accuracy = 0.9494\n",
      "Gradient Boosting: Accuracy = 0.9747\n",
      "Naive Bayes: Accuracy = 0.9620\n",
      "Decision Tree: Accuracy = 0.9747\n",
      "\n",
      "Inter Genetic Dataset Model Selection Results:\n",
      "Logistic Regression: Accuracy = 1.0000\n",
      "Random Forest: Accuracy = 1.0000\n",
      "SVM: Accuracy = 0.9977\n",
      "KNN: Accuracy = 1.0000\n",
      "Gradient Boosting: Accuracy = 1.0000\n",
      "Naive Bayes: Accuracy = 1.0000\n",
      "Decision Tree: Accuracy = 1.0000\n",
      "\n",
      "Normal Genetic Dataset Model Selection Results:\n",
      "Logistic Regression: Accuracy = 1.0000\n",
      "Random Forest: Accuracy = 1.0000\n",
      "SVM: Accuracy = 1.0000\n",
      "KNN: Accuracy = 1.0000\n",
      "Gradient Boosting: Accuracy = 1.0000\n",
      "Naive Bayes: Accuracy = 1.0000\n",
      "Decision Tree: Accuracy = 1.0000\n"
     ]
    }
   ],
   "source": [
    "# Importing necessary libraries for model selection\n",
    "from sklearn.linear_model import LogisticRegression\n",
    "from sklearn.ensemble import RandomForestClassifier, GradientBoostingClassifier\n",
    "from sklearn.svm import SVC\n",
    "from sklearn.neighbors import KNeighborsClassifier\n",
    "from sklearn.naive_bayes import GaussianNB\n",
    "from sklearn.tree import DecisionTreeClassifier\n",
    "from sklearn.metrics import accuracy_score\n",
    "\n",
    "# Defining datasets and corresponding scaled data\n",
    "datasets = {\n",
    "    \"African\": (X_train_african_scaled, X_test_african_scaled, y_train_african, y_test_african),\n",
    "    \"Bangladesh\": (X_train_bangladesh_scaled, X_test_bangladesh_scaled, y_train_bangladesh, y_test_bangladesh),\n",
    "    \"Iraq\": (X_train_iraq_scaled, X_test_iraq_scaled, y_train_iraq, y_test_iraq),\n",
    "    \"Inter Genetic\": (X_train_inter_genetic_scaled, X_test_inter_genetic_scaled, y_train_inter_genetic, y_test_inter_genetic),\n",
    "    \"Normal Genetic\": (X_train_normal_genetic_scaled, X_test_normal_genetic_scaled, y_train_normal_genetic, y_test_normal_genetic)\n",
    "}\n",
    "\n",
    "# Models to evaluate\n",
    "models = {\n",
    "    \"Logistic Regression\": LogisticRegression(),\n",
    "    \"Random Forest\": RandomForestClassifier(),\n",
    "    \"SVM\": SVC(),\n",
    "    \"KNN\": KNeighborsClassifier(),\n",
    "    \"Gradient Boosting\": GradientBoostingClassifier(),\n",
    "    \"Naive Bayes\": GaussianNB(),\n",
    "    \"Decision Tree\": DecisionTreeClassifier(),\n",
    "}\n",
    "\n",
    "# Looping through each dataset and evaluating models\n",
    "for dataset_name, (X_train, X_test, y_train, y_test) in datasets.items():\n",
    "    print(f\"\\n{dataset_name} Dataset Model Selection Results:\")\n",
    "    results = {}\n",
    "    for model_name, model in models.items():\n",
    "        model.fit(X_train, y_train)  # Training the model\n",
    "        y_pred = model.predict(X_test)  # Predicting on the test set\n",
    "        accuracy = accuracy_score(y_test, y_pred)  # Calculating accuracy\n",
    "        results[model_name] = accuracy\n",
    "\n",
    "    # Displaying results for the current dataset\n",
    "    for model_name, accuracy in results.items():\n",
    "        print(f\"{model_name}: Accuracy = {accuracy:.4f}\")"
   ]
  },
  {
   "cell_type": "markdown",
   "metadata": {},
   "source": [
    "Subplots of Cross Validation for the best model"
   ]
  },
  {
   "cell_type": "code",
   "execution_count": 174,
   "metadata": {},
   "outputs": [
    {
     "data": {
      "application/vnd.plotly.v1+json": {
       "config": {
        "plotlyServerURL": "https://plot.ly"
       },
       "data": [
        {
         "name": "African Scores",
         "type": "scatter",
         "x": [
          1,
          2,
          3,
          4,
          5,
          6,
          7,
          8,
          9,
          10
         ],
         "xaxis": "x",
         "y": [
          0.875,
          0.9375,
          0.9032258064516129,
          0.9354838709677419,
          0.8709677419354839,
          0.967741935483871,
          0.9032258064516129,
          0.967741935483871,
          0.8709677419354839,
          0.9032258064516129
         ],
         "yaxis": "y"
        },
        {
         "name": "Bangladesh Scores",
         "type": "scatter",
         "x": [
          1,
          2,
          3,
          4,
          5,
          6,
          7,
          8,
          9,
          10
         ],
         "xaxis": "x2",
         "y": [
          0.9517241379310345,
          0.9402298850574713,
          0.9471264367816092,
          0.9517241379310345,
          0.9448275862068966,
          0.9402298850574713,
          0.9540229885057471,
          0.9448275862068966,
          0.9425287356321839,
          0.9539170506912442
         ],
         "yaxis": "y2"
        },
        {
         "name": "Iraq Scores",
         "type": "scatter",
         "x": [
          1,
          2,
          3,
          4,
          5,
          6,
          7,
          8,
          9,
          10
         ],
         "xaxis": "x3",
         "y": [
          0.9841269841269841,
          0.9682539682539683,
          0.9841269841269841,
          1,
          1,
          1,
          0.9841269841269841,
          0.9841269841269841,
          0.9838709677419355,
          0.9838709677419355
         ],
         "yaxis": "y3"
        },
        {
         "name": "Inter Genetic Scores",
         "type": "scatter",
         "x": [
          1,
          2,
          3,
          4,
          5,
          6,
          7,
          8,
          9,
          10
         ],
         "xaxis": "x4",
         "y": [
          1,
          1,
          1,
          1,
          1,
          1,
          1,
          1,
          1,
          1
         ],
         "yaxis": "y4"
        },
        {
         "name": "Normal Genetic Scores",
         "type": "scatter",
         "x": [
          1,
          2,
          3,
          4,
          5,
          6,
          7,
          8,
          9,
          10
         ],
         "xaxis": "x5",
         "y": [
          1,
          1,
          1,
          1,
          1,
          1,
          1,
          1,
          0.9923076923076923,
          1
         ],
         "yaxis": "y5"
        }
       ],
       "layout": {
        "annotations": [
         {
          "font": {
           "size": 16
          },
          "showarrow": false,
          "text": "African (LogisticRegression) Cross Validation Scores",
          "x": 0.5,
          "xanchor": "center",
          "xref": "paper",
          "y": 1,
          "yanchor": "bottom",
          "yref": "paper"
         },
         {
          "font": {
           "size": 16
          },
          "showarrow": false,
          "text": "Bangladesh (RandomForestClassifier) Cross Validation Scores",
          "x": 0.5,
          "xanchor": "center",
          "xref": "paper",
          "y": 0.78,
          "yanchor": "bottom",
          "yref": "paper"
         },
         {
          "font": {
           "size": 16
          },
          "showarrow": false,
          "text": "Iraq (GradientBoostingClassifier) Cross Validation Scores",
          "x": 0.5,
          "xanchor": "center",
          "xref": "paper",
          "y": 0.56,
          "yanchor": "bottom",
          "yref": "paper"
         },
         {
          "font": {
           "size": 16
          },
          "showarrow": false,
          "text": "Inter Genetic (RandomForestClassifier) Cross Validation Scores",
          "x": 0.5,
          "xanchor": "center",
          "xref": "paper",
          "y": 0.33999999999999997,
          "yanchor": "bottom",
          "yref": "paper"
         },
         {
          "font": {
           "size": 16
          },
          "showarrow": false,
          "text": "Normal Genetic (LogisticRegression) Cross Validation Scores",
          "x": 0.5,
          "xanchor": "center",
          "xref": "paper",
          "y": 0.12,
          "yanchor": "bottom",
          "yref": "paper"
         }
        ],
        "height": 1500,
        "showlegend": true,
        "template": {
         "data": {
          "bar": [
           {
            "error_x": {
             "color": "#2a3f5f"
            },
            "error_y": {
             "color": "#2a3f5f"
            },
            "marker": {
             "line": {
              "color": "#E5ECF6",
              "width": 0.5
             },
             "pattern": {
              "fillmode": "overlay",
              "size": 10,
              "solidity": 0.2
             }
            },
            "type": "bar"
           }
          ],
          "barpolar": [
           {
            "marker": {
             "line": {
              "color": "#E5ECF6",
              "width": 0.5
             },
             "pattern": {
              "fillmode": "overlay",
              "size": 10,
              "solidity": 0.2
             }
            },
            "type": "barpolar"
           }
          ],
          "carpet": [
           {
            "aaxis": {
             "endlinecolor": "#2a3f5f",
             "gridcolor": "white",
             "linecolor": "white",
             "minorgridcolor": "white",
             "startlinecolor": "#2a3f5f"
            },
            "baxis": {
             "endlinecolor": "#2a3f5f",
             "gridcolor": "white",
             "linecolor": "white",
             "minorgridcolor": "white",
             "startlinecolor": "#2a3f5f"
            },
            "type": "carpet"
           }
          ],
          "choropleth": [
           {
            "colorbar": {
             "outlinewidth": 0,
             "ticks": ""
            },
            "type": "choropleth"
           }
          ],
          "contour": [
           {
            "colorbar": {
             "outlinewidth": 0,
             "ticks": ""
            },
            "colorscale": [
             [
              0,
              "#0d0887"
             ],
             [
              0.1111111111111111,
              "#46039f"
             ],
             [
              0.2222222222222222,
              "#7201a8"
             ],
             [
              0.3333333333333333,
              "#9c179e"
             ],
             [
              0.4444444444444444,
              "#bd3786"
             ],
             [
              0.5555555555555556,
              "#d8576b"
             ],
             [
              0.6666666666666666,
              "#ed7953"
             ],
             [
              0.7777777777777778,
              "#fb9f3a"
             ],
             [
              0.8888888888888888,
              "#fdca26"
             ],
             [
              1,
              "#f0f921"
             ]
            ],
            "type": "contour"
           }
          ],
          "contourcarpet": [
           {
            "colorbar": {
             "outlinewidth": 0,
             "ticks": ""
            },
            "type": "contourcarpet"
           }
          ],
          "heatmap": [
           {
            "colorbar": {
             "outlinewidth": 0,
             "ticks": ""
            },
            "colorscale": [
             [
              0,
              "#0d0887"
             ],
             [
              0.1111111111111111,
              "#46039f"
             ],
             [
              0.2222222222222222,
              "#7201a8"
             ],
             [
              0.3333333333333333,
              "#9c179e"
             ],
             [
              0.4444444444444444,
              "#bd3786"
             ],
             [
              0.5555555555555556,
              "#d8576b"
             ],
             [
              0.6666666666666666,
              "#ed7953"
             ],
             [
              0.7777777777777778,
              "#fb9f3a"
             ],
             [
              0.8888888888888888,
              "#fdca26"
             ],
             [
              1,
              "#f0f921"
             ]
            ],
            "type": "heatmap"
           }
          ],
          "heatmapgl": [
           {
            "colorbar": {
             "outlinewidth": 0,
             "ticks": ""
            },
            "colorscale": [
             [
              0,
              "#0d0887"
             ],
             [
              0.1111111111111111,
              "#46039f"
             ],
             [
              0.2222222222222222,
              "#7201a8"
             ],
             [
              0.3333333333333333,
              "#9c179e"
             ],
             [
              0.4444444444444444,
              "#bd3786"
             ],
             [
              0.5555555555555556,
              "#d8576b"
             ],
             [
              0.6666666666666666,
              "#ed7953"
             ],
             [
              0.7777777777777778,
              "#fb9f3a"
             ],
             [
              0.8888888888888888,
              "#fdca26"
             ],
             [
              1,
              "#f0f921"
             ]
            ],
            "type": "heatmapgl"
           }
          ],
          "histogram": [
           {
            "marker": {
             "pattern": {
              "fillmode": "overlay",
              "size": 10,
              "solidity": 0.2
             }
            },
            "type": "histogram"
           }
          ],
          "histogram2d": [
           {
            "colorbar": {
             "outlinewidth": 0,
             "ticks": ""
            },
            "colorscale": [
             [
              0,
              "#0d0887"
             ],
             [
              0.1111111111111111,
              "#46039f"
             ],
             [
              0.2222222222222222,
              "#7201a8"
             ],
             [
              0.3333333333333333,
              "#9c179e"
             ],
             [
              0.4444444444444444,
              "#bd3786"
             ],
             [
              0.5555555555555556,
              "#d8576b"
             ],
             [
              0.6666666666666666,
              "#ed7953"
             ],
             [
              0.7777777777777778,
              "#fb9f3a"
             ],
             [
              0.8888888888888888,
              "#fdca26"
             ],
             [
              1,
              "#f0f921"
             ]
            ],
            "type": "histogram2d"
           }
          ],
          "histogram2dcontour": [
           {
            "colorbar": {
             "outlinewidth": 0,
             "ticks": ""
            },
            "colorscale": [
             [
              0,
              "#0d0887"
             ],
             [
              0.1111111111111111,
              "#46039f"
             ],
             [
              0.2222222222222222,
              "#7201a8"
             ],
             [
              0.3333333333333333,
              "#9c179e"
             ],
             [
              0.4444444444444444,
              "#bd3786"
             ],
             [
              0.5555555555555556,
              "#d8576b"
             ],
             [
              0.6666666666666666,
              "#ed7953"
             ],
             [
              0.7777777777777778,
              "#fb9f3a"
             ],
             [
              0.8888888888888888,
              "#fdca26"
             ],
             [
              1,
              "#f0f921"
             ]
            ],
            "type": "histogram2dcontour"
           }
          ],
          "mesh3d": [
           {
            "colorbar": {
             "outlinewidth": 0,
             "ticks": ""
            },
            "type": "mesh3d"
           }
          ],
          "parcoords": [
           {
            "line": {
             "colorbar": {
              "outlinewidth": 0,
              "ticks": ""
             }
            },
            "type": "parcoords"
           }
          ],
          "pie": [
           {
            "automargin": true,
            "type": "pie"
           }
          ],
          "scatter": [
           {
            "fillpattern": {
             "fillmode": "overlay",
             "size": 10,
             "solidity": 0.2
            },
            "type": "scatter"
           }
          ],
          "scatter3d": [
           {
            "line": {
             "colorbar": {
              "outlinewidth": 0,
              "ticks": ""
             }
            },
            "marker": {
             "colorbar": {
              "outlinewidth": 0,
              "ticks": ""
             }
            },
            "type": "scatter3d"
           }
          ],
          "scattercarpet": [
           {
            "marker": {
             "colorbar": {
              "outlinewidth": 0,
              "ticks": ""
             }
            },
            "type": "scattercarpet"
           }
          ],
          "scattergeo": [
           {
            "marker": {
             "colorbar": {
              "outlinewidth": 0,
              "ticks": ""
             }
            },
            "type": "scattergeo"
           }
          ],
          "scattergl": [
           {
            "marker": {
             "colorbar": {
              "outlinewidth": 0,
              "ticks": ""
             }
            },
            "type": "scattergl"
           }
          ],
          "scattermapbox": [
           {
            "marker": {
             "colorbar": {
              "outlinewidth": 0,
              "ticks": ""
             }
            },
            "type": "scattermapbox"
           }
          ],
          "scatterpolar": [
           {
            "marker": {
             "colorbar": {
              "outlinewidth": 0,
              "ticks": ""
             }
            },
            "type": "scatterpolar"
           }
          ],
          "scatterpolargl": [
           {
            "marker": {
             "colorbar": {
              "outlinewidth": 0,
              "ticks": ""
             }
            },
            "type": "scatterpolargl"
           }
          ],
          "scatterternary": [
           {
            "marker": {
             "colorbar": {
              "outlinewidth": 0,
              "ticks": ""
             }
            },
            "type": "scatterternary"
           }
          ],
          "surface": [
           {
            "colorbar": {
             "outlinewidth": 0,
             "ticks": ""
            },
            "colorscale": [
             [
              0,
              "#0d0887"
             ],
             [
              0.1111111111111111,
              "#46039f"
             ],
             [
              0.2222222222222222,
              "#7201a8"
             ],
             [
              0.3333333333333333,
              "#9c179e"
             ],
             [
              0.4444444444444444,
              "#bd3786"
             ],
             [
              0.5555555555555556,
              "#d8576b"
             ],
             [
              0.6666666666666666,
              "#ed7953"
             ],
             [
              0.7777777777777778,
              "#fb9f3a"
             ],
             [
              0.8888888888888888,
              "#fdca26"
             ],
             [
              1,
              "#f0f921"
             ]
            ],
            "type": "surface"
           }
          ],
          "table": [
           {
            "cells": {
             "fill": {
              "color": "#EBF0F8"
             },
             "line": {
              "color": "white"
             }
            },
            "header": {
             "fill": {
              "color": "#C8D4E3"
             },
             "line": {
              "color": "white"
             }
            },
            "type": "table"
           }
          ]
         },
         "layout": {
          "annotationdefaults": {
           "arrowcolor": "#2a3f5f",
           "arrowhead": 0,
           "arrowwidth": 1
          },
          "autotypenumbers": "strict",
          "coloraxis": {
           "colorbar": {
            "outlinewidth": 0,
            "ticks": ""
           }
          },
          "colorscale": {
           "diverging": [
            [
             0,
             "#8e0152"
            ],
            [
             0.1,
             "#c51b7d"
            ],
            [
             0.2,
             "#de77ae"
            ],
            [
             0.3,
             "#f1b6da"
            ],
            [
             0.4,
             "#fde0ef"
            ],
            [
             0.5,
             "#f7f7f7"
            ],
            [
             0.6,
             "#e6f5d0"
            ],
            [
             0.7,
             "#b8e186"
            ],
            [
             0.8,
             "#7fbc41"
            ],
            [
             0.9,
             "#4d9221"
            ],
            [
             1,
             "#276419"
            ]
           ],
           "sequential": [
            [
             0,
             "#0d0887"
            ],
            [
             0.1111111111111111,
             "#46039f"
            ],
            [
             0.2222222222222222,
             "#7201a8"
            ],
            [
             0.3333333333333333,
             "#9c179e"
            ],
            [
             0.4444444444444444,
             "#bd3786"
            ],
            [
             0.5555555555555556,
             "#d8576b"
            ],
            [
             0.6666666666666666,
             "#ed7953"
            ],
            [
             0.7777777777777778,
             "#fb9f3a"
            ],
            [
             0.8888888888888888,
             "#fdca26"
            ],
            [
             1,
             "#f0f921"
            ]
           ],
           "sequentialminus": [
            [
             0,
             "#0d0887"
            ],
            [
             0.1111111111111111,
             "#46039f"
            ],
            [
             0.2222222222222222,
             "#7201a8"
            ],
            [
             0.3333333333333333,
             "#9c179e"
            ],
            [
             0.4444444444444444,
             "#bd3786"
            ],
            [
             0.5555555555555556,
             "#d8576b"
            ],
            [
             0.6666666666666666,
             "#ed7953"
            ],
            [
             0.7777777777777778,
             "#fb9f3a"
            ],
            [
             0.8888888888888888,
             "#fdca26"
            ],
            [
             1,
             "#f0f921"
            ]
           ]
          },
          "colorway": [
           "#636efa",
           "#EF553B",
           "#00cc96",
           "#ab63fa",
           "#FFA15A",
           "#19d3f3",
           "#FF6692",
           "#B6E880",
           "#FF97FF",
           "#FECB52"
          ],
          "font": {
           "color": "#2a3f5f"
          },
          "geo": {
           "bgcolor": "white",
           "lakecolor": "white",
           "landcolor": "#E5ECF6",
           "showlakes": true,
           "showland": true,
           "subunitcolor": "white"
          },
          "hoverlabel": {
           "align": "left"
          },
          "hovermode": "closest",
          "mapbox": {
           "style": "light"
          },
          "paper_bgcolor": "white",
          "plot_bgcolor": "#E5ECF6",
          "polar": {
           "angularaxis": {
            "gridcolor": "white",
            "linecolor": "white",
            "ticks": ""
           },
           "bgcolor": "#E5ECF6",
           "radialaxis": {
            "gridcolor": "white",
            "linecolor": "white",
            "ticks": ""
           }
          },
          "scene": {
           "xaxis": {
            "backgroundcolor": "#E5ECF6",
            "gridcolor": "white",
            "gridwidth": 2,
            "linecolor": "white",
            "showbackground": true,
            "ticks": "",
            "zerolinecolor": "white"
           },
           "yaxis": {
            "backgroundcolor": "#E5ECF6",
            "gridcolor": "white",
            "gridwidth": 2,
            "linecolor": "white",
            "showbackground": true,
            "ticks": "",
            "zerolinecolor": "white"
           },
           "zaxis": {
            "backgroundcolor": "#E5ECF6",
            "gridcolor": "white",
            "gridwidth": 2,
            "linecolor": "white",
            "showbackground": true,
            "ticks": "",
            "zerolinecolor": "white"
           }
          },
          "shapedefaults": {
           "line": {
            "color": "#2a3f5f"
           }
          },
          "ternary": {
           "aaxis": {
            "gridcolor": "white",
            "linecolor": "white",
            "ticks": ""
           },
           "baxis": {
            "gridcolor": "white",
            "linecolor": "white",
            "ticks": ""
           },
           "bgcolor": "#E5ECF6",
           "caxis": {
            "gridcolor": "white",
            "linecolor": "white",
            "ticks": ""
           }
          },
          "title": {
           "x": 0.05
          },
          "xaxis": {
           "automargin": true,
           "gridcolor": "white",
           "linecolor": "white",
           "ticks": "",
           "title": {
            "standoff": 15
           },
           "zerolinecolor": "white",
           "zerolinewidth": 2
          },
          "yaxis": {
           "automargin": true,
           "gridcolor": "white",
           "linecolor": "white",
           "ticks": "",
           "title": {
            "standoff": 15
           },
           "zerolinecolor": "white",
           "zerolinewidth": 2
          }
         }
        },
        "title": {
         "text": "10-Fold Cross Validation for Best Models Across Datasets"
        },
        "width": 1200,
        "xaxis": {
         "anchor": "y",
         "domain": [
          0,
          1
         ],
         "matches": "x5",
         "showticklabels": false,
         "title": {
          "text": "Fold #"
         }
        },
        "xaxis2": {
         "anchor": "y2",
         "domain": [
          0,
          1
         ],
         "matches": "x5",
         "showticklabels": false,
         "title": {
          "text": "Fold #"
         }
        },
        "xaxis3": {
         "anchor": "y3",
         "domain": [
          0,
          1
         ],
         "matches": "x5",
         "showticklabels": false,
         "title": {
          "text": "Fold #"
         }
        },
        "xaxis4": {
         "anchor": "y4",
         "domain": [
          0,
          1
         ],
         "matches": "x5",
         "showticklabels": false,
         "title": {
          "text": "Fold #"
         }
        },
        "xaxis5": {
         "anchor": "y5",
         "domain": [
          0,
          1
         ],
         "title": {
          "text": "Fold #"
         }
        },
        "yaxis": {
         "anchor": "x",
         "domain": [
          0.88,
          1
         ],
         "title": {
          "text": "Accuracy Score"
         }
        },
        "yaxis2": {
         "anchor": "x2",
         "domain": [
          0.66,
          0.78
         ],
         "title": {
          "text": "Accuracy Score"
         }
        },
        "yaxis3": {
         "anchor": "x3",
         "domain": [
          0.44,
          0.56
         ],
         "title": {
          "text": "Accuracy Score"
         }
        },
        "yaxis4": {
         "anchor": "x4",
         "domain": [
          0.22,
          0.33999999999999997
         ],
         "title": {
          "text": "Accuracy Score"
         }
        },
        "yaxis5": {
         "anchor": "x5",
         "domain": [
          0,
          0.12
         ],
         "title": {
          "text": "Accuracy Score"
         }
        }
       }
      }
     },
     "metadata": {},
     "output_type": "display_data"
    }
   ],
   "source": [
    "import plotly.graph_objects as go\n",
    "from plotly.subplots import make_subplots\n",
    "from sklearn.model_selection import cross_val_score\n",
    "from sklearn.linear_model import LogisticRegression\n",
    "from sklearn.ensemble import RandomForestClassifier, GradientBoostingClassifier\n",
    "\n",
    "# Define the best models for each dataset\n",
    "best_models_mapping = {\n",
    "    \"African\": LogisticRegression(),\n",
    "    \"Bangladesh\": RandomForestClassifier(),\n",
    "    \"Iraq\": GradientBoostingClassifier(),\n",
    "    \"Inter Genetic\": RandomForestClassifier(),\n",
    "    \"Normal Genetic\": LogisticRegression(),\n",
    "}\n",
    "\n",
    "# Define datasets (replace with actual variable names)\n",
    "datasets = {\n",
    "    \"African\": (X_train_african_scaled, y_train_african),  # Update with correct dataset variable names\n",
    "    \"Bangladesh\": (X_train_bangladesh_scaled, y_train_bangladesh),\n",
    "    \"Iraq\": (X_train_iraq_scaled, y_train_iraq),\n",
    "    \"Inter Genetic\": (X_train_inter_genetic_scaled, y_train_inter_genetic),\n",
    "    \"Normal Genetic\": (X_train_normal_genetic_scaled, y_train_normal_genetic),\n",
    "}\n",
    "\n",
    "cv_folds = 10  # Number of cross-validation folds\n",
    "cv_scores = {}\n",
    "\n",
    "# Perform cross-validation for each dataset's best model\n",
    "for dataset_name, (X, y) in datasets.items():\n",
    "    model = best_models_mapping[dataset_name]\n",
    "    scores = cross_val_score(model, X, y, cv=cv_folds)\n",
    "    cv_scores[dataset_name] = scores\n",
    "\n",
    "# Create subplots for each dataset's best model\n",
    "fig = make_subplots(\n",
    "    rows=len(datasets), cols=1, shared_xaxes=True,\n",
    "    subplot_titles=[f\"{dataset} ({best_models_mapping[dataset].__class__.__name__}) Cross Validation Scores\" \n",
    "                    for dataset in datasets.keys()]\n",
    ")\n",
    "\n",
    "# Add traces for each dataset's best model\n",
    "for i, (dataset_name, scores) in enumerate(cv_scores.items(), start=1):\n",
    "    fig.add_trace(\n",
    "        go.Scatter(x=list(range(1, len(scores) + 1)), y=scores, name=f\"{dataset_name} Scores\"),\n",
    "        row=i, col=1\n",
    "    )\n",
    "\n",
    "# Update layout\n",
    "fig.update_layout(\n",
    "    height=1500, width=1200,\n",
    "    title_text=\"10-Fold Cross Validation for Best Models Across Datasets\",\n",
    "    showlegend=True\n",
    ")\n",
    "fig.update_yaxes(title_text=\"Accuracy Score\")\n",
    "fig.update_xaxes(title_text=\"Fold #\")\n",
    "\n",
    "# Show the figure\n",
    "fig.show()"
   ]
  },
  {
   "cell_type": "markdown",
   "metadata": {},
   "source": [
    "Confusion Matrix, Accuracy, and Classification Report"
   ]
  },
  {
   "cell_type": "code",
   "execution_count": 175,
   "metadata": {},
   "outputs": [
    {
     "name": "stdout",
     "output_type": "stream",
     "text": [
      "\n",
      "==================== African ====================\n",
      "Confusion Matrix:\n",
      "[[265   3]\n",
      " [ 18  26]]\n",
      "\n",
      "Accuracy: 0.93\n",
      "\n",
      "Classification Report:\n",
      "              precision    recall  f1-score   support\n",
      "\n",
      "           0       0.94      0.99      0.96       268\n",
      "           1       0.90      0.59      0.71        44\n",
      "\n",
      "    accuracy                           0.93       312\n",
      "   macro avg       0.92      0.79      0.84       312\n",
      "weighted avg       0.93      0.93      0.93       312\n",
      "\n",
      "============================================================\n",
      "\n",
      "==================== Bangladesh ====================\n",
      "Confusion Matrix:\n",
      "[[4069    0]\n",
      " [   1  279]]\n",
      "\n",
      "Accuracy: 1.00\n",
      "\n",
      "Classification Report:\n",
      "              precision    recall  f1-score   support\n",
      "\n",
      "           0       1.00      1.00      1.00      4069\n",
      "           1       1.00      1.00      1.00       280\n",
      "\n",
      "    accuracy                           1.00      4349\n",
      "   macro avg       1.00      1.00      1.00      4349\n",
      "weighted avg       1.00      1.00      1.00      4349\n",
      "\n",
      "============================================================\n",
      "\n",
      "==================== Iraq ====================\n",
      "Confusion Matrix:\n",
      "[[555   0]\n",
      " [  0  73]]\n",
      "\n",
      "Accuracy: 1.00\n",
      "\n",
      "Classification Report:\n",
      "              precision    recall  f1-score   support\n",
      "\n",
      "           0       1.00      1.00      1.00       555\n",
      "           1       1.00      1.00      1.00        73\n",
      "\n",
      "    accuracy                           1.00       628\n",
      "   macro avg       1.00      1.00      1.00       628\n",
      "weighted avg       1.00      1.00      1.00       628\n",
      "\n",
      "============================================================\n",
      "\n",
      "==================== Inter Genetic ====================\n",
      "Confusion Matrix:\n",
      "[[886   0]\n",
      " [  0 890]]\n",
      "\n",
      "Accuracy: 1.00\n",
      "\n",
      "Classification Report:\n",
      "              precision    recall  f1-score   support\n",
      "\n",
      "           0       1.00      1.00      1.00       886\n",
      "           1       1.00      1.00      1.00       890\n",
      "\n",
      "    accuracy                           1.00      1776\n",
      "   macro avg       1.00      1.00      1.00      1776\n",
      "weighted avg       1.00      1.00      1.00      1776\n",
      "\n",
      "============================================================\n",
      "\n",
      "==================== Normal Genetic ====================\n",
      "Confusion Matrix:\n",
      "[[ 894    0]\n",
      " [   0 1706]]\n",
      "\n",
      "Accuracy: 1.00\n",
      "\n",
      "Classification Report:\n",
      "              precision    recall  f1-score   support\n",
      "\n",
      "           0       1.00      1.00      1.00       894\n",
      "           1       1.00      1.00      1.00      1706\n",
      "\n",
      "    accuracy                           1.00      2600\n",
      "   macro avg       1.00      1.00      1.00      2600\n",
      "weighted avg       1.00      1.00      1.00      2600\n",
      "\n",
      "============================================================\n"
     ]
    }
   ],
   "source": [
    "from sklearn.metrics import accuracy_score, classification_report, confusion_matrix\n",
    "\n",
    "# Dictionary to store evaluation metrics\n",
    "evaluation_results = {}\n",
    "\n",
    "# Compute confusion matrix, accuracy, and classification report for each dataset's best model\n",
    "for dataset_name, (X, y) in datasets.items():  # Updated to match (X, y) structure\n",
    "    model = best_models_mapping[dataset_name]\n",
    "    model.fit(X, y)  # Train the model\n",
    "    y_pred = model.predict(X)  # Predict on the same dataset (to evaluate performance)\n",
    "\n",
    "    # Compute confusion matrix\n",
    "    cm = confusion_matrix(y, y_pred)\n",
    "\n",
    "    # Compute accuracy\n",
    "    accuracy = accuracy_score(y, y_pred)\n",
    "\n",
    "    # Compute classification report\n",
    "    class_report = classification_report(y, y_pred, digits=2)\n",
    "\n",
    "    # Store results\n",
    "    evaluation_results[dataset_name] = {\n",
    "        \"Confusion Matrix\": cm,\n",
    "        \"Accuracy\": accuracy,\n",
    "        \"Classification Report\": class_report\n",
    "    }\n",
    "\n",
    "# Print evaluation results for each dataset\n",
    "for dataset_name, results in evaluation_results.items():\n",
    "    print(f\"\\n{'='*20} {dataset_name} {'='*20}\")\n",
    "    print(\"Confusion Matrix:\")\n",
    "    print(results[\"Confusion Matrix\"])\n",
    "    print(f\"\\nAccuracy: {results['Accuracy']:.2f}\")\n",
    "    print(\"\\nClassification Report:\")\n",
    "    print(results[\"Classification Report\"])\n",
    "    print(\"=\"*60)"
   ]
  },
  {
   "cell_type": "markdown",
   "metadata": {},
   "source": [
    "ROC Curves for Best Models"
   ]
  },
  {
   "cell_type": "code",
   "execution_count": 176,
   "metadata": {},
   "outputs": [
    {
     "data": {
      "image/png": "[encoded data removed]",
      "text/plain": [
       "<Figure size 1000x800 with 1 Axes>"
      ]
     },
     "metadata": {},
     "output_type": "display_data"
    }
   ],
   "source": [
    "import matplotlib.pyplot as plt\n",
    "from sklearn.model_selection import train_test_split\n",
    "from sklearn.metrics import roc_curve, auc\n",
    "\n",
    "# Dictionary to store ROC curve data\n",
    "roc_data = {}\n",
    "\n",
    "# Compute ROC curve for each dataset's best model\n",
    "for dataset_name, (X, y) in datasets.items():\n",
    "    # Split the data (80% train, 20% test)\n",
    "    X_train, X_test, y_train, y_test = train_test_split(X, y, test_size=0.2, random_state=42)\n",
    "\n",
    "    # Get the best model for this dataset\n",
    "    model = best_models_mapping[dataset_name]\n",
    "    model.fit(X_train, y_train)  # Train the model\n",
    "    y_pred_prob = model.predict_proba(X_test)[:, 1]  # Get probability estimates for class 1\n",
    "\n",
    "    # Compute ROC curve\n",
    "    fpr, tpr, _ = roc_curve(y_test, y_pred_prob)\n",
    "    roc_auc = auc(fpr, tpr)\n",
    "\n",
    "    # Store results\n",
    "    roc_data[dataset_name] = (fpr, tpr, roc_auc)\n",
    "\n",
    "# Plot ROC curves for all datasets\n",
    "plt.figure(figsize=(10, 8))\n",
    "for dataset_name, (fpr, tpr, roc_auc) in roc_data.items():\n",
    "    plt.plot(fpr, tpr, label=f\"{dataset_name} (AUC = {roc_auc:.2f})\")\n",
    "\n",
    "plt.plot([0, 1], [0, 1], linestyle='--', color='gray')  # Diagonal reference line\n",
    "plt.xlabel(\"False Positive Rate\")\n",
    "plt.ylabel(\"True Positive Rate\")\n",
    "plt.title(\"Receiver Operating Characteristic (ROC) Curve\")\n",
    "plt.legend(loc=\"lower right\")\n",
    "plt.grid()\n",
    "plt.show()"
   ]
  },
  {
   "cell_type": "markdown",
   "metadata": {},
   "source": [
    "Feature Importance"
   ]
  },
  {
   "cell_type": "code",
   "execution_count": 184,
   "metadata": {},
   "outputs": [
    {
     "data": {
      "image/png": "[encoded data removed]",
      "text/plain": [
       "<Figure size 1200x800 with 1 Axes>"
      ]
     },
     "metadata": {},
     "output_type": "display_data"
    },
    {
     "data": {
      "image/png": "[encoded data removed]",
      "text/plain": [
       "<Figure size 1200x800 with 1 Axes>"
      ]
     },
     "metadata": {},
     "output_type": "display_data"
    },
    {
     "data": {
      "image/png": "[encoded data removed]",
      "text/plain": [
       "<Figure size 1200x800 with 1 Axes>"
      ]
     },
     "metadata": {},
     "output_type": "display_data"
    },
    {
     "data": {
      "image/png": "[encoded data removed]",
      "text/plain": [
       "<Figure size 1200x800 with 1 Axes>"
      ]
     },
     "metadata": {},
     "output_type": "display_data"
    },
    {
     "data": {
      "image/png": "[encoded data removed]",
      "text/plain": [
       "<Figure size 1200x800 with 1 Axes>"
      ]
     },
     "metadata": {},
     "output_type": "display_data"
    }
   ],
   "source": [
    "import matplotlib.pyplot as plt\n",
    "import numpy as np\n",
    "import seaborn as sns\n",
    "from sklearn.model_selection import train_test_split\n",
    "\n",
    "# Define a color palette for different datasets\n",
    "color_palette = sns.color_palette(\"husl\", len(datasets))  # Assign unique colors\n",
    "\n",
    "# Loop through all datasets and generate feature importance plots\n",
    "for i, (dataset_name, (X, y)) in enumerate(datasets.items()):\n",
    "    # Ensure feature importance is available\n",
    "    if dataset_name not in feature_importance_results:\n",
    "        print(f\"⚠ Warning: No feature importance data for {dataset_name}. Skipping...\")\n",
    "        continue\n",
    "\n",
    "    # Split data into training and testing (80% train, 20% test)\n",
    "    X_train, X_test, y_train, y_test = train_test_split(X, y, test_size=0.2, random_state=42)\n",
    "\n",
    "    feature_importances = feature_importance_results[dataset_name]\n",
    "\n",
    "    # Get correct feature names\n",
    "    feature_names = X_train.columns if hasattr(X_train, \"columns\") else [f\"Feature {i}\" for i in range(len(feature_importances))]\n",
    "\n",
    "    # Sort feature importances in descending order\n",
    "    sorted_indices = np.argsort(feature_importances)[::-1]\n",
    "    sorted_features = np.array(feature_names)[sorted_indices]\n",
    "    sorted_importances = feature_importances[sorted_indices]\n",
    "\n",
    "    # Create horizontal bar plot with unique color for each dataset\n",
    "    plt.figure(figsize=(12, 8))\n",
    "    bars = plt.barh(sorted_features, sorted_importances, color=color_palette[i])\n",
    "\n",
    "    # Add labels on bars\n",
    "    for bar, value in zip(bars, sorted_importances):\n",
    "        plt.text(bar.get_width(), bar.get_y() + bar.get_height()/2, f\"{value:.3f}\", va='center')\n",
    "\n",
    "    # Enhance appearance\n",
    "    plt.xlabel(\"Importance Score\", fontsize=12)\n",
    "    plt.ylabel(\"Features\", fontsize=12)\n",
    "    plt.title(f\"Feature Importance - {dataset_name}\", fontsize=14)\n",
    "    plt.gca().invert_yaxis()  # Highest importance on top\n",
    "    plt.grid(axis=\"x\", linestyle=\"--\", alpha=0.7)\n",
    "\n",
    "    # Show plot\n",
    "    plt.show()"
   ]
  },
  {
   "cell_type": "markdown",
   "metadata": {},
   "source": [
    "# Data Fusion"
   ]
  }
 ],
 "metadata": {
  "kernelspec": {
   "display_name": "base",
   "language": "python",
   "name": "python3"
  },
  "language_info": {
   "codemirror_mode": {
    "name": "ipython",
    "version": 3
   },
   "file_extension": ".py",
   "mimetype": "text/x-python",
   "name": "python",
   "nbconvert_exporter": "python",
   "pygments_lexer": "ipython3",
   "version": "3.11.7"
  }
 },
 "nbformat": 4,
 "nbformat_minor": 2
}
