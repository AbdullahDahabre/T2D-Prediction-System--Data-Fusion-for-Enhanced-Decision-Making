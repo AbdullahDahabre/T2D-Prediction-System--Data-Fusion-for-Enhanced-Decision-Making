{
 "cells": [
  {
   "cell_type": "markdown",
   "metadata": {},
   "source": [
    "# Exploratory Data Analysis (EDA)"
   ]
  },
  {
   "cell_type": "markdown",
   "metadata": {},
   "source": [
    "# Importing Libraries"
   ]
  },
  {
   "cell_type": "code",
   "execution_count": null,
   "metadata": {
    "ExecuteTime": {
     "end_time": "2025-02-18T15:12:53.854083600Z",
     "start_time": "2025-02-18T15:12:41.761926600Z"
    }
   },
   "outputs": [],
   "source": [
    "# Data handling and analysis\n",
    "import numpy as np\n",
    "import pandas as pd\n",
    "\n",
    "# Visualization\n",
    "import matplotlib.pyplot as plt\n",
    "import seaborn as sns\n",
    "import plotly.graph_objects as go\n",
    "from plotly.subplots import make_subplots\n",
    "\n",
    "# Machine learning: splitting, scaling, balancing, metrics, utils\n",
    "from sklearn.model_selection import train_test_split, cross_val_score\n",
    "from sklearn.preprocessing import StandardScaler, MinMaxScaler\n",
    "from sklearn.impute import SimpleImputer\n",
    "from sklearn.utils import class_weight\n",
    "from sklearn.metrics import (\n",
    "    accuracy_score, roc_auc_score, average_precision_score,\n",
    "    confusion_matrix, roc_curve, auc\n",
    ")\n",
    "from sklearn.inspection import permutation_importance\n",
    "from sklearn.linear_model import LogisticRegression\n",
    "from sklearn.ensemble import RandomForestClassifier, GradientBoostingClassifier\n",
    "\n",
    "# Imbalanced learning\n",
    "from imblearn.over_sampling import SMOTE\n",
    "\n",
    "# Deep learning: TensorFlow / Keras\n",
    "import tensorflow as tf\n",
    "from tensorflow.keras.layers import (\n",
    "    Input, Dense, BatchNormalization, Dropout, Concatenate,\n",
    "    Add, Multiply, LeakyReLU\n",
    ")\n",
    "from tensorflow.keras.models import Model, Sequential\n",
    "from tensorflow.keras.regularizers import l2\n",
    "from tensorflow.keras.optimizers import Adam\n",
    "from tensorflow.keras.callbacks import EarlyStopping, ReduceLROnPlateau, Callback\n",
    "from tensorflow.keras.metrics import AUC\n",
    "\n",
    "# Model persistence\n",
    "import joblib\n",
    "\n",
    "# Utilities\n",
    "import time\n",
    "import warnings\n",
    "from math import ceil\n",
    "\n",
    "# Ignore warnings for clean output\n",
    "warnings.filterwarnings('ignore')"
   ]
  },
  {
   "cell_type": "markdown",
   "metadata": {},
   "source": [
    "Loading Datasets"
   ]
  },
  {
   "cell_type": "code",
   "execution_count": 47,
   "metadata": {
    "ExecuteTime": {
     "end_time": "2025-02-18T15:36:25.581539600Z",
     "start_time": "2025-02-18T15:36:25.297433200Z"
    }
   },
   "outputs": [],
   "source": [
    "# Clinical Datasets\n",
    "African = pd.read_csv(\"/Users/mohammedbasem/Desktop/T2D-Prediction-System--Data-Fusion-for-Enhanced-Decision-Making/processed_datasets/clinical/African_pro.csv\")\n",
    "Bangladesh = pd.read_csv(\"/Users/mohammedbasem/Desktop/T2D-Prediction-System--Data-Fusion-for-Enhanced-Decision-Making/processed_datasets/clinical/Bangladesh_pro.csv\")\n",
    "Iraq = pd.read_csv(\"/Users/mohammedbasem/Desktop/T2D-Prediction-System--Data-Fusion-for-Enhanced-Decision-Making/processed_datasets/clinical/Iraq_pro.csv\")\n",
    "\n",
    "# Genetic Datasets\n",
    "inter_genetic = pd.read_csv(\"/Users/mohammedbasem/Desktop/T2D-Prediction-System--Data-Fusion-for-Enhanced-Decision-Making/processed_datasets/genetic/inter_genetic_dataset.csv\")\n",
    "normal_genetic = pd.read_csv(\"/Users/mohammedbasem/Desktop/T2D-Prediction-System--Data-Fusion-for-Enhanced-Decision-Making/processed_datasets/genetic/normal_genetic_dataset.csv\")"
   ]
  },
  {
   "cell_type": "markdown",
   "metadata": {},
   "source": [
    "Checking Target Columns"
   ]
  },
  {
   "cell_type": "code",
   "execution_count": 48,
   "metadata": {},
   "outputs": [
    {
     "name": "stdout",
     "output_type": "stream",
     "text": [
      "Index(['Cholesterol', 'Glucose', 'HDL Chol', 'Chol/HDL ratio', 'Age', 'Gender',\n",
      "       'Height', 'Weight', 'BMI', 'Systolic BP', 'Diastolic BP', 'waist',\n",
      "       'hip', 'Waist/hip ratio', 'Diabetes'],\n",
      "      dtype='object') \n",
      "\n",
      "Index(['age', 'pulse_rate', 'systolic_bp', 'diastolic_bp', 'glucose', 'height',\n",
      "       'weight', 'bmi', 'family_diabetes', 'hypertensive',\n",
      "       'family_hypertension', 'cardiovascular_disease', 'stroke',\n",
      "       'gender_Encoded', 'diabetic_Encoded'],\n",
      "      dtype='object') \n",
      "\n",
      "Index(['Age', 'Urea', 'Cr', 'HbA1c', 'Chol', 'TG', 'HDL', 'LDL', 'VLDL', 'BMI',\n",
      "       'Gender_Encoded', 'Class_Encoded'],\n",
      "      dtype='object') \n",
      "\n",
      "Index(['STUDY', 'DISEASE_DESCRIPTION', 'REGION', 'CHR_ID', 'CHR_POS',\n",
      "       'MAPPED_GENE', 'UPSTREAM_GENE_ID', 'DOWNSTREAM_GENE_ID',\n",
      "       'UPSTREAM_GENE_DISTANCE', 'DOWNSTREAM_GENE_DISTANCE', 'SNPS', 'MERGED',\n",
      "       'GENOMIC_CONTEXT', 'INTERGENIC', 'RISK_ALLELE_FREQUENCY', 'PVALUE',\n",
      "       'PVALUE_MLOG', 'EFFECT_SIZE', 'CASE_PERCENTAGE', 'CI_LOWER_BOUND',\n",
      "       'CI_UPPER_BOUND', 'CI_RANGE', 'SNPS_PASSING_QC', 'PLATFORM_AFFYMETRIX',\n",
      "       'PLATFORM_AFFYMETRIX_ILLUMINA', 'PLATFORM_ILLUMINA', 'IMPUTED_ENCODED',\n",
      "       'RISK_ALLELE_ENCODED'],\n",
      "      dtype='object') \n",
      "\n",
      "Index(['STUDY', 'DISEASE_DESCRIPTION', 'REGION', 'CHR_ID', 'CHR_POS',\n",
      "       'MAPPED_GENE', 'SNP_GENE_IDS', 'SNPS', 'MERGED', 'GENOMIC_CONTEXT',\n",
      "       'INTERGENIC', 'RISK_ALLELE_FREQUENCY', 'PVALUE', 'PVALUE_MLOG',\n",
      "       'EFFECT_SIZE', 'CASE_PERCENTAGE', 'CI_LOWER_BOUND', 'CI_UPPER_BOUND',\n",
      "       'CI_RANGE', 'SNPS_PASSING_QC', 'PLATFORM_AFFYMETRIX',\n",
      "       'PLATFORM_AFFYMETRIX_ILLUMINA', 'PLATFORM_ILLUMINA', 'IMPUTED_ENCODED',\n",
      "       'RISK_ALLELE_ENCODED'],\n",
      "      dtype='object')\n"
     ]
    }
   ],
   "source": [
    "print(African.columns, \"\\n\")\n",
    "print(Bangladesh.columns, \"\\n\")\n",
    "print(Iraq.columns, \"\\n\")\n",
    "print(inter_genetic.columns, \"\\n\")\n",
    "print(normal_genetic.columns)"
   ]
  },
  {
   "cell_type": "markdown",
   "metadata": {},
   "source": [
    "Checking Data Types "
   ]
  },
  {
   "cell_type": "code",
   "execution_count": 49,
   "metadata": {},
   "outputs": [
    {
     "name": "stdout",
     "output_type": "stream",
     "text": [
      "Cholesterol          int64\n",
      "Glucose              int64\n",
      "HDL Chol             int64\n",
      "Chol/HDL ratio     float64\n",
      "Age                  int64\n",
      "Gender               int64\n",
      "Height               int64\n",
      "Weight               int64\n",
      "BMI                float64\n",
      "Systolic BP          int64\n",
      "Diastolic BP         int64\n",
      "waist                int64\n",
      "hip                  int64\n",
      "Waist/hip ratio    float64\n",
      "Diabetes             int64\n",
      "dtype: object \n",
      "\n",
      "age                         int64\n",
      "pulse_rate                  int64\n",
      "systolic_bp                 int64\n",
      "diastolic_bp                int64\n",
      "glucose                   float64\n",
      "height                    float64\n",
      "weight                    float64\n",
      "bmi                       float64\n",
      "family_diabetes             int64\n",
      "hypertensive                int64\n",
      "family_hypertension         int64\n",
      "cardiovascular_disease      int64\n",
      "stroke                      int64\n",
      "gender_Encoded              int64\n",
      "diabetic_Encoded            int64\n",
      "dtype: object \n",
      "\n",
      "Age                 int64\n",
      "Urea              float64\n",
      "Cr                  int64\n",
      "HbA1c             float64\n",
      "Chol              float64\n",
      "TG                float64\n",
      "HDL               float64\n",
      "LDL               float64\n",
      "VLDL              float64\n",
      "BMI               float64\n",
      "Gender_Encoded      int64\n",
      "Class_Encoded       int64\n",
      "dtype: object \n",
      "\n",
      "STUDY                            object\n",
      "DISEASE_DESCRIPTION              object\n",
      "REGION                           object\n",
      "CHR_ID                            int64\n",
      "CHR_POS                           int64\n",
      "MAPPED_GENE                      object\n",
      "UPSTREAM_GENE_ID                  int64\n",
      "DOWNSTREAM_GENE_ID                int64\n",
      "UPSTREAM_GENE_DISTANCE            int64\n",
      "DOWNSTREAM_GENE_DISTANCE          int64\n",
      "SNPS                             object\n",
      "MERGED                            int64\n",
      "GENOMIC_CONTEXT                  object\n",
      "INTERGENIC                        int64\n",
      "RISK_ALLELE_FREQUENCY           float64\n",
      "PVALUE                          float64\n",
      "PVALUE_MLOG                     float64\n",
      "EFFECT_SIZE                     float64\n",
      "CASE_PERCENTAGE                 float64\n",
      "CI_LOWER_BOUND                  float64\n",
      "CI_UPPER_BOUND                  float64\n",
      "CI_RANGE                        float64\n",
      "SNPS_PASSING_QC                   int64\n",
      "PLATFORM_AFFYMETRIX               int64\n",
      "PLATFORM_AFFYMETRIX_ILLUMINA      int64\n",
      "PLATFORM_ILLUMINA                 int64\n",
      "IMPUTED_ENCODED                   int64\n",
      "RISK_ALLELE_ENCODED               int64\n",
      "dtype: object \n",
      "\n",
      "STUDY                            object\n",
      "DISEASE_DESCRIPTION              object\n",
      "REGION                           object\n",
      "CHR_ID                            int64\n",
      "CHR_POS                           int64\n",
      "MAPPED_GENE                      object\n",
      "SNP_GENE_IDS                      int64\n",
      "SNPS                             object\n",
      "MERGED                            int64\n",
      "GENOMIC_CONTEXT                  object\n",
      "INTERGENIC                        int64\n",
      "RISK_ALLELE_FREQUENCY           float64\n",
      "PVALUE                          float64\n",
      "PVALUE_MLOG                     float64\n",
      "EFFECT_SIZE                     float64\n",
      "CASE_PERCENTAGE                 float64\n",
      "CI_LOWER_BOUND                  float64\n",
      "CI_UPPER_BOUND                  float64\n",
      "CI_RANGE                        float64\n",
      "SNPS_PASSING_QC                   int64\n",
      "PLATFORM_AFFYMETRIX               int64\n",
      "PLATFORM_AFFYMETRIX_ILLUMINA      int64\n",
      "PLATFORM_ILLUMINA                 int64\n",
      "IMPUTED_ENCODED                   int64\n",
      "RISK_ALLELE_ENCODED               int64\n",
      "dtype: object \n",
      "\n"
     ]
    }
   ],
   "source": [
    "print(African.dtypes, '\\n')\n",
    "print(Bangladesh.dtypes, '\\n')\n",
    "print(Iraq.dtypes, '\\n')\n",
    "print(inter_genetic.dtypes, '\\n')\n",
    "print(normal_genetic.dtypes, '\\n')"
   ]
  },
  {
   "cell_type": "markdown",
   "metadata": {},
   "source": [
    "Checking number of columns and rows"
   ]
  },
  {
   "cell_type": "code",
   "execution_count": 50,
   "metadata": {},
   "outputs": [
    {
     "name": "stdout",
     "output_type": "stream",
     "text": [
      "(390, 15) \n",
      "\n",
      "(5437, 15) \n",
      "\n",
      "(786, 12) \n",
      "\n",
      "(1110, 28) \n",
      "\n",
      "(2141, 25) \n",
      "\n"
     ]
    }
   ],
   "source": [
    "print(African.shape, '\\n')\n",
    "print(Bangladesh.shape, '\\n')\n",
    "print(Iraq.shape, '\\n')\n",
    "print(inter_genetic.shape, '\\n')\n",
    "print(normal_genetic.shape, '\\n')"
   ]
  },
  {
   "cell_type": "markdown",
   "metadata": {},
   "source": [
    "Target columns renaming"
   ]
  },
  {
   "cell_type": "code",
   "execution_count": 52,
   "metadata": {},
   "outputs": [],
   "source": [
    "# Rename clinical targets to 'T2D'\n",
    "African.rename(columns={'Diabetes':'T2D'},      inplace=True)\n",
    "Bangladesh.rename(columns={'diabetic_Encoded':'T2D'}, inplace=True)\n",
    "Iraq.rename(columns={'Class_Encoded':'T2D'},    inplace=True)\n",
    "\n",
    "# Ensure genetic sets have a 'T2D' column (all positives)\n",
    "for df in (inter_genetic, normal_genetic):\n",
    "    if 'T2D' not in df.columns:\n",
    "        df['T2D'] = 1"
   ]
  },
  {
   "cell_type": "markdown",
   "metadata": {},
   "source": [
    "# Data Preprocessing"
   ]
  },
  {
   "cell_type": "markdown",
   "metadata": {},
   "source": [
    "Splitting Clinical Datasets\n"
   ]
  },
  {
   "cell_type": "code",
   "execution_count": 53,
   "metadata": {},
   "outputs": [],
   "source": [
    "# Setting split sizes and random state\n",
    "test_size_clin = 0.20\n",
    "val_size_clin  = 0.15\n",
    "rs             = 42\n",
    "\n",
    "# Defining function to split clinical dataset into train, validation, and test sets\n",
    "def split_clinical(df):\n",
    "    # Splitting into train+val and test sets\n",
    "    X_tr_val, X_test, y_tr_val, y_test = train_test_split(\n",
    "        df.drop(columns='T2D'), df['T2D'],\n",
    "        test_size=test_size_clin, stratify=df['T2D'], random_state=rs\n",
    "    )\n",
    "    # Splitting train+val into separate train and validation sets\n",
    "    X_train, X_val, y_train, y_val = train_test_split(\n",
    "        X_tr_val, y_tr_val,\n",
    "        test_size=val_size_clin, stratify=y_tr_val, random_state=rs\n",
    "    )\n",
    "    return X_train, y_train, X_val, y_val, X_test, y_test\n",
    "\n",
    "# Splitting datasets\n",
    "X_train_african, y_train_african, X_val_african, y_val_african, X_test_african, y_test_african = split_clinical(African)\n",
    "X_train_bangladesh, y_train_bangladesh, X_val_bangladesh, y_val_bangladesh, X_test_bangladesh, y_test_bangladesh = split_clinical(Bangladesh)\n",
    "X_train_iraq, y_train_iraq, X_val_iraq, y_val_iraq, X_test_iraq, y_test_iraq = split_clinical(Iraq)"
   ]
  },
  {
   "cell_type": "markdown",
   "metadata": {},
   "source": [
    "Scaling and Imputing Clinical Datasets\n"
   ]
  },
  {
   "cell_type": "code",
   "execution_count": 54,
   "metadata": {},
   "outputs": [],
   "source": [
    "# Creating an imputer for missing values using the mean strategy\n",
    "imputer = SimpleImputer(strategy='mean')\n",
    "\n",
    "# Preprocessing function: scaling and imputing clinical features\n",
    "def preprocess_clinical(X_train, X_val, X_test):\n",
    "    # Selecting numerical columns\n",
    "    num_cols = X_train.select_dtypes(include=[np.number]).columns\n",
    "    # Fitting a standard scaler on training data\n",
    "    scaler = StandardScaler().fit(X_train[num_cols])\n",
    "    # Transforming train, validation, and test sets\n",
    "    X_tr_sc   = scaler.transform(X_train[num_cols])\n",
    "    X_val_sc  = scaler.transform(X_val[num_cols])\n",
    "    X_test_sc = scaler.transform(X_test[num_cols])\n",
    "    # Imputing missing values\n",
    "    return (\n",
    "        imputer.fit_transform(X_tr_sc),\n",
    "        imputer.transform(X_val_sc),\n",
    "        imputer.transform(X_test_sc)\n",
    "    )\n",
    "\n",
    "# Preprocessing datasets\n",
    "\n",
    "X_train_african_sc, X_val_african_sc, X_test_african_sc = preprocess_clinical(\n",
    "    X_train_african, X_val_african, X_test_african\n",
    ")\n",
    "X_train_bangladesh_sc, X_val_bangladesh_sc, X_test_bangladesh_sc = preprocess_clinical(\n",
    "    X_train_bangladesh, X_val_bangladesh, X_test_bangladesh\n",
    ")\n",
    "X_train_iraq_sc, X_val_iraq_sc, X_test_iraq_sc = preprocess_clinical(\n",
    "    X_train_iraq, X_val_iraq, X_test_iraq\n",
    ")"
   ]
  },
  {
   "cell_type": "markdown",
   "metadata": {},
   "source": [
    "Building GAN models and generating synthetic negative samples"
   ]
  },
  {
   "cell_type": "code",
   "execution_count": 55,
   "metadata": {},
   "outputs": [],
   "source": [
    "# Building the generator model for GAN\n",
    "def build_generator(input_dim, output_dim):\n",
    "    return Sequential([\n",
    "        Dense(128, input_dim=input_dim), LeakyReLU(0.2), BatchNormalization(),\n",
    "        Dense(256),                      LeakyReLU(0.2), BatchNormalization(),\n",
    "        Dense(output_dim, activation='tanh')\n",
    "    ])\n",
    "\n",
    "# Building and compiling the discriminator model for GAN\n",
    "def build_discriminator(input_dim):\n",
    "    disc = Sequential([\n",
    "        Dense(256, input_dim=input_dim), LeakyReLU(0.2),\n",
    "        Dense(128),                      LeakyReLU(0.2),\n",
    "        Dense(1, activation='sigmoid')\n",
    "    ])\n",
    "    disc.compile(loss='binary_crossentropy', optimizer=Adam(), metrics=['accuracy'])\n",
    "    return disc\n",
    "\n",
    "# Generating synthetic negative samples using the trained generator\n",
    "def generate_synthetic_negatives(real_df, generator, scaler, num_cols, label_col='T2D'):\n",
    "    n = len(real_df)\n",
    "    # Generating random noise for the generator input\n",
    "    z = np.random.normal(0, 1, (n, generator.input_shape[1])).astype(np.float32)\n",
    "    # Predicting synthetic features using the generator\n",
    "    fake = generator.predict(z, verbose=0)\n",
    "    # Inversely scaling numeric features to original scale\n",
    "    synth_num = scaler.inverse_transform(fake)\n",
    "    synth_df = pd.DataFrame(synth_num, columns=num_cols)\n",
    "    synth_df[label_col] = 0  # Assigning label 0 for synthetic negatives\n",
    "    # Selecting real positive samples (numeric only)\n",
    "    pos_df = real_df[num_cols + [label_col]].copy()\n",
    "    # Combining synthetic negatives and real positives\n",
    "    balanced = pd.concat([pos_df, synth_df], ignore_index=True)\n",
    "    X = balanced[num_cols]\n",
    "    y = balanced[label_col]\n",
    "    return X, y"
   ]
  },
  {
   "cell_type": "markdown",
   "metadata": {},
   "source": [
    "Processing genetic datasets with GAN-based data balancing"
   ]
  },
  {
   "cell_type": "code",
   "execution_count": 56,
   "metadata": {},
   "outputs": [
    {
     "name": "stdout",
     "output_type": "stream",
     "text": [
      "[GAN] Epoch 0/500\n",
      "[GAN] Epoch 50/500\n",
      "[GAN] Epoch 100/500\n",
      "[GAN] Epoch 150/500\n",
      "[GAN] Epoch 200/500\n",
      "[GAN] Epoch 250/500\n",
      "[GAN] Epoch 300/500\n",
      "[GAN] Epoch 350/500\n",
      "[GAN] Epoch 400/500\n",
      "[GAN] Epoch 450/500\n",
      "[GAN] Epoch 0/500\n",
      "[GAN] Epoch 50/500\n",
      "[GAN] Epoch 100/500\n",
      "[GAN] Epoch 150/500\n",
      "[GAN] Epoch 200/500\n",
      "[GAN] Epoch 250/500\n",
      "[GAN] Epoch 300/500\n",
      "[GAN] Epoch 350/500\n",
      "[GAN] Epoch 400/500\n",
      "[GAN] Epoch 450/500\n"
     ]
    }
   ],
   "source": [
    "def process_genetic(\n",
    "    df,\n",
    "    test_size,\n",
    "    val_size,\n",
    "    rs,\n",
    "    noise_dim=100,\n",
    "    epochs=500,    \n",
    "    batch_size=64\n",
    "):\n",
    "    # Splitting positives into train+val vs test sets\n",
    "    X_all = df.drop(columns='T2D')\n",
    "    y_all = df['T2D']\n",
    "    X_tr_val, X_test, y_tr_val, y_test = train_test_split(\n",
    "        X_all, y_all, test_size=test_size, stratify=y_all, random_state=rs\n",
    "    )\n",
    "    # Splitting train+val into train and validation sets\n",
    "    X_train, X_val, y_train, y_val = train_test_split(\n",
    "        X_tr_val, y_tr_val, test_size=val_size, stratify=y_tr_val, random_state=rs\n",
    "    )\n",
    "    # Selecting numeric feature columns only\n",
    "    num_cols = [c for c in X_train.columns if pd.api.types.is_numeric_dtype(X_train[c])]\n",
    "    # Scaling training positives using MinMaxScaler\n",
    "    scaler = MinMaxScaler().fit(X_train[num_cols])\n",
    "    train_scaled = scaler.transform(X_train[num_cols]).astype(np.float32)\n",
    "    # Building and compiling GAN components (generator and discriminator)\n",
    "    generator     = build_generator(noise_dim, train_scaled.shape[1])\n",
    "    discriminator = build_discriminator(train_scaled.shape[1])\n",
    "    discriminator.trainable = False\n",
    "    gan = Sequential([generator, discriminator])\n",
    "    gan.compile(loss='binary_crossentropy', optimizer=Adam())\n",
    "    # Training GAN for given number of epochs\n",
    "    for ep in range(epochs):\n",
    "        idx   = np.random.randint(0, len(train_scaled), batch_size)\n",
    "        real  = train_scaled[idx]\n",
    "        noise = np.random.normal(0, 1, (batch_size, noise_dim))\n",
    "        fake  = generator.predict(noise, verbose=0)\n",
    "        discriminator.trainable = True\n",
    "        discriminator.train_on_batch(real, np.ones((batch_size, 1)))\n",
    "        discriminator.train_on_batch(fake, np.zeros((batch_size, 1)))\n",
    "        discriminator.trainable = False\n",
    "        gan.train_on_batch(\n",
    "            np.random.normal(0, 1, (batch_size, noise_dim)),\n",
    "            np.ones((batch_size, 1))\n",
    "        )\n",
    "        if ep % 50 == 0:\n",
    "            print(f\"[GAN] Epoch {ep}/{epochs}\")\n",
    "    # Generating balanced splits using synthetic negatives\n",
    "    X_tr_bal, y_tr_bal = generate_synthetic_negatives(\n",
    "        pd.concat([X_train, y_train], axis=1),\n",
    "        generator, scaler, num_cols\n",
    "    )\n",
    "    X_val_bal, y_val_bal = generate_synthetic_negatives(\n",
    "        pd.concat([X_val, y_val], axis=1),\n",
    "        generator, scaler, num_cols\n",
    "    )\n",
    "    X_te_bal, y_te_bal = generate_synthetic_negatives(\n",
    "        pd.concat([X_test, y_test], axis=1),\n",
    "        generator, scaler, num_cols\n",
    "    )\n",
    "    return X_tr_bal, y_tr_bal, X_val_bal, y_val_bal, X_te_bal, y_te_bal\n",
    "\n",
    "# Setting genetic split sizes\n",
    "test_size_gen = 0.20\n",
    "val_size_gen  = 0.10 / (1 - test_size_gen)  # ≈0.125\n",
    "\n",
    "# Processing inter_genetic and normal_genetic datasets\n",
    "X_train_inter, y_train_inter, X_val_inter, y_val_inter, X_test_inter, y_test_inter = \\\n",
    "    process_genetic(inter_genetic, test_size_gen, val_size_gen, rs)\n",
    "\n",
    "X_train_normal, y_train_normal, X_val_normal, y_val_normal, X_test_normal, y_test_normal = \\\n",
    "    process_genetic(normal_genetic, test_size_gen, val_size_gen, rs)"
   ]
  },
  {
   "cell_type": "markdown",
   "metadata": {},
   "source": [
    "# Model Selection"
   ]
  },
  {
   "cell_type": "markdown",
   "metadata": {},
   "source": [
    "Storing the best models and data splits for each dataset"
   ]
  },
  {
   "cell_type": "code",
   "execution_count": 57,
   "metadata": {},
   "outputs": [],
   "source": [
    "# Defining Models\n",
    "best_models = {\n",
    "    \"African\":       GradientBoostingClassifier(random_state=rs),\n",
    "    \"Bangladesh\":    RandomForestClassifier(random_state=rs),\n",
    "    \"Iraq\":          LogisticRegression(random_state=rs, max_iter=1000),\n",
    "    \"InterGenetic\":  LogisticRegression(random_state=rs, max_iter=1000),\n",
    "    \"NormalGenetic\": LogisticRegression(random_state=rs, max_iter=1000),\n",
    "}\n",
    "\n",
    "# Defining Assemble Datasets\n",
    "datasets = {\n",
    "    \"African\":       (X_train_african_sc, y_train_african, X_val_african_sc, y_val_african, X_test_african_sc, y_test_african),\n",
    "    \"Bangladesh\":    (X_train_bangladesh_sc, y_train_bangladesh, X_val_bangladesh_sc, y_val_bangladesh, X_test_bangladesh_sc, y_test_bangladesh),\n",
    "    \"Iraq\":          (X_train_iraq_sc, y_train_iraq, X_val_iraq_sc, y_val_iraq, X_test_iraq_sc, y_test_iraq),\n",
    "    \"InterGenetic\":  (X_train_inter, y_train_inter, X_val_inter, y_val_inter, X_test_inter, y_test_inter),\n",
    "    \"NormalGenetic\": (X_train_normal, y_train_normal, X_val_normal, y_val_normal, X_test_normal, y_test_normal),\n",
    "}"
   ]
  },
  {
   "cell_type": "markdown",
   "metadata": {},
   "source": [
    "Training and evaluating models on all datasets"
   ]
  },
  {
   "cell_type": "code",
   "execution_count": 58,
   "metadata": {},
   "outputs": [
    {
     "name": "stdout",
     "output_type": "stream",
     "text": [
      "\n",
      "African — Validation — Acc=0.915, ROC AUC=0.830, PR AUC=0.697\n",
      "African — Test       — Acc=0.872, ROC AUC=0.926, PR AUC=0.685\n",
      "Confusion Matrix:\n",
      "[[61  5]\n",
      " [ 5  7]]\n",
      "\n",
      "Bangladesh — Validation — Acc=0.948, ROC AUC=0.868, PR AUC=0.531\n",
      "Bangladesh — Test       — Acc=0.943, ROC AUC=0.861, PR AUC=0.388\n",
      "Confusion Matrix:\n",
      "[[1012    7]\n",
      " [  55   14]]\n",
      "\n",
      "Iraq — Validation — Acc=0.968, ROC AUC=0.989, PR AUC=0.955\n",
      "Iraq — Test       — Acc=0.962, ROC AUC=0.988, PR AUC=0.933\n",
      "Confusion Matrix:\n",
      "[[136   3]\n",
      " [  3  16]]\n",
      "\n",
      "InterGenetic — Validation — Acc=0.793, ROC AUC=0.866, PR AUC=0.897\n",
      "InterGenetic — Test       — Acc=0.836, ROC AUC=0.905, PR AUC=0.891\n",
      "Confusion Matrix:\n",
      "[[185  37]\n",
      " [ 36 186]]\n",
      "\n",
      "NormalGenetic — Validation — Acc=0.867, ROC AUC=0.928, PR AUC=0.896\n",
      "NormalGenetic — Test       — Acc=0.883, ROC AUC=0.934, PR AUC=0.909\n",
      "Confusion Matrix:\n",
      "[[349  80]\n",
      " [ 20 409]]\n"
     ]
    }
   ],
   "source": [
    "for name, (X_tr, y_tr, X_val, y_val, X_te, y_te) in datasets.items():\n",
    "    clf = best_models[name]\n",
    "    clf.fit(X_tr, y_tr)\n",
    "\n",
    "    # Validation metrics\n",
    "    yv_pred  = clf.predict(X_val)\n",
    "    yv_proba = clf.predict_proba(X_val)[:,1] if hasattr(clf, \"predict_proba\") else np.zeros_like(yv_pred, float)\n",
    "    print(f\"\\n{name} — Validation — \"\n",
    "          f\"Acc={accuracy_score(y_val, yv_pred):.3f}, \"\n",
    "          f\"ROC AUC={roc_auc_score(y_val, yv_proba):.3f}, \"\n",
    "          f\"PR AUC={average_precision_score(y_val, yv_proba):.3f}\")\n",
    "\n",
    "    # Test metrics\n",
    "    yt_pred  = clf.predict(X_te)\n",
    "    yt_proba = clf.predict_proba(X_te)[:,1] if hasattr(clf, \"predict_proba\") else np.zeros_like(yt_pred, float)\n",
    "    print(f\"{name} — Test       — \"\n",
    "          f\"Acc={accuracy_score(y_te, yt_pred):.3f}, \"\n",
    "          f\"ROC AUC={roc_auc_score(y_te, yt_proba):.3f}, \"\n",
    "          f\"PR AUC={average_precision_score(y_te, yt_proba):.3f}\")\n",
    "    print(\"Confusion Matrix:\")\n",
    "    print(confusion_matrix(y_te, yt_pred))"
   ]
  },
  {
   "cell_type": "markdown",
   "metadata": {},
   "source": [
    "10-fold cross-validation results for all datasets"
   ]
  },
  {
   "cell_type": "code",
   "execution_count": 60,
   "metadata": {},
   "outputs": [
    {
     "data": {
      "application/vnd.plotly.v1+json": {
       "config": {
        "plotlyServerURL": "https://plot.ly"
       },
       "data": [
        {
         "mode": "lines+markers",
         "name": "African",
         "type": "scatter",
         "x": [
          1,
          2,
          3,
          4,
          5,
          6,
          7,
          8,
          9,
          10
         ],
         "xaxis": "x",
         "y": [
          0.9259259259259259,
          0.9259259259259259,
          0.9259259259259259,
          0.8518518518518519,
          0.7777777777777778,
          1,
          0.9615384615384616,
          0.9230769230769231,
          0.8846153846153846,
          0.8461538461538461
         ],
         "yaxis": "y"
        },
        {
         "mode": "lines+markers",
         "name": "Bangladesh",
         "type": "scatter",
         "x": [
          1,
          2,
          3,
          4,
          5,
          6,
          7,
          8,
          9,
          10
         ],
         "xaxis": "x2",
         "y": [
          0.9459459459459459,
          0.9540540540540541,
          0.9351351351351351,
          0.9405405405405406,
          0.9351351351351351,
          0.9459459459459459,
          0.9512195121951219,
          0.94579945799458,
          0.943089430894309,
          0.9539295392953929
         ],
         "yaxis": "y2"
        },
        {
         "mode": "lines+markers",
         "name": "Iraq",
         "type": "scatter",
         "x": [
          1,
          2,
          3,
          4,
          5,
          6,
          7,
          8,
          9,
          10
         ],
         "xaxis": "x3",
         "y": [
          0.9629629629629629,
          0.9444444444444444,
          0.9814814814814815,
          0.9433962264150944,
          0.9433962264150944,
          1,
          0.9433962264150944,
          0.9811320754716981,
          0.9811320754716981,
          1
         ],
         "yaxis": "y3"
        },
        {
         "mode": "lines+markers",
         "name": "InterGenetic",
         "type": "scatter",
         "x": [
          1,
          2,
          3,
          4,
          5,
          6,
          7,
          8,
          9,
          10
         ],
         "xaxis": "x4",
         "y": [
          0.8012820512820513,
          0.8333333333333334,
          0.7948717948717948,
          0.8397435897435898,
          0.8258064516129032,
          0.8129032258064516,
          0.8516129032258064,
          0.8193548387096774,
          0.8774193548387097,
          0.8451612903225807
         ],
         "yaxis": "y4"
        },
        {
         "mode": "lines+markers",
         "name": "NormalGenetic",
         "type": "scatter",
         "x": [
          1,
          2,
          3,
          4,
          5,
          6,
          7,
          8,
          9,
          10
         ],
         "xaxis": "x5",
         "y": [
          0.8833333333333333,
          0.88,
          0.8866666666666667,
          0.86,
          0.86,
          0.84,
          0.8561872909698997,
          0.8528428093645485,
          0.8729096989966555,
          0.8762541806020067
         ],
         "yaxis": "y5"
        }
       ],
       "layout": {
        "annotations": [
         {
          "font": {
           "size": 16
          },
          "showarrow": false,
          "text": "African (GradientBoostingClassifier) CV Scores",
          "x": 0.5,
          "xanchor": "center",
          "xref": "paper",
          "y": 1,
          "yanchor": "bottom",
          "yref": "paper"
         },
         {
          "font": {
           "size": 16
          },
          "showarrow": false,
          "text": "Bangladesh (RandomForestClassifier) CV Scores",
          "x": 0.5,
          "xanchor": "center",
          "xref": "paper",
          "y": 0.78,
          "yanchor": "bottom",
          "yref": "paper"
         },
         {
          "font": {
           "size": 16
          },
          "showarrow": false,
          "text": "Iraq (LogisticRegression) CV Scores",
          "x": 0.5,
          "xanchor": "center",
          "xref": "paper",
          "y": 0.56,
          "yanchor": "bottom",
          "yref": "paper"
         },
         {
          "font": {
           "size": 16
          },
          "showarrow": false,
          "text": "InterGenetic (LogisticRegression) CV Scores",
          "x": 0.5,
          "xanchor": "center",
          "xref": "paper",
          "y": 0.33999999999999997,
          "yanchor": "bottom",
          "yref": "paper"
         },
         {
          "font": {
           "size": 16
          },
          "showarrow": false,
          "text": "NormalGenetic (LogisticRegression) CV Scores",
          "x": 0.5,
          "xanchor": "center",
          "xref": "paper",
          "y": 0.12,
          "yanchor": "bottom",
          "yref": "paper"
         }
        ],
        "height": 1500,
        "showlegend": false,
        "template": {
         "data": {
          "bar": [
           {
            "error_x": {
             "color": "#2a3f5f"
            },
            "error_y": {
             "color": "#2a3f5f"
            },
            "marker": {
             "line": {
              "color": "#E5ECF6",
              "width": 0.5
             },
             "pattern": {
              "fillmode": "overlay",
              "size": 10,
              "solidity": 0.2
             }
            },
            "type": "bar"
           }
          ],
          "barpolar": [
           {
            "marker": {
             "line": {
              "color": "#E5ECF6",
              "width": 0.5
             },
             "pattern": {
              "fillmode": "overlay",
              "size": 10,
              "solidity": 0.2
             }
            },
            "type": "barpolar"
           }
          ],
          "carpet": [
           {
            "aaxis": {
             "endlinecolor": "#2a3f5f",
             "gridcolor": "white",
             "linecolor": "white",
             "minorgridcolor": "white",
             "startlinecolor": "#2a3f5f"
            },
            "baxis": {
             "endlinecolor": "#2a3f5f",
             "gridcolor": "white",
             "linecolor": "white",
             "minorgridcolor": "white",
             "startlinecolor": "#2a3f5f"
            },
            "type": "carpet"
           }
          ],
          "choropleth": [
           {
            "colorbar": {
             "outlinewidth": 0,
             "ticks": ""
            },
            "type": "choropleth"
           }
          ],
          "contour": [
           {
            "colorbar": {
             "outlinewidth": 0,
             "ticks": ""
            },
            "colorscale": [
             [
              0,
              "#0d0887"
             ],
             [
              0.1111111111111111,
              "#46039f"
             ],
             [
              0.2222222222222222,
              "#7201a8"
             ],
             [
              0.3333333333333333,
              "#9c179e"
             ],
             [
              0.4444444444444444,
              "#bd3786"
             ],
             [
              0.5555555555555556,
              "#d8576b"
             ],
             [
              0.6666666666666666,
              "#ed7953"
             ],
             [
              0.7777777777777778,
              "#fb9f3a"
             ],
             [
              0.8888888888888888,
              "#fdca26"
             ],
             [
              1,
              "#f0f921"
             ]
            ],
            "type": "contour"
           }
          ],
          "contourcarpet": [
           {
            "colorbar": {
             "outlinewidth": 0,
             "ticks": ""
            },
            "type": "contourcarpet"
           }
          ],
          "heatmap": [
           {
            "colorbar": {
             "outlinewidth": 0,
             "ticks": ""
            },
            "colorscale": [
             [
              0,
              "#0d0887"
             ],
             [
              0.1111111111111111,
              "#46039f"
             ],
             [
              0.2222222222222222,
              "#7201a8"
             ],
             [
              0.3333333333333333,
              "#9c179e"
             ],
             [
              0.4444444444444444,
              "#bd3786"
             ],
             [
              0.5555555555555556,
              "#d8576b"
             ],
             [
              0.6666666666666666,
              "#ed7953"
             ],
             [
              0.7777777777777778,
              "#fb9f3a"
             ],
             [
              0.8888888888888888,
              "#fdca26"
             ],
             [
              1,
              "#f0f921"
             ]
            ],
            "type": "heatmap"
           }
          ],
          "heatmapgl": [
           {
            "colorbar": {
             "outlinewidth": 0,
             "ticks": ""
            },
            "colorscale": [
             [
              0,
              "#0d0887"
             ],
             [
              0.1111111111111111,
              "#46039f"
             ],
             [
              0.2222222222222222,
              "#7201a8"
             ],
             [
              0.3333333333333333,
              "#9c179e"
             ],
             [
              0.4444444444444444,
              "#bd3786"
             ],
             [
              0.5555555555555556,
              "#d8576b"
             ],
             [
              0.6666666666666666,
              "#ed7953"
             ],
             [
              0.7777777777777778,
              "#fb9f3a"
             ],
             [
              0.8888888888888888,
              "#fdca26"
             ],
             [
              1,
              "#f0f921"
             ]
            ],
            "type": "heatmapgl"
           }
          ],
          "histogram": [
           {
            "marker": {
             "pattern": {
              "fillmode": "overlay",
              "size": 10,
              "solidity": 0.2
             }
            },
            "type": "histogram"
           }
          ],
          "histogram2d": [
           {
            "colorbar": {
             "outlinewidth": 0,
             "ticks": ""
            },
            "colorscale": [
             [
              0,
              "#0d0887"
             ],
             [
              0.1111111111111111,
              "#46039f"
             ],
             [
              0.2222222222222222,
              "#7201a8"
             ],
             [
              0.3333333333333333,
              "#9c179e"
             ],
             [
              0.4444444444444444,
              "#bd3786"
             ],
             [
              0.5555555555555556,
              "#d8576b"
             ],
             [
              0.6666666666666666,
              "#ed7953"
             ],
             [
              0.7777777777777778,
              "#fb9f3a"
             ],
             [
              0.8888888888888888,
              "#fdca26"
             ],
             [
              1,
              "#f0f921"
             ]
            ],
            "type": "histogram2d"
           }
          ],
          "histogram2dcontour": [
           {
            "colorbar": {
             "outlinewidth": 0,
             "ticks": ""
            },
            "colorscale": [
             [
              0,
              "#0d0887"
             ],
             [
              0.1111111111111111,
              "#46039f"
             ],
             [
              0.2222222222222222,
              "#7201a8"
             ],
             [
              0.3333333333333333,
              "#9c179e"
             ],
             [
              0.4444444444444444,
              "#bd3786"
             ],
             [
              0.5555555555555556,
              "#d8576b"
             ],
             [
              0.6666666666666666,
              "#ed7953"
             ],
             [
              0.7777777777777778,
              "#fb9f3a"
             ],
             [
              0.8888888888888888,
              "#fdca26"
             ],
             [
              1,
              "#f0f921"
             ]
            ],
            "type": "histogram2dcontour"
           }
          ],
          "mesh3d": [
           {
            "colorbar": {
             "outlinewidth": 0,
             "ticks": ""
            },
            "type": "mesh3d"
           }
          ],
          "parcoords": [
           {
            "line": {
             "colorbar": {
              "outlinewidth": 0,
              "ticks": ""
             }
            },
            "type": "parcoords"
           }
          ],
          "pie": [
           {
            "automargin": true,
            "type": "pie"
           }
          ],
          "scatter": [
           {
            "fillpattern": {
             "fillmode": "overlay",
             "size": 10,
             "solidity": 0.2
            },
            "type": "scatter"
           }
          ],
          "scatter3d": [
           {
            "line": {
             "colorbar": {
              "outlinewidth": 0,
              "ticks": ""
             }
            },
            "marker": {
             "colorbar": {
              "outlinewidth": 0,
              "ticks": ""
             }
            },
            "type": "scatter3d"
           }
          ],
          "scattercarpet": [
           {
            "marker": {
             "colorbar": {
              "outlinewidth": 0,
              "ticks": ""
             }
            },
            "type": "scattercarpet"
           }
          ],
          "scattergeo": [
           {
            "marker": {
             "colorbar": {
              "outlinewidth": 0,
              "ticks": ""
             }
            },
            "type": "scattergeo"
           }
          ],
          "scattergl": [
           {
            "marker": {
             "colorbar": {
              "outlinewidth": 0,
              "ticks": ""
             }
            },
            "type": "scattergl"
           }
          ],
          "scattermapbox": [
           {
            "marker": {
             "colorbar": {
              "outlinewidth": 0,
              "ticks": ""
             }
            },
            "type": "scattermapbox"
           }
          ],
          "scatterpolar": [
           {
            "marker": {
             "colorbar": {
              "outlinewidth": 0,
              "ticks": ""
             }
            },
            "type": "scatterpolar"
           }
          ],
          "scatterpolargl": [
           {
            "marker": {
             "colorbar": {
              "outlinewidth": 0,
              "ticks": ""
             }
            },
            "type": "scatterpolargl"
           }
          ],
          "scatterternary": [
           {
            "marker": {
             "colorbar": {
              "outlinewidth": 0,
              "ticks": ""
             }
            },
            "type": "scatterternary"
           }
          ],
          "surface": [
           {
            "colorbar": {
             "outlinewidth": 0,
             "ticks": ""
            },
            "colorscale": [
             [
              0,
              "#0d0887"
             ],
             [
              0.1111111111111111,
              "#46039f"
             ],
             [
              0.2222222222222222,
              "#7201a8"
             ],
             [
              0.3333333333333333,
              "#9c179e"
             ],
             [
              0.4444444444444444,
              "#bd3786"
             ],
             [
              0.5555555555555556,
              "#d8576b"
             ],
             [
              0.6666666666666666,
              "#ed7953"
             ],
             [
              0.7777777777777778,
              "#fb9f3a"
             ],
             [
              0.8888888888888888,
              "#fdca26"
             ],
             [
              1,
              "#f0f921"
             ]
            ],
            "type": "surface"
           }
          ],
          "table": [
           {
            "cells": {
             "fill": {
              "color": "#EBF0F8"
             },
             "line": {
              "color": "white"
             }
            },
            "header": {
             "fill": {
              "color": "#C8D4E3"
             },
             "line": {
              "color": "white"
             }
            },
            "type": "table"
           }
          ]
         },
         "layout": {
          "annotationdefaults": {
           "arrowcolor": "#2a3f5f",
           "arrowhead": 0,
           "arrowwidth": 1
          },
          "autotypenumbers": "strict",
          "coloraxis": {
           "colorbar": {
            "outlinewidth": 0,
            "ticks": ""
           }
          },
          "colorscale": {
           "diverging": [
            [
             0,
             "#8e0152"
            ],
            [
             0.1,
             "#c51b7d"
            ],
            [
             0.2,
             "#de77ae"
            ],
            [
             0.3,
             "#f1b6da"
            ],
            [
             0.4,
             "#fde0ef"
            ],
            [
             0.5,
             "#f7f7f7"
            ],
            [
             0.6,
             "#e6f5d0"
            ],
            [
             0.7,
             "#b8e186"
            ],
            [
             0.8,
             "#7fbc41"
            ],
            [
             0.9,
             "#4d9221"
            ],
            [
             1,
             "#276419"
            ]
           ],
           "sequential": [
            [
             0,
             "#0d0887"
            ],
            [
             0.1111111111111111,
             "#46039f"
            ],
            [
             0.2222222222222222,
             "#7201a8"
            ],
            [
             0.3333333333333333,
             "#9c179e"
            ],
            [
             0.4444444444444444,
             "#bd3786"
            ],
            [
             0.5555555555555556,
             "#d8576b"
            ],
            [
             0.6666666666666666,
             "#ed7953"
            ],
            [
             0.7777777777777778,
             "#fb9f3a"
            ],
            [
             0.8888888888888888,
             "#fdca26"
            ],
            [
             1,
             "#f0f921"
            ]
           ],
           "sequentialminus": [
            [
             0,
             "#0d0887"
            ],
            [
             0.1111111111111111,
             "#46039f"
            ],
            [
             0.2222222222222222,
             "#7201a8"
            ],
            [
             0.3333333333333333,
             "#9c179e"
            ],
            [
             0.4444444444444444,
             "#bd3786"
            ],
            [
             0.5555555555555556,
             "#d8576b"
            ],
            [
             0.6666666666666666,
             "#ed7953"
            ],
            [
             0.7777777777777778,
             "#fb9f3a"
            ],
            [
             0.8888888888888888,
             "#fdca26"
            ],
            [
             1,
             "#f0f921"
            ]
           ]
          },
          "colorway": [
           "#636efa",
           "#EF553B",
           "#00cc96",
           "#ab63fa",
           "#FFA15A",
           "#19d3f3",
           "#FF6692",
           "#B6E880",
           "#FF97FF",
           "#FECB52"
          ],
          "font": {
           "color": "#2a3f5f"
          },
          "geo": {
           "bgcolor": "white",
           "lakecolor": "white",
           "landcolor": "#E5ECF6",
           "showlakes": true,
           "showland": true,
           "subunitcolor": "white"
          },
          "hoverlabel": {
           "align": "left"
          },
          "hovermode": "closest",
          "mapbox": {
           "style": "light"
          },
          "paper_bgcolor": "white",
          "plot_bgcolor": "#E5ECF6",
          "polar": {
           "angularaxis": {
            "gridcolor": "white",
            "linecolor": "white",
            "ticks": ""
           },
           "bgcolor": "#E5ECF6",
           "radialaxis": {
            "gridcolor": "white",
            "linecolor": "white",
            "ticks": ""
           }
          },
          "scene": {
           "xaxis": {
            "backgroundcolor": "#E5ECF6",
            "gridcolor": "white",
            "gridwidth": 2,
            "linecolor": "white",
            "showbackground": true,
            "ticks": "",
            "zerolinecolor": "white"
           },
           "yaxis": {
            "backgroundcolor": "#E5ECF6",
            "gridcolor": "white",
            "gridwidth": 2,
            "linecolor": "white",
            "showbackground": true,
            "ticks": "",
            "zerolinecolor": "white"
           },
           "zaxis": {
            "backgroundcolor": "#E5ECF6",
            "gridcolor": "white",
            "gridwidth": 2,
            "linecolor": "white",
            "showbackground": true,
            "ticks": "",
            "zerolinecolor": "white"
           }
          },
          "shapedefaults": {
           "line": {
            "color": "#2a3f5f"
           }
          },
          "ternary": {
           "aaxis": {
            "gridcolor": "white",
            "linecolor": "white",
            "ticks": ""
           },
           "baxis": {
            "gridcolor": "white",
            "linecolor": "white",
            "ticks": ""
           },
           "bgcolor": "#E5ECF6",
           "caxis": {
            "gridcolor": "white",
            "linecolor": "white",
            "ticks": ""
           }
          },
          "title": {
           "x": 0.05
          },
          "xaxis": {
           "automargin": true,
           "gridcolor": "white",
           "linecolor": "white",
           "ticks": "",
           "title": {
            "standoff": 15
           },
           "zerolinecolor": "white",
           "zerolinewidth": 2
          },
          "yaxis": {
           "automargin": true,
           "gridcolor": "white",
           "linecolor": "white",
           "ticks": "",
           "title": {
            "standoff": 15
           },
           "zerolinecolor": "white",
           "zerolinewidth": 2
          }
         }
        },
        "title": {
         "text": "10-Fold Cross-Validation Accuracy for Best Models"
        },
        "width": 800,
        "xaxis": {
         "anchor": "y",
         "domain": [
          0,
          1
         ],
         "matches": "x5",
         "showticklabels": false,
         "title": {
          "text": "Fold #"
         }
        },
        "xaxis2": {
         "anchor": "y2",
         "domain": [
          0,
          1
         ],
         "matches": "x5",
         "showticklabels": false,
         "title": {
          "text": "Fold #"
         }
        },
        "xaxis3": {
         "anchor": "y3",
         "domain": [
          0,
          1
         ],
         "matches": "x5",
         "showticklabels": false,
         "title": {
          "text": "Fold #"
         }
        },
        "xaxis4": {
         "anchor": "y4",
         "domain": [
          0,
          1
         ],
         "matches": "x5",
         "showticklabels": false,
         "title": {
          "text": "Fold #"
         }
        },
        "xaxis5": {
         "anchor": "y5",
         "domain": [
          0,
          1
         ],
         "title": {
          "text": "Fold #"
         }
        },
        "yaxis": {
         "anchor": "x",
         "domain": [
          0.88,
          1
         ],
         "title": {
          "text": "Accuracy"
         }
        },
        "yaxis2": {
         "anchor": "x2",
         "domain": [
          0.66,
          0.78
         ],
         "title": {
          "text": "Accuracy"
         }
        },
        "yaxis3": {
         "anchor": "x3",
         "domain": [
          0.44,
          0.56
         ],
         "title": {
          "text": "Accuracy"
         }
        },
        "yaxis4": {
         "anchor": "x4",
         "domain": [
          0.22,
          0.33999999999999997
         ],
         "title": {
          "text": "Accuracy"
         }
        },
        "yaxis5": {
         "anchor": "x5",
         "domain": [
          0,
          0.12
         ],
         "title": {
          "text": "Accuracy"
         }
        }
       }
      }
     },
     "metadata": {},
     "output_type": "display_data"
    }
   ],
   "source": [
    "# Best model for each dataset\n",
    "best_models_mapping = {\n",
    "    \"African\":       GradientBoostingClassifier(random_state=rs),\n",
    "    \"Bangladesh\":    RandomForestClassifier(random_state=42),\n",
    "    \"Iraq\":          LogisticRegression(random_state=42, max_iter=1000),\n",
    "    \"InterGenetic\":  LogisticRegression(random_state=42, max_iter=1000),\n",
    "    \"NormalGenetic\": LogisticRegression(random_state=42, max_iter=1000),\n",
    "}\n",
    "\n",
    "# Training data for cross-validation\n",
    "cv_datasets = {\n",
    "    \"African\":       (X_train_african_sc,    y_train_african),\n",
    "    \"Bangladesh\":    (X_train_bangladesh_sc, y_train_bangladesh),\n",
    "    \"Iraq\":          (X_train_iraq_sc,       y_train_iraq),\n",
    "    \"InterGenetic\":  (X_train_inter,         y_train_inter),\n",
    "    \"NormalGenetic\": (X_train_normal,        y_train_normal),\n",
    "}\n",
    "\n",
    "cv_folds  = 10\n",
    "cv_scores = {}\n",
    "\n",
    "# Run cross-validation for each dataset\n",
    "for name, (X_tr, y_tr) in cv_datasets.items():\n",
    "    model = best_models_mapping[name]\n",
    "    scores = cross_val_score(model, X_tr, y_tr, cv=cv_folds)\n",
    "    cv_scores[name] = scores\n",
    "\n",
    "# Set up subplots for visualization\n",
    "fig = make_subplots(\n",
    "    rows=len(cv_datasets), cols=1, shared_xaxes=True,\n",
    "    subplot_titles=[\n",
    "        f\"{name} ({best_models_mapping[name].__class__.__name__}) CV Scores\"\n",
    "        for name in cv_datasets\n",
    "    ]\n",
    ")\n",
    "\n",
    "# Plot fold scores for each dataset\n",
    "for i, (name, scores) in enumerate(cv_scores.items(), start=1):\n",
    "    fig.add_trace(\n",
    "        go.Scatter(\n",
    "            x=list(range(1, cv_folds + 1)),\n",
    "            y=scores,\n",
    "            mode='lines+markers',\n",
    "            name=name\n",
    "        ),\n",
    "        row=i, col=1\n",
    "    )\n",
    "\n",
    "# Final plot adjustments\n",
    "fig.update_layout(\n",
    "    height=300 * len(cv_datasets),\n",
    "    width=800,\n",
    "    title_text=\"10-Fold Cross-Validation Accuracy for Best Models\",\n",
    "    showlegend=False\n",
    ")\n",
    "fig.update_xaxes(title_text=\"Fold #\")\n",
    "fig.update_yaxes(title_text=\"Accuracy\")\n",
    "\n",
    "fig.show()"
   ]
  },
  {
   "cell_type": "markdown",
   "metadata": {},
   "source": [
    "ROC Curves for Best Models"
   ]
  },
  {
   "cell_type": "code",
   "execution_count": 61,
   "metadata": {},
   "outputs": [
    {
     "data": {
      "image/png": "[encoded data removed]",
      "text/plain": [
       "<Figure size 800x600 with 1 Axes>"
      ]
     },
     "metadata": {},
     "output_type": "display_data"
    }
   ],
   "source": [
    "# Prepare ROC datasets using preprocessed splits\n",
    "roc_datasets = {\n",
    "    \"African\":       (X_train_african_sc,    X_test_african_sc,    y_train_african,    y_test_african),\n",
    "    \"Bangladesh\":    (X_train_bangladesh_sc, X_test_bangladesh_sc, y_train_bangladesh, y_test_bangladesh),\n",
    "    \"Iraq\":          (X_train_iraq_sc,       X_test_iraq_sc,       y_train_iraq,       y_test_iraq),\n",
    "    \"InterGenetic\":  (X_train_inter,         X_test_inter,         y_train_inter,      y_test_inter),\n",
    "    \"NormalGenetic\": (X_train_normal,        X_test_normal,        y_train_normal,     y_test_normal),\n",
    "}\n",
    "\n",
    "# Compute ROC curve and AUC for each model\n",
    "roc_data = {}\n",
    "for name, (X_tr, X_te, y_tr, y_te) in roc_datasets.items():\n",
    "    model = best_models_mapping[name]\n",
    "    model.fit(X_tr, y_tr)\n",
    "    y_prob = model.predict_proba(X_te)[:, 1]\n",
    "    fpr, tpr, _ = roc_curve(y_te, y_prob)\n",
    "    roc_auc = auc(fpr, tpr)\n",
    "    roc_data[name] = (fpr, tpr, roc_auc)\n",
    "\n",
    "# Plot ROC curves for all datasets\n",
    "plt.figure(figsize=(8, 6))\n",
    "for name, (fpr, tpr, auc_val) in roc_data.items():\n",
    "    plt.plot(fpr, tpr, label=f\"{name} (AUC = {auc_val:.2f})\")\n",
    "\n",
    "# Add diagonal (random guess) line\n",
    "plt.plot([0, 1], [0, 1], linestyle='--', color='gray')\n",
    "\n",
    "plt.xlabel(\"False Positive Rate\")\n",
    "plt.ylabel(\"True Positive Rate\")\n",
    "plt.title(\"ROC Curves for Best Models on Each Dataset\")\n",
    "plt.legend(loc=\"lower right\")\n",
    "plt.grid(True)\n",
    "plt.show()"
   ]
  },
  {
   "cell_type": "markdown",
   "metadata": {},
   "source": [
    "Feature Importance"
   ]
  },
  {
   "cell_type": "code",
   "execution_count": 62,
   "metadata": {},
   "outputs": [
    {
     "name": "stdout",
     "output_type": "stream",
     "text": [
      "\n",
      "=== Top 5 features for African ===\n",
      "Glucose           0.432203\n",
      "Systolic BP       0.077199\n",
      "Chol/HDL ratio    0.067734\n",
      "Age               0.066576\n",
      "BMI               0.052574\n",
      "dtype: float64\n",
      "\n",
      "=== Top 5 features for Bangladesh ===\n",
      "glucose         0.227721\n",
      "bmi             0.110965\n",
      "systolic_bp     0.097392\n",
      "weight          0.096648\n",
      "diastolic_bp    0.094721\n",
      "dtype: float64\n",
      "\n",
      "=== Top 5 features for Iraq ===\n",
      "HbA1c    0.328009\n",
      "BMI      0.263869\n",
      "Chol     0.115911\n",
      "Age      0.115452\n",
      "LDL      0.044690\n",
      "dtype: float64\n",
      "\n",
      "=== Top 5 features for InterGenetic ===\n",
      "IMPUTED_ENCODED                 0.236900\n",
      "INTERGENIC                      0.232119\n",
      "PLATFORM_AFFYMETRIX_ILLUMINA    0.087612\n",
      "PLATFORM_AFFYMETRIX             0.083942\n",
      "PVALUE_MLOG                     0.073515\n",
      "dtype: float64\n",
      "\n",
      "=== Top 5 features for NormalGenetic ===\n",
      "INTERGENIC                      0.231906\n",
      "IMPUTED_ENCODED                 0.196795\n",
      "MERGED                          0.118008\n",
      "PLATFORM_AFFYMETRIX_ILLUMINA    0.116914\n",
      "PLATFORM_AFFYMETRIX             0.106300\n",
      "dtype: float64\n"
     ]
    }
   ],
   "source": [
    "# Combine scaled features with original DataFrames for column names\n",
    "datasets_scaled = {\n",
    "    \"African\":       (X_train_african_sc,    y_train_african,    X_train_african),\n",
    "    \"Bangladesh\":    (X_train_bangladesh_sc, y_train_bangladesh, X_train_bangladesh),\n",
    "    \"Iraq\":          (X_train_iraq_sc,       y_train_iraq,       X_train_iraq),\n",
    "    \"InterGenetic\":  (X_train_inter,         y_train_inter,      X_train_inter),\n",
    "    \"NormalGenetic\": (X_train_normal,        y_train_normal,     X_train_normal),\n",
    "}\n",
    "\n",
    "feature_importance_results = {}\n",
    "\n",
    "for name, (X_scaled, y, X_df) in datasets_scaled.items():\n",
    "    # Train RandomForest on scaled features\n",
    "    rf = RandomForestClassifier(random_state=42)\n",
    "    rf.fit(X_scaled, y)\n",
    "    \n",
    "    # Get numeric column names\n",
    "    numeric_cols = list(X_df.select_dtypes(include=[np.number]).columns)\n",
    "    \n",
    "    # Map feature importances to column names\n",
    "    imps = pd.Series(rf.feature_importances_, index=numeric_cols)\n",
    "    \n",
    "    # Sort features by importance\n",
    "    feature_importance_results[name] = imps.sort_values(ascending=False)\n",
    "\n",
    "# Print top 5 features for each dataset\n",
    "for name, fi in feature_importance_results.items():\n",
    "    print(f\"\\n=== Top 5 features for {name} ===\")\n",
    "    print(fi.head(5))"
   ]
  },
  {
   "cell_type": "markdown",
   "metadata": {},
   "source": [
    "Top 5 feature importances for each dataset"
   ]
  },
  {
   "cell_type": "code",
   "execution_count": 63,
   "metadata": {},
   "outputs": [
    {
     "data": {
      "image/png": "[encoded data removed]",
      "text/plain": [
       "<Figure size 1400x1200 with 6 Axes>"
      ]
     },
     "metadata": {},
     "output_type": "display_data"
    }
   ],
   "source": [
    "# Set Seaborn to a clean white style\n",
    "sns.set(style=\"white\")\n",
    "\n",
    "# Set number of top features to display\n",
    "top_n = 5\n",
    "\n",
    "# Set up subplots: 2 columns\n",
    "n_datasets = len(feature_importance_results)\n",
    "n_cols = 2\n",
    "n_rows = ceil(n_datasets / n_cols)\n",
    "fig, axes = plt.subplots(n_rows, n_cols, figsize=(14, n_rows * 4), constrained_layout=True)\n",
    "axes = axes.flatten()\n",
    "\n",
    "# Use a different color for each dataset\n",
    "palette = sns.color_palette(\"tab10\", n_colors=n_datasets)\n",
    "\n",
    "for idx, ((dataset_name, fi_series), ax) in enumerate(zip(feature_importance_results.items(), axes)):\n",
    "    # Get top features (reversed for horizontal bar chart)\n",
    "    top_features = fi_series.head(top_n)[::-1]\n",
    "    \n",
    "    # Plot horizontal bar chart\n",
    "    ax.barh(top_features.index, top_features.values, color=palette[idx], edgecolor=\"black\")\n",
    "    \n",
    "    # Annotate bar values\n",
    "    for i, v in enumerate(top_features.values):\n",
    "        ax.text(v + 0.005, i, f\"{v:.3f}\", va='center', fontsize=10)\n",
    "    \n",
    "    # Set title and labels\n",
    "    ax.set_title(dataset_name, fontsize=14, weight=\"bold\")\n",
    "    ax.set_xlabel(\"Importance Score\", fontsize=12)\n",
    "    ax.set_ylabel(\"\")\n",
    "    \n",
    "    # Match x-axis scale across subplots\n",
    "    ax.set_xlim(0, max(fi_series.head(top_n).values) * 1.1)\n",
    "    \n",
    "    # Show light x-axis grid\n",
    "    ax.xaxis.grid(True, linestyle='--', alpha=0.5)\n",
    "    ax.yaxis.grid(False)\n",
    "\n",
    "# Hide extra empty subplots\n",
    "for ax in axes[n_datasets:]:\n",
    "    ax.axis('off')\n",
    "\n",
    "plt.suptitle(\"Top 5 Feature Importances per Dataset\", fontsize=16, weight=\"bold\", y=1.02)\n",
    "plt.show()"
   ]
  },
  {
   "cell_type": "markdown",
   "metadata": {},
   "source": [
    "# Fusion Models"
   ]
  },
  {
   "cell_type": "markdown",
   "metadata": {},
   "source": [
    "# First Neural Network Model"
   ]
  },
  {
   "cell_type": "code",
   "execution_count": null,
   "metadata": {},
   "outputs": [
    {
     "name": "stdout",
     "output_type": "stream",
     "text": [
      "Epoch 1/100\n",
      "\u001b[1m 1/11\u001b[0m \u001b[32m━\u001b[0m\u001b[37m━━━━━━━━━━━━━━━━━━━\u001b[0m \u001b[1m35s\u001b[0m 4s/step - accuracy: 0.5625 - loss: 1.4318Epoch 001 | loss=1.4782, acc=0.5093 | val_loss=1.3775, val_acc=0.4815 | 3.90s\n",
      "\u001b[1m11/11\u001b[0m \u001b[32m━━━━━━━━━━━━━━━━━━━━\u001b[0m\u001b[37m\u001b[0m \u001b[1m4s\u001b[0m 33ms/step - accuracy: 0.5141 - loss: 1.4603 - val_accuracy: 0.4815 - val_loss: 1.3775 - learning_rate: 1.0000e-04\n",
      "Epoch 2/100\n",
      "\u001b[1m 1/11\u001b[0m \u001b[32m━\u001b[0m\u001b[37m━━━━━━━━━━━━━━━━━━━\u001b[0m \u001b[1m0s\u001b[0m 14ms/step - accuracy: 0.4062 - loss: 1.4544Epoch 002 | loss=1.4270, acc=0.5280 | val_loss=1.3718, val_acc=0.4691 | 0.07s\n",
      "\u001b[1m11/11\u001b[0m \u001b[32m━━━━━━━━━━━━━━━━━━━━\u001b[0m\u001b[37m\u001b[0m \u001b[1m0s\u001b[0m 6ms/step - accuracy: 0.4912 - loss: 1.4319 - val_accuracy: 0.4691 - val_loss: 1.3718 - learning_rate: 1.0000e-04\n",
      "Epoch 3/100\n",
      "\u001b[1m 1/11\u001b[0m \u001b[32m━\u001b[0m\u001b[37m━━━━━━━━━━━━━━━━━━━\u001b[0m \u001b[1m0s\u001b[0m 13ms/step - accuracy: 0.3750 - loss: 1.6853Epoch 003 | loss=1.4346, acc=0.4845 | val_loss=1.3667, val_acc=0.4938 | 0.09s\n",
      "\u001b[1m11/11\u001b[0m \u001b[32m━━━━━━━━━━━━━━━━━━━━\u001b[0m\u001b[37m\u001b[0m \u001b[1m0s\u001b[0m 8ms/step - accuracy: 0.4703 - loss: 1.4775 - val_accuracy: 0.4938 - val_loss: 1.3667 - learning_rate: 1.0000e-04\n",
      "Epoch 4/100\n",
      "\u001b[1m 1/11\u001b[0m \u001b[32m━\u001b[0m\u001b[37m━━━━━━━━━━━━━━━━━━━\u001b[0m \u001b[1m0s\u001b[0m 14ms/step - accuracy: 0.5938 - loss: 1.3360Epoch 004 | loss=1.4122, acc=0.5248 | val_loss=1.3621, val_acc=0.4815 | 0.07s\n",
      "\u001b[1m11/11\u001b[0m \u001b[32m━━━━━━━━━━━━━━━━━━━━\u001b[0m\u001b[37m\u001b[0m \u001b[1m0s\u001b[0m 5ms/step - accuracy: 0.5418 - loss: 1.3930 - val_accuracy: 0.4815 - val_loss: 1.3621 - learning_rate: 1.0000e-04\n",
      "Epoch 5/100\n",
      "\u001b[1m 1/11\u001b[0m \u001b[32m━\u001b[0m\u001b[37m━━━━━━━━━━━━━━━━━━━\u001b[0m \u001b[1m0s\u001b[0m 13ms/step - accuracy: 0.3438 - loss: 1.5444Epoch 005 | loss=1.4132, acc=0.5186 | val_loss=1.3584, val_acc=0.4691 | 0.07s\n",
      "\u001b[1m11/11\u001b[0m \u001b[32m━━━━━━━━━━━━━━━━━━━━\u001b[0m\u001b[37m\u001b[0m \u001b[1m0s\u001b[0m 5ms/step - accuracy: 0.4844 - loss: 1.4422 - val_accuracy: 0.4691 - val_loss: 1.3584 - learning_rate: 1.0000e-04\n",
      "Epoch 6/100\n",
      "\u001b[1m 1/11\u001b[0m \u001b[32m━\u001b[0m\u001b[37m━━━━━━━━━━━━━━━━━━━\u001b[0m \u001b[1m0s\u001b[0m 13ms/step - accuracy: 0.5625 - loss: 1.3987Epoch 006 | loss=1.3594, acc=0.5497 | val_loss=1.3549, val_acc=0.5062 | 0.06s\n",
      "\u001b[1m11/11\u001b[0m \u001b[32m━━━━━━━━━━━━━━━━━━━━\u001b[0m\u001b[37m\u001b[0m \u001b[1m0s\u001b[0m 5ms/step - accuracy: 0.5480 - loss: 1.3691 - val_accuracy: 0.5062 - val_loss: 1.3549 - learning_rate: 1.0000e-04\n",
      "Epoch 7/100\n",
      "\u001b[1m 1/11\u001b[0m \u001b[32m━\u001b[0m\u001b[37m━━━━━━━━━━━━━━━━━━━\u001b[0m \u001b[1m0s\u001b[0m 13ms/step - accuracy: 0.4375 - loss: 1.3795Epoch 007 | loss=1.3828, acc=0.5404 | val_loss=1.3512, val_acc=0.5062 | 0.07s\n",
      "\u001b[1m11/11\u001b[0m \u001b[32m━━━━━━━━━━━━━━━━━━━━\u001b[0m\u001b[37m\u001b[0m \u001b[1m0s\u001b[0m 5ms/step - accuracy: 0.5382 - loss: 1.3847 - val_accuracy: 0.5062 - val_loss: 1.3512 - learning_rate: 1.0000e-04\n",
      "Epoch 8/100\n",
      "\u001b[1m 1/11\u001b[0m \u001b[32m━\u001b[0m\u001b[37m━━━━━━━━━━━━━━━━━━━\u001b[0m \u001b[1m0s\u001b[0m 12ms/step - accuracy: 0.5000 - loss: 1.3507Epoch 008 | loss=1.3997, acc=0.5124 | val_loss=1.3471, val_acc=0.5432 | 0.07s\n",
      "\u001b[1m11/11\u001b[0m \u001b[32m━━━━━━━━━━━━━━━━━━━━\u001b[0m\u001b[37m\u001b[0m \u001b[1m0s\u001b[0m 5ms/step - accuracy: 0.4955 - loss: 1.3980 - val_accuracy: 0.5432 - val_loss: 1.3471 - learning_rate: 1.0000e-04\n",
      "Epoch 9/100\n",
      "\u001b[1m 1/11\u001b[0m \u001b[32m━\u001b[0m\u001b[37m━━━━━━━━━━━━━━━━━━━\u001b[0m \u001b[1m0s\u001b[0m 18ms/step - accuracy: 0.6250 - loss: 1.2352Epoch 009 | loss=1.3302, acc=0.5901 | val_loss=1.3434, val_acc=0.5556 | 0.14s\n",
      "\u001b[1m11/11\u001b[0m \u001b[32m━━━━━━━━━━━━━━━━━━━━\u001b[0m\u001b[37m\u001b[0m \u001b[1m0s\u001b[0m 12ms/step - accuracy: 0.5931 - loss: 1.3105 - val_accuracy: 0.5556 - val_loss: 1.3434 - learning_rate: 1.0000e-04\n",
      "Epoch 10/100\n",
      "\u001b[1m 1/11\u001b[0m \u001b[32m━\u001b[0m\u001b[37m━━━━━━━━━━━━━━━━━━━\u001b[0m \u001b[1m0s\u001b[0m 16ms/step - accuracy: 0.5938 - loss: 1.2817Epoch 010 | loss=1.3369, acc=0.5776 | val_loss=1.3400, val_acc=0.5432 | 0.08s\n",
      "\u001b[1m11/11\u001b[0m \u001b[32m━━━━━━━━━━━━━━━━━━━━\u001b[0m\u001b[37m\u001b[0m \u001b[1m0s\u001b[0m 6ms/step - accuracy: 0.5776 - loss: 1.3287 - val_accuracy: 0.5432 - val_loss: 1.3400 - learning_rate: 1.0000e-04\n",
      "Epoch 11/100\n",
      "\u001b[1m 1/11\u001b[0m \u001b[32m━\u001b[0m\u001b[37m━━━━━━━━━━━━━━━━━━━\u001b[0m \u001b[1m0s\u001b[0m 16ms/step - accuracy: 0.8438 - loss: 1.2355Epoch 011 | loss=1.3473, acc=0.5839 | val_loss=1.3363, val_acc=0.5802 | 0.09s\n",
      "\u001b[1m11/11\u001b[0m \u001b[32m━━━━━━━━━━━━━━━━━━━━\u001b[0m\u001b[37m\u001b[0m \u001b[1m0s\u001b[0m 7ms/step - accuracy: 0.6163 - loss: 1.3273 - val_accuracy: 0.5802 - val_loss: 1.3363 - learning_rate: 1.0000e-04\n",
      "Epoch 12/100\n",
      "\u001b[1m 1/11\u001b[0m \u001b[32m━\u001b[0m\u001b[37m━━━━━━━━━━━━━━━━━━━\u001b[0m \u001b[1m0s\u001b[0m 15ms/step - accuracy: 0.6562 - loss: 1.2895Epoch 012 | loss=1.3259, acc=0.6118 | val_loss=1.3321, val_acc=0.5802 | 0.08s\n",
      "\u001b[1m11/11\u001b[0m \u001b[32m━━━━━━━━━━━━━━━━━━━━\u001b[0m\u001b[37m\u001b[0m \u001b[1m0s\u001b[0m 6ms/step - accuracy: 0.6033 - loss: 1.3335 - val_accuracy: 0.5802 - val_loss: 1.3321 - learning_rate: 1.0000e-04\n",
      "Epoch 13/100\n",
      "\u001b[1m 1/11\u001b[0m \u001b[32m━\u001b[0m\u001b[37m━━━━━━━━━━━━━━━━━━━\u001b[0m \u001b[1m0s\u001b[0m 16ms/step - accuracy: 0.5312 - loss: 1.3674Epoch 013 | loss=1.3400, acc=0.5559 | val_loss=1.3286, val_acc=0.5802 | 0.08s\n",
      "\u001b[1m11/11\u001b[0m \u001b[32m━━━━━━━━━━━━━━━━━━━━\u001b[0m\u001b[37m\u001b[0m \u001b[1m0s\u001b[0m 6ms/step - accuracy: 0.5477 - loss: 1.3335 - val_accuracy: 0.5802 - val_loss: 1.3286 - learning_rate: 1.0000e-04\n",
      "Epoch 14/100\n",
      "\u001b[1m 9/11\u001b[0m \u001b[32m━━━━━━━━━━━━━━━━\u001b[0m\u001b[37m━━━━\u001b[0m \u001b[1m0s\u001b[0m 7ms/step - accuracy: 0.6312 - loss: 1.3078 Epoch 014 | loss=1.3348, acc=0.5994 | val_loss=1.3247, val_acc=0.5802 | 0.16s\n",
      "\u001b[1m11/11\u001b[0m \u001b[32m━━━━━━━━━━━━━━━━━━━━\u001b[0m\u001b[37m\u001b[0m \u001b[1m0s\u001b[0m 14ms/step - accuracy: 0.6233 - loss: 1.3144 - val_accuracy: 0.5802 - val_loss: 1.3247 - learning_rate: 1.0000e-04\n",
      "Epoch 15/100\n",
      "\u001b[1m 1/11\u001b[0m \u001b[32m━\u001b[0m\u001b[37m━━━━━━━━━━━━━━━━━━━\u001b[0m \u001b[1m0s\u001b[0m 15ms/step - accuracy: 0.5938 - loss: 1.3375Epoch 015 | loss=1.3240, acc=0.6149 | val_loss=1.3212, val_acc=0.6049 | 0.08s\n",
      "\u001b[1m11/11\u001b[0m \u001b[32m━━━━━━━━━━━━━━━━━━━━\u001b[0m\u001b[37m\u001b[0m \u001b[1m0s\u001b[0m 6ms/step - accuracy: 0.6059 - loss: 1.3307 - val_accuracy: 0.6049 - val_loss: 1.3212 - learning_rate: 1.0000e-04\n",
      "Epoch 16/100\n",
      "\u001b[1m 1/11\u001b[0m \u001b[32m━\u001b[0m\u001b[37m━━━━━━━━━━━━━━━━━━━\u001b[0m \u001b[1m0s\u001b[0m 15ms/step - accuracy: 0.6875 - loss: 1.2415Epoch 016 | loss=1.3039, acc=0.5870 | val_loss=1.3169, val_acc=0.6543 | 0.08s\n",
      "\u001b[1m11/11\u001b[0m \u001b[32m━━━━━━━━━━━━━━━━━━━━\u001b[0m\u001b[37m\u001b[0m \u001b[1m0s\u001b[0m 6ms/step - accuracy: 0.6033 - loss: 1.2927 - val_accuracy: 0.6543 - val_loss: 1.3169 - learning_rate: 1.0000e-04\n",
      "Epoch 17/100\n",
      "\u001b[1m 1/11\u001b[0m \u001b[32m━\u001b[0m\u001b[37m━━━━━━━━━━━━━━━━━━━\u001b[0m \u001b[1m0s\u001b[0m 16ms/step - accuracy: 0.5625 - loss: 1.3510Epoch 017 | loss=1.3322, acc=0.5932 | val_loss=1.3130, val_acc=0.6543 | 0.08s\n",
      "\u001b[1m11/11\u001b[0m \u001b[32m━━━━━━━━━━━━━━━━━━━━\u001b[0m\u001b[37m\u001b[0m \u001b[1m0s\u001b[0m 6ms/step - accuracy: 0.6120 - loss: 1.3125 - val_accuracy: 0.6543 - val_loss: 1.3130 - learning_rate: 1.0000e-04\n",
      "Epoch 18/100\n",
      "\u001b[1m 1/11\u001b[0m \u001b[32m━\u001b[0m\u001b[37m━━━━━━━━━━━━━━━━━━━\u001b[0m \u001b[1m0s\u001b[0m 14ms/step - accuracy: 0.7188 - loss: 1.2678Epoch 018 | loss=1.2734, acc=0.6739 | val_loss=1.3083, val_acc=0.6543 | 0.07s\n",
      "\u001b[1m11/11\u001b[0m \u001b[32m━━━━━━━━━━━━━━━━━━━━\u001b[0m\u001b[37m\u001b[0m \u001b[1m0s\u001b[0m 6ms/step - accuracy: 0.6761 - loss: 1.2767 - val_accuracy: 0.6543 - val_loss: 1.3083 - learning_rate: 1.0000e-04\n",
      "Epoch 19/100\n",
      "\u001b[1m 1/11\u001b[0m \u001b[32m━\u001b[0m\u001b[37m━━━━━━━━━━━━━━━━━━━\u001b[0m \u001b[1m0s\u001b[0m 13ms/step - accuracy: 0.5312 - loss: 1.3593Epoch 019 | loss=1.2839, acc=0.6522 | val_loss=1.3031, val_acc=0.6543 | 0.07s\n",
      "\u001b[1m11/11\u001b[0m \u001b[32m━━━━━━━━━━━━━━━━━━━━\u001b[0m\u001b[37m\u001b[0m \u001b[1m0s\u001b[0m 6ms/step - accuracy: 0.6325 - loss: 1.2964 - val_accuracy: 0.6543 - val_loss: 1.3031 - learning_rate: 1.0000e-04\n",
      "Epoch 20/100\n",
      "\u001b[1m 1/11\u001b[0m \u001b[32m━\u001b[0m\u001b[37m━━━━━━━━━━━━━━━━━━━\u001b[0m \u001b[1m0s\u001b[0m 13ms/step - accuracy: 0.5000 - loss: 1.3644Epoch 020 | loss=1.2515, acc=0.6677 | val_loss=1.2981, val_acc=0.6543 | 0.07s\n",
      "\u001b[1m11/11\u001b[0m \u001b[32m━━━━━━━━━━━━━━━━━━━━\u001b[0m\u001b[37m\u001b[0m \u001b[1m0s\u001b[0m 6ms/step - accuracy: 0.6394 - loss: 1.2753 - val_accuracy: 0.6543 - val_loss: 1.2981 - learning_rate: 1.0000e-04\n",
      "Epoch 21/100\n",
      "\u001b[1m 1/11\u001b[0m \u001b[32m━\u001b[0m\u001b[37m━━━━━━━━━━━━━━━━━━━\u001b[0m \u001b[1m0s\u001b[0m 13ms/step - accuracy: 0.8125 - loss: 1.1740Epoch 021 | loss=1.2558, acc=0.6925 | val_loss=1.2922, val_acc=0.6543 | 0.07s\n",
      "\u001b[1m11/11\u001b[0m \u001b[32m━━━━━━━━━━━━━━━━━━━━\u001b[0m\u001b[37m\u001b[0m \u001b[1m0s\u001b[0m 6ms/step - accuracy: 0.7138 - loss: 1.2479 - val_accuracy: 0.6543 - val_loss: 1.2922 - learning_rate: 1.0000e-04\n",
      "Epoch 22/100\n",
      "\u001b[1m 1/11\u001b[0m \u001b[32m━\u001b[0m\u001b[37m━━━━━━━━━━━━━━━━━━━\u001b[0m \u001b[1m0s\u001b[0m 13ms/step - accuracy: 0.5625 - loss: 1.2974Epoch 022 | loss=1.2634, acc=0.6335 | val_loss=1.2864, val_acc=0.6914 | 0.07s\n",
      "\u001b[1m11/11\u001b[0m \u001b[32m━━━━━━━━━━━━━━━━━━━━\u001b[0m\u001b[37m\u001b[0m \u001b[1m0s\u001b[0m 6ms/step - accuracy: 0.6024 - loss: 1.2751 - val_accuracy: 0.6914 - val_loss: 1.2864 - learning_rate: 1.0000e-04\n",
      "Epoch 23/100\n",
      "\u001b[1m 1/11\u001b[0m \u001b[32m━\u001b[0m\u001b[37m━━━━━━━━━━━━━━━━━━━\u001b[0m \u001b[1m0s\u001b[0m 13ms/step - accuracy: 0.7188 - loss: 1.1914Epoch 023 | loss=1.2279, acc=0.7019 | val_loss=1.2806, val_acc=0.6914 | 0.07s\n",
      "\u001b[1m11/11\u001b[0m \u001b[32m━━━━━━━━━━━━━━━━━━━━\u001b[0m\u001b[37m\u001b[0m \u001b[1m0s\u001b[0m 6ms/step - accuracy: 0.6969 - loss: 1.2115 - val_accuracy: 0.6914 - val_loss: 1.2806 - learning_rate: 1.0000e-04\n",
      "Epoch 24/100\n",
      "\u001b[1m 1/11\u001b[0m \u001b[32m━\u001b[0m\u001b[37m━━━━━━━━━━━━━━━━━━━\u001b[0m \u001b[1m0s\u001b[0m 14ms/step - accuracy: 0.8438 - loss: 1.1708Epoch 024 | loss=1.2172, acc=0.7329 | val_loss=1.2746, val_acc=0.6914 | 0.07s\n",
      "\u001b[1m11/11\u001b[0m \u001b[32m━━━━━━━━━━━━━━━━━━━━\u001b[0m\u001b[37m\u001b[0m \u001b[1m0s\u001b[0m 6ms/step - accuracy: 0.7305 - loss: 1.2141 - val_accuracy: 0.6914 - val_loss: 1.2746 - learning_rate: 1.0000e-04\n",
      "Epoch 25/100\n",
      "\u001b[1m 1/11\u001b[0m \u001b[32m━\u001b[0m\u001b[37m━━━━━━━━━━━━━━━━━━━\u001b[0m \u001b[1m0s\u001b[0m 16ms/step - accuracy: 0.6875 - loss: 1.2331Epoch 025 | loss=1.2296, acc=0.6988 | val_loss=1.2690, val_acc=0.7037 | 0.08s\n",
      "\u001b[1m11/11\u001b[0m \u001b[32m━━━━━━━━━━━━━━━━━━━━\u001b[0m\u001b[37m\u001b[0m \u001b[1m0s\u001b[0m 6ms/step - accuracy: 0.7195 - loss: 1.2154 - val_accuracy: 0.7037 - val_loss: 1.2690 - learning_rate: 1.0000e-04\n",
      "Epoch 26/100\n",
      "\u001b[1m11/11\u001b[0m \u001b[32m━━━━━━━━━━━━━━━━━━━━\u001b[0m\u001b[37m\u001b[0m \u001b[1m0s\u001b[0m 6ms/step - accuracy: 0.7527 - loss: 1.1987 Epoch 026 | loss=1.2156, acc=0.7143 | val_loss=1.2634, val_acc=0.7160 | 0.15s\n",
      "\u001b[1m11/11\u001b[0m \u001b[32m━━━━━━━━━━━━━━━━━━━━\u001b[0m\u001b[37m\u001b[0m \u001b[1m0s\u001b[0m 13ms/step - accuracy: 0.7495 - loss: 1.2002 - val_accuracy: 0.7160 - val_loss: 1.2634 - learning_rate: 1.0000e-04\n",
      "Epoch 27/100\n",
      "\u001b[1m 1/11\u001b[0m \u001b[32m━\u001b[0m\u001b[37m━━━━━━━━━━━━━━━━━━━\u001b[0m \u001b[1m0s\u001b[0m 29ms/step - accuracy: 0.6562 - loss: 1.2348Epoch 027 | loss=1.2310, acc=0.6988 | val_loss=1.2576, val_acc=0.7160 | 0.11s\n",
      "\u001b[1m11/11\u001b[0m \u001b[32m━━━━━━━━━━━━━━━━━━━━\u001b[0m\u001b[37m\u001b[0m \u001b[1m0s\u001b[0m 8ms/step - accuracy: 0.6938 - loss: 1.2356 - val_accuracy: 0.7160 - val_loss: 1.2576 - learning_rate: 1.0000e-04\n",
      "Epoch 28/100\n",
      "\u001b[1m 1/11\u001b[0m \u001b[32m━\u001b[0m\u001b[37m━━━━━━━━━━━━━━━━━━━\u001b[0m \u001b[1m0s\u001b[0m 16ms/step - accuracy: 0.6562 - loss: 1.2911Epoch 028 | loss=1.1967, acc=0.7640 | val_loss=1.2518, val_acc=0.7284 | 0.09s\n",
      "\u001b[1m11/11\u001b[0m \u001b[32m━━━━━━━━━━━━━━━━━━━━\u001b[0m\u001b[37m\u001b[0m \u001b[1m0s\u001b[0m 7ms/step - accuracy: 0.7549 - loss: 1.2161 - val_accuracy: 0.7284 - val_loss: 1.2518 - learning_rate: 1.0000e-04\n",
      "Epoch 29/100\n",
      "\u001b[1m 1/11\u001b[0m \u001b[32m━\u001b[0m\u001b[37m━━━━━━━━━━━━━━━━━━━\u001b[0m \u001b[1m0s\u001b[0m 22ms/step - accuracy: 0.8125 - loss: 1.1163Epoch 029 | loss=1.1868, acc=0.7609 | val_loss=1.2454, val_acc=0.7160 | 0.09s\n",
      "\u001b[1m11/11\u001b[0m \u001b[32m━━━━━━━━━━━━━━━━━━━━\u001b[0m\u001b[37m\u001b[0m \u001b[1m0s\u001b[0m 7ms/step - accuracy: 0.7576 - loss: 1.1840 - val_accuracy: 0.7160 - val_loss: 1.2454 - learning_rate: 1.0000e-04\n",
      "Epoch 30/100\n",
      "\u001b[1m 1/11\u001b[0m \u001b[32m━\u001b[0m\u001b[37m━━━━━━━━━━━━━━━━━━━\u001b[0m \u001b[1m0s\u001b[0m 15ms/step - accuracy: 0.8125 - loss: 1.1045Epoch 030 | loss=1.1866, acc=0.7298 | val_loss=1.2391, val_acc=0.7160 | 0.07s\n",
      "\u001b[1m11/11\u001b[0m \u001b[32m━━━━━━━━━━━━━━━━━━━━\u001b[0m\u001b[37m\u001b[0m \u001b[1m0s\u001b[0m 6ms/step - accuracy: 0.7360 - loss: 1.1797 - val_accuracy: 0.7160 - val_loss: 1.2391 - learning_rate: 1.0000e-04\n",
      "Epoch 31/100\n",
      "\u001b[1m 1/11\u001b[0m \u001b[32m━\u001b[0m\u001b[37m━━━━━━━━━━━━━━━━━━━\u001b[0m \u001b[1m0s\u001b[0m 13ms/step - accuracy: 0.7500 - loss: 1.1775Epoch 031 | loss=1.2027, acc=0.7453 | val_loss=1.2323, val_acc=0.7284 | 0.07s\n",
      "\u001b[1m11/11\u001b[0m \u001b[32m━━━━━━━━━━━━━━━━━━━━\u001b[0m\u001b[37m\u001b[0m \u001b[1m0s\u001b[0m 6ms/step - accuracy: 0.7311 - loss: 1.2057 - val_accuracy: 0.7284 - val_loss: 1.2323 - learning_rate: 1.0000e-04\n",
      "Epoch 32/100\n",
      "\u001b[1m 1/11\u001b[0m \u001b[32m━\u001b[0m\u001b[37m━━━━━━━━━━━━━━━━━━━\u001b[0m \u001b[1m0s\u001b[0m 14ms/step - accuracy: 0.6562 - loss: 1.2202Epoch 032 | loss=1.1501, acc=0.7609 | val_loss=1.2250, val_acc=0.7284 | 0.07s\n",
      "\u001b[1m11/11\u001b[0m \u001b[32m━━━━━━━━━━━━━━━━━━━━\u001b[0m\u001b[37m\u001b[0m \u001b[1m0s\u001b[0m 5ms/step - accuracy: 0.7478 - loss: 1.1603 - val_accuracy: 0.7284 - val_loss: 1.2250 - learning_rate: 1.0000e-04\n",
      "Epoch 33/100\n",
      "\u001b[1m 1/11\u001b[0m \u001b[32m━\u001b[0m\u001b[37m━━━━━━━━━━━━━━━━━━━\u001b[0m \u001b[1m0s\u001b[0m 13ms/step - accuracy: 0.7500 - loss: 1.1619Epoch 033 | loss=1.1388, acc=0.7826 | val_loss=1.2186, val_acc=0.7531 | 0.07s\n",
      "\u001b[1m11/11\u001b[0m \u001b[32m━━━━━━━━━━━━━━━━━━━━\u001b[0m\u001b[37m\u001b[0m \u001b[1m0s\u001b[0m 6ms/step - accuracy: 0.7561 - loss: 1.1593 - val_accuracy: 0.7531 - val_loss: 1.2186 - learning_rate: 1.0000e-04\n",
      "Epoch 34/100\n",
      "\u001b[1m 1/11\u001b[0m \u001b[32m━\u001b[0m\u001b[37m━━━━━━━━━━━━━━━━━━━\u001b[0m \u001b[1m0s\u001b[0m 14ms/step - accuracy: 0.7500 - loss: 1.1630Epoch 034 | loss=1.1558, acc=0.7578 | val_loss=1.2115, val_acc=0.7531 | 0.07s\n",
      "\u001b[1m11/11\u001b[0m \u001b[32m━━━━━━━━━━━━━━━━━━━━\u001b[0m\u001b[37m\u001b[0m \u001b[1m0s\u001b[0m 6ms/step - accuracy: 0.7598 - loss: 1.1639 - val_accuracy: 0.7531 - val_loss: 1.2115 - learning_rate: 1.0000e-04\n",
      "Epoch 35/100\n",
      "\u001b[1m 1/11\u001b[0m \u001b[32m━\u001b[0m\u001b[37m━━━━━━━━━━━━━━━━━━━\u001b[0m \u001b[1m0s\u001b[0m 13ms/step - accuracy: 0.7500 - loss: 1.2367Epoch 035 | loss=1.1619, acc=0.7484 | val_loss=1.2040, val_acc=0.7531 | 0.07s\n",
      "\u001b[1m11/11\u001b[0m \u001b[32m━━━━━━━━━━━━━━━━━━━━\u001b[0m\u001b[37m\u001b[0m \u001b[1m0s\u001b[0m 6ms/step - accuracy: 0.7504 - loss: 1.1772 - val_accuracy: 0.7531 - val_loss: 1.2040 - learning_rate: 1.0000e-04\n",
      "Epoch 36/100\n",
      "\u001b[1m 1/11\u001b[0m \u001b[32m━\u001b[0m\u001b[37m━━━━━━━━━━━━━━━━━━━\u001b[0m \u001b[1m0s\u001b[0m 12ms/step - accuracy: 0.5938 - loss: 1.1944Epoch 036 | loss=1.1465, acc=0.7267 | val_loss=1.1973, val_acc=0.7654 | 0.07s\n",
      "\u001b[1m11/11\u001b[0m \u001b[32m━━━━━━━━━━━━━━━━━━━━\u001b[0m\u001b[37m\u001b[0m \u001b[1m0s\u001b[0m 6ms/step - accuracy: 0.6853 - loss: 1.1629 - val_accuracy: 0.7654 - val_loss: 1.1973 - learning_rate: 1.0000e-04\n",
      "Epoch 37/100\n",
      "\u001b[1m 1/11\u001b[0m \u001b[32m━\u001b[0m\u001b[37m━━━━━━━━━━━━━━━━━━━\u001b[0m \u001b[1m0s\u001b[0m 13ms/step - accuracy: 0.8438 - loss: 1.0721Epoch 037 | loss=1.1146, acc=0.7981 | val_loss=1.1910, val_acc=0.7654 | 0.07s\n",
      "\u001b[1m11/11\u001b[0m \u001b[32m━━━━━━━━━━━━━━━━━━━━\u001b[0m\u001b[37m\u001b[0m \u001b[1m0s\u001b[0m 6ms/step - accuracy: 0.8215 - loss: 1.0994 - val_accuracy: 0.7654 - val_loss: 1.1910 - learning_rate: 1.0000e-04\n",
      "Epoch 38/100\n",
      "\u001b[1m 1/11\u001b[0m \u001b[32m━\u001b[0m\u001b[37m━━━━━━━━━━━━━━━━━━━\u001b[0m \u001b[1m0s\u001b[0m 12ms/step - accuracy: 0.7812 - loss: 1.1093Epoch 038 | loss=1.1202, acc=0.7981 | val_loss=1.1858, val_acc=0.7654 | 0.07s\n",
      "\u001b[1m11/11\u001b[0m \u001b[32m━━━━━━━━━━━━━━━━━━━━\u001b[0m\u001b[37m\u001b[0m \u001b[1m0s\u001b[0m 6ms/step - accuracy: 0.8162 - loss: 1.1064 - val_accuracy: 0.7654 - val_loss: 1.1858 - learning_rate: 1.0000e-04\n",
      "Epoch 39/100\n",
      "\u001b[1m 1/11\u001b[0m \u001b[32m━\u001b[0m\u001b[37m━━━━━━━━━━━━━━━━━━━\u001b[0m \u001b[1m0s\u001b[0m 18ms/step - accuracy: 0.7500 - loss: 1.1246Epoch 039 | loss=1.1384, acc=0.7640 | val_loss=1.1791, val_acc=0.7901 | 0.08s\n",
      "\u001b[1m11/11\u001b[0m \u001b[32m━━━━━━━━━━━━━━━━━━━━\u001b[0m\u001b[37m\u001b[0m \u001b[1m0s\u001b[0m 6ms/step - accuracy: 0.7636 - loss: 1.1377 - val_accuracy: 0.7901 - val_loss: 1.1791 - learning_rate: 1.0000e-04\n",
      "Epoch 40/100\n",
      "\u001b[1m 1/11\u001b[0m \u001b[32m━\u001b[0m\u001b[37m━━━━━━━━━━━━━━━━━━━\u001b[0m \u001b[1m0s\u001b[0m 13ms/step - accuracy: 0.7188 - loss: 1.1350Epoch 040 | loss=1.1063, acc=0.7888 | val_loss=1.1728, val_acc=0.7901 | 0.08s\n",
      "\u001b[1m11/11\u001b[0m \u001b[32m━━━━━━━━━━━━━━━━━━━━\u001b[0m\u001b[37m\u001b[0m \u001b[1m0s\u001b[0m 7ms/step - accuracy: 0.7880 - loss: 1.0979 - val_accuracy: 0.7901 - val_loss: 1.1728 - learning_rate: 1.0000e-04\n",
      "Epoch 41/100\n",
      "\u001b[1m 1/11\u001b[0m \u001b[32m━\u001b[0m\u001b[37m━━━━━━━━━━━━━━━━━━━\u001b[0m \u001b[1m0s\u001b[0m 16ms/step - accuracy: 0.8438 - loss: 1.0688Epoch 041 | loss=1.1233, acc=0.7950 | val_loss=1.1667, val_acc=0.7901 | 0.08s\n",
      "\u001b[1m11/11\u001b[0m \u001b[32m━━━━━━━━━━━━━━━━━━━━\u001b[0m\u001b[37m\u001b[0m \u001b[1m0s\u001b[0m 6ms/step - accuracy: 0.8013 - loss: 1.1241 - val_accuracy: 0.7901 - val_loss: 1.1667 - learning_rate: 1.0000e-04\n",
      "Epoch 42/100\n",
      "\u001b[1m 1/11\u001b[0m \u001b[32m━\u001b[0m\u001b[37m━━━━━━━━━━━━━━━━━━━\u001b[0m \u001b[1m0s\u001b[0m 14ms/step - accuracy: 0.7812 - loss: 1.1505Epoch 042 | loss=1.1088, acc=0.8043 | val_loss=1.1611, val_acc=0.8025 | 0.08s\n",
      "\u001b[1m11/11\u001b[0m \u001b[32m━━━━━━━━━━━━━━━━━━━━\u001b[0m\u001b[37m\u001b[0m \u001b[1m0s\u001b[0m 7ms/step - accuracy: 0.8174 - loss: 1.1041 - val_accuracy: 0.8025 - val_loss: 1.1611 - learning_rate: 1.0000e-04\n",
      "Epoch 43/100\n",
      "\u001b[1m 1/11\u001b[0m \u001b[32m━\u001b[0m\u001b[37m━━━━━━━━━━━━━━━━━━━\u001b[0m \u001b[1m0s\u001b[0m 13ms/step - accuracy: 0.7500 - loss: 1.0563Epoch 043 | loss=1.1076, acc=0.7702 | val_loss=1.1543, val_acc=0.8025 | 0.07s\n",
      "\u001b[1m11/11\u001b[0m \u001b[32m━━━━━━━━━━━━━━━━━━━━\u001b[0m\u001b[37m\u001b[0m \u001b[1m0s\u001b[0m 6ms/step - accuracy: 0.7446 - loss: 1.1130 - val_accuracy: 0.8025 - val_loss: 1.1543 - learning_rate: 1.0000e-04\n",
      "Epoch 44/100\n",
      "\u001b[1m 1/11\u001b[0m \u001b[32m━\u001b[0m\u001b[37m━━━━━━━━━━━━━━━━━━━\u001b[0m \u001b[1m0s\u001b[0m 16ms/step - accuracy: 0.6562 - loss: 1.2128Epoch 044 | loss=1.0692, acc=0.8261 | val_loss=1.1479, val_acc=0.8025 | 0.08s\n",
      "\u001b[1m11/11\u001b[0m \u001b[32m━━━━━━━━━━━━━━━━━━━━\u001b[0m\u001b[37m\u001b[0m \u001b[1m0s\u001b[0m 6ms/step - accuracy: 0.8027 - loss: 1.0899 - val_accuracy: 0.8025 - val_loss: 1.1479 - learning_rate: 1.0000e-04\n",
      "Epoch 45/100\n",
      "\u001b[1m 1/11\u001b[0m \u001b[32m━\u001b[0m\u001b[37m━━━━━━━━━━━━━━━━━━━\u001b[0m \u001b[1m0s\u001b[0m 15ms/step - accuracy: 0.8438 - loss: 1.0922Epoch 045 | loss=1.0649, acc=0.8323 | val_loss=1.1420, val_acc=0.8025 | 0.07s\n",
      "\u001b[1m11/11\u001b[0m \u001b[32m━━━━━━━━━━━━━━━━━━━━\u001b[0m\u001b[37m\u001b[0m \u001b[1m0s\u001b[0m 6ms/step - accuracy: 0.8227 - loss: 1.0769 - val_accuracy: 0.8025 - val_loss: 1.1420 - learning_rate: 1.0000e-04\n",
      "Epoch 46/100\n",
      "\u001b[1m 1/11\u001b[0m \u001b[32m━\u001b[0m\u001b[37m━━━━━━━━━━━━━━━━━━━\u001b[0m \u001b[1m0s\u001b[0m 14ms/step - accuracy: 0.8438 - loss: 1.0454Epoch 046 | loss=1.0417, acc=0.8571 | val_loss=1.1365, val_acc=0.8148 | 0.07s\n",
      "\u001b[1m11/11\u001b[0m \u001b[32m━━━━━━━━━━━━━━━━━━━━\u001b[0m\u001b[37m\u001b[0m \u001b[1m0s\u001b[0m 6ms/step - accuracy: 0.8590 - loss: 1.0347 - val_accuracy: 0.8148 - val_loss: 1.1365 - learning_rate: 1.0000e-04\n",
      "Epoch 47/100\n",
      "\u001b[1m 1/11\u001b[0m \u001b[32m━\u001b[0m\u001b[37m━━━━━━━━━━━━━━━━━━━\u001b[0m \u001b[1m0s\u001b[0m 14ms/step - accuracy: 0.9062 - loss: 1.0343Epoch 047 | loss=1.0603, acc=0.8230 | val_loss=1.1303, val_acc=0.8025 | 0.07s\n",
      "\u001b[1m11/11\u001b[0m \u001b[32m━━━━━━━━━━━━━━━━━━━━\u001b[0m\u001b[37m\u001b[0m \u001b[1m0s\u001b[0m 6ms/step - accuracy: 0.8262 - loss: 1.0726 - val_accuracy: 0.8025 - val_loss: 1.1303 - learning_rate: 1.0000e-04\n",
      "Epoch 48/100\n",
      "\u001b[1m 1/11\u001b[0m \u001b[32m━\u001b[0m\u001b[37m━━━━━━━━━━━━━━━━━━━\u001b[0m \u001b[1m0s\u001b[0m 13ms/step - accuracy: 0.8125 - loss: 1.0216Epoch 048 | loss=1.0334, acc=0.8385 | val_loss=1.1247, val_acc=0.8272 | 0.07s\n",
      "\u001b[1m11/11\u001b[0m \u001b[32m━━━━━━━━━━━━━━━━━━━━\u001b[0m\u001b[37m\u001b[0m \u001b[1m0s\u001b[0m 6ms/step - accuracy: 0.8431 - loss: 1.0270 - val_accuracy: 0.8272 - val_loss: 1.1247 - learning_rate: 1.0000e-04\n",
      "Epoch 49/100\n",
      "\u001b[1m 1/11\u001b[0m \u001b[32m━\u001b[0m\u001b[37m━━━━━━━━━━━━━━━━━━━\u001b[0m \u001b[1m0s\u001b[0m 14ms/step - accuracy: 0.8438 - loss: 1.0118Epoch 049 | loss=1.0331, acc=0.8571 | val_loss=1.1184, val_acc=0.8272 | 0.08s\n",
      "\u001b[1m11/11\u001b[0m \u001b[32m━━━━━━━━━━━━━━━━━━━━\u001b[0m\u001b[37m\u001b[0m \u001b[1m0s\u001b[0m 6ms/step - accuracy: 0.8495 - loss: 1.0324 - val_accuracy: 0.8272 - val_loss: 1.1184 - learning_rate: 1.0000e-04\n",
      "Epoch 50/100\n",
      "\u001b[1m 1/11\u001b[0m \u001b[32m━\u001b[0m\u001b[37m━━━━━━━━━━━━━━━━━━━\u001b[0m \u001b[1m0s\u001b[0m 20ms/step - accuracy: 0.8750 - loss: 0.9897Epoch 050 | loss=1.0524, acc=0.8261 | val_loss=1.1128, val_acc=0.8272 | 0.07s\n",
      "\u001b[1m11/11\u001b[0m \u001b[32m━━━━━━━━━━━━━━━━━━━━\u001b[0m\u001b[37m\u001b[0m \u001b[1m0s\u001b[0m 5ms/step - accuracy: 0.8100 - loss: 1.0637 - val_accuracy: 0.8272 - val_loss: 1.1128 - learning_rate: 1.0000e-04\n",
      "Epoch 51/100\n",
      "\u001b[1m 1/11\u001b[0m \u001b[32m━\u001b[0m\u001b[37m━━━━━━━━━━━━━━━━━━━\u001b[0m \u001b[1m0s\u001b[0m 13ms/step - accuracy: 0.8438 - loss: 1.0135Epoch 051 | loss=1.0051, acc=0.8820 | val_loss=1.1067, val_acc=0.8272 | 0.07s\n",
      "\u001b[1m11/11\u001b[0m \u001b[32m━━━━━━━━━━━━━━━━━━━━\u001b[0m\u001b[37m\u001b[0m \u001b[1m0s\u001b[0m 6ms/step - accuracy: 0.8755 - loss: 1.0160 - val_accuracy: 0.8272 - val_loss: 1.1067 - learning_rate: 1.0000e-04\n",
      "Epoch 52/100\n",
      "\u001b[1m 1/11\u001b[0m \u001b[32m━\u001b[0m\u001b[37m━━━━━━━━━━━━━━━━━━━\u001b[0m \u001b[1m0s\u001b[0m 15ms/step - accuracy: 0.9375 - loss: 0.9878Epoch 052 | loss=1.0115, acc=0.8509 | val_loss=1.1006, val_acc=0.8272 | 0.07s\n",
      "\u001b[1m11/11\u001b[0m \u001b[32m━━━━━━━━━━━━━━━━━━━━\u001b[0m\u001b[37m\u001b[0m \u001b[1m0s\u001b[0m 6ms/step - accuracy: 0.8624 - loss: 1.0027 - val_accuracy: 0.8272 - val_loss: 1.1006 - learning_rate: 1.0000e-04\n",
      "Epoch 53/100\n",
      "\u001b[1m 1/11\u001b[0m \u001b[32m━\u001b[0m\u001b[37m━━━━━━━━━━━━━━━━━━━\u001b[0m \u001b[1m0s\u001b[0m 14ms/step - accuracy: 0.8125 - loss: 1.0676Epoch 053 | loss=1.0270, acc=0.8447 | val_loss=1.0946, val_acc=0.8272 | 0.07s\n",
      "\u001b[1m11/11\u001b[0m \u001b[32m━━━━━━━━━━━━━━━━━━━━\u001b[0m\u001b[37m\u001b[0m \u001b[1m0s\u001b[0m 6ms/step - accuracy: 0.8287 - loss: 1.0383 - val_accuracy: 0.8272 - val_loss: 1.0946 - learning_rate: 1.0000e-04\n",
      "Epoch 54/100\n",
      "\u001b[1m 1/11\u001b[0m \u001b[32m━\u001b[0m\u001b[37m━━━━━━━━━━━━━━━━━━━\u001b[0m \u001b[1m0s\u001b[0m 13ms/step - accuracy: 0.8750 - loss: 0.9571Epoch 054 | loss=0.9926, acc=0.8727 | val_loss=1.0884, val_acc=0.8272 | 0.07s\n",
      "\u001b[1m11/11\u001b[0m \u001b[32m━━━━━━━━━━━━━━━━━━━━\u001b[0m\u001b[37m\u001b[0m \u001b[1m0s\u001b[0m 5ms/step - accuracy: 0.8834 - loss: 0.9765 - val_accuracy: 0.8272 - val_loss: 1.0884 - learning_rate: 1.0000e-04\n",
      "Epoch 55/100\n",
      "\u001b[1m 1/11\u001b[0m \u001b[32m━\u001b[0m\u001b[37m━━━━━━━━━━━━━━━━━━━\u001b[0m \u001b[1m0s\u001b[0m 13ms/step - accuracy: 0.8750 - loss: 0.9883Epoch 055 | loss=0.9851, acc=0.8851 | val_loss=1.0821, val_acc=0.8272 | 0.07s\n",
      "\u001b[1m11/11\u001b[0m \u001b[32m━━━━━━━━━━━━━━━━━━━━\u001b[0m\u001b[37m\u001b[0m \u001b[1m0s\u001b[0m 5ms/step - accuracy: 0.8835 - loss: 0.9844 - val_accuracy: 0.8272 - val_loss: 1.0821 - learning_rate: 1.0000e-04\n",
      "Epoch 56/100\n",
      "\u001b[1m 1/11\u001b[0m \u001b[32m━\u001b[0m\u001b[37m━━━━━━━━━━━━━━━━━━━\u001b[0m \u001b[1m0s\u001b[0m 12ms/step - accuracy: 0.8125 - loss: 1.0406Epoch 056 | loss=0.9774, acc=0.8727 | val_loss=1.0765, val_acc=0.8395 | 0.06s\n",
      "\u001b[1m11/11\u001b[0m \u001b[32m━━━━━━━━━━━━━━━━━━━━\u001b[0m\u001b[37m\u001b[0m \u001b[1m0s\u001b[0m 5ms/step - accuracy: 0.8490 - loss: 0.9940 - val_accuracy: 0.8395 - val_loss: 1.0765 - learning_rate: 1.0000e-04\n",
      "Epoch 57/100\n",
      "\u001b[1m 1/11\u001b[0m \u001b[32m━\u001b[0m\u001b[37m━━━━━━━━━━━━━━━━━━━\u001b[0m \u001b[1m0s\u001b[0m 13ms/step - accuracy: 1.0000 - loss: 0.8672Epoch 057 | loss=0.9610, acc=0.8944 | val_loss=1.0716, val_acc=0.8395 | 0.07s\n",
      "\u001b[1m11/11\u001b[0m \u001b[32m━━━━━━━━━━━━━━━━━━━━\u001b[0m\u001b[37m\u001b[0m \u001b[1m0s\u001b[0m 6ms/step - accuracy: 0.9182 - loss: 0.9327 - val_accuracy: 0.8395 - val_loss: 1.0716 - learning_rate: 1.0000e-04\n",
      "Epoch 58/100\n",
      "\u001b[1m 1/11\u001b[0m \u001b[32m━\u001b[0m\u001b[37m━━━━━━━━━━━━━━━━━━━\u001b[0m \u001b[1m0s\u001b[0m 14ms/step - accuracy: 0.9688 - loss: 0.8458Epoch 058 | loss=0.9435, acc=0.9161 | val_loss=1.0667, val_acc=0.8395 | 0.08s\n",
      "\u001b[1m11/11\u001b[0m \u001b[32m━━━━━━━━━━━━━━━━━━━━\u001b[0m\u001b[37m\u001b[0m \u001b[1m0s\u001b[0m 7ms/step - accuracy: 0.9095 - loss: 0.9379 - val_accuracy: 0.8395 - val_loss: 1.0667 - learning_rate: 1.0000e-04\n",
      "Epoch 59/100\n",
      "\u001b[1m 1/11\u001b[0m \u001b[32m━\u001b[0m\u001b[37m━━━━━━━━━━━━━━━━━━━\u001b[0m \u001b[1m0s\u001b[0m 13ms/step - accuracy: 0.9062 - loss: 1.0250Epoch 059 | loss=0.9839, acc=0.8789 | val_loss=1.0613, val_acc=0.8395 | 0.07s\n",
      "\u001b[1m11/11\u001b[0m \u001b[32m━━━━━━━━━━━━━━━━━━━━\u001b[0m\u001b[37m\u001b[0m \u001b[1m0s\u001b[0m 6ms/step - accuracy: 0.8826 - loss: 0.9894 - val_accuracy: 0.8395 - val_loss: 1.0613 - learning_rate: 1.0000e-04\n",
      "Epoch 60/100\n",
      "\u001b[1m 1/11\u001b[0m \u001b[32m━\u001b[0m\u001b[37m━━━━━━━━━━━━━━━━━━━\u001b[0m \u001b[1m0s\u001b[0m 14ms/step - accuracy: 0.9688 - loss: 0.9172Epoch 060 | loss=0.9350, acc=0.8882 | val_loss=1.0560, val_acc=0.8395 | 0.08s\n",
      "\u001b[1m11/11\u001b[0m \u001b[32m━━━━━━━━━━━━━━━━━━━━\u001b[0m\u001b[37m\u001b[0m \u001b[1m0s\u001b[0m 7ms/step - accuracy: 0.9087 - loss: 0.9240 - val_accuracy: 0.8395 - val_loss: 1.0560 - learning_rate: 1.0000e-04\n",
      "Epoch 61/100\n",
      "\u001b[1m 1/11\u001b[0m \u001b[32m━\u001b[0m\u001b[37m━━━━━━━━━━━━━━━━━━━\u001b[0m \u001b[1m0s\u001b[0m 13ms/step - accuracy: 1.0000 - loss: 0.8915Epoch 061 | loss=0.9174, acc=0.9317 | val_loss=1.0505, val_acc=0.8395 | 0.07s\n",
      "\u001b[1m11/11\u001b[0m \u001b[32m━━━━━━━━━━━━━━━━━━━━\u001b[0m\u001b[37m\u001b[0m \u001b[1m0s\u001b[0m 6ms/step - accuracy: 0.9413 - loss: 0.9171 - val_accuracy: 0.8395 - val_loss: 1.0505 - learning_rate: 1.0000e-04\n",
      "Epoch 62/100\n",
      "\u001b[1m 1/11\u001b[0m \u001b[32m━\u001b[0m\u001b[37m━━━━━━━━━━━━━━━━━━━\u001b[0m \u001b[1m0s\u001b[0m 12ms/step - accuracy: 0.8438 - loss: 0.9807Epoch 062 | loss=0.9134, acc=0.9099 | val_loss=1.0452, val_acc=0.8642 | 0.07s\n",
      "\u001b[1m11/11\u001b[0m \u001b[32m━━━━━━━━━━━━━━━━━━━━\u001b[0m\u001b[37m\u001b[0m \u001b[1m0s\u001b[0m 5ms/step - accuracy: 0.8992 - loss: 0.9206 - val_accuracy: 0.8642 - val_loss: 1.0452 - learning_rate: 1.0000e-04\n",
      "Epoch 63/100\n",
      "\u001b[1m 1/11\u001b[0m \u001b[32m━\u001b[0m\u001b[37m━━━━━━━━━━━━━━━━━━━\u001b[0m \u001b[1m0s\u001b[0m 13ms/step - accuracy: 0.9062 - loss: 0.9152Epoch 063 | loss=0.9277, acc=0.8913 | val_loss=1.0391, val_acc=0.8642 | 0.07s\n",
      "\u001b[1m11/11\u001b[0m \u001b[32m━━━━━━━━━━━━━━━━━━━━\u001b[0m\u001b[37m\u001b[0m \u001b[1m0s\u001b[0m 5ms/step - accuracy: 0.8892 - loss: 0.9377 - val_accuracy: 0.8642 - val_loss: 1.0391 - learning_rate: 1.0000e-04\n",
      "Epoch 64/100\n",
      "\u001b[1m 1/11\u001b[0m \u001b[32m━\u001b[0m\u001b[37m━━━━━━━━━━━━━━━━━━━\u001b[0m \u001b[1m0s\u001b[0m 12ms/step - accuracy: 0.9688 - loss: 0.8518Epoch 064 | loss=0.9193, acc=0.9006 | val_loss=1.0335, val_acc=0.8642 | 0.07s\n",
      "\u001b[1m11/11\u001b[0m \u001b[32m━━━━━━━━━━━━━━━━━━━━\u001b[0m\u001b[37m\u001b[0m \u001b[1m0s\u001b[0m 5ms/step - accuracy: 0.9097 - loss: 0.9097 - val_accuracy: 0.8642 - val_loss: 1.0335 - learning_rate: 1.0000e-04\n",
      "Epoch 65/100\n",
      "\u001b[1m 1/11\u001b[0m \u001b[32m━\u001b[0m\u001b[37m━━━━━━━━━━━━━━━━━━━\u001b[0m \u001b[1m0s\u001b[0m 12ms/step - accuracy: 0.9688 - loss: 0.8464Epoch 065 | loss=0.9022, acc=0.9037 | val_loss=1.0288, val_acc=0.8642 | 0.07s\n",
      "\u001b[1m11/11\u001b[0m \u001b[32m━━━━━━━━━━━━━━━━━━━━\u001b[0m\u001b[37m\u001b[0m \u001b[1m0s\u001b[0m 5ms/step - accuracy: 0.9026 - loss: 0.8977 - val_accuracy: 0.8642 - val_loss: 1.0288 - learning_rate: 1.0000e-04\n",
      "Epoch 66/100\n",
      "\u001b[1m 1/11\u001b[0m \u001b[32m━\u001b[0m\u001b[37m━━━━━━━━━━━━━━━━━━━\u001b[0m \u001b[1m0s\u001b[0m 14ms/step - accuracy: 0.9375 - loss: 0.8406Epoch 066 | loss=0.8931, acc=0.9286 | val_loss=1.0247, val_acc=0.8642 | 0.07s\n",
      "\u001b[1m11/11\u001b[0m \u001b[32m━━━━━━━━━━━━━━━━━━━━\u001b[0m\u001b[37m\u001b[0m \u001b[1m0s\u001b[0m 6ms/step - accuracy: 0.9424 - loss: 0.8672 - val_accuracy: 0.8642 - val_loss: 1.0247 - learning_rate: 1.0000e-04\n",
      "Epoch 67/100\n",
      "\u001b[1m 1/11\u001b[0m \u001b[32m━\u001b[0m\u001b[37m━━━━━━━━━━━━━━━━━━━\u001b[0m \u001b[1m0s\u001b[0m 12ms/step - accuracy: 0.8750 - loss: 0.8801Epoch 067 | loss=0.9121, acc=0.9037 | val_loss=1.0203, val_acc=0.8642 | 0.06s\n",
      "\u001b[1m11/11\u001b[0m \u001b[32m━━━━━━━━━━━━━━━━━━━━\u001b[0m\u001b[37m\u001b[0m \u001b[1m0s\u001b[0m 5ms/step - accuracy: 0.9078 - loss: 0.8989 - val_accuracy: 0.8642 - val_loss: 1.0203 - learning_rate: 1.0000e-04\n",
      "Epoch 68/100\n",
      "\u001b[1m 1/11\u001b[0m \u001b[32m━\u001b[0m\u001b[37m━━━━━━━━━━━━━━━━━━━\u001b[0m \u001b[1m0s\u001b[0m 14ms/step - accuracy: 0.9062 - loss: 0.8821Epoch 068 | loss=0.9104, acc=0.9037 | val_loss=1.0164, val_acc=0.8642 | 0.07s\n",
      "\u001b[1m11/11\u001b[0m \u001b[32m━━━━━━━━━━━━━━━━━━━━\u001b[0m\u001b[37m\u001b[0m \u001b[1m0s\u001b[0m 6ms/step - accuracy: 0.9058 - loss: 0.9060 - val_accuracy: 0.8642 - val_loss: 1.0164 - learning_rate: 1.0000e-04\n",
      "Epoch 69/100\n",
      "\u001b[1m 1/11\u001b[0m \u001b[32m━\u001b[0m\u001b[37m━━━━━━━━━━━━━━━━━━━\u001b[0m \u001b[1m0s\u001b[0m 13ms/step - accuracy: 0.9688 - loss: 0.8603Epoch 069 | loss=0.8820, acc=0.9317 | val_loss=1.0112, val_acc=0.8642 | 0.07s\n",
      "\u001b[1m11/11\u001b[0m \u001b[32m━━━━━━━━━━━━━━━━━━━━\u001b[0m\u001b[37m\u001b[0m \u001b[1m0s\u001b[0m 6ms/step - accuracy: 0.9475 - loss: 0.8788 - val_accuracy: 0.8642 - val_loss: 1.0112 - learning_rate: 1.0000e-04\n",
      "Epoch 70/100\n",
      "\u001b[1m 1/11\u001b[0m \u001b[32m━\u001b[0m\u001b[37m━━━━━━━━━━━━━━━━━━━\u001b[0m \u001b[1m0s\u001b[0m 17ms/step - accuracy: 0.9375 - loss: 0.9017Epoch 070 | loss=0.8874, acc=0.9286 | val_loss=1.0068, val_acc=0.8642 | 0.07s\n",
      "\u001b[1m11/11\u001b[0m \u001b[32m━━━━━━━━━━━━━━━━━━━━\u001b[0m\u001b[37m\u001b[0m \u001b[1m0s\u001b[0m 6ms/step - accuracy: 0.9281 - loss: 0.8932 - val_accuracy: 0.8642 - val_loss: 1.0068 - learning_rate: 1.0000e-04\n",
      "Epoch 71/100\n",
      "\u001b[1m 1/11\u001b[0m \u001b[32m━\u001b[0m\u001b[37m━━━━━━━━━━━━━━━━━━━\u001b[0m \u001b[1m0s\u001b[0m 14ms/step - accuracy: 0.8750 - loss: 0.9260Epoch 071 | loss=0.8970, acc=0.9130 | val_loss=1.0019, val_acc=0.8642 | 0.07s\n",
      "\u001b[1m11/11\u001b[0m \u001b[32m━━━━━━━━━━━━━━━━━━━━\u001b[0m\u001b[37m\u001b[0m \u001b[1m0s\u001b[0m 5ms/step - accuracy: 0.9027 - loss: 0.8996 - val_accuracy: 0.8642 - val_loss: 1.0019 - learning_rate: 1.0000e-04\n",
      "Epoch 72/100\n",
      "\u001b[1m 1/11\u001b[0m \u001b[32m━\u001b[0m\u001b[37m━━━━━━━━━━━━━━━━━━━\u001b[0m \u001b[1m0s\u001b[0m 13ms/step - accuracy: 0.9062 - loss: 0.8438Epoch 072 | loss=0.8770, acc=0.9255 | val_loss=0.9977, val_acc=0.8642 | 0.07s\n",
      "\u001b[1m11/11\u001b[0m \u001b[32m━━━━━━━━━━━━━━━━━━━━\u001b[0m\u001b[37m\u001b[0m \u001b[1m0s\u001b[0m 6ms/step - accuracy: 0.9069 - loss: 0.8809 - val_accuracy: 0.8642 - val_loss: 0.9977 - learning_rate: 1.0000e-04\n",
      "Epoch 73/100\n",
      "\u001b[1m 1/11\u001b[0m \u001b[32m━\u001b[0m\u001b[37m━━━━━━━━━━━━━━━━━━━\u001b[0m \u001b[1m0s\u001b[0m 13ms/step - accuracy: 0.9375 - loss: 0.9025Epoch 073 | loss=0.9096, acc=0.8975 | val_loss=0.9938, val_acc=0.8642 | 0.06s\n",
      "\u001b[1m11/11\u001b[0m \u001b[32m━━━━━━━━━━━━━━━━━━━━\u001b[0m\u001b[37m\u001b[0m \u001b[1m0s\u001b[0m 5ms/step - accuracy: 0.9181 - loss: 0.8835 - val_accuracy: 0.8642 - val_loss: 0.9938 - learning_rate: 1.0000e-04\n",
      "Epoch 74/100\n",
      "\u001b[1m 1/11\u001b[0m \u001b[32m━\u001b[0m\u001b[37m━━━━━━━━━━━━━━━━━━━\u001b[0m \u001b[1m0s\u001b[0m 12ms/step - accuracy: 0.8438 - loss: 0.9592Epoch 074 | loss=0.8769, acc=0.9161 | val_loss=0.9909, val_acc=0.8642 | 0.07s\n",
      "\u001b[1m11/11\u001b[0m \u001b[32m━━━━━━━━━━━━━━━━━━━━\u001b[0m\u001b[37m\u001b[0m \u001b[1m0s\u001b[0m 5ms/step - accuracy: 0.9071 - loss: 0.8852 - val_accuracy: 0.8642 - val_loss: 0.9909 - learning_rate: 1.0000e-04\n",
      "Epoch 75/100\n",
      "\u001b[1m 1/11\u001b[0m \u001b[32m━\u001b[0m\u001b[37m━━━━━━━━━━━━━━━━━━━\u001b[0m \u001b[1m0s\u001b[0m 12ms/step - accuracy: 0.9688 - loss: 0.8481Epoch 075 | loss=0.8535, acc=0.9379 | val_loss=0.9882, val_acc=0.8642 | 0.07s\n",
      "\u001b[1m11/11\u001b[0m \u001b[32m━━━━━━━━━━━━━━━━━━━━\u001b[0m\u001b[37m\u001b[0m \u001b[1m0s\u001b[0m 6ms/step - accuracy: 0.9419 - loss: 0.8524 - val_accuracy: 0.8642 - val_loss: 0.9882 - learning_rate: 1.0000e-04\n",
      "Epoch 76/100\n",
      "\u001b[1m 1/11\u001b[0m \u001b[32m━\u001b[0m\u001b[37m━━━━━━━━━━━━━━━━━━━\u001b[0m \u001b[1m0s\u001b[0m 13ms/step - accuracy: 0.9688 - loss: 0.8634Epoch 076 | loss=0.8347, acc=0.9534 | val_loss=0.9871, val_acc=0.8642 | 0.07s\n",
      "\u001b[1m11/11\u001b[0m \u001b[32m━━━━━━━━━━━━━━━━━━━━\u001b[0m\u001b[37m\u001b[0m \u001b[1m0s\u001b[0m 6ms/step - accuracy: 0.9463 - loss: 0.8430 - val_accuracy: 0.8642 - val_loss: 0.9871 - learning_rate: 1.0000e-04\n",
      "Epoch 77/100\n",
      "\u001b[1m 1/11\u001b[0m \u001b[32m━\u001b[0m\u001b[37m━━━━━━━━━━━━━━━━━━━\u001b[0m \u001b[1m0s\u001b[0m 12ms/step - accuracy: 0.9688 - loss: 0.9007Epoch 077 | loss=0.8419, acc=0.9565 | val_loss=0.9855, val_acc=0.8642 | 0.07s\n",
      "\u001b[1m11/11\u001b[0m \u001b[32m━━━━━━━━━━━━━━━━━━━━\u001b[0m\u001b[37m\u001b[0m \u001b[1m0s\u001b[0m 5ms/step - accuracy: 0.9534 - loss: 0.8457 - val_accuracy: 0.8642 - val_loss: 0.9855 - learning_rate: 1.0000e-04\n",
      "Epoch 78/100\n",
      "\u001b[1m 1/11\u001b[0m \u001b[32m━\u001b[0m\u001b[37m━━━━━━━━━━━━━━━━━━━\u001b[0m \u001b[1m0s\u001b[0m 12ms/step - accuracy: 0.9688 - loss: 0.8135Epoch 078 | loss=0.8587, acc=0.9099 | val_loss=0.9822, val_acc=0.8642 | 0.07s\n",
      "\u001b[1m11/11\u001b[0m \u001b[32m━━━━━━━━━━━━━━━━━━━━\u001b[0m\u001b[37m\u001b[0m \u001b[1m0s\u001b[0m 6ms/step - accuracy: 0.9235 - loss: 0.8476 - val_accuracy: 0.8642 - val_loss: 0.9822 - learning_rate: 1.0000e-04\n",
      "Epoch 79/100\n",
      "\u001b[1m 1/11\u001b[0m \u001b[32m━\u001b[0m\u001b[37m━━━━━━━━━━━━━━━━━━━\u001b[0m \u001b[1m0s\u001b[0m 13ms/step - accuracy: 0.9375 - loss: 0.8463Epoch 079 | loss=0.8512, acc=0.9410 | val_loss=0.9775, val_acc=0.8642 | 0.07s\n",
      "\u001b[1m11/11\u001b[0m \u001b[32m━━━━━━━━━━━━━━━━━━━━\u001b[0m\u001b[37m\u001b[0m \u001b[1m0s\u001b[0m 6ms/step - accuracy: 0.9385 - loss: 0.8420 - val_accuracy: 0.8642 - val_loss: 0.9775 - learning_rate: 1.0000e-04\n",
      "Epoch 80/100\n",
      "\u001b[1m 1/11\u001b[0m \u001b[32m━\u001b[0m\u001b[37m━━━━━━━━━━━━━━━━━━━\u001b[0m \u001b[1m0s\u001b[0m 13ms/step - accuracy: 0.8438 - loss: 0.9313Epoch 080 | loss=0.8545, acc=0.9317 | val_loss=0.9741, val_acc=0.8642 | 0.08s\n",
      "\u001b[1m11/11\u001b[0m \u001b[32m━━━━━━━━━━━━━━━━━━━━\u001b[0m\u001b[37m\u001b[0m \u001b[1m0s\u001b[0m 7ms/step - accuracy: 0.9237 - loss: 0.8584 - val_accuracy: 0.8642 - val_loss: 0.9741 - learning_rate: 1.0000e-04\n",
      "Epoch 81/100\n",
      "\u001b[1m 1/11\u001b[0m \u001b[32m━\u001b[0m\u001b[37m━━━━━━━━━━━━━━━━━━━\u001b[0m \u001b[1m0s\u001b[0m 17ms/step - accuracy: 0.9062 - loss: 0.8215Epoch 081 | loss=0.8119, acc=0.9503 | val_loss=0.9718, val_acc=0.8642 | 0.07s\n",
      "\u001b[1m11/11\u001b[0m \u001b[32m━━━━━━━━━━━━━━━━━━━━\u001b[0m\u001b[37m\u001b[0m \u001b[1m0s\u001b[0m 5ms/step - accuracy: 0.9468 - loss: 0.8022 - val_accuracy: 0.8642 - val_loss: 0.9718 - learning_rate: 1.0000e-04\n",
      "Epoch 82/100\n",
      "\u001b[1m 1/11\u001b[0m \u001b[32m━\u001b[0m\u001b[37m━━━━━━━━━━━━━━━━━━━\u001b[0m \u001b[1m0s\u001b[0m 13ms/step - accuracy: 0.9375 - loss: 0.8503Epoch 082 | loss=0.8087, acc=0.9534 | val_loss=0.9703, val_acc=0.8642 | 0.07s\n",
      "\u001b[1m11/11\u001b[0m \u001b[32m━━━━━━━━━━━━━━━━━━━━\u001b[0m\u001b[37m\u001b[0m \u001b[1m0s\u001b[0m 5ms/step - accuracy: 0.9509 - loss: 0.8129 - val_accuracy: 0.8642 - val_loss: 0.9703 - learning_rate: 1.0000e-04\n",
      "Epoch 83/100\n",
      "\u001b[1m 1/11\u001b[0m \u001b[32m━\u001b[0m\u001b[37m━━━━━━━━━━━━━━━━━━━\u001b[0m \u001b[1m0s\u001b[0m 13ms/step - accuracy: 0.9375 - loss: 0.8555Epoch 083 | loss=0.8454, acc=0.9224 | val_loss=0.9673, val_acc=0.8642 | 0.09s\n",
      "\u001b[1m11/11\u001b[0m \u001b[32m━━━━━━━━━━━━━━━━━━━━\u001b[0m\u001b[37m\u001b[0m \u001b[1m0s\u001b[0m 7ms/step - accuracy: 0.9315 - loss: 0.8338 - val_accuracy: 0.8642 - val_loss: 0.9673 - learning_rate: 1.0000e-04\n",
      "Epoch 84/100\n",
      "\u001b[1m 1/11\u001b[0m \u001b[32m━\u001b[0m\u001b[37m━━━━━━━━━━━━━━━━━━━\u001b[0m \u001b[1m0s\u001b[0m 18ms/step - accuracy: 1.0000 - loss: 0.7842Epoch 084 | loss=0.8210, acc=0.9534 | val_loss=0.9652, val_acc=0.8642 | 0.09s\n",
      "\u001b[1m11/11\u001b[0m \u001b[32m━━━━━━━━━━━━━━━━━━━━\u001b[0m\u001b[37m\u001b[0m \u001b[1m0s\u001b[0m 7ms/step - accuracy: 0.9652 - loss: 0.8122 - val_accuracy: 0.8642 - val_loss: 0.9652 - learning_rate: 1.0000e-04\n",
      "Epoch 85/100\n",
      "\u001b[1m 1/11\u001b[0m \u001b[32m━\u001b[0m\u001b[37m━━━━━━━━━━━━━━━━━━━\u001b[0m \u001b[1m0s\u001b[0m 18ms/step - accuracy: 0.9688 - loss: 0.7688Epoch 085 | loss=0.8094, acc=0.9410 | val_loss=0.9635, val_acc=0.8642 | 0.08s\n",
      "\u001b[1m11/11\u001b[0m \u001b[32m━━━━━━━━━━━━━━━━━━━━\u001b[0m\u001b[37m\u001b[0m \u001b[1m0s\u001b[0m 6ms/step - accuracy: 0.9484 - loss: 0.8039 - val_accuracy: 0.8642 - val_loss: 0.9635 - learning_rate: 1.0000e-04\n",
      "Epoch 86/100\n",
      "\u001b[1m 1/11\u001b[0m \u001b[32m━\u001b[0m\u001b[37m━━━━━━━━━━━━━━━━━━━\u001b[0m \u001b[1m0s\u001b[0m 24ms/step - accuracy: 0.9375 - loss: 0.7787Epoch 086 | loss=0.8067, acc=0.9379 | val_loss=0.9617, val_acc=0.8642 | 0.09s\n",
      "\u001b[1m11/11\u001b[0m \u001b[32m━━━━━━━━━━━━━━━━━━━━\u001b[0m\u001b[37m\u001b[0m \u001b[1m0s\u001b[0m 7ms/step - accuracy: 0.9390 - loss: 0.8006 - val_accuracy: 0.8642 - val_loss: 0.9617 - learning_rate: 1.0000e-04\n",
      "Epoch 87/100\n",
      "\u001b[1m 1/11\u001b[0m \u001b[32m━\u001b[0m\u001b[37m━━━━━━━━━━━━━━━━━━━\u001b[0m \u001b[1m0s\u001b[0m 13ms/step - accuracy: 0.9375 - loss: 0.7698Epoch 087 | loss=0.8133, acc=0.9503 | val_loss=0.9603, val_acc=0.8642 | 0.08s\n",
      "\u001b[1m11/11\u001b[0m \u001b[32m━━━━━━━━━━━━━━━━━━━━\u001b[0m\u001b[37m\u001b[0m \u001b[1m0s\u001b[0m 7ms/step - accuracy: 0.9568 - loss: 0.7950 - val_accuracy: 0.8642 - val_loss: 0.9603 - learning_rate: 1.0000e-04\n",
      "Epoch 88/100\n",
      "\u001b[1m 1/11\u001b[0m \u001b[32m━\u001b[0m\u001b[37m━━━━━━━━━━━━━━━━━━━\u001b[0m \u001b[1m0s\u001b[0m 15ms/step - accuracy: 1.0000 - loss: 0.7484Epoch 088 | loss=0.7938, acc=0.9565 | val_loss=0.9560, val_acc=0.8765 | 0.08s\n",
      "\u001b[1m11/11\u001b[0m \u001b[32m━━━━━━━━━━━━━━━━━━━━\u001b[0m\u001b[37m\u001b[0m \u001b[1m0s\u001b[0m 6ms/step - accuracy: 0.9669 - loss: 0.7806 - val_accuracy: 0.8765 - val_loss: 0.9560 - learning_rate: 1.0000e-04\n",
      "Epoch 89/100\n",
      "\u001b[1m 1/11\u001b[0m \u001b[32m━\u001b[0m\u001b[37m━━━━━━━━━━━━━━━━━━━\u001b[0m \u001b[1m0s\u001b[0m 16ms/step - accuracy: 0.9062 - loss: 0.8643Epoch 089 | loss=0.8258, acc=0.9317 | val_loss=0.9533, val_acc=0.8642 | 0.11s\n",
      "\u001b[1m11/11\u001b[0m \u001b[32m━━━━━━━━━━━━━━━━━━━━\u001b[0m\u001b[37m\u001b[0m \u001b[1m0s\u001b[0m 9ms/step - accuracy: 0.9364 - loss: 0.8171 - val_accuracy: 0.8642 - val_loss: 0.9533 - learning_rate: 1.0000e-04\n",
      "Epoch 90/100\n",
      "\u001b[1m 1/11\u001b[0m \u001b[32m━\u001b[0m\u001b[37m━━━━━━━━━━━━━━━━━━━\u001b[0m \u001b[1m0s\u001b[0m 24ms/step - accuracy: 1.0000 - loss: 0.7406Epoch 090 | loss=0.7693, acc=0.9658 | val_loss=0.9507, val_acc=0.8889 | 0.09s\n",
      "\u001b[1m11/11\u001b[0m \u001b[32m━━━━━━━━━━━━━━━━━━━━\u001b[0m\u001b[37m\u001b[0m \u001b[1m0s\u001b[0m 6ms/step - accuracy: 0.9677 - loss: 0.7716 - val_accuracy: 0.8889 - val_loss: 0.9507 - learning_rate: 1.0000e-04\n",
      "Epoch 91/100\n",
      "\u001b[1m 1/11\u001b[0m \u001b[32m━\u001b[0m\u001b[37m━━━━━━━━━━━━━━━━━━━\u001b[0m \u001b[1m0s\u001b[0m 15ms/step - accuracy: 0.8125 - loss: 0.9400Epoch 091 | loss=0.8034, acc=0.9441 | val_loss=0.9491, val_acc=0.8765 | 0.12s\n",
      "\u001b[1m11/11\u001b[0m \u001b[32m━━━━━━━━━━━━━━━━━━━━\u001b[0m\u001b[37m\u001b[0m \u001b[1m0s\u001b[0m 11ms/step - accuracy: 0.9193 - loss: 0.8309 - val_accuracy: 0.8765 - val_loss: 0.9491 - learning_rate: 1.0000e-04\n",
      "Epoch 92/100\n",
      "\u001b[1m 1/11\u001b[0m \u001b[32m━\u001b[0m\u001b[37m━━━━━━━━━━━━━━━━━━━\u001b[0m \u001b[1m0s\u001b[0m 17ms/step - accuracy: 0.9062 - loss: 0.8351Epoch 092 | loss=0.7868, acc=0.9596 | val_loss=0.9473, val_acc=0.8765 | 0.08s\n",
      "\u001b[1m11/11\u001b[0m \u001b[32m━━━━━━━━━━━━━━━━━━━━\u001b[0m\u001b[37m\u001b[0m \u001b[1m0s\u001b[0m 6ms/step - accuracy: 0.9550 - loss: 0.7852 - val_accuracy: 0.8765 - val_loss: 0.9473 - learning_rate: 1.0000e-04\n",
      "Epoch 93/100\n",
      "\u001b[1m 1/11\u001b[0m \u001b[32m━\u001b[0m\u001b[37m━━━━━━━━━━━━━━━━━━━\u001b[0m \u001b[1m0s\u001b[0m 15ms/step - accuracy: 0.9688 - loss: 0.7548Epoch 093 | loss=0.7917, acc=0.9534 | val_loss=0.9453, val_acc=0.8889 | 0.09s\n",
      "\u001b[1m11/11\u001b[0m \u001b[32m━━━━━━━━━━━━━━━━━━━━\u001b[0m\u001b[37m\u001b[0m \u001b[1m0s\u001b[0m 7ms/step - accuracy: 0.9455 - loss: 0.8045 - val_accuracy: 0.8889 - val_loss: 0.9453 - learning_rate: 1.0000e-04\n",
      "Epoch 94/100\n",
      "\u001b[1m 1/11\u001b[0m \u001b[32m━\u001b[0m\u001b[37m━━━━━━━━━━━━━━━━━━━\u001b[0m \u001b[1m0s\u001b[0m 15ms/step - accuracy: 0.9688 - loss: 0.7566Epoch 094 | loss=0.7873, acc=0.9441 | val_loss=0.9436, val_acc=0.8889 | 0.10s\n",
      "\u001b[1m11/11\u001b[0m \u001b[32m━━━━━━━━━━━━━━━━━━━━\u001b[0m\u001b[37m\u001b[0m \u001b[1m0s\u001b[0m 9ms/step - accuracy: 0.9621 - loss: 0.7729 - val_accuracy: 0.8889 - val_loss: 0.9436 - learning_rate: 1.0000e-04\n",
      "Epoch 95/100\n",
      "\u001b[1m 4/11\u001b[0m \u001b[32m━━━━━━━\u001b[0m\u001b[37m━━━━━━━━━━━━━\u001b[0m \u001b[1m0s\u001b[0m 17ms/step - accuracy: 0.9805 - loss: 0.7665Epoch 095 | loss=0.7682, acc=0.9627 | val_loss=0.9405, val_acc=0.8889 | 0.18s\n",
      "\u001b[1m11/11\u001b[0m \u001b[32m━━━━━━━━━━━━━━━━━━━━\u001b[0m\u001b[37m\u001b[0m \u001b[1m0s\u001b[0m 16ms/step - accuracy: 0.9701 - loss: 0.7651 - val_accuracy: 0.8889 - val_loss: 0.9405 - learning_rate: 1.0000e-04\n",
      "Epoch 96/100\n",
      "\u001b[1m 1/11\u001b[0m \u001b[32m━\u001b[0m\u001b[37m━━━━━━━━━━━━━━━━━━━\u001b[0m \u001b[1m0s\u001b[0m 23ms/step - accuracy: 1.0000 - loss: 0.7407Epoch 096 | loss=0.7566, acc=0.9752 | val_loss=0.9383, val_acc=0.8889 | 0.09s\n",
      "\u001b[1m11/11\u001b[0m \u001b[32m━━━━━━━━━━━━━━━━━━━━\u001b[0m\u001b[37m\u001b[0m \u001b[1m0s\u001b[0m 7ms/step - accuracy: 0.9788 - loss: 0.7567 - val_accuracy: 0.8889 - val_loss: 0.9383 - learning_rate: 1.0000e-04\n",
      "Epoch 97/100\n",
      "\u001b[1m 1/11\u001b[0m \u001b[32m━\u001b[0m\u001b[37m━━━━━━━━━━━━━━━━━━━\u001b[0m \u001b[1m0s\u001b[0m 14ms/step - accuracy: 1.0000 - loss: 0.7377Epoch 097 | loss=0.7731, acc=0.9627 | val_loss=0.9358, val_acc=0.8889 | 0.09s\n",
      "\u001b[1m11/11\u001b[0m \u001b[32m━━━━━━━━━━━━━━━━━━━━\u001b[0m\u001b[37m\u001b[0m \u001b[1m0s\u001b[0m 7ms/step - accuracy: 0.9676 - loss: 0.7739 - val_accuracy: 0.8889 - val_loss: 0.9358 - learning_rate: 1.0000e-04\n",
      "Epoch 98/100\n",
      "\u001b[1m 1/11\u001b[0m \u001b[32m━\u001b[0m\u001b[37m━━━━━━━━━━━━━━━━━━━\u001b[0m \u001b[1m0s\u001b[0m 14ms/step - accuracy: 0.9688 - loss: 0.7674Epoch 098 | loss=0.7569, acc=0.9658 | val_loss=0.9364, val_acc=0.8889 | 0.08s\n",
      "\u001b[1m11/11\u001b[0m \u001b[32m━━━━━━━━━━━━━━━━━━━━\u001b[0m\u001b[37m\u001b[0m \u001b[1m0s\u001b[0m 6ms/step - accuracy: 0.9654 - loss: 0.7626 - val_accuracy: 0.8889 - val_loss: 0.9364 - learning_rate: 1.0000e-04\n",
      "Epoch 99/100\n",
      "\u001b[1m 1/11\u001b[0m \u001b[32m━\u001b[0m\u001b[37m━━━━━━━━━━━━━━━━━━━\u001b[0m \u001b[1m0s\u001b[0m 19ms/step - accuracy: 0.9688 - loss: 0.7634Epoch 099 | loss=0.7522, acc=0.9689 | val_loss=0.9350, val_acc=0.8889 | 0.12s\n",
      "\u001b[1m11/11\u001b[0m \u001b[32m━━━━━━━━━━━━━━━━━━━━\u001b[0m\u001b[37m\u001b[0m \u001b[1m0s\u001b[0m 11ms/step - accuracy: 0.9698 - loss: 0.7473 - val_accuracy: 0.8889 - val_loss: 0.9350 - learning_rate: 1.0000e-04\n",
      "Epoch 100/100\n",
      "\u001b[1m 5/11\u001b[0m \u001b[32m━━━━━━━━━\u001b[0m\u001b[37m━━━━━━━━━━━\u001b[0m \u001b[1m0s\u001b[0m 13ms/step - accuracy: 1.0000 - loss: 0.7084Epoch 100 | loss=0.7378, acc=0.9720 | val_loss=0.9358, val_acc=0.8889 | 0.23s\n",
      "\u001b[1m11/11\u001b[0m \u001b[32m━━━━━━━━━━━━━━━━━━━━\u001b[0m\u001b[37m\u001b[0m \u001b[1m0s\u001b[0m 20ms/step - accuracy: 0.9879 - loss: 0.7204 - val_accuracy: 0.8889 - val_loss: 0.9358 - learning_rate: 1.0000e-04\n"
     ]
    },
    {
     "data": {
      "image/png": "[encoded data removed]",
      "text/plain": [
       "<Figure size 800x400 with 1 Axes>"
      ]
     },
     "metadata": {},
     "output_type": "display_data"
    }
   ],
   "source": [
    "rs = 42\n",
    "\n",
    "# Balance each training set (SMOTE for clinical; genetics assumed balanced)\n",
    "sm = SMOTE(random_state=rs)\n",
    "X_bal = {}\n",
    "y_bal = {}\n",
    "X_bal[\"African\"],    y_bal[\"African\"]    = sm.fit_resample(X_train_african_sc,    y_train_african)\n",
    "X_bal[\"Bangladesh\"], y_bal[\"Bangladesh\"] = sm.fit_resample(X_train_bangladesh_sc, y_train_bangladesh)\n",
    "X_bal[\"Iraq\"],       y_bal[\"Iraq\"]       = sm.fit_resample(X_train_iraq_sc,       y_train_iraq)\n",
    "X_bal[\"inter_genetic\"],  y_bal[\"inter_genetic\"]  = X_train_inter,  y_train_inter\n",
    "X_bal[\"normal_genetic\"], y_bal[\"normal_genetic\"] = X_train_normal, y_train_normal\n",
    "\n",
    "# Split each dataset: hold out 10% for test, rest for training\n",
    "modalities = list(X_bal.keys())\n",
    "held_out_data, X_down, y_down = {}, {}, {}\n",
    "\n",
    "for m in modalities:\n",
    "    Xb, yb = X_bal[m], y_bal[m]\n",
    "    Xb_main, Xb_hold, yb_main, yb_hold = train_test_split(\n",
    "        Xb, yb, test_size=0.10, stratify=yb, random_state=rs\n",
    "    )\n",
    "    held_out_data[m] = (Xb_hold, yb_hold)\n",
    "    X_down[m], y_down[m] = Xb_main, yb_main\n",
    "\n",
    "# Downsample all modalities to match the smallest sample size\n",
    "N_min = min(len(y_down[m]) for m in modalities)\n",
    "for m in modalities:\n",
    "    Xb, yb = X_down[m], y_down[m]\n",
    "    if len(yb) > N_min:\n",
    "        Xb_ds, _, yb_ds, _ = train_test_split(\n",
    "            Xb, yb, train_size=N_min, stratify=yb, random_state=rs\n",
    "        )\n",
    "    else:\n",
    "        Xb_ds, yb_ds = Xb, yb\n",
    "    X_down[m], y_down[m] = Xb_ds, yb_ds\n",
    "\n",
    "# Generate shared indices for train/test splits across all modalities\n",
    "indices = np.arange(N_min)\n",
    "idx_tr, idx_te = train_test_split(\n",
    "    indices, test_size=0.2, stratify=y_down[modalities[0]], random_state=rs\n",
    ")\n",
    "\n",
    "# Standardize features for each modality (fit on train only)\n",
    "scaled_splits = {}\n",
    "for m in modalities:\n",
    "    Xb = X_down[m]\n",
    "    Xb_tr = Xb.iloc[idx_tr] if isinstance(Xb, pd.DataFrame) else Xb[idx_tr]\n",
    "    Xb_te = Xb.iloc[idx_te] if isinstance(Xb, pd.DataFrame) else Xb[idx_te]\n",
    "    scaler = StandardScaler().fit(Xb_tr)\n",
    "    scaled_splits[m] = (\n",
    "        scaler.transform(Xb_tr),\n",
    "        scaler.transform(Xb_te),\n",
    "        scaler.transform(held_out_data[m][0])  # held-out test\n",
    "    )\n",
    "\n",
    "# Prepare input lists for Keras (each input = one modality)\n",
    "X_tr_inputs = [scaled_splits[m][0] for m in modalities]\n",
    "X_te_inputs = [scaled_splits[m][1] for m in modalities]\n",
    "X_modality_tests = {m: scaled_splits[m][2] for m in modalities}\n",
    "\n",
    "# Get labels for training/testing\n",
    "y_tr = y_down[modalities[0]].iloc[idx_tr] if isinstance(y_down[modalities[0]], pd.Series) else y_down[modalities[0]][idx_tr]\n",
    "y_te = y_down[modalities[0]].iloc[idx_te] if isinstance(y_down[modalities[0]], pd.Series) else y_down[modalities[0]][idx_te]\n",
    "y_modality_tests = {m: held_out_data[m][1] for m in modalities}\n",
    "\n",
    "# Define a model branch for each modality\n",
    "def build_branch(input_dim, l2_reg=1e-3):\n",
    "    inp = Input(shape=(input_dim,))\n",
    "    x   = Dense(64, activation=\"relu\", kernel_regularizer=l2(l2_reg))(inp)\n",
    "    x   = BatchNormalization()(x)\n",
    "    x   = Dense(32, activation=\"relu\", kernel_regularizer=l2(l2_reg))(x)\n",
    "    proj= Dense(32, kernel_regularizer=l2(l2_reg))(inp)\n",
    "    x   = Add()([x, proj])  # Residual connection\n",
    "    x   = BatchNormalization()(x)\n",
    "    return inp, x\n",
    "\n",
    "# Create a branch per modality\n",
    "branches = [build_branch(scaled_splits[m][0].shape[1]) for m in modalities]\n",
    "inputs, feats = zip(*branches)\n",
    "\n",
    "# Merge all modality features, then apply Squeeze-and-Excitation (SE) attention\n",
    "merged = Concatenate()(feats)\n",
    "se = Dense(merged.shape[-1] // 16, activation=\"relu\")(merged)\n",
    "se = Dense(merged.shape[-1], activation=\"sigmoid\")(se)\n",
    "x  = Multiply()([merged, se])\n",
    "x  = Dense(128, activation=\"relu\", kernel_regularizer=l2(1e-3))(x)\n",
    "x  = Dropout(0.5)(x)\n",
    "x  = Dense(64, activation=\"relu\", kernel_regularizer=l2(1e-3))(x)\n",
    "x  = Dropout(0.5)(x)\n",
    "out= Dense(1, activation=\"sigmoid\")(x)  # Output: probability of T2D\n",
    "\n",
    "# Assemble and compile the final model\n",
    "model = Model(inputs=list(inputs), outputs=out)\n",
    "model.compile(\n",
    "    optimizer=Adam(learning_rate=1e-4, clipnorm=1.0),\n",
    "    loss=\"binary_crossentropy\",\n",
    "    metrics=[\"accuracy\"]\n",
    ")\n",
    "\n",
    "# Callback to time each epoch during training\n",
    "class TimeLogger(Callback):\n",
    "    def on_epoch_begin(self, epoch, logs=None):\n",
    "        self._start = time.time()\n",
    "    def on_epoch_end(self, epoch, logs=None):\n",
    "        dt = time.time() - self._start\n",
    "        print(\n",
    "            f\"Epoch {epoch+1:03d} | loss={logs['loss']:.4f}, acc={logs['accuracy']:.4f} | \"\n",
    "            f\"val_loss={logs['val_loss']:.4f}, val_acc={logs['val_accuracy']:.4f} | \"\n",
    "            f\"{dt:.2f}s\"\n",
    "        )\n",
    "\n",
    "# Early stopping and LR reduction if training stalls\n",
    "callbacks = [\n",
    "    EarlyStopping(monitor=\"val_loss\", patience=10, restore_best_weights=True),\n",
    "    ReduceLROnPlateau(monitor=\"val_loss\", factor=0.5, patience=5, min_lr=1e-6),\n",
    "    TimeLogger()\n",
    "]\n",
    "\n",
    "# Train the model on all modalities\n",
    "history = model.fit(\n",
    "    X_tr_inputs, y_tr,\n",
    "    validation_data=(X_te_inputs, y_te),\n",
    "    epochs=100,\n",
    "    batch_size=32,\n",
    "    callbacks=callbacks\n",
    ")\n",
    "\n",
    "# Get final accuracy values\n",
    "train_final = history.history[\"accuracy\"][-1]\n",
    "val_final   = history.history[\"val_accuracy\"][-1]\n",
    "\n",
    "# Plot learning curves for accuracy\n",
    "plt.figure(figsize=(8,4))\n",
    "plt.plot(history.history[\"accuracy\"], label=\"Train Acc\")\n",
    "plt.plot(history.history[\"val_accuracy\"], label=\"Val Acc\")\n",
    "plt.text(\n",
    "    0.95, 0.05,\n",
    "    f\"Final Train: {train_final:.2f}\\nFinal Val:   {val_final:.2f}\",\n",
    "    transform=plt.gca().transAxes,\n",
    "    ha=\"right\", va=\"bottom\",\n",
    "    bbox=dict(boxstyle=\"round,pad=0.3\", alpha=0.3)\n",
    ")\n",
    "plt.title(\"Fusion Model Accuracy\")\n",
    "plt.xlabel(\"Epoch\")\n",
    "plt.ylabel(\"Accuracy\")\n",
    "plt.legend()\n",
    "plt.grid(True)\n",
    "plt.tight_layout()\n",
    "plt.show()"
   ]
  },
  {
   "cell_type": "markdown",
   "metadata": {},
   "source": [
    "Accuracy on held-out 10% from each modality"
   ]
  },
  {
   "cell_type": "code",
   "execution_count": 65,
   "metadata": {},
   "outputs": [
    {
     "name": "stdout",
     "output_type": "stream",
     "text": [
      "📊 Accuracy on Held-Out 10% from Each Modality\n",
      "\u001b[1m2/2\u001b[0m \u001b[32m━━━━━━━━━━━━━━━━━━━━\u001b[0m\u001b[37m\u001b[0m \u001b[1m0s\u001b[0m 222ms/step\n",
      "African         Accuracy: 0.9333 | Samples: 45\n",
      "\u001b[1m22/22\u001b[0m \u001b[32m━━━━━━━━━━━━━━━━━━━━\u001b[0m\u001b[37m\u001b[0m \u001b[1m0s\u001b[0m 1ms/step \n",
      "Bangladesh      Accuracy: 0.4993 | Samples: 693\n",
      "\u001b[1m3/3\u001b[0m \u001b[32m━━━━━━━━━━━━━━━━━━━━\u001b[0m\u001b[37m\u001b[0m \u001b[1m0s\u001b[0m 8ms/step \n",
      "Iraq            Accuracy: 0.5000 | Samples: 94\n",
      "\u001b[1m5/5\u001b[0m \u001b[32m━━━━━━━━━━━━━━━━━━━━\u001b[0m\u001b[37m\u001b[0m \u001b[1m0s\u001b[0m 5ms/step \n",
      "inter_genetic   Accuracy: 0.5000 | Samples: 156\n",
      "\u001b[1m10/10\u001b[0m \u001b[32m━━━━━━━━━━━━━━━━━━━━\u001b[0m\u001b[37m\u001b[0m \u001b[1m0s\u001b[0m 2ms/step \n",
      "normal_genetic  Accuracy: 0.5000 | Samples: 300\n"
     ]
    },
    {
     "data": {
      "image/png": "[encoded data removed]",
      "text/plain": [
       "<Figure size 1200x600 with 1 Axes>"
      ]
     },
     "metadata": {},
     "output_type": "display_data"
    }
   ],
   "source": [
    "# Evaluate model accuracy on held-out 10% from each modality\n",
    "accuracies = []\n",
    "row_counts = []\n",
    "\n",
    "print(\"📊 Accuracy on Held-Out 10% from Each Modality\")\n",
    "for m in modalities:\n",
    "    n_samples = X_modality_tests[m].shape[0]\n",
    "    row_counts.append(n_samples)\n",
    "\n",
    "    # Prepare input: real data for current modality, zeros for others\n",
    "    X_test = []\n",
    "    for k in modalities:\n",
    "        if k == m:\n",
    "            X_test.append(X_modality_tests[k])\n",
    "        else:\n",
    "            shape = (n_samples, X_modality_tests[k].shape[1])\n",
    "            X_test.append(np.zeros(shape))\n",
    "\n",
    "    y_true = y_modality_tests[m]\n",
    "    y_pred = (model.predict(X_test).flatten() >= 0.5).astype(int)\n",
    "    acc = accuracy_score(y_true, y_pred)\n",
    "    accuracies.append((m, acc))\n",
    "    print(f\"{m:<15} Accuracy: {acc:.4f} | Samples: {n_samples}\")\n",
    "\n",
    "# Plot accuracy per modality with sample counts\n",
    "labels, acc_values = zip(*accuracies)\n",
    "\n",
    "plt.figure(figsize=(12, 6))\n",
    "bars = plt.bar(labels, acc_values, color='cornflowerblue', edgecolor='black')\n",
    "\n",
    "plt.ylabel('Accuracy', fontsize=12)\n",
    "plt.xlabel('Modality (with sample size)', fontsize=12)\n",
    "plt.title('Fusion Model Accuracy on Held-Out 10% Per Modality', fontsize=14)\n",
    "plt.ylim(0, 1)\n",
    "plt.grid(axis='y', linestyle='--', alpha=0.7)\n",
    "\n",
    "# Annotate bars with accuracy and sample count\n",
    "for bar, acc, count in zip(bars, acc_values, row_counts):\n",
    "    x = bar.get_x() + bar.get_width() / 2\n",
    "    y = bar.get_height()\n",
    "    plt.text(x, y + 0.02, f\"{acc:.2f}\", ha='center', va='bottom', fontsize=11, fontweight='bold')\n",
    "    plt.text(x, 0.02, f\"n={count}\", ha='center', va='bottom', fontsize=10, color='dimgray')\n",
    "\n",
    "plt.tight_layout()\n",
    "plt.show()"
   ]
  },
  {
   "cell_type": "markdown",
   "metadata": {},
   "source": [
    "# Second Neural Network Model"
   ]
  },
  {
   "cell_type": "markdown",
   "metadata": {},
   "source": [
    "Unifying column names across datasets"
   ]
  },
  {
   "cell_type": "code",
   "execution_count": 66,
   "metadata": {},
   "outputs": [
    {
     "name": "stdout",
     "output_type": "stream",
     "text": [
      "✅ African Columns: ['cholesterol', 'glucose', 'hdl chol', 'chol/hdl ratio', 'age', 'gender', 'height', 'weight', 'bmi', 'systolic_bp', 'diastolic_bp', 'waist', 'hip', 'waist/hip ratio', 't2d']\n",
      "✅ Bangladesh Columns: ['age', 'pulse_rate', 'systolic_bp', 'diastolic_bp', 'glucose', 'height', 'weight', 'bmi', 'family_diabetes', 'hypertensive', 'family_hypertension', 'cardiovascular_disease', 'stroke', 'gender', 't2d']\n",
      "✅ Iraq Columns: ['age', 'urea', 'cr', 'hba1c', 'cholesterol', 'tg', 'hdl', 'ldl', 'vldl', 'bmi', 'gender', 't2d']\n"
     ]
    }
   ],
   "source": [
    "# Lowercase all column names\n",
    "African.columns = African.columns.str.lower()\n",
    "Bangladesh.columns = Bangladesh.columns.str.lower()\n",
    "Iraq.columns = Iraq.columns.str.lower()\n",
    "\n",
    "# Rename columns to unify feature names\n",
    "rename_map_african = {\n",
    "    'systolic bp': 'systolic_bp',\n",
    "    'diastolic bp': 'diastolic_bp'\n",
    "}\n",
    "\n",
    "rename_map_bangladesh = {\n",
    "    'gender_encoded': 'gender',\n",
    "    'systolic_bp': 'systolic_bp',\n",
    "    'diastolic_bp': 'diastolic_bp'\n",
    "}\n",
    "\n",
    "rename_map_iraq = {\n",
    "    'gender_encoded': 'gender',\n",
    "    'chol': 'cholesterol'\n",
    "}\n",
    "\n",
    "# Apply the renaming\n",
    "African = African.rename(columns=rename_map_african)\n",
    "Bangladesh = Bangladesh.rename(columns=rename_map_bangladesh)\n",
    "Iraq = Iraq.rename(columns=rename_map_iraq)\n",
    "\n",
    "# Print new column names for a quick check\n",
    "print(\"✅ African Columns:\", African.columns.tolist())\n",
    "print(\"✅ Bangladesh Columns:\", Bangladesh.columns.tolist())\n",
    "print(\"✅ Iraq Columns:\", Iraq.columns.tolist())"
   ]
  },
  {
   "cell_type": "markdown",
   "metadata": {},
   "source": [
    "Merging and cleaning all clinical datasets"
   ]
  },
  {
   "cell_type": "code",
   "execution_count": 67,
   "metadata": {},
   "outputs": [
    {
     "name": "stdout",
     "output_type": "stream",
     "text": [
      "✅ Features in merged clinical dataset:\n",
      "['cholesterol', 'glucose', 'hdl chol', 'chol/hdl ratio', 'age', 'gender', 'height', 'weight', 'bmi', 'systolic_bp', 'diastolic_bp', 'waist', 'hip', 'waist/hip ratio', 't2d', 'pulse_rate', 'family_diabetes', 'hypertensive', 'family_hypertension', 'cardiovascular_disease', 'stroke', 'urea', 'cr', 'hba1c', 'tg', 'hdl', 'ldl', 'vldl']\n",
      "✅ Merged clinical data saved as 'merged_clinical_full.csv'\n"
     ]
    }
   ],
   "source": [
    "# Merge all datasets, keeping all columns (union of features)\n",
    "merged_clinical_df = pd.concat([African, Bangladesh, Iraq], ignore_index=True)\n",
    "\n",
    "# Fill missing numeric values with column means\n",
    "merged_clinical_df = merged_clinical_df.fillna(merged_clinical_df.mean(numeric_only=True))\n",
    "\n",
    "# Drop duplicate rows\n",
    "merged_clinical_df = merged_clinical_df.drop_duplicates()\n",
    "\n",
    "# Show column names\n",
    "print(\"✅ Features in merged clinical dataset:\")\n",
    "print(merged_clinical_df.columns.tolist())\n",
    "\n",
    "# Save merged dataset to CSV\n",
    "merged_clinical_df.to_csv(\"merged_clinical_full.csv\", index=False)\n",
    "\n",
    "print(\"✅ Merged clinical data saved as 'merged_clinical_full.csv'\")"
   ]
  },
  {
   "cell_type": "markdown",
   "metadata": {},
   "source": [
    "Training the model"
   ]
  },
  {
   "cell_type": "code",
   "execution_count": 68,
   "metadata": {},
   "outputs": [
    {
     "name": "stdout",
     "output_type": "stream",
     "text": [
      "🚫 Dropping non-numeric columns in genetic data: ['study', 'disease_description', 'region', 'mapped_gene', 'snps', 'genomic_context']\n",
      "📉 Dropped columns with >50% NaNs: ['upstream_gene_id', 'downstream_gene_id', 'upstream_gene_distance', 'downstream_gene_distance']\n",
      "✅ Final cleaned genetic dataset: 3251 samples, 19 features\n",
      "✅ Matching training input sizes: 2600 samples\n",
      "✅ Matching test input sizes: 651 samples\n",
      "Epoch 1/100\n",
      "\u001b[1m55/82\u001b[0m \u001b[32m━━━━━━━━━━━━━\u001b[0m\u001b[37m━━━━━━━\u001b[0m \u001b[1m0s\u001b[0m 937us/step - accuracy: 0.3831 - loss: 1.2156Epoch 001 | loss=1.0919, acc=0.5458 | val_loss=0.9159, val_acc=0.9155 | 1.98s\n",
      "\u001b[1m82/82\u001b[0m \u001b[32m━━━━━━━━━━━━━━━━━━━━\u001b[0m\u001b[37m\u001b[0m \u001b[1m2s\u001b[0m 3ms/step - accuracy: 0.4278 - loss: 1.1811 - val_accuracy: 0.9155 - val_loss: 0.9159 - learning_rate: 1.0000e-04\n",
      "Epoch 2/100\n",
      "\u001b[1m44/82\u001b[0m \u001b[32m━━━━━━━━━━\u001b[0m\u001b[37m━━━━━━━━━━\u001b[0m \u001b[1m0s\u001b[0m 2ms/step - accuracy: 0.7768 - loss: 0.9239Epoch 002 | loss=0.8758, acc=0.8292 | val_loss=0.7885, val_acc=0.9232 | 0.19s\n",
      "\u001b[1m82/82\u001b[0m \u001b[32m━━━━━━━━━━━━━━━━━━━━\u001b[0m\u001b[37m\u001b[0m \u001b[1m0s\u001b[0m 2ms/step - accuracy: 0.7952 - loss: 0.9072 - val_accuracy: 0.9232 - val_loss: 0.7885 - learning_rate: 1.0000e-04\n",
      "Epoch 3/100\n",
      "\u001b[1m48/82\u001b[0m \u001b[32m━━━━━━━━━━━\u001b[0m\u001b[37m━━━━━━━━━\u001b[0m \u001b[1m0s\u001b[0m 1ms/step - accuracy: 0.9026 - loss: 0.7883 Epoch 003 | loss=0.7683, acc=0.9096 | val_loss=0.7148, val_acc=0.9232 | 0.13s\n",
      "\u001b[1m82/82\u001b[0m \u001b[32m━━━━━━━━━━━━━━━━━━━━\u001b[0m\u001b[37m\u001b[0m \u001b[1m0s\u001b[0m 2ms/step - accuracy: 0.9054 - loss: 0.7805 - val_accuracy: 0.9232 - val_loss: 0.7148 - learning_rate: 1.0000e-04\n",
      "Epoch 4/100\n",
      "\u001b[1m49/82\u001b[0m \u001b[32m━━━━━━━━━━━\u001b[0m\u001b[37m━━━━━━━━━\u001b[0m \u001b[1m0s\u001b[0m 1ms/step - accuracy: 0.9161 - loss: 0.7427 Epoch 004 | loss=0.7174, acc=0.9181 | val_loss=0.6703, val_acc=0.9232 | 0.13s\n",
      "\u001b[1m82/82\u001b[0m \u001b[32m━━━━━━━━━━━━━━━━━━━━\u001b[0m\u001b[37m\u001b[0m \u001b[1m0s\u001b[0m 1ms/step - accuracy: 0.9171 - loss: 0.7326 - val_accuracy: 0.9232 - val_loss: 0.6703 - learning_rate: 1.0000e-04\n",
      "Epoch 5/100\n",
      "\u001b[1m50/82\u001b[0m \u001b[32m━━━━━━━━━━━━\u001b[0m\u001b[37m━━━━━━━━\u001b[0m \u001b[1m0s\u001b[0m 1ms/step - accuracy: 0.9244 - loss: 0.6772 Epoch 005 | loss=0.6740, acc=0.9212 | val_loss=0.6453, val_acc=0.9232 | 0.13s\n",
      "\u001b[1m82/82\u001b[0m \u001b[32m━━━━━━━━━━━━━━━━━━━━\u001b[0m\u001b[37m\u001b[0m \u001b[1m0s\u001b[0m 1ms/step - accuracy: 0.9235 - loss: 0.6750 - val_accuracy: 0.9232 - val_loss: 0.6453 - learning_rate: 1.0000e-04\n",
      "Epoch 6/100\n",
      "\u001b[1m48/82\u001b[0m \u001b[32m━━━━━━━━━━━\u001b[0m\u001b[37m━━━━━━━━━\u001b[0m \u001b[1m0s\u001b[0m 1ms/step - accuracy: 0.9300 - loss: 0.6463 Epoch 006 | loss=0.6447, acc=0.9219 | val_loss=0.6291, val_acc=0.9232 | 0.13s\n",
      "\u001b[1m82/82\u001b[0m \u001b[32m━━━━━━━━━━━━━━━━━━━━\u001b[0m\u001b[37m\u001b[0m \u001b[1m0s\u001b[0m 1ms/step - accuracy: 0.9253 - loss: 0.6505 - val_accuracy: 0.9232 - val_loss: 0.6291 - learning_rate: 1.0000e-04\n",
      "Epoch 7/100\n",
      "\u001b[1m49/82\u001b[0m \u001b[32m━━━━━━━━━━━\u001b[0m\u001b[37m━━━━━━━━━\u001b[0m \u001b[1m0s\u001b[0m 1ms/step - accuracy: 0.9131 - loss: 0.6493 Epoch 007 | loss=0.6319, acc=0.9242 | val_loss=0.6171, val_acc=0.9232 | 0.13s\n",
      "\u001b[1m82/82\u001b[0m \u001b[32m━━━━━━━━━━━━━━━━━━━━\u001b[0m\u001b[37m\u001b[0m \u001b[1m0s\u001b[0m 1ms/step - accuracy: 0.9175 - loss: 0.6418 - val_accuracy: 0.9232 - val_loss: 0.6171 - learning_rate: 1.0000e-04\n",
      "Epoch 8/100\n",
      "\u001b[1m49/82\u001b[0m \u001b[32m━━━━━━━━━━━\u001b[0m\u001b[37m━━━━━━━━━\u001b[0m \u001b[1m0s\u001b[0m 1ms/step - accuracy: 0.9331 - loss: 0.6279 Epoch 008 | loss=0.6299, acc=0.9235 | val_loss=0.6055, val_acc=0.9232 | 0.13s\n",
      "\u001b[1m82/82\u001b[0m \u001b[32m━━━━━━━━━━━━━━━━━━━━\u001b[0m\u001b[37m\u001b[0m \u001b[1m0s\u001b[0m 1ms/step - accuracy: 0.9294 - loss: 0.6283 - val_accuracy: 0.9232 - val_loss: 0.6055 - learning_rate: 1.0000e-04\n",
      "Epoch 9/100\n",
      "\u001b[1m50/82\u001b[0m \u001b[32m━━━━━━━━━━━━\u001b[0m\u001b[37m━━━━━━━━\u001b[0m \u001b[1m0s\u001b[0m 1ms/step - accuracy: 0.9129 - loss: 0.6428 Epoch 009 | loss=0.6109, acc=0.9238 | val_loss=0.5953, val_acc=0.9232 | 0.13s\n",
      "\u001b[1m82/82\u001b[0m \u001b[32m━━━━━━━━━━━━━━━━━━━━\u001b[0m\u001b[37m\u001b[0m \u001b[1m0s\u001b[0m 1ms/step - accuracy: 0.9165 - loss: 0.6323 - val_accuracy: 0.9232 - val_loss: 0.5953 - learning_rate: 1.0000e-04\n",
      "Epoch 10/100\n",
      "\u001b[1m47/82\u001b[0m \u001b[32m━━━━━━━━━━━\u001b[0m\u001b[37m━━━━━━━━━\u001b[0m \u001b[1m0s\u001b[0m 1ms/step - accuracy: 0.9036 - loss: 0.6667 Epoch 010 | loss=0.6070, acc=0.9227 | val_loss=0.5865, val_acc=0.9232 | 0.13s\n",
      "\u001b[1m82/82\u001b[0m \u001b[32m━━━━━━━━━━━━━━━━━━━━\u001b[0m\u001b[37m\u001b[0m \u001b[1m0s\u001b[0m 2ms/step - accuracy: 0.9120 - loss: 0.6410 - val_accuracy: 0.9232 - val_loss: 0.5865 - learning_rate: 1.0000e-04\n",
      "Epoch 11/100\n",
      "\u001b[1m44/82\u001b[0m \u001b[32m━━━━━━━━━━\u001b[0m\u001b[37m━━━━━━━━━━\u001b[0m \u001b[1m0s\u001b[0m 1ms/step - accuracy: 0.9190 - loss: 0.5901 Epoch 011 | loss=0.5834, acc=0.9227 | val_loss=0.5792, val_acc=0.9232 | 0.14s\n",
      "\u001b[1m82/82\u001b[0m \u001b[32m━━━━━━━━━━━━━━━━━━━━\u001b[0m\u001b[37m\u001b[0m \u001b[1m0s\u001b[0m 2ms/step - accuracy: 0.9210 - loss: 0.5860 - val_accuracy: 0.9232 - val_loss: 0.5792 - learning_rate: 1.0000e-04\n",
      "Epoch 12/100\n",
      "\u001b[1m49/82\u001b[0m \u001b[32m━━━━━━━━━━━\u001b[0m\u001b[37m━━━━━━━━━\u001b[0m \u001b[1m0s\u001b[0m 1ms/step - accuracy: 0.9177 - loss: 0.5857 Epoch 012 | loss=0.5866, acc=0.9250 | val_loss=0.5706, val_acc=0.9232 | 0.13s\n",
      "\u001b[1m82/82\u001b[0m \u001b[32m━━━━━━━━━━━━━━━━━━━━\u001b[0m\u001b[37m\u001b[0m \u001b[1m0s\u001b[0m 1ms/step - accuracy: 0.9198 - loss: 0.5863 - val_accuracy: 0.9232 - val_loss: 0.5706 - learning_rate: 1.0000e-04\n",
      "Epoch 13/100\n",
      "\u001b[1m50/82\u001b[0m \u001b[32m━━━━━━━━━━━━\u001b[0m\u001b[37m━━━━━━━━\u001b[0m \u001b[1m0s\u001b[0m 1ms/step - accuracy: 0.9271 - loss: 0.5813 Epoch 013 | loss=0.5707, acc=0.9235 | val_loss=0.5640, val_acc=0.9232 | 0.13s\n",
      "\u001b[1m82/82\u001b[0m \u001b[32m━━━━━━━━━━━━━━━━━━━━\u001b[0m\u001b[37m\u001b[0m \u001b[1m0s\u001b[0m 1ms/step - accuracy: 0.9257 - loss: 0.5776 - val_accuracy: 0.9232 - val_loss: 0.5640 - learning_rate: 1.0000e-04\n",
      "Epoch 14/100\n",
      "\u001b[1m50/82\u001b[0m \u001b[32m━━━━━━━━━━━━\u001b[0m\u001b[37m━━━━━━━━\u001b[0m \u001b[1m0s\u001b[0m 1ms/step - accuracy: 0.9193 - loss: 0.5806 Epoch 014 | loss=0.5713, acc=0.9223 | val_loss=0.5579, val_acc=0.9232 | 0.13s\n",
      "\u001b[1m82/82\u001b[0m \u001b[32m━━━━━━━━━━━━━━━━━━━━\u001b[0m\u001b[37m\u001b[0m \u001b[1m0s\u001b[0m 1ms/step - accuracy: 0.9202 - loss: 0.5779 - val_accuracy: 0.9232 - val_loss: 0.5579 - learning_rate: 1.0000e-04\n",
      "Epoch 15/100\n",
      "\u001b[1m51/82\u001b[0m \u001b[32m━━━━━━━━━━━━\u001b[0m\u001b[37m━━━━━━━━\u001b[0m \u001b[1m0s\u001b[0m 1ms/step - accuracy: 0.9201 - loss: 0.5485 Epoch 015 | loss=0.5538, acc=0.9238 | val_loss=0.5524, val_acc=0.9247 | 0.13s\n",
      "\u001b[1m82/82\u001b[0m \u001b[32m━━━━━━━━━━━━━━━━━━━━\u001b[0m\u001b[37m\u001b[0m \u001b[1m0s\u001b[0m 1ms/step - accuracy: 0.9210 - loss: 0.5497 - val_accuracy: 0.9247 - val_loss: 0.5524 - learning_rate: 1.0000e-04\n",
      "Epoch 16/100\n",
      "\u001b[1m50/82\u001b[0m \u001b[32m━━━━━━━━━━━━\u001b[0m\u001b[37m━━━━━━━━\u001b[0m \u001b[1m0s\u001b[0m 1ms/step - accuracy: 0.9209 - loss: 0.5595 Epoch 016 | loss=0.5557, acc=0.9242 | val_loss=0.5468, val_acc=0.9247 | 0.13s\n",
      "\u001b[1m82/82\u001b[0m \u001b[32m━━━━━━━━━━━━━━━━━━━━\u001b[0m\u001b[37m\u001b[0m \u001b[1m0s\u001b[0m 1ms/step - accuracy: 0.9206 - loss: 0.5613 - val_accuracy: 0.9247 - val_loss: 0.5468 - learning_rate: 1.0000e-04\n",
      "Epoch 17/100\n",
      "\u001b[1m50/82\u001b[0m \u001b[32m━━━━━━━━━━━━\u001b[0m\u001b[37m━━━━━━━━\u001b[0m \u001b[1m0s\u001b[0m 1ms/step - accuracy: 0.9278 - loss: 0.5279 Epoch 017 | loss=0.5477, acc=0.9238 | val_loss=0.5422, val_acc=0.9263 | 0.13s\n",
      "\u001b[1m82/82\u001b[0m \u001b[32m━━━━━━━━━━━━━━━━━━━━\u001b[0m\u001b[37m\u001b[0m \u001b[1m0s\u001b[0m 2ms/step - accuracy: 0.9263 - loss: 0.5347 - val_accuracy: 0.9263 - val_loss: 0.5422 - learning_rate: 1.0000e-04\n",
      "Epoch 18/100\n",
      "\u001b[1m40/82\u001b[0m \u001b[32m━━━━━━━━━\u001b[0m\u001b[37m━━━━━━━━━━━\u001b[0m \u001b[1m0s\u001b[0m 1ms/step - accuracy: 0.9246 - loss: 0.5425 Epoch 018 | loss=0.5390, acc=0.9254 | val_loss=0.5379, val_acc=0.9263 | 0.14s\n",
      "\u001b[1m82/82\u001b[0m \u001b[32m━━━━━━━━━━━━━━━━━━━━\u001b[0m\u001b[37m\u001b[0m \u001b[1m0s\u001b[0m 2ms/step - accuracy: 0.9253 - loss: 0.5406 - val_accuracy: 0.9263 - val_loss: 0.5379 - learning_rate: 1.0000e-04\n",
      "Epoch 19/100\n",
      "\u001b[1m49/82\u001b[0m \u001b[32m━━━━━━━━━━━\u001b[0m\u001b[37m━━━━━━━━━\u001b[0m \u001b[1m0s\u001b[0m 1ms/step - accuracy: 0.9336 - loss: 0.5201 Epoch 019 | loss=0.5419, acc=0.9277 | val_loss=0.5333, val_acc=0.9278 | 0.13s\n",
      "\u001b[1m82/82\u001b[0m \u001b[32m━━━━━━━━━━━━━━━━━━━━\u001b[0m\u001b[37m\u001b[0m \u001b[1m0s\u001b[0m 2ms/step - accuracy: 0.9320 - loss: 0.5265 - val_accuracy: 0.9278 - val_loss: 0.5333 - learning_rate: 1.0000e-04\n",
      "Epoch 20/100\n",
      "\u001b[1m51/82\u001b[0m \u001b[32m━━━━━━━━━━━━\u001b[0m\u001b[37m━━━━━━━━\u001b[0m \u001b[1m0s\u001b[0m 1ms/step - accuracy: 0.9237 - loss: 0.5531 Epoch 020 | loss=0.5283, acc=0.9254 | val_loss=0.5294, val_acc=0.9263 | 0.13s\n",
      "\u001b[1m82/82\u001b[0m \u001b[32m━━━━━━━━━━━━━━━━━━━━\u001b[0m\u001b[37m\u001b[0m \u001b[1m0s\u001b[0m 1ms/step - accuracy: 0.9237 - loss: 0.5450 - val_accuracy: 0.9263 - val_loss: 0.5294 - learning_rate: 1.0000e-04\n",
      "Epoch 21/100\n",
      "\u001b[1m50/82\u001b[0m \u001b[32m━━━━━━━━━━━━\u001b[0m\u001b[37m━━━━━━━━\u001b[0m \u001b[1m0s\u001b[0m 1ms/step - accuracy: 0.9186 - loss: 0.5259 Epoch 021 | loss=0.5212, acc=0.9262 | val_loss=0.5263, val_acc=0.9263 | 0.13s\n",
      "\u001b[1m82/82\u001b[0m \u001b[32m━━━━━━━━━━━━━━━━━━━━\u001b[0m\u001b[37m\u001b[0m \u001b[1m0s\u001b[0m 1ms/step - accuracy: 0.9221 - loss: 0.5217 - val_accuracy: 0.9263 - val_loss: 0.5263 - learning_rate: 1.0000e-04\n",
      "Epoch 22/100\n",
      "\u001b[1m65/82\u001b[0m \u001b[32m━━━━━━━━━━━━━━━\u001b[0m\u001b[37m━━━━━\u001b[0m \u001b[1m0s\u001b[0m 2ms/step - accuracy: 0.9096 - loss: 0.5526Epoch 022 | loss=0.5256, acc=0.9246 | val_loss=0.5226, val_acc=0.9263 | 0.17s\n",
      "\u001b[1m82/82\u001b[0m \u001b[32m━━━━━━━━━━━━━━━━━━━━\u001b[0m\u001b[37m\u001b[0m \u001b[1m0s\u001b[0m 2ms/step - accuracy: 0.9131 - loss: 0.5466 - val_accuracy: 0.9263 - val_loss: 0.5226 - learning_rate: 1.0000e-04\n",
      "Epoch 23/100\n",
      "\u001b[1m41/82\u001b[0m \u001b[32m━━━━━━━━━━\u001b[0m\u001b[37m━━━━━━━━━━\u001b[0m \u001b[1m0s\u001b[0m 1ms/step - accuracy: 0.9322 - loss: 0.4778 Epoch 023 | loss=0.5172, acc=0.9258 | val_loss=0.5186, val_acc=0.9263 | 0.15s\n",
      "\u001b[1m82/82\u001b[0m \u001b[32m━━━━━━━━━━━━━━━━━━━━\u001b[0m\u001b[37m\u001b[0m \u001b[1m0s\u001b[0m 2ms/step - accuracy: 0.9305 - loss: 0.4933 - val_accuracy: 0.9263 - val_loss: 0.5186 - learning_rate: 1.0000e-04\n",
      "Epoch 24/100\n",
      "\u001b[1m48/82\u001b[0m \u001b[32m━━━━━━━━━━━\u001b[0m\u001b[37m━━━━━━━━━\u001b[0m \u001b[1m0s\u001b[0m 1ms/step - accuracy: 0.9303 - loss: 0.5156 Epoch 024 | loss=0.5098, acc=0.9281 | val_loss=0.5137, val_acc=0.9247 | 0.13s\n",
      "\u001b[1m82/82\u001b[0m \u001b[32m━━━━━━━━━━━━━━━━━━━━\u001b[0m\u001b[37m\u001b[0m \u001b[1m0s\u001b[0m 1ms/step - accuracy: 0.9291 - loss: 0.5140 - val_accuracy: 0.9247 - val_loss: 0.5137 - learning_rate: 1.0000e-04\n",
      "Epoch 25/100\n",
      "\u001b[1m51/82\u001b[0m \u001b[32m━━━━━━━━━━━━\u001b[0m\u001b[37m━━━━━━━━\u001b[0m \u001b[1m0s\u001b[0m 1ms/step - accuracy: 0.9158 - loss: 0.5244Epoch 025 | loss=0.5028, acc=0.9300 | val_loss=0.5117, val_acc=0.9247 | 0.13s\n",
      "\u001b[1m82/82\u001b[0m \u001b[32m━━━━━━━━━━━━━━━━━━━━\u001b[0m\u001b[37m\u001b[0m \u001b[1m0s\u001b[0m 1ms/step - accuracy: 0.9212 - loss: 0.5170 - val_accuracy: 0.9247 - val_loss: 0.5117 - learning_rate: 1.0000e-04\n",
      "Epoch 26/100\n",
      "\u001b[1m48/82\u001b[0m \u001b[32m━━━━━━━━━━━\u001b[0m\u001b[37m━━━━━━━━━\u001b[0m \u001b[1m0s\u001b[0m 1ms/step - accuracy: 0.9218 - loss: 0.5103 Epoch 026 | loss=0.5002, acc=0.9281 | val_loss=0.5070, val_acc=0.9232 | 0.13s\n",
      "\u001b[1m82/82\u001b[0m \u001b[32m━━━━━━━━━━━━━━━━━━━━\u001b[0m\u001b[37m\u001b[0m \u001b[1m0s\u001b[0m 1ms/step - accuracy: 0.9242 - loss: 0.5066 - val_accuracy: 0.9232 - val_loss: 0.5070 - learning_rate: 1.0000e-04\n",
      "Epoch 27/100\n",
      "\u001b[1m50/82\u001b[0m \u001b[32m━━━━━━━━━━━━\u001b[0m\u001b[37m━━━━━━━━\u001b[0m \u001b[1m0s\u001b[0m 1ms/step - accuracy: 0.9266 - loss: 0.4875 Epoch 027 | loss=0.5027, acc=0.9269 | val_loss=0.5025, val_acc=0.9263 | 0.13s\n",
      "\u001b[1m82/82\u001b[0m \u001b[32m━━━━━━━━━━━━━━━━━━━━\u001b[0m\u001b[37m\u001b[0m \u001b[1m0s\u001b[0m 1ms/step - accuracy: 0.9256 - loss: 0.4950 - val_accuracy: 0.9263 - val_loss: 0.5025 - learning_rate: 1.0000e-04\n",
      "Epoch 28/100\n",
      "\u001b[1m50/82\u001b[0m \u001b[32m━━━━━━━━━━━━\u001b[0m\u001b[37m━━━━━━━━\u001b[0m \u001b[1m0s\u001b[0m 1ms/step - accuracy: 0.9185 - loss: 0.5119 Epoch 028 | loss=0.4917, acc=0.9277 | val_loss=0.4998, val_acc=0.9293 | 0.13s\n",
      "\u001b[1m82/82\u001b[0m \u001b[32m━━━━━━━━━━━━━━━━━━━━\u001b[0m\u001b[37m\u001b[0m \u001b[1m0s\u001b[0m 1ms/step - accuracy: 0.9222 - loss: 0.5035 - val_accuracy: 0.9293 - val_loss: 0.4998 - learning_rate: 1.0000e-04\n",
      "Epoch 29/100\n",
      "\u001b[1m49/82\u001b[0m \u001b[32m━━━━━━━━━━━\u001b[0m\u001b[37m━━━━━━━━━\u001b[0m \u001b[1m0s\u001b[0m 1ms/step - accuracy: 0.9362 - loss: 0.4769 Epoch 029 | loss=0.4903, acc=0.9338 | val_loss=0.4965, val_acc=0.9278 | 0.13s\n",
      "\u001b[1m82/82\u001b[0m \u001b[32m━━━━━━━━━━━━━━━━━━━━\u001b[0m\u001b[37m\u001b[0m \u001b[1m0s\u001b[0m 1ms/step - accuracy: 0.9363 - loss: 0.4801 - val_accuracy: 0.9278 - val_loss: 0.4965 - learning_rate: 1.0000e-04\n",
      "Epoch 30/100\n",
      "\u001b[1m48/82\u001b[0m \u001b[32m━━━━━━━━━━━\u001b[0m\u001b[37m━━━━━━━━━\u001b[0m \u001b[1m0s\u001b[0m 1ms/step - accuracy: 0.9219 - loss: 0.4980 Epoch 030 | loss=0.4805, acc=0.9296 | val_loss=0.4939, val_acc=0.9278 | 0.14s\n",
      "\u001b[1m82/82\u001b[0m \u001b[32m━━━━━━━━━━━━━━━━━━━━\u001b[0m\u001b[37m\u001b[0m \u001b[1m0s\u001b[0m 2ms/step - accuracy: 0.9245 - loss: 0.4919 - val_accuracy: 0.9278 - val_loss: 0.4939 - learning_rate: 1.0000e-04\n",
      "Epoch 31/100\n",
      "\u001b[1m50/82\u001b[0m \u001b[32m━━━━━━━━━━━━\u001b[0m\u001b[37m━━━━━━━━\u001b[0m \u001b[1m0s\u001b[0m 1ms/step - accuracy: 0.9332 - loss: 0.4897 Epoch 031 | loss=0.4801, acc=0.9327 | val_loss=0.4918, val_acc=0.9278 | 0.13s\n",
      "\u001b[1m82/82\u001b[0m \u001b[32m━━━━━━━━━━━━━━━━━━━━\u001b[0m\u001b[37m\u001b[0m \u001b[1m0s\u001b[0m 1ms/step - accuracy: 0.9322 - loss: 0.4868 - val_accuracy: 0.9278 - val_loss: 0.4918 - learning_rate: 1.0000e-04\n",
      "Epoch 32/100\n",
      "\u001b[1m49/82\u001b[0m \u001b[32m━━━━━━━━━━━\u001b[0m\u001b[37m━━━━━━━━━\u001b[0m \u001b[1m0s\u001b[0m 1ms/step - accuracy: 0.9415 - loss: 0.4676 Epoch 032 | loss=0.4785, acc=0.9312 | val_loss=0.4894, val_acc=0.9309 | 0.13s\n",
      "\u001b[1m82/82\u001b[0m \u001b[32m━━━━━━━━━━━━━━━━━━━━\u001b[0m\u001b[37m\u001b[0m \u001b[1m0s\u001b[0m 1ms/step - accuracy: 0.9379 - loss: 0.4729 - val_accuracy: 0.9309 - val_loss: 0.4894 - learning_rate: 1.0000e-04\n",
      "Epoch 33/100\n",
      "\u001b[1m50/82\u001b[0m \u001b[32m━━━━━━━━━━━━\u001b[0m\u001b[37m━━━━━━━━\u001b[0m \u001b[1m0s\u001b[0m 1ms/step - accuracy: 0.9435 - loss: 0.4566 Epoch 033 | loss=0.4678, acc=0.9342 | val_loss=0.4869, val_acc=0.9293 | 0.13s\n",
      "\u001b[1m82/82\u001b[0m \u001b[32m━━━━━━━━━━━━━━━━━━━━\u001b[0m\u001b[37m\u001b[0m \u001b[1m0s\u001b[0m 1ms/step - accuracy: 0.9407 - loss: 0.4578 - val_accuracy: 0.9293 - val_loss: 0.4869 - learning_rate: 1.0000e-04\n",
      "Epoch 34/100\n",
      "\u001b[1m48/82\u001b[0m \u001b[32m━━━━━━━━━━━\u001b[0m\u001b[37m━━━━━━━━━\u001b[0m \u001b[1m0s\u001b[0m 1ms/step - accuracy: 0.9374 - loss: 0.4605 Epoch 034 | loss=0.4647, acc=0.9331 | val_loss=0.4827, val_acc=0.9293 | 0.13s\n",
      "\u001b[1m82/82\u001b[0m \u001b[32m━━━━━━━━━━━━━━━━━━━━\u001b[0m\u001b[37m\u001b[0m \u001b[1m0s\u001b[0m 1ms/step - accuracy: 0.9358 - loss: 0.4625 - val_accuracy: 0.9293 - val_loss: 0.4827 - learning_rate: 1.0000e-04\n",
      "Epoch 35/100\n",
      "\u001b[1m49/82\u001b[0m \u001b[32m━━━━━━━━━━━\u001b[0m\u001b[37m━━━━━━━━━\u001b[0m \u001b[1m0s\u001b[0m 1ms/step - accuracy: 0.9308 - loss: 0.4682 Epoch 035 | loss=0.4555, acc=0.9354 | val_loss=0.4807, val_acc=0.9309 | 0.13s\n",
      "\u001b[1m82/82\u001b[0m \u001b[32m━━━━━━━━━━━━━━━━━━━━\u001b[0m\u001b[37m\u001b[0m \u001b[1m0s\u001b[0m 1ms/step - accuracy: 0.9323 - loss: 0.4642 - val_accuracy: 0.9309 - val_loss: 0.4807 - learning_rate: 1.0000e-04\n",
      "Epoch 36/100\n",
      "\u001b[1m49/82\u001b[0m \u001b[32m━━━━━━━━━━━\u001b[0m\u001b[37m━━━━━━━━━\u001b[0m \u001b[1m0s\u001b[0m 1ms/step - accuracy: 0.9307 - loss: 0.4754 Epoch 036 | loss=0.4593, acc=0.9373 | val_loss=0.4773, val_acc=0.9309 | 0.13s\n",
      "\u001b[1m82/82\u001b[0m \u001b[32m━━━━━━━━━━━━━━━━━━━━\u001b[0m\u001b[37m\u001b[0m \u001b[1m0s\u001b[0m 1ms/step - accuracy: 0.9328 - loss: 0.4695 - val_accuracy: 0.9309 - val_loss: 0.4773 - learning_rate: 1.0000e-04\n",
      "Epoch 37/100\n",
      "\u001b[1m50/82\u001b[0m \u001b[32m━━━━━━━━━━━━\u001b[0m\u001b[37m━━━━━━━━\u001b[0m \u001b[1m0s\u001b[0m 1ms/step - accuracy: 0.9341 - loss: 0.4543 Epoch 037 | loss=0.4521, acc=0.9369 | val_loss=0.4740, val_acc=0.9309 | 0.13s\n",
      "\u001b[1m82/82\u001b[0m \u001b[32m━━━━━━━━━━━━━━━━━━━━\u001b[0m\u001b[37m\u001b[0m \u001b[1m0s\u001b[0m 1ms/step - accuracy: 0.9344 - loss: 0.4553 - val_accuracy: 0.9309 - val_loss: 0.4740 - learning_rate: 1.0000e-04\n",
      "Epoch 38/100\n",
      "\u001b[1m49/82\u001b[0m \u001b[32m━━━━━━━━━━━\u001b[0m\u001b[37m━━━━━━━━━\u001b[0m \u001b[1m0s\u001b[0m 1ms/step - accuracy: 0.9362 - loss: 0.4516 Epoch 038 | loss=0.4541, acc=0.9342 | val_loss=0.4729, val_acc=0.9309 | 0.13s\n",
      "\u001b[1m82/82\u001b[0m \u001b[32m━━━━━━━━━━━━━━━━━━━━\u001b[0m\u001b[37m\u001b[0m \u001b[1m0s\u001b[0m 1ms/step - accuracy: 0.9349 - loss: 0.4533 - val_accuracy: 0.9309 - val_loss: 0.4729 - learning_rate: 1.0000e-04\n",
      "Epoch 39/100\n",
      "\u001b[1m51/82\u001b[0m \u001b[32m━━━━━━━━━━━━\u001b[0m\u001b[37m━━━━━━━━\u001b[0m \u001b[1m0s\u001b[0m 1ms/step - accuracy: 0.9462 - loss: 0.4286 Epoch 039 | loss=0.4461, acc=0.9342 | val_loss=0.4691, val_acc=0.9309 | 0.13s\n",
      "\u001b[1m82/82\u001b[0m \u001b[32m━━━━━━━━━━━━━━━━━━━━\u001b[0m\u001b[37m\u001b[0m \u001b[1m0s\u001b[0m 1ms/step - accuracy: 0.9412 - loss: 0.4367 - val_accuracy: 0.9309 - val_loss: 0.4691 - learning_rate: 1.0000e-04\n",
      "Epoch 40/100\n",
      "\u001b[1m48/82\u001b[0m \u001b[32m━━━━━━━━━━━\u001b[0m\u001b[37m━━━━━━━━━\u001b[0m \u001b[1m0s\u001b[0m 1ms/step - accuracy: 0.9116 - loss: 0.4954 Epoch 040 | loss=0.4494, acc=0.9327 | val_loss=0.4664, val_acc=0.9309 | 0.14s\n",
      "\u001b[1m82/82\u001b[0m \u001b[32m━━━━━━━━━━━━━━━━━━━━\u001b[0m\u001b[37m\u001b[0m \u001b[1m0s\u001b[0m 2ms/step - accuracy: 0.9179 - loss: 0.4806 - val_accuracy: 0.9309 - val_loss: 0.4664 - learning_rate: 1.0000e-04\n",
      "Epoch 41/100\n",
      "\u001b[1m50/82\u001b[0m \u001b[32m━━━━━━━━━━━━\u001b[0m\u001b[37m━━━━━━━━\u001b[0m \u001b[1m0s\u001b[0m 1ms/step - accuracy: 0.9322 - loss: 0.4450 Epoch 041 | loss=0.4392, acc=0.9358 | val_loss=0.4647, val_acc=0.9309 | 0.13s\n",
      "\u001b[1m82/82\u001b[0m \u001b[32m━━━━━━━━━━━━━━━━━━━━\u001b[0m\u001b[37m\u001b[0m \u001b[1m0s\u001b[0m 1ms/step - accuracy: 0.9333 - loss: 0.4422 - val_accuracy: 0.9309 - val_loss: 0.4647 - learning_rate: 1.0000e-04\n",
      "Epoch 42/100\n",
      "\u001b[1m46/82\u001b[0m \u001b[32m━━━━━━━━━━━\u001b[0m\u001b[37m━━━━━━━━━\u001b[0m \u001b[1m0s\u001b[0m 1ms/step - accuracy: 0.9410 - loss: 0.4446 Epoch 042 | loss=0.4355, acc=0.9358 | val_loss=0.4634, val_acc=0.9309 | 0.14s\n",
      "\u001b[1m82/82\u001b[0m \u001b[32m━━━━━━━━━━━━━━━━━━━━\u001b[0m\u001b[37m\u001b[0m \u001b[1m0s\u001b[0m 2ms/step - accuracy: 0.9393 - loss: 0.4392 - val_accuracy: 0.9309 - val_loss: 0.4634 - learning_rate: 1.0000e-04\n",
      "Epoch 43/100\n",
      "\u001b[1m37/82\u001b[0m \u001b[32m━━━━━━━━━\u001b[0m\u001b[37m━━━━━━━━━━━\u001b[0m \u001b[1m0s\u001b[0m 1ms/step - accuracy: 0.9440 - loss: 0.4412 Epoch 043 | loss=0.4369, acc=0.9396 | val_loss=0.4605, val_acc=0.9309 | 0.14s\n",
      "\u001b[1m82/82\u001b[0m \u001b[32m━━━━━━━━━━━━━━━━━━━━\u001b[0m\u001b[37m\u001b[0m \u001b[1m0s\u001b[0m 2ms/step - accuracy: 0.9436 - loss: 0.4351 - val_accuracy: 0.9309 - val_loss: 0.4605 - learning_rate: 1.0000e-04\n",
      "Epoch 44/100\n",
      "\u001b[1m49/82\u001b[0m \u001b[32m━━━━━━━━━━━\u001b[0m\u001b[37m━━━━━━━━━\u001b[0m \u001b[1m0s\u001b[0m 1ms/step - accuracy: 0.9396 - loss: 0.4271 Epoch 044 | loss=0.4275, acc=0.9381 | val_loss=0.4575, val_acc=0.9339 | 0.13s\n",
      "\u001b[1m82/82\u001b[0m \u001b[32m━━━━━━━━━━━━━━━━━━━━\u001b[0m\u001b[37m\u001b[0m \u001b[1m0s\u001b[0m 1ms/step - accuracy: 0.9380 - loss: 0.4297 - val_accuracy: 0.9339 - val_loss: 0.4575 - learning_rate: 1.0000e-04\n",
      "Epoch 45/100\n",
      "\u001b[1m50/82\u001b[0m \u001b[32m━━━━━━━━━━━━\u001b[0m\u001b[37m━━━━━━━━\u001b[0m \u001b[1m0s\u001b[0m 1ms/step - accuracy: 0.9475 - loss: 0.4305 Epoch 045 | loss=0.4280, acc=0.9396 | val_loss=0.4563, val_acc=0.9339 | 0.13s\n",
      "\u001b[1m82/82\u001b[0m \u001b[32m━━━━━━━━━━━━━━━━━━━━\u001b[0m\u001b[37m\u001b[0m \u001b[1m0s\u001b[0m 1ms/step - accuracy: 0.9456 - loss: 0.4263 - val_accuracy: 0.9339 - val_loss: 0.4563 - learning_rate: 1.0000e-04\n",
      "Epoch 46/100\n",
      "\u001b[1m48/82\u001b[0m \u001b[32m━━━━━━━━━━━\u001b[0m\u001b[37m━━━━━━━━━\u001b[0m \u001b[1m0s\u001b[0m 1ms/step - accuracy: 0.9415 - loss: 0.4092 Epoch 046 | loss=0.4162, acc=0.9408 | val_loss=0.4548, val_acc=0.9355 | 0.13s\n",
      "\u001b[1m82/82\u001b[0m \u001b[32m━━━━━━━━━━━━━━━━━━━━\u001b[0m\u001b[37m\u001b[0m \u001b[1m0s\u001b[0m 2ms/step - accuracy: 0.9406 - loss: 0.4125 - val_accuracy: 0.9355 - val_loss: 0.4548 - learning_rate: 1.0000e-04\n",
      "Epoch 47/100\n",
      "\u001b[1m49/82\u001b[0m \u001b[32m━━━━━━━━━━━\u001b[0m\u001b[37m━━━━━━━━━\u001b[0m \u001b[1m0s\u001b[0m 1ms/step - accuracy: 0.9387 - loss: 0.4208 Epoch 047 | loss=0.4212, acc=0.9396 | val_loss=0.4519, val_acc=0.9339 | 0.13s\n",
      "\u001b[1m82/82\u001b[0m \u001b[32m━━━━━━━━━━━━━━━━━━━━\u001b[0m\u001b[37m\u001b[0m \u001b[1m0s\u001b[0m 1ms/step - accuracy: 0.9391 - loss: 0.4210 - val_accuracy: 0.9339 - val_loss: 0.4519 - learning_rate: 1.0000e-04\n",
      "Epoch 48/100\n",
      "\u001b[1m48/82\u001b[0m \u001b[32m━━━━━━━━━━━\u001b[0m\u001b[37m━━━━━━━━━\u001b[0m \u001b[1m0s\u001b[0m 1ms/step - accuracy: 0.9371 - loss: 0.4066 Epoch 048 | loss=0.4187, acc=0.9358 | val_loss=0.4488, val_acc=0.9355 | 0.13s\n",
      "\u001b[1m82/82\u001b[0m \u001b[32m━━━━━━━━━━━━━━━━━━━━\u001b[0m\u001b[37m\u001b[0m \u001b[1m0s\u001b[0m 2ms/step - accuracy: 0.9365 - loss: 0.4115 - val_accuracy: 0.9355 - val_loss: 0.4488 - learning_rate: 1.0000e-04\n",
      "Epoch 49/100\n",
      "\u001b[1m48/82\u001b[0m \u001b[32m━━━━━━━━━━━\u001b[0m\u001b[37m━━━━━━━━━\u001b[0m \u001b[1m0s\u001b[0m 1ms/step - accuracy: 0.9363 - loss: 0.4032 Epoch 049 | loss=0.4024, acc=0.9408 | val_loss=0.4484, val_acc=0.9339 | 0.14s\n",
      "\u001b[1m82/82\u001b[0m \u001b[32m━━━━━━━━━━━━━━━━━━━━\u001b[0m\u001b[37m\u001b[0m \u001b[1m0s\u001b[0m 2ms/step - accuracy: 0.9374 - loss: 0.4041 - val_accuracy: 0.9339 - val_loss: 0.4484 - learning_rate: 1.0000e-04\n",
      "Epoch 50/100\n",
      "\u001b[1m49/82\u001b[0m \u001b[32m━━━━━━━━━━━\u001b[0m\u001b[37m━━━━━━━━━\u001b[0m \u001b[1m0s\u001b[0m 1ms/step - accuracy: 0.9452 - loss: 0.4033 Epoch 050 | loss=0.4110, acc=0.9362 | val_loss=0.4448, val_acc=0.9355 | 0.13s\n",
      "\u001b[1m82/82\u001b[0m \u001b[32m━━━━━━━━━━━━━━━━━━━━\u001b[0m\u001b[37m\u001b[0m \u001b[1m0s\u001b[0m 1ms/step - accuracy: 0.9423 - loss: 0.4056 - val_accuracy: 0.9355 - val_loss: 0.4448 - learning_rate: 1.0000e-04\n",
      "Epoch 51/100\n",
      "\u001b[1m50/82\u001b[0m \u001b[32m━━━━━━━━━━━━\u001b[0m\u001b[37m━━━━━━━━\u001b[0m \u001b[1m0s\u001b[0m 1ms/step - accuracy: 0.9511 - loss: 0.3897 Epoch 051 | loss=0.4035, acc=0.9423 | val_loss=0.4450, val_acc=0.9355 | 0.13s\n",
      "\u001b[1m82/82\u001b[0m \u001b[32m━━━━━━━━━━━━━━━━━━━━\u001b[0m\u001b[37m\u001b[0m \u001b[1m0s\u001b[0m 1ms/step - accuracy: 0.9481 - loss: 0.3956 - val_accuracy: 0.9355 - val_loss: 0.4450 - learning_rate: 1.0000e-04\n",
      "Epoch 52/100\n",
      "\u001b[1m51/82\u001b[0m \u001b[32m━━━━━━━━━━━━\u001b[0m\u001b[37m━━━━━━━━\u001b[0m \u001b[1m0s\u001b[0m 1ms/step - accuracy: 0.9414 - loss: 0.4068 Epoch 052 | loss=0.4006, acc=0.9438 | val_loss=0.4432, val_acc=0.9339 | 0.13s\n",
      "\u001b[1m82/82\u001b[0m \u001b[32m━━━━━━━━━━━━━━━━━━━━\u001b[0m\u001b[37m\u001b[0m \u001b[1m0s\u001b[0m 1ms/step - accuracy: 0.9431 - loss: 0.4032 - val_accuracy: 0.9339 - val_loss: 0.4432 - learning_rate: 1.0000e-04\n",
      "Epoch 53/100\n",
      "\u001b[1m76/82\u001b[0m \u001b[32m━━━━━━━━━━━━━━━━━━\u001b[0m\u001b[37m━━\u001b[0m \u001b[1m0s\u001b[0m 1ms/step - accuracy: 0.9465 - loss: 0.3902Epoch 053 | loss=0.3955, acc=0.9423 | val_loss=0.4410, val_acc=0.9339 | 0.16s\n",
      "\u001b[1m82/82\u001b[0m \u001b[32m━━━━━━━━━━━━━━━━━━━━\u001b[0m\u001b[37m\u001b[0m \u001b[1m0s\u001b[0m 2ms/step - accuracy: 0.9461 - loss: 0.3907 - val_accuracy: 0.9339 - val_loss: 0.4410 - learning_rate: 1.0000e-04\n",
      "Epoch 54/100\n",
      "\u001b[1m47/82\u001b[0m \u001b[32m━━━━━━━━━━━\u001b[0m\u001b[37m━━━━━━━━━\u001b[0m \u001b[1m0s\u001b[0m 1ms/step - accuracy: 0.9530 - loss: 0.3713 Epoch 054 | loss=0.3888, acc=0.9450 | val_loss=0.4398, val_acc=0.9355 | 0.13s\n",
      "\u001b[1m82/82\u001b[0m \u001b[32m━━━━━━━━━━━━━━━━━━━━\u001b[0m\u001b[37m\u001b[0m \u001b[1m0s\u001b[0m 2ms/step - accuracy: 0.9505 - loss: 0.3759 - val_accuracy: 0.9355 - val_loss: 0.4398 - learning_rate: 1.0000e-04\n",
      "Epoch 55/100\n",
      "\u001b[1m49/82\u001b[0m \u001b[32m━━━━━━━━━━━\u001b[0m\u001b[37m━━━━━━━━━\u001b[0m \u001b[1m0s\u001b[0m 1ms/step - accuracy: 0.9486 - loss: 0.3966 Epoch 055 | loss=0.3914, acc=0.9458 | val_loss=0.4372, val_acc=0.9355 | 0.13s\n",
      "\u001b[1m82/82\u001b[0m \u001b[32m━━━━━━━━━━━━━━━━━━━━\u001b[0m\u001b[37m\u001b[0m \u001b[1m0s\u001b[0m 1ms/step - accuracy: 0.9477 - loss: 0.3950 - val_accuracy: 0.9355 - val_loss: 0.4372 - learning_rate: 1.0000e-04\n",
      "Epoch 56/100\n",
      "\u001b[1m50/82\u001b[0m \u001b[32m━━━━━━━━━━━━\u001b[0m\u001b[37m━━━━━━━━\u001b[0m \u001b[1m0s\u001b[0m 1ms/step - accuracy: 0.9449 - loss: 0.3955 Epoch 056 | loss=0.3896, acc=0.9465 | val_loss=0.4377, val_acc=0.9339 | 0.13s\n",
      "\u001b[1m82/82\u001b[0m \u001b[32m━━━━━━━━━━━━━━━━━━━━\u001b[0m\u001b[37m\u001b[0m \u001b[1m0s\u001b[0m 1ms/step - accuracy: 0.9453 - loss: 0.3931 - val_accuracy: 0.9339 - val_loss: 0.4377 - learning_rate: 1.0000e-04\n",
      "Epoch 57/100\n",
      "\u001b[1m50/82\u001b[0m \u001b[32m━━━━━━━━━━━━\u001b[0m\u001b[37m━━━━━━━━\u001b[0m \u001b[1m0s\u001b[0m 1ms/step - accuracy: 0.9436 - loss: 0.3783 Epoch 057 | loss=0.3908, acc=0.9412 | val_loss=0.4365, val_acc=0.9355 | 0.13s\n",
      "\u001b[1m82/82\u001b[0m \u001b[32m━━━━━━━━━━━━━━━━━━━━\u001b[0m\u001b[37m\u001b[0m \u001b[1m0s\u001b[0m 1ms/step - accuracy: 0.9437 - loss: 0.3812 - val_accuracy: 0.9355 - val_loss: 0.4365 - learning_rate: 1.0000e-04\n",
      "Epoch 58/100\n",
      "\u001b[1m48/82\u001b[0m \u001b[32m━━━━━━━━━━━\u001b[0m\u001b[37m━━━━━━━━━\u001b[0m \u001b[1m0s\u001b[0m 1ms/step - accuracy: 0.9494 - loss: 0.3673 Epoch 058 | loss=0.3802, acc=0.9423 | val_loss=0.4355, val_acc=0.9355 | 0.13s\n",
      "\u001b[1m82/82\u001b[0m \u001b[32m━━━━━━━━━━━━━━━━━━━━\u001b[0m\u001b[37m\u001b[0m \u001b[1m0s\u001b[0m 2ms/step - accuracy: 0.9465 - loss: 0.3736 - val_accuracy: 0.9355 - val_loss: 0.4355 - learning_rate: 1.0000e-04\n",
      "Epoch 59/100\n",
      "\u001b[1m49/82\u001b[0m \u001b[32m━━━━━━━━━━━\u001b[0m\u001b[37m━━━━━━━━━\u001b[0m \u001b[1m0s\u001b[0m 1ms/step - accuracy: 0.9495 - loss: 0.3778 Epoch 059 | loss=0.3812, acc=0.9465 | val_loss=0.4333, val_acc=0.9339 | 0.13s\n",
      "\u001b[1m82/82\u001b[0m \u001b[32m━━━━━━━━━━━━━━━━━━━━\u001b[0m\u001b[37m\u001b[0m \u001b[1m0s\u001b[0m 1ms/step - accuracy: 0.9479 - loss: 0.3805 - val_accuracy: 0.9339 - val_loss: 0.4333 - learning_rate: 1.0000e-04\n",
      "Epoch 60/100\n",
      "\u001b[1m47/82\u001b[0m \u001b[32m━━━━━━━━━━━\u001b[0m\u001b[37m━━━━━━━━━\u001b[0m \u001b[1m0s\u001b[0m 1ms/step - accuracy: 0.9421 - loss: 0.3920 Epoch 060 | loss=0.3787, acc=0.9473 | val_loss=0.4310, val_acc=0.9339 | 0.13s\n",
      "\u001b[1m82/82\u001b[0m \u001b[32m━━━━━━━━━━━━━━━━━━━━\u001b[0m\u001b[37m\u001b[0m \u001b[1m0s\u001b[0m 2ms/step - accuracy: 0.9441 - loss: 0.3867 - val_accuracy: 0.9339 - val_loss: 0.4310 - learning_rate: 1.0000e-04\n",
      "Epoch 61/100\n",
      "\u001b[1m46/82\u001b[0m \u001b[32m━━━━━━━━━━━\u001b[0m\u001b[37m━━━━━━━━━\u001b[0m \u001b[1m0s\u001b[0m 1ms/step - accuracy: 0.9372 - loss: 0.3771 Epoch 061 | loss=0.3723, acc=0.9462 | val_loss=0.4295, val_acc=0.9339 | 0.14s\n",
      "\u001b[1m82/82\u001b[0m \u001b[32m━━━━━━━━━━━━━━━━━━━━\u001b[0m\u001b[37m\u001b[0m \u001b[1m0s\u001b[0m 2ms/step - accuracy: 0.9408 - loss: 0.3744 - val_accuracy: 0.9339 - val_loss: 0.4295 - learning_rate: 1.0000e-04\n",
      "Epoch 62/100\n",
      "\u001b[1m46/82\u001b[0m \u001b[32m━━━━━━━━━━━\u001b[0m\u001b[37m━━━━━━━━━\u001b[0m \u001b[1m0s\u001b[0m 1ms/step - accuracy: 0.9533 - loss: 0.3500 Epoch 062 | loss=0.3694, acc=0.9462 | val_loss=0.4276, val_acc=0.9370 | 0.13s\n",
      "\u001b[1m82/82\u001b[0m \u001b[32m━━━━━━━━━━━━━━━━━━━━\u001b[0m\u001b[37m\u001b[0m \u001b[1m0s\u001b[0m 2ms/step - accuracy: 0.9517 - loss: 0.3544 - val_accuracy: 0.9370 - val_loss: 0.4276 - learning_rate: 1.0000e-04\n",
      "Epoch 63/100\n",
      "\u001b[1m51/82\u001b[0m \u001b[32m━━━━━━━━━━━━\u001b[0m\u001b[37m━━━━━━━━\u001b[0m \u001b[1m0s\u001b[0m 1ms/step - accuracy: 0.9589 - loss: 0.3592 Epoch 063 | loss=0.3629, acc=0.9465 | val_loss=0.4278, val_acc=0.9355 | 0.13s\n",
      "\u001b[1m82/82\u001b[0m \u001b[32m━━━━━━━━━━━━━━━━━━━━\u001b[0m\u001b[37m\u001b[0m \u001b[1m0s\u001b[0m 1ms/step - accuracy: 0.9558 - loss: 0.3588 - val_accuracy: 0.9355 - val_loss: 0.4278 - learning_rate: 1.0000e-04\n",
      "Epoch 64/100\n",
      "\u001b[1m51/82\u001b[0m \u001b[32m━━━━━━━━━━━━\u001b[0m\u001b[37m━━━━━━━━\u001b[0m \u001b[1m0s\u001b[0m 1ms/step - accuracy: 0.9410 - loss: 0.3581 Epoch 064 | loss=0.3579, acc=0.9488 | val_loss=0.4255, val_acc=0.9370 | 0.13s\n",
      "\u001b[1m82/82\u001b[0m \u001b[32m━━━━━━━━━━━━━━━━━━━━\u001b[0m\u001b[37m\u001b[0m \u001b[1m0s\u001b[0m 1ms/step - accuracy: 0.9442 - loss: 0.3565 - val_accuracy: 0.9370 - val_loss: 0.4255 - learning_rate: 1.0000e-04\n",
      "Epoch 65/100\n",
      "\u001b[1m50/82\u001b[0m \u001b[32m━━━━━━━━━━━━\u001b[0m\u001b[37m━━━━━━━━\u001b[0m \u001b[1m0s\u001b[0m 1ms/step - accuracy: 0.9387 - loss: 0.3851 Epoch 065 | loss=0.3583, acc=0.9504 | val_loss=0.4241, val_acc=0.9339 | 0.13s\n",
      "\u001b[1m82/82\u001b[0m \u001b[32m━━━━━━━━━━━━━━━━━━━━\u001b[0m\u001b[37m\u001b[0m \u001b[1m0s\u001b[0m 2ms/step - accuracy: 0.9429 - loss: 0.3750 - val_accuracy: 0.9339 - val_loss: 0.4241 - learning_rate: 1.0000e-04\n",
      "Epoch 66/100\n",
      "\u001b[1m48/82\u001b[0m \u001b[32m━━━━━━━━━━━\u001b[0m\u001b[37m━━━━━━━━━\u001b[0m \u001b[1m0s\u001b[0m 1ms/step - accuracy: 0.9457 - loss: 0.3522 Epoch 066 | loss=0.3541, acc=0.9458 | val_loss=0.4242, val_acc=0.9370 | 0.13s\n",
      "\u001b[1m82/82\u001b[0m \u001b[32m━━━━━━━━━━━━━━━━━━━━\u001b[0m\u001b[37m\u001b[0m \u001b[1m0s\u001b[0m 1ms/step - accuracy: 0.9457 - loss: 0.3523 - val_accuracy: 0.9370 - val_loss: 0.4242 - learning_rate: 1.0000e-04\n",
      "Epoch 67/100\n",
      "\u001b[1m49/82\u001b[0m \u001b[32m━━━━━━━━━━━\u001b[0m\u001b[37m━━━━━━━━━\u001b[0m \u001b[1m0s\u001b[0m 1ms/step - accuracy: 0.9525 - loss: 0.3489 Epoch 067 | loss=0.3572, acc=0.9496 | val_loss=0.4215, val_acc=0.9370 | 0.13s\n",
      "\u001b[1m82/82\u001b[0m \u001b[32m━━━━━━━━━━━━━━━━━━━━\u001b[0m\u001b[37m\u001b[0m \u001b[1m0s\u001b[0m 1ms/step - accuracy: 0.9508 - loss: 0.3535 - val_accuracy: 0.9370 - val_loss: 0.4215 - learning_rate: 1.0000e-04\n",
      "Epoch 68/100\n",
      "\u001b[1m77/82\u001b[0m \u001b[32m━━━━━━━━━━━━━━━━━━\u001b[0m\u001b[37m━━\u001b[0m \u001b[1m0s\u001b[0m 1ms/step - accuracy: 0.9509 - loss: 0.3482Epoch 068 | loss=0.3540, acc=0.9485 | val_loss=0.4210, val_acc=0.9370 | 0.22s\n",
      "\u001b[1m82/82\u001b[0m \u001b[32m━━━━━━━━━━━━━━━━━━━━\u001b[0m\u001b[37m\u001b[0m \u001b[1m0s\u001b[0m 3ms/step - accuracy: 0.9507 - loss: 0.3487 - val_accuracy: 0.9370 - val_loss: 0.4210 - learning_rate: 1.0000e-04\n",
      "Epoch 69/100\n",
      "\u001b[1m79/82\u001b[0m \u001b[32m━━━━━━━━━━━━━━━━━━━\u001b[0m\u001b[37m━\u001b[0m \u001b[1m0s\u001b[0m 1ms/step - accuracy: 0.9539 - loss: 0.3399Epoch 069 | loss=0.3522, acc=0.9485 | val_loss=0.4182, val_acc=0.9401 | 0.16s\n",
      "\u001b[1m82/82\u001b[0m \u001b[32m━━━━━━━━━━━━━━━━━━━━\u001b[0m\u001b[37m\u001b[0m \u001b[1m0s\u001b[0m 2ms/step - accuracy: 0.9536 - loss: 0.3405 - val_accuracy: 0.9401 - val_loss: 0.4182 - learning_rate: 1.0000e-04\n",
      "Epoch 70/100\n",
      "\u001b[1m46/82\u001b[0m \u001b[32m━━━━━━━━━━━\u001b[0m\u001b[37m━━━━━━━━━\u001b[0m \u001b[1m0s\u001b[0m 1ms/step - accuracy: 0.9488 - loss: 0.3371 Epoch 070 | loss=0.3439, acc=0.9496 | val_loss=0.4176, val_acc=0.9401 | 0.14s\n",
      "\u001b[1m82/82\u001b[0m \u001b[32m━━━━━━━━━━━━━━━━━━━━\u001b[0m\u001b[37m\u001b[0m \u001b[1m0s\u001b[0m 2ms/step - accuracy: 0.9499 - loss: 0.3394 - val_accuracy: 0.9401 - val_loss: 0.4176 - learning_rate: 1.0000e-04\n",
      "Epoch 71/100\n",
      "\u001b[1m46/82\u001b[0m \u001b[32m━━━━━━━━━━━\u001b[0m\u001b[37m━━━━━━━━━\u001b[0m \u001b[1m0s\u001b[0m 1ms/step - accuracy: 0.9481 - loss: 0.3366 Epoch 071 | loss=0.3399, acc=0.9504 | val_loss=0.4178, val_acc=0.9416 | 0.13s\n",
      "\u001b[1m82/82\u001b[0m \u001b[32m━━━━━━━━━━━━━━━━━━━━\u001b[0m\u001b[37m\u001b[0m \u001b[1m0s\u001b[0m 2ms/step - accuracy: 0.9479 - loss: 0.3401 - val_accuracy: 0.9416 - val_loss: 0.4178 - learning_rate: 1.0000e-04\n",
      "Epoch 72/100\n",
      "\u001b[1m51/82\u001b[0m \u001b[32m━━━━━━━━━━━━\u001b[0m\u001b[37m━━━━━━━━\u001b[0m \u001b[1m0s\u001b[0m 1ms/step - accuracy: 0.9453 - loss: 0.3499 Epoch 072 | loss=0.3450, acc=0.9500 | val_loss=0.4192, val_acc=0.9401 | 0.13s\n",
      "\u001b[1m82/82\u001b[0m \u001b[32m━━━━━━━━━━━━━━━━━━━━\u001b[0m\u001b[37m\u001b[0m \u001b[1m0s\u001b[0m 1ms/step - accuracy: 0.9469 - loss: 0.3491 - val_accuracy: 0.9401 - val_loss: 0.4192 - learning_rate: 1.0000e-04\n",
      "Epoch 73/100\n",
      "\u001b[1m48/82\u001b[0m \u001b[32m━━━━━━━━━━━\u001b[0m\u001b[37m━━━━━━━━━\u001b[0m \u001b[1m0s\u001b[0m 1ms/step - accuracy: 0.9570 - loss: 0.3240 Epoch 073 | loss=0.3401, acc=0.9508 | val_loss=0.4183, val_acc=0.9432 | 0.13s\n",
      "\u001b[1m82/82\u001b[0m \u001b[32m━━━━━━━━━━━━━━━━━━━━\u001b[0m\u001b[37m\u001b[0m \u001b[1m0s\u001b[0m 2ms/step - accuracy: 0.9538 - loss: 0.3308 - val_accuracy: 0.9432 - val_loss: 0.4183 - learning_rate: 1.0000e-04\n",
      "Epoch 74/100\n",
      "\u001b[1m49/82\u001b[0m \u001b[32m━━━━━━━━━━━\u001b[0m\u001b[37m━━━━━━━━━\u001b[0m \u001b[1m0s\u001b[0m 1ms/step - accuracy: 0.9590 - loss: 0.3180 Epoch 074 | loss=0.3406, acc=0.9500 | val_loss=0.4141, val_acc=0.9447 | 0.13s\n",
      "\u001b[1m82/82\u001b[0m \u001b[32m━━━━━━━━━━━━━━━━━━━━\u001b[0m\u001b[37m\u001b[0m \u001b[1m0s\u001b[0m 2ms/step - accuracy: 0.9571 - loss: 0.3241 - val_accuracy: 0.9447 - val_loss: 0.4141 - learning_rate: 1.0000e-04\n",
      "Epoch 75/100\n",
      "\u001b[1m48/82\u001b[0m \u001b[32m━━━━━━━━━━━\u001b[0m\u001b[37m━━━━━━━━━\u001b[0m \u001b[1m0s\u001b[0m 1ms/step - accuracy: 0.9493 - loss: 0.3466 Epoch 075 | loss=0.3321, acc=0.9538 | val_loss=0.4140, val_acc=0.9401 | 0.13s\n",
      "\u001b[1m82/82\u001b[0m \u001b[32m━━━━━━━━━━━━━━━━━━━━\u001b[0m\u001b[37m\u001b[0m \u001b[1m0s\u001b[0m 2ms/step - accuracy: 0.9513 - loss: 0.3419 - val_accuracy: 0.9401 - val_loss: 0.4140 - learning_rate: 1.0000e-04\n",
      "Epoch 76/100\n",
      "\u001b[1m49/82\u001b[0m \u001b[32m━━━━━━━━━━━\u001b[0m\u001b[37m━━━━━━━━━\u001b[0m \u001b[1m0s\u001b[0m 1ms/step - accuracy: 0.9509 - loss: 0.3223 Epoch 076 | loss=0.3275, acc=0.9488 | val_loss=0.4168, val_acc=0.9432 | 0.13s\n",
      "\u001b[1m82/82\u001b[0m \u001b[32m━━━━━━━━━━━━━━━━━━━━\u001b[0m\u001b[37m\u001b[0m \u001b[1m0s\u001b[0m 1ms/step - accuracy: 0.9499 - loss: 0.3233 - val_accuracy: 0.9432 - val_loss: 0.4168 - learning_rate: 1.0000e-04\n",
      "Epoch 77/100\n",
      "\u001b[1m47/82\u001b[0m \u001b[32m━━━━━━━━━━━\u001b[0m\u001b[37m━━━━━━━━━\u001b[0m \u001b[1m0s\u001b[0m 1ms/step - accuracy: 0.9522 - loss: 0.3339 Epoch 077 | loss=0.3297, acc=0.9527 | val_loss=0.4151, val_acc=0.9432 | 0.13s\n",
      "\u001b[1m82/82\u001b[0m \u001b[32m━━━━━━━━━━━━━━━━━━━━\u001b[0m\u001b[37m\u001b[0m \u001b[1m0s\u001b[0m 1ms/step - accuracy: 0.9533 - loss: 0.3313 - val_accuracy: 0.9432 - val_loss: 0.4151 - learning_rate: 1.0000e-04\n",
      "Epoch 78/100\n",
      "\u001b[1m49/82\u001b[0m \u001b[32m━━━━━━━━━━━\u001b[0m\u001b[37m━━━━━━━━━\u001b[0m \u001b[1m0s\u001b[0m 1ms/step - accuracy: 0.9425 - loss: 0.3477 Epoch 078 | loss=0.3236, acc=0.9488 | val_loss=0.4137, val_acc=0.9416 | 0.13s\n",
      "\u001b[1m82/82\u001b[0m \u001b[32m━━━━━━━━━━━━━━━━━━━━\u001b[0m\u001b[37m\u001b[0m \u001b[1m0s\u001b[0m 1ms/step - accuracy: 0.9450 - loss: 0.3382 - val_accuracy: 0.9416 - val_loss: 0.4137 - learning_rate: 1.0000e-04\n",
      "Epoch 79/100\n",
      "\u001b[1m48/82\u001b[0m \u001b[32m━━━━━━━━━━━\u001b[0m\u001b[37m━━━━━━━━━\u001b[0m \u001b[1m0s\u001b[0m 1ms/step - accuracy: 0.9580 - loss: 0.3212 Epoch 079 | loss=0.3289, acc=0.9538 | val_loss=0.4134, val_acc=0.9416 | 0.13s\n",
      "\u001b[1m82/82\u001b[0m \u001b[32m━━━━━━━━━━━━━━━━━━━━\u001b[0m\u001b[37m\u001b[0m \u001b[1m0s\u001b[0m 2ms/step - accuracy: 0.9555 - loss: 0.3248 - val_accuracy: 0.9416 - val_loss: 0.4134 - learning_rate: 1.0000e-04\n",
      "Epoch 80/100\n",
      "\u001b[1m80/82\u001b[0m \u001b[32m━━━━━━━━━━━━━━━━━━━\u001b[0m\u001b[37m━\u001b[0m \u001b[1m0s\u001b[0m 1ms/step - accuracy: 0.9581 - loss: 0.3139Epoch 080 | loss=0.3152, acc=0.9577 | val_loss=0.4135, val_acc=0.9386 | 0.16s\n",
      "\u001b[1m82/82\u001b[0m \u001b[32m━━━━━━━━━━━━━━━━━━━━\u001b[0m\u001b[37m\u001b[0m \u001b[1m0s\u001b[0m 2ms/step - accuracy: 0.9581 - loss: 0.3140 - val_accuracy: 0.9386 - val_loss: 0.4135 - learning_rate: 1.0000e-04\n",
      "Epoch 81/100\n",
      "\u001b[1m46/82\u001b[0m \u001b[32m━━━━━━━━━━━\u001b[0m\u001b[37m━━━━━━━━━\u001b[0m \u001b[1m0s\u001b[0m 1ms/step - accuracy: 0.9590 - loss: 0.3015 Epoch 081 | loss=0.3184, acc=0.9504 | val_loss=0.4127, val_acc=0.9447 | 0.15s\n",
      "\u001b[1m82/82\u001b[0m \u001b[32m━━━━━━━━━━━━━━━━━━━━\u001b[0m\u001b[37m\u001b[0m \u001b[1m0s\u001b[0m 2ms/step - accuracy: 0.9563 - loss: 0.3072 - val_accuracy: 0.9447 - val_loss: 0.4127 - learning_rate: 1.0000e-04\n",
      "Epoch 82/100\n",
      "\u001b[1m46/82\u001b[0m \u001b[32m━━━━━━━━━━━\u001b[0m\u001b[37m━━━━━━━━━\u001b[0m \u001b[1m0s\u001b[0m 1ms/step - accuracy: 0.9604 - loss: 0.2955 Epoch 082 | loss=0.3152, acc=0.9508 | val_loss=0.4097, val_acc=0.9447 | 0.13s\n",
      "\u001b[1m82/82\u001b[0m \u001b[32m━━━━━━━━━━━━━━━━━━━━\u001b[0m\u001b[37m\u001b[0m \u001b[1m0s\u001b[0m 2ms/step - accuracy: 0.9572 - loss: 0.3024 - val_accuracy: 0.9447 - val_loss: 0.4097 - learning_rate: 1.0000e-04\n",
      "Epoch 83/100\n",
      "\u001b[1m46/82\u001b[0m \u001b[32m━━━━━━━━━━━\u001b[0m\u001b[37m━━━━━━━━━\u001b[0m \u001b[1m0s\u001b[0m 1ms/step - accuracy: 0.9562 - loss: 0.3041 Epoch 083 | loss=0.3123, acc=0.9550 | val_loss=0.4092, val_acc=0.9416 | 0.13s\n",
      "\u001b[1m82/82\u001b[0m \u001b[32m━━━━━━━━━━━━━━━━━━━━\u001b[0m\u001b[37m\u001b[0m \u001b[1m0s\u001b[0m 2ms/step - accuracy: 0.9564 - loss: 0.3058 - val_accuracy: 0.9416 - val_loss: 0.4092 - learning_rate: 1.0000e-04\n",
      "Epoch 84/100\n",
      "\u001b[1m49/82\u001b[0m \u001b[32m━━━━━━━━━━━\u001b[0m\u001b[37m━━━━━━━━━\u001b[0m \u001b[1m0s\u001b[0m 1ms/step - accuracy: 0.9545 - loss: 0.3135 Epoch 084 | loss=0.3187, acc=0.9485 | val_loss=0.4077, val_acc=0.9416 | 0.13s\n",
      "\u001b[1m82/82\u001b[0m \u001b[32m━━━━━━━━━━━━━━━━━━━━\u001b[0m\u001b[37m\u001b[0m \u001b[1m0s\u001b[0m 2ms/step - accuracy: 0.9544 - loss: 0.3132 - val_accuracy: 0.9416 - val_loss: 0.4077 - learning_rate: 1.0000e-04\n",
      "Epoch 85/100\n",
      "\u001b[1m48/82\u001b[0m \u001b[32m━━━━━━━━━━━\u001b[0m\u001b[37m━━━━━━━━━\u001b[0m \u001b[1m0s\u001b[0m 1ms/step - accuracy: 0.9529 - loss: 0.3140 Epoch 085 | loss=0.3167, acc=0.9562 | val_loss=0.4069, val_acc=0.9432 | 0.13s\n",
      "\u001b[1m82/82\u001b[0m \u001b[32m━━━━━━━━━━━━━━━━━━━━\u001b[0m\u001b[37m\u001b[0m \u001b[1m0s\u001b[0m 1ms/step - accuracy: 0.9536 - loss: 0.3154 - val_accuracy: 0.9432 - val_loss: 0.4069 - learning_rate: 1.0000e-04\n",
      "Epoch 86/100\n",
      "\u001b[1m49/82\u001b[0m \u001b[32m━━━━━━━━━━━\u001b[0m\u001b[37m━━━━━━━━━\u001b[0m \u001b[1m0s\u001b[0m 1ms/step - accuracy: 0.9457 - loss: 0.3151 Epoch 086 | loss=0.3084, acc=0.9488 | val_loss=0.4067, val_acc=0.9416 | 0.14s\n",
      "\u001b[1m82/82\u001b[0m \u001b[32m━━━━━━━━━━━━━━━━━━━━\u001b[0m\u001b[37m\u001b[0m \u001b[1m0s\u001b[0m 2ms/step - accuracy: 0.9467 - loss: 0.3131 - val_accuracy: 0.9416 - val_loss: 0.4067 - learning_rate: 1.0000e-04\n",
      "Epoch 87/100\n",
      "\u001b[1m41/82\u001b[0m \u001b[32m━━━━━━━━━━\u001b[0m\u001b[37m━━━━━━━━━━\u001b[0m \u001b[1m0s\u001b[0m 1ms/step - accuracy: 0.9595 - loss: 0.3042 Epoch 087 | loss=0.3019, acc=0.9573 | val_loss=0.4071, val_acc=0.9462 | 0.14s\n",
      "\u001b[1m82/82\u001b[0m \u001b[32m━━━━━━━━━━━━━━━━━━━━\u001b[0m\u001b[37m\u001b[0m \u001b[1m0s\u001b[0m 2ms/step - accuracy: 0.9585 - loss: 0.3034 - val_accuracy: 0.9462 - val_loss: 0.4071 - learning_rate: 1.0000e-04\n",
      "Epoch 88/100\n",
      "\u001b[1m49/82\u001b[0m \u001b[32m━━━━━━━━━━━\u001b[0m\u001b[37m━━━━━━━━━\u001b[0m \u001b[1m0s\u001b[0m 1ms/step - accuracy: 0.9551 - loss: 0.3003 Epoch 088 | loss=0.3090, acc=0.9523 | val_loss=0.4070, val_acc=0.9462 | 0.13s\n",
      "\u001b[1m82/82\u001b[0m \u001b[32m━━━━━━━━━━━━━━━━━━━━\u001b[0m\u001b[37m\u001b[0m \u001b[1m0s\u001b[0m 1ms/step - accuracy: 0.9533 - loss: 0.3049 - val_accuracy: 0.9462 - val_loss: 0.4070 - learning_rate: 1.0000e-04\n",
      "Epoch 89/100\n",
      "\u001b[1m47/82\u001b[0m \u001b[32m━━━━━━━━━━━\u001b[0m\u001b[37m━━━━━━━━━\u001b[0m \u001b[1m0s\u001b[0m 1ms/step - accuracy: 0.9682 - loss: 0.2875 Epoch 089 | loss=0.3059, acc=0.9554 | val_loss=0.4040, val_acc=0.9462 | 0.13s\n",
      "\u001b[1m82/82\u001b[0m \u001b[32m━━━━━━━━━━━━━━━━━━━━\u001b[0m\u001b[37m\u001b[0m \u001b[1m0s\u001b[0m 2ms/step - accuracy: 0.9642 - loss: 0.2940 - val_accuracy: 0.9462 - val_loss: 0.4040 - learning_rate: 1.0000e-04\n",
      "Epoch 90/100\n",
      "\u001b[1m47/82\u001b[0m \u001b[32m━━━━━━━━━━━\u001b[0m\u001b[37m━━━━━━━━━\u001b[0m \u001b[1m0s\u001b[0m 1ms/step - accuracy: 0.9584 - loss: 0.3044 Epoch 090 | loss=0.3023, acc=0.9538 | val_loss=0.4050, val_acc=0.9447 | 0.13s\n",
      "\u001b[1m82/82\u001b[0m \u001b[32m━━━━━━━━━━━━━━━━━━━━\u001b[0m\u001b[37m\u001b[0m \u001b[1m0s\u001b[0m 2ms/step - accuracy: 0.9576 - loss: 0.3012 - val_accuracy: 0.9447 - val_loss: 0.4050 - learning_rate: 1.0000e-04\n",
      "Epoch 91/100\n",
      "\u001b[1m43/82\u001b[0m \u001b[32m━━━━━━━━━━\u001b[0m\u001b[37m━━━━━━━━━━\u001b[0m \u001b[1m0s\u001b[0m 1ms/step - accuracy: 0.9554 - loss: 0.3045 Epoch 091 | loss=0.3020, acc=0.9562 | val_loss=0.4056, val_acc=0.9447 | 0.14s\n",
      "\u001b[1m82/82\u001b[0m \u001b[32m━━━━━━━━━━━━━━━━━━━━\u001b[0m\u001b[37m\u001b[0m \u001b[1m0s\u001b[0m 2ms/step - accuracy: 0.9568 - loss: 0.3005 - val_accuracy: 0.9447 - val_loss: 0.4056 - learning_rate: 1.0000e-04\n",
      "Epoch 92/100\n",
      "\u001b[1m47/82\u001b[0m \u001b[32m━━━━━━━━━━━\u001b[0m\u001b[37m━━━━━━━━━\u001b[0m \u001b[1m0s\u001b[0m 1ms/step - accuracy: 0.9545 - loss: 0.3037 Epoch 092 | loss=0.3005, acc=0.9542 | val_loss=0.4047, val_acc=0.9447 | 0.14s\n",
      "\u001b[1m82/82\u001b[0m \u001b[32m━━━━━━━━━━━━━━━━━━━━\u001b[0m\u001b[37m\u001b[0m \u001b[1m0s\u001b[0m 2ms/step - accuracy: 0.9544 - loss: 0.3035 - val_accuracy: 0.9447 - val_loss: 0.4047 - learning_rate: 1.0000e-04\n",
      "Epoch 93/100\n",
      "\u001b[1m46/82\u001b[0m \u001b[32m━━━━━━━━━━━\u001b[0m\u001b[37m━━━━━━━━━\u001b[0m \u001b[1m0s\u001b[0m 1ms/step - accuracy: 0.9563 - loss: 0.2951 Epoch 093 | loss=0.2985, acc=0.9550 | val_loss=0.4059, val_acc=0.9432 | 0.13s\n",
      "\u001b[1m82/82\u001b[0m \u001b[32m━━━━━━━━━━━━━━━━━━━━\u001b[0m\u001b[37m\u001b[0m \u001b[1m0s\u001b[0m 2ms/step - accuracy: 0.9548 - loss: 0.2986 - val_accuracy: 0.9432 - val_loss: 0.4059 - learning_rate: 1.0000e-04\n",
      "Epoch 94/100\n",
      "\u001b[1m50/82\u001b[0m \u001b[32m━━━━━━━━━━━━\u001b[0m\u001b[37m━━━━━━━━\u001b[0m \u001b[1m0s\u001b[0m 1ms/step - accuracy: 0.9637 - loss: 0.2758 Epoch 094 | loss=0.2853, acc=0.9588 | val_loss=0.4056, val_acc=0.9416 | 0.13s\n",
      "\u001b[1m82/82\u001b[0m \u001b[32m━━━━━━━━━━━━━━━━━━━━\u001b[0m\u001b[37m\u001b[0m \u001b[1m0s\u001b[0m 1ms/step - accuracy: 0.9623 - loss: 0.2783 - val_accuracy: 0.9416 - val_loss: 0.4056 - learning_rate: 1.0000e-04\n",
      "Epoch 95/100\n",
      "\u001b[1m50/82\u001b[0m \u001b[32m━━━━━━━━━━━━\u001b[0m\u001b[37m━━━━━━━━\u001b[0m \u001b[1m0s\u001b[0m 1ms/step - accuracy: 0.9664 - loss: 0.2810 Epoch 095 | loss=0.2969, acc=0.9592 | val_loss=0.4048, val_acc=0.9432 | 0.13s\n",
      "\u001b[1m82/82\u001b[0m \u001b[32m━━━━━━━━━━━━━━━━━━━━\u001b[0m\u001b[37m\u001b[0m \u001b[1m0s\u001b[0m 1ms/step - accuracy: 0.9638 - loss: 0.2856 - val_accuracy: 0.9432 - val_loss: 0.4048 - learning_rate: 5.0000e-05\n",
      "Epoch 96/100\n",
      "\u001b[1m50/82\u001b[0m \u001b[32m━━━━━━━━━━━━\u001b[0m\u001b[37m━━━━━━━━\u001b[0m \u001b[1m0s\u001b[0m 1ms/step - accuracy: 0.9613 - loss: 0.2811 Epoch 096 | loss=0.2893, acc=0.9550 | val_loss=0.4059, val_acc=0.9432 | 0.13s\n",
      "\u001b[1m82/82\u001b[0m \u001b[32m━━━━━━━━━━━━━━━━━━━━\u001b[0m\u001b[37m\u001b[0m \u001b[1m0s\u001b[0m 1ms/step - accuracy: 0.9600 - loss: 0.2820 - val_accuracy: 0.9432 - val_loss: 0.4059 - learning_rate: 5.0000e-05\n",
      "Epoch 97/100\n",
      "\u001b[1m48/82\u001b[0m \u001b[32m━━━━━━━━━━━\u001b[0m\u001b[37m━━━━━━━━━\u001b[0m \u001b[1m0s\u001b[0m 1ms/step - accuracy: 0.9613 - loss: 0.2860 Epoch 097 | loss=0.2811, acc=0.9612 | val_loss=0.4061, val_acc=0.9401 | 0.13s\n",
      "\u001b[1m82/82\u001b[0m \u001b[32m━━━━━━━━━━━━━━━━━━━━\u001b[0m\u001b[37m\u001b[0m \u001b[1m0s\u001b[0m 1ms/step - accuracy: 0.9613 - loss: 0.2841 - val_accuracy: 0.9401 - val_loss: 0.4061 - learning_rate: 5.0000e-05\n",
      "Epoch 98/100\n",
      "\u001b[1m49/82\u001b[0m \u001b[32m━━━━━━━━━━━\u001b[0m\u001b[37m━━━━━━━━━\u001b[0m \u001b[1m0s\u001b[0m 1ms/step - accuracy: 0.9580 - loss: 0.2781 Epoch 098 | loss=0.2873, acc=0.9573 | val_loss=0.4068, val_acc=0.9432 | 0.13s\n",
      "\u001b[1m82/82\u001b[0m \u001b[32m━━━━━━━━━━━━━━━━━━━━\u001b[0m\u001b[37m\u001b[0m \u001b[1m0s\u001b[0m 1ms/step - accuracy: 0.9577 - loss: 0.2813 - val_accuracy: 0.9432 - val_loss: 0.4068 - learning_rate: 5.0000e-05\n",
      "Epoch 99/100\n",
      "\u001b[1m49/82\u001b[0m \u001b[32m━━━━━━━━━━━\u001b[0m\u001b[37m━━━━━━━━━\u001b[0m \u001b[1m0s\u001b[0m 1ms/step - accuracy: 0.9546 - loss: 0.2958 Epoch 099 | loss=0.2855, acc=0.9573 | val_loss=0.4078, val_acc=0.9416 | 0.13s\n",
      "\u001b[1m82/82\u001b[0m \u001b[32m━━━━━━━━━━━━━━━━━━━━\u001b[0m\u001b[37m\u001b[0m \u001b[1m0s\u001b[0m 1ms/step - accuracy: 0.9555 - loss: 0.2915 - val_accuracy: 0.9416 - val_loss: 0.4078 - learning_rate: 5.0000e-05\n"
     ]
    },
    {
     "data": {
      "image/png": "[encoded data removed]",
      "text/plain": [
       "<Figure size 800x400 with 1 Axes>"
      ]
     },
     "metadata": {},
     "output_type": "display_data"
    },
    {
     "name": "stdout",
     "output_type": "stream",
     "text": [
      "\u001b[1m21/21\u001b[0m \u001b[32m━━━━━━━━━━━━━━━━━━━━\u001b[0m\u001b[37m\u001b[0m \u001b[1m0s\u001b[0m 4ms/step\n",
      "🔍 Sample Predictions (%):\n",
      "[[ 0.28]\n",
      " [16.64]\n",
      " [ 0.55]\n",
      " [ 2.44]\n",
      " [ 2.15]\n",
      " [ 0.6 ]\n",
      " [10.82]\n",
      " [ 1.2 ]\n",
      " [ 0.19]\n",
      " [13.87]]\n"
     ]
    }
   ],
   "source": [
    "rs = 42\n",
    "\n",
    "# Load merged clinical dataset\n",
    "clinical_path = \"/Users/mohammedbasem/Desktop/T2D-Prediction-System--Data-Fusion-for-Enhanced-Decision-Making/processed_datasets/clinical/merged_clinical_full.csv\"\n",
    "merged_clinical_df = pd.read_csv(clinical_path)\n",
    "merged_clinical_df.columns = merged_clinical_df.columns.str.strip().str.lower()\n",
    "\n",
    "X_merged_clinical = merged_clinical_df.drop(columns=[\"t2d\"])\n",
    "y_merged_clinical = merged_clinical_df[\"t2d\"]\n",
    "\n",
    "# Load and clean genetic dataset\n",
    "merged_genetic_df = pd.concat([inter_genetic, normal_genetic], ignore_index=True)\n",
    "merged_genetic_df.columns = merged_genetic_df.columns.str.strip().str.lower()\n",
    "\n",
    "if \"t2d\" not in merged_genetic_df.columns:\n",
    "    raise ValueError(\"❌ 't2d' column not found in genetic data.\")\n",
    "\n",
    "# Drop non-numeric columns\n",
    "non_numeric_cols = merged_genetic_df.drop(columns=[\"t2d\"]).select_dtypes(exclude=[\"number\"]).columns.tolist()\n",
    "print(\"🚫 Dropping non-numeric columns in genetic data:\", non_numeric_cols)\n",
    "genetic_numeric_df = merged_genetic_df.drop(columns=non_numeric_cols)\n",
    "\n",
    "# Drop columns with >50% NaNs\n",
    "threshold = 0.5\n",
    "na_ratio = genetic_numeric_df.isna().mean()\n",
    "cols_to_drop = na_ratio[na_ratio > threshold].index.tolist()\n",
    "genetic_numeric_df.drop(columns=cols_to_drop, inplace=True)\n",
    "print(f\"📉 Dropped columns with >50% NaNs: {cols_to_drop}\")\n",
    "\n",
    "# Fill remaining NaNs with median\n",
    "X_genetic = genetic_numeric_df.drop(columns=[\"t2d\"]).fillna(genetic_numeric_df.median(numeric_only=True))\n",
    "y_genetic = genetic_numeric_df[\"t2d\"].loc[X_genetic.index].reset_index(drop=True)\n",
    "X_genetic = X_genetic.reset_index(drop=True)\n",
    "\n",
    "print(f\"✅ Final cleaned genetic dataset: {X_genetic.shape[0]} samples, {X_genetic.shape[1]} features\")\n",
    "\n",
    "# Train-test split for clinical and genetic data\n",
    "X_train_merged_clinical, X_test_merged_clinical, y_train_clinical, y_test_clinical = train_test_split(\n",
    "    X_merged_clinical, y_merged_clinical, test_size=0.2, stratify=y_merged_clinical, random_state=rs\n",
    ")\n",
    "\n",
    "X_train_genetic, X_test_genetic, y_train_genetic, y_test_genetic = train_test_split(\n",
    "    X_genetic, y_genetic, test_size=0.2, stratify=y_genetic, random_state=rs\n",
    ")\n",
    "\n",
    "# Scale features\n",
    "scaler_clinical = StandardScaler()\n",
    "X_train_merged_clinical_sc = scaler_clinical.fit_transform(X_train_merged_clinical)\n",
    "X_test_merged_clinical_sc = scaler_clinical.transform(X_test_merged_clinical)\n",
    "\n",
    "scaler_genetic = StandardScaler()\n",
    "X_train_genetic_sc = scaler_genetic.fit_transform(X_train_genetic)\n",
    "X_test_genetic_sc = scaler_genetic.transform(X_test_genetic)\n",
    "\n",
    "# SMOTE on clinical data\n",
    "sm = SMOTE(random_state=rs)\n",
    "X_train_merged_clinical_sc, y_train_clinical = sm.fit_resample(X_train_merged_clinical_sc, y_train_clinical)\n",
    "\n",
    "# Align training sizes\n",
    "min_len = min(len(X_train_merged_clinical_sc), len(X_train_genetic_sc))\n",
    "X_train_merged_clinical_sc = X_train_merged_clinical_sc[:min_len]\n",
    "X_train_genetic_sc = X_train_genetic_sc[:min_len]\n",
    "y_train = y_train_clinical[:min_len]\n",
    "print(f\"✅ Matching training input sizes: {min_len} samples\")\n",
    "\n",
    "# Align test sizes\n",
    "min_test_len = min(len(X_test_merged_clinical_sc), len(X_test_genetic_sc))\n",
    "X_test_merged_clinical_sc = X_test_merged_clinical_sc[:min_test_len]\n",
    "X_test_genetic_sc = X_test_genetic_sc[:min_test_len]\n",
    "y_test = y_test_clinical[:min_test_len]\n",
    "print(f\"✅ Matching test input sizes: {min_test_len} samples\")\n",
    "\n",
    "X_tr_inputs = [X_train_merged_clinical_sc, X_train_genetic_sc]\n",
    "X_te_inputs = [X_test_merged_clinical_sc, X_test_genetic_sc]\n",
    "\n",
    "# Build the fusion model with SE attention\n",
    "def build_branch(input_dim, l2_reg=1e-3):\n",
    "    inp = Input(shape=(input_dim,))\n",
    "    x = Dense(64, activation=\"relu\", kernel_regularizer=l2(l2_reg))(inp)\n",
    "    x = BatchNormalization()(x)\n",
    "    x = Dense(32, activation=\"relu\", kernel_regularizer=l2(l2_reg))(x)\n",
    "    proj = Dense(32, kernel_regularizer=l2(l2_reg))(inp)\n",
    "    x = Add()([x, proj])\n",
    "    x = BatchNormalization()(x)\n",
    "    return inp, x\n",
    "\n",
    "branches = [build_branch(X_train_merged_clinical_sc.shape[1]), build_branch(X_train_genetic_sc.shape[1])]\n",
    "inputs, feats = zip(*branches)\n",
    "\n",
    "merged = Concatenate()(feats)\n",
    "se = Dense(merged.shape[-1] // 16, activation=\"relu\")(merged)\n",
    "se = Dense(merged.shape[-1], activation=\"sigmoid\")(se)\n",
    "x = Multiply()([merged, se])\n",
    "x = Dense(128, activation=\"relu\", kernel_regularizer=l2(1e-3))(x)\n",
    "x = Dropout(0.5)(x)\n",
    "x = Dense(64, activation=\"relu\", kernel_regularizer=l2(1e-3))(x)\n",
    "x = Dropout(0.5)(x)\n",
    "out = Dense(1, activation=\"sigmoid\")(x)\n",
    "\n",
    "model = Model(inputs=list(inputs), outputs=out)\n",
    "model.compile(optimizer=Adam(learning_rate=1e-4, clipnorm=1.0), loss=\"binary_crossentropy\", metrics=[\"accuracy\"])\n",
    "\n",
    "# Training with callbacks\n",
    "class TimeLogger(tf.keras.callbacks.Callback):\n",
    "    def on_epoch_begin(self, epoch, logs=None):\n",
    "        self._start = time.time()\n",
    "    def on_epoch_end(self, epoch, logs=None):\n",
    "        dt = time.time() - self._start\n",
    "        print(f\"Epoch {epoch+1:03d} | loss={logs['loss']:.4f}, acc={logs['accuracy']:.4f} | val_loss={logs['val_loss']:.4f}, val_acc={logs['val_accuracy']:.4f} | {dt:.2f}s\")\n",
    "\n",
    "callbacks = [\n",
    "    EarlyStopping(monitor=\"val_loss\", patience=10, restore_best_weights=True),\n",
    "    ReduceLROnPlateau(monitor=\"val_loss\", factor=0.5, patience=5, min_lr=1e-6),\n",
    "    TimeLogger()\n",
    "]\n",
    "\n",
    "history = model.fit(\n",
    "    X_tr_inputs, y_train,\n",
    "    validation_data=(X_te_inputs, y_test),\n",
    "    epochs=100,\n",
    "    batch_size=32,\n",
    "    callbacks=callbacks\n",
    ")\n",
    "\n",
    "# Plot training and validation accuracy\n",
    "train_final = history.history[\"accuracy\"][-1]\n",
    "val_final = history.history[\"val_accuracy\"][-1]\n",
    "\n",
    "plt.figure(figsize=(8,4))\n",
    "plt.plot(history.history[\"accuracy\"], label=\"Train Acc\")\n",
    "plt.plot(history.history[\"val_accuracy\"], label=\"Val Acc\")\n",
    "plt.text(0.95, 0.05, f\"Final Train: {train_final:.2f}\\nFinal Val:   {val_final:.2f}\",\n",
    "         transform=plt.gca().transAxes, ha=\"right\", va=\"bottom\",\n",
    "         bbox=dict(boxstyle=\"round,pad=0.3\", alpha=0.3))\n",
    "plt.title(\"Fusion Model Accuracy\")\n",
    "plt.xlabel(\"Epoch\")\n",
    "plt.ylabel(\"Accuracy\")\n",
    "plt.legend()\n",
    "plt.grid(True)\n",
    "plt.tight_layout()\n",
    "plt.show()\n",
    "\n",
    "# Predict as percentage\n",
    "preds = model.predict(X_te_inputs)\n",
    "preds_percent = preds * 100\n",
    "print(\"🔍 Sample Predictions (%):\")\n",
    "print(np.round(preds_percent[:10], 2))"
   ]
  },
  {
   "cell_type": "markdown",
   "metadata": {},
   "source": [
    "# Third Neural Network Model (Fusion Model)"
   ]
  },
  {
   "cell_type": "markdown",
   "metadata": {},
   "source": [
    "Permutation importance for fusion model features"
   ]
  },
  {
   "cell_type": "code",
   "execution_count": 69,
   "metadata": {},
   "outputs": [
    {
     "name": "stdout",
     "output_type": "stream",
     "text": [
      "\u001b[1m21/21\u001b[0m \u001b[32m━━━━━━━━━━━━━━━━━━━━\u001b[0m\u001b[37m\u001b[0m \u001b[1m0s\u001b[0m 791us/step\n",
      "\u001b[1m21/21\u001b[0m \u001b[32m━━━━━━━━━━━━━━━━━━━━\u001b[0m\u001b[37m\u001b[0m \u001b[1m0s\u001b[0m 764us/step\n",
      "\u001b[1m21/21\u001b[0m \u001b[32m━━━━━━━━━━━━━━━━━━━━\u001b[0m\u001b[37m\u001b[0m \u001b[1m0s\u001b[0m 761us/step\n",
      "\u001b[1m21/21\u001b[0m \u001b[32m━━━━━━━━━━━━━━━━━━━━\u001b[0m\u001b[37m\u001b[0m \u001b[1m0s\u001b[0m 798us/step\n",
      "\u001b[1m21/21\u001b[0m \u001b[32m━━━━━━━━━━━━━━━━━━━━\u001b[0m\u001b[37m\u001b[0m \u001b[1m0s\u001b[0m 706us/step\n",
      "\u001b[1m21/21\u001b[0m \u001b[32m━━━━━━━━━━━━━━━━━━━━\u001b[0m\u001b[37m\u001b[0m \u001b[1m0s\u001b[0m 770us/step\n",
      "\u001b[1m21/21\u001b[0m \u001b[32m━━━━━━━━━━━━━━━━━━━━\u001b[0m\u001b[37m\u001b[0m \u001b[1m0s\u001b[0m 737us/step\n",
      "\u001b[1m21/21\u001b[0m \u001b[32m━━━━━━━━━━━━━━━━━━━━\u001b[0m\u001b[37m\u001b[0m \u001b[1m0s\u001b[0m 765us/step\n",
      "\u001b[1m21/21\u001b[0m \u001b[32m━━━━━━━━━━━━━━━━━━━━\u001b[0m\u001b[37m\u001b[0m \u001b[1m0s\u001b[0m 723us/step\n",
      "\u001b[1m21/21\u001b[0m \u001b[32m━━━━━━━━━━━━━━━━━━━━\u001b[0m\u001b[37m\u001b[0m \u001b[1m0s\u001b[0m 764us/step\n",
      "\u001b[1m21/21\u001b[0m \u001b[32m━━━━━━━━━━━━━━━━━━━━\u001b[0m\u001b[37m\u001b[0m \u001b[1m0s\u001b[0m 785us/step\n",
      "\u001b[1m21/21\u001b[0m \u001b[32m━━━━━━━━━━━━━━━━━━━━\u001b[0m\u001b[37m\u001b[0m \u001b[1m0s\u001b[0m 759us/step\n",
      "\u001b[1m21/21\u001b[0m \u001b[32m━━━━━━━━━━━━━━━━━━━━\u001b[0m\u001b[37m\u001b[0m \u001b[1m0s\u001b[0m 757us/step\n",
      "\u001b[1m21/21\u001b[0m \u001b[32m━━━━━━━━━━━━━━━━━━━━\u001b[0m\u001b[37m\u001b[0m \u001b[1m0s\u001b[0m 735us/step\n",
      "\u001b[1m21/21\u001b[0m \u001b[32m━━━━━━━━━━━━━━━━━━━━\u001b[0m\u001b[37m\u001b[0m \u001b[1m0s\u001b[0m 734us/step\n",
      "\u001b[1m21/21\u001b[0m \u001b[32m━━━━━━━━━━━━━━━━━━━━\u001b[0m\u001b[37m\u001b[0m \u001b[1m0s\u001b[0m 791us/step\n",
      "\u001b[1m21/21\u001b[0m \u001b[32m━━━━━━━━━━━━━━━━━━━━\u001b[0m\u001b[37m\u001b[0m \u001b[1m0s\u001b[0m 791us/step\n",
      "\u001b[1m21/21\u001b[0m \u001b[32m━━━━━━━━━━━━━━━━━━━━\u001b[0m\u001b[37m\u001b[0m \u001b[1m0s\u001b[0m 1ms/step\n",
      "\u001b[1m21/21\u001b[0m \u001b[32m━━━━━━━━━━━━━━━━━━━━\u001b[0m\u001b[37m\u001b[0m \u001b[1m0s\u001b[0m 731us/step\n",
      "\u001b[1m21/21\u001b[0m \u001b[32m━━━━━━━━━━━━━━━━━━━━\u001b[0m\u001b[37m\u001b[0m \u001b[1m0s\u001b[0m 697us/step\n",
      "\u001b[1m21/21\u001b[0m \u001b[32m━━━━━━━━━━━━━━━━━━━━\u001b[0m\u001b[37m\u001b[0m \u001b[1m0s\u001b[0m 759us/step\n",
      "\u001b[1m21/21\u001b[0m \u001b[32m━━━━━━━━━━━━━━━━━━━━\u001b[0m\u001b[37m\u001b[0m \u001b[1m0s\u001b[0m 730us/step\n",
      "\u001b[1m21/21\u001b[0m \u001b[32m━━━━━━━━━━━━━━━━━━━━\u001b[0m\u001b[37m\u001b[0m \u001b[1m0s\u001b[0m 776us/step\n",
      "\u001b[1m21/21\u001b[0m \u001b[32m━━━━━━━━━━━━━━━━━━━━\u001b[0m\u001b[37m\u001b[0m \u001b[1m0s\u001b[0m 727us/step\n",
      "\u001b[1m21/21\u001b[0m \u001b[32m━━━━━━━━━━━━━━━━━━━━\u001b[0m\u001b[37m\u001b[0m \u001b[1m0s\u001b[0m 718us/step\n",
      "\u001b[1m21/21\u001b[0m \u001b[32m━━━━━━━━━━━━━━━━━━━━\u001b[0m\u001b[37m\u001b[0m \u001b[1m0s\u001b[0m 713us/step\n",
      "\u001b[1m21/21\u001b[0m \u001b[32m━━━━━━━━━━━━━━━━━━━━\u001b[0m\u001b[37m\u001b[0m \u001b[1m0s\u001b[0m 697us/step\n",
      "\u001b[1m21/21\u001b[0m \u001b[32m━━━━━━━━━━━━━━━━━━━━\u001b[0m\u001b[37m\u001b[0m \u001b[1m0s\u001b[0m 747us/step\n",
      "\u001b[1m21/21\u001b[0m \u001b[32m━━━━━━━━━━━━━━━━━━━━\u001b[0m\u001b[37m\u001b[0m \u001b[1m0s\u001b[0m 731us/step\n",
      "\u001b[1m21/21\u001b[0m \u001b[32m━━━━━━━━━━━━━━━━━━━━\u001b[0m\u001b[37m\u001b[0m \u001b[1m0s\u001b[0m 710us/step\n",
      "\u001b[1m21/21\u001b[0m \u001b[32m━━━━━━━━━━━━━━━━━━━━\u001b[0m\u001b[37m\u001b[0m \u001b[1m0s\u001b[0m 716us/step\n",
      "\u001b[1m21/21\u001b[0m \u001b[32m━━━━━━━━━━━━━━━━━━━━\u001b[0m\u001b[37m\u001b[0m \u001b[1m0s\u001b[0m 707us/step\n",
      "\u001b[1m21/21\u001b[0m \u001b[32m━━━━━━━━━━━━━━━━━━━━\u001b[0m\u001b[37m\u001b[0m \u001b[1m0s\u001b[0m 727us/step\n",
      "\u001b[1m21/21\u001b[0m \u001b[32m━━━━━━━━━━━━━━━━━━━━\u001b[0m\u001b[37m\u001b[0m \u001b[1m0s\u001b[0m 705us/step\n",
      "\u001b[1m21/21\u001b[0m \u001b[32m━━━━━━━━━━━━━━━━━━━━\u001b[0m\u001b[37m\u001b[0m \u001b[1m0s\u001b[0m 728us/step\n",
      "\u001b[1m21/21\u001b[0m \u001b[32m━━━━━━━━━━━━━━━━━━━━\u001b[0m\u001b[37m\u001b[0m \u001b[1m0s\u001b[0m 712us/step\n",
      "\u001b[1m21/21\u001b[0m \u001b[32m━━━━━━━━━━━━━━━━━━━━\u001b[0m\u001b[37m\u001b[0m \u001b[1m0s\u001b[0m 783us/step\n",
      "\u001b[1m21/21\u001b[0m \u001b[32m━━━━━━━━━━━━━━━━━━━━\u001b[0m\u001b[37m\u001b[0m \u001b[1m0s\u001b[0m 788us/step\n",
      "\u001b[1m21/21\u001b[0m \u001b[32m━━━━━━━━━━━━━━━━━━━━\u001b[0m\u001b[37m\u001b[0m \u001b[1m0s\u001b[0m 757us/step\n",
      "\u001b[1m21/21\u001b[0m \u001b[32m━━━━━━━━━━━━━━━━━━━━\u001b[0m\u001b[37m\u001b[0m \u001b[1m0s\u001b[0m 738us/step\n",
      "\u001b[1m21/21\u001b[0m \u001b[32m━━━━━━━━━━━━━━━━━━━━\u001b[0m\u001b[37m\u001b[0m \u001b[1m0s\u001b[0m 740us/step\n",
      "\u001b[1m21/21\u001b[0m \u001b[32m━━━━━━━━━━━━━━━━━━━━\u001b[0m\u001b[37m\u001b[0m \u001b[1m0s\u001b[0m 719us/step\n",
      "\u001b[1m21/21\u001b[0m \u001b[32m━━━━━━━━━━━━━━━━━━━━\u001b[0m\u001b[37m\u001b[0m \u001b[1m0s\u001b[0m 742us/step\n",
      "\u001b[1m21/21\u001b[0m \u001b[32m━━━━━━━━━━━━━━━━━━━━\u001b[0m\u001b[37m\u001b[0m \u001b[1m0s\u001b[0m 737us/step\n",
      "\u001b[1m21/21\u001b[0m \u001b[32m━━━━━━━━━━━━━━━━━━━━\u001b[0m\u001b[37m\u001b[0m \u001b[1m0s\u001b[0m 727us/step\n",
      "\u001b[1m21/21\u001b[0m \u001b[32m━━━━━━━━━━━━━━━━━━━━\u001b[0m\u001b[37m\u001b[0m \u001b[1m0s\u001b[0m 720us/step\n",
      "\u001b[1m21/21\u001b[0m \u001b[32m━━━━━━━━━━━━━━━━━━━━\u001b[0m\u001b[37m\u001b[0m \u001b[1m0s\u001b[0m 717us/step\n",
      "\u001b[1m21/21\u001b[0m \u001b[32m━━━━━━━━━━━━━━━━━━━━\u001b[0m\u001b[37m\u001b[0m \u001b[1m0s\u001b[0m 711us/step\n",
      "\u001b[1m21/21\u001b[0m \u001b[32m━━━━━━━━━━━━━━━━━━━━\u001b[0m\u001b[37m\u001b[0m \u001b[1m0s\u001b[0m 741us/step\n",
      "\u001b[1m21/21\u001b[0m \u001b[32m━━━━━━━━━━━━━━━━━━━━\u001b[0m\u001b[37m\u001b[0m \u001b[1m0s\u001b[0m 769us/step\n",
      "\u001b[1m21/21\u001b[0m \u001b[32m━━━━━━━━━━━━━━━━━━━━\u001b[0m\u001b[37m\u001b[0m \u001b[1m0s\u001b[0m 740us/step\n",
      "\u001b[1m21/21\u001b[0m \u001b[32m━━━━━━━━━━━━━━━━━━━━\u001b[0m\u001b[37m\u001b[0m \u001b[1m0s\u001b[0m 764us/step\n",
      "\u001b[1m21/21\u001b[0m \u001b[32m━━━━━━━━━━━━━━━━━━━━\u001b[0m\u001b[37m\u001b[0m \u001b[1m0s\u001b[0m 726us/step\n",
      "\u001b[1m21/21\u001b[0m \u001b[32m━━━━━━━━━━━━━━━━━━━━\u001b[0m\u001b[37m\u001b[0m \u001b[1m0s\u001b[0m 729us/step\n",
      "\u001b[1m21/21\u001b[0m \u001b[32m━━━━━━━━━━━━━━━━━━━━\u001b[0m\u001b[37m\u001b[0m \u001b[1m0s\u001b[0m 718us/step\n",
      "\u001b[1m21/21\u001b[0m \u001b[32m━━━━━━━━━━━━━━━━━━━━\u001b[0m\u001b[37m\u001b[0m \u001b[1m0s\u001b[0m 723us/step\n",
      "\u001b[1m21/21\u001b[0m \u001b[32m━━━━━━━━━━━━━━━━━━━━\u001b[0m\u001b[37m\u001b[0m \u001b[1m0s\u001b[0m 709us/step\n",
      "\u001b[1m21/21\u001b[0m \u001b[32m━━━━━━━━━━━━━━━━━━━━\u001b[0m\u001b[37m\u001b[0m \u001b[1m0s\u001b[0m 707us/step\n",
      "\u001b[1m21/21\u001b[0m \u001b[32m━━━━━━━━━━━━━━━━━━━━\u001b[0m\u001b[37m\u001b[0m \u001b[1m0s\u001b[0m 708us/step\n",
      "\u001b[1m21/21\u001b[0m \u001b[32m━━━━━━━━━━━━━━━━━━━━\u001b[0m\u001b[37m\u001b[0m \u001b[1m0s\u001b[0m 763us/step\n",
      "\u001b[1m21/21\u001b[0m \u001b[32m━━━━━━━━━━━━━━━━━━━━\u001b[0m\u001b[37m\u001b[0m \u001b[1m0s\u001b[0m 709us/step\n",
      "\u001b[1m21/21\u001b[0m \u001b[32m━━━━━━━━━━━━━━━━━━━━\u001b[0m\u001b[37m\u001b[0m \u001b[1m0s\u001b[0m 701us/step\n",
      "\u001b[1m21/21\u001b[0m \u001b[32m━━━━━━━━━━━━━━━━━━━━\u001b[0m\u001b[37m\u001b[0m \u001b[1m0s\u001b[0m 717us/step\n",
      "\u001b[1m21/21\u001b[0m \u001b[32m━━━━━━━━━━━━━━━━━━━━\u001b[0m\u001b[37m\u001b[0m \u001b[1m0s\u001b[0m 748us/step\n",
      "\u001b[1m21/21\u001b[0m \u001b[32m━━━━━━━━━━━━━━━━━━━━\u001b[0m\u001b[37m\u001b[0m \u001b[1m0s\u001b[0m 744us/step\n",
      "\u001b[1m21/21\u001b[0m \u001b[32m━━━━━━━━━━━━━━━━━━━━\u001b[0m\u001b[37m\u001b[0m \u001b[1m0s\u001b[0m 723us/step\n",
      "\u001b[1m21/21\u001b[0m \u001b[32m━━━━━━━━━━━━━━━━━━━━\u001b[0m\u001b[37m\u001b[0m \u001b[1m0s\u001b[0m 708us/step\n",
      "\u001b[1m21/21\u001b[0m \u001b[32m━━━━━━━━━━━━━━━━━━━━\u001b[0m\u001b[37m\u001b[0m \u001b[1m0s\u001b[0m 739us/step\n",
      "\u001b[1m21/21\u001b[0m \u001b[32m━━━━━━━━━━━━━━━━━━━━\u001b[0m\u001b[37m\u001b[0m \u001b[1m0s\u001b[0m 780us/step\n",
      "\u001b[1m21/21\u001b[0m \u001b[32m━━━━━━━━━━━━━━━━━━━━\u001b[0m\u001b[37m\u001b[0m \u001b[1m0s\u001b[0m 740us/step\n",
      "\u001b[1m21/21\u001b[0m \u001b[32m━━━━━━━━━━━━━━━━━━━━\u001b[0m\u001b[37m\u001b[0m \u001b[1m0s\u001b[0m 722us/step\n",
      "\u001b[1m21/21\u001b[0m \u001b[32m━━━━━━━━━━━━━━━━━━━━\u001b[0m\u001b[37m\u001b[0m \u001b[1m0s\u001b[0m 717us/step\n",
      "\u001b[1m21/21\u001b[0m \u001b[32m━━━━━━━━━━━━━━━━━━━━\u001b[0m\u001b[37m\u001b[0m \u001b[1m0s\u001b[0m 720us/step\n",
      "\u001b[1m21/21\u001b[0m \u001b[32m━━━━━━━━━━━━━━━━━━━━\u001b[0m\u001b[37m\u001b[0m \u001b[1m0s\u001b[0m 735us/step\n",
      "\u001b[1m21/21\u001b[0m \u001b[32m━━━━━━━━━━━━━━━━━━━━\u001b[0m\u001b[37m\u001b[0m \u001b[1m0s\u001b[0m 746us/step\n",
      "\u001b[1m21/21\u001b[0m \u001b[32m━━━━━━━━━━━━━━━━━━━━\u001b[0m\u001b[37m\u001b[0m \u001b[1m0s\u001b[0m 714us/step\n",
      "\u001b[1m21/21\u001b[0m \u001b[32m━━━━━━━━━━━━━━━━━━━━\u001b[0m\u001b[37m\u001b[0m \u001b[1m0s\u001b[0m 917us/step\n",
      "\u001b[1m21/21\u001b[0m \u001b[32m━━━━━━━━━━━━━━━━━━━━\u001b[0m\u001b[37m\u001b[0m \u001b[1m0s\u001b[0m 787us/step\n",
      "\u001b[1m21/21\u001b[0m \u001b[32m━━━━━━━━━━━━━━━━━━━━\u001b[0m\u001b[37m\u001b[0m \u001b[1m0s\u001b[0m 1ms/step\n",
      "\u001b[1m21/21\u001b[0m \u001b[32m━━━━━━━━━━━━━━━━━━━━\u001b[0m\u001b[37m\u001b[0m \u001b[1m0s\u001b[0m 752us/step\n",
      "\u001b[1m21/21\u001b[0m \u001b[32m━━━━━━━━━━━━━━━━━━━━\u001b[0m\u001b[37m\u001b[0m \u001b[1m0s\u001b[0m 731us/step\n",
      "\u001b[1m21/21\u001b[0m \u001b[32m━━━━━━━━━━━━━━━━━━━━\u001b[0m\u001b[37m\u001b[0m \u001b[1m0s\u001b[0m 711us/step\n",
      "\u001b[1m21/21\u001b[0m \u001b[32m━━━━━━━━━━━━━━━━━━━━\u001b[0m\u001b[37m\u001b[0m \u001b[1m0s\u001b[0m 712us/step\n",
      "\u001b[1m21/21\u001b[0m \u001b[32m━━━━━━━━━━━━━━━━━━━━\u001b[0m\u001b[37m\u001b[0m \u001b[1m0s\u001b[0m 710us/step\n",
      "\u001b[1m21/21\u001b[0m \u001b[32m━━━━━━━━━━━━━━━━━━━━\u001b[0m\u001b[37m\u001b[0m \u001b[1m0s\u001b[0m 699us/step\n",
      "\u001b[1m21/21\u001b[0m \u001b[32m━━━━━━━━━━━━━━━━━━━━\u001b[0m\u001b[37m\u001b[0m \u001b[1m0s\u001b[0m 708us/step\n",
      "\u001b[1m21/21\u001b[0m \u001b[32m━━━━━━━━━━━━━━━━━━━━\u001b[0m\u001b[37m\u001b[0m \u001b[1m0s\u001b[0m 716us/step\n",
      "\u001b[1m21/21\u001b[0m \u001b[32m━━━━━━━━━━━━━━━━━━━━\u001b[0m\u001b[37m\u001b[0m \u001b[1m0s\u001b[0m 713us/step\n",
      "\u001b[1m21/21\u001b[0m \u001b[32m━━━━━━━━━━━━━━━━━━━━\u001b[0m\u001b[37m\u001b[0m \u001b[1m0s\u001b[0m 784us/step\n",
      "\u001b[1m21/21\u001b[0m \u001b[32m━━━━━━━━━━━━━━━━━━━━\u001b[0m\u001b[37m\u001b[0m \u001b[1m0s\u001b[0m 876us/step\n",
      "\u001b[1m21/21\u001b[0m \u001b[32m━━━━━━━━━━━━━━━━━━━━\u001b[0m\u001b[37m\u001b[0m \u001b[1m0s\u001b[0m 964us/step\n",
      "\u001b[1m21/21\u001b[0m \u001b[32m━━━━━━━━━━━━━━━━━━━━\u001b[0m\u001b[37m\u001b[0m \u001b[1m0s\u001b[0m 790us/step\n",
      "\u001b[1m21/21\u001b[0m \u001b[32m━━━━━━━━━━━━━━━━━━━━\u001b[0m\u001b[37m\u001b[0m \u001b[1m0s\u001b[0m 770us/step\n",
      "\u001b[1m21/21\u001b[0m \u001b[32m━━━━━━━━━━━━━━━━━━━━\u001b[0m\u001b[37m\u001b[0m \u001b[1m0s\u001b[0m 786us/step\n",
      "\u001b[1m21/21\u001b[0m \u001b[32m━━━━━━━━━━━━━━━━━━━━\u001b[0m\u001b[37m\u001b[0m \u001b[1m0s\u001b[0m 777us/step\n",
      "\u001b[1m21/21\u001b[0m \u001b[32m━━━━━━━━━━━━━━━━━━━━\u001b[0m\u001b[37m\u001b[0m \u001b[1m0s\u001b[0m 796us/step\n",
      "\u001b[1m21/21\u001b[0m \u001b[32m━━━━━━━━━━━━━━━━━━━━\u001b[0m\u001b[37m\u001b[0m \u001b[1m0s\u001b[0m 777us/step\n",
      "\u001b[1m21/21\u001b[0m \u001b[32m━━━━━━━━━━━━━━━━━━━━\u001b[0m\u001b[37m\u001b[0m \u001b[1m0s\u001b[0m 756us/step\n",
      "\u001b[1m21/21\u001b[0m \u001b[32m━━━━━━━━━━━━━━━━━━━━\u001b[0m\u001b[37m\u001b[0m \u001b[1m0s\u001b[0m 745us/step\n",
      "\u001b[1m21/21\u001b[0m \u001b[32m━━━━━━━━━━━━━━━━━━━━\u001b[0m\u001b[37m\u001b[0m \u001b[1m0s\u001b[0m 728us/step\n",
      "\u001b[1m21/21\u001b[0m \u001b[32m━━━━━━━━━━━━━━━━━━━━\u001b[0m\u001b[37m\u001b[0m \u001b[1m0s\u001b[0m 710us/step\n",
      "\u001b[1m21/21\u001b[0m \u001b[32m━━━━━━━━━━━━━━━━━━━━\u001b[0m\u001b[37m\u001b[0m \u001b[1m0s\u001b[0m 702us/step\n",
      "\u001b[1m21/21\u001b[0m \u001b[32m━━━━━━━━━━━━━━━━━━━━\u001b[0m\u001b[37m\u001b[0m \u001b[1m0s\u001b[0m 747us/step\n",
      "\u001b[1m21/21\u001b[0m \u001b[32m━━━━━━━━━━━━━━━━━━━━\u001b[0m\u001b[37m\u001b[0m \u001b[1m0s\u001b[0m 728us/step\n",
      "\u001b[1m21/21\u001b[0m \u001b[32m━━━━━━━━━━━━━━━━━━━━\u001b[0m\u001b[37m\u001b[0m \u001b[1m0s\u001b[0m 707us/step\n",
      "\u001b[1m21/21\u001b[0m \u001b[32m━━━━━━━━━━━━━━━━━━━━\u001b[0m\u001b[37m\u001b[0m \u001b[1m0s\u001b[0m 716us/step\n",
      "\u001b[1m21/21\u001b[0m \u001b[32m━━━━━━━━━━━━━━━━━━━━\u001b[0m\u001b[37m\u001b[0m \u001b[1m0s\u001b[0m 717us/step\n",
      "\u001b[1m21/21\u001b[0m \u001b[32m━━━━━━━━━━━━━━━━━━━━\u001b[0m\u001b[37m\u001b[0m \u001b[1m0s\u001b[0m 711us/step\n",
      "\u001b[1m21/21\u001b[0m \u001b[32m━━━━━━━━━━━━━━━━━━━━\u001b[0m\u001b[37m\u001b[0m \u001b[1m0s\u001b[0m 718us/step\n",
      "\u001b[1m21/21\u001b[0m \u001b[32m━━━━━━━━━━━━━━━━━━━━\u001b[0m\u001b[37m\u001b[0m \u001b[1m0s\u001b[0m 710us/step\n",
      "\u001b[1m21/21\u001b[0m \u001b[32m━━━━━━━━━━━━━━━━━━━━\u001b[0m\u001b[37m\u001b[0m \u001b[1m0s\u001b[0m 700us/step\n",
      "\u001b[1m21/21\u001b[0m \u001b[32m━━━━━━━━━━━━━━━━━━━━\u001b[0m\u001b[37m\u001b[0m \u001b[1m0s\u001b[0m 713us/step\n",
      "\u001b[1m21/21\u001b[0m \u001b[32m━━━━━━━━━━━━━━━━━━━━\u001b[0m\u001b[37m\u001b[0m \u001b[1m0s\u001b[0m 723us/step\n",
      "\u001b[1m21/21\u001b[0m \u001b[32m━━━━━━━━━━━━━━━━━━━━\u001b[0m\u001b[37m\u001b[0m \u001b[1m0s\u001b[0m 712us/step\n",
      "\u001b[1m21/21\u001b[0m \u001b[32m━━━━━━━━━━━━━━━━━━━━\u001b[0m\u001b[37m\u001b[0m \u001b[1m0s\u001b[0m 730us/step\n",
      "\u001b[1m21/21\u001b[0m \u001b[32m━━━━━━━━━━━━━━━━━━━━\u001b[0m\u001b[37m\u001b[0m \u001b[1m0s\u001b[0m 770us/step\n",
      "\u001b[1m21/21\u001b[0m \u001b[32m━━━━━━━━━━━━━━━━━━━━\u001b[0m\u001b[37m\u001b[0m \u001b[1m0s\u001b[0m 740us/step\n",
      "\u001b[1m21/21\u001b[0m \u001b[32m━━━━━━━━━━━━━━━━━━━━\u001b[0m\u001b[37m\u001b[0m \u001b[1m0s\u001b[0m 728us/step\n",
      "\u001b[1m21/21\u001b[0m \u001b[32m━━━━━━━━━━━━━━━━━━━━\u001b[0m\u001b[37m\u001b[0m \u001b[1m0s\u001b[0m 752us/step\n",
      "\u001b[1m21/21\u001b[0m \u001b[32m━━━━━━━━━━━━━━━━━━━━\u001b[0m\u001b[37m\u001b[0m \u001b[1m0s\u001b[0m 747us/step\n",
      "\u001b[1m21/21\u001b[0m \u001b[32m━━━━━━━━━━━━━━━━━━━━\u001b[0m\u001b[37m\u001b[0m \u001b[1m0s\u001b[0m 701us/step\n",
      "\u001b[1m21/21\u001b[0m \u001b[32m━━━━━━━━━━━━━━━━━━━━\u001b[0m\u001b[37m\u001b[0m \u001b[1m0s\u001b[0m 708us/step\n",
      "\u001b[1m21/21\u001b[0m \u001b[32m━━━━━━━━━━━━━━━━━━━━\u001b[0m\u001b[37m\u001b[0m \u001b[1m0s\u001b[0m 700us/step\n",
      "\u001b[1m21/21\u001b[0m \u001b[32m━━━━━━━━━━━━━━━━━━━━\u001b[0m\u001b[37m\u001b[0m \u001b[1m0s\u001b[0m 762us/step\n",
      "\u001b[1m21/21\u001b[0m \u001b[32m━━━━━━━━━━━━━━━━━━━━\u001b[0m\u001b[37m\u001b[0m \u001b[1m0s\u001b[0m 775us/step\n",
      "\u001b[1m21/21\u001b[0m \u001b[32m━━━━━━━━━━━━━━━━━━━━\u001b[0m\u001b[37m\u001b[0m \u001b[1m0s\u001b[0m 717us/step\n",
      "\u001b[1m21/21\u001b[0m \u001b[32m━━━━━━━━━━━━━━━━━━━━\u001b[0m\u001b[37m\u001b[0m \u001b[1m0s\u001b[0m 710us/step\n",
      "\u001b[1m21/21\u001b[0m \u001b[32m━━━━━━━━━━━━━━━━━━━━\u001b[0m\u001b[37m\u001b[0m \u001b[1m0s\u001b[0m 723us/step\n",
      "\u001b[1m21/21\u001b[0m \u001b[32m━━━━━━━━━━━━━━━━━━━━\u001b[0m\u001b[37m\u001b[0m \u001b[1m0s\u001b[0m 714us/step\n",
      "\u001b[1m21/21\u001b[0m \u001b[32m━━━━━━━━━━━━━━━━━━━━\u001b[0m\u001b[37m\u001b[0m \u001b[1m0s\u001b[0m 784us/step\n",
      "\u001b[1m21/21\u001b[0m \u001b[32m━━━━━━━━━━━━━━━━━━━━\u001b[0m\u001b[37m\u001b[0m \u001b[1m0s\u001b[0m 783us/step\n",
      "\u001b[1m21/21\u001b[0m \u001b[32m━━━━━━━━━━━━━━━━━━━━\u001b[0m\u001b[37m\u001b[0m \u001b[1m0s\u001b[0m 728us/step\n",
      "\u001b[1m21/21\u001b[0m \u001b[32m━━━━━━━━━━━━━━━━━━━━\u001b[0m\u001b[37m\u001b[0m \u001b[1m0s\u001b[0m 739us/step\n",
      "\u001b[1m21/21\u001b[0m \u001b[32m━━━━━━━━━━━━━━━━━━━━\u001b[0m\u001b[37m\u001b[0m \u001b[1m0s\u001b[0m 731us/step\n",
      "\u001b[1m21/21\u001b[0m \u001b[32m━━━━━━━━━━━━━━━━━━━━\u001b[0m\u001b[37m\u001b[0m \u001b[1m0s\u001b[0m 705us/step\n",
      "\u001b[1m21/21\u001b[0m \u001b[32m━━━━━━━━━━━━━━━━━━━━\u001b[0m\u001b[37m\u001b[0m \u001b[1m0s\u001b[0m 704us/step\n",
      "\u001b[1m21/21\u001b[0m \u001b[32m━━━━━━━━━━━━━━━━━━━━\u001b[0m\u001b[37m\u001b[0m \u001b[1m0s\u001b[0m 722us/step\n",
      "\u001b[1m21/21\u001b[0m \u001b[32m━━━━━━━━━━━━━━━━━━━━\u001b[0m\u001b[37m\u001b[0m \u001b[1m0s\u001b[0m 767us/step\n",
      "\u001b[1m21/21\u001b[0m \u001b[32m━━━━━━━━━━━━━━━━━━━━\u001b[0m\u001b[37m\u001b[0m \u001b[1m0s\u001b[0m 738us/step\n",
      "\u001b[1m21/21\u001b[0m \u001b[32m━━━━━━━━━━━━━━━━━━━━\u001b[0m\u001b[37m\u001b[0m \u001b[1m0s\u001b[0m 719us/step\n",
      "\u001b[1m21/21\u001b[0m \u001b[32m━━━━━━━━━━━━━━━━━━━━\u001b[0m\u001b[37m\u001b[0m \u001b[1m0s\u001b[0m 727us/step\n",
      "\u001b[1m21/21\u001b[0m \u001b[32m━━━━━━━━━━━━━━━━━━━━\u001b[0m\u001b[37m\u001b[0m \u001b[1m0s\u001b[0m 768us/step\n",
      "\u001b[1m21/21\u001b[0m \u001b[32m━━━━━━━━━━━━━━━━━━━━\u001b[0m\u001b[37m\u001b[0m \u001b[1m0s\u001b[0m 721us/step\n",
      "\u001b[1m21/21\u001b[0m \u001b[32m━━━━━━━━━━━━━━━━━━━━\u001b[0m\u001b[37m\u001b[0m \u001b[1m0s\u001b[0m 740us/step\n",
      "\u001b[1m21/21\u001b[0m \u001b[32m━━━━━━━━━━━━━━━━━━━━\u001b[0m\u001b[37m\u001b[0m \u001b[1m0s\u001b[0m 737us/step\n",
      "\u001b[1m21/21\u001b[0m \u001b[32m━━━━━━━━━━━━━━━━━━━━\u001b[0m\u001b[37m\u001b[0m \u001b[1m0s\u001b[0m 728us/step\n",
      "\u001b[1m21/21\u001b[0m \u001b[32m━━━━━━━━━━━━━━━━━━━━\u001b[0m\u001b[37m\u001b[0m \u001b[1m0s\u001b[0m 720us/step\n",
      "\u001b[1m21/21\u001b[0m \u001b[32m━━━━━━━━━━━━━━━━━━━━\u001b[0m\u001b[37m\u001b[0m \u001b[1m0s\u001b[0m 722us/step\n",
      "\u001b[1m21/21\u001b[0m \u001b[32m━━━━━━━━━━━━━━━━━━━━\u001b[0m\u001b[37m\u001b[0m \u001b[1m0s\u001b[0m 718us/step\n",
      "\u001b[1m21/21\u001b[0m \u001b[32m━━━━━━━━━━━━━━━━━━━━\u001b[0m\u001b[37m\u001b[0m \u001b[1m0s\u001b[0m 721us/step\n",
      "\u001b[1m21/21\u001b[0m \u001b[32m━━━━━━━━━━━━━━━━━━━━\u001b[0m\u001b[37m\u001b[0m \u001b[1m0s\u001b[0m 731us/step\n",
      "\u001b[1m21/21\u001b[0m \u001b[32m━━━━━━━━━━━━━━━━━━━━\u001b[0m\u001b[37m\u001b[0m \u001b[1m0s\u001b[0m 704us/step\n",
      "\u001b[1m21/21\u001b[0m \u001b[32m━━━━━━━━━━━━━━━━━━━━\u001b[0m\u001b[37m\u001b[0m \u001b[1m0s\u001b[0m 703us/step\n",
      "\u001b[1m21/21\u001b[0m \u001b[32m━━━━━━━━━━━━━━━━━━━━\u001b[0m\u001b[37m\u001b[0m \u001b[1m0s\u001b[0m 704us/step\n",
      "\u001b[1m21/21\u001b[0m \u001b[32m━━━━━━━━━━━━━━━━━━━━\u001b[0m\u001b[37m\u001b[0m \u001b[1m0s\u001b[0m 710us/step\n",
      "\u001b[1m21/21\u001b[0m \u001b[32m━━━━━━━━━━━━━━━━━━━━\u001b[0m\u001b[37m\u001b[0m \u001b[1m0s\u001b[0m 765us/step\n",
      "\u001b[1m21/21\u001b[0m \u001b[32m━━━━━━━━━━━━━━━━━━━━\u001b[0m\u001b[37m\u001b[0m \u001b[1m0s\u001b[0m 731us/step\n",
      "\u001b[1m21/21\u001b[0m \u001b[32m━━━━━━━━━━━━━━━━━━━━\u001b[0m\u001b[37m\u001b[0m \u001b[1m0s\u001b[0m 732us/step\n",
      "\u001b[1m21/21\u001b[0m \u001b[32m━━━━━━━━━━━━━━━━━━━━\u001b[0m\u001b[37m\u001b[0m \u001b[1m0s\u001b[0m 724us/step\n",
      "\u001b[1m21/21\u001b[0m \u001b[32m━━━━━━━━━━━━━━━━━━━━\u001b[0m\u001b[37m\u001b[0m \u001b[1m0s\u001b[0m 738us/step\n",
      "\u001b[1m21/21\u001b[0m \u001b[32m━━━━━━━━━━━━━━━━━━━━\u001b[0m\u001b[37m\u001b[0m \u001b[1m0s\u001b[0m 703us/step\n",
      "\u001b[1m21/21\u001b[0m \u001b[32m━━━━━━━━━━━━━━━━━━━━\u001b[0m\u001b[37m\u001b[0m \u001b[1m0s\u001b[0m 699us/step\n",
      "\u001b[1m21/21\u001b[0m \u001b[32m━━━━━━━━━━━━━━━━━━━━\u001b[0m\u001b[37m\u001b[0m \u001b[1m0s\u001b[0m 736us/step\n",
      "\u001b[1m21/21\u001b[0m \u001b[32m━━━━━━━━━━━━━━━━━━━━\u001b[0m\u001b[37m\u001b[0m \u001b[1m0s\u001b[0m 755us/step\n",
      "\u001b[1m21/21\u001b[0m \u001b[32m━━━━━━━━━━━━━━━━━━━━\u001b[0m\u001b[37m\u001b[0m \u001b[1m0s\u001b[0m 781us/step\n",
      "\u001b[1m21/21\u001b[0m \u001b[32m━━━━━━━━━━━━━━━━━━━━\u001b[0m\u001b[37m\u001b[0m \u001b[1m0s\u001b[0m 724us/step\n",
      "\u001b[1m21/21\u001b[0m \u001b[32m━━━━━━━━━━━━━━━━━━━━\u001b[0m\u001b[37m\u001b[0m \u001b[1m0s\u001b[0m 723us/step\n",
      "\u001b[1m21/21\u001b[0m \u001b[32m━━━━━━━━━━━━━━━━━━━━\u001b[0m\u001b[37m\u001b[0m \u001b[1m0s\u001b[0m 708us/step\n",
      "\u001b[1m21/21\u001b[0m \u001b[32m━━━━━━━━━━━━━━━━━━━━\u001b[0m\u001b[37m\u001b[0m \u001b[1m0s\u001b[0m 725us/step\n",
      "\u001b[1m21/21\u001b[0m \u001b[32m━━━━━━━━━━━━━━━━━━━━\u001b[0m\u001b[37m\u001b[0m \u001b[1m0s\u001b[0m 748us/step\n",
      "\u001b[1m21/21\u001b[0m \u001b[32m━━━━━━━━━━━━━━━━━━━━\u001b[0m\u001b[37m\u001b[0m \u001b[1m0s\u001b[0m 742us/step\n",
      "\u001b[1m21/21\u001b[0m \u001b[32m━━━━━━━━━━━━━━━━━━━━\u001b[0m\u001b[37m\u001b[0m \u001b[1m0s\u001b[0m 733us/step\n",
      "\u001b[1m21/21\u001b[0m \u001b[32m━━━━━━━━━━━━━━━━━━━━\u001b[0m\u001b[37m\u001b[0m \u001b[1m0s\u001b[0m 735us/step\n",
      "\u001b[1m21/21\u001b[0m \u001b[32m━━━━━━━━━━━━━━━━━━━━\u001b[0m\u001b[37m\u001b[0m \u001b[1m0s\u001b[0m 721us/step\n",
      "\u001b[1m21/21\u001b[0m \u001b[32m━━━━━━━━━━━━━━━━━━━━\u001b[0m\u001b[37m\u001b[0m \u001b[1m0s\u001b[0m 701us/step\n",
      "\u001b[1m21/21\u001b[0m \u001b[32m━━━━━━━━━━━━━━━━━━━━\u001b[0m\u001b[37m\u001b[0m \u001b[1m0s\u001b[0m 723us/step\n",
      "\u001b[1m21/21\u001b[0m \u001b[32m━━━━━━━━━━━━━━━━━━━━\u001b[0m\u001b[37m\u001b[0m \u001b[1m0s\u001b[0m 725us/step\n",
      "\u001b[1m21/21\u001b[0m \u001b[32m━━━━━━━━━━━━━━━━━━━━\u001b[0m\u001b[37m\u001b[0m \u001b[1m0s\u001b[0m 718us/step\n",
      "\u001b[1m21/21\u001b[0m \u001b[32m━━━━━━━━━━━━━━━━━━━━\u001b[0m\u001b[37m\u001b[0m \u001b[1m0s\u001b[0m 724us/step\n",
      "\u001b[1m21/21\u001b[0m \u001b[32m━━━━━━━━━━━━━━━━━━━━\u001b[0m\u001b[37m\u001b[0m \u001b[1m0s\u001b[0m 712us/step\n",
      "\u001b[1m21/21\u001b[0m \u001b[32m━━━━━━━━━━━━━━━━━━━━\u001b[0m\u001b[37m\u001b[0m \u001b[1m0s\u001b[0m 711us/step\n",
      "\u001b[1m21/21\u001b[0m \u001b[32m━━━━━━━━━━━━━━━━━━━━\u001b[0m\u001b[37m\u001b[0m \u001b[1m0s\u001b[0m 789us/step\n",
      "\u001b[1m21/21\u001b[0m \u001b[32m━━━━━━━━━━━━━━━━━━━━\u001b[0m\u001b[37m\u001b[0m \u001b[1m0s\u001b[0m 812us/step\n",
      "\u001b[1m21/21\u001b[0m \u001b[32m━━━━━━━━━━━━━━━━━━━━\u001b[0m\u001b[37m\u001b[0m \u001b[1m0s\u001b[0m 1ms/step\n",
      "\u001b[1m21/21\u001b[0m \u001b[32m━━━━━━━━━━━━━━━━━━━━\u001b[0m\u001b[37m\u001b[0m \u001b[1m0s\u001b[0m 725us/step\n",
      "\u001b[1m21/21\u001b[0m \u001b[32m━━━━━━━━━━━━━━━━━━━━\u001b[0m\u001b[37m\u001b[0m \u001b[1m0s\u001b[0m 708us/step\n",
      "\u001b[1m21/21\u001b[0m \u001b[32m━━━━━━━━━━━━━━━━━━━━\u001b[0m\u001b[37m\u001b[0m \u001b[1m0s\u001b[0m 709us/step\n",
      "\u001b[1m21/21\u001b[0m \u001b[32m━━━━━━━━━━━━━━━━━━━━\u001b[0m\u001b[37m\u001b[0m \u001b[1m0s\u001b[0m 700us/step\n",
      "\u001b[1m21/21\u001b[0m \u001b[32m━━━━━━━━━━━━━━━━━━━━\u001b[0m\u001b[37m\u001b[0m \u001b[1m0s\u001b[0m 743us/step\n",
      "\u001b[1m21/21\u001b[0m \u001b[32m━━━━━━━━━━━━━━━━━━━━\u001b[0m\u001b[37m\u001b[0m \u001b[1m0s\u001b[0m 751us/step\n",
      "\u001b[1m21/21\u001b[0m \u001b[32m━━━━━━━━━━━━━━━━━━━━\u001b[0m\u001b[37m\u001b[0m \u001b[1m0s\u001b[0m 721us/step\n",
      "\u001b[1m21/21\u001b[0m \u001b[32m━━━━━━━━━━━━━━━━━━━━\u001b[0m\u001b[37m\u001b[0m \u001b[1m0s\u001b[0m 705us/step\n",
      "\u001b[1m21/21\u001b[0m \u001b[32m━━━━━━━━━━━━━━━━━━━━\u001b[0m\u001b[37m\u001b[0m \u001b[1m0s\u001b[0m 703us/step\n",
      "\u001b[1m21/21\u001b[0m \u001b[32m━━━━━━━━━━━━━━━━━━━━\u001b[0m\u001b[37m\u001b[0m \u001b[1m0s\u001b[0m 714us/step\n",
      "\u001b[1m21/21\u001b[0m \u001b[32m━━━━━━━━━━━━━━━━━━━━\u001b[0m\u001b[37m\u001b[0m \u001b[1m0s\u001b[0m 715us/step\n",
      "\u001b[1m21/21\u001b[0m \u001b[32m━━━━━━━━━━━━━━━━━━━━\u001b[0m\u001b[37m\u001b[0m \u001b[1m0s\u001b[0m 759us/step\n",
      "\u001b[1m21/21\u001b[0m \u001b[32m━━━━━━━━━━━━━━━━━━━━\u001b[0m\u001b[37m\u001b[0m \u001b[1m0s\u001b[0m 776us/step\n",
      "\u001b[1m21/21\u001b[0m \u001b[32m━━━━━━━━━━━━━━━━━━━━\u001b[0m\u001b[37m\u001b[0m \u001b[1m0s\u001b[0m 744us/step\n",
      "\u001b[1m21/21\u001b[0m \u001b[32m━━━━━━━━━━━━━━━━━━━━\u001b[0m\u001b[37m\u001b[0m \u001b[1m0s\u001b[0m 743us/step\n",
      "\u001b[1m21/21\u001b[0m \u001b[32m━━━━━━━━━━━━━━━━━━━━\u001b[0m\u001b[37m\u001b[0m \u001b[1m0s\u001b[0m 743us/step\n",
      "\u001b[1m21/21\u001b[0m \u001b[32m━━━━━━━━━━━━━━━━━━━━\u001b[0m\u001b[37m\u001b[0m \u001b[1m0s\u001b[0m 728us/step\n",
      "\u001b[1m21/21\u001b[0m \u001b[32m━━━━━━━━━━━━━━━━━━━━\u001b[0m\u001b[37m\u001b[0m \u001b[1m0s\u001b[0m 708us/step\n",
      "\u001b[1m21/21\u001b[0m \u001b[32m━━━━━━━━━━━━━━━━━━━━\u001b[0m\u001b[37m\u001b[0m \u001b[1m0s\u001b[0m 713us/step\n",
      "\u001b[1m21/21\u001b[0m \u001b[32m━━━━━━━━━━━━━━━━━━━━\u001b[0m\u001b[37m\u001b[0m \u001b[1m0s\u001b[0m 697us/step\n",
      "\u001b[1m21/21\u001b[0m \u001b[32m━━━━━━━━━━━━━━━━━━━━\u001b[0m\u001b[37m\u001b[0m \u001b[1m0s\u001b[0m 711us/step\n",
      "\u001b[1m21/21\u001b[0m \u001b[32m━━━━━━━━━━━━━━━━━━━━\u001b[0m\u001b[37m\u001b[0m \u001b[1m0s\u001b[0m 701us/step\n",
      "\u001b[1m21/21\u001b[0m \u001b[32m━━━━━━━━━━━━━━━━━━━━\u001b[0m\u001b[37m\u001b[0m \u001b[1m0s\u001b[0m 724us/step\n",
      "\u001b[1m21/21\u001b[0m \u001b[32m━━━━━━━━━━━━━━━━━━━━\u001b[0m\u001b[37m\u001b[0m \u001b[1m0s\u001b[0m 715us/step\n",
      "\u001b[1m21/21\u001b[0m \u001b[32m━━━━━━━━━━━━━━━━━━━━\u001b[0m\u001b[37m\u001b[0m \u001b[1m0s\u001b[0m 708us/step\n",
      "\u001b[1m21/21\u001b[0m \u001b[32m━━━━━━━━━━━━━━━━━━━━\u001b[0m\u001b[37m\u001b[0m \u001b[1m0s\u001b[0m 782us/step\n",
      "\u001b[1m21/21\u001b[0m \u001b[32m━━━━━━━━━━━━━━━━━━━━\u001b[0m\u001b[37m\u001b[0m \u001b[1m0s\u001b[0m 746us/step\n",
      "\u001b[1m21/21\u001b[0m \u001b[32m━━━━━━━━━━━━━━━━━━━━\u001b[0m\u001b[37m\u001b[0m \u001b[1m0s\u001b[0m 734us/step\n",
      "\u001b[1m21/21\u001b[0m \u001b[32m━━━━━━━━━━━━━━━━━━━━\u001b[0m\u001b[37m\u001b[0m \u001b[1m0s\u001b[0m 747us/step\n",
      "\u001b[1m21/21\u001b[0m \u001b[32m━━━━━━━━━━━━━━━━━━━━\u001b[0m\u001b[37m\u001b[0m \u001b[1m0s\u001b[0m 713us/step\n",
      "\u001b[1m21/21\u001b[0m \u001b[32m━━━━━━━━━━━━━━━━━━━━\u001b[0m\u001b[37m\u001b[0m \u001b[1m0s\u001b[0m 703us/step\n",
      "\u001b[1m21/21\u001b[0m \u001b[32m━━━━━━━━━━━━━━━━━━━━\u001b[0m\u001b[37m\u001b[0m \u001b[1m0s\u001b[0m 719us/step\n",
      "\u001b[1m21/21\u001b[0m \u001b[32m━━━━━━━━━━━━━━━━━━━━\u001b[0m\u001b[37m\u001b[0m \u001b[1m0s\u001b[0m 717us/step\n",
      "\u001b[1m21/21\u001b[0m \u001b[32m━━━━━━━━━━━━━━━━━━━━\u001b[0m\u001b[37m\u001b[0m \u001b[1m0s\u001b[0m 727us/step\n",
      "\u001b[1m21/21\u001b[0m \u001b[32m━━━━━━━━━━━━━━━━━━━━\u001b[0m\u001b[37m\u001b[0m \u001b[1m0s\u001b[0m 718us/step\n",
      "\u001b[1m21/21\u001b[0m \u001b[32m━━━━━━━━━━━━━━━━━━━━\u001b[0m\u001b[37m\u001b[0m \u001b[1m0s\u001b[0m 718us/step\n",
      "\u001b[1m21/21\u001b[0m \u001b[32m━━━━━━━━━━━━━━━━━━━━\u001b[0m\u001b[37m\u001b[0m \u001b[1m0s\u001b[0m 716us/step\n",
      "\u001b[1m21/21\u001b[0m \u001b[32m━━━━━━━━━━━━━━━━━━━━\u001b[0m\u001b[37m\u001b[0m \u001b[1m0s\u001b[0m 708us/step\n",
      "\u001b[1m21/21\u001b[0m \u001b[32m━━━━━━━━━━━━━━━━━━━━\u001b[0m\u001b[37m\u001b[0m \u001b[1m0s\u001b[0m 741us/step\n",
      "\u001b[1m21/21\u001b[0m \u001b[32m━━━━━━━━━━━━━━━━━━━━\u001b[0m\u001b[37m\u001b[0m \u001b[1m0s\u001b[0m 704us/step\n",
      "\u001b[1m21/21\u001b[0m \u001b[32m━━━━━━━━━━━━━━━━━━━━\u001b[0m\u001b[37m\u001b[0m \u001b[1m0s\u001b[0m 722us/step\n",
      "\u001b[1m21/21\u001b[0m \u001b[32m━━━━━━━━━━━━━━━━━━━━\u001b[0m\u001b[37m\u001b[0m \u001b[1m0s\u001b[0m 729us/step\n",
      "\u001b[1m21/21\u001b[0m \u001b[32m━━━━━━━━━━━━━━━━━━━━\u001b[0m\u001b[37m\u001b[0m \u001b[1m0s\u001b[0m 783us/step\n",
      "\u001b[1m21/21\u001b[0m \u001b[32m━━━━━━━━━━━━━━━━━━━━\u001b[0m\u001b[37m\u001b[0m \u001b[1m0s\u001b[0m 799us/step\n",
      "\u001b[1m21/21\u001b[0m \u001b[32m━━━━━━━━━━━━━━━━━━━━\u001b[0m\u001b[37m\u001b[0m \u001b[1m0s\u001b[0m 1ms/step\n",
      "\u001b[1m21/21\u001b[0m \u001b[32m━━━━━━━━━━━━━━━━━━━━\u001b[0m\u001b[37m\u001b[0m \u001b[1m0s\u001b[0m 722us/step\n",
      "\u001b[1m21/21\u001b[0m \u001b[32m━━━━━━━━━━━━━━━━━━━━\u001b[0m\u001b[37m\u001b[0m \u001b[1m0s\u001b[0m 715us/step\n",
      "\u001b[1m21/21\u001b[0m \u001b[32m━━━━━━━━━━━━━━━━━━━━\u001b[0m\u001b[37m\u001b[0m \u001b[1m0s\u001b[0m 714us/step\n",
      "\u001b[1m21/21\u001b[0m \u001b[32m━━━━━━━━━━━━━━━━━━━━\u001b[0m\u001b[37m\u001b[0m \u001b[1m0s\u001b[0m 718us/step\n",
      "\u001b[1m21/21\u001b[0m \u001b[32m━━━━━━━━━━━━━━━━━━━━\u001b[0m\u001b[37m\u001b[0m \u001b[1m0s\u001b[0m 717us/step\n",
      "\u001b[1m21/21\u001b[0m \u001b[32m━━━━━━━━━━━━━━━━━━━━\u001b[0m\u001b[37m\u001b[0m \u001b[1m0s\u001b[0m 747us/step\n",
      "\u001b[1m21/21\u001b[0m \u001b[32m━━━━━━━━━━━━━━━━━━━━\u001b[0m\u001b[37m\u001b[0m \u001b[1m0s\u001b[0m 708us/step\n",
      "\u001b[1m21/21\u001b[0m \u001b[32m━━━━━━━━━━━━━━━━━━━━\u001b[0m\u001b[37m\u001b[0m \u001b[1m0s\u001b[0m 749us/step\n",
      "\u001b[1m21/21\u001b[0m \u001b[32m━━━━━━━━━━━━━━━━━━━━\u001b[0m\u001b[37m\u001b[0m \u001b[1m0s\u001b[0m 737us/step\n",
      "\u001b[1m21/21\u001b[0m \u001b[32m━━━━━━━━━━━━━━━━━━━━\u001b[0m\u001b[37m\u001b[0m \u001b[1m0s\u001b[0m 723us/step\n",
      "\u001b[1m21/21\u001b[0m \u001b[32m━━━━━━━━━━━━━━━━━━━━\u001b[0m\u001b[37m\u001b[0m \u001b[1m0s\u001b[0m 732us/step\n",
      "\u001b[1m21/21\u001b[0m \u001b[32m━━━━━━━━━━━━━━━━━━━━\u001b[0m\u001b[37m\u001b[0m \u001b[1m0s\u001b[0m 730us/step\n",
      "\u001b[1m21/21\u001b[0m \u001b[32m━━━━━━━━━━━━━━━━━━━━\u001b[0m\u001b[37m\u001b[0m \u001b[1m0s\u001b[0m 728us/step\n",
      "\u001b[1m21/21\u001b[0m \u001b[32m━━━━━━━━━━━━━━━━━━━━\u001b[0m\u001b[37m\u001b[0m \u001b[1m0s\u001b[0m 724us/step\n",
      "\u001b[1m21/21\u001b[0m \u001b[32m━━━━━━━━━━━━━━━━━━━━\u001b[0m\u001b[37m\u001b[0m \u001b[1m0s\u001b[0m 739us/step\n",
      "\u001b[1m21/21\u001b[0m \u001b[32m━━━━━━━━━━━━━━━━━━━━\u001b[0m\u001b[37m\u001b[0m \u001b[1m0s\u001b[0m 733us/step\n",
      "\u001b[1m21/21\u001b[0m \u001b[32m━━━━━━━━━━━━━━━━━━━━\u001b[0m\u001b[37m\u001b[0m \u001b[1m0s\u001b[0m 736us/step\n",
      "\u001b[1m21/21\u001b[0m \u001b[32m━━━━━━━━━━━━━━━━━━━━\u001b[0m\u001b[37m\u001b[0m \u001b[1m0s\u001b[0m 706us/step\n",
      "\u001b[1m21/21\u001b[0m \u001b[32m━━━━━━━━━━━━━━━━━━━━\u001b[0m\u001b[37m\u001b[0m \u001b[1m0s\u001b[0m 727us/step\n",
      "\u001b[1m21/21\u001b[0m \u001b[32m━━━━━━━━━━━━━━━━━━━━\u001b[0m\u001b[37m\u001b[0m \u001b[1m0s\u001b[0m 717us/step\n",
      "\u001b[1m21/21\u001b[0m \u001b[32m━━━━━━━━━━━━━━━━━━━━\u001b[0m\u001b[37m\u001b[0m \u001b[1m0s\u001b[0m 780us/step\n",
      "\u001b[1m21/21\u001b[0m \u001b[32m━━━━━━━━━━━━━━━━━━━━\u001b[0m\u001b[37m\u001b[0m \u001b[1m0s\u001b[0m 756us/step\n",
      "\u001b[1m21/21\u001b[0m \u001b[32m━━━━━━━━━━━━━━━━━━━━\u001b[0m\u001b[37m\u001b[0m \u001b[1m0s\u001b[0m 714us/step\n",
      "\u001b[1m21/21\u001b[0m \u001b[32m━━━━━━━━━━━━━━━━━━━━\u001b[0m\u001b[37m\u001b[0m \u001b[1m0s\u001b[0m 746us/step\n",
      "\u001b[1m21/21\u001b[0m \u001b[32m━━━━━━━━━━━━━━━━━━━━\u001b[0m\u001b[37m\u001b[0m \u001b[1m0s\u001b[0m 716us/step\n",
      "\u001b[1m21/21\u001b[0m \u001b[32m━━━━━━━━━━━━━━━━━━━━\u001b[0m\u001b[37m\u001b[0m \u001b[1m0s\u001b[0m 709us/step\n",
      "\u001b[1m21/21\u001b[0m \u001b[32m━━━━━━━━━━━━━━━━━━━━\u001b[0m\u001b[37m\u001b[0m \u001b[1m0s\u001b[0m 730us/step\n",
      "\u001b[1m21/21\u001b[0m \u001b[32m━━━━━━━━━━━━━━━━━━━━\u001b[0m\u001b[37m\u001b[0m \u001b[1m0s\u001b[0m 740us/step\n",
      "\u001b[1m21/21\u001b[0m \u001b[32m━━━━━━━━━━━━━━━━━━━━\u001b[0m\u001b[37m\u001b[0m \u001b[1m0s\u001b[0m 720us/step\n",
      "\u001b[1m21/21\u001b[0m \u001b[32m━━━━━━━━━━━━━━━━━━━━\u001b[0m\u001b[37m\u001b[0m \u001b[1m0s\u001b[0m 729us/step\n",
      "\u001b[1m21/21\u001b[0m \u001b[32m━━━━━━━━━━━━━━━━━━━━\u001b[0m\u001b[37m\u001b[0m \u001b[1m0s\u001b[0m 723us/step\n",
      "\u001b[1m21/21\u001b[0m \u001b[32m━━━━━━━━━━━━━━━━━━━━\u001b[0m\u001b[37m\u001b[0m \u001b[1m0s\u001b[0m 723us/step\n",
      "\u001b[1m21/21\u001b[0m \u001b[32m━━━━━━━━━━━━━━━━━━━━\u001b[0m\u001b[37m\u001b[0m \u001b[1m0s\u001b[0m 1ms/step \n",
      "\u001b[1m21/21\u001b[0m \u001b[32m━━━━━━━━━━━━━━━━━━━━\u001b[0m\u001b[37m\u001b[0m \u001b[1m0s\u001b[0m 781us/step\n",
      "\u001b[1m21/21\u001b[0m \u001b[32m━━━━━━━━━━━━━━━━━━━━\u001b[0m\u001b[37m\u001b[0m \u001b[1m0s\u001b[0m 754us/step\n",
      "\u001b[1m21/21\u001b[0m \u001b[32m━━━━━━━━━━━━━━━━━━━━\u001b[0m\u001b[37m\u001b[0m \u001b[1m0s\u001b[0m 757us/step\n",
      "\u001b[1m21/21\u001b[0m \u001b[32m━━━━━━━━━━━━━━━━━━━━\u001b[0m\u001b[37m\u001b[0m \u001b[1m0s\u001b[0m 775us/step\n",
      "\u001b[1m21/21\u001b[0m \u001b[32m━━━━━━━━━━━━━━━━━━━━\u001b[0m\u001b[37m\u001b[0m \u001b[1m0s\u001b[0m 727us/step\n",
      "\u001b[1m21/21\u001b[0m \u001b[32m━━━━━━━━━━━━━━━━━━━━\u001b[0m\u001b[37m\u001b[0m \u001b[1m0s\u001b[0m 719us/step\n",
      "\u001b[1m21/21\u001b[0m \u001b[32m━━━━━━━━━━━━━━━━━━━━\u001b[0m\u001b[37m\u001b[0m \u001b[1m0s\u001b[0m 713us/step\n",
      "\u001b[1m21/21\u001b[0m \u001b[32m━━━━━━━━━━━━━━━━━━━━\u001b[0m\u001b[37m\u001b[0m \u001b[1m0s\u001b[0m 773us/step\n",
      "\u001b[1m21/21\u001b[0m \u001b[32m━━━━━━━━━━━━━━━━━━━━\u001b[0m\u001b[37m\u001b[0m \u001b[1m0s\u001b[0m 736us/step\n",
      "\u001b[1m21/21\u001b[0m \u001b[32m━━━━━━━━━━━━━━━━━━━━\u001b[0m\u001b[37m\u001b[0m \u001b[1m0s\u001b[0m 717us/step\n",
      "\u001b[1m21/21\u001b[0m \u001b[32m━━━━━━━━━━━━━━━━━━━━\u001b[0m\u001b[37m\u001b[0m \u001b[1m0s\u001b[0m 735us/step\n",
      "\u001b[1m21/21\u001b[0m \u001b[32m━━━━━━━━━━━━━━━━━━━━\u001b[0m\u001b[37m\u001b[0m \u001b[1m0s\u001b[0m 716us/step\n",
      "\u001b[1m21/21\u001b[0m \u001b[32m━━━━━━━━━━━━━━━━━━━━\u001b[0m\u001b[37m\u001b[0m \u001b[1m0s\u001b[0m 701us/step\n",
      "\u001b[1m21/21\u001b[0m \u001b[32m━━━━━━━━━━━━━━━━━━━━\u001b[0m\u001b[37m\u001b[0m \u001b[1m0s\u001b[0m 715us/step\n",
      "\u001b[1m21/21\u001b[0m \u001b[32m━━━━━━━━━━━━━━━━━━━━\u001b[0m\u001b[37m\u001b[0m \u001b[1m0s\u001b[0m 765us/step\n",
      "\u001b[1m21/21\u001b[0m \u001b[32m━━━━━━━━━━━━━━━━━━━━\u001b[0m\u001b[37m\u001b[0m \u001b[1m0s\u001b[0m 753us/step\n",
      "\u001b[1m21/21\u001b[0m \u001b[32m━━━━━━━━━━━━━━━━━━━━\u001b[0m\u001b[37m\u001b[0m \u001b[1m0s\u001b[0m 736us/step\n",
      "\u001b[1m21/21\u001b[0m \u001b[32m━━━━━━━━━━━━━━━━━━━━\u001b[0m\u001b[37m\u001b[0m \u001b[1m0s\u001b[0m 725us/step\n",
      "\u001b[1m21/21\u001b[0m \u001b[32m━━━━━━━━━━━━━━━━━━━━\u001b[0m\u001b[37m\u001b[0m \u001b[1m0s\u001b[0m 732us/step\n",
      "\u001b[1m21/21\u001b[0m \u001b[32m━━━━━━━━━━━━━━━━━━━━\u001b[0m\u001b[37m\u001b[0m \u001b[1m0s\u001b[0m 703us/step\n",
      "\u001b[1m21/21\u001b[0m \u001b[32m━━━━━━━━━━━━━━━━━━━━\u001b[0m\u001b[37m\u001b[0m \u001b[1m0s\u001b[0m 745us/step\n",
      "\u001b[1m21/21\u001b[0m \u001b[32m━━━━━━━━━━━━━━━━━━━━\u001b[0m\u001b[37m\u001b[0m \u001b[1m0s\u001b[0m 752us/step\n",
      "\u001b[1m21/21\u001b[0m \u001b[32m━━━━━━━━━━━━━━━━━━━━\u001b[0m\u001b[37m\u001b[0m \u001b[1m0s\u001b[0m 749us/step\n",
      "\u001b[1m21/21\u001b[0m \u001b[32m━━━━━━━━━━━━━━━━━━━━\u001b[0m\u001b[37m\u001b[0m \u001b[1m0s\u001b[0m 761us/step\n",
      "\u001b[1m21/21\u001b[0m \u001b[32m━━━━━━━━━━━━━━━━━━━━\u001b[0m\u001b[37m\u001b[0m \u001b[1m0s\u001b[0m 717us/step\n",
      "\u001b[1m21/21\u001b[0m \u001b[32m━━━━━━━━━━━━━━━━━━━━\u001b[0m\u001b[37m\u001b[0m \u001b[1m0s\u001b[0m 721us/step\n",
      "\u001b[1m21/21\u001b[0m \u001b[32m━━━━━━━━━━━━━━━━━━━━\u001b[0m\u001b[37m\u001b[0m \u001b[1m0s\u001b[0m 708us/step\n",
      "\u001b[1m21/21\u001b[0m \u001b[32m━━━━━━━━━━━━━━━━━━━━\u001b[0m\u001b[37m\u001b[0m \u001b[1m0s\u001b[0m 750us/step\n",
      "\u001b[1m21/21\u001b[0m \u001b[32m━━━━━━━━━━━━━━━━━━━━\u001b[0m\u001b[37m\u001b[0m \u001b[1m0s\u001b[0m 745us/step\n",
      "\u001b[1m21/21\u001b[0m \u001b[32m━━━━━━━━━━━━━━━━━━━━\u001b[0m\u001b[37m\u001b[0m \u001b[1m0s\u001b[0m 748us/step\n",
      "\u001b[1m21/21\u001b[0m \u001b[32m━━━━━━━━━━━━━━━━━━━━\u001b[0m\u001b[37m\u001b[0m \u001b[1m0s\u001b[0m 743us/step\n",
      "\u001b[1m21/21\u001b[0m \u001b[32m━━━━━━━━━━━━━━━━━━━━\u001b[0m\u001b[37m\u001b[0m \u001b[1m0s\u001b[0m 726us/step\n",
      "\u001b[1m21/21\u001b[0m \u001b[32m━━━━━━━━━━━━━━━━━━━━\u001b[0m\u001b[37m\u001b[0m \u001b[1m0s\u001b[0m 706us/step\n",
      "\u001b[1m21/21\u001b[0m \u001b[32m━━━━━━━━━━━━━━━━━━━━\u001b[0m\u001b[37m\u001b[0m \u001b[1m0s\u001b[0m 717us/step\n",
      "\u001b[1m21/21\u001b[0m \u001b[32m━━━━━━━━━━━━━━━━━━━━\u001b[0m\u001b[37m\u001b[0m \u001b[1m0s\u001b[0m 735us/step\n",
      "\u001b[1m21/21\u001b[0m \u001b[32m━━━━━━━━━━━━━━━━━━━━\u001b[0m\u001b[37m\u001b[0m \u001b[1m0s\u001b[0m 710us/step\n",
      "\u001b[1m21/21\u001b[0m \u001b[32m━━━━━━━━━━━━━━━━━━━━\u001b[0m\u001b[37m\u001b[0m \u001b[1m0s\u001b[0m 713us/step\n",
      "\u001b[1m21/21\u001b[0m \u001b[32m━━━━━━━━━━━━━━━━━━━━\u001b[0m\u001b[37m\u001b[0m \u001b[1m0s\u001b[0m 728us/step\n",
      "\u001b[1m21/21\u001b[0m \u001b[32m━━━━━━━━━━━━━━━━━━━━\u001b[0m\u001b[37m\u001b[0m \u001b[1m0s\u001b[0m 712us/step\n",
      "\u001b[1m21/21\u001b[0m \u001b[32m━━━━━━━━━━━━━━━━━━━━\u001b[0m\u001b[37m\u001b[0m \u001b[1m0s\u001b[0m 817us/step\n",
      "\u001b[1m21/21\u001b[0m \u001b[32m━━━━━━━━━━━━━━━━━━━━\u001b[0m\u001b[37m\u001b[0m \u001b[1m0s\u001b[0m 803us/step\n",
      "\u001b[1m21/21\u001b[0m \u001b[32m━━━━━━━━━━━━━━━━━━━━\u001b[0m\u001b[37m\u001b[0m \u001b[1m0s\u001b[0m 1ms/step\n",
      "\u001b[1m21/21\u001b[0m \u001b[32m━━━━━━━━━━━━━━━━━━━━\u001b[0m\u001b[37m\u001b[0m \u001b[1m0s\u001b[0m 728us/step\n",
      "\u001b[1m21/21\u001b[0m \u001b[32m━━━━━━━━━━━━━━━━━━━━\u001b[0m\u001b[37m\u001b[0m \u001b[1m0s\u001b[0m 719us/step\n",
      "\u001b[1m21/21\u001b[0m \u001b[32m━━━━━━━━━━━━━━━━━━━━\u001b[0m\u001b[37m\u001b[0m \u001b[1m0s\u001b[0m 714us/step\n",
      "\u001b[1m21/21\u001b[0m \u001b[32m━━━━━━━━━━━━━━━━━━━━\u001b[0m\u001b[37m\u001b[0m \u001b[1m0s\u001b[0m 710us/step\n",
      "\u001b[1m21/21\u001b[0m \u001b[32m━━━━━━━━━━━━━━━━━━━━\u001b[0m\u001b[37m\u001b[0m \u001b[1m0s\u001b[0m 707us/step\n",
      "\u001b[1m21/21\u001b[0m \u001b[32m━━━━━━━━━━━━━━━━━━━━\u001b[0m\u001b[37m\u001b[0m \u001b[1m0s\u001b[0m 719us/step\n",
      "\u001b[1m21/21\u001b[0m \u001b[32m━━━━━━━━━━━━━━━━━━━━\u001b[0m\u001b[37m\u001b[0m \u001b[1m0s\u001b[0m 710us/step\n",
      "\u001b[1m21/21\u001b[0m \u001b[32m━━━━━━━━━━━━━━━━━━━━\u001b[0m\u001b[37m\u001b[0m \u001b[1m0s\u001b[0m 1ms/step\n",
      "\u001b[1m21/21\u001b[0m \u001b[32m━━━━━━━━━━━━━━━━━━━━\u001b[0m\u001b[37m\u001b[0m \u001b[1m0s\u001b[0m 737us/step\n",
      "\u001b[1m21/21\u001b[0m \u001b[32m━━━━━━━━━━━━━━━━━━━━\u001b[0m\u001b[37m\u001b[0m \u001b[1m0s\u001b[0m 729us/step\n",
      "\u001b[1m21/21\u001b[0m \u001b[32m━━━━━━━━━━━━━━━━━━━━\u001b[0m\u001b[37m\u001b[0m \u001b[1m0s\u001b[0m 751us/step\n",
      "\u001b[1m21/21\u001b[0m \u001b[32m━━━━━━━━━━━━━━━━━━━━\u001b[0m\u001b[37m\u001b[0m \u001b[1m0s\u001b[0m 781us/step\n",
      "\u001b[1m21/21\u001b[0m \u001b[32m━━━━━━━━━━━━━━━━━━━━\u001b[0m\u001b[37m\u001b[0m \u001b[1m0s\u001b[0m 744us/step\n",
      "\u001b[1m21/21\u001b[0m \u001b[32m━━━━━━━━━━━━━━━━━━━━\u001b[0m\u001b[37m\u001b[0m \u001b[1m0s\u001b[0m 737us/step\n",
      "\u001b[1m21/21\u001b[0m \u001b[32m━━━━━━━━━━━━━━━━━━━━\u001b[0m\u001b[37m\u001b[0m \u001b[1m0s\u001b[0m 721us/step\n",
      "\u001b[1m21/21\u001b[0m \u001b[32m━━━━━━━━━━━━━━━━━━━━\u001b[0m\u001b[37m\u001b[0m \u001b[1m0s\u001b[0m 714us/step\n",
      "\u001b[1m21/21\u001b[0m \u001b[32m━━━━━━━━━━━━━━━━━━━━\u001b[0m\u001b[37m\u001b[0m \u001b[1m0s\u001b[0m 707us/step\n",
      "\u001b[1m21/21\u001b[0m \u001b[32m━━━━━━━━━━━━━━━━━━━━\u001b[0m\u001b[37m\u001b[0m \u001b[1m0s\u001b[0m 777us/step\n",
      "\u001b[1m21/21\u001b[0m \u001b[32m━━━━━━━━━━━━━━━━━━━━\u001b[0m\u001b[37m\u001b[0m \u001b[1m0s\u001b[0m 731us/step\n",
      "\u001b[1m21/21\u001b[0m \u001b[32m━━━━━━━━━━━━━━━━━━━━\u001b[0m\u001b[37m\u001b[0m \u001b[1m0s\u001b[0m 733us/step\n",
      "\u001b[1m21/21\u001b[0m \u001b[32m━━━━━━━━━━━━━━━━━━━━\u001b[0m\u001b[37m\u001b[0m \u001b[1m0s\u001b[0m 739us/step\n",
      "\u001b[1m21/21\u001b[0m \u001b[32m━━━━━━━━━━━━━━━━━━━━\u001b[0m\u001b[37m\u001b[0m \u001b[1m0s\u001b[0m 725us/step\n",
      "\u001b[1m21/21\u001b[0m \u001b[32m━━━━━━━━━━━━━━━━━━━━\u001b[0m\u001b[37m\u001b[0m \u001b[1m0s\u001b[0m 722us/step\n",
      "\u001b[1m21/21\u001b[0m \u001b[32m━━━━━━━━━━━━━━━━━━━━\u001b[0m\u001b[37m\u001b[0m \u001b[1m0s\u001b[0m 733us/step\n",
      "\u001b[1m21/21\u001b[0m \u001b[32m━━━━━━━━━━━━━━━━━━━━\u001b[0m\u001b[37m\u001b[0m \u001b[1m0s\u001b[0m 801us/step\n",
      "\u001b[1m21/21\u001b[0m \u001b[32m━━━━━━━━━━━━━━━━━━━━\u001b[0m\u001b[37m\u001b[0m \u001b[1m0s\u001b[0m 735us/step\n",
      "\u001b[1m21/21\u001b[0m \u001b[32m━━━━━━━━━━━━━━━━━━━━\u001b[0m\u001b[37m\u001b[0m \u001b[1m0s\u001b[0m 768us/step\n",
      "\u001b[1m21/21\u001b[0m \u001b[32m━━━━━━━━━━━━━━━━━━━━\u001b[0m\u001b[37m\u001b[0m \u001b[1m0s\u001b[0m 767us/step\n",
      "\u001b[1m21/21\u001b[0m \u001b[32m━━━━━━━━━━━━━━━━━━━━\u001b[0m\u001b[37m\u001b[0m \u001b[1m0s\u001b[0m 775us/step\n",
      "\u001b[1m21/21\u001b[0m \u001b[32m━━━━━━━━━━━━━━━━━━━━\u001b[0m\u001b[37m\u001b[0m \u001b[1m0s\u001b[0m 781us/step\n",
      "\u001b[1m21/21\u001b[0m \u001b[32m━━━━━━━━━━━━━━━━━━━━\u001b[0m\u001b[37m\u001b[0m \u001b[1m0s\u001b[0m 793us/step\n",
      "\u001b[1m21/21\u001b[0m \u001b[32m━━━━━━━━━━━━━━━━━━━━\u001b[0m\u001b[37m\u001b[0m \u001b[1m0s\u001b[0m 1ms/step\n",
      "\u001b[1m21/21\u001b[0m \u001b[32m━━━━━━━━━━━━━━━━━━━━\u001b[0m\u001b[37m\u001b[0m \u001b[1m0s\u001b[0m 712us/step\n",
      "\u001b[1m21/21\u001b[0m \u001b[32m━━━━━━━━━━━━━━━━━━━━\u001b[0m\u001b[37m\u001b[0m \u001b[1m0s\u001b[0m 709us/step\n",
      "\u001b[1m21/21\u001b[0m \u001b[32m━━━━━━━━━━━━━━━━━━━━\u001b[0m\u001b[37m\u001b[0m \u001b[1m0s\u001b[0m 716us/step\n",
      "\u001b[1m21/21\u001b[0m \u001b[32m━━━━━━━━━━━━━━━━━━━━\u001b[0m\u001b[37m\u001b[0m \u001b[1m0s\u001b[0m 722us/step\n",
      "\u001b[1m21/21\u001b[0m \u001b[32m━━━━━━━━━━━━━━━━━━━━\u001b[0m\u001b[37m\u001b[0m \u001b[1m0s\u001b[0m 722us/step\n",
      "\u001b[1m21/21\u001b[0m \u001b[32m━━━━━━━━━━━━━━━━━━━━\u001b[0m\u001b[37m\u001b[0m \u001b[1m0s\u001b[0m 728us/step\n",
      "\u001b[1m21/21\u001b[0m \u001b[32m━━━━━━━━━━━━━━━━━━━━\u001b[0m\u001b[37m\u001b[0m \u001b[1m0s\u001b[0m 777us/step\n",
      "\u001b[1m21/21\u001b[0m \u001b[32m━━━━━━━━━━━━━━━━━━━━\u001b[0m\u001b[37m\u001b[0m \u001b[1m0s\u001b[0m 719us/step\n",
      "\u001b[1m21/21\u001b[0m \u001b[32m━━━━━━━━━━━━━━━━━━━━\u001b[0m\u001b[37m\u001b[0m \u001b[1m0s\u001b[0m 740us/step\n",
      "\u001b[1m21/21\u001b[0m \u001b[32m━━━━━━━━━━━━━━━━━━━━\u001b[0m\u001b[37m\u001b[0m \u001b[1m0s\u001b[0m 724us/step\n",
      "\u001b[1m21/21\u001b[0m \u001b[32m━━━━━━━━━━━━━━━━━━━━\u001b[0m\u001b[37m\u001b[0m \u001b[1m0s\u001b[0m 726us/step\n",
      "\u001b[1m21/21\u001b[0m \u001b[32m━━━━━━━━━━━━━━━━━━━━\u001b[0m\u001b[37m\u001b[0m \u001b[1m0s\u001b[0m 709us/step\n",
      "\u001b[1m21/21\u001b[0m \u001b[32m━━━━━━━━━━━━━━━━━━━━\u001b[0m\u001b[37m\u001b[0m \u001b[1m0s\u001b[0m 727us/step\n",
      "\u001b[1m21/21\u001b[0m \u001b[32m━━━━━━━━━━━━━━━━━━━━\u001b[0m\u001b[37m\u001b[0m \u001b[1m0s\u001b[0m 697us/step\n",
      "\u001b[1m21/21\u001b[0m \u001b[32m━━━━━━━━━━━━━━━━━━━━\u001b[0m\u001b[37m\u001b[0m \u001b[1m0s\u001b[0m 731us/step\n",
      "\u001b[1m21/21\u001b[0m \u001b[32m━━━━━━━━━━━━━━━━━━━━\u001b[0m\u001b[37m\u001b[0m \u001b[1m0s\u001b[0m 720us/step\n",
      "\u001b[1m21/21\u001b[0m \u001b[32m━━━━━━━━━━━━━━━━━━━━\u001b[0m\u001b[37m\u001b[0m \u001b[1m0s\u001b[0m 803us/step\n",
      "\u001b[1m21/21\u001b[0m \u001b[32m━━━━━━━━━━━━━━━━━━━━\u001b[0m\u001b[37m\u001b[0m \u001b[1m0s\u001b[0m 844us/step\n",
      "\u001b[1m21/21\u001b[0m \u001b[32m━━━━━━━━━━━━━━━━━━━━\u001b[0m\u001b[37m\u001b[0m \u001b[1m0s\u001b[0m 778us/step\n",
      "\u001b[1m21/21\u001b[0m \u001b[32m━━━━━━━━━━━━━━━━━━━━\u001b[0m\u001b[37m\u001b[0m \u001b[1m0s\u001b[0m 745us/step\n",
      "\u001b[1m21/21\u001b[0m \u001b[32m━━━━━━━━━━━━━━━━━━━━\u001b[0m\u001b[37m\u001b[0m \u001b[1m0s\u001b[0m 727us/step\n",
      "\u001b[1m21/21\u001b[0m \u001b[32m━━━━━━━━━━━━━━━━━━━━\u001b[0m\u001b[37m\u001b[0m \u001b[1m0s\u001b[0m 755us/step\n",
      "\u001b[1m21/21\u001b[0m \u001b[32m━━━━━━━━━━━━━━━━━━━━\u001b[0m\u001b[37m\u001b[0m \u001b[1m0s\u001b[0m 729us/step\n",
      "\u001b[1m21/21\u001b[0m \u001b[32m━━━━━━━━━━━━━━━━━━━━\u001b[0m\u001b[37m\u001b[0m \u001b[1m0s\u001b[0m 709us/step\n",
      "\u001b[1m21/21\u001b[0m \u001b[32m━━━━━━━━━━━━━━━━━━━━\u001b[0m\u001b[37m\u001b[0m \u001b[1m0s\u001b[0m 715us/step\n",
      "\u001b[1m21/21\u001b[0m \u001b[32m━━━━━━━━━━━━━━━━━━━━\u001b[0m\u001b[37m\u001b[0m \u001b[1m0s\u001b[0m 818us/step\n",
      "\u001b[1m21/21\u001b[0m \u001b[32m━━━━━━━━━━━━━━━━━━━━\u001b[0m\u001b[37m\u001b[0m \u001b[1m0s\u001b[0m 1ms/step \n",
      "\u001b[1m21/21\u001b[0m \u001b[32m━━━━━━━━━━━━━━━━━━━━\u001b[0m\u001b[37m\u001b[0m \u001b[1m0s\u001b[0m 778us/step\n",
      "\u001b[1m21/21\u001b[0m \u001b[32m━━━━━━━━━━━━━━━━━━━━\u001b[0m\u001b[37m\u001b[0m \u001b[1m0s\u001b[0m 793us/step\n",
      "\u001b[1m21/21\u001b[0m \u001b[32m━━━━━━━━━━━━━━━━━━━━\u001b[0m\u001b[37m\u001b[0m \u001b[1m0s\u001b[0m 1ms/step \n",
      "\u001b[1m21/21\u001b[0m \u001b[32m━━━━━━━━━━━━━━━━━━━━\u001b[0m\u001b[37m\u001b[0m \u001b[1m0s\u001b[0m 858us/step\n",
      "\u001b[1m21/21\u001b[0m \u001b[32m━━━━━━━━━━━━━━━━━━━━\u001b[0m\u001b[37m\u001b[0m \u001b[1m0s\u001b[0m 804us/step\n",
      "\u001b[1m21/21\u001b[0m \u001b[32m━━━━━━━━━━━━━━━━━━━━\u001b[0m\u001b[37m\u001b[0m \u001b[1m0s\u001b[0m 781us/step\n",
      "\u001b[1m21/21\u001b[0m \u001b[32m━━━━━━━━━━━━━━━━━━━━\u001b[0m\u001b[37m\u001b[0m \u001b[1m0s\u001b[0m 802us/step\n",
      "\u001b[1m21/21\u001b[0m \u001b[32m━━━━━━━━━━━━━━━━━━━━\u001b[0m\u001b[37m\u001b[0m \u001b[1m0s\u001b[0m 746us/step\n",
      "\u001b[1m21/21\u001b[0m \u001b[32m━━━━━━━━━━━━━━━━━━━━\u001b[0m\u001b[37m\u001b[0m \u001b[1m0s\u001b[0m 744us/step\n",
      "\u001b[1m21/21\u001b[0m \u001b[32m━━━━━━━━━━━━━━━━━━━━\u001b[0m\u001b[37m\u001b[0m \u001b[1m0s\u001b[0m 795us/step\n",
      "\u001b[1m21/21\u001b[0m \u001b[32m━━━━━━━━━━━━━━━━━━━━\u001b[0m\u001b[37m\u001b[0m \u001b[1m0s\u001b[0m 730us/step\n",
      "\u001b[1m21/21\u001b[0m \u001b[32m━━━━━━━━━━━━━━━━━━━━\u001b[0m\u001b[37m\u001b[0m \u001b[1m0s\u001b[0m 713us/step\n",
      "\u001b[1m21/21\u001b[0m \u001b[32m━━━━━━━━━━━━━━━━━━━━\u001b[0m\u001b[37m\u001b[0m \u001b[1m0s\u001b[0m 733us/step\n",
      "\u001b[1m21/21\u001b[0m \u001b[32m━━━━━━━━━━━━━━━━━━━━\u001b[0m\u001b[37m\u001b[0m \u001b[1m0s\u001b[0m 721us/step\n",
      "\u001b[1m21/21\u001b[0m \u001b[32m━━━━━━━━━━━━━━━━━━━━\u001b[0m\u001b[37m\u001b[0m \u001b[1m0s\u001b[0m 722us/step\n",
      "\u001b[1m21/21\u001b[0m \u001b[32m━━━━━━━━━━━━━━━━━━━━\u001b[0m\u001b[37m\u001b[0m \u001b[1m0s\u001b[0m 737us/step\n",
      "\u001b[1m21/21\u001b[0m \u001b[32m━━━━━━━━━━━━━━━━━━━━\u001b[0m\u001b[37m\u001b[0m \u001b[1m0s\u001b[0m 761us/step\n",
      "\u001b[1m21/21\u001b[0m \u001b[32m━━━━━━━━━━━━━━━━━━━━\u001b[0m\u001b[37m\u001b[0m \u001b[1m0s\u001b[0m 750us/step\n",
      "\u001b[1m21/21\u001b[0m \u001b[32m━━━━━━━━━━━━━━━━━━━━\u001b[0m\u001b[37m\u001b[0m \u001b[1m0s\u001b[0m 747us/step\n",
      "\u001b[1m21/21\u001b[0m \u001b[32m━━━━━━━━━━━━━━━━━━━━\u001b[0m\u001b[37m\u001b[0m \u001b[1m0s\u001b[0m 716us/step\n",
      "\u001b[1m21/21\u001b[0m \u001b[32m━━━━━━━━━━━━━━━━━━━━\u001b[0m\u001b[37m\u001b[0m \u001b[1m0s\u001b[0m 711us/step\n",
      "\u001b[1m21/21\u001b[0m \u001b[32m━━━━━━━━━━━━━━━━━━━━\u001b[0m\u001b[37m\u001b[0m \u001b[1m0s\u001b[0m 708us/step\n",
      "\u001b[1m21/21\u001b[0m \u001b[32m━━━━━━━━━━━━━━━━━━━━\u001b[0m\u001b[37m\u001b[0m \u001b[1m0s\u001b[0m 723us/step\n",
      "\u001b[1m21/21\u001b[0m \u001b[32m━━━━━━━━━━━━━━━━━━━━\u001b[0m\u001b[37m\u001b[0m \u001b[1m0s\u001b[0m 717us/step\n",
      "\u001b[1m21/21\u001b[0m \u001b[32m━━━━━━━━━━━━━━━━━━━━\u001b[0m\u001b[37m\u001b[0m \u001b[1m0s\u001b[0m 717us/step\n",
      "\u001b[1m21/21\u001b[0m \u001b[32m━━━━━━━━━━━━━━━━━━━━\u001b[0m\u001b[37m\u001b[0m \u001b[1m0s\u001b[0m 715us/step\n",
      "\u001b[1m21/21\u001b[0m \u001b[32m━━━━━━━━━━━━━━━━━━━━\u001b[0m\u001b[37m\u001b[0m \u001b[1m0s\u001b[0m 716us/step\n",
      "\u001b[1m21/21\u001b[0m \u001b[32m━━━━━━━━━━━━━━━━━━━━\u001b[0m\u001b[37m\u001b[0m \u001b[1m0s\u001b[0m 748us/step\n",
      "\u001b[1m21/21\u001b[0m \u001b[32m━━━━━━━━━━━━━━━━━━━━\u001b[0m\u001b[37m\u001b[0m \u001b[1m0s\u001b[0m 809us/step\n",
      "\u001b[1m21/21\u001b[0m \u001b[32m━━━━━━━━━━━━━━━━━━━━\u001b[0m\u001b[37m\u001b[0m \u001b[1m0s\u001b[0m 766us/step\n",
      "\u001b[1m21/21\u001b[0m \u001b[32m━━━━━━━━━━━━━━━━━━━━\u001b[0m\u001b[37m\u001b[0m \u001b[1m0s\u001b[0m 755us/step\n",
      "\u001b[1m21/21\u001b[0m \u001b[32m━━━━━━━━━━━━━━━━━━━━\u001b[0m\u001b[37m\u001b[0m \u001b[1m0s\u001b[0m 761us/step\n",
      "\u001b[1m21/21\u001b[0m \u001b[32m━━━━━━━━━━━━━━━━━━━━\u001b[0m\u001b[37m\u001b[0m \u001b[1m0s\u001b[0m 759us/step\n",
      "\u001b[1m21/21\u001b[0m \u001b[32m━━━━━━━━━━━━━━━━━━━━\u001b[0m\u001b[37m\u001b[0m \u001b[1m0s\u001b[0m 796us/step\n",
      "\u001b[1m21/21\u001b[0m \u001b[32m━━━━━━━━━━━━━━━━━━━━\u001b[0m\u001b[37m\u001b[0m \u001b[1m0s\u001b[0m 777us/step\n",
      "\u001b[1m21/21\u001b[0m \u001b[32m━━━━━━━━━━━━━━━━━━━━\u001b[0m\u001b[37m\u001b[0m \u001b[1m0s\u001b[0m 1ms/step\n",
      "\u001b[1m21/21\u001b[0m \u001b[32m━━━━━━━━━━━━━━━━━━━━\u001b[0m\u001b[37m\u001b[0m \u001b[1m0s\u001b[0m 748us/step\n",
      "\u001b[1m21/21\u001b[0m \u001b[32m━━━━━━━━━━━━━━━━━━━━\u001b[0m\u001b[37m\u001b[0m \u001b[1m0s\u001b[0m 727us/step\n",
      "\u001b[1m21/21\u001b[0m \u001b[32m━━━━━━━━━━━━━━━━━━━━\u001b[0m\u001b[37m\u001b[0m \u001b[1m0s\u001b[0m 718us/step\n",
      "\u001b[1m21/21\u001b[0m \u001b[32m━━━━━━━━━━━━━━━━━━━━\u001b[0m\u001b[37m\u001b[0m \u001b[1m0s\u001b[0m 743us/step\n",
      "\u001b[1m21/21\u001b[0m \u001b[32m━━━━━━━━━━━━━━━━━━━━\u001b[0m\u001b[37m\u001b[0m \u001b[1m0s\u001b[0m 758us/step\n",
      "\u001b[1m21/21\u001b[0m \u001b[32m━━━━━━━━━━━━━━━━━━━━\u001b[0m\u001b[37m\u001b[0m \u001b[1m0s\u001b[0m 739us/step\n",
      "\u001b[1m21/21\u001b[0m \u001b[32m━━━━━━━━━━━━━━━━━━━━\u001b[0m\u001b[37m\u001b[0m \u001b[1m0s\u001b[0m 762us/step\n",
      "\u001b[1m21/21\u001b[0m \u001b[32m━━━━━━━━━━━━━━━━━━━━\u001b[0m\u001b[37m\u001b[0m \u001b[1m0s\u001b[0m 768us/step\n",
      "\u001b[1m21/21\u001b[0m \u001b[32m━━━━━━━━━━━━━━━━━━━━\u001b[0m\u001b[37m\u001b[0m \u001b[1m0s\u001b[0m 721us/step\n",
      "\u001b[1m21/21\u001b[0m \u001b[32m━━━━━━━━━━━━━━━━━━━━\u001b[0m\u001b[37m\u001b[0m \u001b[1m0s\u001b[0m 755us/step\n",
      "\u001b[1m21/21\u001b[0m \u001b[32m━━━━━━━━━━━━━━━━━━━━\u001b[0m\u001b[37m\u001b[0m \u001b[1m0s\u001b[0m 727us/step\n",
      "\u001b[1m21/21\u001b[0m \u001b[32m━━━━━━━━━━━━━━━━━━━━\u001b[0m\u001b[37m\u001b[0m \u001b[1m0s\u001b[0m 733us/step\n",
      "\u001b[1m21/21\u001b[0m \u001b[32m━━━━━━━━━━━━━━━━━━━━\u001b[0m\u001b[37m\u001b[0m \u001b[1m0s\u001b[0m 715us/step\n",
      "\u001b[1m21/21\u001b[0m \u001b[32m━━━━━━━━━━━━━━━━━━━━\u001b[0m\u001b[37m\u001b[0m \u001b[1m0s\u001b[0m 729us/step\n",
      "\u001b[1m21/21\u001b[0m \u001b[32m━━━━━━━━━━━━━━━━━━━━\u001b[0m\u001b[37m\u001b[0m \u001b[1m0s\u001b[0m 702us/step\n",
      "\u001b[1m21/21\u001b[0m \u001b[32m━━━━━━━━━━━━━━━━━━━━\u001b[0m\u001b[37m\u001b[0m \u001b[1m0s\u001b[0m 737us/step\n",
      "\u001b[1m21/21\u001b[0m \u001b[32m━━━━━━━━━━━━━━━━━━━━\u001b[0m\u001b[37m\u001b[0m \u001b[1m0s\u001b[0m 721us/step\n",
      "\u001b[1m21/21\u001b[0m \u001b[32m━━━━━━━━━━━━━━━━━━━━\u001b[0m\u001b[37m\u001b[0m \u001b[1m0s\u001b[0m 734us/step\n",
      "\u001b[1m21/21\u001b[0m \u001b[32m━━━━━━━━━━━━━━━━━━━━\u001b[0m\u001b[37m\u001b[0m \u001b[1m0s\u001b[0m 726us/step\n",
      "\u001b[1m21/21\u001b[0m \u001b[32m━━━━━━━━━━━━━━━━━━━━\u001b[0m\u001b[37m\u001b[0m \u001b[1m0s\u001b[0m 725us/step\n",
      "\u001b[1m21/21\u001b[0m \u001b[32m━━━━━━━━━━━━━━━━━━━━\u001b[0m\u001b[37m\u001b[0m \u001b[1m0s\u001b[0m 711us/step\n",
      "\u001b[1m21/21\u001b[0m \u001b[32m━━━━━━━━━━━━━━━━━━━━\u001b[0m\u001b[37m\u001b[0m \u001b[1m0s\u001b[0m 705us/step\n",
      "\u001b[1m21/21\u001b[0m \u001b[32m━━━━━━━━━━━━━━━━━━━━\u001b[0m\u001b[37m\u001b[0m \u001b[1m0s\u001b[0m 724us/step\n",
      "\u001b[1m21/21\u001b[0m \u001b[32m━━━━━━━━━━━━━━━━━━━━\u001b[0m\u001b[37m\u001b[0m \u001b[1m0s\u001b[0m 719us/step\n",
      "\u001b[1m21/21\u001b[0m \u001b[32m━━━━━━━━━━━━━━━━━━━━\u001b[0m\u001b[37m\u001b[0m \u001b[1m0s\u001b[0m 714us/step\n",
      "\u001b[1m21/21\u001b[0m \u001b[32m━━━━━━━━━━━━━━━━━━━━\u001b[0m\u001b[37m\u001b[0m \u001b[1m0s\u001b[0m 779us/step\n",
      "\u001b[1m21/21\u001b[0m \u001b[32m━━━━━━━━━━━━━━━━━━━━\u001b[0m\u001b[37m\u001b[0m \u001b[1m0s\u001b[0m 798us/step\n",
      "\u001b[1m21/21\u001b[0m \u001b[32m━━━━━━━━━━━━━━━━━━━━\u001b[0m\u001b[37m\u001b[0m \u001b[1m0s\u001b[0m 756us/step\n",
      "\u001b[1m21/21\u001b[0m \u001b[32m━━━━━━━━━━━━━━━━━━━━\u001b[0m\u001b[37m\u001b[0m \u001b[1m0s\u001b[0m 731us/step\n",
      "\u001b[1m21/21\u001b[0m \u001b[32m━━━━━━━━━━━━━━━━━━━━\u001b[0m\u001b[37m\u001b[0m \u001b[1m0s\u001b[0m 732us/step\n",
      "\u001b[1m21/21\u001b[0m \u001b[32m━━━━━━━━━━━━━━━━━━━━\u001b[0m\u001b[37m\u001b[0m \u001b[1m0s\u001b[0m 733us/step\n",
      "\u001b[1m21/21\u001b[0m \u001b[32m━━━━━━━━━━━━━━━━━━━━\u001b[0m\u001b[37m\u001b[0m \u001b[1m0s\u001b[0m 719us/step\n",
      "\u001b[1m21/21\u001b[0m \u001b[32m━━━━━━━━━━━━━━━━━━━━\u001b[0m\u001b[37m\u001b[0m \u001b[1m0s\u001b[0m 730us/step\n",
      "\u001b[1m21/21\u001b[0m \u001b[32m━━━━━━━━━━━━━━━━━━━━\u001b[0m\u001b[37m\u001b[0m \u001b[1m0s\u001b[0m 772us/step\n",
      "\u001b[1m21/21\u001b[0m \u001b[32m━━━━━━━━━━━━━━━━━━━━\u001b[0m\u001b[37m\u001b[0m \u001b[1m0s\u001b[0m 782us/step\n",
      "\u001b[1m21/21\u001b[0m \u001b[32m━━━━━━━━━━━━━━━━━━━━\u001b[0m\u001b[37m\u001b[0m \u001b[1m0s\u001b[0m 724us/step\n",
      "\u001b[1m21/21\u001b[0m \u001b[32m━━━━━━━━━━━━━━━━━━━━\u001b[0m\u001b[37m\u001b[0m \u001b[1m0s\u001b[0m 718us/step\n",
      "\u001b[1m21/21\u001b[0m \u001b[32m━━━━━━━━━━━━━━━━━━━━\u001b[0m\u001b[37m\u001b[0m \u001b[1m0s\u001b[0m 726us/step\n",
      "\u001b[1m21/21\u001b[0m \u001b[32m━━━━━━━━━━━━━━━━━━━━\u001b[0m\u001b[37m\u001b[0m \u001b[1m0s\u001b[0m 723us/step\n",
      "\u001b[1m21/21\u001b[0m \u001b[32m━━━━━━━━━━━━━━━━━━━━\u001b[0m\u001b[37m\u001b[0m \u001b[1m0s\u001b[0m 758us/step\n",
      "\u001b[1m21/21\u001b[0m \u001b[32m━━━━━━━━━━━━━━━━━━━━\u001b[0m\u001b[37m\u001b[0m \u001b[1m0s\u001b[0m 754us/step\n",
      "\u001b[1m21/21\u001b[0m \u001b[32m━━━━━━━━━━━━━━━━━━━━\u001b[0m\u001b[37m\u001b[0m \u001b[1m0s\u001b[0m 754us/step\n",
      "\u001b[1m21/21\u001b[0m \u001b[32m━━━━━━━━━━━━━━━━━━━━\u001b[0m\u001b[37m\u001b[0m \u001b[1m0s\u001b[0m 748us/step\n",
      "\u001b[1m21/21\u001b[0m \u001b[32m━━━━━━━━━━━━━━━━━━━━\u001b[0m\u001b[37m\u001b[0m \u001b[1m0s\u001b[0m 734us/step\n",
      "\u001b[1m21/21\u001b[0m \u001b[32m━━━━━━━━━━━━━━━━━━━━\u001b[0m\u001b[37m\u001b[0m \u001b[1m0s\u001b[0m 734us/step\n",
      "\u001b[1m21/21\u001b[0m \u001b[32m━━━━━━━━━━━━━━━━━━━━\u001b[0m\u001b[37m\u001b[0m \u001b[1m0s\u001b[0m 735us/step\n",
      "\u001b[1m21/21\u001b[0m \u001b[32m━━━━━━━━━━━━━━━━━━━━\u001b[0m\u001b[37m\u001b[0m \u001b[1m0s\u001b[0m 768us/step\n",
      "\u001b[1m21/21\u001b[0m \u001b[32m━━━━━━━━━━━━━━━━━━━━\u001b[0m\u001b[37m\u001b[0m \u001b[1m0s\u001b[0m 723us/step\n",
      "\u001b[1m21/21\u001b[0m \u001b[32m━━━━━━━━━━━━━━━━━━━━\u001b[0m\u001b[37m\u001b[0m \u001b[1m0s\u001b[0m 778us/step\n",
      "\u001b[1m21/21\u001b[0m \u001b[32m━━━━━━━━━━━━━━━━━━━━\u001b[0m\u001b[37m\u001b[0m \u001b[1m0s\u001b[0m 722us/step\n",
      "\u001b[1m21/21\u001b[0m \u001b[32m━━━━━━━━━━━━━━━━━━━━\u001b[0m\u001b[37m\u001b[0m \u001b[1m0s\u001b[0m 717us/step\n",
      "\u001b[1m21/21\u001b[0m \u001b[32m━━━━━━━━━━━━━━━━━━━━\u001b[0m\u001b[37m\u001b[0m \u001b[1m0s\u001b[0m 716us/step\n",
      "\u001b[1m21/21\u001b[0m \u001b[32m━━━━━━━━━━━━━━━━━━━━\u001b[0m\u001b[37m\u001b[0m \u001b[1m0s\u001b[0m 731us/step\n",
      "\u001b[1m21/21\u001b[0m \u001b[32m━━━━━━━━━━━━━━━━━━━━\u001b[0m\u001b[37m\u001b[0m \u001b[1m0s\u001b[0m 736us/step\n",
      "\u001b[1m21/21\u001b[0m \u001b[32m━━━━━━━━━━━━━━━━━━━━\u001b[0m\u001b[37m\u001b[0m \u001b[1m0s\u001b[0m 795us/step\n",
      "\u001b[1m21/21\u001b[0m \u001b[32m━━━━━━━━━━━━━━━━━━━━\u001b[0m\u001b[37m\u001b[0m \u001b[1m0s\u001b[0m 755us/step\n",
      "\u001b[1m21/21\u001b[0m \u001b[32m━━━━━━━━━━━━━━━━━━━━\u001b[0m\u001b[37m\u001b[0m \u001b[1m0s\u001b[0m 1ms/step\n",
      "\u001b[1m21/21\u001b[0m \u001b[32m━━━━━━━━━━━━━━━━━━━━\u001b[0m\u001b[37m\u001b[0m \u001b[1m0s\u001b[0m 744us/step\n",
      "\u001b[1m21/21\u001b[0m \u001b[32m━━━━━━━━━━━━━━━━━━━━\u001b[0m\u001b[37m\u001b[0m \u001b[1m0s\u001b[0m 778us/step\n",
      "\u001b[1m21/21\u001b[0m \u001b[32m━━━━━━━━━━━━━━━━━━━━\u001b[0m\u001b[37m\u001b[0m \u001b[1m0s\u001b[0m 828us/step\n",
      "\u001b[1m21/21\u001b[0m \u001b[32m━━━━━━━━━━━━━━━━━━━━\u001b[0m\u001b[37m\u001b[0m \u001b[1m0s\u001b[0m 764us/step\n",
      "\u001b[1m21/21\u001b[0m \u001b[32m━━━━━━━━━━━━━━━━━━━━\u001b[0m\u001b[37m\u001b[0m \u001b[1m0s\u001b[0m 754us/step\n",
      "                                   Feature  Importance\n",
      "1                       clinical → glucose    0.046544\n",
      "22                        clinical → hba1c    0.031029\n",
      "6                        clinical → height    0.012596\n",
      "16                 clinical → hypertensive    0.010138\n",
      "4                           clinical → age    0.008295\n",
      "30                    genetic → intergenic    0.007834\n",
      "8                           clinical → bmi    0.006912\n",
      "7                        clinical → weight    0.006298\n",
      "41  genetic → platform_affymetrix_illumina    0.006144\n",
      "14                   clinical → pulse_rate    0.005684\n",
      "34                   genetic → effect_size    0.005069\n",
      "15              clinical → family_diabetes    0.004916\n",
      "35               genetic → case_percentage    0.004762\n",
      "27                        genetic → chr_id    0.004147\n",
      "23                           clinical → tg    0.003840\n",
      "5                        clinical → gender    0.003840\n",
      "43               genetic → imputed_encoded    0.003687\n",
      "36                genetic → ci_lower_bound    0.003226\n",
      "12                          clinical → hip    0.003072\n",
      "28                       genetic → chr_pos    0.003072\n"
     ]
    },
    {
     "data": {
      "image/png": "[encoded data removed]",
      "text/plain": [
       "<Figure size 1000x600 with 1 Axes>"
      ]
     },
     "metadata": {},
     "output_type": "display_data"
    }
   ],
   "source": [
    "# Wrapper for fusion model to use with sklearn permutation_importance\n",
    "class FusionModelWrapper:\n",
    "    def __init__(self, model, modalities, dims):\n",
    "        self.model = model\n",
    "        self.modalities = modalities\n",
    "        self.dims = dims\n",
    "\n",
    "    def predict(self, X):\n",
    "        inputs = []\n",
    "        start = 0\n",
    "        for m in self.modalities:\n",
    "            dim = self.dims[m]\n",
    "            inputs.append(X[:, start:start + dim])\n",
    "            start += dim\n",
    "        probs = self.model.predict(inputs).flatten()\n",
    "        return (probs >= 0.5).astype(int)\n",
    "\n",
    "    def fit(self, X, y):\n",
    "        pass  # Needed for sklearn compatibility\n",
    "\n",
    "# Build feature names for clinical and genetic features\n",
    "feature_names = []\n",
    "for col in X_merged_clinical.columns:\n",
    "    feature_names.append(f\"clinical → {col}\")\n",
    "for col in X_genetic.columns:\n",
    "    feature_names.append(f\"genetic → {col}\")\n",
    "\n",
    "# Prepare test data for permutation importance\n",
    "modalities = [\"clinical\", \"genetic\"]\n",
    "X_dims = {m: X_te_inputs[i].shape[1] for i, m in enumerate(modalities)}\n",
    "X_te_concat = np.concatenate(X_te_inputs, axis=1)\n",
    "\n",
    "# Run permutation importance\n",
    "fusion_wrapper = FusionModelWrapper(model, modalities, X_dims)\n",
    "result = permutation_importance(\n",
    "    fusion_wrapper,\n",
    "    X_te_concat,\n",
    "    y_test,\n",
    "    n_repeats=10,\n",
    "    random_state=rs,\n",
    "    scoring='accuracy'\n",
    ")\n",
    "\n",
    "# Format and plot results\n",
    "importances_df = pd.DataFrame({\n",
    "    \"Feature\": feature_names,\n",
    "    \"Importance\": result.importances_mean\n",
    "}).sort_values(by=\"Importance\", ascending=False)\n",
    "\n",
    "print(importances_df.head(20))\n",
    "\n",
    "plt.figure(figsize=(10, 6))\n",
    "plt.barh(importances_df[\"Feature\"].head(20), importances_df[\"Importance\"].head(20))\n",
    "plt.xlabel(\"Mean Importance\")\n",
    "plt.title(\"Top 20 Feature Importances (Permutation)\\n(Dataset → Feature)\")\n",
    "plt.gca().invert_yaxis()\n",
    "plt.grid(True)\n",
    "plt.tight_layout()\n",
    "plt.show()"
   ]
  },
  {
   "cell_type": "markdown",
   "metadata": {},
   "source": [
    "Training the model"
   ]
  },
  {
   "cell_type": "code",
   "execution_count": 70,
   "metadata": {},
   "outputs": [
    {
     "name": "stdout",
     "output_type": "stream",
     "text": [
      "Epoch 1/100\n",
      "\u001b[1m54/82\u001b[0m \u001b[32m━━━━━━━━━━━━━\u001b[0m\u001b[37m━━━━━━━\u001b[0m \u001b[1m0s\u001b[0m 947us/step - accuracy: 0.4823 - loss: 0.3807Epoch 001 | loss=0.3677, acc=0.6242 | val_loss=0.3443, val_acc=0.9217 | 1.91s\n",
      "\u001b[1m82/82\u001b[0m \u001b[32m━━━━━━━━━━━━━━━━━━━━\u001b[0m\u001b[37m\u001b[0m \u001b[1m2s\u001b[0m 3ms/step - accuracy: 0.5245 - loss: 0.3771 - val_accuracy: 0.9217 - val_loss: 0.3443 - learning_rate: 1.0000e-04\n",
      "Epoch 2/100\n",
      "\u001b[1m51/82\u001b[0m \u001b[32m━━━━━━━━━━━━\u001b[0m\u001b[37m━━━━━━━━\u001b[0m \u001b[1m0s\u001b[0m 1ms/step - accuracy: 0.7809 - loss: 0.3494 Epoch 002 | loss=0.3426, acc=0.8173 | val_loss=0.3283, val_acc=0.9232 | 0.13s\n",
      "\u001b[1m82/82\u001b[0m \u001b[32m━━━━━━━━━━━━━━━━━━━━\u001b[0m\u001b[37m\u001b[0m \u001b[1m0s\u001b[0m 1ms/step - accuracy: 0.7906 - loss: 0.3476 - val_accuracy: 0.9232 - val_loss: 0.3283 - learning_rate: 1.0000e-04\n",
      "Epoch 3/100\n",
      "\u001b[1m52/82\u001b[0m \u001b[32m━━━━━━━━━━━━\u001b[0m\u001b[37m━━━━━━━━\u001b[0m \u001b[1m0s\u001b[0m 996us/step - accuracy: 0.8710 - loss: 0.3295Epoch 003 | loss=0.3258, acc=0.8812 | val_loss=0.3152, val_acc=0.9232 | 0.13s\n",
      "\u001b[1m82/82\u001b[0m \u001b[32m━━━━━━━━━━━━━━━━━━━━\u001b[0m\u001b[37m\u001b[0m \u001b[1m0s\u001b[0m 1ms/step - accuracy: 0.8746 - loss: 0.3284 - val_accuracy: 0.9232 - val_loss: 0.3152 - learning_rate: 1.0000e-04\n",
      "Epoch 4/100\n",
      "\u001b[1m50/82\u001b[0m \u001b[32m━━━━━━━━━━━━\u001b[0m\u001b[37m━━━━━━━━\u001b[0m \u001b[1m0s\u001b[0m 1ms/step - accuracy: 0.8851 - loss: 0.3190 Epoch 004 | loss=0.3153, acc=0.8877 | val_loss=0.3035, val_acc=0.9232 | 0.13s\n",
      "\u001b[1m82/82\u001b[0m \u001b[32m━━━━━━━━━━━━━━━━━━━━\u001b[0m\u001b[37m\u001b[0m \u001b[1m0s\u001b[0m 1ms/step - accuracy: 0.8861 - loss: 0.3179 - val_accuracy: 0.9232 - val_loss: 0.3035 - learning_rate: 1.0000e-04\n",
      "Epoch 5/100\n",
      "\u001b[1m50/82\u001b[0m \u001b[32m━━━━━━━━━━━━\u001b[0m\u001b[37m━━━━━━━━\u001b[0m \u001b[1m0s\u001b[0m 1ms/step - accuracy: 0.8993 - loss: 0.3066 Epoch 005 | loss=0.3032, acc=0.9019 | val_loss=0.2923, val_acc=0.9232 | 0.13s\n",
      "\u001b[1m82/82\u001b[0m \u001b[32m━━━━━━━━━━━━━━━━━━━━\u001b[0m\u001b[37m\u001b[0m \u001b[1m0s\u001b[0m 1ms/step - accuracy: 0.9002 - loss: 0.3058 - val_accuracy: 0.9232 - val_loss: 0.2923 - learning_rate: 1.0000e-04\n",
      "Epoch 6/100\n",
      "\u001b[1m49/82\u001b[0m \u001b[32m━━━━━━━━━━━\u001b[0m\u001b[37m━━━━━━━━━\u001b[0m \u001b[1m0s\u001b[0m 1ms/step - accuracy: 0.9072 - loss: 0.2931 Epoch 006 | loss=0.2921, acc=0.9027 | val_loss=0.2815, val_acc=0.9232 | 0.13s\n",
      "\u001b[1m82/82\u001b[0m \u001b[32m━━━━━━━━━━━━━━━━━━━━\u001b[0m\u001b[37m\u001b[0m \u001b[1m0s\u001b[0m 1ms/step - accuracy: 0.9044 - loss: 0.2933 - val_accuracy: 0.9232 - val_loss: 0.2815 - learning_rate: 1.0000e-04\n",
      "Epoch 7/100\n",
      "\u001b[1m50/82\u001b[0m \u001b[32m━━━━━━━━━━━━\u001b[0m\u001b[37m━━━━━━━━\u001b[0m \u001b[1m0s\u001b[0m 1ms/step - accuracy: 0.9149 - loss: 0.2813 Epoch 007 | loss=0.2799, acc=0.9069 | val_loss=0.2710, val_acc=0.9232 | 0.13s\n",
      "\u001b[1m82/82\u001b[0m \u001b[32m━━━━━━━━━━━━━━━━━━━━\u001b[0m\u001b[37m\u001b[0m \u001b[1m0s\u001b[0m 1ms/step - accuracy: 0.9122 - loss: 0.2807 - val_accuracy: 0.9232 - val_loss: 0.2710 - learning_rate: 1.0000e-04\n",
      "Epoch 8/100\n",
      "\u001b[1m51/82\u001b[0m \u001b[32m━━━━━━━━━━━━\u001b[0m\u001b[37m━━━━━━━━\u001b[0m \u001b[1m0s\u001b[0m 1ms/step - accuracy: 0.9096 - loss: 0.2733 Epoch 008 | loss=0.2704, acc=0.9077 | val_loss=0.2611, val_acc=0.9232 | 0.13s\n",
      "\u001b[1m82/82\u001b[0m \u001b[32m━━━━━━━━━━━━━━━━━━━━\u001b[0m\u001b[37m\u001b[0m \u001b[1m0s\u001b[0m 1ms/step - accuracy: 0.9090 - loss: 0.2723 - val_accuracy: 0.9232 - val_loss: 0.2611 - learning_rate: 1.0000e-04\n",
      "Epoch 9/100\n",
      "\u001b[1m51/82\u001b[0m \u001b[32m━━━━━━━━━━━━\u001b[0m\u001b[37m━━━━━━━━\u001b[0m \u001b[1m0s\u001b[0m 1ms/step - accuracy: 0.9172 - loss: 0.2596 Epoch 009 | loss=0.2599, acc=0.9085 | val_loss=0.2513, val_acc=0.9232 | 0.13s\n",
      "\u001b[1m82/82\u001b[0m \u001b[32m━━━━━━━━━━━━━━━━━━━━\u001b[0m\u001b[37m\u001b[0m \u001b[1m0s\u001b[0m 1ms/step - accuracy: 0.9144 - loss: 0.2597 - val_accuracy: 0.9232 - val_loss: 0.2513 - learning_rate: 1.0000e-04\n",
      "Epoch 10/100\n",
      "\u001b[1m51/82\u001b[0m \u001b[32m━━━━━━━━━━━━\u001b[0m\u001b[37m━━━━━━━━\u001b[0m \u001b[1m0s\u001b[0m 1ms/step - accuracy: 0.9108 - loss: 0.2549 Epoch 010 | loss=0.2512, acc=0.9142 | val_loss=0.2420, val_acc=0.9232 | 0.13s\n",
      "\u001b[1m82/82\u001b[0m \u001b[32m━━━━━━━━━━━━━━━━━━━━\u001b[0m\u001b[37m\u001b[0m \u001b[1m0s\u001b[0m 1ms/step - accuracy: 0.9112 - loss: 0.2540 - val_accuracy: 0.9232 - val_loss: 0.2420 - learning_rate: 1.0000e-04\n",
      "Epoch 11/100\n",
      "\u001b[1m50/82\u001b[0m \u001b[32m━━━━━━━━━━━━\u001b[0m\u001b[37m━━━━━━━━\u001b[0m \u001b[1m0s\u001b[0m 1ms/step - accuracy: 0.8933 - loss: 0.2494 Epoch 011 | loss=0.2398, acc=0.9188 | val_loss=0.2330, val_acc=0.9232 | 0.13s\n",
      "\u001b[1m82/82\u001b[0m \u001b[32m━━━━━━━━━━━━━━━━━━━━\u001b[0m\u001b[37m\u001b[0m \u001b[1m0s\u001b[0m 1ms/step - accuracy: 0.9023 - loss: 0.2462 - val_accuracy: 0.9232 - val_loss: 0.2330 - learning_rate: 1.0000e-04\n",
      "Epoch 12/100\n",
      "\u001b[1m50/82\u001b[0m \u001b[32m━━━━━━━━━━━━\u001b[0m\u001b[37m━━━━━━━━\u001b[0m \u001b[1m0s\u001b[0m 1ms/step - accuracy: 0.9133 - loss: 0.2336 Epoch 012 | loss=0.2320, acc=0.9131 | val_loss=0.2242, val_acc=0.9217 | 0.13s\n",
      "\u001b[1m82/82\u001b[0m \u001b[32m━━━━━━━━━━━━━━━━━━━━\u001b[0m\u001b[37m\u001b[0m \u001b[1m0s\u001b[0m 1ms/step - accuracy: 0.9130 - loss: 0.2332 - val_accuracy: 0.9217 - val_loss: 0.2242 - learning_rate: 1.0000e-04\n",
      "Epoch 13/100\n",
      "\u001b[1m50/82\u001b[0m \u001b[32m━━━━━━━━━━━━\u001b[0m\u001b[37m━━━━━━━━\u001b[0m \u001b[1m0s\u001b[0m 1ms/step - accuracy: 0.9151 - loss: 0.2233 Epoch 013 | loss=0.2221, acc=0.9162 | val_loss=0.2157, val_acc=0.9217 | 0.13s\n",
      "\u001b[1m82/82\u001b[0m \u001b[32m━━━━━━━━━━━━━━━━━━━━\u001b[0m\u001b[37m\u001b[0m \u001b[1m0s\u001b[0m 1ms/step - accuracy: 0.9162 - loss: 0.2229 - val_accuracy: 0.9217 - val_loss: 0.2157 - learning_rate: 1.0000e-04\n",
      "Epoch 14/100\n",
      "\u001b[1m48/82\u001b[0m \u001b[32m━━━━━━━━━━━\u001b[0m\u001b[37m━━━━━━━━━\u001b[0m \u001b[1m0s\u001b[0m 1ms/step - accuracy: 0.9112 - loss: 0.2191 Epoch 014 | loss=0.2134, acc=0.9138 | val_loss=0.2075, val_acc=0.9232 | 0.13s\n",
      "\u001b[1m82/82\u001b[0m \u001b[32m━━━━━━━━━━━━━━━━━━━━\u001b[0m\u001b[37m\u001b[0m \u001b[1m0s\u001b[0m 1ms/step - accuracy: 0.9127 - loss: 0.2169 - val_accuracy: 0.9232 - val_loss: 0.2075 - learning_rate: 1.0000e-04\n",
      "Epoch 15/100\n",
      "\u001b[1m51/82\u001b[0m \u001b[32m━━━━━━━━━━━━\u001b[0m\u001b[37m━━━━━━━━\u001b[0m \u001b[1m0s\u001b[0m 1ms/step - accuracy: 0.9280 - loss: 0.2077 Epoch 015 | loss=0.2047, acc=0.9227 | val_loss=0.1995, val_acc=0.9232 | 0.13s\n",
      "\u001b[1m82/82\u001b[0m \u001b[32m━━━━━━━━━━━━━━━━━━━━\u001b[0m\u001b[37m\u001b[0m \u001b[1m0s\u001b[0m 1ms/step - accuracy: 0.9270 - loss: 0.2068 - val_accuracy: 0.9232 - val_loss: 0.1995 - learning_rate: 1.0000e-04\n",
      "Epoch 16/100\n",
      "\u001b[1m49/82\u001b[0m \u001b[32m━━━━━━━━━━━\u001b[0m\u001b[37m━━━━━━━━━\u001b[0m \u001b[1m0s\u001b[0m 1ms/step - accuracy: 0.9107 - loss: 0.2015 Epoch 016 | loss=0.1981, acc=0.9162 | val_loss=0.1918, val_acc=0.9232 | 0.13s\n",
      "\u001b[1m82/82\u001b[0m \u001b[32m━━━━━━━━━━━━━━━━━━━━\u001b[0m\u001b[37m\u001b[0m \u001b[1m0s\u001b[0m 1ms/step - accuracy: 0.9127 - loss: 0.2001 - val_accuracy: 0.9232 - val_loss: 0.1918 - learning_rate: 1.0000e-04\n",
      "Epoch 17/100\n",
      "\u001b[1m51/82\u001b[0m \u001b[32m━━━━━━━━━━━━\u001b[0m\u001b[37m━━━━━━━━\u001b[0m \u001b[1m0s\u001b[0m 1ms/step - accuracy: 0.9190 - loss: 0.1955 Epoch 017 | loss=0.1899, acc=0.9192 | val_loss=0.1844, val_acc=0.9232 | 0.13s\n",
      "\u001b[1m82/82\u001b[0m \u001b[32m━━━━━━━━━━━━━━━━━━━━\u001b[0m\u001b[37m\u001b[0m \u001b[1m0s\u001b[0m 1ms/step - accuracy: 0.9200 - loss: 0.1936 - val_accuracy: 0.9232 - val_loss: 0.1844 - learning_rate: 1.0000e-04\n",
      "Epoch 18/100\n",
      "\u001b[1m49/82\u001b[0m \u001b[32m━━━━━━━━━━━\u001b[0m\u001b[37m━━━━━━━━━\u001b[0m \u001b[1m0s\u001b[0m 1ms/step - accuracy: 0.9278 - loss: 0.1833 Epoch 018 | loss=0.1816, acc=0.9219 | val_loss=0.1772, val_acc=0.9247 | 0.13s\n",
      "\u001b[1m82/82\u001b[0m \u001b[32m━━━━━━━━━━━━━━━━━━━━\u001b[0m\u001b[37m\u001b[0m \u001b[1m0s\u001b[0m 1ms/step - accuracy: 0.9252 - loss: 0.1828 - val_accuracy: 0.9247 - val_loss: 0.1772 - learning_rate: 1.0000e-04\n",
      "Epoch 19/100\n",
      "\u001b[1m51/82\u001b[0m \u001b[32m━━━━━━━━━━━━\u001b[0m\u001b[37m━━━━━━━━\u001b[0m \u001b[1m0s\u001b[0m 1ms/step - accuracy: 0.9164 - loss: 0.1773 Epoch 019 | loss=0.1746, acc=0.9204 | val_loss=0.1701, val_acc=0.9232 | 0.13s\n",
      "\u001b[1m82/82\u001b[0m \u001b[32m━━━━━━━━━━━━━━━━━━━━\u001b[0m\u001b[37m\u001b[0m \u001b[1m0s\u001b[0m 1ms/step - accuracy: 0.9173 - loss: 0.1765 - val_accuracy: 0.9232 - val_loss: 0.1701 - learning_rate: 1.0000e-04\n",
      "Epoch 20/100\n",
      "\u001b[1m50/82\u001b[0m \u001b[32m━━━━━━━━━━━━\u001b[0m\u001b[37m━━━━━━━━\u001b[0m \u001b[1m0s\u001b[0m 1ms/step - accuracy: 0.9196 - loss: 0.1702 Epoch 020 | loss=0.1694, acc=0.9208 | val_loss=0.1635, val_acc=0.9232 | 0.13s\n",
      "\u001b[1m82/82\u001b[0m \u001b[32m━━━━━━━━━━━━━━━━━━━━\u001b[0m\u001b[37m\u001b[0m \u001b[1m0s\u001b[0m 1ms/step - accuracy: 0.9194 - loss: 0.1703 - val_accuracy: 0.9232 - val_loss: 0.1635 - learning_rate: 1.0000e-04\n",
      "Epoch 21/100\n",
      "\u001b[1m51/82\u001b[0m \u001b[32m━━━━━━━━━━━━\u001b[0m\u001b[37m━━━━━━━━\u001b[0m \u001b[1m0s\u001b[0m 1ms/step - accuracy: 0.9219 - loss: 0.1643 Epoch 021 | loss=0.1621, acc=0.9204 | val_loss=0.1571, val_acc=0.9263 | 0.13s\n",
      "\u001b[1m82/82\u001b[0m \u001b[32m━━━━━━━━━━━━━━━━━━━━\u001b[0m\u001b[37m\u001b[0m \u001b[1m0s\u001b[0m 1ms/step - accuracy: 0.9225 - loss: 0.1636 - val_accuracy: 0.9263 - val_loss: 0.1571 - learning_rate: 1.0000e-04\n",
      "Epoch 22/100\n",
      "\u001b[1m50/82\u001b[0m \u001b[32m━━━━━━━━━━━━\u001b[0m\u001b[37m━━━━━━━━\u001b[0m \u001b[1m0s\u001b[0m 1ms/step - accuracy: 0.9219 - loss: 0.1598 Epoch 022 | loss=0.1554, acc=0.9273 | val_loss=0.1509, val_acc=0.9247 | 0.13s\n",
      "\u001b[1m82/82\u001b[0m \u001b[32m━━━━━━━━━━━━━━━━━━━━\u001b[0m\u001b[37m\u001b[0m \u001b[1m0s\u001b[0m 1ms/step - accuracy: 0.9240 - loss: 0.1584 - val_accuracy: 0.9247 - val_loss: 0.1509 - learning_rate: 1.0000e-04\n",
      "Epoch 23/100\n",
      "\u001b[1m49/82\u001b[0m \u001b[32m━━━━━━━━━━━\u001b[0m\u001b[37m━━━━━━━━━\u001b[0m \u001b[1m0s\u001b[0m 1ms/step - accuracy: 0.9175 - loss: 0.1518 Epoch 023 | loss=0.1491, acc=0.9219 | val_loss=0.1449, val_acc=0.9247 | 0.13s\n",
      "\u001b[1m82/82\u001b[0m \u001b[32m━━━━━━━━━━━━━━━━━━━━\u001b[0m\u001b[37m\u001b[0m \u001b[1m0s\u001b[0m 1ms/step - accuracy: 0.9188 - loss: 0.1511 - val_accuracy: 0.9247 - val_loss: 0.1449 - learning_rate: 1.0000e-04\n",
      "Epoch 24/100\n",
      "\u001b[1m50/82\u001b[0m \u001b[32m━━━━━━━━━━━━\u001b[0m\u001b[37m━━━━━━━━\u001b[0m \u001b[1m0s\u001b[0m 1ms/step - accuracy: 0.9186 - loss: 0.1466 Epoch 024 | loss=0.1422, acc=0.9312 | val_loss=0.1392, val_acc=0.9247 | 0.13s\n",
      "\u001b[1m82/82\u001b[0m \u001b[32m━━━━━━━━━━━━━━━━━━━━\u001b[0m\u001b[37m\u001b[0m \u001b[1m0s\u001b[0m 1ms/step - accuracy: 0.9224 - loss: 0.1452 - val_accuracy: 0.9247 - val_loss: 0.1392 - learning_rate: 1.0000e-04\n",
      "Epoch 25/100\n",
      "\u001b[1m51/82\u001b[0m \u001b[32m━━━━━━━━━━━━\u001b[0m\u001b[37m━━━━━━━━\u001b[0m \u001b[1m0s\u001b[0m 1ms/step - accuracy: 0.9304 - loss: 0.1377 Epoch 025 | loss=0.1365, acc=0.9288 | val_loss=0.1337, val_acc=0.9263 | 0.13s\n",
      "\u001b[1m82/82\u001b[0m \u001b[32m━━━━━━━━━━━━━━━━━━━━\u001b[0m\u001b[37m\u001b[0m \u001b[1m0s\u001b[0m 1ms/step - accuracy: 0.9298 - loss: 0.1374 - val_accuracy: 0.9263 - val_loss: 0.1337 - learning_rate: 1.0000e-04\n",
      "Epoch 26/100\n",
      "\u001b[1m50/82\u001b[0m \u001b[32m━━━━━━━━━━━━\u001b[0m\u001b[37m━━━━━━━━\u001b[0m \u001b[1m0s\u001b[0m 1ms/step - accuracy: 0.9252 - loss: 0.1320 Epoch 026 | loss=0.1313, acc=0.9258 | val_loss=0.1283, val_acc=0.9263 | 0.13s\n",
      "\u001b[1m82/82\u001b[0m \u001b[32m━━━━━━━━━━━━━━━━━━━━\u001b[0m\u001b[37m\u001b[0m \u001b[1m0s\u001b[0m 1ms/step - accuracy: 0.9243 - loss: 0.1320 - val_accuracy: 0.9263 - val_loss: 0.1283 - learning_rate: 1.0000e-04\n",
      "Epoch 27/100\n",
      "\u001b[1m50/82\u001b[0m \u001b[32m━━━━━━━━━━━━\u001b[0m\u001b[37m━━━━━━━━\u001b[0m \u001b[1m0s\u001b[0m 1ms/step - accuracy: 0.9214 - loss: 0.1297 Epoch 027 | loss=0.1264, acc=0.9269 | val_loss=0.1231, val_acc=0.9247 | 0.13s\n",
      "\u001b[1m82/82\u001b[0m \u001b[32m━━━━━━━━━━━━━━━━━━━━\u001b[0m\u001b[37m\u001b[0m \u001b[1m0s\u001b[0m 1ms/step - accuracy: 0.9232 - loss: 0.1286 - val_accuracy: 0.9247 - val_loss: 0.1231 - learning_rate: 1.0000e-04\n",
      "Epoch 28/100\n",
      "\u001b[1m51/82\u001b[0m \u001b[32m━━━━━━━━━━━━\u001b[0m\u001b[37m━━━━━━━━\u001b[0m \u001b[1m0s\u001b[0m 1ms/step - accuracy: 0.9256 - loss: 0.1235 Epoch 028 | loss=0.1215, acc=0.9285 | val_loss=0.1181, val_acc=0.9247 | 0.13s\n",
      "\u001b[1m82/82\u001b[0m \u001b[32m━━━━━━━━━━━━━━━━━━━━\u001b[0m\u001b[37m\u001b[0m \u001b[1m0s\u001b[0m 1ms/step - accuracy: 0.9271 - loss: 0.1228 - val_accuracy: 0.9247 - val_loss: 0.1181 - learning_rate: 1.0000e-04\n",
      "Epoch 29/100\n",
      "\u001b[1m50/82\u001b[0m \u001b[32m━━━━━━━━━━━━\u001b[0m\u001b[37m━━━━━━━━\u001b[0m \u001b[1m0s\u001b[0m 1ms/step - accuracy: 0.9235 - loss: 0.1187 Epoch 029 | loss=0.1156, acc=0.9296 | val_loss=0.1135, val_acc=0.9232 | 0.13s\n",
      "\u001b[1m82/82\u001b[0m \u001b[32m━━━━━━━━━━━━━━━━━━━━\u001b[0m\u001b[37m\u001b[0m \u001b[1m0s\u001b[0m 1ms/step - accuracy: 0.9254 - loss: 0.1178 - val_accuracy: 0.9232 - val_loss: 0.1135 - learning_rate: 1.0000e-04\n",
      "Epoch 30/100\n",
      "\u001b[1m51/82\u001b[0m \u001b[32m━━━━━━━━━━━━\u001b[0m\u001b[37m━━━━━━━━\u001b[0m \u001b[1m0s\u001b[0m 1ms/step - accuracy: 0.9477 - loss: 0.1098 Epoch 030 | loss=0.1113, acc=0.9281 | val_loss=0.1091, val_acc=0.9232 | 0.13s\n",
      "\u001b[1m82/82\u001b[0m \u001b[32m━━━━━━━━━━━━━━━━━━━━\u001b[0m\u001b[37m\u001b[0m \u001b[1m0s\u001b[0m 1ms/step - accuracy: 0.9415 - loss: 0.1102 - val_accuracy: 0.9232 - val_loss: 0.1091 - learning_rate: 1.0000e-04\n",
      "Epoch 31/100\n",
      "\u001b[1m50/82\u001b[0m \u001b[32m━━━━━━━━━━━━\u001b[0m\u001b[37m━━━━━━━━\u001b[0m \u001b[1m0s\u001b[0m 1ms/step - accuracy: 0.9164 - loss: 0.1100 Epoch 031 | loss=0.1073, acc=0.9254 | val_loss=0.1048, val_acc=0.9217 | 0.13s\n",
      "\u001b[1m82/82\u001b[0m \u001b[32m━━━━━━━━━━━━━━━━━━━━\u001b[0m\u001b[37m\u001b[0m \u001b[1m0s\u001b[0m 1ms/step - accuracy: 0.9191 - loss: 0.1093 - val_accuracy: 0.9217 - val_loss: 0.1048 - learning_rate: 1.0000e-04\n",
      "Epoch 32/100\n",
      "\u001b[1m50/82\u001b[0m \u001b[32m━━━━━━━━━━━━\u001b[0m\u001b[37m━━━━━━━━\u001b[0m \u001b[1m0s\u001b[0m 1ms/step - accuracy: 0.9229 - loss: 0.1051 Epoch 032 | loss=0.1031, acc=0.9304 | val_loss=0.1007, val_acc=0.9217 | 0.13s\n",
      "\u001b[1m82/82\u001b[0m \u001b[32m━━━━━━━━━━━━━━━━━━━━\u001b[0m\u001b[37m\u001b[0m \u001b[1m0s\u001b[0m 2ms/step - accuracy: 0.9254 - loss: 0.1046 - val_accuracy: 0.9217 - val_loss: 0.1007 - learning_rate: 1.0000e-04\n",
      "Epoch 33/100\n",
      "\u001b[1m49/82\u001b[0m \u001b[32m━━━━━━━━━━━\u001b[0m\u001b[37m━━━━━━━━━\u001b[0m \u001b[1m0s\u001b[0m 1ms/step - accuracy: 0.9336 - loss: 0.0997 Epoch 033 | loss=0.0988, acc=0.9292 | val_loss=0.0966, val_acc=0.9217 | 0.13s\n",
      "\u001b[1m82/82\u001b[0m \u001b[32m━━━━━━━━━━━━━━━━━━━━\u001b[0m\u001b[37m\u001b[0m \u001b[1m0s\u001b[0m 2ms/step - accuracy: 0.9315 - loss: 0.0995 - val_accuracy: 0.9217 - val_loss: 0.0966 - learning_rate: 1.0000e-04\n",
      "Epoch 34/100\n",
      "\u001b[1m42/82\u001b[0m \u001b[32m━━━━━━━━━━\u001b[0m\u001b[37m━━━━━━━━━━\u001b[0m \u001b[1m0s\u001b[0m 1ms/step - accuracy: 0.9317 - loss: 0.0949 Epoch 034 | loss=0.0942, acc=0.9342 | val_loss=0.0929, val_acc=0.9232 | 0.14s\n",
      "\u001b[1m82/82\u001b[0m \u001b[32m━━━━━━━━━━━━━━━━━━━━\u001b[0m\u001b[37m\u001b[0m \u001b[1m0s\u001b[0m 2ms/step - accuracy: 0.9329 - loss: 0.0946 - val_accuracy: 0.9232 - val_loss: 0.0929 - learning_rate: 1.0000e-04\n",
      "Epoch 35/100\n",
      "\u001b[1m51/82\u001b[0m \u001b[32m━━━━━━━━━━━━\u001b[0m\u001b[37m━━━━━━━━\u001b[0m \u001b[1m0s\u001b[0m 1ms/step - accuracy: 0.9271 - loss: 0.0927 Epoch 035 | loss=0.0912, acc=0.9300 | val_loss=0.0893, val_acc=0.9232 | 0.13s\n",
      "\u001b[1m82/82\u001b[0m \u001b[32m━━━━━━━━━━━━━━━━━━━━\u001b[0m\u001b[37m\u001b[0m \u001b[1m0s\u001b[0m 2ms/step - accuracy: 0.9280 - loss: 0.0922 - val_accuracy: 0.9232 - val_loss: 0.0893 - learning_rate: 1.0000e-04\n",
      "Epoch 36/100\n",
      "\u001b[1m69/82\u001b[0m \u001b[32m━━━━━━━━━━━━━━━━\u001b[0m\u001b[37m━━━━\u001b[0m \u001b[1m0s\u001b[0m 1ms/step - accuracy: 0.9290 - loss: 0.0895Epoch 036 | loss=0.0873, acc=0.9269 | val_loss=0.0859, val_acc=0.9247 | 0.18s\n",
      "\u001b[1m82/82\u001b[0m \u001b[32m━━━━━━━━━━━━━━━━━━━━\u001b[0m\u001b[37m\u001b[0m \u001b[1m0s\u001b[0m 2ms/step - accuracy: 0.9288 - loss: 0.0892 - val_accuracy: 0.9247 - val_loss: 0.0859 - learning_rate: 1.0000e-04\n",
      "Epoch 37/100\n",
      "\u001b[1m45/82\u001b[0m \u001b[32m━━━━━━━━━━\u001b[0m\u001b[37m━━━━━━━━━━\u001b[0m \u001b[1m0s\u001b[0m 1ms/step - accuracy: 0.9343 - loss: 0.0862 Epoch 037 | loss=0.0848, acc=0.9296 | val_loss=0.0826, val_acc=0.9263 | 0.14s\n",
      "\u001b[1m82/82\u001b[0m \u001b[32m━━━━━━━━━━━━━━━━━━━━\u001b[0m\u001b[37m\u001b[0m \u001b[1m0s\u001b[0m 2ms/step - accuracy: 0.9333 - loss: 0.0856 - val_accuracy: 0.9263 - val_loss: 0.0826 - learning_rate: 1.0000e-04\n",
      "Epoch 38/100\n",
      "\u001b[1m45/82\u001b[0m \u001b[32m━━━━━━━━━━\u001b[0m\u001b[37m━━━━━━━━━━\u001b[0m \u001b[1m0s\u001b[0m 1ms/step - accuracy: 0.9387 - loss: 0.0811 Epoch 038 | loss=0.0806, acc=0.9319 | val_loss=0.0793, val_acc=0.9263 | 0.14s\n",
      "\u001b[1m82/82\u001b[0m \u001b[32m━━━━━━━━━━━━━━━━━━━━\u001b[0m\u001b[37m\u001b[0m \u001b[1m0s\u001b[0m 2ms/step - accuracy: 0.9351 - loss: 0.0811 - val_accuracy: 0.9263 - val_loss: 0.0793 - learning_rate: 1.0000e-04\n",
      "Epoch 39/100\n",
      "\u001b[1m79/82\u001b[0m \u001b[32m━━━━━━━━━━━━━━━━━━━\u001b[0m\u001b[37m━\u001b[0m \u001b[1m0s\u001b[0m 1ms/step - accuracy: 0.9334 - loss: 0.0785Epoch 039 | loss=0.0770, acc=0.9350 | val_loss=0.0763, val_acc=0.9263 | 0.22s\n",
      "\u001b[1m82/82\u001b[0m \u001b[32m━━━━━━━━━━━━━━━━━━━━\u001b[0m\u001b[37m\u001b[0m \u001b[1m0s\u001b[0m 3ms/step - accuracy: 0.9335 - loss: 0.0784 - val_accuracy: 0.9263 - val_loss: 0.0763 - learning_rate: 1.0000e-04\n",
      "Epoch 40/100\n",
      "\u001b[1m46/82\u001b[0m \u001b[32m━━━━━━━━━━━\u001b[0m\u001b[37m━━━━━━━━━\u001b[0m \u001b[1m0s\u001b[0m 1ms/step - accuracy: 0.9250 - loss: 0.0740 Epoch 040 | loss=0.0744, acc=0.9265 | val_loss=0.0735, val_acc=0.9263 | 0.14s\n",
      "\u001b[1m82/82\u001b[0m \u001b[32m━━━━━━━━━━━━━━━━━━━━\u001b[0m\u001b[37m\u001b[0m \u001b[1m0s\u001b[0m 2ms/step - accuracy: 0.9257 - loss: 0.0742 - val_accuracy: 0.9263 - val_loss: 0.0735 - learning_rate: 1.0000e-04\n",
      "Epoch 41/100\n",
      "\u001b[1m48/82\u001b[0m \u001b[32m━━━━━━━━━━━\u001b[0m\u001b[37m━━━━━━━━━\u001b[0m \u001b[1m0s\u001b[0m 1ms/step - accuracy: 0.9243 - loss: 0.0737 Epoch 041 | loss=0.0715, acc=0.9304 | val_loss=0.0708, val_acc=0.9278 | 0.13s\n",
      "\u001b[1m82/82\u001b[0m \u001b[32m━━━━━━━━━━━━━━━━━━━━\u001b[0m\u001b[37m\u001b[0m \u001b[1m0s\u001b[0m 2ms/step - accuracy: 0.9272 - loss: 0.0730 - val_accuracy: 0.9278 - val_loss: 0.0708 - learning_rate: 1.0000e-04\n",
      "Epoch 42/100\n",
      "\u001b[1m49/82\u001b[0m \u001b[32m━━━━━━━━━━━\u001b[0m\u001b[37m━━━━━━━━━\u001b[0m \u001b[1m0s\u001b[0m 1ms/step - accuracy: 0.9450 - loss: 0.0669 Epoch 042 | loss=0.0687, acc=0.9381 | val_loss=0.0681, val_acc=0.9309 | 0.13s\n",
      "\u001b[1m82/82\u001b[0m \u001b[32m━━━━━━━━━━━━━━━━━━━━\u001b[0m\u001b[37m\u001b[0m \u001b[1m0s\u001b[0m 2ms/step - accuracy: 0.9427 - loss: 0.0674 - val_accuracy: 0.9309 - val_loss: 0.0681 - learning_rate: 1.0000e-04\n",
      "Epoch 43/100\n",
      "\u001b[1m46/82\u001b[0m \u001b[32m━━━━━━━━━━━\u001b[0m\u001b[37m━━━━━━━━━\u001b[0m \u001b[1m0s\u001b[0m 1ms/step - accuracy: 0.9334 - loss: 0.0667 Epoch 043 | loss=0.0658, acc=0.9323 | val_loss=0.0655, val_acc=0.9278 | 0.14s\n",
      "\u001b[1m82/82\u001b[0m \u001b[32m━━━━━━━━━━━━━━━━━━━━\u001b[0m\u001b[37m\u001b[0m \u001b[1m0s\u001b[0m 2ms/step - accuracy: 0.9320 - loss: 0.0665 - val_accuracy: 0.9278 - val_loss: 0.0655 - learning_rate: 1.0000e-04\n",
      "Epoch 44/100\n",
      "\u001b[1m46/82\u001b[0m \u001b[32m━━━━━━━━━━━\u001b[0m\u001b[37m━━━━━━━━━\u001b[0m \u001b[1m0s\u001b[0m 1ms/step - accuracy: 0.9382 - loss: 0.0629 Epoch 044 | loss=0.0629, acc=0.9346 | val_loss=0.0631, val_acc=0.9293 | 0.14s\n",
      "\u001b[1m82/82\u001b[0m \u001b[32m━━━━━━━━━━━━━━━━━━━━\u001b[0m\u001b[37m\u001b[0m \u001b[1m0s\u001b[0m 2ms/step - accuracy: 0.9368 - loss: 0.0629 - val_accuracy: 0.9293 - val_loss: 0.0631 - learning_rate: 1.0000e-04\n",
      "Epoch 45/100\n",
      "\u001b[1m48/82\u001b[0m \u001b[32m━━━━━━━━━━━\u001b[0m\u001b[37m━━━━━━━━━\u001b[0m \u001b[1m0s\u001b[0m 1ms/step - accuracy: 0.9399 - loss: 0.0601 Epoch 045 | loss=0.0611, acc=0.9323 | val_loss=0.0609, val_acc=0.9278 | 0.14s\n",
      "\u001b[1m82/82\u001b[0m \u001b[32m━━━━━━━━━━━━━━━━━━━━\u001b[0m\u001b[37m\u001b[0m \u001b[1m0s\u001b[0m 2ms/step - accuracy: 0.9354 - loss: 0.0609 - val_accuracy: 0.9278 - val_loss: 0.0609 - learning_rate: 1.0000e-04\n",
      "Epoch 46/100\n",
      "\u001b[1m50/82\u001b[0m \u001b[32m━━━━━━━━━━━━\u001b[0m\u001b[37m━━━━━━━━\u001b[0m \u001b[1m0s\u001b[0m 1ms/step - accuracy: 0.9316 - loss: 0.0606 Epoch 046 | loss=0.0583, acc=0.9373 | val_loss=0.0588, val_acc=0.9278 | 0.13s\n",
      "\u001b[1m82/82\u001b[0m \u001b[32m━━━━━━━━━━━━━━━━━━━━\u001b[0m\u001b[37m\u001b[0m \u001b[1m0s\u001b[0m 1ms/step - accuracy: 0.9335 - loss: 0.0599 - val_accuracy: 0.9278 - val_loss: 0.0588 - learning_rate: 1.0000e-04\n",
      "Epoch 47/100\n",
      "\u001b[1m50/82\u001b[0m \u001b[32m━━━━━━━━━━━━\u001b[0m\u001b[37m━━━━━━━━\u001b[0m \u001b[1m0s\u001b[0m 1ms/step - accuracy: 0.9400 - loss: 0.0563 Epoch 047 | loss=0.0563, acc=0.9335 | val_loss=0.0568, val_acc=0.9278 | 0.13s\n",
      "\u001b[1m82/82\u001b[0m \u001b[32m━━━━━━━━━━━━━━━━━━━━\u001b[0m\u001b[37m\u001b[0m \u001b[1m0s\u001b[0m 1ms/step - accuracy: 0.9386 - loss: 0.0562 - val_accuracy: 0.9278 - val_loss: 0.0568 - learning_rate: 1.0000e-04\n",
      "Epoch 48/100\n",
      "\u001b[1m50/82\u001b[0m \u001b[32m━━━━━━━━━━━━\u001b[0m\u001b[37m━━━━━━━━\u001b[0m \u001b[1m0s\u001b[0m 1ms/step - accuracy: 0.9452 - loss: 0.0522 Epoch 048 | loss=0.0540, acc=0.9331 | val_loss=0.0548, val_acc=0.9309 | 0.13s\n",
      "\u001b[1m82/82\u001b[0m \u001b[32m━━━━━━━━━━━━━━━━━━━━\u001b[0m\u001b[37m\u001b[0m \u001b[1m0s\u001b[0m 1ms/step - accuracy: 0.9412 - loss: 0.0528 - val_accuracy: 0.9309 - val_loss: 0.0548 - learning_rate: 1.0000e-04\n",
      "Epoch 49/100\n",
      "\u001b[1m49/82\u001b[0m \u001b[32m━━━━━━━━━━━\u001b[0m\u001b[37m━━━━━━━━━\u001b[0m \u001b[1m0s\u001b[0m 1ms/step - accuracy: 0.9183 - loss: 0.0558 Epoch 049 | loss=0.0514, acc=0.9358 | val_loss=0.0530, val_acc=0.9293 | 0.13s\n",
      "\u001b[1m82/82\u001b[0m \u001b[32m━━━━━━━━━━━━━━━━━━━━\u001b[0m\u001b[37m\u001b[0m \u001b[1m0s\u001b[0m 1ms/step - accuracy: 0.9258 - loss: 0.0540 - val_accuracy: 0.9293 - val_loss: 0.0530 - learning_rate: 1.0000e-04\n",
      "Epoch 50/100\n",
      "\u001b[1m50/82\u001b[0m \u001b[32m━━━━━━━━━━━━\u001b[0m\u001b[37m━━━━━━━━\u001b[0m \u001b[1m0s\u001b[0m 1ms/step - accuracy: 0.9361 - loss: 0.0511 Epoch 050 | loss=0.0512, acc=0.9362 | val_loss=0.0512, val_acc=0.9324 | 0.13s\n",
      "\u001b[1m82/82\u001b[0m \u001b[32m━━━━━━━━━━━━━━━━━━━━\u001b[0m\u001b[37m\u001b[0m \u001b[1m0s\u001b[0m 1ms/step - accuracy: 0.9355 - loss: 0.0514 - val_accuracy: 0.9324 - val_loss: 0.0512 - learning_rate: 1.0000e-04\n",
      "Epoch 51/100\n",
      "\u001b[1m50/82\u001b[0m \u001b[32m━━━━━━━━━━━━\u001b[0m\u001b[37m━━━━━━━━\u001b[0m \u001b[1m0s\u001b[0m 1ms/step - accuracy: 0.9341 - loss: 0.0482 Epoch 051 | loss=0.0489, acc=0.9327 | val_loss=0.0494, val_acc=0.9309 | 0.13s\n",
      "\u001b[1m82/82\u001b[0m \u001b[32m━━━━━━━━━━━━━━━━━━━━\u001b[0m\u001b[37m\u001b[0m \u001b[1m0s\u001b[0m 1ms/step - accuracy: 0.9330 - loss: 0.0485 - val_accuracy: 0.9309 - val_loss: 0.0494 - learning_rate: 1.0000e-04\n",
      "Epoch 52/100\n",
      "\u001b[1m49/82\u001b[0m \u001b[32m━━━━━━━━━━━\u001b[0m\u001b[37m━━━━━━━━━\u001b[0m \u001b[1m0s\u001b[0m 1ms/step - accuracy: 0.9541 - loss: 0.0459 Epoch 052 | loss=0.0467, acc=0.9412 | val_loss=0.0479, val_acc=0.9293 | 0.13s\n",
      "\u001b[1m82/82\u001b[0m \u001b[32m━━━━━━━━━━━━━━━━━━━━\u001b[0m\u001b[37m\u001b[0m \u001b[1m0s\u001b[0m 2ms/step - accuracy: 0.9493 - loss: 0.0461 - val_accuracy: 0.9293 - val_loss: 0.0479 - learning_rate: 1.0000e-04\n",
      "Epoch 53/100\n",
      "\u001b[1m49/82\u001b[0m \u001b[32m━━━━━━━━━━━\u001b[0m\u001b[37m━━━━━━━━━\u001b[0m \u001b[1m0s\u001b[0m 1ms/step - accuracy: 0.9472 - loss: 0.0428 Epoch 053 | loss=0.0447, acc=0.9385 | val_loss=0.0465, val_acc=0.9324 | 0.13s\n",
      "\u001b[1m82/82\u001b[0m \u001b[32m━━━━━━━━━━━━━━━━━━━━\u001b[0m\u001b[37m\u001b[0m \u001b[1m0s\u001b[0m 1ms/step - accuracy: 0.9441 - loss: 0.0435 - val_accuracy: 0.9324 - val_loss: 0.0465 - learning_rate: 1.0000e-04\n",
      "Epoch 54/100\n",
      "\u001b[1m55/82\u001b[0m \u001b[32m━━━━━━━━━━━━━\u001b[0m\u001b[37m━━━━━━━\u001b[0m \u001b[1m0s\u001b[0m 2ms/step - accuracy: 0.9344 - loss: 0.0437Epoch 054 | loss=0.0433, acc=0.9331 | val_loss=0.0451, val_acc=0.9293 | 0.21s\n",
      "\u001b[1m82/82\u001b[0m \u001b[32m━━━━━━━━━━━━━━━━━━━━\u001b[0m\u001b[37m\u001b[0m \u001b[1m0s\u001b[0m 2ms/step - accuracy: 0.9341 - loss: 0.0436 - val_accuracy: 0.9293 - val_loss: 0.0451 - learning_rate: 1.0000e-04\n",
      "Epoch 55/100\n",
      "\u001b[1m49/82\u001b[0m \u001b[32m━━━━━━━━━━━\u001b[0m\u001b[37m━━━━━━━━━\u001b[0m \u001b[1m0s\u001b[0m 1ms/step - accuracy: 0.9437 - loss: 0.0414 Epoch 055 | loss=0.0417, acc=0.9396 | val_loss=0.0439, val_acc=0.9293 | 0.13s\n",
      "\u001b[1m82/82\u001b[0m \u001b[32m━━━━━━━━━━━━━━━━━━━━\u001b[0m\u001b[37m\u001b[0m \u001b[1m0s\u001b[0m 2ms/step - accuracy: 0.9431 - loss: 0.0414 - val_accuracy: 0.9293 - val_loss: 0.0439 - learning_rate: 1.0000e-04\n",
      "Epoch 56/100\n",
      "\u001b[1m44/82\u001b[0m \u001b[32m━━━━━━━━━━\u001b[0m\u001b[37m━━━━━━━━━━\u001b[0m \u001b[1m0s\u001b[0m 1ms/step - accuracy: 0.9219 - loss: 0.0424 Epoch 056 | loss=0.0405, acc=0.9315 | val_loss=0.0425, val_acc=0.9324 | 0.14s\n",
      "\u001b[1m82/82\u001b[0m \u001b[32m━━━━━━━━━━━━━━━━━━━━\u001b[0m\u001b[37m\u001b[0m \u001b[1m0s\u001b[0m 2ms/step - accuracy: 0.9252 - loss: 0.0417 - val_accuracy: 0.9324 - val_loss: 0.0425 - learning_rate: 1.0000e-04\n",
      "Epoch 57/100\n",
      "\u001b[1m49/82\u001b[0m \u001b[32m━━━━━━━━━━━\u001b[0m\u001b[37m━━━━━━━━━\u001b[0m \u001b[1m0s\u001b[0m 1ms/step - accuracy: 0.9480 - loss: 0.0377 Epoch 057 | loss=0.0394, acc=0.9365 | val_loss=0.0413, val_acc=0.9309 | 0.13s\n",
      "\u001b[1m82/82\u001b[0m \u001b[32m━━━━━━━━━━━━━━━━━━━━\u001b[0m\u001b[37m\u001b[0m \u001b[1m0s\u001b[0m 1ms/step - accuracy: 0.9431 - loss: 0.0383 - val_accuracy: 0.9309 - val_loss: 0.0413 - learning_rate: 1.0000e-04\n",
      "Epoch 58/100\n",
      "\u001b[1m50/82\u001b[0m \u001b[32m━━━━━━━━━━━━\u001b[0m\u001b[37m━━━━━━━━\u001b[0m \u001b[1m0s\u001b[0m 1ms/step - accuracy: 0.9322 - loss: 0.0402 Epoch 058 | loss=0.0384, acc=0.9365 | val_loss=0.0402, val_acc=0.9309 | 0.13s\n",
      "\u001b[1m82/82\u001b[0m \u001b[32m━━━━━━━━━━━━━━━━━━━━\u001b[0m\u001b[37m\u001b[0m \u001b[1m0s\u001b[0m 2ms/step - accuracy: 0.9336 - loss: 0.0398 - val_accuracy: 0.9309 - val_loss: 0.0402 - learning_rate: 1.0000e-04\n",
      "Epoch 59/100\n",
      "\u001b[1m50/82\u001b[0m \u001b[32m━━━━━━━━━━━━\u001b[0m\u001b[37m━━━━━━━━\u001b[0m \u001b[1m0s\u001b[0m 4ms/step - accuracy: 0.9267 - loss: 0.0378Epoch 059 | loss=0.0372, acc=0.9327 | val_loss=0.0392, val_acc=0.9293 | 0.30s\n",
      "\u001b[1m82/82\u001b[0m \u001b[32m━━━━━━━━━━━━━━━━━━━━\u001b[0m\u001b[37m\u001b[0m \u001b[1m0s\u001b[0m 3ms/step - accuracy: 0.9285 - loss: 0.0377 - val_accuracy: 0.9293 - val_loss: 0.0392 - learning_rate: 1.0000e-04\n",
      "Epoch 60/100\n",
      "\u001b[1m43/82\u001b[0m \u001b[32m━━━━━━━━━━\u001b[0m\u001b[37m━━━━━━━━━━\u001b[0m \u001b[1m0s\u001b[0m 1ms/step - accuracy: 0.9354 - loss: 0.0366 Epoch 060 | loss=0.0362, acc=0.9381 | val_loss=0.0381, val_acc=0.9309 | 0.15s\n",
      "\u001b[1m82/82\u001b[0m \u001b[32m━━━━━━━━━━━━━━━━━━━━\u001b[0m\u001b[37m\u001b[0m \u001b[1m0s\u001b[0m 2ms/step - accuracy: 0.9348 - loss: 0.0368 - val_accuracy: 0.9309 - val_loss: 0.0381 - learning_rate: 1.0000e-04\n",
      "Epoch 61/100\n",
      "\u001b[1m72/82\u001b[0m \u001b[32m━━━━━━━━━━━━━━━━━\u001b[0m\u001b[37m━━━\u001b[0m \u001b[1m0s\u001b[0m 2ms/step - accuracy: 0.9438 - loss: 0.0340Epoch 061 | loss=0.0346, acc=0.9404 | val_loss=0.0370, val_acc=0.9293 | 0.23s\n",
      "\u001b[1m82/82\u001b[0m \u001b[32m━━━━━━━━━━━━━━━━━━━━\u001b[0m\u001b[37m\u001b[0m \u001b[1m0s\u001b[0m 3ms/step - accuracy: 0.9433 - loss: 0.0341 - val_accuracy: 0.9293 - val_loss: 0.0370 - learning_rate: 1.0000e-04\n",
      "Epoch 62/100\n",
      "\u001b[1m45/82\u001b[0m \u001b[32m━━━━━━━━━━\u001b[0m\u001b[37m━━━━━━━━━━\u001b[0m \u001b[1m0s\u001b[0m 1ms/step - accuracy: 0.9356 - loss: 0.0351 Epoch 062 | loss=0.0339, acc=0.9373 | val_loss=0.0362, val_acc=0.9309 | 0.15s\n",
      "\u001b[1m82/82\u001b[0m \u001b[32m━━━━━━━━━━━━━━━━━━━━\u001b[0m\u001b[37m\u001b[0m \u001b[1m0s\u001b[0m 2ms/step - accuracy: 0.9363 - loss: 0.0347 - val_accuracy: 0.9309 - val_loss: 0.0362 - learning_rate: 1.0000e-04\n",
      "Epoch 63/100\n",
      "\u001b[1m46/82\u001b[0m \u001b[32m━━━━━━━━━━━\u001b[0m\u001b[37m━━━━━━━━━\u001b[0m \u001b[1m0s\u001b[0m 1ms/step - accuracy: 0.9462 - loss: 0.0322 Epoch 063 | loss=0.0337, acc=0.9354 | val_loss=0.0353, val_acc=0.9324 | 0.14s\n",
      "\u001b[1m82/82\u001b[0m \u001b[32m━━━━━━━━━━━━━━━━━━━━\u001b[0m\u001b[37m\u001b[0m \u001b[1m0s\u001b[0m 2ms/step - accuracy: 0.9429 - loss: 0.0327 - val_accuracy: 0.9324 - val_loss: 0.0353 - learning_rate: 1.0000e-04\n",
      "Epoch 64/100\n",
      "\u001b[1m45/82\u001b[0m \u001b[32m━━━━━━━━━━\u001b[0m\u001b[37m━━━━━━━━━━\u001b[0m \u001b[1m0s\u001b[0m 1ms/step - accuracy: 0.9396 - loss: 0.0317 Epoch 064 | loss=0.0321, acc=0.9373 | val_loss=0.0345, val_acc=0.9324 | 0.14s\n",
      "\u001b[1m82/82\u001b[0m \u001b[32m━━━━━━━━━━━━━━━━━━━━\u001b[0m\u001b[37m\u001b[0m \u001b[1m0s\u001b[0m 2ms/step - accuracy: 0.9395 - loss: 0.0318 - val_accuracy: 0.9324 - val_loss: 0.0345 - learning_rate: 1.0000e-04\n",
      "Epoch 65/100\n",
      "\u001b[1m48/82\u001b[0m \u001b[32m━━━━━━━━━━━\u001b[0m\u001b[37m━━━━━━━━━\u001b[0m \u001b[1m0s\u001b[0m 1ms/step - accuracy: 0.9451 - loss: 0.0310 Epoch 065 | loss=0.0313, acc=0.9415 | val_loss=0.0339, val_acc=0.9324 | 0.14s\n",
      "\u001b[1m82/82\u001b[0m \u001b[32m━━━━━━━━━━━━━━━━━━━━\u001b[0m\u001b[37m\u001b[0m \u001b[1m0s\u001b[0m 2ms/step - accuracy: 0.9447 - loss: 0.0309 - val_accuracy: 0.9324 - val_loss: 0.0339 - learning_rate: 1.0000e-04\n",
      "Epoch 66/100\n",
      "\u001b[1m47/82\u001b[0m \u001b[32m━━━━━━━━━━━\u001b[0m\u001b[37m━━━━━━━━━\u001b[0m \u001b[1m0s\u001b[0m 1ms/step - accuracy: 0.9335 - loss: 0.0320 Epoch 066 | loss=0.0303, acc=0.9377 | val_loss=0.0332, val_acc=0.9293 | 0.14s\n",
      "\u001b[1m82/82\u001b[0m \u001b[32m━━━━━━━━━━━━━━━━━━━━\u001b[0m\u001b[37m\u001b[0m \u001b[1m0s\u001b[0m 2ms/step - accuracy: 0.9344 - loss: 0.0315 - val_accuracy: 0.9293 - val_loss: 0.0332 - learning_rate: 1.0000e-04\n",
      "Epoch 67/100\n",
      "\u001b[1m47/82\u001b[0m \u001b[32m━━━━━━━━━━━\u001b[0m\u001b[37m━━━━━━━━━\u001b[0m \u001b[1m0s\u001b[0m 1ms/step - accuracy: 0.9454 - loss: 0.0288 Epoch 067 | loss=0.0296, acc=0.9438 | val_loss=0.0326, val_acc=0.9278 | 0.14s\n",
      "\u001b[1m82/82\u001b[0m \u001b[32m━━━━━━━━━━━━━━━━━━━━\u001b[0m\u001b[37m\u001b[0m \u001b[1m0s\u001b[0m 2ms/step - accuracy: 0.9463 - loss: 0.0288 - val_accuracy: 0.9278 - val_loss: 0.0326 - learning_rate: 1.0000e-04\n",
      "Epoch 68/100\n",
      "\u001b[1m47/82\u001b[0m \u001b[32m━━━━━━━━━━━\u001b[0m\u001b[37m━━━━━━━━━\u001b[0m \u001b[1m0s\u001b[0m 1ms/step - accuracy: 0.9424 - loss: 0.0303 Epoch 068 | loss=0.0289, acc=0.9404 | val_loss=0.0320, val_acc=0.9324 | 0.14s\n",
      "\u001b[1m82/82\u001b[0m \u001b[32m━━━━━━━━━━━━━━━━━━━━\u001b[0m\u001b[37m\u001b[0m \u001b[1m0s\u001b[0m 2ms/step - accuracy: 0.9411 - loss: 0.0299 - val_accuracy: 0.9324 - val_loss: 0.0320 - learning_rate: 1.0000e-04\n",
      "Epoch 69/100\n",
      "\u001b[1m48/82\u001b[0m \u001b[32m━━━━━━━━━━━\u001b[0m\u001b[37m━━━━━━━━━\u001b[0m \u001b[1m0s\u001b[0m 1ms/step - accuracy: 0.9384 - loss: 0.0295 Epoch 069 | loss=0.0290, acc=0.9350 | val_loss=0.0317, val_acc=0.9247 | 0.14s\n",
      "\u001b[1m82/82\u001b[0m \u001b[32m━━━━━━━━━━━━━━━━━━━━\u001b[0m\u001b[37m\u001b[0m \u001b[1m0s\u001b[0m 2ms/step - accuracy: 0.9364 - loss: 0.0295 - val_accuracy: 0.9247 - val_loss: 0.0317 - learning_rate: 1.0000e-04\n",
      "Epoch 70/100\n",
      "\u001b[1m48/82\u001b[0m \u001b[32m━━━━━━━━━━━\u001b[0m\u001b[37m━━━━━━━━━\u001b[0m \u001b[1m0s\u001b[0m 1ms/step - accuracy: 0.9345 - loss: 0.0282 Epoch 070 | loss=0.0276, acc=0.9412 | val_loss=0.0309, val_acc=0.9293 | 0.14s\n",
      "\u001b[1m82/82\u001b[0m \u001b[32m━━━━━━━━━━━━━━━━━━━━\u001b[0m\u001b[37m\u001b[0m \u001b[1m0s\u001b[0m 2ms/step - accuracy: 0.9378 - loss: 0.0279 - val_accuracy: 0.9293 - val_loss: 0.0309 - learning_rate: 1.0000e-04\n",
      "Epoch 71/100\n",
      "\u001b[1m44/82\u001b[0m \u001b[32m━━━━━━━━━━\u001b[0m\u001b[37m━━━━━━━━━━\u001b[0m \u001b[1m0s\u001b[0m 1ms/step - accuracy: 0.9329 - loss: 0.0274 Epoch 071 | loss=0.0273, acc=0.9373 | val_loss=0.0301, val_acc=0.9293 | 0.14s\n",
      "\u001b[1m82/82\u001b[0m \u001b[32m━━━━━━━━━━━━━━━━━━━━\u001b[0m\u001b[37m\u001b[0m \u001b[1m0s\u001b[0m 2ms/step - accuracy: 0.9340 - loss: 0.0273 - val_accuracy: 0.9293 - val_loss: 0.0301 - learning_rate: 1.0000e-04\n",
      "Epoch 72/100\n",
      "\u001b[1m48/82\u001b[0m \u001b[32m━━━━━━━━━━━\u001b[0m\u001b[37m━━━━━━━━━\u001b[0m \u001b[1m0s\u001b[0m 1ms/step - accuracy: 0.9449 - loss: 0.0263 Epoch 072 | loss=0.0262, acc=0.9415 | val_loss=0.0297, val_acc=0.9278 | 0.13s\n",
      "\u001b[1m82/82\u001b[0m \u001b[32m━━━━━━━━━━━━━━━━━━━━\u001b[0m\u001b[37m\u001b[0m \u001b[1m0s\u001b[0m 1ms/step - accuracy: 0.9425 - loss: 0.0264 - val_accuracy: 0.9278 - val_loss: 0.0297 - learning_rate: 1.0000e-04\n",
      "Epoch 73/100\n",
      "\u001b[1m49/82\u001b[0m \u001b[32m━━━━━━━━━━━\u001b[0m\u001b[37m━━━━━━━━━\u001b[0m \u001b[1m0s\u001b[0m 1ms/step - accuracy: 0.9417 - loss: 0.0269 Epoch 073 | loss=0.0259, acc=0.9450 | val_loss=0.0293, val_acc=0.9278 | 0.13s\n",
      "\u001b[1m82/82\u001b[0m \u001b[32m━━━━━━━━━━━━━━━━━━━━\u001b[0m\u001b[37m\u001b[0m \u001b[1m0s\u001b[0m 1ms/step - accuracy: 0.9419 - loss: 0.0266 - val_accuracy: 0.9278 - val_loss: 0.0293 - learning_rate: 1.0000e-04\n",
      "Epoch 74/100\n",
      "\u001b[1m46/82\u001b[0m \u001b[32m━━━━━━━━━━━\u001b[0m\u001b[37m━━━━━━━━━\u001b[0m \u001b[1m0s\u001b[0m 1ms/step - accuracy: 0.9479 - loss: 0.0252 Epoch 074 | loss=0.0251, acc=0.9423 | val_loss=0.0291, val_acc=0.9278 | 0.14s\n",
      "\u001b[1m82/82\u001b[0m \u001b[32m━━━━━━━━━━━━━━━━━━━━\u001b[0m\u001b[37m\u001b[0m \u001b[1m0s\u001b[0m 2ms/step - accuracy: 0.9463 - loss: 0.0251 - val_accuracy: 0.9278 - val_loss: 0.0291 - learning_rate: 1.0000e-04\n",
      "Epoch 75/100\n",
      "\u001b[1m45/82\u001b[0m \u001b[32m━━━━━━━━━━\u001b[0m\u001b[37m━━━━━━━━━━\u001b[0m \u001b[1m0s\u001b[0m 1ms/step - accuracy: 0.9322 - loss: 0.0270 Epoch 075 | loss=0.0247, acc=0.9392 | val_loss=0.0285, val_acc=0.9293 | 0.14s\n",
      "\u001b[1m82/82\u001b[0m \u001b[32m━━━━━━━━━━━━━━━━━━━━\u001b[0m\u001b[37m\u001b[0m \u001b[1m0s\u001b[0m 2ms/step - accuracy: 0.9361 - loss: 0.0260 - val_accuracy: 0.9293 - val_loss: 0.0285 - learning_rate: 1.0000e-04\n",
      "Epoch 76/100\n",
      "\u001b[1m48/82\u001b[0m \u001b[32m━━━━━━━━━━━\u001b[0m\u001b[37m━━━━━━━━━\u001b[0m \u001b[1m0s\u001b[0m 1ms/step - accuracy: 0.9387 - loss: 0.0230 Epoch 076 | loss=0.0245, acc=0.9408 | val_loss=0.0282, val_acc=0.9278 | 0.14s\n",
      "\u001b[1m82/82\u001b[0m \u001b[32m━━━━━━━━━━━━━━━━━━━━\u001b[0m\u001b[37m\u001b[0m \u001b[1m0s\u001b[0m 2ms/step - accuracy: 0.9394 - loss: 0.0236 - val_accuracy: 0.9278 - val_loss: 0.0282 - learning_rate: 1.0000e-04\n",
      "Epoch 77/100\n",
      "\u001b[1m49/82\u001b[0m \u001b[32m━━━━━━━━━━━\u001b[0m\u001b[37m━━━━━━━━━\u001b[0m \u001b[1m0s\u001b[0m 1ms/step - accuracy: 0.9435 - loss: 0.0231 Epoch 077 | loss=0.0240, acc=0.9442 | val_loss=0.0279, val_acc=0.9278 | 0.13s\n",
      "\u001b[1m82/82\u001b[0m \u001b[32m━━━━━━━━━━━━━━━━━━━━\u001b[0m\u001b[37m\u001b[0m \u001b[1m0s\u001b[0m 2ms/step - accuracy: 0.9434 - loss: 0.0235 - val_accuracy: 0.9278 - val_loss: 0.0279 - learning_rate: 1.0000e-04\n",
      "Epoch 78/100\n",
      "\u001b[1m49/82\u001b[0m \u001b[32m━━━━━━━━━━━\u001b[0m\u001b[37m━━━━━━━━━\u001b[0m \u001b[1m0s\u001b[0m 1ms/step - accuracy: 0.9368 - loss: 0.0243 Epoch 078 | loss=0.0233, acc=0.9431 | val_loss=0.0276, val_acc=0.9278 | 0.13s\n",
      "\u001b[1m82/82\u001b[0m \u001b[32m━━━━━━━━━━━━━━━━━━━━\u001b[0m\u001b[37m\u001b[0m \u001b[1m0s\u001b[0m 2ms/step - accuracy: 0.9394 - loss: 0.0239 - val_accuracy: 0.9278 - val_loss: 0.0276 - learning_rate: 1.0000e-04\n",
      "Epoch 79/100\n",
      "\u001b[1m52/82\u001b[0m \u001b[32m━━━━━━━━━━━━\u001b[0m\u001b[37m━━━━━━━━\u001b[0m \u001b[1m0s\u001b[0m 2ms/step - accuracy: 0.9368 - loss: 0.0253Epoch 079 | loss=0.0233, acc=0.9412 | val_loss=0.0272, val_acc=0.9278 | 0.19s\n",
      "\u001b[1m82/82\u001b[0m \u001b[32m━━━━━━━━━━━━━━━━━━━━\u001b[0m\u001b[37m\u001b[0m \u001b[1m0s\u001b[0m 2ms/step - accuracy: 0.9388 - loss: 0.0246 - val_accuracy: 0.9278 - val_loss: 0.0272 - learning_rate: 1.0000e-04\n",
      "Epoch 80/100\n",
      "\u001b[1m45/82\u001b[0m \u001b[32m━━━━━━━━━━\u001b[0m\u001b[37m━━━━━━━━━━\u001b[0m \u001b[1m0s\u001b[0m 1ms/step - accuracy: 0.9363 - loss: 0.0227 Epoch 080 | loss=0.0225, acc=0.9450 | val_loss=0.0269, val_acc=0.9263 | 0.14s\n",
      "\u001b[1m82/82\u001b[0m \u001b[32m━━━━━━━━━━━━━━━━━━━━\u001b[0m\u001b[37m\u001b[0m \u001b[1m0s\u001b[0m 2ms/step - accuracy: 0.9408 - loss: 0.0225 - val_accuracy: 0.9263 - val_loss: 0.0269 - learning_rate: 1.0000e-04\n",
      "Epoch 81/100\n",
      "\u001b[1m44/82\u001b[0m \u001b[32m━━━━━━━━━━\u001b[0m\u001b[37m━━━━━━━━━━\u001b[0m \u001b[1m0s\u001b[0m 1ms/step - accuracy: 0.9433 - loss: 0.0214 Epoch 081 | loss=0.0216, acc=0.9450 | val_loss=0.0266, val_acc=0.9263 | 0.15s\n",
      "\u001b[1m82/82\u001b[0m \u001b[32m━━━━━━━━━━━━━━━━━━━━\u001b[0m\u001b[37m\u001b[0m \u001b[1m0s\u001b[0m 2ms/step - accuracy: 0.9435 - loss: 0.0215 - val_accuracy: 0.9263 - val_loss: 0.0266 - learning_rate: 1.0000e-04\n",
      "Epoch 82/100\n",
      "\u001b[1m43/82\u001b[0m \u001b[32m━━━━━━━━━━\u001b[0m\u001b[37m━━━━━━━━━━\u001b[0m \u001b[1m0s\u001b[0m 1ms/step - accuracy: 0.9395 - loss: 0.0219 Epoch 082 | loss=0.0216, acc=0.9396 | val_loss=0.0265, val_acc=0.9263 | 0.15s\n",
      "\u001b[1m82/82\u001b[0m \u001b[32m━━━━━━━━━━━━━━━━━━━━\u001b[0m\u001b[37m\u001b[0m \u001b[1m0s\u001b[0m 2ms/step - accuracy: 0.9392 - loss: 0.0218 - val_accuracy: 0.9263 - val_loss: 0.0265 - learning_rate: 1.0000e-04\n",
      "Epoch 83/100\n",
      "\u001b[1m43/82\u001b[0m \u001b[32m━━━━━━━━━━\u001b[0m\u001b[37m━━━━━━━━━━\u001b[0m \u001b[1m0s\u001b[0m 1ms/step - accuracy: 0.9584 - loss: 0.0210 Epoch 083 | loss=0.0218, acc=0.9454 | val_loss=0.0264, val_acc=0.9217 | 0.15s\n",
      "\u001b[1m82/82\u001b[0m \u001b[32m━━━━━━━━━━━━━━━━━━━━\u001b[0m\u001b[37m\u001b[0m \u001b[1m0s\u001b[0m 2ms/step - accuracy: 0.9530 - loss: 0.0212 - val_accuracy: 0.9217 - val_loss: 0.0264 - learning_rate: 1.0000e-04\n",
      "Epoch 84/100\n",
      "\u001b[1m45/82\u001b[0m \u001b[32m━━━━━━━━━━\u001b[0m\u001b[37m━━━━━━━━━━\u001b[0m \u001b[1m0s\u001b[0m 1ms/step - accuracy: 0.9406 - loss: 0.0223 Epoch 084 | loss=0.0212, acc=0.9442 | val_loss=0.0262, val_acc=0.9247 | 0.14s\n",
      "\u001b[1m82/82\u001b[0m \u001b[32m━━━━━━━━━━━━━━━━━━━━\u001b[0m\u001b[37m\u001b[0m \u001b[1m0s\u001b[0m 2ms/step - accuracy: 0.9419 - loss: 0.0218 - val_accuracy: 0.9247 - val_loss: 0.0262 - learning_rate: 1.0000e-04\n",
      "Epoch 85/100\n",
      "\u001b[1m45/82\u001b[0m \u001b[32m━━━━━━━━━━\u001b[0m\u001b[37m━━━━━━━━━━\u001b[0m \u001b[1m0s\u001b[0m 1ms/step - accuracy: 0.9534 - loss: 0.0190 Epoch 085 | loss=0.0206, acc=0.9473 | val_loss=0.0260, val_acc=0.9263 | 0.15s\n",
      "\u001b[1m82/82\u001b[0m \u001b[32m━━━━━━━━━━━━━━━━━━━━\u001b[0m\u001b[37m\u001b[0m \u001b[1m0s\u001b[0m 2ms/step - accuracy: 0.9511 - loss: 0.0196 - val_accuracy: 0.9263 - val_loss: 0.0260 - learning_rate: 1.0000e-04\n",
      "Epoch 86/100\n",
      "\u001b[1m72/82\u001b[0m \u001b[32m━━━━━━━━━━━━━━━━━\u001b[0m\u001b[37m━━━\u001b[0m \u001b[1m0s\u001b[0m 1ms/step - accuracy: 0.9404 - loss: 0.0205Epoch 086 | loss=0.0206, acc=0.9435 | val_loss=0.0259, val_acc=0.9293 | 0.17s\n",
      "\u001b[1m82/82\u001b[0m \u001b[32m━━━━━━━━━━━━━━━━━━━━\u001b[0m\u001b[37m\u001b[0m \u001b[1m0s\u001b[0m 2ms/step - accuracy: 0.9408 - loss: 0.0206 - val_accuracy: 0.9293 - val_loss: 0.0259 - learning_rate: 1.0000e-04\n",
      "Epoch 87/100\n",
      "\u001b[1m78/82\u001b[0m \u001b[32m━━━━━━━━━━━━━━━━━━━\u001b[0m\u001b[37m━\u001b[0m \u001b[1m0s\u001b[0m 1ms/step - accuracy: 0.9477 - loss: 0.0202Epoch 087 | loss=0.0204, acc=0.9485 | val_loss=0.0256, val_acc=0.9247 | 0.17s\n",
      "\u001b[1m82/82\u001b[0m \u001b[32m━━━━━━━━━━━━━━━━━━━━\u001b[0m\u001b[37m\u001b[0m \u001b[1m0s\u001b[0m 2ms/step - accuracy: 0.9477 - loss: 0.0202 - val_accuracy: 0.9247 - val_loss: 0.0256 - learning_rate: 1.0000e-04\n",
      "Epoch 88/100\n",
      "\u001b[1m42/82\u001b[0m \u001b[32m━━━━━━━━━━\u001b[0m\u001b[37m━━━━━━━━━━\u001b[0m \u001b[1m0s\u001b[0m 1ms/step - accuracy: 0.9556 - loss: 0.0193 Epoch 088 | loss=0.0206, acc=0.9458 | val_loss=0.0255, val_acc=0.9201 | 0.15s\n",
      "\u001b[1m82/82\u001b[0m \u001b[32m━━━━━━━━━━━━━━━━━━━━\u001b[0m\u001b[37m\u001b[0m \u001b[1m0s\u001b[0m 2ms/step - accuracy: 0.9526 - loss: 0.0195 - val_accuracy: 0.9201 - val_loss: 0.0255 - learning_rate: 1.0000e-04\n",
      "Epoch 89/100\n",
      "\u001b[1m43/82\u001b[0m \u001b[32m━━━━━━━━━━\u001b[0m\u001b[37m━━━━━━━━━━\u001b[0m \u001b[1m0s\u001b[0m 1ms/step - accuracy: 0.9527 - loss: 0.0175 Epoch 089 | loss=0.0198, acc=0.9427 | val_loss=0.0256, val_acc=0.9247 | 0.14s\n",
      "\u001b[1m82/82\u001b[0m \u001b[32m━━━━━━━━━━━━━━━━━━━━\u001b[0m\u001b[37m\u001b[0m \u001b[1m0s\u001b[0m 2ms/step - accuracy: 0.9478 - loss: 0.0185 - val_accuracy: 0.9247 - val_loss: 0.0256 - learning_rate: 1.0000e-04\n",
      "Epoch 90/100\n",
      "\u001b[1m45/82\u001b[0m \u001b[32m━━━━━━━━━━\u001b[0m\u001b[37m━━━━━━━━━━\u001b[0m \u001b[1m0s\u001b[0m 1ms/step - accuracy: 0.9369 - loss: 0.0210 Epoch 090 | loss=0.0196, acc=0.9473 | val_loss=0.0252, val_acc=0.9247 | 0.15s\n",
      "\u001b[1m82/82\u001b[0m \u001b[32m━━━━━━━━━━━━━━━━━━━━\u001b[0m\u001b[37m\u001b[0m \u001b[1m0s\u001b[0m 2ms/step - accuracy: 0.9410 - loss: 0.0204 - val_accuracy: 0.9247 - val_loss: 0.0252 - learning_rate: 1.0000e-04\n",
      "Epoch 91/100\n",
      "\u001b[1m78/82\u001b[0m \u001b[32m━━━━━━━━━━━━━━━━━━━\u001b[0m\u001b[37m━\u001b[0m \u001b[1m0s\u001b[0m 1ms/step - accuracy: 0.9478 - loss: 0.0190Epoch 091 | loss=0.0191, acc=0.9454 | val_loss=0.0254, val_acc=0.9247 | 0.17s\n",
      "\u001b[1m82/82\u001b[0m \u001b[32m━━━━━━━━━━━━━━━━━━━━\u001b[0m\u001b[37m\u001b[0m \u001b[1m0s\u001b[0m 2ms/step - accuracy: 0.9477 - loss: 0.0190 - val_accuracy: 0.9247 - val_loss: 0.0254 - learning_rate: 1.0000e-04\n",
      "Epoch 92/100\n",
      "\u001b[1m79/82\u001b[0m \u001b[32m━━━━━━━━━━━━━━━━━━━\u001b[0m\u001b[37m━\u001b[0m \u001b[1m0s\u001b[0m 1ms/step - accuracy: 0.9515 - loss: 0.0189Epoch 092 | loss=0.0191, acc=0.9485 | val_loss=0.0253, val_acc=0.9186 | 0.16s\n",
      "\u001b[1m82/82\u001b[0m \u001b[32m━━━━━━━━━━━━━━━━━━━━\u001b[0m\u001b[37m\u001b[0m \u001b[1m0s\u001b[0m 2ms/step - accuracy: 0.9513 - loss: 0.0189 - val_accuracy: 0.9186 - val_loss: 0.0253 - learning_rate: 1.0000e-04\n",
      "Epoch 93/100\n",
      "\u001b[1m72/82\u001b[0m \u001b[32m━━━━━━━━━━━━━━━━━\u001b[0m\u001b[37m━━━\u001b[0m \u001b[1m0s\u001b[0m 1ms/step - accuracy: 0.9472 - loss: 0.0185Epoch 093 | loss=0.0184, acc=0.9504 | val_loss=0.0254, val_acc=0.9217 | 0.16s\n",
      "\u001b[1m82/82\u001b[0m \u001b[32m━━━━━━━━━━━━━━━━━━━━\u001b[0m\u001b[37m\u001b[0m \u001b[1m0s\u001b[0m 2ms/step - accuracy: 0.9476 - loss: 0.0185 - val_accuracy: 0.9217 - val_loss: 0.0254 - learning_rate: 1.0000e-04\n",
      "Epoch 94/100\n",
      "\u001b[1m65/82\u001b[0m \u001b[32m━━━━━━━━━━━━━━━\u001b[0m\u001b[37m━━━━━\u001b[0m \u001b[1m0s\u001b[0m 2ms/step - accuracy: 0.9565 - loss: 0.0177Epoch 094 | loss=0.0190, acc=0.9477 | val_loss=0.0257, val_acc=0.9217 | 0.17s\n",
      "\u001b[1m82/82\u001b[0m \u001b[32m━━━━━━━━━━━━━━━━━━━━\u001b[0m\u001b[37m\u001b[0m \u001b[1m0s\u001b[0m 2ms/step - accuracy: 0.9544 - loss: 0.0180 - val_accuracy: 0.9217 - val_loss: 0.0257 - learning_rate: 1.0000e-04\n",
      "Epoch 95/100\n",
      "\u001b[1m46/82\u001b[0m \u001b[32m━━━━━━━━━━━\u001b[0m\u001b[37m━━━━━━━━━\u001b[0m \u001b[1m0s\u001b[0m 1ms/step - accuracy: 0.9531 - loss: 0.0169 Epoch 095 | loss=0.0186, acc=0.9458 | val_loss=0.0252, val_acc=0.9232 | 0.14s\n",
      "\u001b[1m82/82\u001b[0m \u001b[32m━━━━━━━━━━━━━━━━━━━━\u001b[0m\u001b[37m\u001b[0m \u001b[1m0s\u001b[0m 2ms/step - accuracy: 0.9511 - loss: 0.0174 - val_accuracy: 0.9232 - val_loss: 0.0252 - learning_rate: 1.0000e-04\n",
      "Epoch 96/100\n",
      "\u001b[1m48/82\u001b[0m \u001b[32m━━━━━━━━━━━\u001b[0m\u001b[37m━━━━━━━━━\u001b[0m \u001b[1m0s\u001b[0m 1ms/step - accuracy: 0.9514 - loss: 0.0174 Epoch 096 | loss=0.0183, acc=0.9481 | val_loss=0.0251, val_acc=0.9263 | 0.14s\n",
      "\u001b[1m82/82\u001b[0m \u001b[32m━━━━━━━━━━━━━━━━━━━━\u001b[0m\u001b[37m\u001b[0m \u001b[1m0s\u001b[0m 2ms/step - accuracy: 0.9512 - loss: 0.0175 - val_accuracy: 0.9263 - val_loss: 0.0251 - learning_rate: 5.0000e-05\n",
      "Epoch 97/100\n",
      "\u001b[1m46/82\u001b[0m \u001b[32m━━━━━━━━━━━\u001b[0m\u001b[37m━━━━━━━━━\u001b[0m \u001b[1m0s\u001b[0m 1ms/step - accuracy: 0.9504 - loss: 0.0188 Epoch 097 | loss=0.0182, acc=0.9485 | val_loss=0.0252, val_acc=0.9263 | 0.14s\n",
      "\u001b[1m82/82\u001b[0m \u001b[32m━━━━━━━━━━━━━━━━━━━━\u001b[0m\u001b[37m\u001b[0m \u001b[1m0s\u001b[0m 2ms/step - accuracy: 0.9507 - loss: 0.0185 - val_accuracy: 0.9263 - val_loss: 0.0252 - learning_rate: 5.0000e-05\n",
      "Epoch 98/100\n",
      "\u001b[1m46/82\u001b[0m \u001b[32m━━━━━━━━━━━\u001b[0m\u001b[37m━━━━━━━━━\u001b[0m \u001b[1m0s\u001b[0m 1ms/step - accuracy: 0.9603 - loss: 0.0158 Epoch 098 | loss=0.0179, acc=0.9508 | val_loss=0.0252, val_acc=0.9247 | 0.14s\n",
      "\u001b[1m82/82\u001b[0m \u001b[32m━━━━━━━━━━━━━━━━━━━━\u001b[0m\u001b[37m\u001b[0m \u001b[1m0s\u001b[0m 2ms/step - accuracy: 0.9575 - loss: 0.0165 - val_accuracy: 0.9247 - val_loss: 0.0252 - learning_rate: 5.0000e-05\n",
      "Epoch 99/100\n",
      "\u001b[1m45/82\u001b[0m \u001b[32m━━━━━━━━━━\u001b[0m\u001b[37m━━━━━━━━━━\u001b[0m \u001b[1m0s\u001b[0m 1ms/step - accuracy: 0.9475 - loss: 0.0178 Epoch 099 | loss=0.0178, acc=0.9515 | val_loss=0.0251, val_acc=0.9247 | 0.14s\n",
      "\u001b[1m82/82\u001b[0m \u001b[32m━━━━━━━━━━━━━━━━━━━━\u001b[0m\u001b[37m\u001b[0m \u001b[1m0s\u001b[0m 2ms/step - accuracy: 0.9494 - loss: 0.0177 - val_accuracy: 0.9247 - val_loss: 0.0251 - learning_rate: 5.0000e-05\n",
      "Epoch 100/100\n",
      "\u001b[1m46/82\u001b[0m \u001b[32m━━━━━━━━━━━\u001b[0m\u001b[37m━━━━━━━━━\u001b[0m \u001b[1m0s\u001b[0m 1ms/step - accuracy: 0.9452 - loss: 0.0177 Epoch 100 | loss=0.0174, acc=0.9515 | val_loss=0.0252, val_acc=0.9232 | 0.14s\n",
      "\u001b[1m82/82\u001b[0m \u001b[32m━━━━━━━━━━━━━━━━━━━━\u001b[0m\u001b[37m\u001b[0m \u001b[1m0s\u001b[0m 2ms/step - accuracy: 0.9470 - loss: 0.0176 - val_accuracy: 0.9232 - val_loss: 0.0252 - learning_rate: 5.0000e-05\n"
     ]
    },
    {
     "data": {
      "image/png": "[encoded data removed]",
      "text/plain": [
       "<Figure size 800x400 with 1 Axes>"
      ]
     },
     "metadata": {},
     "output_type": "display_data"
    }
   ],
   "source": [
    "rs = 42\n",
    "\n",
    "# 1. Filter for important clinical and genetic features\n",
    "important_clinical_cols = [\n",
    "    \"age\", \"pulse_rate\", \"systolic_bp\", \"diastolic_bp\", \"glucose\", \"hba1c\", \"bmi\",\n",
    "    \"family_diabetes\", \"hypertensive\", \"family_hypertension\", \"cardiovascular_disease\",\n",
    "    \"stroke\", \"gender\", \"weight\", \"height\"\n",
    "]\n",
    "merged_clinical_df = merged_clinical_df[important_clinical_cols + [\"t2d\"]]\n",
    "X_merged_clinical = merged_clinical_df.drop(columns=[\"t2d\"])\n",
    "y_merged_clinical = merged_clinical_df[\"t2d\"]\n",
    "\n",
    "important_genetic_cols = [\n",
    "    \"CHR_ID\", \"CHR_POS\", \"RISK_ALLELE_FREQUENCY\", \"INTERGENIC\",\n",
    "    \"CI_LOWER_BOUND\", \"CI_UPPER_BOUND\", \"EFFECT_SIZE\", \"PVALUE_MLOG\", \"PVALUE\"\n",
    "]\n",
    "inter_genetic_filtered = inter_genetic[important_genetic_cols]\n",
    "normal_genetic_filtered = normal_genetic[important_genetic_cols]\n",
    "# Combine the filtered genetic datasets\n",
    "genetic_df = pd.concat([inter_genetic_filtered, normal_genetic_filtered], ignore_index=True)\n",
    "\n",
    "# 2. Balance clinical data using SMOTE to address class imbalance\n",
    "X_train_merged_clinical, _, y_train_merged_clinical, _ = train_test_split(\n",
    "    X_merged_clinical, y_merged_clinical, test_size=0.2, stratify=y_merged_clinical, random_state=rs\n",
    ")\n",
    "scaler_clinical = StandardScaler()\n",
    "X_train_merged_clinical_sc = scaler_clinical.fit_transform(X_train_merged_clinical)\n",
    "sm = SMOTE(random_state=rs)\n",
    "X_bal = {}\n",
    "y_bal = {}\n",
    "X_bal[\"merged_clinical\"], y_bal[\"merged_clinical\"] = sm.fit_resample(X_train_merged_clinical_sc, y_train_merged_clinical)\n",
    "\n",
    "# 3. Downsample genetic data so both modalities have same sample size\n",
    "min_len = min(len(X_bal[\"merged_clinical\"]), len(genetic_df))\n",
    "X_bal[\"merged_clinical\"] = X_bal[\"merged_clinical\"][:min_len]\n",
    "y_bal[\"merged_clinical\"] = y_bal[\"merged_clinical\"][:min_len]\n",
    "genetic_df_downsampled = genetic_df.sample(n=min_len, random_state=rs).reset_index(drop=True)\n",
    "\n",
    "# 4. Create train/test split for both modalities and scale both\n",
    "X_clinical = X_bal[\"merged_clinical\"]\n",
    "X_genetic = genetic_df_downsampled\n",
    "y = y_bal[\"merged_clinical\"]\n",
    "\n",
    "# Splitting both modalities with matching indexes for alignment\n",
    "X_train_clin, X_test_clin, X_train_gen, X_test_gen, y_train, y_test = train_test_split(\n",
    "    X_clinical, X_genetic, y, test_size=0.2, stratify=y, random_state=rs\n",
    ")\n",
    "\n",
    "# Scale each modality separately\n",
    "scaler_clin = StandardScaler().fit(X_train_clin)\n",
    "scaler_gen = StandardScaler().fit(X_train_gen)\n",
    "X_train_clin_sc = scaler_clin.transform(X_train_clin)\n",
    "X_test_clin_sc = scaler_clin.transform(X_test_clin)\n",
    "X_train_gen_sc = scaler_gen.transform(X_train_gen)\n",
    "X_test_gen_sc = scaler_gen.transform(X_test_gen)\n",
    "\n",
    "# Pack input arrays for Keras model ([clinical, genetic])\n",
    "X_tr_inputs = [X_train_clin_sc, X_train_gen_sc]\n",
    "X_te_inputs = [X_test_clin_sc, X_test_gen_sc]\n",
    "\n",
    "# 5. Compute class weights to use during training (improves fairness)\n",
    "weights = class_weight.compute_class_weight(class_weight='balanced', classes=np.unique(y_train), y=y_train)\n",
    "class_weights = dict(enumerate(weights))\n",
    "\n",
    "# 6. Define focal loss for imbalanced classification (optional: can use BCE instead)\n",
    "def focal_loss(gamma=2., alpha=0.25):\n",
    "    def loss_fn(y_true, y_pred):\n",
    "        bce = tf.keras.backend.binary_crossentropy(y_true, y_pred)\n",
    "        pt = tf.where(tf.equal(y_true, 1), y_pred, 1 - y_pred)\n",
    "        return tf.keras.backend.mean(alpha * tf.keras.backend.pow(1. - pt, gamma) * bce)\n",
    "    return loss_fn\n",
    "\n",
    "# 7. Build two-branch fusion model for clinical and genetic data\n",
    "def build_branch(input_dim, l2_reg=1e-3):\n",
    "    inp = Input(shape=(input_dim,))\n",
    "    x = Dense(64, activation=\"relu\", kernel_regularizer=l2(l2_reg))(inp)\n",
    "    x = BatchNormalization()(x)\n",
    "    x = Dense(32, activation=\"relu\", kernel_regularizer=l2(l2_reg))(x)\n",
    "    # Residual connection\n",
    "    proj = Dense(32, kernel_regularizer=l2(l2_reg))(inp)\n",
    "    x = Add()([x, proj])\n",
    "    x = BatchNormalization()(x)\n",
    "    return inp, x\n",
    "\n",
    "# One branch for each modality\n",
    "branches = [build_branch(X_train_clin_sc.shape[1]), build_branch(X_train_gen_sc.shape[1])]\n",
    "inputs, feats = zip(*branches)\n",
    "\n",
    "# Merge and apply Squeeze-and-Excitation attention\n",
    "merged = Concatenate()(feats)\n",
    "se = Dense(merged.shape[-1] // 16, activation=\"relu\")(merged)\n",
    "se = Dense(merged.shape[-1], activation=\"sigmoid\")(se)\n",
    "x = Multiply()([merged, se])\n",
    "x = Dense(128, activation=\"relu\", kernel_regularizer=l2(1e-3))(x)\n",
    "x = Dropout(0.5)(x)\n",
    "x = Dense(64, activation=\"relu\", kernel_regularizer=l2(1e-3))(x)\n",
    "x = Dropout(0.5)(x)\n",
    "out = Dense(1, activation=\"sigmoid\")(x)\n",
    "\n",
    "# Compile model (uses Adam and focal loss)\n",
    "model = Model(inputs=list(inputs), outputs=out)\n",
    "model.compile(\n",
    "    optimizer=Adam(learning_rate=1e-4, clipnorm=1.0),\n",
    "    loss=focal_loss(),  # or use \"binary_crossentropy\"\n",
    "    metrics=[\"accuracy\"]\n",
    ")\n",
    "\n",
    "# 8. Train model with early stopping and learning rate reduction\n",
    "class TimeLogger(Callback):\n",
    "    def on_epoch_begin(self, epoch, logs=None):\n",
    "        self._start = time.time()\n",
    "    def on_epoch_end(self, epoch, logs=None):\n",
    "        dt = time.time() - self._start\n",
    "        print(f\"Epoch {epoch+1:03d} | loss={logs['loss']:.4f}, acc={logs['accuracy']:.4f} | val_loss={logs['val_loss']:.4f}, val_acc={logs['val_accuracy']:.4f} | {dt:.2f}s\")\n",
    "\n",
    "callbacks = [\n",
    "    EarlyStopping(monitor=\"val_loss\", patience=10, restore_best_weights=True),  # stops when no improvement\n",
    "    ReduceLROnPlateau(monitor=\"val_loss\", factor=0.5, patience=5, min_lr=1e-6), # lowers LR if stuck\n",
    "    TimeLogger()\n",
    "]\n",
    "\n",
    "history = model.fit(\n",
    "    X_tr_inputs, y_train,\n",
    "    validation_data=(X_te_inputs, y_test),\n",
    "    epochs=100,\n",
    "    batch_size=32,\n",
    "    callbacks=callbacks,\n",
    "    class_weight=class_weights\n",
    ")\n",
    "\n",
    "# 9. Plot training and validation accuracy curves\n",
    "train_final = history.history[\"accuracy\"][-1]\n",
    "val_final = history.history[\"val_accuracy\"][-1]\n",
    "\n",
    "plt.figure(figsize=(8,4))\n",
    "plt.plot(history.history[\"accuracy\"], label=\"Train Acc\")\n",
    "plt.plot(history.history[\"val_accuracy\"], label=\"Val Acc\")\n",
    "plt.text(0.95, 0.05, f\"Final Train: {train_final:.2f}\\nFinal Val:   {val_final:.2f}\",\n",
    "         transform=plt.gca().transAxes, ha=\"right\", va=\"bottom\",\n",
    "         bbox=dict(boxstyle=\"round,pad=0.3\", alpha=0.3))\n",
    "plt.title(\"Fusion Model Accuracy\")\n",
    "plt.xlabel(\"Epoch\")\n",
    "plt.ylabel(\"Accuracy\")\n",
    "plt.legend()\n",
    "plt.grid(True)\n",
    "plt.tight_layout()\n",
    "plt.show()"
   ]
  },
  {
   "cell_type": "markdown",
   "metadata": {},
   "source": [
    "# Saving the model"
   ]
  },
  {
   "cell_type": "code",
   "execution_count": 71,
   "metadata": {},
   "outputs": [],
   "source": [
    "# Save in Keras v3 native format\n",
    "model.save('/Users/mohammedbasem/Desktop/T2D-Prediction-System--Data-Fusion-for-Enhanced-Decision-Making/fusion_model_final0.keras')"
   ]
  },
  {
   "cell_type": "code",
   "execution_count": 72,
   "metadata": {},
   "outputs": [
    {
     "name": "stderr",
     "output_type": "stream",
     "text": [
      "WARNING:absl:You are saving your model as an HDF5 file via `model.save()` or `keras.saving.save_model(model)`. This file format is considered legacy. We recommend using instead the native Keras format, e.g. `model.save('my_model.keras')` or `keras.saving.save_model(model, 'my_model.keras')`. \n"
     ]
    },
    {
     "name": "stdout",
     "output_type": "stream",
     "text": [
      "✅ Model saved as fusion_model_percentage.h5\n",
      "✅ Scalers saved: scaler_clinical.save, scaler_genetic.save\n"
     ]
    }
   ],
   "source": [
    "model.save(\"fusion_model_percentage.h5\")\n",
    "print(\"✅ Model saved as fusion_model_percentage.h5\")\n",
    "\n",
    "\n",
    "joblib.dump(scaler_clin, \"scaler_clinical.save\")\n",
    "joblib.dump(scaler_gen, \"scaler_genetic.save\")\n",
    "print(\"✅ Scalers saved: scaler_clinical.save, scaler_genetic.save\")"
   ]
  },
  {
   "cell_type": "markdown",
   "metadata": {},
   "source": [
    "# Conclusion"
   ]
  },
  {
   "cell_type": "markdown",
   "metadata": {},
   "source": [
    "In this notebook, a complete data fusion framework was developed to predict Type 2 Diabetes (T2D) by integrating clinical and genetic modalities using a neural network architecture.\n",
    "\n",
    "- **Fusion Strategy**:\n",
    "  - Two separate input branches were built for the clinical and genetic features.\n",
    "  - Each branch applied dense layers with residual connections and batch normalization to capture modality-specific patterns.\n",
    "  - The outputs were then concatenated and passed through a Squeeze-and-Excitation (SE) attention block, enabling adaptive recalibration of feature importance.\n",
    "  - Final layers included dropout and dense layers to reduce overfitting and improve generalization.\n",
    "\n",
    "- **Model Performance**:\n",
    "  - The model was trained with class weighting to address class imbalance and used focal loss for improved handling of hard-to-classify samples.\n",
    "  - Early stopping and learning rate reduction were applied to optimize training stability.\n",
    "  - The final training accuracy reached approximately **{train_final:.2f}**, and validation accuracy reached **{val_final:.2f}**, indicating a strong generalization capability.\n",
    "\n",
    "- **Outputs and Artifacts**:\n",
    "  - The trained model was saved in both `.keras` and `.h5` formats for deployment and experimentation.\n",
    "  - Scalers for both clinical and genetic data were saved using `joblib` to ensure consistent preprocessing during inference.\n",
    "\n",
    "- **Significance**:\n",
    "  - This fusion model provides a scalable and flexible foundation for multimodal prediction tasks.\n",
    "  - The architecture is extensible and can incorporate additional input sources such as wearable data or imaging.\n",
    "\n",
    "Overall, this work demonstrates a robust fusion pipeline capable of leveraging both clinical and genetic information to enhance predictive accuracy for chronic disease management, particularly T2D."
   ]
  }
 ],
 "metadata": {
  "kernelspec": {
   "display_name": "base",
   "language": "python",
   "name": "python3"
  },
  "language_info": {
   "codemirror_mode": {
    "name": "ipython",
    "version": 3
   },
   "file_extension": ".py",
   "mimetype": "text/x-python",
   "name": "python",
   "nbconvert_exporter": "python",
   "pygments_lexer": "ipython3",
   "version": "3.11.7"
  }
 },
 "nbformat": 4,
 "nbformat_minor": 2
}
