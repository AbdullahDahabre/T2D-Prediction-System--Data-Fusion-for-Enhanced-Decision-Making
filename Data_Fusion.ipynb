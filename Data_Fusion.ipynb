{
 "cells": [
  {
   "cell_type": "markdown",
   "metadata": {},
   "source": [
    "# Data preprocessing for Fusion and Model"
   ]
  },
  {
   "cell_type": "markdown",
   "metadata": {},
   "source": [
    "Importing Libraries"
   ]
  },
  {
   "cell_type": "code",
   "execution_count": 76,
   "metadata": {
    "ExecuteTime": {
     "end_time": "2025-02-18T15:12:53.854083600Z",
     "start_time": "2025-02-18T15:12:41.761926600Z"
    }
   },
   "outputs": [],
   "source": [
    "# Essentials\n",
    "import pandas as pd\n",
    "import numpy as np\n",
    "\n",
    "# Processing\n",
    "from sklearn.preprocessing import StandardScaler\n",
    "\n",
    "# Model\n",
    "\n",
    "# Visualization\n",
    "\n",
    "# Warnings\n",
    "import warnings\n",
    "warnings.filterwarnings('ignore')"
   ]
  },
  {
   "cell_type": "markdown",
   "metadata": {},
   "source": [
    "Loading Datasets"
   ]
  },
  {
   "cell_type": "code",
   "execution_count": 77,
   "metadata": {
    "ExecuteTime": {
     "end_time": "2025-02-18T15:36:25.581539600Z",
     "start_time": "2025-02-18T15:36:25.297433200Z"
    }
   },
   "outputs": [],
   "source": [
    "# Clinical Datasets\n",
    "African = pd.read_csv(\"/Users/mohammedbasem/Desktop/T2D-Prediction-System--Data-Fusion-for-Enhanced-Decision-Making/processed_datasets/clinical/African_pro.csv\")\n",
    "Bangladesh = pd.read_csv(\"/Users/mohammedbasem/Desktop/T2D-Prediction-System--Data-Fusion-for-Enhanced-Decision-Making/processed_datasets/clinical/Bangladesh_pro.csv\")\n",
    "Iraq = pd.read_csv(\"/Users/mohammedbasem/Desktop/T2D-Prediction-System--Data-Fusion-for-Enhanced-Decision-Making/processed_datasets/clinical/Iraq_pro.csv\")\n",
    "\n",
    "# Genetic Datasets\n",
    "inter_genetic = pd.read_csv(\"/Users/mohammedbasem/Desktop/T2D-Prediction-System--Data-Fusion-for-Enhanced-Decision-Making/processed_datasets/genetic/inter_genetic_dataset.csv\")\n",
    "normal_genetic = pd.read_csv(\"/Users/mohammedbasem/Desktop/T2D-Prediction-System--Data-Fusion-for-Enhanced-Decision-Making/processed_datasets/genetic/normal_genetic_dataset.csv\")"
   ]
  },
  {
   "cell_type": "markdown",
   "metadata": {},
   "source": [
    "Checking Target Columns"
   ]
  },
  {
   "cell_type": "code",
   "execution_count": 78,
   "metadata": {},
   "outputs": [
    {
     "name": "stdout",
     "output_type": "stream",
     "text": [
      "Index(['Patient number', 'Cholesterol', 'Glucose', 'HDL Chol',\n",
      "       'Chol/HDL ratio', 'Age', 'Gender', 'Height', 'Weight', 'BMI',\n",
      "       'Systolic BP', 'Diastolic BP', 'waist', 'hip', 'Waist/hip ratio',\n",
      "       'Diabetes', 'BMI Category'],\n",
      "      dtype='object') \n",
      "\n",
      "Index(['age', 'pulse_rate', 'systolic_bp', 'diastolic_bp', 'glucose', 'height',\n",
      "       'weight', 'bmi', 'family_diabetes', 'hypertensive',\n",
      "       'family_hypertension', 'cardiovascular_disease', 'stroke',\n",
      "       'gender_Encoded', 'diabetic_Encoded'],\n",
      "      dtype='object') \n",
      "\n",
      "Index(['Age', 'Urea', 'Cr', 'HbA1c', 'Chol', 'TG', 'HDL', 'LDL', 'VLDL', 'BMI',\n",
      "       'Gender_Encoded', 'Class_Encoded'],\n",
      "      dtype='object') \n",
      "\n",
      "Index(['STUDY', 'DISEASE_DESCRIPTION', 'REGION', 'CHR_ID', 'CHR_POS',\n",
      "       'MAPPED_GENE', 'UPSTREAM_GENE_ID', 'DOWNSTREAM_GENE_ID',\n",
      "       'UPSTREAM_GENE_DISTANCE', 'DOWNSTREAM_GENE_DISTANCE', 'SNPS', 'MERGED',\n",
      "       'GENOMIC_CONTEXT', 'INTERGENIC', 'RISK_ALLELE_FREQUENCY', 'PVALUE',\n",
      "       'PVALUE_MLOG', 'EFFECT_SIZE', 'CASE_PERCENTAGE', 'CI_LOWER_BOUND',\n",
      "       'CI_UPPER_BOUND', 'CI_RANGE', 'SNPS_PASSING_QC', 'PLATFORM_AFFYMETRIX',\n",
      "       'PLATFORM_AFFYMETRIX_ILLUMINA', 'PLATFORM_ILLUMINA', 'IMPUTED_ENCODED',\n",
      "       'RISK_ALLELE_ENCODED'],\n",
      "      dtype='object') \n",
      "\n",
      "Index(['STUDY', 'DISEASE_DESCRIPTION', 'REGION', 'CHR_ID', 'CHR_POS',\n",
      "       'MAPPED_GENE', 'SNP_GENE_IDS', 'SNPS', 'MERGED', 'GENOMIC_CONTEXT',\n",
      "       'INTERGENIC', 'RISK_ALLELE_FREQUENCY', 'PVALUE', 'PVALUE_MLOG',\n",
      "       'EFFECT_SIZE', 'CASE_PERCENTAGE', 'CI_LOWER_BOUND', 'CI_UPPER_BOUND',\n",
      "       'CI_RANGE', 'SNPS_PASSING_QC', 'PLATFORM_AFFYMETRIX',\n",
      "       'PLATFORM_AFFYMETRIX_ILLUMINA', 'PLATFORM_ILLUMINA', 'IMPUTED_ENCODED',\n",
      "       'RISK_ALLELE_ENCODED'],\n",
      "      dtype='object')\n"
     ]
    }
   ],
   "source": [
    "print(African.columns, \"\\n\")\n",
    "print(Bangladesh.columns, \"\\n\")\n",
    "print(Iraq.columns, \"\\n\")\n",
    "print(inter_genetic.columns, \"\\n\")\n",
    "print(normal_genetic.columns)"
   ]
  },
  {
   "cell_type": "markdown",
   "metadata": {},
   "source": [
    "Uniting Target Columns' name"
   ]
  },
  {
   "cell_type": "code",
   "execution_count": 79,
   "metadata": {},
   "outputs": [],
   "source": [
    "African.rename(columns={\n",
    "    'Diabetes': 'T2D',\n",
    "}, inplace=True)\n",
    " \n",
    "Bangladesh.rename(columns={\n",
    "    'diabetic_Encoded': 'T2D',\n",
    "}, inplace=True)\n",
    " \n",
    "Iraq.rename(columns={\n",
    "    'Class_Encoded': 'T2D',\n",
    "}, inplace=True)\n",
    " \n",
    "# Add a new column 'T2D' with all values set to 1\n",
    "#inter_genetic['T2D'] = 1\n",
    " \n",
    "# Add a new column 'T2D' with all values set to 1\n",
    "#normal_genetic['T2D'] = 1"
   ]
  },
  {
   "cell_type": "markdown",
   "metadata": {},
   "source": [
    "Checking Data Types "
   ]
  },
  {
   "cell_type": "code",
   "execution_count": 80,
   "metadata": {},
   "outputs": [
    {
     "name": "stdout",
     "output_type": "stream",
     "text": [
      "Patient number       int64\n",
      "Cholesterol          int64\n",
      "Glucose              int64\n",
      "HDL Chol             int64\n",
      "Chol/HDL ratio     float64\n",
      "Age                  int64\n",
      "Gender               int64\n",
      "Height               int64\n",
      "Weight               int64\n",
      "BMI                float64\n",
      "Systolic BP          int64\n",
      "Diastolic BP         int64\n",
      "waist                int64\n",
      "hip                  int64\n",
      "Waist/hip ratio    float64\n",
      "T2D                  int64\n",
      "BMI Category         int64\n",
      "dtype: object \n",
      "\n",
      "age                         int64\n",
      "pulse_rate                  int64\n",
      "systolic_bp                 int64\n",
      "diastolic_bp                int64\n",
      "glucose                   float64\n",
      "height                    float64\n",
      "weight                    float64\n",
      "bmi                       float64\n",
      "family_diabetes             int64\n",
      "hypertensive                int64\n",
      "family_hypertension         int64\n",
      "cardiovascular_disease      int64\n",
      "stroke                      int64\n",
      "gender_Encoded              int64\n",
      "T2D                         int64\n",
      "dtype: object \n",
      "\n",
      "Age                 int64\n",
      "Urea              float64\n",
      "Cr                  int64\n",
      "HbA1c             float64\n",
      "Chol              float64\n",
      "TG                float64\n",
      "HDL               float64\n",
      "LDL               float64\n",
      "VLDL              float64\n",
      "BMI               float64\n",
      "Gender_Encoded      int64\n",
      "T2D                 int64\n",
      "dtype: object \n",
      "\n",
      "STUDY                            object\n",
      "DISEASE_DESCRIPTION              object\n",
      "REGION                           object\n",
      "CHR_ID                            int64\n",
      "CHR_POS                           int64\n",
      "MAPPED_GENE                      object\n",
      "UPSTREAM_GENE_ID                  int64\n",
      "DOWNSTREAM_GENE_ID                int64\n",
      "UPSTREAM_GENE_DISTANCE            int64\n",
      "DOWNSTREAM_GENE_DISTANCE          int64\n",
      "SNPS                             object\n",
      "MERGED                            int64\n",
      "GENOMIC_CONTEXT                  object\n",
      "INTERGENIC                        int64\n",
      "RISK_ALLELE_FREQUENCY           float64\n",
      "PVALUE                          float64\n",
      "PVALUE_MLOG                     float64\n",
      "EFFECT_SIZE                     float64\n",
      "CASE_PERCENTAGE                 float64\n",
      "CI_LOWER_BOUND                  float64\n",
      "CI_UPPER_BOUND                  float64\n",
      "CI_RANGE                        float64\n",
      "SNPS_PASSING_QC                   int64\n",
      "PLATFORM_AFFYMETRIX               int64\n",
      "PLATFORM_AFFYMETRIX_ILLUMINA      int64\n",
      "PLATFORM_ILLUMINA                 int64\n",
      "IMPUTED_ENCODED                   int64\n",
      "RISK_ALLELE_ENCODED               int64\n",
      "dtype: object \n",
      "\n",
      "STUDY                            object\n",
      "DISEASE_DESCRIPTION              object\n",
      "REGION                           object\n",
      "CHR_ID                            int64\n",
      "CHR_POS                           int64\n",
      "MAPPED_GENE                      object\n",
      "SNP_GENE_IDS                      int64\n",
      "SNPS                             object\n",
      "MERGED                            int64\n",
      "GENOMIC_CONTEXT                  object\n",
      "INTERGENIC                        int64\n",
      "RISK_ALLELE_FREQUENCY           float64\n",
      "PVALUE                          float64\n",
      "PVALUE_MLOG                     float64\n",
      "EFFECT_SIZE                     float64\n",
      "CASE_PERCENTAGE                 float64\n",
      "CI_LOWER_BOUND                  float64\n",
      "CI_UPPER_BOUND                  float64\n",
      "CI_RANGE                        float64\n",
      "SNPS_PASSING_QC                   int64\n",
      "PLATFORM_AFFYMETRIX               int64\n",
      "PLATFORM_AFFYMETRIX_ILLUMINA      int64\n",
      "PLATFORM_ILLUMINA                 int64\n",
      "IMPUTED_ENCODED                   int64\n",
      "RISK_ALLELE_ENCODED               int64\n",
      "dtype: object \n",
      "\n"
     ]
    }
   ],
   "source": [
    "print(African.dtypes, '\\n')\n",
    "print(Bangladesh.dtypes, '\\n')\n",
    "print(Iraq.dtypes, '\\n')\n",
    "print(inter_genetic.dtypes, '\\n')\n",
    "print(normal_genetic.dtypes, '\\n')"
   ]
  },
  {
   "cell_type": "markdown",
   "metadata": {},
   "source": [
    "Checking number of columns and rows"
   ]
  },
  {
   "cell_type": "code",
   "execution_count": 81,
   "metadata": {},
   "outputs": [
    {
     "name": "stdout",
     "output_type": "stream",
     "text": [
      "(390, 17) \n",
      "\n",
      "(5437, 15) \n",
      "\n",
      "(786, 12) \n",
      "\n",
      "(1110, 28) \n",
      "\n",
      "(2141, 25) \n",
      "\n"
     ]
    }
   ],
   "source": [
    "print(African.shape, '\\n')\n",
    "print(Bangladesh.shape, '\\n')\n",
    "print(Iraq.shape, '\\n')\n",
    "print(inter_genetic.shape, '\\n')\n",
    "print(normal_genetic.shape, '\\n')"
   ]
  },
  {
   "cell_type": "markdown",
   "metadata": {},
   "source": [
    "# Generative Adversarial Networks (GANs)"
   ]
  },
  {
   "cell_type": "markdown",
   "metadata": {},
   "source": [
    "Define GAN Architecture"
   ]
  },
  {
   "cell_type": "code",
   "execution_count": 82,
   "metadata": {},
   "outputs": [],
   "source": [
    "import numpy as np\n",
    "import pandas as pd\n",
    "import tensorflow as tf\n",
    "from tensorflow.keras.layers import Dense, BatchNormalization, LeakyReLU\n",
    "from tensorflow.keras.models import Sequential\n",
    "from sklearn.preprocessing import MinMaxScaler\n",
    "import matplotlib.pyplot as plt"
   ]
  },
  {
   "cell_type": "code",
   "execution_count": 83,
   "metadata": {},
   "outputs": [],
   "source": [
    "# Define Generator model\n",
    "def build_generator(input_dim, output_dim):\n",
    "    model = Sequential([\n",
    "        Dense(128, input_dim=input_dim),\n",
    "        LeakyReLU(alpha=0.2),\n",
    "        BatchNormalization(),\n",
    "        Dense(256),\n",
    "        LeakyReLU(alpha=0.2),\n",
    "        BatchNormalization(),\n",
    "        Dense(output_dim, activation='tanh')\n",
    "    ])\n",
    "    return model\n",
    "\n",
    "# Define Discriminator model\n",
    "def build_discriminator(input_dim):\n",
    "    model = Sequential([\n",
    "        Dense(256, input_dim=input_dim),\n",
    "        LeakyReLU(alpha=0.2),\n",
    "        Dense(128),\n",
    "        LeakyReLU(alpha=0.2),\n",
    "        Dense(1, activation='sigmoid')  # Output probability (Real vs Fake)\n",
    "    ])\n",
    "    model.compile(loss='binary_crossentropy', optimizer='adam', metrics=['accuracy'])\n",
    "    return model"
   ]
  },
  {
   "cell_type": "markdown",
   "metadata": {},
   "source": [
    "Normalizing for `inter_genetic`"
   ]
  },
  {
   "cell_type": "code",
   "execution_count": 84,
   "metadata": {},
   "outputs": [],
   "source": [
    "# Selecting only numerical columns\n",
    "numerical_cols = inter_genetic.select_dtypes(include=['number']).columns\n",
    "\n",
    "# Normalizing only numerical columns\n",
    "scaler = MinMaxScaler()\n",
    "inter_genetic_scaled = inter_genetic.copy()  # Copying original dataframe\n",
    "inter_genetic_scaled[numerical_cols] = scaler.fit_transform(inter_genetic[numerical_cols])\n"
   ]
  },
  {
   "cell_type": "markdown",
   "metadata": {},
   "source": [
    "Build and Compile the GAN for `inter_genetic`"
   ]
  },
  {
   "cell_type": "code",
   "execution_count": 85,
   "metadata": {},
   "outputs": [],
   "source": [
    "input_dim = inter_genetic_scaled.shape[1]  # Number of features\n",
    "generator = build_generator(100, input_dim)  # Generator takes 100 noise dimensions\n",
    "discriminator = build_discriminator(input_dim)\n",
    "\n",
    "# Create GAN model (combining Generator & Discriminator)\n",
    "discriminator.trainable = False  # Freeze discriminator during GAN training\n",
    "\n",
    "gan = Sequential([generator, discriminator])\n",
    "gan.compile(loss='binary_crossentropy', optimizer='adam')"
   ]
  },
  {
   "cell_type": "code",
   "execution_count": 86,
   "metadata": {},
   "outputs": [],
   "source": [
    "inter_genetic_scaled = inter_genetic_scaled.apply(pd.to_numeric, errors='coerce').astype(np.float32)\n"
   ]
  },
  {
   "cell_type": "code",
   "execution_count": 87,
   "metadata": {},
   "outputs": [],
   "source": [
    "inter_genetic_scaled = inter_genetic_scaled.astype(np.float32)\n"
   ]
  },
  {
   "cell_type": "code",
   "execution_count": 88,
   "metadata": {},
   "outputs": [
    {
     "name": "stdout",
     "output_type": "stream",
     "text": [
      "STUDY                           float32\n",
      "DISEASE_DESCRIPTION             float32\n",
      "REGION                          float32\n",
      "CHR_ID                          float32\n",
      "CHR_POS                         float32\n",
      "MAPPED_GENE                     float32\n",
      "UPSTREAM_GENE_ID                float32\n",
      "DOWNSTREAM_GENE_ID              float32\n",
      "UPSTREAM_GENE_DISTANCE          float32\n",
      "DOWNSTREAM_GENE_DISTANCE        float32\n",
      "SNPS                            float32\n",
      "MERGED                          float32\n",
      "GENOMIC_CONTEXT                 float32\n",
      "INTERGENIC                      float32\n",
      "RISK_ALLELE_FREQUENCY           float32\n",
      "PVALUE                          float32\n",
      "PVALUE_MLOG                     float32\n",
      "EFFECT_SIZE                     float32\n",
      "CASE_PERCENTAGE                 float32\n",
      "CI_LOWER_BOUND                  float32\n",
      "CI_UPPER_BOUND                  float32\n",
      "CI_RANGE                        float32\n",
      "SNPS_PASSING_QC                 float32\n",
      "PLATFORM_AFFYMETRIX             float32\n",
      "PLATFORM_AFFYMETRIX_ILLUMINA    float32\n",
      "PLATFORM_ILLUMINA               float32\n",
      "IMPUTED_ENCODED                 float32\n",
      "RISK_ALLELE_ENCODED             float32\n",
      "dtype: object\n"
     ]
    }
   ],
   "source": [
    "print(inter_genetic_scaled.dtypes)\n"
   ]
  },
  {
   "cell_type": "markdown",
   "metadata": {},
   "source": [
    "Train the GAN for `inter_genetic`"
   ]
  },
  {
   "cell_type": "code",
   "execution_count": 89,
   "metadata": {},
   "outputs": [
    {
     "name": "stdout",
     "output_type": "stream",
     "text": [
      "\u001b[1m1/1\u001b[0m \u001b[32m━━━━━━━━━━━━━━━━━━━━\u001b[0m\u001b[37m\u001b[0m \u001b[1m0s\u001b[0m 41ms/step\n",
      "Epoch 0: D Loss: nan, G Loss: 0.5730\n",
      "\u001b[1m1/1\u001b[0m \u001b[32m━━━━━━━━━━━━━━━━━━━━\u001b[0m\u001b[37m\u001b[0m \u001b[1m0s\u001b[0m 15ms/step\n",
      "Epoch 1: D Loss: nan, G Loss: 0.5768\n",
      "\u001b[1m1/1\u001b[0m \u001b[32m━━━━━━━━━━━━━━━━━━━━\u001b[0m\u001b[37m\u001b[0m \u001b[1m0s\u001b[0m 14ms/step\n",
      "Epoch 2: D Loss: nan, G Loss: 0.5735\n",
      "\u001b[1m1/1\u001b[0m \u001b[32m━━━━━━━━━━━━━━━━━━━━\u001b[0m\u001b[37m\u001b[0m \u001b[1m0s\u001b[0m 15ms/step\n",
      "Epoch 3: D Loss: nan, G Loss: 0.5700\n",
      "\u001b[1m1/1\u001b[0m \u001b[32m━━━━━━━━━━━━━━━━━━━━\u001b[0m\u001b[37m\u001b[0m \u001b[1m0s\u001b[0m 14ms/step\n",
      "Epoch 4: D Loss: nan, G Loss: 0.5682\n",
      "\u001b[1m1/1\u001b[0m \u001b[32m━━━━━━━━━━━━━━━━━━━━\u001b[0m\u001b[37m\u001b[0m \u001b[1m0s\u001b[0m 14ms/step\n",
      "Epoch 5: D Loss: nan, G Loss: 0.5619\n",
      "\u001b[1m1/1\u001b[0m \u001b[32m━━━━━━━━━━━━━━━━━━━━\u001b[0m\u001b[37m\u001b[0m \u001b[1m0s\u001b[0m 15ms/step\n",
      "Epoch 6: D Loss: nan, G Loss: 0.5586\n",
      "\u001b[1m1/1\u001b[0m \u001b[32m━━━━━━━━━━━━━━━━━━━━\u001b[0m\u001b[37m\u001b[0m \u001b[1m0s\u001b[0m 14ms/step\n",
      "Epoch 7: D Loss: nan, G Loss: 0.5568\n",
      "\u001b[1m1/1\u001b[0m \u001b[32m━━━━━━━━━━━━━━━━━━━━\u001b[0m\u001b[37m\u001b[0m \u001b[1m0s\u001b[0m 15ms/step\n",
      "Epoch 8: D Loss: nan, G Loss: 0.5521\n",
      "\u001b[1m1/1\u001b[0m \u001b[32m━━━━━━━━━━━━━━━━━━━━\u001b[0m\u001b[37m\u001b[0m \u001b[1m0s\u001b[0m 15ms/step\n",
      "Epoch 9: D Loss: nan, G Loss: 0.5499\n",
      "\u001b[1m1/1\u001b[0m \u001b[32m━━━━━━━━━━━━━━━━━━━━\u001b[0m\u001b[37m\u001b[0m \u001b[1m0s\u001b[0m 16ms/step\n",
      "Epoch 10: D Loss: nan, G Loss: 0.5447\n",
      "\u001b[1m1/1\u001b[0m \u001b[32m━━━━━━━━━━━━━━━━━━━━\u001b[0m\u001b[37m\u001b[0m \u001b[1m0s\u001b[0m 15ms/step\n",
      "Epoch 11: D Loss: nan, G Loss: 0.5427\n",
      "\u001b[1m1/1\u001b[0m \u001b[32m━━━━━━━━━━━━━━━━━━━━\u001b[0m\u001b[37m\u001b[0m \u001b[1m0s\u001b[0m 16ms/step\n",
      "Epoch 12: D Loss: nan, G Loss: 0.5396\n",
      "\u001b[1m1/1\u001b[0m \u001b[32m━━━━━━━━━━━━━━━━━━━━\u001b[0m\u001b[37m\u001b[0m \u001b[1m0s\u001b[0m 15ms/step\n",
      "Epoch 13: D Loss: nan, G Loss: 0.5377\n",
      "\u001b[1m1/1\u001b[0m \u001b[32m━━━━━━━━━━━━━━━━━━━━\u001b[0m\u001b[37m\u001b[0m \u001b[1m0s\u001b[0m 16ms/step\n",
      "Epoch 14: D Loss: nan, G Loss: 0.5349\n",
      "\u001b[1m1/1\u001b[0m \u001b[32m━━━━━━━━━━━━━━━━━━━━\u001b[0m\u001b[37m\u001b[0m \u001b[1m0s\u001b[0m 16ms/step\n",
      "Epoch 15: D Loss: nan, G Loss: 0.5325\n",
      "\u001b[1m1/1\u001b[0m \u001b[32m━━━━━━━━━━━━━━━━━━━━\u001b[0m\u001b[37m\u001b[0m \u001b[1m0s\u001b[0m 15ms/step\n",
      "Epoch 16: D Loss: nan, G Loss: 0.5302\n",
      "\u001b[1m1/1\u001b[0m \u001b[32m━━━━━━━━━━━━━━━━━━━━\u001b[0m\u001b[37m\u001b[0m \u001b[1m0s\u001b[0m 16ms/step\n",
      "Epoch 17: D Loss: nan, G Loss: 0.5295\n",
      "\u001b[1m1/1\u001b[0m \u001b[32m━━━━━━━━━━━━━━━━━━━━\u001b[0m\u001b[37m\u001b[0m \u001b[1m0s\u001b[0m 15ms/step\n",
      "Epoch 18: D Loss: nan, G Loss: 0.5272\n",
      "\u001b[1m1/1\u001b[0m \u001b[32m━━━━━━━━━━━━━━━━━━━━\u001b[0m\u001b[37m\u001b[0m \u001b[1m0s\u001b[0m 15ms/step\n",
      "Epoch 19: D Loss: nan, G Loss: 0.5246\n",
      "\u001b[1m1/1\u001b[0m \u001b[32m━━━━━━━━━━━━━━━━━━━━\u001b[0m\u001b[37m\u001b[0m \u001b[1m0s\u001b[0m 14ms/step\n",
      "Epoch 20: D Loss: nan, G Loss: 0.5227\n",
      "\u001b[1m1/1\u001b[0m \u001b[32m━━━━━━━━━━━━━━━━━━━━\u001b[0m\u001b[37m\u001b[0m \u001b[1m0s\u001b[0m 15ms/step\n",
      "Epoch 21: D Loss: nan, G Loss: 0.5193\n",
      "\u001b[1m1/1\u001b[0m \u001b[32m━━━━━━━━━━━━━━━━━━━━\u001b[0m\u001b[37m\u001b[0m \u001b[1m0s\u001b[0m 17ms/step\n",
      "Epoch 22: D Loss: nan, G Loss: 0.5175\n",
      "\u001b[1m1/1\u001b[0m \u001b[32m━━━━━━━━━━━━━━━━━━━━\u001b[0m\u001b[37m\u001b[0m \u001b[1m0s\u001b[0m 16ms/step\n",
      "Epoch 23: D Loss: nan, G Loss: 0.5149\n",
      "\u001b[1m1/1\u001b[0m \u001b[32m━━━━━━━━━━━━━━━━━━━━\u001b[0m\u001b[37m\u001b[0m \u001b[1m0s\u001b[0m 15ms/step\n",
      "Epoch 24: D Loss: nan, G Loss: 0.5122\n"
     ]
    }
   ],
   "source": [
    "#edited\n",
    "\n",
    "def train_gan(epochs, batch_size):\n",
    "    real_labels = np.ones((batch_size, 1))  # Label 1 for real data (Yes)\n",
    "    fake_labels = np.zeros((batch_size, 1))  # Label 0 for fake data (No)\n",
    " \n",
    "    for epoch in range(epochs):\n",
    "        # Select a random batch of real samples\n",
    "        idx = np.random.randint(0, inter_genetic_scaled.shape[0], batch_size)\n",
    "        real_samples = inter_genetic_scaled.iloc[idx]  # ✅ Fixed: Use iloc\n",
    " \n",
    "        # Generate fake samples\n",
    "        noise = np.random.normal(0, 1, (batch_size, 100))  # Noise input\n",
    "        fake_samples = generator.predict(noise)\n",
    " \n",
    "        # Train the Discriminator\n",
    "        d_loss_real = discriminator.train_on_batch(real_samples, real_labels)\n",
    "        d_loss_fake = discriminator.train_on_batch(fake_samples, fake_labels)\n",
    " \n",
    "        # Extract loss values properly\n",
    "        d_loss_real_value = d_loss_real[0] if isinstance(d_loss_real, (list, tuple, np.ndarray)) else d_loss_real\n",
    "        d_loss_fake_value = d_loss_fake[0] if isinstance(d_loss_fake, (list, tuple, np.ndarray)) else d_loss_fake\n",
    "        d_loss = 0.5 * (d_loss_real_value + d_loss_fake_value)  # Compute average loss\n",
    " \n",
    "        # Train the Generator\n",
    "        noise = np.random.normal(0, 1, (batch_size, 100))\n",
    "        g_loss = gan.train_on_batch(noise, real_labels)  # Directly assign g_loss\n",
    " \n",
    "        # Print loss every epoch\n",
    "        print(f\"Epoch {epoch}: D Loss: {d_loss:.4f}, G Loss: {g_loss:.4f}\")\n",
    " \n",
    "# Train the GAN\n",
    "train_gan(epochs=25, batch_size=16)"
   ]
  },
  {
   "cell_type": "markdown",
   "metadata": {},
   "source": [
    "Generate Synthetic \"No\" Samples for `inter_genetic`"
   ]
  },
  {
   "cell_type": "code",
   "execution_count": 90,
   "metadata": {},
   "outputs": [
    {
     "name": "stdout",
     "output_type": "stream",
     "text": [
      "\u001b[1m35/35\u001b[0m \u001b[32m━━━━━━━━━━━━━━━━━━━━\u001b[0m\u001b[37m\u001b[0m \u001b[1m0s\u001b[0m 567us/step\n",
      "T2D\n",
      "1    1110\n",
      "0    1110\n",
      "Name: count, dtype: int64\n",
      "Null values in IMPUTED_ENCODED: 0\n",
      "Null values in RISK_ALLELE_ENCODED: 0\n",
      "Final columns: Index(['STUDY', 'DISEASE_DESCRIPTION', 'REGION', 'CHR_ID', 'CHR_POS',\n",
      "       'MAPPED_GENE', 'UPSTREAM_GENE_ID', 'DOWNSTREAM_GENE_ID',\n",
      "       'UPSTREAM_GENE_DISTANCE', 'DOWNSTREAM_GENE_DISTANCE', 'SNPS', 'MERGED',\n",
      "       'GENOMIC_CONTEXT', 'INTERGENIC', 'RISK_ALLELE_FREQUENCY', 'PVALUE',\n",
      "       'PVALUE_MLOG', 'EFFECT_SIZE', 'CASE_PERCENTAGE', 'CI_LOWER_BOUND',\n",
      "       'CI_UPPER_BOUND', 'CI_RANGE', 'SNPS_PASSING_QC', 'PLATFORM_AFFYMETRIX',\n",
      "       'PLATFORM_AFFYMETRIX_ILLUMINA', 'PLATFORM_ILLUMINA', 'IMPUTED_ENCODED',\n",
      "       'RISK_ALLELE_ENCODED', 'T2D'],\n",
      "      dtype='object')\n"
     ]
    }
   ],
   "source": [
    "import numpy as np\n",
    "import pandas as pd\n",
    "\n",
    "# Step 1: Ensure Generator Inputs Match Expected Noise Dim\n",
    "num_samples = 1110\n",
    "noise_dim = generator.input_shape[1]  # Get correct input size\n",
    "noise = np.random.normal(0, 1, (num_samples, noise_dim))  # Generate noise\n",
    "\n",
    "# Step 2: Generate Fake \"No\" Samples\n",
    "synthetic_no_samples = generator.predict(noise)\n",
    "\n",
    "# Step 3: Apply inverse_transform only on numerical columns\n",
    "synthetic_no_samples_scaled = scaler.inverse_transform(synthetic_no_samples[:, :scaler.scale_.shape[0]])\n",
    "\n",
    "# Step 4: Convert to DataFrame with Correct Column Names\n",
    "synthetic_df = pd.DataFrame(synthetic_no_samples_scaled, columns=inter_genetic.columns[:scaler.scale_.shape[0]])\n",
    "\n",
    "# Step 5: Add Missing Categorical Columns Randomly (Ensure IMPUTED_ENCODED & RISK_ALLELE_ENCODED are added)\n",
    "for col in inter_genetic.columns[scaler.scale_.shape[0]:-1]:  # Exclude target column\n",
    "    if col in [\"IMPUTED_ENCODED\", \"RISK_ALLELE_ENCODED\"]:  # ✅ Ensure these columns are restored\n",
    "        synthetic_df[col] = np.random.choice(inter_genetic[col].values, size=len(synthetic_df))\n",
    "    else:  # ✅ Add all other categorical columns normally\n",
    "        synthetic_df[col] = np.random.choice(inter_genetic[col].values, size=len(synthetic_df))\n",
    "\n",
    "# Step 6: Label Synthetic Samples as \"No\" (0)\n",
    "synthetic_df['T2D'] = 0\n",
    "\n",
    "# Step 7: Label Original Samples as \"Yes\" (1)\n",
    "inter_genetic['T2D'] = 1\n",
    "\n",
    "# Step 8: Combine Real and Synthetic Data\n",
    "balanced_inter_genetic = pd.concat([inter_genetic, synthetic_df], ignore_index=True)\n",
    "\n",
    "# Step 9: Fill Missing `IMPUTED_ENCODED` & `RISK_ALLELE_ENCODED` Values (If Any)\n",
    "for col in [\"IMPUTED_ENCODED\", \"RISK_ALLELE_ENCODED\"]:\n",
    "    if balanced_inter_genetic[col].isnull().sum() > 0:\n",
    "        real_values = balanced_inter_genetic.loc[balanced_inter_genetic['T2D'] == 1, col]\n",
    "        balanced_inter_genetic.loc[balanced_inter_genetic['T2D'] == 0, col] = np.random.choice(\n",
    "            real_values, size=(balanced_inter_genetic['T2D'] == 0).sum(), replace=True\n",
    "        )\n",
    "\n",
    "# Step 10: Check the distribution of labels\n",
    "print(balanced_inter_genetic['T2D'].value_counts())\n",
    "\n",
    "# Step 11: Verify Fixes\n",
    "print(\"Null values in IMPUTED_ENCODED:\", balanced_inter_genetic['IMPUTED_ENCODED'].isnull().sum())\n",
    "print(\"Null values in RISK_ALLELE_ENCODED:\", balanced_inter_genetic['RISK_ALLELE_ENCODED'].isnull().sum())\n",
    "print(\"Final columns:\", balanced_inter_genetic.columns)"
   ]
  },
  {
   "cell_type": "code",
   "execution_count": 91,
   "metadata": {},
   "outputs": [
    {
     "data": {
      "text/html": [
       "<div>\n",
       "<style scoped>\n",
       "    .dataframe tbody tr th:only-of-type {\n",
       "        vertical-align: middle;\n",
       "    }\n",
       "\n",
       "    .dataframe tbody tr th {\n",
       "        vertical-align: top;\n",
       "    }\n",
       "\n",
       "    .dataframe thead th {\n",
       "        text-align: right;\n",
       "    }\n",
       "</style>\n",
       "<table border=\"1\" class=\"dataframe\">\n",
       "  <thead>\n",
       "    <tr style=\"text-align: right;\">\n",
       "      <th></th>\n",
       "      <th>STUDY</th>\n",
       "      <th>DISEASE_DESCRIPTION</th>\n",
       "      <th>REGION</th>\n",
       "      <th>CHR_ID</th>\n",
       "      <th>CHR_POS</th>\n",
       "      <th>MAPPED_GENE</th>\n",
       "      <th>UPSTREAM_GENE_ID</th>\n",
       "      <th>DOWNSTREAM_GENE_ID</th>\n",
       "      <th>UPSTREAM_GENE_DISTANCE</th>\n",
       "      <th>DOWNSTREAM_GENE_DISTANCE</th>\n",
       "      <th>...</th>\n",
       "      <th>CI_LOWER_BOUND</th>\n",
       "      <th>CI_UPPER_BOUND</th>\n",
       "      <th>CI_RANGE</th>\n",
       "      <th>SNPS_PASSING_QC</th>\n",
       "      <th>PLATFORM_AFFYMETRIX</th>\n",
       "      <th>PLATFORM_AFFYMETRIX_ILLUMINA</th>\n",
       "      <th>PLATFORM_ILLUMINA</th>\n",
       "      <th>IMPUTED_ENCODED</th>\n",
       "      <th>RISK_ALLELE_ENCODED</th>\n",
       "      <th>T2D</th>\n",
       "    </tr>\n",
       "  </thead>\n",
       "  <tbody>\n",
       "    <tr>\n",
       "      <th>0</th>\n",
       "      <td>[-1.47616668e-02  5.09463213e-02  2.69961264e-...</td>\n",
       "      <td>[ 1.58013031e-01  9.36319865e-03 -6.81496318e-...</td>\n",
       "      <td>[ 3.05748135e-01 -2.47293934e-01 -1.75472543e-...</td>\n",
       "      <td>8</td>\n",
       "      <td>21853920</td>\n",
       "      <td>[ 1.15677923e-01  4.50637192e-02 -5.24731204e-...</td>\n",
       "      <td>168546</td>\n",
       "      <td>147443</td>\n",
       "      <td>41563</td>\n",
       "      <td>54953</td>\n",
       "      <td>...</td>\n",
       "      <td>0.46</td>\n",
       "      <td>0.56</td>\n",
       "      <td>0.09</td>\n",
       "      <td>6494962</td>\n",
       "      <td>0</td>\n",
       "      <td>1</td>\n",
       "      <td>0</td>\n",
       "      <td>1</td>\n",
       "      <td>0</td>\n",
       "      <td>1</td>\n",
       "    </tr>\n",
       "    <tr>\n",
       "      <th>1</th>\n",
       "      <td>[-1.47616668e-02  5.09463213e-02  2.69961264e-...</td>\n",
       "      <td>[ 1.58013031e-01  9.36319865e-03 -6.81496318e-...</td>\n",
       "      <td>[ 3.67390394e-01 -3.92685801e-01  1.06864296e-...</td>\n",
       "      <td>12</td>\n",
       "      <td>5284163</td>\n",
       "      <td>[ 2.10065857e-01 -2.48143420e-01 -4.31279140e-...</td>\n",
       "      <td>256115</td>\n",
       "      <td>185652</td>\n",
       "      <td>39964</td>\n",
       "      <td>147945</td>\n",
       "      <td>...</td>\n",
       "      <td>0.46</td>\n",
       "      <td>0.56</td>\n",
       "      <td>0.09</td>\n",
       "      <td>6494962</td>\n",
       "      <td>0</td>\n",
       "      <td>1</td>\n",
       "      <td>0</td>\n",
       "      <td>1</td>\n",
       "      <td>0</td>\n",
       "      <td>1</td>\n",
       "    </tr>\n",
       "    <tr>\n",
       "      <th>2</th>\n",
       "      <td>[ 1.53467417e-01 -1.21334471e-01  7.48024210e-...</td>\n",
       "      <td>[ 1.58013031e-01  9.36319865e-03 -6.81496318e-...</td>\n",
       "      <td>[ 2.82850683e-01 -1.11950912e-01  2.99117025e-...</td>\n",
       "      <td>8</td>\n",
       "      <td>107059816</td>\n",
       "      <td>[ 3.28507662e-01 -2.92603046e-01 -2.57462531e-...</td>\n",
       "      <td>174429</td>\n",
       "      <td>254146</td>\n",
       "      <td>289572</td>\n",
       "      <td>113384</td>\n",
       "      <td>...</td>\n",
       "      <td>1.34</td>\n",
       "      <td>2.08</td>\n",
       "      <td>0.74</td>\n",
       "      <td>6906962</td>\n",
       "      <td>0</td>\n",
       "      <td>1</td>\n",
       "      <td>0</td>\n",
       "      <td>1</td>\n",
       "      <td>1</td>\n",
       "      <td>1</td>\n",
       "    </tr>\n",
       "    <tr>\n",
       "      <th>3</th>\n",
       "      <td>[ 4.83314842e-02  1.37150949e-02 -2.07627401e-...</td>\n",
       "      <td>[-1.53973475e-01  1.47206217e-01 -1.56758264e-...</td>\n",
       "      <td>[ 2.93079883e-01 -1.66859761e-01 -1.55704990e-...</td>\n",
       "      <td>7</td>\n",
       "      <td>15013235</td>\n",
       "      <td>[ 3.02324921e-01 -1.51797831e-01 -1.33085012e-...</td>\n",
       "      <td>225816</td>\n",
       "      <td>187546</td>\n",
       "      <td>27161</td>\n",
       "      <td>187082</td>\n",
       "      <td>...</td>\n",
       "      <td>1.04</td>\n",
       "      <td>1.09</td>\n",
       "      <td>0.05</td>\n",
       "      <td>2500000</td>\n",
       "      <td>0</td>\n",
       "      <td>1</td>\n",
       "      <td>0</td>\n",
       "      <td>1</td>\n",
       "      <td>2</td>\n",
       "      <td>1</td>\n",
       "    </tr>\n",
       "    <tr>\n",
       "      <th>4</th>\n",
       "      <td>[ 4.83314842e-02  1.37150949e-02 -2.07627401e-...</td>\n",
       "      <td>[-1.53973475e-01  1.47206217e-01 -1.56758264e-...</td>\n",
       "      <td>[ 2.77950853e-01 -2.00821161e-01 -7.99589884e-...</td>\n",
       "      <td>9</td>\n",
       "      <td>22134095</td>\n",
       "      <td>[ 4.64857012e-01 -1.08726546e-01 -2.27923006e-...</td>\n",
       "      <td>240498</td>\n",
       "      <td>176399</td>\n",
       "      <td>5992</td>\n",
       "      <td>312729</td>\n",
       "      <td>...</td>\n",
       "      <td>1.15</td>\n",
       "      <td>1.22</td>\n",
       "      <td>0.07</td>\n",
       "      <td>2500000</td>\n",
       "      <td>0</td>\n",
       "      <td>1</td>\n",
       "      <td>0</td>\n",
       "      <td>1</td>\n",
       "      <td>0</td>\n",
       "      <td>1</td>\n",
       "    </tr>\n",
       "  </tbody>\n",
       "</table>\n",
       "<p>5 rows × 29 columns</p>\n",
       "</div>"
      ],
      "text/plain": [
       "                                               STUDY  \\\n",
       "0  [-1.47616668e-02  5.09463213e-02  2.69961264e-...   \n",
       "1  [-1.47616668e-02  5.09463213e-02  2.69961264e-...   \n",
       "2  [ 1.53467417e-01 -1.21334471e-01  7.48024210e-...   \n",
       "3  [ 4.83314842e-02  1.37150949e-02 -2.07627401e-...   \n",
       "4  [ 4.83314842e-02  1.37150949e-02 -2.07627401e-...   \n",
       "\n",
       "                                 DISEASE_DESCRIPTION  \\\n",
       "0  [ 1.58013031e-01  9.36319865e-03 -6.81496318e-...   \n",
       "1  [ 1.58013031e-01  9.36319865e-03 -6.81496318e-...   \n",
       "2  [ 1.58013031e-01  9.36319865e-03 -6.81496318e-...   \n",
       "3  [-1.53973475e-01  1.47206217e-01 -1.56758264e-...   \n",
       "4  [-1.53973475e-01  1.47206217e-01 -1.56758264e-...   \n",
       "\n",
       "                                              REGION  CHR_ID    CHR_POS  \\\n",
       "0  [ 3.05748135e-01 -2.47293934e-01 -1.75472543e-...       8   21853920   \n",
       "1  [ 3.67390394e-01 -3.92685801e-01  1.06864296e-...      12    5284163   \n",
       "2  [ 2.82850683e-01 -1.11950912e-01  2.99117025e-...       8  107059816   \n",
       "3  [ 2.93079883e-01 -1.66859761e-01 -1.55704990e-...       7   15013235   \n",
       "4  [ 2.77950853e-01 -2.00821161e-01 -7.99589884e-...       9   22134095   \n",
       "\n",
       "                                         MAPPED_GENE  UPSTREAM_GENE_ID  \\\n",
       "0  [ 1.15677923e-01  4.50637192e-02 -5.24731204e-...            168546   \n",
       "1  [ 2.10065857e-01 -2.48143420e-01 -4.31279140e-...            256115   \n",
       "2  [ 3.28507662e-01 -2.92603046e-01 -2.57462531e-...            174429   \n",
       "3  [ 3.02324921e-01 -1.51797831e-01 -1.33085012e-...            225816   \n",
       "4  [ 4.64857012e-01 -1.08726546e-01 -2.27923006e-...            240498   \n",
       "\n",
       "   DOWNSTREAM_GENE_ID  UPSTREAM_GENE_DISTANCE  DOWNSTREAM_GENE_DISTANCE  ...  \\\n",
       "0              147443                   41563                     54953  ...   \n",
       "1              185652                   39964                    147945  ...   \n",
       "2              254146                  289572                    113384  ...   \n",
       "3              187546                   27161                    187082  ...   \n",
       "4              176399                    5992                    312729  ...   \n",
       "\n",
       "  CI_LOWER_BOUND  CI_UPPER_BOUND CI_RANGE  SNPS_PASSING_QC  \\\n",
       "0           0.46            0.56     0.09          6494962   \n",
       "1           0.46            0.56     0.09          6494962   \n",
       "2           1.34            2.08     0.74          6906962   \n",
       "3           1.04            1.09     0.05          2500000   \n",
       "4           1.15            1.22     0.07          2500000   \n",
       "\n",
       "   PLATFORM_AFFYMETRIX  PLATFORM_AFFYMETRIX_ILLUMINA  PLATFORM_ILLUMINA  \\\n",
       "0                    0                             1                  0   \n",
       "1                    0                             1                  0   \n",
       "2                    0                             1                  0   \n",
       "3                    0                             1                  0   \n",
       "4                    0                             1                  0   \n",
       "\n",
       "   IMPUTED_ENCODED  RISK_ALLELE_ENCODED  T2D  \n",
       "0                1                    0    1  \n",
       "1                1                    0    1  \n",
       "2                1                    1    1  \n",
       "3                1                    2    1  \n",
       "4                1                    0    1  \n",
       "\n",
       "[5 rows x 29 columns]"
      ]
     },
     "execution_count": 91,
     "metadata": {},
     "output_type": "execute_result"
    }
   ],
   "source": [
    "inter_genetic.head()"
   ]
  },
  {
   "cell_type": "markdown",
   "metadata": {},
   "source": [
    "Checking null values for `balanced_inter_genetic`"
   ]
  },
  {
   "cell_type": "code",
   "execution_count": 92,
   "metadata": {},
   "outputs": [
    {
     "data": {
      "text/plain": [
       "STUDY                           0\n",
       "DISEASE_DESCRIPTION             0\n",
       "REGION                          0\n",
       "CHR_ID                          0\n",
       "CHR_POS                         0\n",
       "MAPPED_GENE                     0\n",
       "UPSTREAM_GENE_ID                0\n",
       "DOWNSTREAM_GENE_ID              0\n",
       "UPSTREAM_GENE_DISTANCE          0\n",
       "DOWNSTREAM_GENE_DISTANCE        0\n",
       "SNPS                            0\n",
       "MERGED                          0\n",
       "GENOMIC_CONTEXT                 0\n",
       "INTERGENIC                      0\n",
       "RISK_ALLELE_FREQUENCY           0\n",
       "PVALUE                          0\n",
       "PVALUE_MLOG                     0\n",
       "EFFECT_SIZE                     0\n",
       "CASE_PERCENTAGE                 0\n",
       "CI_LOWER_BOUND                  0\n",
       "CI_UPPER_BOUND                  0\n",
       "CI_RANGE                        0\n",
       "SNPS_PASSING_QC                 0\n",
       "PLATFORM_AFFYMETRIX             0\n",
       "PLATFORM_AFFYMETRIX_ILLUMINA    0\n",
       "PLATFORM_ILLUMINA               0\n",
       "IMPUTED_ENCODED                 0\n",
       "RISK_ALLELE_ENCODED             0\n",
       "T2D                             0\n",
       "dtype: int64"
      ]
     },
     "execution_count": 92,
     "metadata": {},
     "output_type": "execute_result"
    }
   ],
   "source": [
    "balanced_inter_genetic.isnull().sum()"
   ]
  },
  {
   "cell_type": "markdown",
   "metadata": {},
   "source": [
    "Nomalizing for `normal_genetic`"
   ]
  },
  {
   "cell_type": "code",
   "execution_count": 93,
   "metadata": {},
   "outputs": [],
   "source": [
    "# Selecting only numerical columns\n",
    "numerical_cols = normal_genetic.select_dtypes(include=['number']).columns\n",
    "\n",
    "# Normalizing only numerical columns\n",
    "scaler = MinMaxScaler()\n",
    "normal_genetic_scaled = normal_genetic.copy()  # Copying original dataframe\n",
    "normal_genetic_scaled[numerical_cols] = scaler.fit_transform(normal_genetic[numerical_cols])\n"
   ]
  },
  {
   "cell_type": "markdown",
   "metadata": {},
   "source": [
    "Build and Compile the GAN for `normal_genetic`"
   ]
  },
  {
   "cell_type": "code",
   "execution_count": 94,
   "metadata": {},
   "outputs": [],
   "source": [
    "# Define input dimension based on normal_genetic dataset\n",
    "input_dim = normal_genetic_scaled.shape[1]  # Number of features\n",
    "generator = build_generator(100, input_dim)  # Generator takes 100 noise dimensions\n",
    "discriminator = build_discriminator(input_dim)\n",
    "\n",
    "# Create GAN model (combining Generator & Discriminator)\n",
    "discriminator.trainable = False  # Freeze discriminator during GAN training\n",
    "gan = Sequential([generator, discriminator])\n",
    "gan.compile(loss='binary_crossentropy', optimizer='adam')"
   ]
  },
  {
   "cell_type": "code",
   "execution_count": 95,
   "metadata": {},
   "outputs": [],
   "source": [
    "normal_genetic_scaled = normal_genetic_scaled.apply(pd.to_numeric, errors='coerce').astype(np.float32)"
   ]
  },
  {
   "cell_type": "code",
   "execution_count": 96,
   "metadata": {},
   "outputs": [],
   "source": [
    "normal_genetic_scaled = normal_genetic_scaled.astype(np.float32)"
   ]
  },
  {
   "cell_type": "code",
   "execution_count": 97,
   "metadata": {},
   "outputs": [
    {
     "name": "stdout",
     "output_type": "stream",
     "text": [
      "STUDY                           float32\n",
      "DISEASE_DESCRIPTION             float32\n",
      "REGION                          float32\n",
      "CHR_ID                          float32\n",
      "CHR_POS                         float32\n",
      "MAPPED_GENE                     float32\n",
      "SNP_GENE_IDS                    float32\n",
      "SNPS                            float32\n",
      "MERGED                          float32\n",
      "GENOMIC_CONTEXT                 float32\n",
      "INTERGENIC                      float32\n",
      "RISK_ALLELE_FREQUENCY           float32\n",
      "PVALUE                          float32\n",
      "PVALUE_MLOG                     float32\n",
      "EFFECT_SIZE                     float32\n",
      "CASE_PERCENTAGE                 float32\n",
      "CI_LOWER_BOUND                  float32\n",
      "CI_UPPER_BOUND                  float32\n",
      "CI_RANGE                        float32\n",
      "SNPS_PASSING_QC                 float32\n",
      "PLATFORM_AFFYMETRIX             float32\n",
      "PLATFORM_AFFYMETRIX_ILLUMINA    float32\n",
      "PLATFORM_ILLUMINA               float32\n",
      "IMPUTED_ENCODED                 float32\n",
      "RISK_ALLELE_ENCODED             float32\n",
      "dtype: object\n"
     ]
    }
   ],
   "source": [
    "print(normal_genetic_scaled.dtypes)"
   ]
  },
  {
   "cell_type": "markdown",
   "metadata": {},
   "source": [
    "Train the GAN for `normal_genetic`"
   ]
  },
  {
   "cell_type": "code",
   "execution_count": 98,
   "metadata": {},
   "outputs": [
    {
     "name": "stdout",
     "output_type": "stream",
     "text": [
      "\u001b[1m1/1\u001b[0m \u001b[32m━━━━━━━━━━━━━━━━━━━━\u001b[0m\u001b[37m\u001b[0m \u001b[1m0s\u001b[0m 42ms/step\n",
      "Epoch 0: D Loss: nan, G Loss: 0.7163\n",
      "\u001b[1m1/1\u001b[0m \u001b[32m━━━━━━━━━━━━━━━━━━━━\u001b[0m\u001b[37m\u001b[0m \u001b[1m0s\u001b[0m 16ms/step\n",
      "Epoch 1: D Loss: nan, G Loss: 0.7215\n",
      "\u001b[1m1/1\u001b[0m \u001b[32m━━━━━━━━━━━━━━━━━━━━\u001b[0m\u001b[37m\u001b[0m \u001b[1m0s\u001b[0m 15ms/step\n",
      "Epoch 2: D Loss: nan, G Loss: 0.7225\n",
      "\u001b[1m1/1\u001b[0m \u001b[32m━━━━━━━━━━━━━━━━━━━━\u001b[0m\u001b[37m\u001b[0m \u001b[1m0s\u001b[0m 14ms/step\n",
      "Epoch 3: D Loss: nan, G Loss: 0.7159\n",
      "\u001b[1m1/1\u001b[0m \u001b[32m━━━━━━━━━━━━━━━━━━━━\u001b[0m\u001b[37m\u001b[0m \u001b[1m0s\u001b[0m 15ms/step\n",
      "Epoch 4: D Loss: nan, G Loss: 0.7190\n",
      "\u001b[1m1/1\u001b[0m \u001b[32m━━━━━━━━━━━━━━━━━━━━\u001b[0m\u001b[37m\u001b[0m \u001b[1m0s\u001b[0m 14ms/step\n",
      "Epoch 5: D Loss: nan, G Loss: 0.7147\n",
      "\u001b[1m1/1\u001b[0m \u001b[32m━━━━━━━━━━━━━━━━━━━━\u001b[0m\u001b[37m\u001b[0m \u001b[1m0s\u001b[0m 14ms/step\n",
      "Epoch 6: D Loss: nan, G Loss: 0.7168\n",
      "\u001b[1m1/1\u001b[0m \u001b[32m━━━━━━━━━━━━━━━━━━━━\u001b[0m\u001b[37m\u001b[0m \u001b[1m0s\u001b[0m 14ms/step\n",
      "Epoch 7: D Loss: nan, G Loss: 0.7138\n",
      "\u001b[1m1/1\u001b[0m \u001b[32m━━━━━━━━━━━━━━━━━━━━\u001b[0m\u001b[37m\u001b[0m \u001b[1m0s\u001b[0m 15ms/step\n",
      "Epoch 8: D Loss: nan, G Loss: 0.7107\n",
      "\u001b[1m1/1\u001b[0m \u001b[32m━━━━━━━━━━━━━━━━━━━━\u001b[0m\u001b[37m\u001b[0m \u001b[1m0s\u001b[0m 15ms/step\n",
      "Epoch 9: D Loss: nan, G Loss: 0.7099\n",
      "\u001b[1m1/1\u001b[0m \u001b[32m━━━━━━━━━━━━━━━━━━━━\u001b[0m\u001b[37m\u001b[0m \u001b[1m0s\u001b[0m 15ms/step\n",
      "Epoch 10: D Loss: nan, G Loss: 0.7039\n",
      "\u001b[1m1/1\u001b[0m \u001b[32m━━━━━━━━━━━━━━━━━━━━\u001b[0m\u001b[37m\u001b[0m \u001b[1m0s\u001b[0m 15ms/step\n",
      "Epoch 11: D Loss: nan, G Loss: 0.7025\n",
      "\u001b[1m1/1\u001b[0m \u001b[32m━━━━━━━━━━━━━━━━━━━━\u001b[0m\u001b[37m\u001b[0m \u001b[1m0s\u001b[0m 15ms/step\n",
      "Epoch 12: D Loss: nan, G Loss: 0.7006\n",
      "\u001b[1m1/1\u001b[0m \u001b[32m━━━━━━━━━━━━━━━━━━━━\u001b[0m\u001b[37m\u001b[0m \u001b[1m0s\u001b[0m 15ms/step\n",
      "Epoch 13: D Loss: nan, G Loss: 0.6971\n",
      "\u001b[1m1/1\u001b[0m \u001b[32m━━━━━━━━━━━━━━━━━━━━\u001b[0m\u001b[37m\u001b[0m \u001b[1m0s\u001b[0m 15ms/step\n",
      "Epoch 14: D Loss: nan, G Loss: 0.6946\n",
      "\u001b[1m1/1\u001b[0m \u001b[32m━━━━━━━━━━━━━━━━━━━━\u001b[0m\u001b[37m\u001b[0m \u001b[1m0s\u001b[0m 15ms/step\n",
      "Epoch 15: D Loss: nan, G Loss: 0.6919\n",
      "\u001b[1m1/1\u001b[0m \u001b[32m━━━━━━━━━━━━━━━━━━━━\u001b[0m\u001b[37m\u001b[0m \u001b[1m0s\u001b[0m 15ms/step\n",
      "Epoch 16: D Loss: nan, G Loss: 0.6876\n",
      "\u001b[1m1/1\u001b[0m \u001b[32m━━━━━━━━━━━━━━━━━━━━\u001b[0m\u001b[37m\u001b[0m \u001b[1m0s\u001b[0m 16ms/step\n",
      "Epoch 17: D Loss: nan, G Loss: 0.6849\n",
      "\u001b[1m1/1\u001b[0m \u001b[32m━━━━━━━━━━━━━━━━━━━━\u001b[0m\u001b[37m\u001b[0m \u001b[1m0s\u001b[0m 15ms/step\n",
      "Epoch 18: D Loss: nan, G Loss: 0.6829\n",
      "\u001b[1m1/1\u001b[0m \u001b[32m━━━━━━━━━━━━━━━━━━━━\u001b[0m\u001b[37m\u001b[0m \u001b[1m0s\u001b[0m 14ms/step\n",
      "Epoch 19: D Loss: nan, G Loss: 0.6815\n",
      "\u001b[1m1/1\u001b[0m \u001b[32m━━━━━━━━━━━━━━━━━━━━\u001b[0m\u001b[37m\u001b[0m \u001b[1m0s\u001b[0m 14ms/step\n",
      "Epoch 20: D Loss: nan, G Loss: 0.6782\n",
      "\u001b[1m1/1\u001b[0m \u001b[32m━━━━━━━━━━━━━━━━━━━━\u001b[0m\u001b[37m\u001b[0m \u001b[1m0s\u001b[0m 14ms/step\n",
      "Epoch 21: D Loss: nan, G Loss: 0.6757\n",
      "\u001b[1m1/1\u001b[0m \u001b[32m━━━━━━━━━━━━━━━━━━━━\u001b[0m\u001b[37m\u001b[0m \u001b[1m0s\u001b[0m 15ms/step\n",
      "Epoch 22: D Loss: nan, G Loss: 0.6733\n",
      "\u001b[1m1/1\u001b[0m \u001b[32m━━━━━━━━━━━━━━━━━━━━\u001b[0m\u001b[37m\u001b[0m \u001b[1m0s\u001b[0m 15ms/step\n",
      "Epoch 23: D Loss: nan, G Loss: 0.6708\n",
      "\u001b[1m1/1\u001b[0m \u001b[32m━━━━━━━━━━━━━━━━━━━━\u001b[0m\u001b[37m\u001b[0m \u001b[1m0s\u001b[0m 15ms/step\n",
      "Epoch 24: D Loss: nan, G Loss: 0.6684\n"
     ]
    }
   ],
   "source": [
    "def train_gan(epochs, batch_size):\n",
    "    real_labels = np.ones((batch_size, 1))  # Label 1 for real data (Yes)\n",
    "    fake_labels = np.zeros((batch_size, 1))  # Label 0 for fake data (No)\n",
    "\n",
    "    for epoch in range(epochs):\n",
    "        # Select a random batch of real samples\n",
    "        idx = np.random.randint(0, normal_genetic_scaled.shape[0], batch_size)\n",
    "        real_samples = normal_genetic_scaled.iloc[idx].values.astype(np.float32)  # ✅ Convert to float32 NumPy array\n",
    "\n",
    "        # Generate fake samples\n",
    "        noise = np.random.normal(0, 1, (batch_size, 100))  # Noise input\n",
    "        fake_samples = generator.predict(noise)\n",
    "\n",
    "        # Train the Discriminator\n",
    "        d_loss_real = discriminator.train_on_batch(real_samples, real_labels)\n",
    "        d_loss_fake = discriminator.train_on_batch(fake_samples, fake_labels)\n",
    "\n",
    "        # Compute average loss\n",
    "        d_loss_real_value = d_loss_real[0] if isinstance(d_loss_real, (list, tuple, np.ndarray)) else d_loss_real\n",
    "        d_loss_fake_value = d_loss_fake[0] if isinstance(d_loss_fake, (list, tuple, np.ndarray)) else d_loss_fake\n",
    "        d_loss = 0.5 * (d_loss_real_value + d_loss_fake_value)\n",
    "\n",
    "        # Train the Generator\n",
    "        noise = np.random.normal(0, 1, (batch_size, 100))\n",
    "        g_loss = gan.train_on_batch(noise, real_labels)  # Directly assign g_loss\n",
    "\n",
    "        # Print loss every epoch\n",
    "        print(f\"Epoch {epoch}: D Loss: {d_loss:.4f}, G Loss: {g_loss:.4f}\")\n",
    "\n",
    "# Train the GAN\n",
    "train_gan(epochs=25, batch_size=16)\n"
   ]
  },
  {
   "cell_type": "markdown",
   "metadata": {},
   "source": [
    "Generate Synthetic \"No\" Samples for `normal_genetic`"
   ]
  },
  {
   "cell_type": "code",
   "execution_count": 99,
   "metadata": {},
   "outputs": [
    {
     "name": "stdout",
     "output_type": "stream",
     "text": [
      "\u001b[1m35/35\u001b[0m \u001b[32m━━━━━━━━━━━━━━━━━━━━\u001b[0m\u001b[37m\u001b[0m \u001b[1m0s\u001b[0m 563us/step\n",
      "T2D\n",
      "1    2141\n",
      "0    1110\n",
      "Name: count, dtype: int64\n",
      "Null values in IMPUTED_ENCODED: 0\n",
      "Null values in RISK_ALLELE_ENCODED: 0\n",
      "Final columns: Index(['STUDY', 'DISEASE_DESCRIPTION', 'REGION', 'CHR_ID', 'CHR_POS',\n",
      "       'MAPPED_GENE', 'SNP_GENE_IDS', 'SNPS', 'MERGED', 'GENOMIC_CONTEXT',\n",
      "       'INTERGENIC', 'RISK_ALLELE_FREQUENCY', 'PVALUE', 'PVALUE_MLOG',\n",
      "       'EFFECT_SIZE', 'CASE_PERCENTAGE', 'CI_LOWER_BOUND', 'CI_UPPER_BOUND',\n",
      "       'CI_RANGE', 'SNPS_PASSING_QC', 'PLATFORM_AFFYMETRIX',\n",
      "       'PLATFORM_AFFYMETRIX_ILLUMINA', 'PLATFORM_ILLUMINA', 'IMPUTED_ENCODED',\n",
      "       'RISK_ALLELE_ENCODED', 'T2D'],\n",
      "      dtype='object')\n"
     ]
    }
   ],
   "source": [
    "# Step 1: Ensure Generator Inputs Match Expected Noise Dim\n",
    "num_samples = 1110\n",
    "noise_dim = generator.input_shape[1]  # Get correct input size\n",
    "noise = np.random.normal(0, 1, (num_samples, noise_dim))  # Generate noise\n",
    "\n",
    "# Step 2: Generate Fake \"No\" Samples\n",
    "synthetic_no_samples = generator.predict(noise)\n",
    "\n",
    "# Step 3: Apply inverse_transform only on numerical columns\n",
    "synthetic_no_samples_scaled = scaler.inverse_transform(synthetic_no_samples[:, :scaler.scale_.shape[0]])\n",
    "\n",
    "# Step 4: Convert to DataFrame with Correct Column Names\n",
    "synthetic_df = pd.DataFrame(synthetic_no_samples_scaled, columns=normal_genetic.columns[:scaler.scale_.shape[0]])\n",
    "\n",
    "# Step 5: Add Missing Categorical Columns Randomly (Ensure IMPUTED_ENCODED & RISK_ALLELE_ENCODED are added)\n",
    "for col in normal_genetic.columns[scaler.scale_.shape[0]:-1]:  # Exclude target column\n",
    "    if col in [\"IMPUTED_ENCODED\", \"RISK_ALLELE_ENCODED\"]:  # ✅ Ensure these columns are restored\n",
    "        synthetic_df[col] = np.random.choice(normal_genetic[col].values, size=len(synthetic_df))\n",
    "    else:  # ✅ Add all other categorical columns normally\n",
    "        synthetic_df[col] = np.random.choice(normal_genetic[col].values, size=len(synthetic_df))\n",
    "\n",
    "# Step 6: Label Synthetic Samples as \"No\" (0)\n",
    "synthetic_df['T2D'] = 0\n",
    "\n",
    "# Step 7: Label Original Samples as \"Yes\" (1)\n",
    "normal_genetic['T2D'] = 1\n",
    "\n",
    "# Step 8: Combine Real and Synthetic Data\n",
    "balanced_normal_genetic = pd.concat([normal_genetic, synthetic_df], ignore_index=True)\n",
    "\n",
    "# Step 9: Fill Missing `IMPUTED_ENCODED` & `RISK_ALLELE_ENCODED` Values (If Any)\n",
    "for col in [\"IMPUTED_ENCODED\", \"RISK_ALLELE_ENCODED\"]:\n",
    "    if balanced_normal_genetic[col].isnull().sum() > 0:\n",
    "        real_values = balanced_normal_genetic.loc[balanced_normal_genetic['T2D'] == 1, col]\n",
    "        balanced_normal_genetic.loc[balanced_normal_genetic['T2D'] == 0, col] = np.random.choice(\n",
    "            real_values, size=(balanced_normal_genetic['T2D'] == 0).sum(), replace=True\n",
    "        )\n",
    "\n",
    "# Step 10: Check the distribution of labels\n",
    "print(balanced_normal_genetic['T2D'].value_counts())\n",
    "\n",
    "# Step 11: Verify Fixes\n",
    "print(\"Null values in IMPUTED_ENCODED:\", balanced_normal_genetic['IMPUTED_ENCODED'].isnull().sum())\n",
    "print(\"Null values in RISK_ALLELE_ENCODED:\", balanced_normal_genetic['RISK_ALLELE_ENCODED'].isnull().sum())\n",
    "print(\"Final columns:\", balanced_normal_genetic.columns)"
   ]
  },
  {
   "cell_type": "code",
   "execution_count": 100,
   "metadata": {},
   "outputs": [
    {
     "data": {
      "text/html": [
       "<div>\n",
       "<style scoped>\n",
       "    .dataframe tbody tr th:only-of-type {\n",
       "        vertical-align: middle;\n",
       "    }\n",
       "\n",
       "    .dataframe tbody tr th {\n",
       "        vertical-align: top;\n",
       "    }\n",
       "\n",
       "    .dataframe thead th {\n",
       "        text-align: right;\n",
       "    }\n",
       "</style>\n",
       "<table border=\"1\" class=\"dataframe\">\n",
       "  <thead>\n",
       "    <tr style=\"text-align: right;\">\n",
       "      <th></th>\n",
       "      <th>STUDY</th>\n",
       "      <th>DISEASE_DESCRIPTION</th>\n",
       "      <th>REGION</th>\n",
       "      <th>CHR_ID</th>\n",
       "      <th>CHR_POS</th>\n",
       "      <th>MAPPED_GENE</th>\n",
       "      <th>SNP_GENE_IDS</th>\n",
       "      <th>SNPS</th>\n",
       "      <th>MERGED</th>\n",
       "      <th>GENOMIC_CONTEXT</th>\n",
       "      <th>...</th>\n",
       "      <th>CI_LOWER_BOUND</th>\n",
       "      <th>CI_UPPER_BOUND</th>\n",
       "      <th>CI_RANGE</th>\n",
       "      <th>SNPS_PASSING_QC</th>\n",
       "      <th>PLATFORM_AFFYMETRIX</th>\n",
       "      <th>PLATFORM_AFFYMETRIX_ILLUMINA</th>\n",
       "      <th>PLATFORM_ILLUMINA</th>\n",
       "      <th>IMPUTED_ENCODED</th>\n",
       "      <th>RISK_ALLELE_ENCODED</th>\n",
       "      <th>T2D</th>\n",
       "    </tr>\n",
       "  </thead>\n",
       "  <tbody>\n",
       "    <tr>\n",
       "      <th>0</th>\n",
       "      <td>[ 1.53467417e-01 -1.21334471e-01  7.48024210e-...</td>\n",
       "      <td>[ 1.58013031e-01  9.36319865e-03 -6.81496318e-...</td>\n",
       "      <td>[ 3.28317851e-01 -2.22687889e-02  5.97555749e-...</td>\n",
       "      <td>1.0</td>\n",
       "      <td>33480230.0</td>\n",
       "      <td>[ 2.26190373e-01 -3.46414000e-01  2.97874417e-...</td>\n",
       "      <td>121903.0</td>\n",
       "      <td>[ 2.22697318e-01 -1.97786130e-02  3.51657197e-...</td>\n",
       "      <td>0.0</td>\n",
       "      <td>[ 2.30852306e-01 -1.53246507e-01 -5.97583354e-...</td>\n",
       "      <td>...</td>\n",
       "      <td>1.37</td>\n",
       "      <td>2.02</td>\n",
       "      <td>0.65</td>\n",
       "      <td>6906962</td>\n",
       "      <td>0</td>\n",
       "      <td>1</td>\n",
       "      <td>0</td>\n",
       "      <td>1</td>\n",
       "      <td>0.0</td>\n",
       "      <td>1</td>\n",
       "    </tr>\n",
       "    <tr>\n",
       "      <th>1</th>\n",
       "      <td>[ 1.53467417e-01 -1.21334471e-01  7.48024210e-...</td>\n",
       "      <td>[ 1.58013031e-01  9.36319865e-03 -6.81496318e-...</td>\n",
       "      <td>[ 3.28317851e-01 -2.22687889e-02  5.97555749e-...</td>\n",
       "      <td>1.0</td>\n",
       "      <td>33480000.0</td>\n",
       "      <td>[ 2.26190373e-01 -3.46414000e-01  2.97874417e-...</td>\n",
       "      <td>121903.0</td>\n",
       "      <td>[ 1.39127567e-01 -1.73284680e-01  1.08205833e-...</td>\n",
       "      <td>0.0</td>\n",
       "      <td>[ 2.30852306e-01 -1.53246507e-01 -5.97583354e-...</td>\n",
       "      <td>...</td>\n",
       "      <td>1.68</td>\n",
       "      <td>3.17</td>\n",
       "      <td>1.49</td>\n",
       "      <td>6906962</td>\n",
       "      <td>0</td>\n",
       "      <td>1</td>\n",
       "      <td>0</td>\n",
       "      <td>1</td>\n",
       "      <td>1.0</td>\n",
       "      <td>1</td>\n",
       "    </tr>\n",
       "    <tr>\n",
       "      <th>2</th>\n",
       "      <td>[ 4.83314842e-02  1.37150949e-02 -2.07627401e-...</td>\n",
       "      <td>[-1.53973475e-01  1.47206217e-01 -1.56758264e-...</td>\n",
       "      <td>[ 1.94879174e-01 -2.05169976e-01 -5.05079329e-...</td>\n",
       "      <td>7.0</td>\n",
       "      <td>28156794.0</td>\n",
       "      <td>[ 5.20025551e-01 -4.88944441e-01  3.14070396e-...</td>\n",
       "      <td>153814.0</td>\n",
       "      <td>[ 2.49233589e-01 -1.36984721e-01  7.72382393e-...</td>\n",
       "      <td>0.0</td>\n",
       "      <td>[ 2.30852306e-01 -1.53246507e-01 -5.97583354e-...</td>\n",
       "      <td>...</td>\n",
       "      <td>1.08</td>\n",
       "      <td>1.13</td>\n",
       "      <td>0.05</td>\n",
       "      <td>2500000</td>\n",
       "      <td>0</td>\n",
       "      <td>1</td>\n",
       "      <td>0</td>\n",
       "      <td>1</td>\n",
       "      <td>1.0</td>\n",
       "      <td>1</td>\n",
       "    </tr>\n",
       "    <tr>\n",
       "      <th>3</th>\n",
       "      <td>[ 4.83314842e-02  1.37150949e-02 -2.07627401e-...</td>\n",
       "      <td>[-1.53973475e-01  1.47206217e-01 -1.56758264e-...</td>\n",
       "      <td>[ 8.26046243e-02 -1.68427393e-01 -1.87586889e-...</td>\n",
       "      <td>7.0</td>\n",
       "      <td>44205764.0</td>\n",
       "      <td>[ 4.80518907e-01 -3.28171670e-01  3.91541887e-...</td>\n",
       "      <td>106636.0</td>\n",
       "      <td>[ 3.10019791e-01 -2.49393567e-01  1.98352784e-...</td>\n",
       "      <td>0.0</td>\n",
       "      <td>[ 2.30852306e-01 -1.53246507e-01 -5.97583354e-...</td>\n",
       "      <td>...</td>\n",
       "      <td>1.04</td>\n",
       "      <td>1.10</td>\n",
       "      <td>0.06</td>\n",
       "      <td>2500000</td>\n",
       "      <td>0</td>\n",
       "      <td>1</td>\n",
       "      <td>0</td>\n",
       "      <td>1</td>\n",
       "      <td>3.0</td>\n",
       "      <td>1</td>\n",
       "    </tr>\n",
       "    <tr>\n",
       "      <th>4</th>\n",
       "      <td>[ 4.83314842e-02  1.37150949e-02 -2.07627401e-...</td>\n",
       "      <td>[-1.53973475e-01  1.47206217e-01 -1.56758264e-...</td>\n",
       "      <td>[ 2.34241426e-01 -2.30213180e-01  3.73001061e-...</td>\n",
       "      <td>8.0</td>\n",
       "      <td>41661730.0</td>\n",
       "      <td>[ 5.83934963e-01 -4.24800575e-01  8.80361199e-...</td>\n",
       "      <td>29534.0</td>\n",
       "      <td>[ 3.48467588e-01 -1.68800727e-01  1.54673547e-...</td>\n",
       "      <td>0.0</td>\n",
       "      <td>[ 1.23585604e-01 -3.54309492e-02 -3.14229220e-...</td>\n",
       "      <td>...</td>\n",
       "      <td>1.06</td>\n",
       "      <td>1.12</td>\n",
       "      <td>0.06</td>\n",
       "      <td>2500000</td>\n",
       "      <td>0</td>\n",
       "      <td>1</td>\n",
       "      <td>0</td>\n",
       "      <td>1</td>\n",
       "      <td>2.0</td>\n",
       "      <td>1</td>\n",
       "    </tr>\n",
       "  </tbody>\n",
       "</table>\n",
       "<p>5 rows × 26 columns</p>\n",
       "</div>"
      ],
      "text/plain": [
       "                                               STUDY  \\\n",
       "0  [ 1.53467417e-01 -1.21334471e-01  7.48024210e-...   \n",
       "1  [ 1.53467417e-01 -1.21334471e-01  7.48024210e-...   \n",
       "2  [ 4.83314842e-02  1.37150949e-02 -2.07627401e-...   \n",
       "3  [ 4.83314842e-02  1.37150949e-02 -2.07627401e-...   \n",
       "4  [ 4.83314842e-02  1.37150949e-02 -2.07627401e-...   \n",
       "\n",
       "                                 DISEASE_DESCRIPTION  \\\n",
       "0  [ 1.58013031e-01  9.36319865e-03 -6.81496318e-...   \n",
       "1  [ 1.58013031e-01  9.36319865e-03 -6.81496318e-...   \n",
       "2  [-1.53973475e-01  1.47206217e-01 -1.56758264e-...   \n",
       "3  [-1.53973475e-01  1.47206217e-01 -1.56758264e-...   \n",
       "4  [-1.53973475e-01  1.47206217e-01 -1.56758264e-...   \n",
       "\n",
       "                                              REGION  CHR_ID     CHR_POS  \\\n",
       "0  [ 3.28317851e-01 -2.22687889e-02  5.97555749e-...     1.0  33480230.0   \n",
       "1  [ 3.28317851e-01 -2.22687889e-02  5.97555749e-...     1.0  33480000.0   \n",
       "2  [ 1.94879174e-01 -2.05169976e-01 -5.05079329e-...     7.0  28156794.0   \n",
       "3  [ 8.26046243e-02 -1.68427393e-01 -1.87586889e-...     7.0  44205764.0   \n",
       "4  [ 2.34241426e-01 -2.30213180e-01  3.73001061e-...     8.0  41661730.0   \n",
       "\n",
       "                                         MAPPED_GENE  SNP_GENE_IDS  \\\n",
       "0  [ 2.26190373e-01 -3.46414000e-01  2.97874417e-...      121903.0   \n",
       "1  [ 2.26190373e-01 -3.46414000e-01  2.97874417e-...      121903.0   \n",
       "2  [ 5.20025551e-01 -4.88944441e-01  3.14070396e-...      153814.0   \n",
       "3  [ 4.80518907e-01 -3.28171670e-01  3.91541887e-...      106636.0   \n",
       "4  [ 5.83934963e-01 -4.24800575e-01  8.80361199e-...       29534.0   \n",
       "\n",
       "                                                SNPS  MERGED  \\\n",
       "0  [ 2.22697318e-01 -1.97786130e-02  3.51657197e-...     0.0   \n",
       "1  [ 1.39127567e-01 -1.73284680e-01  1.08205833e-...     0.0   \n",
       "2  [ 2.49233589e-01 -1.36984721e-01  7.72382393e-...     0.0   \n",
       "3  [ 3.10019791e-01 -2.49393567e-01  1.98352784e-...     0.0   \n",
       "4  [ 3.48467588e-01 -1.68800727e-01  1.54673547e-...     0.0   \n",
       "\n",
       "                                     GENOMIC_CONTEXT  ...  CI_LOWER_BOUND  \\\n",
       "0  [ 2.30852306e-01 -1.53246507e-01 -5.97583354e-...  ...            1.37   \n",
       "1  [ 2.30852306e-01 -1.53246507e-01 -5.97583354e-...  ...            1.68   \n",
       "2  [ 2.30852306e-01 -1.53246507e-01 -5.97583354e-...  ...            1.08   \n",
       "3  [ 2.30852306e-01 -1.53246507e-01 -5.97583354e-...  ...            1.04   \n",
       "4  [ 1.23585604e-01 -3.54309492e-02 -3.14229220e-...  ...            1.06   \n",
       "\n",
       "   CI_UPPER_BOUND  CI_RANGE  SNPS_PASSING_QC  PLATFORM_AFFYMETRIX  \\\n",
       "0            2.02      0.65          6906962                    0   \n",
       "1            3.17      1.49          6906962                    0   \n",
       "2            1.13      0.05          2500000                    0   \n",
       "3            1.10      0.06          2500000                    0   \n",
       "4            1.12      0.06          2500000                    0   \n",
       "\n",
       "   PLATFORM_AFFYMETRIX_ILLUMINA  PLATFORM_ILLUMINA  IMPUTED_ENCODED  \\\n",
       "0                             1                  0                1   \n",
       "1                             1                  0                1   \n",
       "2                             1                  0                1   \n",
       "3                             1                  0                1   \n",
       "4                             1                  0                1   \n",
       "\n",
       "   RISK_ALLELE_ENCODED  T2D  \n",
       "0                  0.0    1  \n",
       "1                  1.0    1  \n",
       "2                  1.0    1  \n",
       "3                  3.0    1  \n",
       "4                  2.0    1  \n",
       "\n",
       "[5 rows x 26 columns]"
      ]
     },
     "execution_count": 100,
     "metadata": {},
     "output_type": "execute_result"
    }
   ],
   "source": [
    "balanced_normal_genetic.head()"
   ]
  },
  {
   "cell_type": "markdown",
   "metadata": {},
   "source": [
    "Checking null values for `balanced_normal_genetic`"
   ]
  },
  {
   "cell_type": "code",
   "execution_count": 101,
   "metadata": {},
   "outputs": [
    {
     "data": {
      "text/plain": [
       "STUDY                           0\n",
       "DISEASE_DESCRIPTION             0\n",
       "REGION                          0\n",
       "CHR_ID                          0\n",
       "CHR_POS                         0\n",
       "MAPPED_GENE                     0\n",
       "SNP_GENE_IDS                    0\n",
       "SNPS                            0\n",
       "MERGED                          0\n",
       "GENOMIC_CONTEXT                 0\n",
       "INTERGENIC                      0\n",
       "RISK_ALLELE_FREQUENCY           0\n",
       "PVALUE                          0\n",
       "PVALUE_MLOG                     0\n",
       "EFFECT_SIZE                     0\n",
       "CASE_PERCENTAGE                 0\n",
       "CI_LOWER_BOUND                  0\n",
       "CI_UPPER_BOUND                  0\n",
       "CI_RANGE                        0\n",
       "SNPS_PASSING_QC                 0\n",
       "PLATFORM_AFFYMETRIX             0\n",
       "PLATFORM_AFFYMETRIX_ILLUMINA    0\n",
       "PLATFORM_ILLUMINA               0\n",
       "IMPUTED_ENCODED                 0\n",
       "RISK_ALLELE_ENCODED             0\n",
       "T2D                             0\n",
       "dtype: int64"
      ]
     },
     "execution_count": 101,
     "metadata": {},
     "output_type": "execute_result"
    }
   ],
   "source": [
    "balanced_normal_genetic.isnull().sum()"
   ]
  },
  {
   "cell_type": "markdown",
   "metadata": {},
   "source": [
    "Splitting Data"
   ]
  },
  {
   "cell_type": "code",
   "execution_count": 102,
   "metadata": {},
   "outputs": [],
   "source": [
    "# Splitting datasets into training and testing sets\n",
    "from sklearn.model_selection import train_test_split\n",
    "\n",
    "# Splitting African dataset\n",
    "X_train_african, X_test_african, y_train_african, y_test_african = train_test_split(\n",
    "    African.drop('T2D', axis=1), African['T2D'], test_size=0.2, random_state=42\n",
    ")\n",
    "\n",
    "# Splitting Bangladesh dataset\n",
    "X_train_bangladesh, X_test_bangladesh, y_train_bangladesh, y_test_bangladesh = train_test_split(\n",
    "    Bangladesh.drop('T2D', axis=1), Bangladesh['T2D'], test_size=0.2, random_state=42\n",
    ")\n",
    "\n",
    "# Splitting Iraq dataset\n",
    "X_train_iraq, X_test_iraq, y_train_iraq, y_test_iraq = train_test_split(\n",
    "    Iraq.drop('T2D', axis=1), Iraq['T2D'], test_size=0.2, random_state=42\n",
    ")\n",
    "\n",
    "# Splitting Inter Genetic dataset\n",
    "X_train_inter_genetic, X_test_inter_genetic, y_train_inter_genetic, y_test_inter_genetic = train_test_split(\n",
    "    balanced_inter_genetic.drop('T2D', axis=1), balanced_inter_genetic['T2D'], test_size=0.2, random_state=42\n",
    ")\n",
    "\n",
    "# Splitting Normal Genetic dataset\n",
    "X_train_normal_genetic, X_test_normal_genetic, y_train_normal_genetic, y_test_normal_genetic = train_test_split(\n",
    "    balanced_normal_genetic.drop('T2D', axis=1), balanced_normal_genetic['T2D'], test_size=0.2, random_state=42\n",
    ")"
   ]
  },
  {
   "cell_type": "code",
   "execution_count": 103,
   "metadata": {},
   "outputs": [],
   "source": [
    "# Importing necessary libraries\n",
    "from sklearn.preprocessing import StandardScaler\n",
    "import pandas as pd\n",
    "\n",
    "# Initializing the scaler\n",
    "scaler = StandardScaler()\n",
    "\n",
    "# Handling non-numeric data by selecting numeric columns only\n",
    "def preprocess_and_scale(X_train, X_test):\n",
    "    # Selecting only numeric columns\n",
    "    X_train_numeric = X_train.select_dtypes(include=[float, int])\n",
    "    X_test_numeric = X_test.select_dtypes(include=[float, int])\n",
    "    \n",
    "    # Scaling numeric features\n",
    "    X_train_scaled = scaler.fit_transform(X_train_numeric)\n",
    "    X_test_scaled = scaler.transform(X_test_numeric)\n",
    "    \n",
    "    return X_train_scaled, X_test_scaled\n",
    "\n",
    "# Preprocessing and scaling for African dataset\n",
    "X_train_african_scaled, X_test_african_scaled = preprocess_and_scale(\n",
    "    X_train_african, X_test_african\n",
    ")\n",
    "\n",
    "# Preprocessing and scaling for Bangladesh dataset\n",
    "X_train_bangladesh_scaled, X_test_bangladesh_scaled = preprocess_and_scale(\n",
    "    X_train_bangladesh, X_test_bangladesh\n",
    ")\n",
    "\n",
    "# Preprocessing and scaling for Iraq dataset\n",
    "X_train_iraq_scaled, X_test_iraq_scaled = preprocess_and_scale(\n",
    "    X_train_iraq, X_test_iraq\n",
    ")\n",
    "\n",
    "# Preprocessing and scaling for Inter Genetic dataset\n",
    "X_train_inter_genetic_scaled, X_test_inter_genetic_scaled = preprocess_and_scale(\n",
    "    X_train_inter_genetic, X_test_inter_genetic\n",
    ")\n",
    "\n",
    "# Preprocessing and scaling for Normal Genetic dataset\n",
    "X_train_normal_genetic_scaled, X_test_normal_genetic_scaled = preprocess_and_scale(\n",
    "    X_train_normal_genetic, X_test_normal_genetic\n",
    ")"
   ]
  },
  {
   "cell_type": "markdown",
   "metadata": {},
   "source": [
    "# Model Selection "
   ]
  },
  {
   "cell_type": "markdown",
   "metadata": {},
   "source": [
    "Training some machine learning models"
   ]
  },
  {
   "cell_type": "code",
   "execution_count": 104,
   "metadata": {},
   "outputs": [
    {
     "name": "stdout",
     "output_type": "stream",
     "text": [
      "\n",
      "African Dataset Model Selection Results:\n",
      "Logistic Regression: Accuracy = 0.9103\n",
      "Random Forest: Accuracy = 0.9103\n",
      "SVM: Accuracy = 0.8846\n",
      "KNN: Accuracy = 0.8590\n",
      "Gradient Boosting: Accuracy = 0.8974\n",
      "Naive Bayes: Accuracy = 0.8974\n",
      "Decision Tree: Accuracy = 0.8718\n",
      "\n",
      "Bangladesh Dataset Model Selection Results:\n",
      "Logistic Regression: Accuracy = 0.9384\n",
      "Random Forest: Accuracy = 0.9467\n",
      "SVM: Accuracy = 0.9403\n",
      "KNN: Accuracy = 0.9347\n",
      "Gradient Boosting: Accuracy = 0.9421\n",
      "Naive Bayes: Accuracy = 0.9053\n",
      "Decision Tree: Accuracy = 0.9062\n",
      "\n",
      "Iraq Dataset Model Selection Results:\n",
      "Logistic Regression: Accuracy = 0.9810\n",
      "Random Forest: Accuracy = 0.9684\n",
      "SVM: Accuracy = 0.9684\n",
      "KNN: Accuracy = 0.9494\n",
      "Gradient Boosting: Accuracy = 0.9747\n",
      "Naive Bayes: Accuracy = 0.9620\n",
      "Decision Tree: Accuracy = 0.9810\n",
      "\n",
      "Inter Genetic Dataset Model Selection Results:\n",
      "Logistic Regression: Accuracy = 1.0000\n",
      "Random Forest: Accuracy = 1.0000\n",
      "SVM: Accuracy = 0.9977\n",
      "KNN: Accuracy = 1.0000\n",
      "Gradient Boosting: Accuracy = 1.0000\n",
      "Naive Bayes: Accuracy = 1.0000\n",
      "Decision Tree: Accuracy = 1.0000\n",
      "\n",
      "Normal Genetic Dataset Model Selection Results:\n",
      "Logistic Regression: Accuracy = 1.0000\n",
      "Random Forest: Accuracy = 1.0000\n",
      "SVM: Accuracy = 1.0000\n",
      "KNN: Accuracy = 0.9985\n",
      "Gradient Boosting: Accuracy = 1.0000\n",
      "Naive Bayes: Accuracy = 1.0000\n",
      "Decision Tree: Accuracy = 1.0000\n"
     ]
    }
   ],
   "source": [
    "# Importing necessary libraries for model selection\n",
    "from sklearn.linear_model import LogisticRegression\n",
    "from sklearn.ensemble import RandomForestClassifier, GradientBoostingClassifier\n",
    "from sklearn.svm import SVC\n",
    "from sklearn.neighbors import KNeighborsClassifier\n",
    "from sklearn.naive_bayes import GaussianNB\n",
    "from sklearn.tree import DecisionTreeClassifier\n",
    "from sklearn.metrics import accuracy_score\n",
    "\n",
    "# Defining datasets and corresponding scaled data\n",
    "datasets = {\n",
    "    \"African\": (X_train_african_scaled, X_test_african_scaled, y_train_african, y_test_african),\n",
    "    \"Bangladesh\": (X_train_bangladesh_scaled, X_test_bangladesh_scaled, y_train_bangladesh, y_test_bangladesh),\n",
    "    \"Iraq\": (X_train_iraq_scaled, X_test_iraq_scaled, y_train_iraq, y_test_iraq),\n",
    "    \"Inter Genetic\": (X_train_inter_genetic_scaled, X_test_inter_genetic_scaled, y_train_inter_genetic, y_test_inter_genetic),\n",
    "    \"Normal Genetic\": (X_train_normal_genetic_scaled, X_test_normal_genetic_scaled, y_train_normal_genetic, y_test_normal_genetic)\n",
    "}\n",
    "\n",
    "# Models to evaluate\n",
    "models = {\n",
    "    \"Logistic Regression\": LogisticRegression(),\n",
    "    \"Random Forest\": RandomForestClassifier(),\n",
    "    \"SVM\": SVC(),\n",
    "    \"KNN\": KNeighborsClassifier(),\n",
    "    \"Gradient Boosting\": GradientBoostingClassifier(),\n",
    "    \"Naive Bayes\": GaussianNB(),\n",
    "    \"Decision Tree\": DecisionTreeClassifier(),\n",
    "}\n",
    "\n",
    "# Looping through each dataset and evaluating models\n",
    "for dataset_name, (X_train, X_test, y_train, y_test) in datasets.items():\n",
    "    print(f\"\\n{dataset_name} Dataset Model Selection Results:\")\n",
    "    results = {}\n",
    "    for model_name, model in models.items():\n",
    "        model.fit(X_train, y_train)  # Training the model\n",
    "        y_pred = model.predict(X_test)  # Predicting on the test set\n",
    "        accuracy = accuracy_score(y_test, y_pred)  # Calculating accuracy\n",
    "        results[model_name] = accuracy\n",
    "\n",
    "    # Displaying results for the current dataset\n",
    "    for model_name, accuracy in results.items():\n",
    "        print(f\"{model_name}: Accuracy = {accuracy:.4f}\")"
   ]
  },
  {
   "cell_type": "markdown",
   "metadata": {},
   "source": [
    "Subplots of Cross Validation for the best model"
   ]
  },
  {
   "cell_type": "code",
   "execution_count": 105,
   "metadata": {},
   "outputs": [
    {
     "data": {
      "application/vnd.plotly.v1+json": {
       "config": {
        "plotlyServerURL": "https://plot.ly"
       },
       "data": [
        {
         "name": "African Scores",
         "type": "scatter",
         "x": [
          1,
          2,
          3,
          4,
          5,
          6,
          7,
          8,
          9,
          10
         ],
         "xaxis": "x",
         "y": [
          0.875,
          0.9375,
          0.9032258064516129,
          0.9354838709677419,
          0.8709677419354839,
          0.967741935483871,
          0.9032258064516129,
          0.967741935483871,
          0.8709677419354839,
          0.9032258064516129
         ],
         "yaxis": "y"
        },
        {
         "name": "Bangladesh Scores",
         "type": "scatter",
         "x": [
          1,
          2,
          3,
          4,
          5,
          6,
          7,
          8,
          9,
          10
         ],
         "xaxis": "x2",
         "y": [
          0.9494252873563218,
          0.9402298850574713,
          0.9494252873563218,
          0.9540229885057471,
          0.9448275862068966,
          0.9356321839080459,
          0.9517241379310345,
          0.9448275862068966,
          0.9425287356321839,
          0.956221198156682
         ],
         "yaxis": "y2"
        },
        {
         "name": "Iraq Scores",
         "type": "scatter",
         "x": [
          1,
          2,
          3,
          4,
          5,
          6,
          7,
          8,
          9,
          10
         ],
         "xaxis": "x3",
         "y": [
          0.9841269841269841,
          0.9682539682539683,
          0.9841269841269841,
          1,
          1,
          1,
          0.9841269841269841,
          0.9841269841269841,
          0.9838709677419355,
          0.9838709677419355
         ],
         "yaxis": "y3"
        },
        {
         "name": "Inter Genetic Scores",
         "type": "scatter",
         "x": [
          1,
          2,
          3,
          4,
          5,
          6,
          7,
          8,
          9,
          10
         ],
         "xaxis": "x4",
         "y": [
          1,
          1,
          1,
          1,
          1,
          1,
          1,
          1,
          1,
          1
         ],
         "yaxis": "y4"
        },
        {
         "name": "Normal Genetic Scores",
         "type": "scatter",
         "x": [
          1,
          2,
          3,
          4,
          5,
          6,
          7,
          8,
          9,
          10
         ],
         "xaxis": "x5",
         "y": [
          1,
          1,
          1,
          1,
          1,
          1,
          1,
          1,
          1,
          1
         ],
         "yaxis": "y5"
        }
       ],
       "layout": {
        "annotations": [
         {
          "font": {
           "size": 16
          },
          "showarrow": false,
          "text": "African (LogisticRegression) Cross Validation Scores",
          "x": 0.5,
          "xanchor": "center",
          "xref": "paper",
          "y": 1,
          "yanchor": "bottom",
          "yref": "paper"
         },
         {
          "font": {
           "size": 16
          },
          "showarrow": false,
          "text": "Bangladesh (RandomForestClassifier) Cross Validation Scores",
          "x": 0.5,
          "xanchor": "center",
          "xref": "paper",
          "y": 0.78,
          "yanchor": "bottom",
          "yref": "paper"
         },
         {
          "font": {
           "size": 16
          },
          "showarrow": false,
          "text": "Iraq (GradientBoostingClassifier) Cross Validation Scores",
          "x": 0.5,
          "xanchor": "center",
          "xref": "paper",
          "y": 0.56,
          "yanchor": "bottom",
          "yref": "paper"
         },
         {
          "font": {
           "size": 16
          },
          "showarrow": false,
          "text": "Inter Genetic (RandomForestClassifier) Cross Validation Scores",
          "x": 0.5,
          "xanchor": "center",
          "xref": "paper",
          "y": 0.33999999999999997,
          "yanchor": "bottom",
          "yref": "paper"
         },
         {
          "font": {
           "size": 16
          },
          "showarrow": false,
          "text": "Normal Genetic (LogisticRegression) Cross Validation Scores",
          "x": 0.5,
          "xanchor": "center",
          "xref": "paper",
          "y": 0.12,
          "yanchor": "bottom",
          "yref": "paper"
         }
        ],
        "height": 1500,
        "showlegend": true,
        "template": {
         "data": {
          "bar": [
           {
            "error_x": {
             "color": "#2a3f5f"
            },
            "error_y": {
             "color": "#2a3f5f"
            },
            "marker": {
             "line": {
              "color": "#E5ECF6",
              "width": 0.5
             },
             "pattern": {
              "fillmode": "overlay",
              "size": 10,
              "solidity": 0.2
             }
            },
            "type": "bar"
           }
          ],
          "barpolar": [
           {
            "marker": {
             "line": {
              "color": "#E5ECF6",
              "width": 0.5
             },
             "pattern": {
              "fillmode": "overlay",
              "size": 10,
              "solidity": 0.2
             }
            },
            "type": "barpolar"
           }
          ],
          "carpet": [
           {
            "aaxis": {
             "endlinecolor": "#2a3f5f",
             "gridcolor": "white",
             "linecolor": "white",
             "minorgridcolor": "white",
             "startlinecolor": "#2a3f5f"
            },
            "baxis": {
             "endlinecolor": "#2a3f5f",
             "gridcolor": "white",
             "linecolor": "white",
             "minorgridcolor": "white",
             "startlinecolor": "#2a3f5f"
            },
            "type": "carpet"
           }
          ],
          "choropleth": [
           {
            "colorbar": {
             "outlinewidth": 0,
             "ticks": ""
            },
            "type": "choropleth"
           }
          ],
          "contour": [
           {
            "colorbar": {
             "outlinewidth": 0,
             "ticks": ""
            },
            "colorscale": [
             [
              0,
              "#0d0887"
             ],
             [
              0.1111111111111111,
              "#46039f"
             ],
             [
              0.2222222222222222,
              "#7201a8"
             ],
             [
              0.3333333333333333,
              "#9c179e"
             ],
             [
              0.4444444444444444,
              "#bd3786"
             ],
             [
              0.5555555555555556,
              "#d8576b"
             ],
             [
              0.6666666666666666,
              "#ed7953"
             ],
             [
              0.7777777777777778,
              "#fb9f3a"
             ],
             [
              0.8888888888888888,
              "#fdca26"
             ],
             [
              1,
              "#f0f921"
             ]
            ],
            "type": "contour"
           }
          ],
          "contourcarpet": [
           {
            "colorbar": {
             "outlinewidth": 0,
             "ticks": ""
            },
            "type": "contourcarpet"
           }
          ],
          "heatmap": [
           {
            "colorbar": {
             "outlinewidth": 0,
             "ticks": ""
            },
            "colorscale": [
             [
              0,
              "#0d0887"
             ],
             [
              0.1111111111111111,
              "#46039f"
             ],
             [
              0.2222222222222222,
              "#7201a8"
             ],
             [
              0.3333333333333333,
              "#9c179e"
             ],
             [
              0.4444444444444444,
              "#bd3786"
             ],
             [
              0.5555555555555556,
              "#d8576b"
             ],
             [
              0.6666666666666666,
              "#ed7953"
             ],
             [
              0.7777777777777778,
              "#fb9f3a"
             ],
             [
              0.8888888888888888,
              "#fdca26"
             ],
             [
              1,
              "#f0f921"
             ]
            ],
            "type": "heatmap"
           }
          ],
          "heatmapgl": [
           {
            "colorbar": {
             "outlinewidth": 0,
             "ticks": ""
            },
            "colorscale": [
             [
              0,
              "#0d0887"
             ],
             [
              0.1111111111111111,
              "#46039f"
             ],
             [
              0.2222222222222222,
              "#7201a8"
             ],
             [
              0.3333333333333333,
              "#9c179e"
             ],
             [
              0.4444444444444444,
              "#bd3786"
             ],
             [
              0.5555555555555556,
              "#d8576b"
             ],
             [
              0.6666666666666666,
              "#ed7953"
             ],
             [
              0.7777777777777778,
              "#fb9f3a"
             ],
             [
              0.8888888888888888,
              "#fdca26"
             ],
             [
              1,
              "#f0f921"
             ]
            ],
            "type": "heatmapgl"
           }
          ],
          "histogram": [
           {
            "marker": {
             "pattern": {
              "fillmode": "overlay",
              "size": 10,
              "solidity": 0.2
             }
            },
            "type": "histogram"
           }
          ],
          "histogram2d": [
           {
            "colorbar": {
             "outlinewidth": 0,
             "ticks": ""
            },
            "colorscale": [
             [
              0,
              "#0d0887"
             ],
             [
              0.1111111111111111,
              "#46039f"
             ],
             [
              0.2222222222222222,
              "#7201a8"
             ],
             [
              0.3333333333333333,
              "#9c179e"
             ],
             [
              0.4444444444444444,
              "#bd3786"
             ],
             [
              0.5555555555555556,
              "#d8576b"
             ],
             [
              0.6666666666666666,
              "#ed7953"
             ],
             [
              0.7777777777777778,
              "#fb9f3a"
             ],
             [
              0.8888888888888888,
              "#fdca26"
             ],
             [
              1,
              "#f0f921"
             ]
            ],
            "type": "histogram2d"
           }
          ],
          "histogram2dcontour": [
           {
            "colorbar": {
             "outlinewidth": 0,
             "ticks": ""
            },
            "colorscale": [
             [
              0,
              "#0d0887"
             ],
             [
              0.1111111111111111,
              "#46039f"
             ],
             [
              0.2222222222222222,
              "#7201a8"
             ],
             [
              0.3333333333333333,
              "#9c179e"
             ],
             [
              0.4444444444444444,
              "#bd3786"
             ],
             [
              0.5555555555555556,
              "#d8576b"
             ],
             [
              0.6666666666666666,
              "#ed7953"
             ],
             [
              0.7777777777777778,
              "#fb9f3a"
             ],
             [
              0.8888888888888888,
              "#fdca26"
             ],
             [
              1,
              "#f0f921"
             ]
            ],
            "type": "histogram2dcontour"
           }
          ],
          "mesh3d": [
           {
            "colorbar": {
             "outlinewidth": 0,
             "ticks": ""
            },
            "type": "mesh3d"
           }
          ],
          "parcoords": [
           {
            "line": {
             "colorbar": {
              "outlinewidth": 0,
              "ticks": ""
             }
            },
            "type": "parcoords"
           }
          ],
          "pie": [
           {
            "automargin": true,
            "type": "pie"
           }
          ],
          "scatter": [
           {
            "fillpattern": {
             "fillmode": "overlay",
             "size": 10,
             "solidity": 0.2
            },
            "type": "scatter"
           }
          ],
          "scatter3d": [
           {
            "line": {
             "colorbar": {
              "outlinewidth": 0,
              "ticks": ""
             }
            },
            "marker": {
             "colorbar": {
              "outlinewidth": 0,
              "ticks": ""
             }
            },
            "type": "scatter3d"
           }
          ],
          "scattercarpet": [
           {
            "marker": {
             "colorbar": {
              "outlinewidth": 0,
              "ticks": ""
             }
            },
            "type": "scattercarpet"
           }
          ],
          "scattergeo": [
           {
            "marker": {
             "colorbar": {
              "outlinewidth": 0,
              "ticks": ""
             }
            },
            "type": "scattergeo"
           }
          ],
          "scattergl": [
           {
            "marker": {
             "colorbar": {
              "outlinewidth": 0,
              "ticks": ""
             }
            },
            "type": "scattergl"
           }
          ],
          "scattermapbox": [
           {
            "marker": {
             "colorbar": {
              "outlinewidth": 0,
              "ticks": ""
             }
            },
            "type": "scattermapbox"
           }
          ],
          "scatterpolar": [
           {
            "marker": {
             "colorbar": {
              "outlinewidth": 0,
              "ticks": ""
             }
            },
            "type": "scatterpolar"
           }
          ],
          "scatterpolargl": [
           {
            "marker": {
             "colorbar": {
              "outlinewidth": 0,
              "ticks": ""
             }
            },
            "type": "scatterpolargl"
           }
          ],
          "scatterternary": [
           {
            "marker": {
             "colorbar": {
              "outlinewidth": 0,
              "ticks": ""
             }
            },
            "type": "scatterternary"
           }
          ],
          "surface": [
           {
            "colorbar": {
             "outlinewidth": 0,
             "ticks": ""
            },
            "colorscale": [
             [
              0,
              "#0d0887"
             ],
             [
              0.1111111111111111,
              "#46039f"
             ],
             [
              0.2222222222222222,
              "#7201a8"
             ],
             [
              0.3333333333333333,
              "#9c179e"
             ],
             [
              0.4444444444444444,
              "#bd3786"
             ],
             [
              0.5555555555555556,
              "#d8576b"
             ],
             [
              0.6666666666666666,
              "#ed7953"
             ],
             [
              0.7777777777777778,
              "#fb9f3a"
             ],
             [
              0.8888888888888888,
              "#fdca26"
             ],
             [
              1,
              "#f0f921"
             ]
            ],
            "type": "surface"
           }
          ],
          "table": [
           {
            "cells": {
             "fill": {
              "color": "#EBF0F8"
             },
             "line": {
              "color": "white"
             }
            },
            "header": {
             "fill": {
              "color": "#C8D4E3"
             },
             "line": {
              "color": "white"
             }
            },
            "type": "table"
           }
          ]
         },
         "layout": {
          "annotationdefaults": {
           "arrowcolor": "#2a3f5f",
           "arrowhead": 0,
           "arrowwidth": 1
          },
          "autotypenumbers": "strict",
          "coloraxis": {
           "colorbar": {
            "outlinewidth": 0,
            "ticks": ""
           }
          },
          "colorscale": {
           "diverging": [
            [
             0,
             "#8e0152"
            ],
            [
             0.1,
             "#c51b7d"
            ],
            [
             0.2,
             "#de77ae"
            ],
            [
             0.3,
             "#f1b6da"
            ],
            [
             0.4,
             "#fde0ef"
            ],
            [
             0.5,
             "#f7f7f7"
            ],
            [
             0.6,
             "#e6f5d0"
            ],
            [
             0.7,
             "#b8e186"
            ],
            [
             0.8,
             "#7fbc41"
            ],
            [
             0.9,
             "#4d9221"
            ],
            [
             1,
             "#276419"
            ]
           ],
           "sequential": [
            [
             0,
             "#0d0887"
            ],
            [
             0.1111111111111111,
             "#46039f"
            ],
            [
             0.2222222222222222,
             "#7201a8"
            ],
            [
             0.3333333333333333,
             "#9c179e"
            ],
            [
             0.4444444444444444,
             "#bd3786"
            ],
            [
             0.5555555555555556,
             "#d8576b"
            ],
            [
             0.6666666666666666,
             "#ed7953"
            ],
            [
             0.7777777777777778,
             "#fb9f3a"
            ],
            [
             0.8888888888888888,
             "#fdca26"
            ],
            [
             1,
             "#f0f921"
            ]
           ],
           "sequentialminus": [
            [
             0,
             "#0d0887"
            ],
            [
             0.1111111111111111,
             "#46039f"
            ],
            [
             0.2222222222222222,
             "#7201a8"
            ],
            [
             0.3333333333333333,
             "#9c179e"
            ],
            [
             0.4444444444444444,
             "#bd3786"
            ],
            [
             0.5555555555555556,
             "#d8576b"
            ],
            [
             0.6666666666666666,
             "#ed7953"
            ],
            [
             0.7777777777777778,
             "#fb9f3a"
            ],
            [
             0.8888888888888888,
             "#fdca26"
            ],
            [
             1,
             "#f0f921"
            ]
           ]
          },
          "colorway": [
           "#636efa",
           "#EF553B",
           "#00cc96",
           "#ab63fa",
           "#FFA15A",
           "#19d3f3",
           "#FF6692",
           "#B6E880",
           "#FF97FF",
           "#FECB52"
          ],
          "font": {
           "color": "#2a3f5f"
          },
          "geo": {
           "bgcolor": "white",
           "lakecolor": "white",
           "landcolor": "#E5ECF6",
           "showlakes": true,
           "showland": true,
           "subunitcolor": "white"
          },
          "hoverlabel": {
           "align": "left"
          },
          "hovermode": "closest",
          "mapbox": {
           "style": "light"
          },
          "paper_bgcolor": "white",
          "plot_bgcolor": "#E5ECF6",
          "polar": {
           "angularaxis": {
            "gridcolor": "white",
            "linecolor": "white",
            "ticks": ""
           },
           "bgcolor": "#E5ECF6",
           "radialaxis": {
            "gridcolor": "white",
            "linecolor": "white",
            "ticks": ""
           }
          },
          "scene": {
           "xaxis": {
            "backgroundcolor": "#E5ECF6",
            "gridcolor": "white",
            "gridwidth": 2,
            "linecolor": "white",
            "showbackground": true,
            "ticks": "",
            "zerolinecolor": "white"
           },
           "yaxis": {
            "backgroundcolor": "#E5ECF6",
            "gridcolor": "white",
            "gridwidth": 2,
            "linecolor": "white",
            "showbackground": true,
            "ticks": "",
            "zerolinecolor": "white"
           },
           "zaxis": {
            "backgroundcolor": "#E5ECF6",
            "gridcolor": "white",
            "gridwidth": 2,
            "linecolor": "white",
            "showbackground": true,
            "ticks": "",
            "zerolinecolor": "white"
           }
          },
          "shapedefaults": {
           "line": {
            "color": "#2a3f5f"
           }
          },
          "ternary": {
           "aaxis": {
            "gridcolor": "white",
            "linecolor": "white",
            "ticks": ""
           },
           "baxis": {
            "gridcolor": "white",
            "linecolor": "white",
            "ticks": ""
           },
           "bgcolor": "#E5ECF6",
           "caxis": {
            "gridcolor": "white",
            "linecolor": "white",
            "ticks": ""
           }
          },
          "title": {
           "x": 0.05
          },
          "xaxis": {
           "automargin": true,
           "gridcolor": "white",
           "linecolor": "white",
           "ticks": "",
           "title": {
            "standoff": 15
           },
           "zerolinecolor": "white",
           "zerolinewidth": 2
          },
          "yaxis": {
           "automargin": true,
           "gridcolor": "white",
           "linecolor": "white",
           "ticks": "",
           "title": {
            "standoff": 15
           },
           "zerolinecolor": "white",
           "zerolinewidth": 2
          }
         }
        },
        "title": {
         "text": "10-Fold Cross Validation for Best Models Across Datasets"
        },
        "width": 1200,
        "xaxis": {
         "anchor": "y",
         "domain": [
          0,
          1
         ],
         "matches": "x5",
         "showticklabels": false,
         "title": {
          "text": "Fold #"
         }
        },
        "xaxis2": {
         "anchor": "y2",
         "domain": [
          0,
          1
         ],
         "matches": "x5",
         "showticklabels": false,
         "title": {
          "text": "Fold #"
         }
        },
        "xaxis3": {
         "anchor": "y3",
         "domain": [
          0,
          1
         ],
         "matches": "x5",
         "showticklabels": false,
         "title": {
          "text": "Fold #"
         }
        },
        "xaxis4": {
         "anchor": "y4",
         "domain": [
          0,
          1
         ],
         "matches": "x5",
         "showticklabels": false,
         "title": {
          "text": "Fold #"
         }
        },
        "xaxis5": {
         "anchor": "y5",
         "domain": [
          0,
          1
         ],
         "title": {
          "text": "Fold #"
         }
        },
        "yaxis": {
         "anchor": "x",
         "domain": [
          0.88,
          1
         ],
         "title": {
          "text": "Accuracy Score"
         }
        },
        "yaxis2": {
         "anchor": "x2",
         "domain": [
          0.66,
          0.78
         ],
         "title": {
          "text": "Accuracy Score"
         }
        },
        "yaxis3": {
         "anchor": "x3",
         "domain": [
          0.44,
          0.56
         ],
         "title": {
          "text": "Accuracy Score"
         }
        },
        "yaxis4": {
         "anchor": "x4",
         "domain": [
          0.22,
          0.33999999999999997
         ],
         "title": {
          "text": "Accuracy Score"
         }
        },
        "yaxis5": {
         "anchor": "x5",
         "domain": [
          0,
          0.12
         ],
         "title": {
          "text": "Accuracy Score"
         }
        }
       }
      }
     },
     "metadata": {},
     "output_type": "display_data"
    }
   ],
   "source": [
    "import plotly.graph_objects as go\n",
    "from plotly.subplots import make_subplots\n",
    "from sklearn.model_selection import cross_val_score\n",
    "from sklearn.linear_model import LogisticRegression\n",
    "from sklearn.ensemble import RandomForestClassifier, GradientBoostingClassifier\n",
    "\n",
    "# Define the best models for each dataset\n",
    "best_models_mapping = {\n",
    "    \"African\": LogisticRegression(),\n",
    "    \"Bangladesh\": RandomForestClassifier(),\n",
    "    \"Iraq\": GradientBoostingClassifier(),\n",
    "    \"Inter Genetic\": RandomForestClassifier(),\n",
    "    \"Normal Genetic\": LogisticRegression(),\n",
    "}\n",
    "\n",
    "# Define datasets (replace with actual variable names)\n",
    "datasets = {\n",
    "    \"African\": (X_train_african_scaled, y_train_african),  # Update with correct dataset variable names\n",
    "    \"Bangladesh\": (X_train_bangladesh_scaled, y_train_bangladesh),\n",
    "    \"Iraq\": (X_train_iraq_scaled, y_train_iraq),\n",
    "    \"Inter Genetic\": (X_train_inter_genetic_scaled, y_train_inter_genetic),\n",
    "    \"Normal Genetic\": (X_train_normal_genetic_scaled, y_train_normal_genetic),\n",
    "}\n",
    "\n",
    "cv_folds = 10  # Number of cross-validation folds\n",
    "cv_scores = {}\n",
    "\n",
    "# Perform cross-validation for each dataset's best model\n",
    "for dataset_name, (X, y) in datasets.items():\n",
    "    model = best_models_mapping[dataset_name]\n",
    "    scores = cross_val_score(model, X, y, cv=cv_folds)\n",
    "    cv_scores[dataset_name] = scores\n",
    "\n",
    "# Create subplots for each dataset's best model\n",
    "fig = make_subplots(\n",
    "    rows=len(datasets), cols=1, shared_xaxes=True,\n",
    "    subplot_titles=[f\"{dataset} ({best_models_mapping[dataset].__class__.__name__}) Cross Validation Scores\" \n",
    "                    for dataset in datasets.keys()]\n",
    ")\n",
    "\n",
    "# Add traces for each dataset's best model\n",
    "for i, (dataset_name, scores) in enumerate(cv_scores.items(), start=1):\n",
    "    fig.add_trace(\n",
    "        go.Scatter(x=list(range(1, len(scores) + 1)), y=scores, name=f\"{dataset_name} Scores\"),\n",
    "        row=i, col=1\n",
    "    )\n",
    "\n",
    "# Update layout\n",
    "fig.update_layout(\n",
    "    height=1500, width=1200,\n",
    "    title_text=\"10-Fold Cross Validation for Best Models Across Datasets\",\n",
    "    showlegend=True\n",
    ")\n",
    "fig.update_yaxes(title_text=\"Accuracy Score\")\n",
    "fig.update_xaxes(title_text=\"Fold #\")\n",
    "\n",
    "# Show the figure\n",
    "fig.show()"
   ]
  },
  {
   "cell_type": "markdown",
   "metadata": {},
   "source": [
    "Confusion Matrix, Accuracy, and Classification Report"
   ]
  },
  {
   "cell_type": "code",
   "execution_count": 106,
   "metadata": {},
   "outputs": [
    {
     "name": "stdout",
     "output_type": "stream",
     "text": [
      "\n",
      "==================== African ====================\n",
      "Confusion Matrix:\n",
      "[[265   3]\n",
      " [ 18  26]]\n",
      "\n",
      "Accuracy: 0.93\n",
      "\n",
      "Classification Report:\n",
      "              precision    recall  f1-score   support\n",
      "\n",
      "           0       0.94      0.99      0.96       268\n",
      "           1       0.90      0.59      0.71        44\n",
      "\n",
      "    accuracy                           0.93       312\n",
      "   macro avg       0.92      0.79      0.84       312\n",
      "weighted avg       0.93      0.93      0.93       312\n",
      "\n",
      "============================================================\n",
      "\n",
      "==================== Bangladesh ====================\n",
      "Confusion Matrix:\n",
      "[[4069    0]\n",
      " [   1  279]]\n",
      "\n",
      "Accuracy: 1.00\n",
      "\n",
      "Classification Report:\n",
      "              precision    recall  f1-score   support\n",
      "\n",
      "           0       1.00      1.00      1.00      4069\n",
      "           1       1.00      1.00      1.00       280\n",
      "\n",
      "    accuracy                           1.00      4349\n",
      "   macro avg       1.00      1.00      1.00      4349\n",
      "weighted avg       1.00      1.00      1.00      4349\n",
      "\n",
      "============================================================\n",
      "\n",
      "==================== Iraq ====================\n",
      "Confusion Matrix:\n",
      "[[555   0]\n",
      " [  0  73]]\n",
      "\n",
      "Accuracy: 1.00\n",
      "\n",
      "Classification Report:\n",
      "              precision    recall  f1-score   support\n",
      "\n",
      "           0       1.00      1.00      1.00       555\n",
      "           1       1.00      1.00      1.00        73\n",
      "\n",
      "    accuracy                           1.00       628\n",
      "   macro avg       1.00      1.00      1.00       628\n",
      "weighted avg       1.00      1.00      1.00       628\n",
      "\n",
      "============================================================\n",
      "\n",
      "==================== Inter Genetic ====================\n",
      "Confusion Matrix:\n",
      "[[886   0]\n",
      " [  0 890]]\n",
      "\n",
      "Accuracy: 1.00\n",
      "\n",
      "Classification Report:\n",
      "              precision    recall  f1-score   support\n",
      "\n",
      "           0       1.00      1.00      1.00       886\n",
      "           1       1.00      1.00      1.00       890\n",
      "\n",
      "    accuracy                           1.00      1776\n",
      "   macro avg       1.00      1.00      1.00      1776\n",
      "weighted avg       1.00      1.00      1.00      1776\n",
      "\n",
      "============================================================\n",
      "\n",
      "==================== Normal Genetic ====================\n",
      "Confusion Matrix:\n",
      "[[ 894    0]\n",
      " [   0 1706]]\n",
      "\n",
      "Accuracy: 1.00\n",
      "\n",
      "Classification Report:\n",
      "              precision    recall  f1-score   support\n",
      "\n",
      "           0       1.00      1.00      1.00       894\n",
      "           1       1.00      1.00      1.00      1706\n",
      "\n",
      "    accuracy                           1.00      2600\n",
      "   macro avg       1.00      1.00      1.00      2600\n",
      "weighted avg       1.00      1.00      1.00      2600\n",
      "\n",
      "============================================================\n"
     ]
    }
   ],
   "source": [
    "from sklearn.metrics import accuracy_score, classification_report, confusion_matrix\n",
    "\n",
    "# Dictionary to store evaluation metrics\n",
    "evaluation_results = {}\n",
    "\n",
    "# Compute confusion matrix, accuracy, and classification report for each dataset's best model\n",
    "for dataset_name, (X, y) in datasets.items():  # Updated to match (X, y) structure\n",
    "    model = best_models_mapping[dataset_name]\n",
    "    model.fit(X, y)  # Train the model\n",
    "    y_pred = model.predict(X)  # Predict on the same dataset (to evaluate performance)\n",
    "\n",
    "    # Compute confusion matrix\n",
    "    cm = confusion_matrix(y, y_pred)\n",
    "\n",
    "    # Compute accuracy\n",
    "    accuracy = accuracy_score(y, y_pred)\n",
    "\n",
    "    # Compute classification report\n",
    "    class_report = classification_report(y, y_pred, digits=2)\n",
    "\n",
    "    # Store results\n",
    "    evaluation_results[dataset_name] = {\n",
    "        \"Confusion Matrix\": cm,\n",
    "        \"Accuracy\": accuracy,\n",
    "        \"Classification Report\": class_report\n",
    "    }\n",
    "\n",
    "# Print evaluation results for each dataset\n",
    "for dataset_name, results in evaluation_results.items():\n",
    "    print(f\"\\n{'='*20} {dataset_name} {'='*20}\")\n",
    "    print(\"Confusion Matrix:\")\n",
    "    print(results[\"Confusion Matrix\"])\n",
    "    print(f\"\\nAccuracy: {results['Accuracy']:.2f}\")\n",
    "    print(\"\\nClassification Report:\")\n",
    "    print(results[\"Classification Report\"])\n",
    "    print(\"=\"*60)"
   ]
  },
  {
   "cell_type": "markdown",
   "metadata": {},
   "source": [
    "ROC Curves for Best Models"
   ]
  },
  {
   "cell_type": "code",
   "execution_count": 107,
   "metadata": {},
   "outputs": [
    {
     "data": {
      "image/png": "[encoded data removed]",
      "text/plain": [
       "<Figure size 1000x800 with 1 Axes>"
      ]
     },
     "metadata": {},
     "output_type": "display_data"
    }
   ],
   "source": [
    "import matplotlib.pyplot as plt\n",
    "from sklearn.model_selection import train_test_split\n",
    "from sklearn.metrics import roc_curve, auc\n",
    "\n",
    "# Dictionary to store ROC curve data\n",
    "roc_data = {}\n",
    "\n",
    "# Compute ROC curve for each dataset's best model\n",
    "for dataset_name, (X, y) in datasets.items():\n",
    "    # Split the data (80% train, 20% test)\n",
    "    X_train, X_test, y_train, y_test = train_test_split(X, y, test_size=0.2, random_state=42)\n",
    "\n",
    "    # Get the best model for this dataset\n",
    "    model = best_models_mapping[dataset_name]\n",
    "    model.fit(X_train, y_train)  # Train the model\n",
    "    y_pred_prob = model.predict_proba(X_test)[:, 1]  # Get probability estimates for class 1\n",
    "\n",
    "    # Compute ROC curve\n",
    "    fpr, tpr, _ = roc_curve(y_test, y_pred_prob)\n",
    "    roc_auc = auc(fpr, tpr)\n",
    "\n",
    "    # Store results\n",
    "    roc_data[dataset_name] = (fpr, tpr, roc_auc)\n",
    "\n",
    "# Plot ROC curves for all datasets\n",
    "plt.figure(figsize=(10, 8))\n",
    "for dataset_name, (fpr, tpr, roc_auc) in roc_data.items():\n",
    "    plt.plot(fpr, tpr, label=f\"{dataset_name} (AUC = {roc_auc:.2f})\")\n",
    "\n",
    "plt.plot([0, 1], [0, 1], linestyle='--', color='gray')  # Diagonal reference line\n",
    "plt.xlabel(\"False Positive Rate\")\n",
    "plt.ylabel(\"True Positive Rate\")\n",
    "plt.title(\"Receiver Operating Characteristic (ROC) Curve\")\n",
    "plt.legend(loc=\"lower right\")\n",
    "plt.grid()\n",
    "plt.show()"
   ]
  },
  {
   "cell_type": "markdown",
   "metadata": {},
   "source": [
    "Feature Importance"
   ]
  },
  {
   "cell_type": "code",
   "execution_count": 108,
   "metadata": {},
   "outputs": [],
   "source": [
    "from sklearn.ensemble import RandomForestClassifier\n",
    "\n",
    "feature_importance_results = {}  # Initialize dictionary\n",
    "\n",
    "# Train a model and extract feature importance for each dataset\n",
    "for dataset_name, (X, y) in datasets.items():\n",
    "    model = RandomForestClassifier(random_state=42)\n",
    "    model.fit(X, y)\n",
    "    feature_importance_results[dataset_name] = model.feature_importances_\n"
   ]
  },
  {
   "cell_type": "code",
   "execution_count": 109,
   "metadata": {},
   "outputs": [
    {
     "data": {
      "image/png": "[encoded data removed]",
      "text/plain": [
       "<Figure size 1200x800 with 1 Axes>"
      ]
     },
     "metadata": {},
     "output_type": "display_data"
    },
    {
     "data": {
      "image/png": "[encoded data removed]",
      "text/plain": [
       "<Figure size 1200x800 with 1 Axes>"
      ]
     },
     "metadata": {},
     "output_type": "display_data"
    },
    {
     "data": {
      "image/png": "[encoded data removed]",
      "text/plain": [
       "<Figure size 1200x800 with 1 Axes>"
      ]
     },
     "metadata": {},
     "output_type": "display_data"
    },
    {
     "data": {
      "image/png": "[encoded data removed]",
      "text/plain": [
       "<Figure size 1200x800 with 1 Axes>"
      ]
     },
     "metadata": {},
     "output_type": "display_data"
    },
    {
     "data": {
      "image/png": "[encoded data removed]",
      "text/plain": [
       "<Figure size 1200x800 with 1 Axes>"
      ]
     },
     "metadata": {},
     "output_type": "display_data"
    }
   ],
   "source": [
    "import matplotlib.pyplot as plt\n",
    "import numpy as np\n",
    "import seaborn as sns\n",
    "from sklearn.model_selection import train_test_split\n",
    "\n",
    "# Define a color palette for different datasets\n",
    "color_palette = sns.color_palette(\"husl\", len(datasets))  # Assign unique colors\n",
    "\n",
    "# Loop through all datasets and generate feature importance plots\n",
    "for i, (dataset_name, (X, y)) in enumerate(datasets.items()):\n",
    "    # Ensure feature importance is available\n",
    "    if dataset_name not in feature_importance_results:\n",
    "        print(f\"⚠ Warning: No feature importance data for {dataset_name}. Skipping...\")\n",
    "        continue\n",
    "\n",
    "    # Split data into training and testing (80% train, 20% test)\n",
    "    X_train, X_test, y_train, y_test = train_test_split(X, y, test_size=0.2, random_state=42)\n",
    "\n",
    "    feature_importances = feature_importance_results[dataset_name]\n",
    "\n",
    "    # Get correct feature names\n",
    "    feature_names = X_train.columns if hasattr(X_train, \"columns\") else [f\"Feature {i}\" for i in range(len(feature_importances))]\n",
    "\n",
    "    # Sort feature importances in descending order\n",
    "    sorted_indices = np.argsort(feature_importances)[::-1]\n",
    "    sorted_features = np.array(feature_names)[sorted_indices]\n",
    "    sorted_importances = feature_importances[sorted_indices]\n",
    "\n",
    "    # Create horizontal bar plot with unique color for each dataset\n",
    "    plt.figure(figsize=(12, 8))\n",
    "    bars = plt.barh(sorted_features, sorted_importances, color=color_palette[i])\n",
    "\n",
    "    # Add labels on bars\n",
    "    for bar, value in zip(bars, sorted_importances):\n",
    "        plt.text(bar.get_width(), bar.get_y() + bar.get_height()/2, f\"{value:.3f}\", va='center')\n",
    "\n",
    "    # Enhance appearance\n",
    "    plt.xlabel(\"Importance Score\", fontsize=12)\n",
    "    plt.ylabel(\"Features\", fontsize=12)\n",
    "    plt.title(f\"Feature Importance - {dataset_name}\", fontsize=14)\n",
    "    plt.gca().invert_yaxis()  # Highest importance on top\n",
    "    plt.grid(axis=\"x\", linestyle=\"--\", alpha=0.7)\n",
    "\n",
    "    # Show plot\n",
    "    plt.show()"
   ]
  },
  {
   "cell_type": "markdown",
   "metadata": {},
   "source": [
    "# Data Fusion"
   ]
  },
  {
   "cell_type": "code",
   "execution_count": 110,
   "metadata": {},
   "outputs": [
    {
     "name": "stdout",
     "output_type": "stream",
     "text": [
      "You must install graphviz (see instructions at https://graphviz.gitlab.io/download/) for `plot_model` to work.\n",
      "Epoch 1/100\n",
      "\u001b[1m1/9\u001b[0m \u001b[32m━━\u001b[0m\u001b[37m━━━━━━━━━━━━━━━━━━\u001b[0m \u001b[1m21s\u001b[0m 3s/step - accuracy: 0.4062 - loss: 3.2908Epoch 1: Accuracy = 0.4792, Val Accuracy = 0.4924, Loss = 3.2372, Val Loss = 2.8366, Time = 2.85s\n",
      "\u001b[1m9/9\u001b[0m \u001b[32m━━━━━━━━━━━━━━━━━━━━\u001b[0m\u001b[37m\u001b[0m \u001b[1m3s\u001b[0m 27ms/step - accuracy: 0.4642 - loss: 3.2402 - val_accuracy: 0.4924 - val_loss: 2.8366\n",
      "Epoch 2/100\n",
      "\u001b[1m1/9\u001b[0m \u001b[32m━━\u001b[0m\u001b[37m━━━━━━━━━━━━━━━━━━\u001b[0m \u001b[1m0s\u001b[0m 12ms/step - accuracy: 0.4531 - loss: 3.0428Epoch 2: Accuracy = 0.4962, Val Accuracy = 0.5000, Loss = 3.0970, Val Loss = 2.8303, Time = 0.06s\n",
      "\u001b[1m9/9\u001b[0m \u001b[32m━━━━━━━━━━━━━━━━━━━━\u001b[0m\u001b[37m\u001b[0m \u001b[1m0s\u001b[0m 6ms/step - accuracy: 0.4731 - loss: 3.1270 - val_accuracy: 0.5000 - val_loss: 2.8303\n",
      "Epoch 3/100\n",
      "\u001b[1m1/9\u001b[0m \u001b[32m━━\u001b[0m\u001b[37m━━━━━━━━━━━━━━━━━━\u001b[0m \u001b[1m0s\u001b[0m 13ms/step - accuracy: 0.4844 - loss: 3.3158Epoch 3: Accuracy = 0.4867, Val Accuracy = 0.4848, Loss = 3.1491, Val Loss = 2.8238, Time = 0.06s\n",
      "\u001b[1m9/9\u001b[0m \u001b[32m━━━━━━━━━━━━━━━━━━━━\u001b[0m\u001b[37m\u001b[0m \u001b[1m0s\u001b[0m 6ms/step - accuracy: 0.4939 - loss: 3.1610 - val_accuracy: 0.4848 - val_loss: 2.8238\n",
      "Epoch 4/100\n",
      "\u001b[1m1/9\u001b[0m \u001b[32m━━\u001b[0m\u001b[37m━━━━━━━━━━━━━━━━━━\u001b[0m \u001b[1m0s\u001b[0m 12ms/step - accuracy: 0.5625 - loss: 3.0356Epoch 4: Accuracy = 0.4886, Val Accuracy = 0.5000, Loss = 3.1171, Val Loss = 2.8174, Time = 0.06s\n",
      "\u001b[1m9/9\u001b[0m \u001b[32m━━━━━━━━━━━━━━━━━━━━\u001b[0m\u001b[37m\u001b[0m \u001b[1m0s\u001b[0m 5ms/step - accuracy: 0.5127 - loss: 3.0856 - val_accuracy: 0.5000 - val_loss: 2.8174\n",
      "Epoch 5/100\n",
      "\u001b[1m1/9\u001b[0m \u001b[32m━━\u001b[0m\u001b[37m━━━━━━━━━━━━━━━━━━\u001b[0m \u001b[1m0s\u001b[0m 12ms/step - accuracy: 0.5000 - loss: 3.0737Epoch 5: Accuracy = 0.4754, Val Accuracy = 0.5152, Loss = 3.0919, Val Loss = 2.8105, Time = 0.06s\n",
      "\u001b[1m9/9\u001b[0m \u001b[32m━━━━━━━━━━━━━━━━━━━━\u001b[0m\u001b[37m\u001b[0m \u001b[1m0s\u001b[0m 6ms/step - accuracy: 0.4895 - loss: 3.0662 - val_accuracy: 0.5152 - val_loss: 2.8105\n",
      "Epoch 6/100\n",
      "\u001b[1m1/9\u001b[0m \u001b[32m━━\u001b[0m\u001b[37m━━━━━━━━━━━━━━━━━━\u001b[0m \u001b[1m0s\u001b[0m 15ms/step - accuracy: 0.6250 - loss: 3.0887Epoch 6: Accuracy = 0.4924, Val Accuracy = 0.5227, Loss = 3.1037, Val Loss = 2.8029, Time = 0.06s\n",
      "\u001b[1m9/9\u001b[0m \u001b[32m━━━━━━━━━━━━━━━━━━━━\u001b[0m\u001b[37m\u001b[0m \u001b[1m0s\u001b[0m 6ms/step - accuracy: 0.4953 - loss: 3.1307 - val_accuracy: 0.5227 - val_loss: 2.8029\n",
      "Epoch 7/100\n",
      "\u001b[1m1/9\u001b[0m \u001b[32m━━\u001b[0m\u001b[37m━━━━━━━━━━━━━━━━━━\u001b[0m \u001b[1m0s\u001b[0m 12ms/step - accuracy: 0.5469 - loss: 3.1288Epoch 7: Accuracy = 0.5208, Val Accuracy = 0.5152, Loss = 3.0335, Val Loss = 2.7957, Time = 0.06s\n",
      "\u001b[1m9/9\u001b[0m \u001b[32m━━━━━━━━━━━━━━━━━━━━\u001b[0m\u001b[37m\u001b[0m \u001b[1m0s\u001b[0m 5ms/step - accuracy: 0.5123 - loss: 3.0613 - val_accuracy: 0.5152 - val_loss: 2.7957\n",
      "Epoch 8/100\n",
      "\u001b[1m1/9\u001b[0m \u001b[32m━━\u001b[0m\u001b[37m━━━━━━━━━━━━━━━━━━\u001b[0m \u001b[1m0s\u001b[0m 12ms/step - accuracy: 0.5469 - loss: 2.8688Epoch 8: Accuracy = 0.5019, Val Accuracy = 0.5227, Loss = 3.0121, Val Loss = 2.7883, Time = 0.06s\n",
      "\u001b[1m9/9\u001b[0m \u001b[32m━━━━━━━━━━━━━━━━━━━━\u001b[0m\u001b[37m\u001b[0m \u001b[1m0s\u001b[0m 5ms/step - accuracy: 0.5091 - loss: 2.9915 - val_accuracy: 0.5227 - val_loss: 2.7883\n",
      "Epoch 9/100\n",
      "\u001b[1m1/9\u001b[0m \u001b[32m━━\u001b[0m\u001b[37m━━━━━━━━━━━━━━━━━━\u001b[0m \u001b[1m0s\u001b[0m 12ms/step - accuracy: 0.3281 - loss: 3.1310Epoch 9: Accuracy = 0.5057, Val Accuracy = 0.5152, Loss = 2.9666, Val Loss = 2.7813, Time = 0.06s\n",
      "\u001b[1m9/9\u001b[0m \u001b[32m━━━━━━━━━━━━━━━━━━━━\u001b[0m\u001b[37m\u001b[0m \u001b[1m0s\u001b[0m 6ms/step - accuracy: 0.4825 - loss: 3.0075 - val_accuracy: 0.5152 - val_loss: 2.7813\n",
      "Epoch 10/100\n",
      "\u001b[1m1/9\u001b[0m \u001b[32m━━\u001b[0m\u001b[37m━━━━━━━━━━━━━━━━━━\u001b[0m \u001b[1m0s\u001b[0m 11ms/step - accuracy: 0.6406 - loss: 2.8921Epoch 10: Accuracy = 0.5341, Val Accuracy = 0.5152, Loss = 2.9520, Val Loss = 2.7746, Time = 0.06s\n",
      "\u001b[1m9/9\u001b[0m \u001b[32m━━━━━━━━━━━━━━━━━━━━\u001b[0m\u001b[37m\u001b[0m \u001b[1m0s\u001b[0m 6ms/step - accuracy: 0.5426 - loss: 2.9539 - val_accuracy: 0.5152 - val_loss: 2.7746\n",
      "Epoch 11/100\n",
      "\u001b[1m1/9\u001b[0m \u001b[32m━━\u001b[0m\u001b[37m━━━━━━━━━━━━━━━━━━\u001b[0m \u001b[1m0s\u001b[0m 13ms/step - accuracy: 0.4844 - loss: 3.0740Epoch 11: Accuracy = 0.4886, Val Accuracy = 0.5000, Loss = 2.9960, Val Loss = 2.7683, Time = 0.06s\n",
      "\u001b[1m9/9\u001b[0m \u001b[32m━━━━━━━━━━━━━━━━━━━━\u001b[0m\u001b[37m\u001b[0m \u001b[1m0s\u001b[0m 6ms/step - accuracy: 0.4962 - loss: 3.0095 - val_accuracy: 0.5000 - val_loss: 2.7683\n",
      "Epoch 12/100\n",
      "\u001b[1m1/9\u001b[0m \u001b[32m━━\u001b[0m\u001b[37m━━━━━━━━━━━━━━━━━━\u001b[0m \u001b[1m0s\u001b[0m 12ms/step - accuracy: 0.5469 - loss: 2.8564Epoch 12: Accuracy = 0.5379, Val Accuracy = 0.5000, Loss = 2.9151, Val Loss = 2.7615, Time = 0.06s\n",
      "\u001b[1m9/9\u001b[0m \u001b[32m━━━━━━━━━━━━━━━━━━━━\u001b[0m\u001b[37m\u001b[0m \u001b[1m0s\u001b[0m 6ms/step - accuracy: 0.5186 - loss: 2.9295 - val_accuracy: 0.5000 - val_loss: 2.7615\n",
      "Epoch 13/100\n",
      "\u001b[1m1/9\u001b[0m \u001b[32m━━\u001b[0m\u001b[37m━━━━━━━━━━━━━━━━━━\u001b[0m \u001b[1m0s\u001b[0m 13ms/step - accuracy: 0.4531 - loss: 2.8903Epoch 13: Accuracy = 0.5133, Val Accuracy = 0.5152, Loss = 2.9098, Val Loss = 2.7544, Time = 0.06s\n",
      "\u001b[1m9/9\u001b[0m \u001b[32m━━━━━━━━━━━━━━━━━━━━\u001b[0m\u001b[37m\u001b[0m \u001b[1m0s\u001b[0m 5ms/step - accuracy: 0.5062 - loss: 2.9001 - val_accuracy: 0.5152 - val_loss: 2.7544\n",
      "Epoch 14/100\n",
      "\u001b[1m1/9\u001b[0m \u001b[32m━━\u001b[0m\u001b[37m━━━━━━━━━━━━━━━━━━\u001b[0m \u001b[1m0s\u001b[0m 11ms/step - accuracy: 0.4531 - loss: 2.9742Epoch 14: Accuracy = 0.4735, Val Accuracy = 0.5152, Loss = 2.9839, Val Loss = 2.7472, Time = 0.05s\n",
      "\u001b[1m9/9\u001b[0m \u001b[32m━━━━━━━━━━━━━━━━━━━━\u001b[0m\u001b[37m\u001b[0m \u001b[1m0s\u001b[0m 5ms/step - accuracy: 0.4779 - loss: 2.9768 - val_accuracy: 0.5152 - val_loss: 2.7472\n",
      "Epoch 15/100\n",
      "\u001b[1m1/9\u001b[0m \u001b[32m━━\u001b[0m\u001b[37m━━━━━━━━━━━━━━━━━━\u001b[0m \u001b[1m0s\u001b[0m 13ms/step - accuracy: 0.4531 - loss: 3.0404Epoch 15: Accuracy = 0.5019, Val Accuracy = 0.5227, Loss = 2.9263, Val Loss = 2.7398, Time = 0.06s\n",
      "\u001b[1m9/9\u001b[0m \u001b[32m━━━━━━━━━━━━━━━━━━━━\u001b[0m\u001b[37m\u001b[0m \u001b[1m0s\u001b[0m 6ms/step - accuracy: 0.4951 - loss: 2.9422 - val_accuracy: 0.5227 - val_loss: 2.7398\n",
      "Epoch 16/100\n",
      "\u001b[1m1/9\u001b[0m \u001b[32m━━\u001b[0m\u001b[37m━━━━━━━━━━━━━━━━━━\u001b[0m \u001b[1m0s\u001b[0m 12ms/step - accuracy: 0.5000 - loss: 2.9900Epoch 16: Accuracy = 0.5398, Val Accuracy = 0.5303, Loss = 2.8792, Val Loss = 2.7325, Time = 0.06s\n",
      "\u001b[1m9/9\u001b[0m \u001b[32m━━━━━━━━━━━━━━━━━━━━\u001b[0m\u001b[37m\u001b[0m \u001b[1m0s\u001b[0m 6ms/step - accuracy: 0.5338 - loss: 2.9059 - val_accuracy: 0.5303 - val_loss: 2.7325\n",
      "Epoch 17/100\n",
      "\u001b[1m1/9\u001b[0m \u001b[32m━━\u001b[0m\u001b[37m━━━━━━━━━━━━━━━━━━\u001b[0m \u001b[1m0s\u001b[0m 12ms/step - accuracy: 0.4844 - loss: 2.9224Epoch 17: Accuracy = 0.5019, Val Accuracy = 0.5455, Loss = 2.9295, Val Loss = 2.7254, Time = 0.06s\n",
      "\u001b[1m9/9\u001b[0m \u001b[32m━━━━━━━━━━━━━━━━━━━━\u001b[0m\u001b[37m\u001b[0m \u001b[1m0s\u001b[0m 6ms/step - accuracy: 0.5077 - loss: 2.9251 - val_accuracy: 0.5455 - val_loss: 2.7254\n",
      "Epoch 18/100\n",
      "\u001b[1m1/9\u001b[0m \u001b[32m━━\u001b[0m\u001b[37m━━━━━━━━━━━━━━━━━━\u001b[0m \u001b[1m0s\u001b[0m 12ms/step - accuracy: 0.4688 - loss: 2.8719Epoch 18: Accuracy = 0.5208, Val Accuracy = 0.5455, Loss = 2.8966, Val Loss = 2.7182, Time = 0.06s\n",
      "\u001b[1m9/9\u001b[0m \u001b[32m━━━━━━━━━━━━━━━━━━━━\u001b[0m\u001b[37m\u001b[0m \u001b[1m0s\u001b[0m 5ms/step - accuracy: 0.5195 - loss: 2.8839 - val_accuracy: 0.5455 - val_loss: 2.7182\n",
      "Epoch 19/100\n",
      "\u001b[1m1/9\u001b[0m \u001b[32m━━\u001b[0m\u001b[37m━━━━━━━━━━━━━━━━━━\u001b[0m \u001b[1m0s\u001b[0m 13ms/step - accuracy: 0.6094 - loss: 2.6245Epoch 19: Accuracy = 0.4924, Val Accuracy = 0.5530, Loss = 2.8430, Val Loss = 2.7107, Time = 0.06s\n",
      "\u001b[1m9/9\u001b[0m \u001b[32m━━━━━━━━━━━━━━━━━━━━\u001b[0m\u001b[37m\u001b[0m \u001b[1m0s\u001b[0m 6ms/step - accuracy: 0.4912 - loss: 2.8350 - val_accuracy: 0.5530 - val_loss: 2.7107\n",
      "Epoch 20/100\n",
      "\u001b[1m1/9\u001b[0m \u001b[32m━━\u001b[0m\u001b[37m━━━━━━━━━━━━━━━━━━\u001b[0m \u001b[1m0s\u001b[0m 12ms/step - accuracy: 0.5469 - loss: 2.7404Epoch 20: Accuracy = 0.5246, Val Accuracy = 0.5758, Loss = 2.8257, Val Loss = 2.7031, Time = 0.06s\n",
      "\u001b[1m9/9\u001b[0m \u001b[32m━━━━━━━━━━━━━━━━━━━━\u001b[0m\u001b[37m\u001b[0m \u001b[1m0s\u001b[0m 6ms/step - accuracy: 0.5278 - loss: 2.7999 - val_accuracy: 0.5758 - val_loss: 2.7031\n",
      "Epoch 21/100\n",
      "\u001b[1m1/9\u001b[0m \u001b[32m━━\u001b[0m\u001b[37m━━━━━━━━━━━━━━━━━━\u001b[0m \u001b[1m0s\u001b[0m 11ms/step - accuracy: 0.4375 - loss: 2.9688Epoch 21: Accuracy = 0.5095, Val Accuracy = 0.5833, Loss = 2.8389, Val Loss = 2.6958, Time = 0.06s\n",
      "\u001b[1m9/9\u001b[0m \u001b[32m━━━━━━━━━━━━━━━━━━━━\u001b[0m\u001b[37m\u001b[0m \u001b[1m0s\u001b[0m 5ms/step - accuracy: 0.4890 - loss: 2.8720 - val_accuracy: 0.5833 - val_loss: 2.6958\n",
      "Epoch 22/100\n",
      "\u001b[1m1/9\u001b[0m \u001b[32m━━\u001b[0m\u001b[37m━━━━━━━━━━━━━━━━━━\u001b[0m \u001b[1m0s\u001b[0m 12ms/step - accuracy: 0.5156 - loss: 2.8009Epoch 22: Accuracy = 0.4811, Val Accuracy = 0.5909, Loss = 2.8616, Val Loss = 2.6886, Time = 0.06s\n",
      "\u001b[1m9/9\u001b[0m \u001b[32m━━━━━━━━━━━━━━━━━━━━\u001b[0m\u001b[37m\u001b[0m \u001b[1m0s\u001b[0m 5ms/step - accuracy: 0.4781 - loss: 2.8534 - val_accuracy: 0.5909 - val_loss: 2.6886\n",
      "Epoch 23/100\n",
      "\u001b[1m1/9\u001b[0m \u001b[32m━━\u001b[0m\u001b[37m━━━━━━━━━━━━━━━━━━\u001b[0m \u001b[1m0s\u001b[0m 12ms/step - accuracy: 0.5000 - loss: 2.8012Epoch 23: Accuracy = 0.5549, Val Accuracy = 0.5909, Loss = 2.7762, Val Loss = 2.6813, Time = 0.06s\n",
      "\u001b[1m9/9\u001b[0m \u001b[32m━━━━━━━━━━━━━━━━━━━━\u001b[0m\u001b[37m\u001b[0m \u001b[1m0s\u001b[0m 6ms/step - accuracy: 0.5342 - loss: 2.7979 - val_accuracy: 0.5909 - val_loss: 2.6813\n",
      "Epoch 24/100\n",
      "\u001b[1m1/9\u001b[0m \u001b[32m━━\u001b[0m\u001b[37m━━━━━━━━━━━━━━━━━━\u001b[0m \u001b[1m0s\u001b[0m 12ms/step - accuracy: 0.5625 - loss: 2.8376Epoch 24: Accuracy = 0.5208, Val Accuracy = 0.5985, Loss = 2.8010, Val Loss = 2.6738, Time = 0.06s\n",
      "\u001b[1m9/9\u001b[0m \u001b[32m━━━━━━━━━━━━━━━━━━━━\u001b[0m\u001b[37m\u001b[0m \u001b[1m0s\u001b[0m 6ms/step - accuracy: 0.5290 - loss: 2.8075 - val_accuracy: 0.5985 - val_loss: 2.6738\n",
      "Epoch 25/100\n",
      "\u001b[1m1/9\u001b[0m \u001b[32m━━\u001b[0m\u001b[37m━━━━━━━━━━━━━━━━━━\u001b[0m \u001b[1m0s\u001b[0m 12ms/step - accuracy: 0.4844 - loss: 2.9336Epoch 25: Accuracy = 0.4792, Val Accuracy = 0.5909, Loss = 2.8266, Val Loss = 2.6665, Time = 0.06s\n",
      "\u001b[1m9/9\u001b[0m \u001b[32m━━━━━━━━━━━━━━━━━━━━\u001b[0m\u001b[37m\u001b[0m \u001b[1m0s\u001b[0m 5ms/step - accuracy: 0.4794 - loss: 2.8566 - val_accuracy: 0.5909 - val_loss: 2.6665\n",
      "Epoch 26/100\n",
      "\u001b[1m1/9\u001b[0m \u001b[32m━━\u001b[0m\u001b[37m━━━━━━━━━━━━━━━━━━\u001b[0m \u001b[1m0s\u001b[0m 12ms/step - accuracy: 0.4844 - loss: 2.8507Epoch 26: Accuracy = 0.5133, Val Accuracy = 0.5909, Loss = 2.7776, Val Loss = 2.6593, Time = 0.06s\n",
      "\u001b[1m9/9\u001b[0m \u001b[32m━━━━━━━━━━━━━━━━━━━━\u001b[0m\u001b[37m\u001b[0m \u001b[1m0s\u001b[0m 6ms/step - accuracy: 0.5237 - loss: 2.7807 - val_accuracy: 0.5909 - val_loss: 2.6593\n",
      "Epoch 27/100\n",
      "\u001b[1m1/9\u001b[0m \u001b[32m━━\u001b[0m\u001b[37m━━━━━━━━━━━━━━━━━━\u001b[0m \u001b[1m0s\u001b[0m 12ms/step - accuracy: 0.4844 - loss: 2.7876Epoch 27: Accuracy = 0.5720, Val Accuracy = 0.5833, Loss = 2.7338, Val Loss = 2.6522, Time = 0.06s\n",
      "\u001b[1m9/9\u001b[0m \u001b[32m━━━━━━━━━━━━━━━━━━━━\u001b[0m\u001b[37m\u001b[0m \u001b[1m0s\u001b[0m 6ms/step - accuracy: 0.5428 - loss: 2.7571 - val_accuracy: 0.5833 - val_loss: 2.6522\n",
      "Epoch 28/100\n",
      "\u001b[1m1/9\u001b[0m \u001b[32m━━\u001b[0m\u001b[37m━━━━━━━━━━━━━━━━━━\u001b[0m \u001b[1m0s\u001b[0m 13ms/step - accuracy: 0.4219 - loss: 2.8325Epoch 28: Accuracy = 0.5170, Val Accuracy = 0.5833, Loss = 2.7767, Val Loss = 2.6446, Time = 0.06s\n",
      "\u001b[1m9/9\u001b[0m \u001b[32m━━━━━━━━━━━━━━━━━━━━\u001b[0m\u001b[37m\u001b[0m \u001b[1m0s\u001b[0m 6ms/step - accuracy: 0.4930 - loss: 2.7910 - val_accuracy: 0.5833 - val_loss: 2.6446\n",
      "Epoch 29/100\n",
      "\u001b[1m1/9\u001b[0m \u001b[32m━━\u001b[0m\u001b[37m━━━━━━━━━━━━━━━━━━\u001b[0m \u001b[1m0s\u001b[0m 14ms/step - accuracy: 0.5312 - loss: 2.7736Epoch 29: Accuracy = 0.5152, Val Accuracy = 0.5985, Loss = 2.7688, Val Loss = 2.6370, Time = 0.06s\n",
      "\u001b[1m9/9\u001b[0m \u001b[32m━━━━━━━━━━━━━━━━━━━━\u001b[0m\u001b[37m\u001b[0m \u001b[1m0s\u001b[0m 6ms/step - accuracy: 0.5202 - loss: 2.7751 - val_accuracy: 0.5985 - val_loss: 2.6370\n",
      "Epoch 30/100\n",
      "\u001b[1m1/9\u001b[0m \u001b[32m━━\u001b[0m\u001b[37m━━━━━━━━━━━━━━━━━━\u001b[0m \u001b[1m0s\u001b[0m 13ms/step - accuracy: 0.5469 - loss: 2.6826Epoch 30: Accuracy = 0.5379, Val Accuracy = 0.6061, Loss = 2.7226, Val Loss = 2.6295, Time = 0.06s\n",
      "\u001b[1m9/9\u001b[0m \u001b[32m━━━━━━━━━━━━━━━━━━━━\u001b[0m\u001b[37m\u001b[0m \u001b[1m0s\u001b[0m 6ms/step - accuracy: 0.5432 - loss: 2.7015 - val_accuracy: 0.6061 - val_loss: 2.6295\n",
      "Epoch 31/100\n",
      "\u001b[1m1/9\u001b[0m \u001b[32m━━\u001b[0m\u001b[37m━━━━━━━━━━━━━━━━━━\u001b[0m \u001b[1m0s\u001b[0m 11ms/step - accuracy: 0.5625 - loss: 2.6926Epoch 31: Accuracy = 0.5152, Val Accuracy = 0.6136, Loss = 2.7442, Val Loss = 2.6219, Time = 0.06s\n",
      "\u001b[1m9/9\u001b[0m \u001b[32m━━━━━━━━━━━━━━━━━━━━\u001b[0m\u001b[37m\u001b[0m \u001b[1m0s\u001b[0m 6ms/step - accuracy: 0.5379 - loss: 2.7342 - val_accuracy: 0.6136 - val_loss: 2.6219\n",
      "Epoch 32/100\n",
      "\u001b[1m1/9\u001b[0m \u001b[32m━━\u001b[0m\u001b[37m━━━━━━━━━━━━━━━━━━\u001b[0m \u001b[1m0s\u001b[0m 12ms/step - accuracy: 0.5625 - loss: 2.6356Epoch 32: Accuracy = 0.5341, Val Accuracy = 0.6136, Loss = 2.7500, Val Loss = 2.6141, Time = 0.06s\n",
      "\u001b[1m9/9\u001b[0m \u001b[32m━━━━━━━━━━━━━━━━━━━━\u001b[0m\u001b[37m\u001b[0m \u001b[1m0s\u001b[0m 5ms/step - accuracy: 0.5312 - loss: 2.7400 - val_accuracy: 0.6136 - val_loss: 2.6141\n",
      "Epoch 33/100\n",
      "\u001b[1m1/9\u001b[0m \u001b[32m━━\u001b[0m\u001b[37m━━━━━━━━━━━━━━━━━━\u001b[0m \u001b[1m0s\u001b[0m 12ms/step - accuracy: 0.4531 - loss: 2.8190Epoch 33: Accuracy = 0.5076, Val Accuracy = 0.6136, Loss = 2.7375, Val Loss = 2.6066, Time = 0.06s\n",
      "\u001b[1m9/9\u001b[0m \u001b[32m━━━━━━━━━━━━━━━━━━━━\u001b[0m\u001b[37m\u001b[0m \u001b[1m0s\u001b[0m 6ms/step - accuracy: 0.4886 - loss: 2.7623 - val_accuracy: 0.6136 - val_loss: 2.6066\n",
      "Epoch 34/100\n",
      "\u001b[1m1/9\u001b[0m \u001b[32m━━\u001b[0m\u001b[37m━━━━━━━━━━━━━━━━━━\u001b[0m \u001b[1m0s\u001b[0m 12ms/step - accuracy: 0.4531 - loss: 2.7806Epoch 34: Accuracy = 0.5095, Val Accuracy = 0.6136, Loss = 2.7087, Val Loss = 2.5987, Time = 0.06s\n",
      "\u001b[1m9/9\u001b[0m \u001b[32m━━━━━━━━━━━━━━━━━━━━\u001b[0m\u001b[37m\u001b[0m \u001b[1m0s\u001b[0m 5ms/step - accuracy: 0.5079 - loss: 2.7199 - val_accuracy: 0.6136 - val_loss: 2.5987\n",
      "Epoch 35/100\n",
      "\u001b[1m1/9\u001b[0m \u001b[32m━━\u001b[0m\u001b[37m━━━━━━━━━━━━━━━━━━\u001b[0m \u001b[1m0s\u001b[0m 12ms/step - accuracy: 0.5469 - loss: 2.6606Epoch 35: Accuracy = 0.5417, Val Accuracy = 0.6061, Loss = 2.6905, Val Loss = 2.5912, Time = 0.06s\n",
      "\u001b[1m9/9\u001b[0m \u001b[32m━━━━━━━━━━━━━━━━━━━━\u001b[0m\u001b[37m\u001b[0m \u001b[1m0s\u001b[0m 6ms/step - accuracy: 0.5426 - loss: 2.6820 - val_accuracy: 0.6061 - val_loss: 2.5912\n",
      "Epoch 36/100\n",
      "\u001b[1m1/9\u001b[0m \u001b[32m━━\u001b[0m\u001b[37m━━━━━━━━━━━━━━━━━━\u001b[0m \u001b[1m0s\u001b[0m 12ms/step - accuracy: 0.5781 - loss: 2.6372Epoch 36: Accuracy = 0.5720, Val Accuracy = 0.6136, Loss = 2.6515, Val Loss = 2.5840, Time = 0.06s\n",
      "\u001b[1m9/9\u001b[0m \u001b[32m━━━━━━━━━━━━━━━━━━━━\u001b[0m\u001b[37m\u001b[0m \u001b[1m0s\u001b[0m 6ms/step - accuracy: 0.5735 - loss: 2.6412 - val_accuracy: 0.6136 - val_loss: 2.5840\n",
      "Epoch 37/100\n",
      "\u001b[1m1/9\u001b[0m \u001b[32m━━\u001b[0m\u001b[37m━━━━━━━━━━━━━━━━━━\u001b[0m \u001b[1m0s\u001b[0m 12ms/step - accuracy: 0.5469 - loss: 2.6625Epoch 37: Accuracy = 0.5833, Val Accuracy = 0.6212, Loss = 2.6331, Val Loss = 2.5766, Time = 0.06s\n",
      "\u001b[1m9/9\u001b[0m \u001b[32m━━━━━━━━━━━━━━━━━━━━\u001b[0m\u001b[37m\u001b[0m \u001b[1m0s\u001b[0m 6ms/step - accuracy: 0.5911 - loss: 2.6294 - val_accuracy: 0.6212 - val_loss: 2.5766\n",
      "Epoch 38/100\n",
      "\u001b[1m1/9\u001b[0m \u001b[32m━━\u001b[0m\u001b[37m━━━━━━━━━━━━━━━━━━\u001b[0m \u001b[1m0s\u001b[0m 13ms/step - accuracy: 0.5625 - loss: 2.6325Epoch 38: Accuracy = 0.4981, Val Accuracy = 0.6364, Loss = 2.6942, Val Loss = 2.5698, Time = 0.06s\n",
      "\u001b[1m9/9\u001b[0m \u001b[32m━━━━━━━━━━━━━━━━━━━━\u001b[0m\u001b[37m\u001b[0m \u001b[1m0s\u001b[0m 6ms/step - accuracy: 0.5145 - loss: 2.6801 - val_accuracy: 0.6364 - val_loss: 2.5698\n",
      "Epoch 39/100\n",
      "\u001b[1m1/9\u001b[0m \u001b[32m━━\u001b[0m\u001b[37m━━━━━━━━━━━━━━━━━━\u001b[0m \u001b[1m0s\u001b[0m 12ms/step - accuracy: 0.5781 - loss: 2.6856Epoch 39: Accuracy = 0.5587, Val Accuracy = 0.6439, Loss = 2.6716, Val Loss = 2.5624, Time = 0.06s\n",
      "\u001b[1m9/9\u001b[0m \u001b[32m━━━━━━━━━━━━━━━━━━━━\u001b[0m\u001b[37m\u001b[0m \u001b[1m0s\u001b[0m 5ms/step - accuracy: 0.5561 - loss: 2.6840 - val_accuracy: 0.6439 - val_loss: 2.5624\n",
      "Epoch 40/100\n",
      "\u001b[1m1/9\u001b[0m \u001b[32m━━\u001b[0m\u001b[37m━━━━━━━━━━━━━━━━━━\u001b[0m \u001b[1m0s\u001b[0m 12ms/step - accuracy: 0.5938 - loss: 2.6765Epoch 40: Accuracy = 0.5947, Val Accuracy = 0.6439, Loss = 2.6142, Val Loss = 2.5551, Time = 0.06s\n",
      "\u001b[1m9/9\u001b[0m \u001b[32m━━━━━━━━━━━━━━━━━━━━\u001b[0m\u001b[37m\u001b[0m \u001b[1m0s\u001b[0m 5ms/step - accuracy: 0.5947 - loss: 2.6197 - val_accuracy: 0.6439 - val_loss: 2.5551\n",
      "Epoch 41/100\n",
      "\u001b[1m1/9\u001b[0m \u001b[32m━━\u001b[0m\u001b[37m━━━━━━━━━━━━━━━━━━\u001b[0m \u001b[1m0s\u001b[0m 12ms/step - accuracy: 0.4531 - loss: 2.6362Epoch 41: Accuracy = 0.5530, Val Accuracy = 0.6439, Loss = 2.6152, Val Loss = 2.5478, Time = 0.06s\n",
      "\u001b[1m9/9\u001b[0m \u001b[32m━━━━━━━━━━━━━━━━━━━━\u001b[0m\u001b[37m\u001b[0m \u001b[1m0s\u001b[0m 5ms/step - accuracy: 0.5260 - loss: 2.6223 - val_accuracy: 0.6439 - val_loss: 2.5478\n",
      "Epoch 42/100\n",
      "\u001b[1m1/9\u001b[0m \u001b[32m━━\u001b[0m\u001b[37m━━━━━━━━━━━━━━━━━━\u001b[0m \u001b[1m0s\u001b[0m 13ms/step - accuracy: 0.5781 - loss: 2.5859Epoch 42: Accuracy = 0.5398, Val Accuracy = 0.6515, Loss = 2.6346, Val Loss = 2.5404, Time = 0.06s\n",
      "\u001b[1m9/9\u001b[0m \u001b[32m━━━━━━━━━━━━━━━━━━━━\u001b[0m\u001b[37m\u001b[0m \u001b[1m0s\u001b[0m 6ms/step - accuracy: 0.5436 - loss: 2.6295 - val_accuracy: 0.6515 - val_loss: 2.5404\n",
      "Epoch 43/100\n",
      "\u001b[1m1/9\u001b[0m \u001b[32m━━\u001b[0m\u001b[37m━━━━━━━━━━━━━━━━━━\u001b[0m \u001b[1m0s\u001b[0m 13ms/step - accuracy: 0.4531 - loss: 2.7295Epoch 43: Accuracy = 0.5549, Val Accuracy = 0.6515, Loss = 2.6295, Val Loss = 2.5326, Time = 0.06s\n",
      "\u001b[1m9/9\u001b[0m \u001b[32m━━━━━━━━━━━━━━━━━━━━\u001b[0m\u001b[37m\u001b[0m \u001b[1m0s\u001b[0m 6ms/step - accuracy: 0.5285 - loss: 2.6466 - val_accuracy: 0.6515 - val_loss: 2.5326\n",
      "Epoch 44/100\n",
      "\u001b[1m1/9\u001b[0m \u001b[32m━━\u001b[0m\u001b[37m━━━━━━━━━━━━━━━━━━\u001b[0m \u001b[1m0s\u001b[0m 11ms/step - accuracy: 0.5156 - loss: 2.6389Epoch 44: Accuracy = 0.5530, Val Accuracy = 0.6515, Loss = 2.5932, Val Loss = 2.5253, Time = 0.05s\n",
      "\u001b[1m9/9\u001b[0m \u001b[32m━━━━━━━━━━━━━━━━━━━━\u001b[0m\u001b[37m\u001b[0m \u001b[1m0s\u001b[0m 5ms/step - accuracy: 0.5494 - loss: 2.5944 - val_accuracy: 0.6515 - val_loss: 2.5253\n",
      "Epoch 45/100\n",
      "\u001b[1m1/9\u001b[0m \u001b[32m━━\u001b[0m\u001b[37m━━━━━━━━━━━━━━━━━━\u001b[0m \u001b[1m0s\u001b[0m 12ms/step - accuracy: 0.5312 - loss: 2.6610Epoch 45: Accuracy = 0.5852, Val Accuracy = 0.6515, Loss = 2.5555, Val Loss = 2.5183, Time = 0.05s\n",
      "\u001b[1m9/9\u001b[0m \u001b[32m━━━━━━━━━━━━━━━━━━━━\u001b[0m\u001b[37m\u001b[0m \u001b[1m0s\u001b[0m 5ms/step - accuracy: 0.5888 - loss: 2.5608 - val_accuracy: 0.6515 - val_loss: 2.5183\n",
      "Epoch 46/100\n",
      "\u001b[1m1/9\u001b[0m \u001b[32m━━\u001b[0m\u001b[37m━━━━━━━━━━━━━━━━━━\u001b[0m \u001b[1m0s\u001b[0m 11ms/step - accuracy: 0.5156 - loss: 2.5700Epoch 46: Accuracy = 0.5568, Val Accuracy = 0.6515, Loss = 2.5821, Val Loss = 2.5108, Time = 0.06s\n",
      "\u001b[1m9/9\u001b[0m \u001b[32m━━━━━━━━━━━━━━━━━━━━\u001b[0m\u001b[37m\u001b[0m \u001b[1m0s\u001b[0m 6ms/step - accuracy: 0.5358 - loss: 2.5805 - val_accuracy: 0.6515 - val_loss: 2.5108\n",
      "Epoch 47/100\n",
      "\u001b[1m1/9\u001b[0m \u001b[32m━━\u001b[0m\u001b[37m━━━━━━━━━━━━━━━━━━\u001b[0m \u001b[1m0s\u001b[0m 12ms/step - accuracy: 0.6250 - loss: 2.5896Epoch 47: Accuracy = 0.5568, Val Accuracy = 0.6591, Loss = 2.6021, Val Loss = 2.5032, Time = 0.06s\n",
      "\u001b[1m9/9\u001b[0m \u001b[32m━━━━━━━━━━━━━━━━━━━━\u001b[0m\u001b[37m\u001b[0m \u001b[1m0s\u001b[0m 6ms/step - accuracy: 0.5813 - loss: 2.5984 - val_accuracy: 0.6591 - val_loss: 2.5032\n",
      "Epoch 48/100\n",
      "\u001b[1m1/9\u001b[0m \u001b[32m━━\u001b[0m\u001b[37m━━━━━━━━━━━━━━━━━━\u001b[0m \u001b[1m0s\u001b[0m 12ms/step - accuracy: 0.5469 - loss: 2.5976Epoch 48: Accuracy = 0.5625, Val Accuracy = 0.6591, Loss = 2.5791, Val Loss = 2.4960, Time = 0.06s\n",
      "\u001b[1m9/9\u001b[0m \u001b[32m━━━━━━━━━━━━━━━━━━━━\u001b[0m\u001b[37m\u001b[0m \u001b[1m0s\u001b[0m 5ms/step - accuracy: 0.5623 - loss: 2.5810 - val_accuracy: 0.6591 - val_loss: 2.4960\n",
      "Epoch 49/100\n",
      "\u001b[1m1/9\u001b[0m \u001b[32m━━\u001b[0m\u001b[37m━━━━━━━━━━━━━━━━━━\u001b[0m \u001b[1m0s\u001b[0m 14ms/step - accuracy: 0.6562 - loss: 2.5169Epoch 49: Accuracy = 0.6023, Val Accuracy = 0.6667, Loss = 2.5333, Val Loss = 2.4887, Time = 0.06s\n",
      "\u001b[1m9/9\u001b[0m \u001b[32m━━━━━━━━━━━━━━━━━━━━\u001b[0m\u001b[37m\u001b[0m \u001b[1m0s\u001b[0m 6ms/step - accuracy: 0.6144 - loss: 2.5323 - val_accuracy: 0.6667 - val_loss: 2.4887\n",
      "Epoch 50/100\n",
      "\u001b[1m1/9\u001b[0m \u001b[32m━━\u001b[0m\u001b[37m━━━━━━━━━━━━━━━━━━\u001b[0m \u001b[1m0s\u001b[0m 11ms/step - accuracy: 0.5625 - loss: 2.5037Epoch 50: Accuracy = 0.5663, Val Accuracy = 0.6667, Loss = 2.5678, Val Loss = 2.4819, Time = 0.06s\n",
      "\u001b[1m9/9\u001b[0m \u001b[32m━━━━━━━━━━━━━━━━━━━━\u001b[0m\u001b[37m\u001b[0m \u001b[1m0s\u001b[0m 5ms/step - accuracy: 0.5617 - loss: 2.5572 - val_accuracy: 0.6667 - val_loss: 2.4819\n",
      "Epoch 51/100\n",
      "\u001b[1m1/9\u001b[0m \u001b[32m━━\u001b[0m\u001b[37m━━━━━━━━━━━━━━━━━━\u001b[0m \u001b[1m0s\u001b[0m 12ms/step - accuracy: 0.6406 - loss: 2.4929Epoch 51: Accuracy = 0.5568, Val Accuracy = 0.6667, Loss = 2.5513, Val Loss = 2.4745, Time = 0.06s\n",
      "\u001b[1m9/9\u001b[0m \u001b[32m━━━━━━━━━━━━━━━━━━━━\u001b[0m\u001b[37m\u001b[0m \u001b[1m0s\u001b[0m 5ms/step - accuracy: 0.5717 - loss: 2.5368 - val_accuracy: 0.6667 - val_loss: 2.4745\n",
      "Epoch 52/100\n",
      "\u001b[1m1/9\u001b[0m \u001b[32m━━\u001b[0m\u001b[37m━━━━━━━━━━━━━━━━━━\u001b[0m \u001b[1m0s\u001b[0m 12ms/step - accuracy: 0.5469 - loss: 2.5429Epoch 52: Accuracy = 0.5682, Val Accuracy = 0.6667, Loss = 2.5243, Val Loss = 2.4672, Time = 0.06s\n",
      "\u001b[1m9/9\u001b[0m \u001b[32m━━━━━━━━━━━━━━━━━━━━\u001b[0m\u001b[37m\u001b[0m \u001b[1m0s\u001b[0m 6ms/step - accuracy: 0.5724 - loss: 2.5234 - val_accuracy: 0.6667 - val_loss: 2.4672\n",
      "Epoch 53/100\n",
      "\u001b[1m1/9\u001b[0m \u001b[32m━━\u001b[0m\u001b[37m━━━━━━━━━━━━━━━━━━\u001b[0m \u001b[1m0s\u001b[0m 12ms/step - accuracy: 0.5781 - loss: 2.4756Epoch 53: Accuracy = 0.5473, Val Accuracy = 0.6667, Loss = 2.5432, Val Loss = 2.4590, Time = 0.06s\n",
      "\u001b[1m9/9\u001b[0m \u001b[32m━━━━━━━━━━━━━━━━━━━━\u001b[0m\u001b[37m\u001b[0m \u001b[1m0s\u001b[0m 6ms/step - accuracy: 0.5485 - loss: 2.5324 - val_accuracy: 0.6667 - val_loss: 2.4590\n",
      "Epoch 54/100\n",
      "\u001b[1m1/9\u001b[0m \u001b[32m━━\u001b[0m\u001b[37m━━━━━━━━━━━━━━━━━━\u001b[0m \u001b[1m0s\u001b[0m 11ms/step - accuracy: 0.7031 - loss: 2.4453Epoch 54: Accuracy = 0.5758, Val Accuracy = 0.6742, Loss = 2.5150, Val Loss = 2.4504, Time = 0.06s\n",
      "\u001b[1m9/9\u001b[0m \u001b[32m━━━━━━━━━━━━━━━━━━━━\u001b[0m\u001b[37m\u001b[0m \u001b[1m0s\u001b[0m 6ms/step - accuracy: 0.5933 - loss: 2.5071 - val_accuracy: 0.6742 - val_loss: 2.4504\n",
      "Epoch 55/100\n",
      "\u001b[1m1/9\u001b[0m \u001b[32m━━\u001b[0m\u001b[37m━━━━━━━━━━━━━━━━━━\u001b[0m \u001b[1m0s\u001b[0m 12ms/step - accuracy: 0.5625 - loss: 2.5332Epoch 55: Accuracy = 0.6042, Val Accuracy = 0.6742, Loss = 2.5058, Val Loss = 2.4422, Time = 0.06s\n",
      "\u001b[1m9/9\u001b[0m \u001b[32m━━━━━━━━━━━━━━━━━━━━\u001b[0m\u001b[37m\u001b[0m \u001b[1m0s\u001b[0m 5ms/step - accuracy: 0.5890 - loss: 2.5208 - val_accuracy: 0.6742 - val_loss: 2.4422\n",
      "Epoch 56/100\n",
      "\u001b[1m1/9\u001b[0m \u001b[32m━━\u001b[0m\u001b[37m━━━━━━━━━━━━━━━━━━\u001b[0m \u001b[1m0s\u001b[0m 12ms/step - accuracy: 0.5156 - loss: 2.5266Epoch 56: Accuracy = 0.5758, Val Accuracy = 0.6818, Loss = 2.5121, Val Loss = 2.4347, Time = 0.06s\n",
      "\u001b[1m9/9\u001b[0m \u001b[32m━━━━━━━━━━━━━━━━━━━━\u001b[0m\u001b[37m\u001b[0m \u001b[1m0s\u001b[0m 6ms/step - accuracy: 0.5747 - loss: 2.5091 - val_accuracy: 0.6818 - val_loss: 2.4347\n",
      "Epoch 57/100\n",
      "\u001b[1m1/9\u001b[0m \u001b[32m━━\u001b[0m\u001b[37m━━━━━━━━━━━━━━━━━━\u001b[0m \u001b[1m0s\u001b[0m 12ms/step - accuracy: 0.6250 - loss: 2.4949Epoch 57: Accuracy = 0.6193, Val Accuracy = 0.6818, Loss = 2.4836, Val Loss = 2.4267, Time = 0.06s\n",
      "\u001b[1m9/9\u001b[0m \u001b[32m━━━━━━━━━━━━━━━━━━━━\u001b[0m\u001b[37m\u001b[0m \u001b[1m0s\u001b[0m 6ms/step - accuracy: 0.6065 - loss: 2.4902 - val_accuracy: 0.6818 - val_loss: 2.4267\n",
      "Epoch 58/100\n",
      "\u001b[1m1/9\u001b[0m \u001b[32m━━\u001b[0m\u001b[37m━━━━━━━━━━━━━━━━━━\u001b[0m \u001b[1m0s\u001b[0m 13ms/step - accuracy: 0.5156 - loss: 2.4849Epoch 58: Accuracy = 0.5587, Val Accuracy = 0.6894, Loss = 2.5141, Val Loss = 2.4196, Time = 0.06s\n",
      "\u001b[1m9/9\u001b[0m \u001b[32m━━━━━━━━━━━━━━━━━━━━\u001b[0m\u001b[37m\u001b[0m \u001b[1m0s\u001b[0m 5ms/step - accuracy: 0.5694 - loss: 2.4957 - val_accuracy: 0.6894 - val_loss: 2.4196\n",
      "Epoch 59/100\n",
      "\u001b[1m1/9\u001b[0m \u001b[32m━━\u001b[0m\u001b[37m━━━━━━━━━━━━━━━━━━\u001b[0m \u001b[1m0s\u001b[0m 13ms/step - accuracy: 0.5469 - loss: 2.4755Epoch 59: Accuracy = 0.5928, Val Accuracy = 0.6894, Loss = 2.4619, Val Loss = 2.4119, Time = 0.06s\n",
      "\u001b[1m9/9\u001b[0m \u001b[32m━━━━━━━━━━━━━━━━━━━━\u001b[0m\u001b[37m\u001b[0m \u001b[1m0s\u001b[0m 5ms/step - accuracy: 0.5898 - loss: 2.4651 - val_accuracy: 0.6894 - val_loss: 2.4119\n",
      "Epoch 60/100\n",
      "\u001b[1m1/9\u001b[0m \u001b[32m━━\u001b[0m\u001b[37m━━━━━━━━━━━━━━━━━━\u001b[0m \u001b[1m0s\u001b[0m 12ms/step - accuracy: 0.5469 - loss: 2.4935Epoch 60: Accuracy = 0.5473, Val Accuracy = 0.6894, Loss = 2.4899, Val Loss = 2.4042, Time = 0.06s\n",
      "\u001b[1m9/9\u001b[0m \u001b[32m━━━━━━━━━━━━━━━━━━━━\u001b[0m\u001b[37m\u001b[0m \u001b[1m0s\u001b[0m 5ms/step - accuracy: 0.5424 - loss: 2.4998 - val_accuracy: 0.6894 - val_loss: 2.4042\n",
      "Epoch 61/100\n",
      "\u001b[1m1/9\u001b[0m \u001b[32m━━\u001b[0m\u001b[37m━━━━━━━━━━━━━━━━━━\u001b[0m \u001b[1m0s\u001b[0m 14ms/step - accuracy: 0.5000 - loss: 2.5143Epoch 61: Accuracy = 0.5871, Val Accuracy = 0.7121, Loss = 2.4694, Val Loss = 2.3964, Time = 0.06s\n",
      "\u001b[1m9/9\u001b[0m \u001b[32m━━━━━━━━━━━━━━━━━━━━\u001b[0m\u001b[37m\u001b[0m \u001b[1m0s\u001b[0m 6ms/step - accuracy: 0.5726 - loss: 2.4878 - val_accuracy: 0.7121 - val_loss: 2.3964\n",
      "Epoch 62/100\n",
      "\u001b[1m1/9\u001b[0m \u001b[32m━━\u001b[0m\u001b[37m━━━━━━━━━━━━━━━━━━\u001b[0m \u001b[1m0s\u001b[0m 13ms/step - accuracy: 0.6406 - loss: 2.4396Epoch 62: Accuracy = 0.6212, Val Accuracy = 0.7121, Loss = 2.4572, Val Loss = 2.3885, Time = 0.06s\n",
      "\u001b[1m9/9\u001b[0m \u001b[32m━━━━━━━━━━━━━━━━━━━━\u001b[0m\u001b[37m\u001b[0m \u001b[1m0s\u001b[0m 5ms/step - accuracy: 0.6286 - loss: 2.4556 - val_accuracy: 0.7121 - val_loss: 2.3885\n",
      "Epoch 63/100\n",
      "\u001b[1m1/9\u001b[0m \u001b[32m━━\u001b[0m\u001b[37m━━━━━━━━━━━━━━━━━━\u001b[0m \u001b[1m0s\u001b[0m 44ms/step - accuracy: 0.6406 - loss: 2.4483Epoch 63: Accuracy = 0.6326, Val Accuracy = 0.7273, Loss = 2.4254, Val Loss = 2.3809, Time = 0.10s\n",
      "\u001b[1m9/9\u001b[0m \u001b[32m━━━━━━━━━━━━━━━━━━━━\u001b[0m\u001b[37m\u001b[0m \u001b[1m0s\u001b[0m 7ms/step - accuracy: 0.6337 - loss: 2.4344 - val_accuracy: 0.7273 - val_loss: 2.3809\n",
      "Epoch 64/100\n",
      "\u001b[1m1/9\u001b[0m \u001b[32m━━\u001b[0m\u001b[37m━━━━━━━━━━━━━━━━━━\u001b[0m \u001b[1m0s\u001b[0m 12ms/step - accuracy: 0.5469 - loss: 2.5384Epoch 64: Accuracy = 0.6004, Val Accuracy = 0.7273, Loss = 2.4641, Val Loss = 2.3732, Time = 0.06s\n",
      "\u001b[1m9/9\u001b[0m \u001b[32m━━━━━━━━━━━━━━━━━━━━\u001b[0m\u001b[37m\u001b[0m \u001b[1m0s\u001b[0m 6ms/step - accuracy: 0.5932 - loss: 2.4703 - val_accuracy: 0.7273 - val_loss: 2.3732\n",
      "Epoch 65/100\n",
      "\u001b[1m1/9\u001b[0m \u001b[32m━━\u001b[0m\u001b[37m━━━━━━━━━━━━━━━━━━\u001b[0m \u001b[1m0s\u001b[0m 14ms/step - accuracy: 0.6406 - loss: 2.3612Epoch 65: Accuracy = 0.6042, Val Accuracy = 0.7348, Loss = 2.4201, Val Loss = 2.3653, Time = 0.06s\n",
      "\u001b[1m9/9\u001b[0m \u001b[32m━━━━━━━━━━━━━━━━━━━━\u001b[0m\u001b[37m\u001b[0m \u001b[1m0s\u001b[0m 6ms/step - accuracy: 0.5931 - loss: 2.4220 - val_accuracy: 0.7348 - val_loss: 2.3653\n",
      "Epoch 66/100\n",
      "\u001b[1m1/9\u001b[0m \u001b[32m━━\u001b[0m\u001b[37m━━━━━━━━━━━━━━━━━━\u001b[0m \u001b[1m0s\u001b[0m 13ms/step - accuracy: 0.6094 - loss: 2.4027Epoch 66: Accuracy = 0.5568, Val Accuracy = 0.7348, Loss = 2.4354, Val Loss = 2.3572, Time = 0.06s\n",
      "\u001b[1m9/9\u001b[0m \u001b[32m━━━━━━━━━━━━━━━━━━━━\u001b[0m\u001b[37m\u001b[0m \u001b[1m0s\u001b[0m 6ms/step - accuracy: 0.5650 - loss: 2.4324 - val_accuracy: 0.7348 - val_loss: 2.3572\n",
      "Epoch 67/100\n",
      "\u001b[1m1/9\u001b[0m \u001b[32m━━\u001b[0m\u001b[37m━━━━━━━━━━━━━━━━━━\u001b[0m \u001b[1m0s\u001b[0m 13ms/step - accuracy: 0.6406 - loss: 2.4218Epoch 67: Accuracy = 0.5909, Val Accuracy = 0.7348, Loss = 2.4250, Val Loss = 2.3494, Time = 0.06s\n",
      "\u001b[1m9/9\u001b[0m \u001b[32m━━━━━━━━━━━━━━━━━━━━\u001b[0m\u001b[37m\u001b[0m \u001b[1m0s\u001b[0m 6ms/step - accuracy: 0.6105 - loss: 2.4170 - val_accuracy: 0.7348 - val_loss: 2.3494\n",
      "Epoch 68/100\n",
      "\u001b[1m1/9\u001b[0m \u001b[32m━━\u001b[0m\u001b[37m━━━━━━━━━━━━━━━━━━\u001b[0m \u001b[1m0s\u001b[0m 13ms/step - accuracy: 0.7031 - loss: 2.3683Epoch 68: Accuracy = 0.5890, Val Accuracy = 0.7348, Loss = 2.4077, Val Loss = 2.3417, Time = 0.06s\n",
      "\u001b[1m9/9\u001b[0m \u001b[32m━━━━━━━━━━━━━━━━━━━━\u001b[0m\u001b[37m\u001b[0m \u001b[1m0s\u001b[0m 6ms/step - accuracy: 0.6217 - loss: 2.3885 - val_accuracy: 0.7348 - val_loss: 2.3417\n",
      "Epoch 69/100\n",
      "\u001b[1m1/9\u001b[0m \u001b[32m━━\u001b[0m\u001b[37m━━━━━━━━━━━━━━━━━━\u001b[0m \u001b[1m0s\u001b[0m 12ms/step - accuracy: 0.6406 - loss: 2.3643Epoch 69: Accuracy = 0.5985, Val Accuracy = 0.7424, Loss = 2.3950, Val Loss = 2.3343, Time = 0.06s\n",
      "\u001b[1m9/9\u001b[0m \u001b[32m━━━━━━━━━━━━━━━━━━━━\u001b[0m\u001b[37m\u001b[0m \u001b[1m0s\u001b[0m 6ms/step - accuracy: 0.6202 - loss: 2.3763 - val_accuracy: 0.7424 - val_loss: 2.3343\n",
      "Epoch 70/100\n",
      "\u001b[1m1/9\u001b[0m \u001b[32m━━\u001b[0m\u001b[37m━━━━━━━━━━━━━━━━━━\u001b[0m \u001b[1m0s\u001b[0m 13ms/step - accuracy: 0.6094 - loss: 2.4276Epoch 70: Accuracy = 0.6098, Val Accuracy = 0.7500, Loss = 2.4141, Val Loss = 2.3268, Time = 0.06s\n",
      "\u001b[1m9/9\u001b[0m \u001b[32m━━━━━━━━━━━━━━━━━━━━\u001b[0m\u001b[37m\u001b[0m \u001b[1m0s\u001b[0m 6ms/step - accuracy: 0.5923 - loss: 2.4248 - val_accuracy: 0.7500 - val_loss: 2.3268\n",
      "Epoch 71/100\n",
      "\u001b[1m1/9\u001b[0m \u001b[32m━━\u001b[0m\u001b[37m━━━━━━━━━━━━━━━━━━\u001b[0m \u001b[1m0s\u001b[0m 14ms/step - accuracy: 0.6406 - loss: 2.3475Epoch 71: Accuracy = 0.6383, Val Accuracy = 0.7576, Loss = 2.3653, Val Loss = 2.3189, Time = 0.06s\n",
      "\u001b[1m9/9\u001b[0m \u001b[32m━━━━━━━━━━━━━━━━━━━━\u001b[0m\u001b[37m\u001b[0m \u001b[1m0s\u001b[0m 6ms/step - accuracy: 0.6452 - loss: 2.3636 - val_accuracy: 0.7576 - val_loss: 2.3189\n",
      "Epoch 72/100\n",
      "\u001b[1m1/9\u001b[0m \u001b[32m━━\u001b[0m\u001b[37m━━━━━━━━━━━━━━━━━━\u001b[0m \u001b[1m0s\u001b[0m 13ms/step - accuracy: 0.7656 - loss: 2.2468Epoch 72: Accuracy = 0.6534, Val Accuracy = 0.7652, Loss = 2.3387, Val Loss = 2.3110, Time = 0.06s\n",
      "\u001b[1m9/9\u001b[0m \u001b[32m━━━━━━━━━━━━━━━━━━━━\u001b[0m\u001b[37m\u001b[0m \u001b[1m0s\u001b[0m 5ms/step - accuracy: 0.6789 - loss: 2.3148 - val_accuracy: 0.7652 - val_loss: 2.3110\n",
      "Epoch 73/100\n",
      "\u001b[1m1/9\u001b[0m \u001b[32m━━\u001b[0m\u001b[37m━━━━━━━━━━━━━━━━━━\u001b[0m \u001b[1m0s\u001b[0m 11ms/step - accuracy: 0.6562 - loss: 2.4464Epoch 73: Accuracy = 0.6193, Val Accuracy = 0.7727, Loss = 2.3809, Val Loss = 2.3032, Time = 0.06s\n",
      "\u001b[1m9/9\u001b[0m \u001b[32m━━━━━━━━━━━━━━━━━━━━\u001b[0m\u001b[37m\u001b[0m \u001b[1m0s\u001b[0m 6ms/step - accuracy: 0.6263 - loss: 2.3883 - val_accuracy: 0.7727 - val_loss: 2.3032\n",
      "Epoch 74/100\n",
      "\u001b[1m1/9\u001b[0m \u001b[32m━━\u001b[0m\u001b[37m━━━━━━━━━━━━━━━━━━\u001b[0m \u001b[1m0s\u001b[0m 13ms/step - accuracy: 0.7188 - loss: 2.3338Epoch 74: Accuracy = 0.6420, Val Accuracy = 0.7803, Loss = 2.3665, Val Loss = 2.2955, Time = 0.06s\n",
      "\u001b[1m9/9\u001b[0m \u001b[32m━━━━━━━━━━━━━━━━━━━━\u001b[0m\u001b[37m\u001b[0m \u001b[1m0s\u001b[0m 6ms/step - accuracy: 0.6573 - loss: 2.3543 - val_accuracy: 0.7803 - val_loss: 2.2955\n",
      "Epoch 75/100\n",
      "\u001b[1m1/9\u001b[0m \u001b[32m━━\u001b[0m\u001b[37m━━━━━━━━━━━━━━━━━━\u001b[0m \u001b[1m0s\u001b[0m 12ms/step - accuracy: 0.5312 - loss: 2.3786Epoch 75: Accuracy = 0.6023, Val Accuracy = 0.7803, Loss = 2.3709, Val Loss = 2.2877, Time = 0.06s\n",
      "\u001b[1m9/9\u001b[0m \u001b[32m━━━━━━━━━━━━━━━━━━━━\u001b[0m\u001b[37m\u001b[0m \u001b[1m0s\u001b[0m 6ms/step - accuracy: 0.5854 - loss: 2.3716 - val_accuracy: 0.7803 - val_loss: 2.2877\n",
      "Epoch 76/100\n",
      "\u001b[1m1/9\u001b[0m \u001b[32m━━\u001b[0m\u001b[37m━━━━━━━━━━━━━━━━━━\u001b[0m \u001b[1m0s\u001b[0m 13ms/step - accuracy: 0.6875 - loss: 2.3034Epoch 76: Accuracy = 0.6496, Val Accuracy = 0.7803, Loss = 2.3402, Val Loss = 2.2800, Time = 0.06s\n",
      "\u001b[1m9/9\u001b[0m \u001b[32m━━━━━━━━━━━━━━━━━━━━\u001b[0m\u001b[37m\u001b[0m \u001b[1m0s\u001b[0m 6ms/step - accuracy: 0.6545 - loss: 2.3442 - val_accuracy: 0.7803 - val_loss: 2.2800\n",
      "Epoch 77/100\n",
      "\u001b[1m1/9\u001b[0m \u001b[32m━━\u001b[0m\u001b[37m━━━━━━━━━━━━━━━━━━\u001b[0m \u001b[1m0s\u001b[0m 13ms/step - accuracy: 0.5938 - loss: 2.3017Epoch 77: Accuracy = 0.6345, Val Accuracy = 0.7803, Loss = 2.3280, Val Loss = 2.2719, Time = 0.06s\n",
      "\u001b[1m9/9\u001b[0m \u001b[32m━━━━━━━━━━━━━━━━━━━━\u001b[0m\u001b[37m\u001b[0m \u001b[1m0s\u001b[0m 5ms/step - accuracy: 0.6342 - loss: 2.3199 - val_accuracy: 0.7803 - val_loss: 2.2719\n",
      "Epoch 78/100\n",
      "\u001b[1m1/9\u001b[0m \u001b[32m━━\u001b[0m\u001b[37m━━━━━━━━━━━━━━━━━━\u001b[0m \u001b[1m0s\u001b[0m 12ms/step - accuracy: 0.6406 - loss: 2.2737Epoch 78: Accuracy = 0.6515, Val Accuracy = 0.7803, Loss = 2.2832, Val Loss = 2.2633, Time = 0.06s\n",
      "\u001b[1m9/9\u001b[0m \u001b[32m━━━━━━━━━━━━━━━━━━━━\u001b[0m\u001b[37m\u001b[0m \u001b[1m0s\u001b[0m 6ms/step - accuracy: 0.6424 - loss: 2.2935 - val_accuracy: 0.7803 - val_loss: 2.2633\n",
      "Epoch 79/100\n",
      "\u001b[1m1/9\u001b[0m \u001b[32m━━\u001b[0m\u001b[37m━━━━━━━━━━━━━━━━━━\u001b[0m \u001b[1m0s\u001b[0m 12ms/step - accuracy: 0.5781 - loss: 2.3534Epoch 79: Accuracy = 0.6080, Val Accuracy = 0.7803, Loss = 2.3344, Val Loss = 2.2546, Time = 0.06s\n",
      "\u001b[1m9/9\u001b[0m \u001b[32m━━━━━━━━━━━━━━━━━━━━\u001b[0m\u001b[37m\u001b[0m \u001b[1m0s\u001b[0m 6ms/step - accuracy: 0.6087 - loss: 2.3414 - val_accuracy: 0.7803 - val_loss: 2.2546\n",
      "Epoch 80/100\n",
      "\u001b[1m1/9\u001b[0m \u001b[32m━━\u001b[0m\u001b[37m━━━━━━━━━━━━━━━━━━\u001b[0m \u001b[1m0s\u001b[0m 12ms/step - accuracy: 0.6094 - loss: 2.4205Epoch 80: Accuracy = 0.6080, Val Accuracy = 0.7879, Loss = 2.3400, Val Loss = 2.2467, Time = 0.06s\n",
      "\u001b[1m9/9\u001b[0m \u001b[32m━━━━━━━━━━━━━━━━━━━━\u001b[0m\u001b[37m\u001b[0m \u001b[1m0s\u001b[0m 6ms/step - accuracy: 0.6189 - loss: 2.3461 - val_accuracy: 0.7879 - val_loss: 2.2467\n",
      "Epoch 81/100\n",
      "\u001b[1m1/9\u001b[0m \u001b[32m━━\u001b[0m\u001b[37m━━━━━━━━━━━━━━━━━━\u001b[0m \u001b[1m0s\u001b[0m 15ms/step - accuracy: 0.7188 - loss: 2.2652Epoch 81: Accuracy = 0.6439, Val Accuracy = 0.7879, Loss = 2.2738, Val Loss = 2.2385, Time = 0.06s\n",
      "\u001b[1m9/9\u001b[0m \u001b[32m━━━━━━━━━━━━━━━━━━━━\u001b[0m\u001b[37m\u001b[0m \u001b[1m0s\u001b[0m 6ms/step - accuracy: 0.6595 - loss: 2.2672 - val_accuracy: 0.7879 - val_loss: 2.2385\n",
      "Epoch 82/100\n",
      "\u001b[1m1/9\u001b[0m \u001b[32m━━\u001b[0m\u001b[37m━━━━━━━━━━━━━━━━━━\u001b[0m \u001b[1m0s\u001b[0m 12ms/step - accuracy: 0.6406 - loss: 2.2884Epoch 82: Accuracy = 0.6307, Val Accuracy = 0.7879, Loss = 2.2925, Val Loss = 2.2305, Time = 0.06s\n",
      "\u001b[1m9/9\u001b[0m \u001b[32m━━━━━━━━━━━━━━━━━━━━\u001b[0m\u001b[37m\u001b[0m \u001b[1m0s\u001b[0m 6ms/step - accuracy: 0.6325 - loss: 2.2961 - val_accuracy: 0.7879 - val_loss: 2.2305\n",
      "Epoch 83/100\n",
      "\u001b[1m1/9\u001b[0m \u001b[32m━━\u001b[0m\u001b[37m━━━━━━━━━━━━━━━━━━\u001b[0m \u001b[1m0s\u001b[0m 13ms/step - accuracy: 0.6406 - loss: 2.2903Epoch 83: Accuracy = 0.6307, Val Accuracy = 0.7879, Loss = 2.2980, Val Loss = 2.2222, Time = 0.06s\n",
      "\u001b[1m9/9\u001b[0m \u001b[32m━━━━━━━━━━━━━━━━━━━━\u001b[0m\u001b[37m\u001b[0m \u001b[1m0s\u001b[0m 6ms/step - accuracy: 0.6312 - loss: 2.2961 - val_accuracy: 0.7879 - val_loss: 2.2222\n",
      "Epoch 84/100\n",
      "\u001b[1m1/9\u001b[0m \u001b[32m━━\u001b[0m\u001b[37m━━━━━━━━━━━━━━━━━━\u001b[0m \u001b[1m0s\u001b[0m 12ms/step - accuracy: 0.6250 - loss: 2.3003Epoch 84: Accuracy = 0.6723, Val Accuracy = 0.7879, Loss = 2.2529, Val Loss = 2.2143, Time = 0.06s\n",
      "\u001b[1m9/9\u001b[0m \u001b[32m━━━━━━━━━━━━━━━━━━━━\u001b[0m\u001b[37m\u001b[0m \u001b[1m0s\u001b[0m 6ms/step - accuracy: 0.6625 - loss: 2.2694 - val_accuracy: 0.7879 - val_loss: 2.2143\n",
      "Epoch 85/100\n",
      "\u001b[1m1/9\u001b[0m \u001b[32m━━\u001b[0m\u001b[37m━━━━━━━━━━━━━━━━━━\u001b[0m \u001b[1m0s\u001b[0m 13ms/step - accuracy: 0.6406 - loss: 2.2946Epoch 85: Accuracy = 0.6155, Val Accuracy = 0.7955, Loss = 2.2973, Val Loss = 2.2058, Time = 0.06s\n",
      "\u001b[1m9/9\u001b[0m \u001b[32m━━━━━━━━━━━━━━━━━━━━\u001b[0m\u001b[37m\u001b[0m \u001b[1m0s\u001b[0m 5ms/step - accuracy: 0.6179 - loss: 2.2924 - val_accuracy: 0.7955 - val_loss: 2.2058\n",
      "Epoch 86/100\n",
      "\u001b[1m1/9\u001b[0m \u001b[32m━━\u001b[0m\u001b[37m━━━━━━━━━━━━━━━━━━\u001b[0m \u001b[1m0s\u001b[0m 12ms/step - accuracy: 0.6406 - loss: 2.2707Epoch 86: Accuracy = 0.6705, Val Accuracy = 0.8030, Loss = 2.2424, Val Loss = 2.1970, Time = 0.06s\n",
      "\u001b[1m9/9\u001b[0m \u001b[32m━━━━━━━━━━━━━━━━━━━━\u001b[0m\u001b[37m\u001b[0m \u001b[1m0s\u001b[0m 6ms/step - accuracy: 0.6677 - loss: 2.2531 - val_accuracy: 0.8030 - val_loss: 2.1970\n",
      "Epoch 87/100\n",
      "\u001b[1m1/9\u001b[0m \u001b[32m━━\u001b[0m\u001b[37m━━━━━━━━━━━━━━━━━━\u001b[0m \u001b[1m0s\u001b[0m 14ms/step - accuracy: 0.7188 - loss: 2.2092Epoch 87: Accuracy = 0.6837, Val Accuracy = 0.8030, Loss = 2.2420, Val Loss = 2.1886, Time = 0.06s\n",
      "\u001b[1m9/9\u001b[0m \u001b[32m━━━━━━━━━━━━━━━━━━━━\u001b[0m\u001b[37m\u001b[0m \u001b[1m0s\u001b[0m 5ms/step - accuracy: 0.7005 - loss: 2.2428 - val_accuracy: 0.8030 - val_loss: 2.1886\n",
      "Epoch 88/100\n",
      "\u001b[1m1/9\u001b[0m \u001b[32m━━\u001b[0m\u001b[37m━━━━━━━━━━━━━━━━━━\u001b[0m \u001b[1m0s\u001b[0m 12ms/step - accuracy: 0.6875 - loss: 2.2511Epoch 88: Accuracy = 0.6761, Val Accuracy = 0.7955, Loss = 2.2376, Val Loss = 2.1804, Time = 0.06s\n",
      "\u001b[1m9/9\u001b[0m \u001b[32m━━━━━━━━━━━━━━━━━━━━\u001b[0m\u001b[37m\u001b[0m \u001b[1m0s\u001b[0m 5ms/step - accuracy: 0.6733 - loss: 2.2474 - val_accuracy: 0.7955 - val_loss: 2.1804\n",
      "Epoch 89/100\n",
      "\u001b[1m1/9\u001b[0m \u001b[32m━━\u001b[0m\u001b[37m━━━━━━━━━━━━━━━━━━\u001b[0m \u001b[1m0s\u001b[0m 13ms/step - accuracy: 0.6875 - loss: 2.2204Epoch 89: Accuracy = 0.6326, Val Accuracy = 0.8030, Loss = 2.2503, Val Loss = 2.1716, Time = 0.06s\n",
      "\u001b[1m9/9\u001b[0m \u001b[32m━━━━━━━━━━━━━━━━━━━━\u001b[0m\u001b[37m\u001b[0m \u001b[1m0s\u001b[0m 5ms/step - accuracy: 0.6307 - loss: 2.2507 - val_accuracy: 0.8030 - val_loss: 2.1716\n",
      "Epoch 90/100\n",
      "\u001b[1m1/9\u001b[0m \u001b[32m━━\u001b[0m\u001b[37m━━━━━━━━━━━━━━━━━━\u001b[0m \u001b[1m0s\u001b[0m 11ms/step - accuracy: 0.7188 - loss: 2.2173Epoch 90: Accuracy = 0.6875, Val Accuracy = 0.8030, Loss = 2.2241, Val Loss = 2.1629, Time = 0.06s\n",
      "\u001b[1m9/9\u001b[0m \u001b[32m━━━━━━━━━━━━━━━━━━━━\u001b[0m\u001b[37m\u001b[0m \u001b[1m0s\u001b[0m 6ms/step - accuracy: 0.6903 - loss: 2.2300 - val_accuracy: 0.8030 - val_loss: 2.1629\n",
      "Epoch 91/100\n",
      "\u001b[1m1/9\u001b[0m \u001b[32m━━\u001b[0m\u001b[37m━━━━━━━━━━━━━━━━━━\u001b[0m \u001b[1m0s\u001b[0m 12ms/step - accuracy: 0.6250 - loss: 2.2461Epoch 91: Accuracy = 0.6572, Val Accuracy = 0.8030, Loss = 2.2344, Val Loss = 2.1544, Time = 0.06s\n",
      "\u001b[1m9/9\u001b[0m \u001b[32m━━━━━━━━━━━━━━━━━━━━\u001b[0m\u001b[37m\u001b[0m \u001b[1m0s\u001b[0m 6ms/step - accuracy: 0.6317 - loss: 2.2478 - val_accuracy: 0.8030 - val_loss: 2.1544\n",
      "Epoch 92/100\n",
      "\u001b[1m1/9\u001b[0m \u001b[32m━━\u001b[0m\u001b[37m━━━━━━━━━━━━━━━━━━\u001b[0m \u001b[1m0s\u001b[0m 12ms/step - accuracy: 0.6719 - loss: 2.2055Epoch 92: Accuracy = 0.6686, Val Accuracy = 0.8030, Loss = 2.2104, Val Loss = 2.1452, Time = 0.06s\n",
      "\u001b[1m9/9\u001b[0m \u001b[32m━━━━━━━━━━━━━━━━━━━━\u001b[0m\u001b[37m\u001b[0m \u001b[1m0s\u001b[0m 6ms/step - accuracy: 0.6817 - loss: 2.1988 - val_accuracy: 0.8030 - val_loss: 2.1452\n",
      "Epoch 93/100\n",
      "\u001b[1m1/9\u001b[0m \u001b[32m━━\u001b[0m\u001b[37m━━━━━━━━━━━━━━━━━━\u001b[0m \u001b[1m0s\u001b[0m 16ms/step - accuracy: 0.7500 - loss: 2.1813Epoch 93: Accuracy = 0.6913, Val Accuracy = 0.8030, Loss = 2.1894, Val Loss = 2.1365, Time = 0.06s\n",
      "\u001b[1m9/9\u001b[0m \u001b[32m━━━━━━━━━━━━━━━━━━━━\u001b[0m\u001b[37m\u001b[0m \u001b[1m0s\u001b[0m 6ms/step - accuracy: 0.7015 - loss: 2.1971 - val_accuracy: 0.8030 - val_loss: 2.1365\n",
      "Epoch 94/100\n",
      "\u001b[1m9/9\u001b[0m \u001b[32m━━━━━━━━━━━━━━━━━━━━\u001b[0m\u001b[37m\u001b[0m \u001b[1m0s\u001b[0m 6ms/step - accuracy: 0.6605 - loss: 2.2054 Epoch 94: Accuracy = 0.6761, Val Accuracy = 0.8182, Loss = 2.1882, Val Loss = 2.1277, Time = 0.10s\n",
      "\u001b[1m9/9\u001b[0m \u001b[32m━━━━━━━━━━━━━━━━━━━━\u001b[0m\u001b[37m\u001b[0m \u001b[1m0s\u001b[0m 11ms/step - accuracy: 0.6620 - loss: 2.2036 - val_accuracy: 0.8182 - val_loss: 2.1277\n",
      "Epoch 95/100\n",
      "\u001b[1m1/9\u001b[0m \u001b[32m━━\u001b[0m\u001b[37m━━━━━━━━━━━━━━━━━━\u001b[0m \u001b[1m0s\u001b[0m 12ms/step - accuracy: 0.7344 - loss: 2.1852Epoch 95: Accuracy = 0.6875, Val Accuracy = 0.8182, Loss = 2.1855, Val Loss = 2.1177, Time = 0.06s\n",
      "\u001b[1m9/9\u001b[0m \u001b[32m━━━━━━━━━━━━━━━━━━━━\u001b[0m\u001b[37m\u001b[0m \u001b[1m0s\u001b[0m 6ms/step - accuracy: 0.7052 - loss: 2.1786 - val_accuracy: 0.8182 - val_loss: 2.1177\n",
      "Epoch 96/100\n",
      "\u001b[1m1/9\u001b[0m \u001b[32m━━\u001b[0m\u001b[37m━━━━━━━━━━━━━━━━━━\u001b[0m \u001b[1m0s\u001b[0m 12ms/step - accuracy: 0.6094 - loss: 2.2565Epoch 96: Accuracy = 0.6780, Val Accuracy = 0.8258, Loss = 2.2027, Val Loss = 2.1078, Time = 0.06s\n",
      "\u001b[1m9/9\u001b[0m \u001b[32m━━━━━━━━━━━━━━━━━━━━\u001b[0m\u001b[37m\u001b[0m \u001b[1m0s\u001b[0m 6ms/step - accuracy: 0.6649 - loss: 2.2062 - val_accuracy: 0.8258 - val_loss: 2.1078\n",
      "Epoch 97/100\n",
      "\u001b[1m1/9\u001b[0m \u001b[32m━━\u001b[0m\u001b[37m━━━━━━━━━━━━━━━━━━\u001b[0m \u001b[1m0s\u001b[0m 12ms/step - accuracy: 0.7031 - loss: 2.1133Epoch 97: Accuracy = 0.6629, Val Accuracy = 0.8258, Loss = 2.1875, Val Loss = 2.0987, Time = 0.05s\n",
      "\u001b[1m9/9\u001b[0m \u001b[32m━━━━━━━━━━━━━━━━━━━━\u001b[0m\u001b[37m\u001b[0m \u001b[1m0s\u001b[0m 5ms/step - accuracy: 0.6825 - loss: 2.1653 - val_accuracy: 0.8258 - val_loss: 2.0987\n",
      "Epoch 98/100\n",
      "\u001b[1m1/9\u001b[0m \u001b[32m━━\u001b[0m\u001b[37m━━━━━━━━━━━━━━━━━━\u001b[0m \u001b[1m0s\u001b[0m 12ms/step - accuracy: 0.7500 - loss: 2.1362Epoch 98: Accuracy = 0.7424, Val Accuracy = 0.8333, Loss = 2.1123, Val Loss = 2.0898, Time = 0.05s\n",
      "\u001b[1m9/9\u001b[0m \u001b[32m━━━━━━━━━━━━━━━━━━━━\u001b[0m\u001b[37m\u001b[0m \u001b[1m0s\u001b[0m 5ms/step - accuracy: 0.7332 - loss: 2.1221 - val_accuracy: 0.8333 - val_loss: 2.0898\n",
      "Epoch 99/100\n",
      "\u001b[1m1/9\u001b[0m \u001b[32m━━\u001b[0m\u001b[37m━━━━━━━━━━━━━━━━━━\u001b[0m \u001b[1m0s\u001b[0m 11ms/step - accuracy: 0.6562 - loss: 2.1729Epoch 99: Accuracy = 0.6780, Val Accuracy = 0.8333, Loss = 2.1582, Val Loss = 2.0807, Time = 0.06s\n",
      "\u001b[1m9/9\u001b[0m \u001b[32m━━━━━━━━━━━━━━━━━━━━\u001b[0m\u001b[37m\u001b[0m \u001b[1m0s\u001b[0m 6ms/step - accuracy: 0.6709 - loss: 2.1651 - val_accuracy: 0.8333 - val_loss: 2.0807\n",
      "Epoch 100/100\n",
      "\u001b[1m1/9\u001b[0m \u001b[32m━━\u001b[0m\u001b[37m━━━━━━━━━━━━━━━━━━\u001b[0m \u001b[1m0s\u001b[0m 13ms/step - accuracy: 0.6719 - loss: 2.1682Epoch 100: Accuracy = 0.7027, Val Accuracy = 0.8333, Loss = 2.1490, Val Loss = 2.0717, Time = 0.06s\n",
      "\u001b[1m9/9\u001b[0m \u001b[32m━━━━━━━━━━━━━━━━━━━━\u001b[0m\u001b[37m\u001b[0m \u001b[1m0s\u001b[0m 6ms/step - accuracy: 0.6870 - loss: 2.1567 - val_accuracy: 0.8333 - val_loss: 2.0717\n"
     ]
    },
    {
     "data": {
      "image/png": "[encoded data removed]",
      "text/plain": [
       "<Figure size 640x480 with 1 Axes>"
      ]
     },
     "metadata": {},
     "output_type": "display_data"
    }
   ],
   "source": [
    "import numpy as np\n",
    "import pandas as pd\n",
    "import tensorflow as tf\n",
    "from tensorflow.keras.layers import Input, Dense, Concatenate, Dropout, BatchNormalization\n",
    "from tensorflow.keras.models import Model\n",
    "from tensorflow.keras.optimizers import Adam\n",
    "from tensorflow.keras.callbacks import EarlyStopping\n",
    "from tensorflow.keras.regularizers import l2\n",
    "from tensorflow.keras.utils import plot_model\n",
    "import matplotlib.pyplot as plt\n",
    "import time\n",
    "from sklearn.preprocessing import StandardScaler\n",
    "from sklearn.utils import resample\n",
    "from sklearn.model_selection import train_test_split\n",
    "from imblearn.over_sampling import SMOTE\n",
    "\n",
    "\n",
    "# Drop non-numeric columns\n",
    "African = African.select_dtypes(include=[np.number])\n",
    "Bangladesh = Bangladesh.select_dtypes(include=[np.number])\n",
    "Iraq = Iraq.select_dtypes(include=[np.number])\n",
    "inter_genetic = inter_genetic.select_dtypes(include=[np.number])\n",
    "normal_genetic = normal_genetic.select_dtypes(include=[np.number])\n",
    "\n",
    "# Detect the target column dynamically\n",
    "target_col = [col for col in African.columns if 't2d' in col.lower()]\n",
    "if target_col:\n",
    "    target_col = target_col[0]\n",
    "else:\n",
    "    raise ValueError(\"Target column 'T2D' not found in dataset!\")\n",
    "\n",
    "# Extract features and labels\n",
    "X_African, y = African.drop(columns=[target_col]), African[target_col]\n",
    "X_Bangladesh = Bangladesh.drop(columns=[target_col])\n",
    "X_Iraq = Iraq.drop(columns=[target_col])\n",
    "X_inter_genetic = inter_genetic.drop(columns=[target_col])\n",
    "X_normal_genetic = normal_genetic.drop(columns=[target_col])\n",
    "\n",
    "# Standardize features\n",
    "scaler = StandardScaler()\n",
    "X_African_scaled = scaler.fit_transform(X_African)\n",
    "X_Bangladesh_scaled = scaler.fit_transform(X_Bangladesh)\n",
    "X_Iraq_scaled = scaler.fit_transform(X_Iraq)\n",
    "X_inter_genetic_scaled = scaler.fit_transform(X_inter_genetic)\n",
    "X_normal_genetic_scaled = scaler.fit_transform(X_normal_genetic)\n",
    "\n",
    "# Apply SMOTE to handle class imbalance\n",
    "smote = SMOTE(random_state=42)\n",
    "X_African_scaled, y = smote.fit_resample(X_African_scaled, y)\n",
    "\n",
    "# Ensure all datasets have the same number of samples\n",
    "def upsample_to_target(X, target_size):\n",
    "    return resample(X, replace=True, n_samples=target_size, random_state=42)\n",
    "\n",
    "target_size = len(y)  # Use the size of y_train as the reference\n",
    "X_Bangladesh_scaled = upsample_to_target(X_Bangladesh_scaled, target_size)\n",
    "X_Iraq_scaled = upsample_to_target(X_Iraq_scaled, target_size)\n",
    "X_inter_genetic_scaled = upsample_to_target(X_inter_genetic_scaled, target_size)\n",
    "X_normal_genetic_scaled = upsample_to_target(X_normal_genetic_scaled, target_size)\n",
    "\n",
    "# Split data into train/test sets\n",
    "X_train_African, X_test_African, y_train, y_test = train_test_split(X_African_scaled, y, test_size=0.2, random_state=42)\n",
    "X_train_Bangladesh, X_test_Bangladesh = train_test_split(X_Bangladesh_scaled, test_size=0.2, random_state=42)\n",
    "X_train_Iraq, X_test_Iraq = train_test_split(X_Iraq_scaled, test_size=0.2, random_state=42)\n",
    "X_train_inter_genetic, X_test_inter_genetic = train_test_split(X_inter_genetic_scaled, test_size=0.2, random_state=42)\n",
    "X_train_normal_genetic, X_test_normal_genetic = train_test_split(X_normal_genetic_scaled, test_size=0.2, random_state=42)\n",
    "\n",
    "# Get feature dimensions\n",
    "African_dim = X_train_African.shape[1]\n",
    "Bangladesh_dim = X_train_Bangladesh.shape[1]\n",
    "Iraq_dim = X_train_Iraq.shape[1]\n",
    "inter_genetic_dim = X_train_inter_genetic.shape[1]\n",
    "normal_genetic_dim = X_train_normal_genetic.shape[1]\n",
    "\n",
    "# Define Neural Networks with Stronger Regularization\n",
    "def build_branch(input_dim):\n",
    "    input_layer = Input(shape=(input_dim,))\n",
    "    x = Dense(32, activation='relu', kernel_regularizer=l2(0.01))(input_layer)\n",
    "    x = BatchNormalization()(x)\n",
    "    x = Dense(16, activation='relu', kernel_regularizer=l2(0.01))(x)\n",
    "    return input_layer, x\n",
    "\n",
    "# Build Branches\n",
    "African_input, x1 = build_branch(African_dim)\n",
    "Bangladesh_input, x2 = build_branch(Bangladesh_dim)\n",
    "Iraq_input, x3 = build_branch(Iraq_dim)\n",
    "inter_genetic_input, x4 = build_branch(inter_genetic_dim)\n",
    "normal_genetic_input, x5 = build_branch(normal_genetic_dim)\n",
    "\n",
    "# Fusion Layer\n",
    "merged = Concatenate()([x1, x2, x3, x4, x5])\n",
    "x = Dense(64, activation='relu')(merged)\n",
    "x = Dropout(0.6)(x)\n",
    "x = Dense(32, activation='relu')(x)\n",
    "x = Dropout(0.6)(x)\n",
    "output = Dense(1, activation='sigmoid')(x)\n",
    "\n",
    "# Build & Compile Model\n",
    "model = Model(inputs=[African_input, Bangladesh_input, Iraq_input, inter_genetic_input, normal_genetic_input], outputs=output)\n",
    "model.compile(optimizer=Adam(learning_rate=0.0001, clipnorm=1.0), loss='binary_crossentropy', metrics=['accuracy'])\n",
    "\n",
    "# Save model visualization\n",
    "plot_model(model, to_file=\"model_structure.png\", show_shapes=True, show_layer_names=True)\n",
    "\n",
    "# Custom Training Logger\n",
    "class CustomTrainingLogger(tf.keras.callbacks.Callback):\n",
    "    def on_epoch_begin(self, epoch, logs=None):\n",
    "        self.epoch_start_time = time.time()\n",
    "\n",
    "    def on_epoch_end(self, epoch, logs=None):\n",
    "        epoch_time = time.time() - self.epoch_start_time\n",
    "        print(f\"Epoch {epoch+1}: Accuracy = {logs['accuracy']:.4f}, \"\n",
    "              f\"Val Accuracy = {logs['val_accuracy']:.4f}, \"\n",
    "              f\"Loss = {logs['loss']:.4f}, Val Loss = {logs['val_loss']:.4f}, \"\n",
    "              f\"Time = {epoch_time:.2f}s\")\n",
    "\n",
    "callbacks = [EarlyStopping(monitor='val_loss', patience=10, restore_best_weights=True), CustomTrainingLogger()]\n",
    "\n",
    "# Train Model\n",
    "history = model.fit(\n",
    "    [X_train_African, X_train_Bangladesh, X_train_Iraq, X_train_inter_genetic, X_train_normal_genetic], y_train,\n",
    "    validation_data=([X_test_African, X_test_Bangladesh, X_test_Iraq, X_test_inter_genetic, X_test_normal_genetic], y_test),\n",
    "    epochs=100, batch_size=64, callbacks=callbacks)\n",
    "\n",
    "# Plot Training Curves\n",
    "plt.plot(history.history['accuracy'], label=\"Training Accuracy\")\n",
    "plt.plot(history.history['val_accuracy'], label=\"Validation Accuracy\")\n",
    "plt.legend()\n",
    "plt.show()\n"
   ]
  },
  {
   "cell_type": "code",
   "execution_count": 111,
   "metadata": {},
   "outputs": [
    {
     "name": "stdout",
     "output_type": "stream",
     "text": [
      "\u001b[1m5/5\u001b[0m \u001b[32m━━━━━━━━━━━━━━━━━━━━\u001b[0m\u001b[37m\u001b[0m \u001b[1m0s\u001b[0m 21ms/step\n",
      "\n",
      "==================== African ====================\n",
      "Confusion Matrix:\n",
      "[[58 16]\n",
      " [ 6 52]]\n",
      "\n",
      "Accuracy: 0.83\n",
      "\n",
      "Classification Report:\n",
      "              precision    recall  f1-score   support\n",
      "\n",
      "           0       0.91      0.78      0.84        74\n",
      "           1       0.76      0.90      0.83        58\n",
      "\n",
      "    accuracy                           0.83       132\n",
      "   macro avg       0.84      0.84      0.83       132\n",
      "weighted avg       0.84      0.83      0.83       132\n",
      "\n",
      "============================================================\n",
      "\n",
      "==================== Bangladesh ====================\n",
      "Confusion Matrix:\n",
      "[[58 16]\n",
      " [ 6 52]]\n",
      "\n",
      "Accuracy: 0.83\n",
      "\n",
      "Classification Report:\n",
      "              precision    recall  f1-score   support\n",
      "\n",
      "           0       0.91      0.78      0.84        74\n",
      "           1       0.76      0.90      0.83        58\n",
      "\n",
      "    accuracy                           0.83       132\n",
      "   macro avg       0.84      0.84      0.83       132\n",
      "weighted avg       0.84      0.83      0.83       132\n",
      "\n",
      "============================================================\n",
      "\n",
      "==================== Iraq ====================\n",
      "Confusion Matrix:\n",
      "[[58 16]\n",
      " [ 6 52]]\n",
      "\n",
      "Accuracy: 0.83\n",
      "\n",
      "Classification Report:\n",
      "              precision    recall  f1-score   support\n",
      "\n",
      "           0       0.91      0.78      0.84        74\n",
      "           1       0.76      0.90      0.83        58\n",
      "\n",
      "    accuracy                           0.83       132\n",
      "   macro avg       0.84      0.84      0.83       132\n",
      "weighted avg       0.84      0.83      0.83       132\n",
      "\n",
      "============================================================\n",
      "\n",
      "==================== Inter_Genetic ====================\n",
      "Confusion Matrix:\n",
      "[[58 16]\n",
      " [ 6 52]]\n",
      "\n",
      "Accuracy: 0.83\n",
      "\n",
      "Classification Report:\n",
      "              precision    recall  f1-score   support\n",
      "\n",
      "           0       0.91      0.78      0.84        74\n",
      "           1       0.76      0.90      0.83        58\n",
      "\n",
      "    accuracy                           0.83       132\n",
      "   macro avg       0.84      0.84      0.83       132\n",
      "weighted avg       0.84      0.83      0.83       132\n",
      "\n",
      "============================================================\n",
      "\n",
      "==================== Normal_Genetic ====================\n",
      "Confusion Matrix:\n",
      "[[58 16]\n",
      " [ 6 52]]\n",
      "\n",
      "Accuracy: 0.83\n",
      "\n",
      "Classification Report:\n",
      "              precision    recall  f1-score   support\n",
      "\n",
      "           0       0.91      0.78      0.84        74\n",
      "           1       0.76      0.90      0.83        58\n",
      "\n",
      "    accuracy                           0.83       132\n",
      "   macro avg       0.84      0.84      0.83       132\n",
      "weighted avg       0.84      0.83      0.83       132\n",
      "\n",
      "============================================================\n"
     ]
    }
   ],
   "source": [
    "from sklearn.metrics import accuracy_score, classification_report, confusion_matrix\n",
    "\n",
    "# Dictionary to store evaluation metrics\n",
    "evaluation_results = {}\n",
    "\n",
    "# Prepare test datasets for evaluation\n",
    "test_data = {\n",
    "    \"African\": X_test_African,\n",
    "    \"Bangladesh\": X_test_Bangladesh,\n",
    "    \"Iraq\": X_test_Iraq,\n",
    "    \"Inter_Genetic\": X_test_inter_genetic,\n",
    "    \"Normal_Genetic\": X_test_normal_genetic\n",
    "}\n",
    "\n",
    "# Predict on test datasets\n",
    "y_pred = model.predict([X_test_African, X_test_Bangladesh, X_test_Iraq, X_test_inter_genetic, X_test_normal_genetic])\n",
    "y_pred = (y_pred > 0.5).astype(int)  # Convert probabilities to binary predictions\n",
    "\n",
    "# Compute confusion matrix, accuracy, and classification report for the \"African\" dataset\n",
    "for dataset_name, X_test in test_data.items():\n",
    "    # Compute confusion matrix\n",
    "    cm = confusion_matrix(y_test, y_pred)\n",
    "\n",
    "    # Compute accuracy\n",
    "    accuracy = accuracy_score(y_test, y_pred)\n",
    "\n",
    "    # Compute classification report\n",
    "    class_report = classification_report(y_test, y_pred, digits=2)\n",
    "\n",
    "    # Store results\n",
    "    evaluation_results[dataset_name] = {\n",
    "        \"Confusion Matrix\": cm,\n",
    "        \"Accuracy\": accuracy,\n",
    "        \"Classification Report\": class_report\n",
    "    }\n",
    "\n",
    "# Print evaluation results for each dataset\n",
    "for dataset_name, results in evaluation_results.items():\n",
    "    print(f\"\\n{'='*20} {dataset_name} {'='*20}\")\n",
    "    print(\"Confusion Matrix:\")\n",
    "    print(results[\"Confusion Matrix\"])\n",
    "    print(f\"\\nAccuracy: {results['Accuracy']:.2f}\")\n",
    "    print(\"\\nClassification Report:\")\n",
    "    print(results[\"Classification Report\"])\n",
    "    print(\"=\"*60)\n"
   ]
  },
  {
   "cell_type": "code",
   "execution_count": 112,
   "metadata": {},
   "outputs": [
    {
     "data": {
      "text/plain": [
       "'import numpy as np\\nimport pandas as pd\\nimport tensorflow as tf\\nfrom tensorflow.keras.layers import Input, Dense, Concatenate, Dropout\\nfrom tensorflow.keras.models import Model\\nfrom tensorflow.keras.optimizers import Adam\\nfrom tensorflow.keras.callbacks import EarlyStopping\\nfrom tensorflow.keras.regularizers import l2\\nfrom tensorflow.keras.utils import plot_model\\nimport matplotlib.pyplot as plt\\nimport time\\nfrom sklearn.preprocessing import StandardScaler\\nfrom sklearn.utils import resample\\nfrom sklearn.model_selection import train_test_split\\n\\n# Find the maximum sample size across all datasets\\nmax_samples = max(len(African), len(Bangladesh), len(Iraq), len(inter_genetic), len(normal_genetic))\\n\\n# Function to upsample datasets to match the largest dataset\\ndef upsample_data(df, target_size):\\n    return resample(df, replace=True, n_samples=target_size, random_state=42)\\n\\n# Upsample all datasets to the same number of rows\\nAfrican = upsample_data(African, max_samples)\\nBangladesh = upsample_data(Bangladesh, max_samples)\\nIraq = upsample_data(Iraq, max_samples)\\ninter_genetic = upsample_data(inter_genetic, max_samples)\\nnormal_genetic = upsample_data(normal_genetic, max_samples)\\n\\n# Drop non-numeric columns\\nAfrican = African.select_dtypes(include=[np.number])\\nBangladesh = Bangladesh.select_dtypes(include=[np.number])\\nIraq = Iraq.select_dtypes(include=[np.number])\\ninter_genetic = inter_genetic.select_dtypes(include=[np.number])\\nnormal_genetic = normal_genetic.select_dtypes(include=[np.number])\\n\\n# Detect the target column dynamically\\ntarget_col = [col for col in African.columns if \\'t2d\\' in col.lower()]\\nif target_col:\\n    target_col = target_col[0]  # Get correct column name\\nelse:\\n    raise ValueError(\"Target column \\'T2D\\' not found in dataset!\")\\n\\n# Extract features and labels\\nX_African, y = African.drop(columns=[target_col]), African[target_col]\\nX_Bangladesh = Bangladesh.drop(columns=[target_col])\\nX_Iraq = Iraq.drop(columns=[target_col])\\nX_inter_genetic = inter_genetic.drop(columns=[target_col])\\nX_normal_genetic = normal_genetic.drop(columns=[target_col])\\n\\n# Standardize features\\nscaler = StandardScaler()\\nX_African_scaled = scaler.fit_transform(X_African)\\nX_Bangladesh_scaled = scaler.fit_transform(X_Bangladesh)\\nX_Iraq_scaled = scaler.fit_transform(X_Iraq)\\nX_inter_genetic_scaled = scaler.fit_transform(X_inter_genetic)\\nX_normal_genetic_scaled = scaler.fit_transform(X_normal_genetic)\\n\\n# Split data into train/test sets\\nX_train_African, X_test_African, y_train, y_test = train_test_split(X_African_scaled, y, test_size=0.2, random_state=42)\\nX_train_Bangladesh, X_test_Bangladesh = train_test_split(X_Bangladesh_scaled, test_size=0.2, random_state=42)\\nX_train_Iraq, X_test_Iraq = train_test_split(X_Iraq_scaled, test_size=0.2, random_state=42)\\nX_train_inter_genetic, X_test_inter_genetic = train_test_split(X_inter_genetic_scaled, test_size=0.2, random_state=42)\\nX_train_normal_genetic, X_test_normal_genetic = train_test_split(X_normal_genetic_scaled, test_size=0.2, random_state=42)\\n\\n# Get feature dimensions\\nAfrican_dim = X_train_African.shape[1]\\nBangladesh_dim = X_train_Bangladesh.shape[1]\\nIraq_dim = X_train_Iraq.shape[1]\\ninter_genetic_dim = X_train_inter_genetic.shape[1]\\nnormal_genetic_dim = X_train_normal_genetic.shape[1]\\n\\n# Define Neural Networks with L2 Regularization\\nAfrican_input = Input(shape=(African_dim,))\\nx1 = Dense(64, activation=\\'relu\\', kernel_regularizer=l2(0.01))(African_input)\\nx1 = Dense(32, activation=\\'relu\\', kernel_regularizer=l2(0.01))(x1)\\n\\nBangladesh_input = Input(shape=(Bangladesh_dim,))\\nx2 = Dense(64, activation=\\'relu\\', kernel_regularizer=l2(0.01))(Bangladesh_input)\\nx2 = Dense(32, activation=\\'relu\\', kernel_regularizer=l2(0.01))(x2)\\n\\nIraq_input = Input(shape=(Iraq_dim,))\\nx3 = Dense(64, activation=\\'relu\\', kernel_regularizer=l2(0.01))(Iraq_input)\\nx3 = Dense(32, activation=\\'relu\\', kernel_regularizer=l2(0.01))(x3)\\n\\ninter_genetic_input = Input(shape=(inter_genetic_dim,))\\nx4 = Dense(64, activation=\\'relu\\', kernel_regularizer=l2(0.01))(inter_genetic_input)\\nx4 = Dense(32, activation=\\'relu\\', kernel_regularizer=l2(0.01))(x4)\\n\\nnormal_genetic_input = Input(shape=(normal_genetic_dim,))\\nx5 = Dense(64, activation=\\'relu\\', kernel_regularizer=l2(0.01))(normal_genetic_input)\\nx5 = Dense(32, activation=\\'relu\\', kernel_regularizer=l2(0.01))(x5)\\n\\n# Fusion Layer\\nmerged = Concatenate()([x1, x2, x3, x4, x5])\\nx = Dense(128, activation=\\'relu\\')(merged)\\nx = Dropout(0.5)(x)  \\nx = Dense(64, activation=\\'relu\\')(x)\\nx = Dropout(0.5)(x)\\nx = Dense(32, activation=\\'relu\\')(x)\\noutput = Dense(1, activation=\\'sigmoid\\')(x)  \\n\\n# Build & Compile Model\\nmodel = Model(inputs=[African_input, Bangladesh_input, Iraq_input, inter_genetic_input, normal_genetic_input], outputs=output)\\nmodel.compile(optimizer=Adam(learning_rate=0.0005), loss=\\'binary_crossentropy\\', metrics=[\\'accuracy\\'])\\n\\n# Save model visualization\\nplot_model(model, to_file=\"model_structure.png\", show_shapes=True, show_layer_names=True)\\n\\n# Custom Training Logger\\nclass CustomTrainingLogger(tf.keras.callbacks.Callback):\\n    def on_epoch_begin(self, epoch, logs=None):\\n        self.epoch_start_time = time.time()\\n\\n    def on_epoch_end(self, epoch, logs=None):\\n        epoch_time = time.time() - self.epoch_start_time\\n        print(f\"Epoch {epoch+1}: Accuracy = {logs[\\'accuracy\\']:.4f}, \"\\n              f\"Val Accuracy = {logs[\\'val_accuracy\\']:.4f}, \"\\n              f\"Loss = {logs[\\'loss\\']:.4f}, Val Loss = {logs[\\'val_loss\\']:.4f}, \"\\n              f\"Time = {epoch_time:.2f}s\")\\n\\ncallbacks = [EarlyStopping(monitor=\\'val_loss\\', patience=5, restore_best_weights=True), CustomTrainingLogger()]\\n\\n# Train Model\\nhistory = model.fit(\\n    [X_train_African, X_train_Bangladesh, X_train_Iraq, X_train_inter_genetic, X_train_normal_genetic], y_train,\\n    validation_data=([X_test_African, X_test_Bangladesh, X_test_Iraq, X_test_inter_genetic, X_test_normal_genetic], y_test),\\n    epochs=50, batch_size=32, callbacks=callbacks)\\n\\n# Plot Training Curves\\nplt.plot(history.history[\\'accuracy\\'], label=\"Training Accuracy\")\\nplt.plot(history.history[\\'val_accuracy\\'], label=\"Validation Accuracy\")\\nplt.legend()\\nplt.show()'"
      ]
     },
     "execution_count": 112,
     "metadata": {},
     "output_type": "execute_result"
    }
   ],
   "source": [
    "'''import numpy as np\n",
    "import pandas as pd\n",
    "import tensorflow as tf\n",
    "from tensorflow.keras.layers import Input, Dense, Concatenate, Dropout\n",
    "from tensorflow.keras.models import Model\n",
    "from tensorflow.keras.optimizers import Adam\n",
    "from tensorflow.keras.callbacks import EarlyStopping\n",
    "from tensorflow.keras.regularizers import l2\n",
    "from tensorflow.keras.utils import plot_model\n",
    "import matplotlib.pyplot as plt\n",
    "import time\n",
    "from sklearn.preprocessing import StandardScaler\n",
    "from sklearn.utils import resample\n",
    "from sklearn.model_selection import train_test_split\n",
    "\n",
    "# Find the maximum sample size across all datasets\n",
    "max_samples = max(len(African), len(Bangladesh), len(Iraq), len(inter_genetic), len(normal_genetic))\n",
    "\n",
    "# Function to upsample datasets to match the largest dataset\n",
    "def upsample_data(df, target_size):\n",
    "    return resample(df, replace=True, n_samples=target_size, random_state=42)\n",
    "\n",
    "# Upsample all datasets to the same number of rows\n",
    "African = upsample_data(African, max_samples)\n",
    "Bangladesh = upsample_data(Bangladesh, max_samples)\n",
    "Iraq = upsample_data(Iraq, max_samples)\n",
    "inter_genetic = upsample_data(inter_genetic, max_samples)\n",
    "normal_genetic = upsample_data(normal_genetic, max_samples)\n",
    "\n",
    "# Drop non-numeric columns\n",
    "African = African.select_dtypes(include=[np.number])\n",
    "Bangladesh = Bangladesh.select_dtypes(include=[np.number])\n",
    "Iraq = Iraq.select_dtypes(include=[np.number])\n",
    "inter_genetic = inter_genetic.select_dtypes(include=[np.number])\n",
    "normal_genetic = normal_genetic.select_dtypes(include=[np.number])\n",
    "\n",
    "# Detect the target column dynamically\n",
    "target_col = [col for col in African.columns if 't2d' in col.lower()]\n",
    "if target_col:\n",
    "    target_col = target_col[0]  # Get correct column name\n",
    "else:\n",
    "    raise ValueError(\"Target column 'T2D' not found in dataset!\")\n",
    "\n",
    "# Extract features and labels\n",
    "X_African, y = African.drop(columns=[target_col]), African[target_col]\n",
    "X_Bangladesh = Bangladesh.drop(columns=[target_col])\n",
    "X_Iraq = Iraq.drop(columns=[target_col])\n",
    "X_inter_genetic = inter_genetic.drop(columns=[target_col])\n",
    "X_normal_genetic = normal_genetic.drop(columns=[target_col])\n",
    "\n",
    "# Standardize features\n",
    "scaler = StandardScaler()\n",
    "X_African_scaled = scaler.fit_transform(X_African)\n",
    "X_Bangladesh_scaled = scaler.fit_transform(X_Bangladesh)\n",
    "X_Iraq_scaled = scaler.fit_transform(X_Iraq)\n",
    "X_inter_genetic_scaled = scaler.fit_transform(X_inter_genetic)\n",
    "X_normal_genetic_scaled = scaler.fit_transform(X_normal_genetic)\n",
    "\n",
    "# Split data into train/test sets\n",
    "X_train_African, X_test_African, y_train, y_test = train_test_split(X_African_scaled, y, test_size=0.2, random_state=42)\n",
    "X_train_Bangladesh, X_test_Bangladesh = train_test_split(X_Bangladesh_scaled, test_size=0.2, random_state=42)\n",
    "X_train_Iraq, X_test_Iraq = train_test_split(X_Iraq_scaled, test_size=0.2, random_state=42)\n",
    "X_train_inter_genetic, X_test_inter_genetic = train_test_split(X_inter_genetic_scaled, test_size=0.2, random_state=42)\n",
    "X_train_normal_genetic, X_test_normal_genetic = train_test_split(X_normal_genetic_scaled, test_size=0.2, random_state=42)\n",
    "\n",
    "# Get feature dimensions\n",
    "African_dim = X_train_African.shape[1]\n",
    "Bangladesh_dim = X_train_Bangladesh.shape[1]\n",
    "Iraq_dim = X_train_Iraq.shape[1]\n",
    "inter_genetic_dim = X_train_inter_genetic.shape[1]\n",
    "normal_genetic_dim = X_train_normal_genetic.shape[1]\n",
    "\n",
    "# Define Neural Networks with L2 Regularization\n",
    "African_input = Input(shape=(African_dim,))\n",
    "x1 = Dense(64, activation='relu', kernel_regularizer=l2(0.01))(African_input)\n",
    "x1 = Dense(32, activation='relu', kernel_regularizer=l2(0.01))(x1)\n",
    "\n",
    "Bangladesh_input = Input(shape=(Bangladesh_dim,))\n",
    "x2 = Dense(64, activation='relu', kernel_regularizer=l2(0.01))(Bangladesh_input)\n",
    "x2 = Dense(32, activation='relu', kernel_regularizer=l2(0.01))(x2)\n",
    "\n",
    "Iraq_input = Input(shape=(Iraq_dim,))\n",
    "x3 = Dense(64, activation='relu', kernel_regularizer=l2(0.01))(Iraq_input)\n",
    "x3 = Dense(32, activation='relu', kernel_regularizer=l2(0.01))(x3)\n",
    "\n",
    "inter_genetic_input = Input(shape=(inter_genetic_dim,))\n",
    "x4 = Dense(64, activation='relu', kernel_regularizer=l2(0.01))(inter_genetic_input)\n",
    "x4 = Dense(32, activation='relu', kernel_regularizer=l2(0.01))(x4)\n",
    "\n",
    "normal_genetic_input = Input(shape=(normal_genetic_dim,))\n",
    "x5 = Dense(64, activation='relu', kernel_regularizer=l2(0.01))(normal_genetic_input)\n",
    "x5 = Dense(32, activation='relu', kernel_regularizer=l2(0.01))(x5)\n",
    "\n",
    "# Fusion Layer\n",
    "merged = Concatenate()([x1, x2, x3, x4, x5])\n",
    "x = Dense(128, activation='relu')(merged)\n",
    "x = Dropout(0.5)(x)  \n",
    "x = Dense(64, activation='relu')(x)\n",
    "x = Dropout(0.5)(x)\n",
    "x = Dense(32, activation='relu')(x)\n",
    "output = Dense(1, activation='sigmoid')(x)  \n",
    "\n",
    "# Build & Compile Model\n",
    "model = Model(inputs=[African_input, Bangladesh_input, Iraq_input, inter_genetic_input, normal_genetic_input], outputs=output)\n",
    "model.compile(optimizer=Adam(learning_rate=0.0005), loss='binary_crossentropy', metrics=['accuracy'])\n",
    "\n",
    "# Save model visualization\n",
    "plot_model(model, to_file=\"model_structure.png\", show_shapes=True, show_layer_names=True)\n",
    "\n",
    "# Custom Training Logger\n",
    "class CustomTrainingLogger(tf.keras.callbacks.Callback):\n",
    "    def on_epoch_begin(self, epoch, logs=None):\n",
    "        self.epoch_start_time = time.time()\n",
    "\n",
    "    def on_epoch_end(self, epoch, logs=None):\n",
    "        epoch_time = time.time() - self.epoch_start_time\n",
    "        print(f\"Epoch {epoch+1}: Accuracy = {logs['accuracy']:.4f}, \"\n",
    "              f\"Val Accuracy = {logs['val_accuracy']:.4f}, \"\n",
    "              f\"Loss = {logs['loss']:.4f}, Val Loss = {logs['val_loss']:.4f}, \"\n",
    "              f\"Time = {epoch_time:.2f}s\")\n",
    "\n",
    "callbacks = [EarlyStopping(monitor='val_loss', patience=5, restore_best_weights=True), CustomTrainingLogger()]\n",
    "\n",
    "# Train Model\n",
    "history = model.fit(\n",
    "    [X_train_African, X_train_Bangladesh, X_train_Iraq, X_train_inter_genetic, X_train_normal_genetic], y_train,\n",
    "    validation_data=([X_test_African, X_test_Bangladesh, X_test_Iraq, X_test_inter_genetic, X_test_normal_genetic], y_test),\n",
    "    epochs=50, batch_size=32, callbacks=callbacks)\n",
    "\n",
    "# Plot Training Curves\n",
    "plt.plot(history.history['accuracy'], label=\"Training Accuracy\")\n",
    "plt.plot(history.history['val_accuracy'], label=\"Validation Accuracy\")\n",
    "plt.legend()\n",
    "plt.show()'''\n"
   ]
  },
  {
   "cell_type": "code",
   "execution_count": 113,
   "metadata": {},
   "outputs": [
    {
     "data": {
      "text/plain": [
       "'import numpy as np\\nimport pandas as pd\\nimport tensorflow as tf\\nfrom tensorflow.keras.layers import Input, Dense, Concatenate, Dropout\\nfrom tensorflow.keras.models import Model\\nfrom tensorflow.keras.optimizers import Adam\\nfrom tensorflow.keras.callbacks import EarlyStopping\\nfrom sklearn.preprocessing import StandardScaler\\nfrom sklearn.utils import resample\\n\\n# Find the maximum sample size across all datasets\\nmax_samples = max(len(African), len(Bangladesh), len(Iraq), len(inter_genetic), len(normal_genetic))\\n\\n# Function to upsample datasets to match the largest dataset\\ndef upsample_data(df, target_size):\\n    return resample(df, replace=True, n_samples=target_size, random_state=42)\\n\\n# Upsample all datasets to have the same number of rows\\nAfrican = upsample_data(African, max_samples)\\nBangladesh = upsample_data(Bangladesh, max_samples)\\nIraq = upsample_data(Iraq, max_samples)\\ninter_genetic = upsample_data(inter_genetic, max_samples)\\nnormal_genetic = upsample_data(normal_genetic, max_samples)\\n\\n# **Drop non-numeric columns**\\nAfrican = African.select_dtypes(include=[np.number])\\nBangladesh = Bangladesh.select_dtypes(include=[np.number])\\nIraq = Iraq.select_dtypes(include=[np.number])\\ninter_genetic = inter_genetic.select_dtypes(include=[np.number])\\nnormal_genetic = normal_genetic.select_dtypes(include=[np.number])\\n\\n# Extract features and labels (\\'T2D\\' is the target column)\\nX_African, y = African.drop(columns=[\\'T2D\\'], errors=\\'ignore\\'), African[\\'T2D\\']\\nX_Bangladesh = Bangladesh.drop(columns=[\\'T2D\\'], errors=\\'ignore\\')\\nX_Iraq = Iraq.drop(columns=[\\'T2D\\'], errors=\\'ignore\\')\\nX_inter_genetic = inter_genetic.drop(columns=[\\'T2D\\'], errors=\\'ignore\\')\\nX_normal_genetic = normal_genetic.drop(columns=[\\'T2D\\'], errors=\\'ignore\\')\\n\\n# Standardize features\\nscaler = StandardScaler()\\nX_African_scaled = scaler.fit_transform(X_African)\\nX_Bangladesh_scaled = scaler.fit_transform(X_Bangladesh)\\nX_Iraq_scaled = scaler.fit_transform(X_Iraq)\\nX_inter_genetic_scaled = scaler.fit_transform(X_inter_genetic)\\nX_normal_genetic_scaled = scaler.fit_transform(X_normal_genetic)\\n\\n# Split data into train/test sets (80% train, 20% test)\\nfrom sklearn.model_selection import train_test_split\\n\\nX_train_African, X_test_African, y_train, y_test = train_test_split(X_African_scaled, y, test_size=0.2, random_state=42)\\nX_train_Bangladesh, X_test_Bangladesh = train_test_split(X_Bangladesh_scaled, test_size=0.2, random_state=42)\\nX_train_Iraq, X_test_Iraq = train_test_split(X_Iraq_scaled, test_size=0.2, random_state=42)\\nX_train_inter_genetic, X_test_inter_genetic = train_test_split(X_inter_genetic_scaled, test_size=0.2, random_state=42)\\nX_train_normal_genetic, X_test_normal_genetic = train_test_split(X_normal_genetic_scaled, test_size=0.2, random_state=42)\\n\\n# Get feature dimensions\\nAfrican_dim = X_train_African.shape[1]\\nBangladesh_dim = X_train_Bangladesh.shape[1]\\nIraq_dim = X_train_Iraq.shape[1]\\ninter_genetic_dim = X_train_inter_genetic.shape[1]\\nnormal_genetic_dim = X_train_normal_genetic.shape[1]\\n\\n# Define Neural Networks for Each Dataset\\nAfrican_input = Input(shape=(African_dim,))\\nx1 = Dense(64, activation=\\'relu\\')(African_input)\\nx1 = Dense(32, activation=\\'relu\\')(x1)\\n\\nBangladesh_input = Input(shape=(Bangladesh_dim,))\\nx2 = Dense(64, activation=\\'relu\\')(Bangladesh_input)\\nx2 = Dense(32, activation=\\'relu\\')(x2)\\n\\nIraq_input = Input(shape=(Iraq_dim,))\\nx3 = Dense(64, activation=\\'relu\\')(Iraq_input)\\nx3 = Dense(32, activation=\\'relu\\')(x3)\\n\\ninter_genetic_input = Input(shape=(inter_genetic_dim,))\\nx4 = Dense(64, activation=\\'relu\\')(inter_genetic_input)\\nx4 = Dense(32, activation=\\'relu\\')(x4)\\n\\nnormal_genetic_input = Input(shape=(normal_genetic_dim,))\\nx5 = Dense(64, activation=\\'relu\\')(normal_genetic_input)\\nx5 = Dense(32, activation=\\'relu\\')(x5)\\n\\n# Fusion Layer (Combining All Features)\\nmerged = Concatenate()([x1, x2, x3, x4, x5])\\nx = Dense(128, activation=\\'relu\\')(merged)\\nx = Dropout(0.3)(x)  # Regularization\\nx = Dense(64, activation=\\'relu\\')(x)\\nx = Dropout(0.3)(x)  # Prevent overfitting\\nx = Dense(32, activation=\\'relu\\')(x)\\noutput = Dense(1, activation=\\'sigmoid\\')(x)  # Binary classification\\n\\n# Build & Compile Model\\nmodel = Model(inputs=[African_input, Bangladesh_input, Iraq_input, inter_genetic_input, normal_genetic_input], outputs=output)\\nmodel.compile(optimizer=Adam(learning_rate=0.001), loss=\\'binary_crossentropy\\', metrics=[\\'accuracy\\'])\\n\\n# Model Summary\\nmodel.summary()\\n\\n# Define Early Stopping (Stop training if validation loss stops improving)\\nearly_stopping = EarlyStopping(monitor=\\'val_loss\\', patience=5, restore_best_weights=True)\\n\\n# Train the Model\\nmodel.fit(\\n    [X_train_African, X_train_Bangladesh, X_train_Iraq, X_train_inter_genetic, X_train_normal_genetic], y_train, \\n    validation_data=([X_test_African, X_test_Bangladesh, X_test_Iraq, X_test_inter_genetic, X_test_normal_genetic], y_test), \\n    epochs=50, batch_size=32, callbacks=[early_stopping])\\n\\n# Evaluate the Model\\nloss, accuracy = model.evaluate([X_test_African, X_test_Bangladesh, X_test_Iraq, X_test_inter_genetic, X_test_normal_genetic], y_test)\\nprint(f\"Test Accuracy: {accuracy:.4f}\")'"
      ]
     },
     "execution_count": 113,
     "metadata": {},
     "output_type": "execute_result"
    }
   ],
   "source": [
    "'''import numpy as np\n",
    "import pandas as pd\n",
    "import tensorflow as tf\n",
    "from tensorflow.keras.layers import Input, Dense, Concatenate, Dropout\n",
    "from tensorflow.keras.models import Model\n",
    "from tensorflow.keras.optimizers import Adam\n",
    "from tensorflow.keras.callbacks import EarlyStopping\n",
    "from sklearn.preprocessing import StandardScaler\n",
    "from sklearn.utils import resample\n",
    "\n",
    "# Find the maximum sample size across all datasets\n",
    "max_samples = max(len(African), len(Bangladesh), len(Iraq), len(inter_genetic), len(normal_genetic))\n",
    "\n",
    "# Function to upsample datasets to match the largest dataset\n",
    "def upsample_data(df, target_size):\n",
    "    return resample(df, replace=True, n_samples=target_size, random_state=42)\n",
    "\n",
    "# Upsample all datasets to have the same number of rows\n",
    "African = upsample_data(African, max_samples)\n",
    "Bangladesh = upsample_data(Bangladesh, max_samples)\n",
    "Iraq = upsample_data(Iraq, max_samples)\n",
    "inter_genetic = upsample_data(inter_genetic, max_samples)\n",
    "normal_genetic = upsample_data(normal_genetic, max_samples)\n",
    "\n",
    "# **Drop non-numeric columns**\n",
    "African = African.select_dtypes(include=[np.number])\n",
    "Bangladesh = Bangladesh.select_dtypes(include=[np.number])\n",
    "Iraq = Iraq.select_dtypes(include=[np.number])\n",
    "inter_genetic = inter_genetic.select_dtypes(include=[np.number])\n",
    "normal_genetic = normal_genetic.select_dtypes(include=[np.number])\n",
    "\n",
    "# Extract features and labels ('T2D' is the target column)\n",
    "X_African, y = African.drop(columns=['T2D'], errors='ignore'), African['T2D']\n",
    "X_Bangladesh = Bangladesh.drop(columns=['T2D'], errors='ignore')\n",
    "X_Iraq = Iraq.drop(columns=['T2D'], errors='ignore')\n",
    "X_inter_genetic = inter_genetic.drop(columns=['T2D'], errors='ignore')\n",
    "X_normal_genetic = normal_genetic.drop(columns=['T2D'], errors='ignore')\n",
    "\n",
    "# Standardize features\n",
    "scaler = StandardScaler()\n",
    "X_African_scaled = scaler.fit_transform(X_African)\n",
    "X_Bangladesh_scaled = scaler.fit_transform(X_Bangladesh)\n",
    "X_Iraq_scaled = scaler.fit_transform(X_Iraq)\n",
    "X_inter_genetic_scaled = scaler.fit_transform(X_inter_genetic)\n",
    "X_normal_genetic_scaled = scaler.fit_transform(X_normal_genetic)\n",
    "\n",
    "# Split data into train/test sets (80% train, 20% test)\n",
    "from sklearn.model_selection import train_test_split\n",
    "\n",
    "X_train_African, X_test_African, y_train, y_test = train_test_split(X_African_scaled, y, test_size=0.2, random_state=42)\n",
    "X_train_Bangladesh, X_test_Bangladesh = train_test_split(X_Bangladesh_scaled, test_size=0.2, random_state=42)\n",
    "X_train_Iraq, X_test_Iraq = train_test_split(X_Iraq_scaled, test_size=0.2, random_state=42)\n",
    "X_train_inter_genetic, X_test_inter_genetic = train_test_split(X_inter_genetic_scaled, test_size=0.2, random_state=42)\n",
    "X_train_normal_genetic, X_test_normal_genetic = train_test_split(X_normal_genetic_scaled, test_size=0.2, random_state=42)\n",
    "\n",
    "# Get feature dimensions\n",
    "African_dim = X_train_African.shape[1]\n",
    "Bangladesh_dim = X_train_Bangladesh.shape[1]\n",
    "Iraq_dim = X_train_Iraq.shape[1]\n",
    "inter_genetic_dim = X_train_inter_genetic.shape[1]\n",
    "normal_genetic_dim = X_train_normal_genetic.shape[1]\n",
    "\n",
    "# Define Neural Networks for Each Dataset\n",
    "African_input = Input(shape=(African_dim,))\n",
    "x1 = Dense(64, activation='relu')(African_input)\n",
    "x1 = Dense(32, activation='relu')(x1)\n",
    "\n",
    "Bangladesh_input = Input(shape=(Bangladesh_dim,))\n",
    "x2 = Dense(64, activation='relu')(Bangladesh_input)\n",
    "x2 = Dense(32, activation='relu')(x2)\n",
    "\n",
    "Iraq_input = Input(shape=(Iraq_dim,))\n",
    "x3 = Dense(64, activation='relu')(Iraq_input)\n",
    "x3 = Dense(32, activation='relu')(x3)\n",
    "\n",
    "inter_genetic_input = Input(shape=(inter_genetic_dim,))\n",
    "x4 = Dense(64, activation='relu')(inter_genetic_input)\n",
    "x4 = Dense(32, activation='relu')(x4)\n",
    "\n",
    "normal_genetic_input = Input(shape=(normal_genetic_dim,))\n",
    "x5 = Dense(64, activation='relu')(normal_genetic_input)\n",
    "x5 = Dense(32, activation='relu')(x5)\n",
    "\n",
    "# Fusion Layer (Combining All Features)\n",
    "merged = Concatenate()([x1, x2, x3, x4, x5])\n",
    "x = Dense(128, activation='relu')(merged)\n",
    "x = Dropout(0.3)(x)  # Regularization\n",
    "x = Dense(64, activation='relu')(x)\n",
    "x = Dropout(0.3)(x)  # Prevent overfitting\n",
    "x = Dense(32, activation='relu')(x)\n",
    "output = Dense(1, activation='sigmoid')(x)  # Binary classification\n",
    "\n",
    "# Build & Compile Model\n",
    "model = Model(inputs=[African_input, Bangladesh_input, Iraq_input, inter_genetic_input, normal_genetic_input], outputs=output)\n",
    "model.compile(optimizer=Adam(learning_rate=0.001), loss='binary_crossentropy', metrics=['accuracy'])\n",
    "\n",
    "# Model Summary\n",
    "model.summary()\n",
    "\n",
    "# Define Early Stopping (Stop training if validation loss stops improving)\n",
    "early_stopping = EarlyStopping(monitor='val_loss', patience=5, restore_best_weights=True)\n",
    "\n",
    "# Train the Model\n",
    "model.fit(\n",
    "    [X_train_African, X_train_Bangladesh, X_train_Iraq, X_train_inter_genetic, X_train_normal_genetic], y_train, \n",
    "    validation_data=([X_test_African, X_test_Bangladesh, X_test_Iraq, X_test_inter_genetic, X_test_normal_genetic], y_test), \n",
    "    epochs=50, batch_size=32, callbacks=[early_stopping])\n",
    "\n",
    "# Evaluate the Model\n",
    "loss, accuracy = model.evaluate([X_test_African, X_test_Bangladesh, X_test_Iraq, X_test_inter_genetic, X_test_normal_genetic], y_test)\n",
    "print(f\"Test Accuracy: {accuracy:.4f}\")'''\n"
   ]
  }
 ],
 "metadata": {
  "kernelspec": {
   "display_name": "base",
   "language": "python",
   "name": "python3"
  },
  "language_info": {
   "codemirror_mode": {
    "name": "ipython",
    "version": 3
   },
   "file_extension": ".py",
   "mimetype": "text/x-python",
   "name": "python",
   "nbconvert_exporter": "python",
   "pygments_lexer": "ipython3",
   "version": "3.12.2"
  }
 },
 "nbformat": 4,
 "nbformat_minor": 2
}
