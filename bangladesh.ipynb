{
 "cells": [
  {
   "cell_type": "markdown",
   "id": "90dadc5900971002",
   "metadata": {
    "collapsed": false
   },
   "source": [
    "# Attribute Definitions\n",
    "\n",
    "## Features Overview\n",
    "The dataset contains the following features:\n",
    "\n",
    "1. **Age**: Numeric, represents the age of the individual.\n",
    "2. **Gender**: Categorical, indicates male or female.\n",
    "3. **Pulse Rate**: Numeric, measures heart rate (beats per minute).\n",
    "4. **Systolic BP**: Numeric, measures systolic blood pressure.\n",
    "5. **Diastolic BP**: Numeric, measures diastolic blood pressure.\n",
    "6. **Glucose**: Numeric, represents glucose level in mmol/L.\n",
    "7. **Height**: Numeric, in meters.\n",
    "8. **Weight**: Numeric, in kilograms.\n",
    "9. **BMI**: Numeric, derived metric (Body Mass Index).\n",
    "10. **Family Diabetes**: Binary, whether there’s a family history of diabetes.\n",
    "11. **Hypertensive**: Binary, indicates whether the individual is hypertensive.\n",
    "12. **Family Hypertension**: Binary, family history of hypertension.\n",
    "13. **Cardiovascular Disease**: Binary, presence of cardiovascular disease.\n",
    "14. **Stroke**: Binary, whether the individual has experienced a stroke.\n",
    "15. **Diabetic**: Categorical, indicates whether the individual is diabetic (Yes/No).\n",
    "\n",
    "## Features Relationships in the Dataset\n",
    "\n",
    "- **Age** vs. **Health Conditions**:\n",
    "  - Age is positively correlated with the prevalence of diabetes, hypertension, cardiovascular disease, and stroke.\n",
    "\n",
    "- **BMI** vs. **Glucose**:\n",
    "  - Higher BMI is associated with elevated glucose levels, indicating a higher risk of insulin resistance and diabetes.\n",
    "\n",
    "- **Blood Pressure (Systolic and Diastolic)** vs. **Health Outcomes**:\n",
    "  - Elevated systolic and diastolic blood pressure is associated with a higher prevalence of hypertension, cardiovascular disease, and stroke.\n",
    "\n",
    "- **Family History (Diabetes/Hypertension)** vs. **Conditions**:\n",
    "  - Individuals with a family history of diabetes or hypertension are more likely to develop these conditions compared to those without such a history.\n",
    "\n",
    "- **Gender Differences**:\n",
    "  - Health outcomes such as diabetes, hypertension, cardiovascular disease, and stroke differ between males and females due to biological, hormonal, and lifestyle factors.\n",
    "\n",
    "- **Pulse Rate** vs. **Cardiovascular Disease**:\n",
    "  - Elevated resting pulse rate is associated with a higher risk of cardiovascular disease.\n"
   ]
  },
  {
   "cell_type": "markdown",
   "id": "4648d24293e776b8",
   "metadata": {
    "collapsed": false
   },
   "source": [
    "# Importing Libraries and Loading Data"
   ]
  },
  {
   "cell_type": "code",
   "execution_count": 26,
   "id": "a4ebaf26cb26eb2b",
   "metadata": {
    "ExecuteTime": {
     "end_time": "2025-01-25T13:13:10.558730300Z",
     "start_time": "2025-01-25T13:13:10.541730500Z"
    },
    "collapsed": false
   },
   "outputs": [],
   "source": [
    "# Essentials\n",
    "import pandas as pd\n",
    "\n",
    "# Visualization\n",
    "import matplotlib.pyplot as plt\n",
    "import seaborn as sns\n",
    "\n",
    "# Warnings\n",
    "import warnings\n",
    "warnings.filterwarnings('ignore')\n",
    "\n",
    "# Loading data correctly\n",
    "bangladesh_df = pd.read_csv(r'/Users/mohammedbasem/Desktop/T2D-Prediction-System--Data-Fusion-for-Enhanced-Decision-Making/datasets/clinical/Bangladesh_clinical_dataset.csv')"
   ]
  },
  {
   "cell_type": "markdown",
   "id": "a2ea6e21ff2d5a1f",
   "metadata": {
    "collapsed": false
   },
   "source": [
    "# Exploratory Data Analysis (EDA)"
   ]
  },
  {
   "cell_type": "code",
   "execution_count": 27,
   "id": "5e04aa493f4baf5e",
   "metadata": {
    "ExecuteTime": {
     "end_time": "2025-01-25T13:13:10.583730300Z",
     "start_time": "2025-01-25T13:13:10.557730900Z"
    },
    "collapsed": false
   },
   "outputs": [
    {
     "data": {
      "text/html": [
       "<div>\n",
       "<style scoped>\n",
       "    .dataframe tbody tr th:only-of-type {\n",
       "        vertical-align: middle;\n",
       "    }\n",
       "\n",
       "    .dataframe tbody tr th {\n",
       "        vertical-align: top;\n",
       "    }\n",
       "\n",
       "    .dataframe thead th {\n",
       "        text-align: right;\n",
       "    }\n",
       "</style>\n",
       "<table border=\"1\" class=\"dataframe\">\n",
       "  <thead>\n",
       "    <tr style=\"text-align: right;\">\n",
       "      <th></th>\n",
       "      <th>age</th>\n",
       "      <th>gender</th>\n",
       "      <th>pulse_rate</th>\n",
       "      <th>systolic_bp</th>\n",
       "      <th>diastolic_bp</th>\n",
       "      <th>glucose</th>\n",
       "      <th>height</th>\n",
       "      <th>weight</th>\n",
       "      <th>bmi</th>\n",
       "      <th>family_diabetes</th>\n",
       "      <th>hypertensive</th>\n",
       "      <th>family_hypertension</th>\n",
       "      <th>cardiovascular_disease</th>\n",
       "      <th>stroke</th>\n",
       "      <th>diabetic</th>\n",
       "    </tr>\n",
       "  </thead>\n",
       "  <tbody>\n",
       "    <tr>\n",
       "      <th>0</th>\n",
       "      <td>42</td>\n",
       "      <td>Female</td>\n",
       "      <td>66</td>\n",
       "      <td>110</td>\n",
       "      <td>73</td>\n",
       "      <td>5.88</td>\n",
       "      <td>1.65</td>\n",
       "      <td>70.2</td>\n",
       "      <td>25.75</td>\n",
       "      <td>0</td>\n",
       "      <td>0</td>\n",
       "      <td>0</td>\n",
       "      <td>0</td>\n",
       "      <td>0</td>\n",
       "      <td>No</td>\n",
       "    </tr>\n",
       "    <tr>\n",
       "      <th>1</th>\n",
       "      <td>35</td>\n",
       "      <td>Female</td>\n",
       "      <td>60</td>\n",
       "      <td>125</td>\n",
       "      <td>68</td>\n",
       "      <td>5.71</td>\n",
       "      <td>1.47</td>\n",
       "      <td>42.5</td>\n",
       "      <td>19.58</td>\n",
       "      <td>0</td>\n",
       "      <td>0</td>\n",
       "      <td>0</td>\n",
       "      <td>0</td>\n",
       "      <td>0</td>\n",
       "      <td>No</td>\n",
       "    </tr>\n",
       "    <tr>\n",
       "      <th>2</th>\n",
       "      <td>62</td>\n",
       "      <td>Female</td>\n",
       "      <td>57</td>\n",
       "      <td>127</td>\n",
       "      <td>74</td>\n",
       "      <td>6.85</td>\n",
       "      <td>1.52</td>\n",
       "      <td>47.0</td>\n",
       "      <td>20.24</td>\n",
       "      <td>0</td>\n",
       "      <td>0</td>\n",
       "      <td>0</td>\n",
       "      <td>0</td>\n",
       "      <td>0</td>\n",
       "      <td>No</td>\n",
       "    </tr>\n",
       "    <tr>\n",
       "      <th>3</th>\n",
       "      <td>73</td>\n",
       "      <td>Male</td>\n",
       "      <td>55</td>\n",
       "      <td>193</td>\n",
       "      <td>112</td>\n",
       "      <td>6.28</td>\n",
       "      <td>1.63</td>\n",
       "      <td>57.4</td>\n",
       "      <td>21.72</td>\n",
       "      <td>0</td>\n",
       "      <td>0</td>\n",
       "      <td>0</td>\n",
       "      <td>0</td>\n",
       "      <td>0</td>\n",
       "      <td>No</td>\n",
       "    </tr>\n",
       "    <tr>\n",
       "      <th>4</th>\n",
       "      <td>68</td>\n",
       "      <td>Female</td>\n",
       "      <td>71</td>\n",
       "      <td>150</td>\n",
       "      <td>81</td>\n",
       "      <td>5.71</td>\n",
       "      <td>1.42</td>\n",
       "      <td>36.0</td>\n",
       "      <td>17.79</td>\n",
       "      <td>0</td>\n",
       "      <td>0</td>\n",
       "      <td>0</td>\n",
       "      <td>0</td>\n",
       "      <td>0</td>\n",
       "      <td>No</td>\n",
       "    </tr>\n",
       "  </tbody>\n",
       "</table>\n",
       "</div>"
      ],
      "text/plain": [
       "   age  gender  pulse_rate  systolic_bp  diastolic_bp  glucose  height  \\\n",
       "0   42  Female          66          110            73     5.88    1.65   \n",
       "1   35  Female          60          125            68     5.71    1.47   \n",
       "2   62  Female          57          127            74     6.85    1.52   \n",
       "3   73    Male          55          193           112     6.28    1.63   \n",
       "4   68  Female          71          150            81     5.71    1.42   \n",
       "\n",
       "   weight    bmi  family_diabetes  hypertensive  family_hypertension  \\\n",
       "0    70.2  25.75                0             0                    0   \n",
       "1    42.5  19.58                0             0                    0   \n",
       "2    47.0  20.24                0             0                    0   \n",
       "3    57.4  21.72                0             0                    0   \n",
       "4    36.0  17.79                0             0                    0   \n",
       "\n",
       "   cardiovascular_disease  stroke diabetic  \n",
       "0                       0       0       No  \n",
       "1                       0       0       No  \n",
       "2                       0       0       No  \n",
       "3                       0       0       No  \n",
       "4                       0       0       No  "
      ]
     },
     "execution_count": 27,
     "metadata": {},
     "output_type": "execute_result"
    }
   ],
   "source": [
    "bangladesh_df.head(5)"
   ]
  },
  {
   "cell_type": "code",
   "execution_count": 28,
   "id": "c6c5e772b8ff0364",
   "metadata": {
    "ExecuteTime": {
     "end_time": "2025-01-25T13:13:10.605730500Z",
     "start_time": "2025-01-25T13:13:10.589730400Z"
    },
    "collapsed": false
   },
   "outputs": [
    {
     "data": {
      "text/html": [
       "<div>\n",
       "<style scoped>\n",
       "    .dataframe tbody tr th:only-of-type {\n",
       "        vertical-align: middle;\n",
       "    }\n",
       "\n",
       "    .dataframe tbody tr th {\n",
       "        vertical-align: top;\n",
       "    }\n",
       "\n",
       "    .dataframe thead th {\n",
       "        text-align: right;\n",
       "    }\n",
       "</style>\n",
       "<table border=\"1\" class=\"dataframe\">\n",
       "  <thead>\n",
       "    <tr style=\"text-align: right;\">\n",
       "      <th></th>\n",
       "      <th>age</th>\n",
       "      <th>gender</th>\n",
       "      <th>pulse_rate</th>\n",
       "      <th>systolic_bp</th>\n",
       "      <th>diastolic_bp</th>\n",
       "      <th>glucose</th>\n",
       "      <th>height</th>\n",
       "      <th>weight</th>\n",
       "      <th>bmi</th>\n",
       "      <th>family_diabetes</th>\n",
       "      <th>hypertensive</th>\n",
       "      <th>family_hypertension</th>\n",
       "      <th>cardiovascular_disease</th>\n",
       "      <th>stroke</th>\n",
       "      <th>diabetic</th>\n",
       "    </tr>\n",
       "  </thead>\n",
       "  <tbody>\n",
       "    <tr>\n",
       "      <th>5432</th>\n",
       "      <td>74</td>\n",
       "      <td>Male</td>\n",
       "      <td>83</td>\n",
       "      <td>164</td>\n",
       "      <td>89</td>\n",
       "      <td>6.47</td>\n",
       "      <td>1.60</td>\n",
       "      <td>64.0</td>\n",
       "      <td>24.99</td>\n",
       "      <td>0</td>\n",
       "      <td>1</td>\n",
       "      <td>0</td>\n",
       "      <td>1</td>\n",
       "      <td>0</td>\n",
       "      <td>No</td>\n",
       "    </tr>\n",
       "    <tr>\n",
       "      <th>5433</th>\n",
       "      <td>75</td>\n",
       "      <td>Male</td>\n",
       "      <td>67</td>\n",
       "      <td>141</td>\n",
       "      <td>104</td>\n",
       "      <td>8.31</td>\n",
       "      <td>1.65</td>\n",
       "      <td>62.0</td>\n",
       "      <td>22.75</td>\n",
       "      <td>0</td>\n",
       "      <td>0</td>\n",
       "      <td>0</td>\n",
       "      <td>0</td>\n",
       "      <td>0</td>\n",
       "      <td>Yes</td>\n",
       "    </tr>\n",
       "    <tr>\n",
       "      <th>5434</th>\n",
       "      <td>40</td>\n",
       "      <td>Female</td>\n",
       "      <td>67</td>\n",
       "      <td>134</td>\n",
       "      <td>114</td>\n",
       "      <td>7.61</td>\n",
       "      <td>1.50</td>\n",
       "      <td>69.0</td>\n",
       "      <td>30.72</td>\n",
       "      <td>0</td>\n",
       "      <td>1</td>\n",
       "      <td>0</td>\n",
       "      <td>0</td>\n",
       "      <td>1</td>\n",
       "      <td>No</td>\n",
       "    </tr>\n",
       "    <tr>\n",
       "      <th>5435</th>\n",
       "      <td>36</td>\n",
       "      <td>Female</td>\n",
       "      <td>62</td>\n",
       "      <td>139</td>\n",
       "      <td>80</td>\n",
       "      <td>4.90</td>\n",
       "      <td>1.52</td>\n",
       "      <td>41.5</td>\n",
       "      <td>17.87</td>\n",
       "      <td>0</td>\n",
       "      <td>0</td>\n",
       "      <td>0</td>\n",
       "      <td>0</td>\n",
       "      <td>0</td>\n",
       "      <td>No</td>\n",
       "    </tr>\n",
       "    <tr>\n",
       "      <th>5436</th>\n",
       "      <td>26</td>\n",
       "      <td>Female</td>\n",
       "      <td>80</td>\n",
       "      <td>134</td>\n",
       "      <td>93</td>\n",
       "      <td>5.15</td>\n",
       "      <td>1.47</td>\n",
       "      <td>67.1</td>\n",
       "      <td>30.92</td>\n",
       "      <td>0</td>\n",
       "      <td>0</td>\n",
       "      <td>0</td>\n",
       "      <td>0</td>\n",
       "      <td>0</td>\n",
       "      <td>No</td>\n",
       "    </tr>\n",
       "  </tbody>\n",
       "</table>\n",
       "</div>"
      ],
      "text/plain": [
       "      age  gender  pulse_rate  systolic_bp  diastolic_bp  glucose  height  \\\n",
       "5432   74    Male          83          164            89     6.47    1.60   \n",
       "5433   75    Male          67          141           104     8.31    1.65   \n",
       "5434   40  Female          67          134           114     7.61    1.50   \n",
       "5435   36  Female          62          139            80     4.90    1.52   \n",
       "5436   26  Female          80          134            93     5.15    1.47   \n",
       "\n",
       "      weight    bmi  family_diabetes  hypertensive  family_hypertension  \\\n",
       "5432    64.0  24.99                0             1                    0   \n",
       "5433    62.0  22.75                0             0                    0   \n",
       "5434    69.0  30.72                0             1                    0   \n",
       "5435    41.5  17.87                0             0                    0   \n",
       "5436    67.1  30.92                0             0                    0   \n",
       "\n",
       "      cardiovascular_disease  stroke diabetic  \n",
       "5432                       1       0       No  \n",
       "5433                       0       0      Yes  \n",
       "5434                       0       1       No  \n",
       "5435                       0       0       No  \n",
       "5436                       0       0       No  "
      ]
     },
     "execution_count": 28,
     "metadata": {},
     "output_type": "execute_result"
    }
   ],
   "source": [
    "bangladesh_df.tail(5)"
   ]
  },
  {
   "cell_type": "code",
   "execution_count": 29,
   "id": "db938c00e338e695",
   "metadata": {
    "ExecuteTime": {
     "end_time": "2025-01-25T13:13:10.668730700Z",
     "start_time": "2025-01-25T13:13:10.592731200Z"
    },
    "collapsed": false
   },
   "outputs": [
    {
     "data": {
      "text/plain": [
       "age                         int64\n",
       "gender                     object\n",
       "pulse_rate                  int64\n",
       "systolic_bp                 int64\n",
       "diastolic_bp                int64\n",
       "glucose                   float64\n",
       "height                    float64\n",
       "weight                    float64\n",
       "bmi                       float64\n",
       "family_diabetes             int64\n",
       "hypertensive                int64\n",
       "family_hypertension         int64\n",
       "cardiovascular_disease      int64\n",
       "stroke                      int64\n",
       "diabetic                   object\n",
       "dtype: object"
      ]
     },
     "execution_count": 29,
     "metadata": {},
     "output_type": "execute_result"
    }
   ],
   "source": [
    "bangladesh_df.dtypes"
   ]
  },
  {
   "cell_type": "code",
   "execution_count": 30,
   "id": "5da167948c3d4a8a",
   "metadata": {
    "ExecuteTime": {
     "end_time": "2025-01-25T13:13:10.735730200Z",
     "start_time": "2025-01-25T13:13:10.605730500Z"
    },
    "collapsed": false
   },
   "outputs": [
    {
     "data": {
      "text/plain": [
       "(5437, 15)"
      ]
     },
     "execution_count": 30,
     "metadata": {},
     "output_type": "execute_result"
    }
   ],
   "source": [
    "bangladesh_df.shape"
   ]
  },
  {
   "cell_type": "code",
   "execution_count": 31,
   "id": "32b85ca89991fa7b",
   "metadata": {
    "ExecuteTime": {
     "end_time": "2025-01-25T13:13:10.826730700Z",
     "start_time": "2025-01-25T13:13:10.618730500Z"
    },
    "collapsed": false
   },
   "outputs": [
    {
     "name": "stdout",
     "output_type": "stream",
     "text": [
      "number of duplicate rows:  (0, 15)\n"
     ]
    }
   ],
   "source": [
    "duplicate_rows_bangladesh_df = bangladesh_df[bangladesh_df.duplicated()]\n",
    "print(\"number of duplicate rows: \", duplicate_rows_bangladesh_df.shape)"
   ]
  },
  {
   "cell_type": "code",
   "execution_count": 32,
   "id": "8d4b5b0d598425b8",
   "metadata": {
    "ExecuteTime": {
     "end_time": "2025-01-25T13:13:10.827731300Z",
     "start_time": "2025-01-25T13:13:10.639730100Z"
    },
    "collapsed": false
   },
   "outputs": [
    {
     "data": {
      "text/plain": [
       "age                       5437\n",
       "gender                    5437\n",
       "pulse_rate                5437\n",
       "systolic_bp               5437\n",
       "diastolic_bp              5437\n",
       "glucose                   5437\n",
       "height                    5437\n",
       "weight                    5437\n",
       "bmi                       5437\n",
       "family_diabetes           5437\n",
       "hypertensive              5437\n",
       "family_hypertension       5437\n",
       "cardiovascular_disease    5437\n",
       "stroke                    5437\n",
       "diabetic                  5437\n",
       "dtype: int64"
      ]
     },
     "execution_count": 32,
     "metadata": {},
     "output_type": "execute_result"
    }
   ],
   "source": [
    "bangladesh_df.count()"
   ]
  },
  {
   "cell_type": "code",
   "execution_count": 33,
   "id": "56961b59197965ae",
   "metadata": {
    "ExecuteTime": {
     "end_time": "2025-01-25T13:13:10.828730300Z",
     "start_time": "2025-01-25T13:13:10.646730100Z"
    },
    "collapsed": false
   },
   "outputs": [
    {
     "name": "stdout",
     "output_type": "stream",
     "text": [
      "age                       0\n",
      "gender                    0\n",
      "pulse_rate                0\n",
      "systolic_bp               0\n",
      "diastolic_bp              0\n",
      "glucose                   0\n",
      "height                    0\n",
      "weight                    0\n",
      "bmi                       0\n",
      "family_diabetes           0\n",
      "hypertensive              0\n",
      "family_hypertension       0\n",
      "cardiovascular_disease    0\n",
      "stroke                    0\n",
      "diabetic                  0\n",
      "dtype: int64\n"
     ]
    }
   ],
   "source": [
    "print(bangladesh_df.isnull().sum())"
   ]
  },
  {
   "cell_type": "code",
   "execution_count": 34,
   "id": "885daf0af4d5561c",
   "metadata": {
    "ExecuteTime": {
     "end_time": "2025-01-25T13:13:10.836730500Z",
     "start_time": "2025-01-25T13:13:10.658731100Z"
    },
    "collapsed": false
   },
   "outputs": [
    {
     "name": "stdout",
     "output_type": "stream",
     "text": [
      "<class 'pandas.core.frame.DataFrame'>\n",
      "RangeIndex: 5437 entries, 0 to 5436\n",
      "Data columns (total 15 columns):\n",
      " #   Column                  Non-Null Count  Dtype  \n",
      "---  ------                  --------------  -----  \n",
      " 0   age                     5437 non-null   int64  \n",
      " 1   gender                  5437 non-null   object \n",
      " 2   pulse_rate              5437 non-null   int64  \n",
      " 3   systolic_bp             5437 non-null   int64  \n",
      " 4   diastolic_bp            5437 non-null   int64  \n",
      " 5   glucose                 5437 non-null   float64\n",
      " 6   height                  5437 non-null   float64\n",
      " 7   weight                  5437 non-null   float64\n",
      " 8   bmi                     5437 non-null   float64\n",
      " 9   family_diabetes         5437 non-null   int64  \n",
      " 10  hypertensive            5437 non-null   int64  \n",
      " 11  family_hypertension     5437 non-null   int64  \n",
      " 12  cardiovascular_disease  5437 non-null   int64  \n",
      " 13  stroke                  5437 non-null   int64  \n",
      " 14  diabetic                5437 non-null   object \n",
      "dtypes: float64(4), int64(9), object(2)\n",
      "memory usage: 637.3+ KB\n"
     ]
    }
   ],
   "source": [
    "bangladesh_df.info()"
   ]
  },
  {
   "cell_type": "code",
   "execution_count": 35,
   "id": "7a51ce785f029a11",
   "metadata": {
    "ExecuteTime": {
     "end_time": "2025-01-25T13:13:10.837730200Z",
     "start_time": "2025-01-25T13:13:10.692731200Z"
    },
    "collapsed": false
   },
   "outputs": [
    {
     "data": {
      "text/html": [
       "<div>\n",
       "<style scoped>\n",
       "    .dataframe tbody tr th:only-of-type {\n",
       "        vertical-align: middle;\n",
       "    }\n",
       "\n",
       "    .dataframe tbody tr th {\n",
       "        vertical-align: top;\n",
       "    }\n",
       "\n",
       "    .dataframe thead th {\n",
       "        text-align: right;\n",
       "    }\n",
       "</style>\n",
       "<table border=\"1\" class=\"dataframe\">\n",
       "  <thead>\n",
       "    <tr style=\"text-align: right;\">\n",
       "      <th></th>\n",
       "      <th>age</th>\n",
       "      <th>pulse_rate</th>\n",
       "      <th>systolic_bp</th>\n",
       "      <th>diastolic_bp</th>\n",
       "      <th>glucose</th>\n",
       "      <th>height</th>\n",
       "      <th>weight</th>\n",
       "      <th>bmi</th>\n",
       "      <th>family_diabetes</th>\n",
       "      <th>hypertensive</th>\n",
       "      <th>family_hypertension</th>\n",
       "      <th>cardiovascular_disease</th>\n",
       "      <th>stroke</th>\n",
       "    </tr>\n",
       "  </thead>\n",
       "  <tbody>\n",
       "    <tr>\n",
       "      <th>count</th>\n",
       "      <td>5437.000000</td>\n",
       "      <td>5437.000000</td>\n",
       "      <td>5437.000000</td>\n",
       "      <td>5437.000000</td>\n",
       "      <td>5437.000000</td>\n",
       "      <td>5437.000000</td>\n",
       "      <td>5437.000000</td>\n",
       "      <td>5437.000000</td>\n",
       "      <td>5437.000000</td>\n",
       "      <td>5437.000000</td>\n",
       "      <td>5437.000000</td>\n",
       "      <td>5437.000000</td>\n",
       "      <td>5437.000000</td>\n",
       "    </tr>\n",
       "    <tr>\n",
       "      <th>mean</th>\n",
       "      <td>45.533750</td>\n",
       "      <td>76.768990</td>\n",
       "      <td>133.859849</td>\n",
       "      <td>82.064742</td>\n",
       "      <td>7.540682</td>\n",
       "      <td>1.548571</td>\n",
       "      <td>53.626816</td>\n",
       "      <td>22.472301</td>\n",
       "      <td>0.037337</td>\n",
       "      <td>0.109803</td>\n",
       "      <td>0.039544</td>\n",
       "      <td>0.011587</td>\n",
       "      <td>0.003678</td>\n",
       "    </tr>\n",
       "    <tr>\n",
       "      <th>std</th>\n",
       "      <td>14.321155</td>\n",
       "      <td>12.290076</td>\n",
       "      <td>22.293015</td>\n",
       "      <td>12.489593</td>\n",
       "      <td>2.923080</td>\n",
       "      <td>0.080955</td>\n",
       "      <td>10.091550</td>\n",
       "      <td>8.778764</td>\n",
       "      <td>0.189603</td>\n",
       "      <td>0.312673</td>\n",
       "      <td>0.194903</td>\n",
       "      <td>0.107029</td>\n",
       "      <td>0.060545</td>\n",
       "    </tr>\n",
       "    <tr>\n",
       "      <th>min</th>\n",
       "      <td>8.000000</td>\n",
       "      <td>5.000000</td>\n",
       "      <td>62.000000</td>\n",
       "      <td>45.000000</td>\n",
       "      <td>0.000000</td>\n",
       "      <td>0.360000</td>\n",
       "      <td>3.000000</td>\n",
       "      <td>1.220000</td>\n",
       "      <td>0.000000</td>\n",
       "      <td>0.000000</td>\n",
       "      <td>0.000000</td>\n",
       "      <td>0.000000</td>\n",
       "      <td>0.000000</td>\n",
       "    </tr>\n",
       "    <tr>\n",
       "      <th>25%</th>\n",
       "      <td>35.000000</td>\n",
       "      <td>69.000000</td>\n",
       "      <td>119.000000</td>\n",
       "      <td>73.000000</td>\n",
       "      <td>6.000000</td>\n",
       "      <td>1.520000</td>\n",
       "      <td>46.700000</td>\n",
       "      <td>19.630000</td>\n",
       "      <td>0.000000</td>\n",
       "      <td>0.000000</td>\n",
       "      <td>0.000000</td>\n",
       "      <td>0.000000</td>\n",
       "      <td>0.000000</td>\n",
       "    </tr>\n",
       "    <tr>\n",
       "      <th>50%</th>\n",
       "      <td>45.000000</td>\n",
       "      <td>76.000000</td>\n",
       "      <td>130.000000</td>\n",
       "      <td>81.000000</td>\n",
       "      <td>6.920000</td>\n",
       "      <td>1.550000</td>\n",
       "      <td>53.000000</td>\n",
       "      <td>21.870000</td>\n",
       "      <td>0.000000</td>\n",
       "      <td>0.000000</td>\n",
       "      <td>0.000000</td>\n",
       "      <td>0.000000</td>\n",
       "      <td>0.000000</td>\n",
       "    </tr>\n",
       "    <tr>\n",
       "      <th>75%</th>\n",
       "      <td>55.000000</td>\n",
       "      <td>84.000000</td>\n",
       "      <td>147.000000</td>\n",
       "      <td>90.000000</td>\n",
       "      <td>8.120000</td>\n",
       "      <td>1.600000</td>\n",
       "      <td>59.900000</td>\n",
       "      <td>24.490000</td>\n",
       "      <td>0.000000</td>\n",
       "      <td>0.000000</td>\n",
       "      <td>0.000000</td>\n",
       "      <td>0.000000</td>\n",
       "      <td>0.000000</td>\n",
       "    </tr>\n",
       "    <tr>\n",
       "      <th>max</th>\n",
       "      <td>112.000000</td>\n",
       "      <td>133.000000</td>\n",
       "      <td>231.000000</td>\n",
       "      <td>119.000000</td>\n",
       "      <td>33.460000</td>\n",
       "      <td>1.960000</td>\n",
       "      <td>100.700000</td>\n",
       "      <td>574.130000</td>\n",
       "      <td>1.000000</td>\n",
       "      <td>1.000000</td>\n",
       "      <td>1.000000</td>\n",
       "      <td>1.000000</td>\n",
       "      <td>1.000000</td>\n",
       "    </tr>\n",
       "  </tbody>\n",
       "</table>\n",
       "</div>"
      ],
      "text/plain": [
       "               age   pulse_rate  systolic_bp  diastolic_bp      glucose  \\\n",
       "count  5437.000000  5437.000000  5437.000000   5437.000000  5437.000000   \n",
       "mean     45.533750    76.768990   133.859849     82.064742     7.540682   \n",
       "std      14.321155    12.290076    22.293015     12.489593     2.923080   \n",
       "min       8.000000     5.000000    62.000000     45.000000     0.000000   \n",
       "25%      35.000000    69.000000   119.000000     73.000000     6.000000   \n",
       "50%      45.000000    76.000000   130.000000     81.000000     6.920000   \n",
       "75%      55.000000    84.000000   147.000000     90.000000     8.120000   \n",
       "max     112.000000   133.000000   231.000000    119.000000    33.460000   \n",
       "\n",
       "            height       weight          bmi  family_diabetes  hypertensive  \\\n",
       "count  5437.000000  5437.000000  5437.000000      5437.000000   5437.000000   \n",
       "mean      1.548571    53.626816    22.472301         0.037337      0.109803   \n",
       "std       0.080955    10.091550     8.778764         0.189603      0.312673   \n",
       "min       0.360000     3.000000     1.220000         0.000000      0.000000   \n",
       "25%       1.520000    46.700000    19.630000         0.000000      0.000000   \n",
       "50%       1.550000    53.000000    21.870000         0.000000      0.000000   \n",
       "75%       1.600000    59.900000    24.490000         0.000000      0.000000   \n",
       "max       1.960000   100.700000   574.130000         1.000000      1.000000   \n",
       "\n",
       "       family_hypertension  cardiovascular_disease       stroke  \n",
       "count          5437.000000             5437.000000  5437.000000  \n",
       "mean              0.039544                0.011587     0.003678  \n",
       "std               0.194903                0.107029     0.060545  \n",
       "min               0.000000                0.000000     0.000000  \n",
       "25%               0.000000                0.000000     0.000000  \n",
       "50%               0.000000                0.000000     0.000000  \n",
       "75%               0.000000                0.000000     0.000000  \n",
       "max               1.000000                1.000000     1.000000  "
      ]
     },
     "execution_count": 35,
     "metadata": {},
     "output_type": "execute_result"
    }
   ],
   "source": [
    "bangladesh_df.describe()"
   ]
  },
  {
   "cell_type": "markdown",
   "id": "fa8800c561f42f33",
   "metadata": {
    "collapsed": false
   },
   "source": [
    "# Feature Engineering"
   ]
  },
  {
   "cell_type": "code",
   "execution_count": 36,
   "id": "8fad9de5738e8340",
   "metadata": {
    "ExecuteTime": {
     "end_time": "2025-01-25T13:13:10.879729800Z",
     "start_time": "2025-01-25T13:13:10.727734700Z"
    },
    "collapsed": false
   },
   "outputs": [
    {
     "data": {
      "text/html": [
       "<div>\n",
       "<style scoped>\n",
       "    .dataframe tbody tr th:only-of-type {\n",
       "        vertical-align: middle;\n",
       "    }\n",
       "\n",
       "    .dataframe tbody tr th {\n",
       "        vertical-align: top;\n",
       "    }\n",
       "\n",
       "    .dataframe thead th {\n",
       "        text-align: right;\n",
       "    }\n",
       "</style>\n",
       "<table border=\"1\" class=\"dataframe\">\n",
       "  <thead>\n",
       "    <tr style=\"text-align: right;\">\n",
       "      <th></th>\n",
       "      <th>age</th>\n",
       "      <th>pulse_rate</th>\n",
       "      <th>systolic_bp</th>\n",
       "      <th>diastolic_bp</th>\n",
       "      <th>glucose</th>\n",
       "      <th>height</th>\n",
       "      <th>weight</th>\n",
       "      <th>bmi</th>\n",
       "      <th>family_diabetes</th>\n",
       "      <th>hypertensive</th>\n",
       "      <th>family_hypertension</th>\n",
       "      <th>cardiovascular_disease</th>\n",
       "      <th>stroke</th>\n",
       "      <th>diabetic</th>\n",
       "      <th>gender_Encoded</th>\n",
       "    </tr>\n",
       "  </thead>\n",
       "  <tbody>\n",
       "    <tr>\n",
       "      <th>0</th>\n",
       "      <td>42</td>\n",
       "      <td>66</td>\n",
       "      <td>110</td>\n",
       "      <td>73</td>\n",
       "      <td>5.88</td>\n",
       "      <td>1.65</td>\n",
       "      <td>70.2</td>\n",
       "      <td>25.75</td>\n",
       "      <td>0</td>\n",
       "      <td>0</td>\n",
       "      <td>0</td>\n",
       "      <td>0</td>\n",
       "      <td>0</td>\n",
       "      <td>No</td>\n",
       "      <td>0</td>\n",
       "    </tr>\n",
       "    <tr>\n",
       "      <th>1</th>\n",
       "      <td>35</td>\n",
       "      <td>60</td>\n",
       "      <td>125</td>\n",
       "      <td>68</td>\n",
       "      <td>5.71</td>\n",
       "      <td>1.47</td>\n",
       "      <td>42.5</td>\n",
       "      <td>19.58</td>\n",
       "      <td>0</td>\n",
       "      <td>0</td>\n",
       "      <td>0</td>\n",
       "      <td>0</td>\n",
       "      <td>0</td>\n",
       "      <td>No</td>\n",
       "      <td>0</td>\n",
       "    </tr>\n",
       "    <tr>\n",
       "      <th>2</th>\n",
       "      <td>62</td>\n",
       "      <td>57</td>\n",
       "      <td>127</td>\n",
       "      <td>74</td>\n",
       "      <td>6.85</td>\n",
       "      <td>1.52</td>\n",
       "      <td>47.0</td>\n",
       "      <td>20.24</td>\n",
       "      <td>0</td>\n",
       "      <td>0</td>\n",
       "      <td>0</td>\n",
       "      <td>0</td>\n",
       "      <td>0</td>\n",
       "      <td>No</td>\n",
       "      <td>0</td>\n",
       "    </tr>\n",
       "    <tr>\n",
       "      <th>3</th>\n",
       "      <td>73</td>\n",
       "      <td>55</td>\n",
       "      <td>193</td>\n",
       "      <td>112</td>\n",
       "      <td>6.28</td>\n",
       "      <td>1.63</td>\n",
       "      <td>57.4</td>\n",
       "      <td>21.72</td>\n",
       "      <td>0</td>\n",
       "      <td>0</td>\n",
       "      <td>0</td>\n",
       "      <td>0</td>\n",
       "      <td>0</td>\n",
       "      <td>No</td>\n",
       "      <td>1</td>\n",
       "    </tr>\n",
       "    <tr>\n",
       "      <th>4</th>\n",
       "      <td>68</td>\n",
       "      <td>71</td>\n",
       "      <td>150</td>\n",
       "      <td>81</td>\n",
       "      <td>5.71</td>\n",
       "      <td>1.42</td>\n",
       "      <td>36.0</td>\n",
       "      <td>17.79</td>\n",
       "      <td>0</td>\n",
       "      <td>0</td>\n",
       "      <td>0</td>\n",
       "      <td>0</td>\n",
       "      <td>0</td>\n",
       "      <td>No</td>\n",
       "      <td>0</td>\n",
       "    </tr>\n",
       "  </tbody>\n",
       "</table>\n",
       "</div>"
      ],
      "text/plain": [
       "   age  pulse_rate  systolic_bp  diastolic_bp  glucose  height  weight    bmi  \\\n",
       "0   42          66          110            73     5.88    1.65    70.2  25.75   \n",
       "1   35          60          125            68     5.71    1.47    42.5  19.58   \n",
       "2   62          57          127            74     6.85    1.52    47.0  20.24   \n",
       "3   73          55          193           112     6.28    1.63    57.4  21.72   \n",
       "4   68          71          150            81     5.71    1.42    36.0  17.79   \n",
       "\n",
       "   family_diabetes  hypertensive  family_hypertension  cardiovascular_disease  \\\n",
       "0                0             0                    0                       0   \n",
       "1                0             0                    0                       0   \n",
       "2                0             0                    0                       0   \n",
       "3                0             0                    0                       0   \n",
       "4                0             0                    0                       0   \n",
       "\n",
       "   stroke diabetic  gender_Encoded  \n",
       "0       0       No               0  \n",
       "1       0       No               0  \n",
       "2       0       No               0  \n",
       "3       0       No               1  \n",
       "4       0       No               0  "
      ]
     },
     "execution_count": 36,
     "metadata": {},
     "output_type": "execute_result"
    }
   ],
   "source": [
    "# Convert 'gender' column to categorical codes\n",
    "bangladesh_df['gender_Encoded'] = bangladesh_df['gender'].astype('category').cat.codes\n",
    "\n",
    "# Remove the original 'gender' column to avoid redundancy\n",
    "bangladesh_df.drop(['gender'], axis=1, inplace=True)\n",
    "\n",
    "# Display the first 5 rows of the modified DataFrame\n",
    "bangladesh_df.head()"
   ]
  },
  {
   "cell_type": "code",
   "execution_count": 37,
   "id": "da21efa192c4ecbd",
   "metadata": {
    "ExecuteTime": {
     "end_time": "2025-01-25T13:13:10.901729800Z",
     "start_time": "2025-01-25T13:13:10.748731700Z"
    },
    "collapsed": false
   },
   "outputs": [
    {
     "data": {
      "text/html": [
       "<div>\n",
       "<style scoped>\n",
       "    .dataframe tbody tr th:only-of-type {\n",
       "        vertical-align: middle;\n",
       "    }\n",
       "\n",
       "    .dataframe tbody tr th {\n",
       "        vertical-align: top;\n",
       "    }\n",
       "\n",
       "    .dataframe thead th {\n",
       "        text-align: right;\n",
       "    }\n",
       "</style>\n",
       "<table border=\"1\" class=\"dataframe\">\n",
       "  <thead>\n",
       "    <tr style=\"text-align: right;\">\n",
       "      <th></th>\n",
       "      <th>age</th>\n",
       "      <th>pulse_rate</th>\n",
       "      <th>systolic_bp</th>\n",
       "      <th>diastolic_bp</th>\n",
       "      <th>glucose</th>\n",
       "      <th>height</th>\n",
       "      <th>weight</th>\n",
       "      <th>bmi</th>\n",
       "      <th>family_diabetes</th>\n",
       "      <th>hypertensive</th>\n",
       "      <th>family_hypertension</th>\n",
       "      <th>cardiovascular_disease</th>\n",
       "      <th>stroke</th>\n",
       "      <th>gender_Encoded</th>\n",
       "      <th>diabetic_Encoded</th>\n",
       "    </tr>\n",
       "  </thead>\n",
       "  <tbody>\n",
       "    <tr>\n",
       "      <th>0</th>\n",
       "      <td>42</td>\n",
       "      <td>66</td>\n",
       "      <td>110</td>\n",
       "      <td>73</td>\n",
       "      <td>5.88</td>\n",
       "      <td>1.65</td>\n",
       "      <td>70.2</td>\n",
       "      <td>25.75</td>\n",
       "      <td>0</td>\n",
       "      <td>0</td>\n",
       "      <td>0</td>\n",
       "      <td>0</td>\n",
       "      <td>0</td>\n",
       "      <td>0</td>\n",
       "      <td>0</td>\n",
       "    </tr>\n",
       "    <tr>\n",
       "      <th>1</th>\n",
       "      <td>35</td>\n",
       "      <td>60</td>\n",
       "      <td>125</td>\n",
       "      <td>68</td>\n",
       "      <td>5.71</td>\n",
       "      <td>1.47</td>\n",
       "      <td>42.5</td>\n",
       "      <td>19.58</td>\n",
       "      <td>0</td>\n",
       "      <td>0</td>\n",
       "      <td>0</td>\n",
       "      <td>0</td>\n",
       "      <td>0</td>\n",
       "      <td>0</td>\n",
       "      <td>0</td>\n",
       "    </tr>\n",
       "    <tr>\n",
       "      <th>2</th>\n",
       "      <td>62</td>\n",
       "      <td>57</td>\n",
       "      <td>127</td>\n",
       "      <td>74</td>\n",
       "      <td>6.85</td>\n",
       "      <td>1.52</td>\n",
       "      <td>47.0</td>\n",
       "      <td>20.24</td>\n",
       "      <td>0</td>\n",
       "      <td>0</td>\n",
       "      <td>0</td>\n",
       "      <td>0</td>\n",
       "      <td>0</td>\n",
       "      <td>0</td>\n",
       "      <td>0</td>\n",
       "    </tr>\n",
       "    <tr>\n",
       "      <th>3</th>\n",
       "      <td>73</td>\n",
       "      <td>55</td>\n",
       "      <td>193</td>\n",
       "      <td>112</td>\n",
       "      <td>6.28</td>\n",
       "      <td>1.63</td>\n",
       "      <td>57.4</td>\n",
       "      <td>21.72</td>\n",
       "      <td>0</td>\n",
       "      <td>0</td>\n",
       "      <td>0</td>\n",
       "      <td>0</td>\n",
       "      <td>0</td>\n",
       "      <td>1</td>\n",
       "      <td>0</td>\n",
       "    </tr>\n",
       "    <tr>\n",
       "      <th>4</th>\n",
       "      <td>68</td>\n",
       "      <td>71</td>\n",
       "      <td>150</td>\n",
       "      <td>81</td>\n",
       "      <td>5.71</td>\n",
       "      <td>1.42</td>\n",
       "      <td>36.0</td>\n",
       "      <td>17.79</td>\n",
       "      <td>0</td>\n",
       "      <td>0</td>\n",
       "      <td>0</td>\n",
       "      <td>0</td>\n",
       "      <td>0</td>\n",
       "      <td>0</td>\n",
       "      <td>0</td>\n",
       "    </tr>\n",
       "  </tbody>\n",
       "</table>\n",
       "</div>"
      ],
      "text/plain": [
       "   age  pulse_rate  systolic_bp  diastolic_bp  glucose  height  weight    bmi  \\\n",
       "0   42          66          110            73     5.88    1.65    70.2  25.75   \n",
       "1   35          60          125            68     5.71    1.47    42.5  19.58   \n",
       "2   62          57          127            74     6.85    1.52    47.0  20.24   \n",
       "3   73          55          193           112     6.28    1.63    57.4  21.72   \n",
       "4   68          71          150            81     5.71    1.42    36.0  17.79   \n",
       "\n",
       "   family_diabetes  hypertensive  family_hypertension  cardiovascular_disease  \\\n",
       "0                0             0                    0                       0   \n",
       "1                0             0                    0                       0   \n",
       "2                0             0                    0                       0   \n",
       "3                0             0                    0                       0   \n",
       "4                0             0                    0                       0   \n",
       "\n",
       "   stroke  gender_Encoded  diabetic_Encoded  \n",
       "0       0               0                 0  \n",
       "1       0               0                 0  \n",
       "2       0               0                 0  \n",
       "3       0               1                 0  \n",
       "4       0               0                 0  "
      ]
     },
     "execution_count": 37,
     "metadata": {},
     "output_type": "execute_result"
    }
   ],
   "source": [
    "# Convert 'diabetic' column to categorical codes\n",
    "bangladesh_df['diabetic_Encoded'] = bangladesh_df['diabetic'].astype('category').cat.codes\n",
    "\n",
    "# Remove the original 'diabetic' column to avoid redundancy\n",
    "bangladesh_df.drop(['diabetic'], axis=1, inplace=True)\n",
    "\n",
    "# Display the first 5 rows of the modified DataFrame\n",
    "bangladesh_df.head()"
   ]
  },
  {
   "cell_type": "code",
   "execution_count": 38,
   "id": "17be5e99f99bbbc3",
   "metadata": {
    "ExecuteTime": {
     "end_time": "2025-01-25T13:13:10.902730300Z",
     "start_time": "2025-01-25T13:13:10.772731300Z"
    },
    "collapsed": false
   },
   "outputs": [
    {
     "data": {
      "text/html": [
       "<div>\n",
       "<style scoped>\n",
       "    .dataframe tbody tr th:only-of-type {\n",
       "        vertical-align: middle;\n",
       "    }\n",
       "\n",
       "    .dataframe tbody tr th {\n",
       "        vertical-align: top;\n",
       "    }\n",
       "\n",
       "    .dataframe thead th {\n",
       "        text-align: right;\n",
       "    }\n",
       "</style>\n",
       "<table border=\"1\" class=\"dataframe\">\n",
       "  <thead>\n",
       "    <tr style=\"text-align: right;\">\n",
       "      <th></th>\n",
       "      <th>age</th>\n",
       "      <th>pulse_rate</th>\n",
       "      <th>systolic_bp</th>\n",
       "      <th>diastolic_bp</th>\n",
       "      <th>glucose</th>\n",
       "      <th>height</th>\n",
       "      <th>weight</th>\n",
       "      <th>bmi</th>\n",
       "      <th>family_diabetes</th>\n",
       "      <th>hypertensive</th>\n",
       "      <th>family_hypertension</th>\n",
       "      <th>cardiovascular_disease</th>\n",
       "      <th>stroke</th>\n",
       "      <th>gender_Encoded</th>\n",
       "      <th>diabetic_Encoded</th>\n",
       "    </tr>\n",
       "  </thead>\n",
       "  <tbody>\n",
       "    <tr>\n",
       "      <th>5432</th>\n",
       "      <td>74</td>\n",
       "      <td>83</td>\n",
       "      <td>164</td>\n",
       "      <td>89</td>\n",
       "      <td>6.47</td>\n",
       "      <td>1.60</td>\n",
       "      <td>64.0</td>\n",
       "      <td>24.99</td>\n",
       "      <td>0</td>\n",
       "      <td>1</td>\n",
       "      <td>0</td>\n",
       "      <td>1</td>\n",
       "      <td>0</td>\n",
       "      <td>1</td>\n",
       "      <td>0</td>\n",
       "    </tr>\n",
       "    <tr>\n",
       "      <th>5433</th>\n",
       "      <td>75</td>\n",
       "      <td>67</td>\n",
       "      <td>141</td>\n",
       "      <td>104</td>\n",
       "      <td>8.31</td>\n",
       "      <td>1.65</td>\n",
       "      <td>62.0</td>\n",
       "      <td>22.75</td>\n",
       "      <td>0</td>\n",
       "      <td>0</td>\n",
       "      <td>0</td>\n",
       "      <td>0</td>\n",
       "      <td>0</td>\n",
       "      <td>1</td>\n",
       "      <td>1</td>\n",
       "    </tr>\n",
       "    <tr>\n",
       "      <th>5434</th>\n",
       "      <td>40</td>\n",
       "      <td>67</td>\n",
       "      <td>134</td>\n",
       "      <td>114</td>\n",
       "      <td>7.61</td>\n",
       "      <td>1.50</td>\n",
       "      <td>69.0</td>\n",
       "      <td>30.72</td>\n",
       "      <td>0</td>\n",
       "      <td>1</td>\n",
       "      <td>0</td>\n",
       "      <td>0</td>\n",
       "      <td>1</td>\n",
       "      <td>0</td>\n",
       "      <td>0</td>\n",
       "    </tr>\n",
       "    <tr>\n",
       "      <th>5435</th>\n",
       "      <td>36</td>\n",
       "      <td>62</td>\n",
       "      <td>139</td>\n",
       "      <td>80</td>\n",
       "      <td>4.90</td>\n",
       "      <td>1.52</td>\n",
       "      <td>41.5</td>\n",
       "      <td>17.87</td>\n",
       "      <td>0</td>\n",
       "      <td>0</td>\n",
       "      <td>0</td>\n",
       "      <td>0</td>\n",
       "      <td>0</td>\n",
       "      <td>0</td>\n",
       "      <td>0</td>\n",
       "    </tr>\n",
       "    <tr>\n",
       "      <th>5436</th>\n",
       "      <td>26</td>\n",
       "      <td>80</td>\n",
       "      <td>134</td>\n",
       "      <td>93</td>\n",
       "      <td>5.15</td>\n",
       "      <td>1.47</td>\n",
       "      <td>67.1</td>\n",
       "      <td>30.92</td>\n",
       "      <td>0</td>\n",
       "      <td>0</td>\n",
       "      <td>0</td>\n",
       "      <td>0</td>\n",
       "      <td>0</td>\n",
       "      <td>0</td>\n",
       "      <td>0</td>\n",
       "    </tr>\n",
       "  </tbody>\n",
       "</table>\n",
       "</div>"
      ],
      "text/plain": [
       "      age  pulse_rate  systolic_bp  diastolic_bp  glucose  height  weight  \\\n",
       "5432   74          83          164            89     6.47    1.60    64.0   \n",
       "5433   75          67          141           104     8.31    1.65    62.0   \n",
       "5434   40          67          134           114     7.61    1.50    69.0   \n",
       "5435   36          62          139            80     4.90    1.52    41.5   \n",
       "5436   26          80          134            93     5.15    1.47    67.1   \n",
       "\n",
       "        bmi  family_diabetes  hypertensive  family_hypertension  \\\n",
       "5432  24.99                0             1                    0   \n",
       "5433  22.75                0             0                    0   \n",
       "5434  30.72                0             1                    0   \n",
       "5435  17.87                0             0                    0   \n",
       "5436  30.92                0             0                    0   \n",
       "\n",
       "      cardiovascular_disease  stroke  gender_Encoded  diabetic_Encoded  \n",
       "5432                       1       0               1                 0  \n",
       "5433                       0       0               1                 1  \n",
       "5434                       0       1               0                 0  \n",
       "5435                       0       0               0                 0  \n",
       "5436                       0       0               0                 0  "
      ]
     },
     "execution_count": 38,
     "metadata": {},
     "output_type": "execute_result"
    }
   ],
   "source": [
    "bangladesh_df.tail(5)"
   ]
  },
  {
   "cell_type": "markdown",
   "id": "5d97e922e82fc34e",
   "metadata": {
    "collapsed": false
   },
   "source": [
    "# Data Visualization\n"
   ]
  },
  {
   "cell_type": "code",
   "execution_count": 39,
   "id": "c491bcc33082619f",
   "metadata": {
    "ExecuteTime": {
     "end_time": "2025-01-25T13:13:11.079730500Z",
     "start_time": "2025-01-25T13:13:10.787733300Z"
    },
    "collapsed": false
   },
   "outputs": [
    {
     "data": {
      "text/plain": [
       "\"# Create a temporary DataFrame for plotting with original gender labels\\ntemp_df = bangladesh_df.copy()\\ntemp_df['gender_plot'] = temp_df['gender_Encoded'].map({0: 'Female', 1: 'Male'})\\n\\n# Plot gender counts with specific colors and display counts on bars\\nplt.figure(figsize=(8, 6))\\nax = sns.countplot(\\n    x='gender_plot', \\n    data=temp_df, \\n    palette=['salmon', 'skyblue'],\\n    order=['Female', 'Male']\\n)\\n\\n# Adding counts on top of each bar\\nfor p in ax.patches:\\n    ax.annotate(\\n        f'{int(p.get_height())}', \\n        (p.get_x() + p.get_width() / 2., p.get_height()), \\n        ha='center', va='center', fontsize=12, color='black', xytext=(0, 5), \\n        textcoords='offset points'\\n    )\\n\\n# Add labels and title\\nplt.title('Distribution of Genders', fontsize=16, pad=20)\\nplt.xlabel('Gender', fontsize=12, labelpad=10)\\nplt.ylabel('Count', fontsize=12, labelpad=10)\\n\\n# Remove spines for a cleaner look\\nsns.despine()\\n\\n# Show the plot\\nplt.tight_layout()\\nplt.show()\""
      ]
     },
     "execution_count": 39,
     "metadata": {},
     "output_type": "execute_result"
    }
   ],
   "source": [
    "\"\"\"# Create a temporary DataFrame for plotting with original gender labels\n",
    "temp_df = bangladesh_df.copy()\n",
    "temp_df['gender_plot'] = temp_df['gender_Encoded'].map({0: 'Female', 1: 'Male'})\n",
    "\n",
    "# Plot gender counts with specific colors and display counts on bars\n",
    "plt.figure(figsize=(8, 6))\n",
    "ax = sns.countplot(\n",
    "    x='gender_plot', \n",
    "    data=temp_df, \n",
    "    palette=['salmon', 'skyblue'],\n",
    "    order=['Female', 'Male']\n",
    ")\n",
    "\n",
    "# Adding counts on top of each bar\n",
    "for p in ax.patches:\n",
    "    ax.annotate(\n",
    "        f'{int(p.get_height())}', \n",
    "        (p.get_x() + p.get_width() / 2., p.get_height()), \n",
    "        ha='center', va='center', fontsize=12, color='black', xytext=(0, 5), \n",
    "        textcoords='offset points'\n",
    "    )\n",
    "\n",
    "# Add labels and title\n",
    "plt.title('Distribution of Genders', fontsize=16, pad=20)\n",
    "plt.xlabel('Gender', fontsize=12, labelpad=10)\n",
    "plt.ylabel('Count', fontsize=12, labelpad=10)\n",
    "\n",
    "# Remove spines for a cleaner look\n",
    "sns.despine()\n",
    "\n",
    "# Show the plot\n",
    "plt.tight_layout()\n",
    "plt.show()\"\"\""
   ]
  },
  {
   "cell_type": "code",
   "execution_count": 40,
   "id": "c00f3fdabd0ce1cf",
   "metadata": {
    "ExecuteTime": {
     "end_time": "2025-01-25T13:13:14.860910400Z",
     "start_time": "2025-01-25T13:13:10.952732300Z"
    },
    "collapsed": false
   },
   "outputs": [
    {
     "data": {
      "text/plain": [
       "\"# Select numerical columns from the dataset\\nnumerical_features = bangladesh_df.select_dtypes(include=['float64', 'int64']).columns\\n\\n# Set up the figure for multiple subplots\\nplt.figure(figsize=(15, 15))\\n\\n# Loop through each numerical column and create a histogram\\nfor i, column in enumerate(numerical_features, 1):\\n    plt.subplot(len(numerical_features) // 3 + 1, 3, i)\\n    sns.histplot(\\n        bangladesh_df[column], \\n        kde=True, \\n        color='skyblue',\\n        edgecolor='salmon',\\n        line_kws={'color': 'red'},\\n        bins=30\\n    )\\n    plt.title(f'Distribution of {column}', fontsize=12, pad=10)\\n    plt.xlabel(column, fontsize=10)\\n    plt.ylabel('Frequency', fontsize=10)\\n\\n# Adjust subplots to fit into figure area neatly\\nplt.tight_layout()\\n\\n# Show the plot\\nplt.show()\""
      ]
     },
     "execution_count": 40,
     "metadata": {},
     "output_type": "execute_result"
    }
   ],
   "source": [
    "\"\"\"# Select numerical columns from the dataset\n",
    "numerical_features = bangladesh_df.select_dtypes(include=['float64', 'int64']).columns\n",
    "\n",
    "# Set up the figure for multiple subplots\n",
    "plt.figure(figsize=(15, 15))\n",
    "\n",
    "# Loop through each numerical column and create a histogram\n",
    "for i, column in enumerate(numerical_features, 1):\n",
    "    plt.subplot(len(numerical_features) // 3 + 1, 3, i)\n",
    "    sns.histplot(\n",
    "        bangladesh_df[column], \n",
    "        kde=True, \n",
    "        color='skyblue',\n",
    "        edgecolor='salmon',\n",
    "        line_kws={'color': 'red'},\n",
    "        bins=30\n",
    "    )\n",
    "    plt.title(f'Distribution of {column}', fontsize=12, pad=10)\n",
    "    plt.xlabel(column, fontsize=10)\n",
    "    plt.ylabel('Frequency', fontsize=10)\n",
    "\n",
    "# Adjust subplots to fit into figure area neatly\n",
    "plt.tight_layout()\n",
    "\n",
    "# Show the plot\n",
    "plt.show()\"\"\""
   ]
  },
  {
   "cell_type": "markdown",
   "id": "f7ab3026876dc354",
   "metadata": {
    "collapsed": false
   },
   "source": [
    "## Correlation Matrix of Numerical Features"
   ]
  },
  {
   "cell_type": "code",
   "execution_count": 41,
   "id": "2ed3eb52725db9ea",
   "metadata": {
    "ExecuteTime": {
     "end_time": "2025-01-25T13:13:15.896911Z",
     "start_time": "2025-01-25T13:13:14.862910600Z"
    },
    "collapsed": false
   },
   "outputs": [
    {
     "data": {
      "text/plain": [
       "'# Filter numeric columns only\\nnumeric_columns = bangladesh_df.select_dtypes(include=[\\'float64\\', \\'int64\\'])\\n\\n# Check if there are numeric columns to proceed\\nif numeric_columns.empty:\\n    raise ValueError(\"No numeric columns found in the dataset. Cannot compute correlation matrix.\")\\n\\n# Compute the correlation matrix\\ncorrelation_matrix = numeric_columns.corr()\\n\\n# Display the correlation matrix as a heatmap\\nplt.figure(figsize=(10, 8))\\nsns.heatmap(\\n    correlation_matrix, \\n    annot=True,\\n    fmt=\".2f\",\\n    cmap=\"coolwarm\",\\n    cbar=True,\\n    annot_kws={\"size\": 10},\\n    linewidths=0.5,\\n    vmin=-1, vmax=1\\n)\\n\\n# Add a title\\nplt.title(\"Correlation Matrix of Numerical Features\", fontsize=16, pad=20)\\n\\n# Show the plot\\nplt.tight_layout()\\nplt.show()'"
      ]
     },
     "execution_count": 41,
     "metadata": {},
     "output_type": "execute_result"
    }
   ],
   "source": [
    "\"\"\"# Filter numeric columns only\n",
    "numeric_columns = bangladesh_df.select_dtypes(include=['float64', 'int64'])\n",
    "\n",
    "# Check if there are numeric columns to proceed\n",
    "if numeric_columns.empty:\n",
    "    raise ValueError(\"No numeric columns found in the dataset. Cannot compute correlation matrix.\")\n",
    "\n",
    "# Compute the correlation matrix\n",
    "correlation_matrix = numeric_columns.corr()\n",
    "\n",
    "# Display the correlation matrix as a heatmap\n",
    "plt.figure(figsize=(10, 8))\n",
    "sns.heatmap(\n",
    "    correlation_matrix, \n",
    "    annot=True,\n",
    "    fmt=\".2f\",\n",
    "    cmap=\"coolwarm\",\n",
    "    cbar=True,\n",
    "    annot_kws={\"size\": 10},\n",
    "    linewidths=0.5,\n",
    "    vmin=-1, vmax=1\n",
    ")\n",
    "\n",
    "# Add a title\n",
    "plt.title(\"Correlation Matrix of Numerical Features\", fontsize=16, pad=20)\n",
    "\n",
    "# Show the plot\n",
    "plt.tight_layout()\n",
    "plt.show()\"\"\""
   ]
  },
  {
   "cell_type": "markdown",
   "id": "29e54452eb109240",
   "metadata": {
    "collapsed": false
   },
   "source": [
    "## Occurrence of Diabetes by Gender"
   ]
  },
  {
   "cell_type": "code",
   "execution_count": 42,
   "id": "6c7b5bb03eb2408a",
   "metadata": {
    "ExecuteTime": {
     "end_time": "2025-01-25T13:16:42.220001700Z",
     "start_time": "2025-01-25T13:16:41.962003Z"
    },
    "collapsed": false
   },
   "outputs": [
    {
     "data": {
      "text/plain": [
       "'# Ensure the DataFrame has the required columns and no missing values\\nif \\'gender_Encoded\\' not in bangladesh_df.columns or \\'diabetic_Encoded\\' not in bangladesh_df.columns:\\n    raise ValueError(\"The DataFrame must contain \\'gender_Encoded\\' and \\'diabetic_Encoded\\' columns.\")\\n\\n# Drop rows with missing values in the specified columns\\nbangladesh_df = bangladesh_df.dropna(subset=[\\'gender_Encoded\\', \\'diabetic_Encoded\\'])\\n\\n# Plot the relationship between gender and occurrence of diabetes\\nplt.figure(figsize=(8, 6))\\nax = sns.countplot(\\n    x=\\'gender_Encoded\\', \\n    hue=\\'diabetic_Encoded\\', \\n    data=bangladesh_df, \\n    palette=[\\'skyblue\\', \\'salmon\\'],\\n    order=[\\'Female\\', \\'Male\\'] if \\'Female\\' in bangladesh_df[\\'gender_Encoded\\'].unique() and \\'Male\\' in bangladesh_df[\\'gender_Encoded\\'].unique() else None,\\n    hue_order=[\\'No\\', \\'Yes\\'] if \\'No\\' in bangladesh_df[\\'diabetic_Encoded\\'].unique() and \\'Yes\\' in bangladesh_df[\\'diabetic_Encoded\\'].unique() else None\\n)\\n\\n# Add counts on top of each bar\\nfor p in ax.patches:\\n    height = p.get_height()\\n    if not pd.isnull(height):\\n        ax.annotate(\\n            f\\'{int(height)}\\',\\n            (p.get_x() + p.get_width() / 2., height),\\n            ha=\\'center\\',\\n            va=\\'center\\',\\n            fontsize=10,\\n            color=\\'black\\',\\n            xytext=(0, 5),\\n            textcoords=\\'offset points\\' \\n        )\\n\\n# Add labels and title\\nplt.title(\\'Occurrence of Diabetes by Gender\\', fontsize=16, pad=20)\\nplt.xlabel(\\'Gender\\', fontsize=12, labelpad=10)\\nplt.ylabel(\\'Count\\', fontsize=12, labelpad=10)\\nplt.legend(title=\\'Diabetic\\', loc=\\'upper right\\')\\n\\n# Remove spines for a cleaner look\\nsns.despine()\\n\\n# Show the plot\\nplt.tight_layout()\\nplt.show()'"
      ]
     },
     "execution_count": 42,
     "metadata": {},
     "output_type": "execute_result"
    }
   ],
   "source": [
    "\"\"\"# Ensure the DataFrame has the required columns and no missing values\n",
    "if 'gender_Encoded' not in bangladesh_df.columns or 'diabetic_Encoded' not in bangladesh_df.columns:\n",
    "    raise ValueError(\"The DataFrame must contain 'gender_Encoded' and 'diabetic_Encoded' columns.\")\n",
    "\n",
    "# Drop rows with missing values in the specified columns\n",
    "bangladesh_df = bangladesh_df.dropna(subset=['gender_Encoded', 'diabetic_Encoded'])\n",
    "\n",
    "# Plot the relationship between gender and occurrence of diabetes\n",
    "plt.figure(figsize=(8, 6))\n",
    "ax = sns.countplot(\n",
    "    x='gender_Encoded', \n",
    "    hue='diabetic_Encoded', \n",
    "    data=bangladesh_df, \n",
    "    palette=['skyblue', 'salmon'],\n",
    "    order=['Female', 'Male'] if 'Female' in bangladesh_df['gender_Encoded'].unique() and 'Male' in bangladesh_df['gender_Encoded'].unique() else None,\n",
    "    hue_order=['No', 'Yes'] if 'No' in bangladesh_df['diabetic_Encoded'].unique() and 'Yes' in bangladesh_df['diabetic_Encoded'].unique() else None\n",
    ")\n",
    "\n",
    "# Add counts on top of each bar\n",
    "for p in ax.patches:\n",
    "    height = p.get_height()\n",
    "    if not pd.isnull(height):\n",
    "        ax.annotate(\n",
    "            f'{int(height)}',\n",
    "            (p.get_x() + p.get_width() / 2., height),\n",
    "            ha='center',\n",
    "            va='center',\n",
    "            fontsize=10,\n",
    "            color='black',\n",
    "            xytext=(0, 5),\n",
    "            textcoords='offset points' \n",
    "        )\n",
    "\n",
    "# Add labels and title\n",
    "plt.title('Occurrence of Diabetes by Gender', fontsize=16, pad=20)\n",
    "plt.xlabel('Gender', fontsize=12, labelpad=10)\n",
    "plt.ylabel('Count', fontsize=12, labelpad=10)\n",
    "plt.legend(title='Diabetic', loc='upper right')\n",
    "\n",
    "# Remove spines for a cleaner look\n",
    "sns.despine()\n",
    "\n",
    "# Show the plot\n",
    "plt.tight_layout()\n",
    "plt.show()\"\"\""
   ]
  },
  {
   "cell_type": "markdown",
   "id": "78c4601ba513d09e",
   "metadata": {
    "collapsed": false
   },
   "source": [
    "## Age vs. Health Conditions"
   ]
  },
  {
   "cell_type": "code",
   "execution_count": 43,
   "id": "a526dc664ed4a28d",
   "metadata": {
    "ExecuteTime": {
     "end_time": "2025-01-25T13:16:45.635005Z",
     "start_time": "2025-01-25T13:16:44.117002900Z"
    },
    "collapsed": false
   },
   "outputs": [
    {
     "data": {
      "text/plain": [
       "'# Define age bins for grouping\\nage_bins = [0, 20, 30, 40, 50, 60, 70, 80, 100]\\nage_labels = [\\'0-20\\', \\'21-30\\', \\'31-40\\', \\'41-50\\', \\'51-60\\', \\'61-70\\', \\'71-80\\', \\'81+\\']\\nbangladesh_df[\\'age_group\\'] = pd.cut(bangladesh_df[\\'age\\'], bins=age_bins, labels=age_labels, right=False)\\n\\n# Aggregating mean values for each condition by age group\\ngrouped_data = bangladesh_df.groupby(\\'age_group\\')[[\\'diabetic_Encoded\\', \\'hypertensive\\', \\'cardiovascular_disease\\', \\'stroke\\']].mean()\\n\\n# Plot bar charts for each condition\\nconditions = [\\'diabetic_Encoded\\', \\'hypertensive\\', \\'cardiovascular_disease\\', \\'stroke\\']\\nfor condition in conditions:\\n    plt.figure(figsize=(10, 6))\\n    grouped_data[condition].plot(kind=\\'bar\\', color=\\'skyblue\\', edgecolor=\\'black\\')\\n    plt.title(f\\'Average {condition.replace(\"_\", \" \").capitalize()} by Age Group\\')\\n    plt.xlabel(\\'Age Group\\')\\n    plt.ylabel(f\\'Average {condition.replace(\"_\", \" \").capitalize()}\\')\\n    plt.xticks(rotation=45)\\n    plt.grid(axis=\\'y\\', linestyle=\\'--\\', alpha=0.7)\\n    plt.tight_layout()\\n    plt.show()'"
      ]
     },
     "execution_count": 43,
     "metadata": {},
     "output_type": "execute_result"
    }
   ],
   "source": [
    "\"\"\"# Define age bins for grouping\n",
    "age_bins = [0, 20, 30, 40, 50, 60, 70, 80, 100]\n",
    "age_labels = ['0-20', '21-30', '31-40', '41-50', '51-60', '61-70', '71-80', '81+']\n",
    "bangladesh_df['age_group'] = pd.cut(bangladesh_df['age'], bins=age_bins, labels=age_labels, right=False)\n",
    "\n",
    "# Aggregating mean values for each condition by age group\n",
    "grouped_data = bangladesh_df.groupby('age_group')[['diabetic_Encoded', 'hypertensive', 'cardiovascular_disease', 'stroke']].mean()\n",
    "\n",
    "# Plot bar charts for each condition\n",
    "conditions = ['diabetic_Encoded', 'hypertensive', 'cardiovascular_disease', 'stroke']\n",
    "for condition in conditions:\n",
    "    plt.figure(figsize=(10, 6))\n",
    "    grouped_data[condition].plot(kind='bar', color='skyblue', edgecolor='black')\n",
    "    plt.title(f'Average {condition.replace(\"_\", \" \").capitalize()} by Age Group')\n",
    "    plt.xlabel('Age Group')\n",
    "    plt.ylabel(f'Average {condition.replace(\"_\", \" \").capitalize()}')\n",
    "    plt.xticks(rotation=45)\n",
    "    plt.grid(axis='y', linestyle='--', alpha=0.7)\n",
    "    plt.tight_layout()\n",
    "    plt.show()\"\"\""
   ]
  },
  {
   "cell_type": "markdown",
   "id": "9a4c233063ec0bbf",
   "metadata": {
    "collapsed": false
   },
   "source": [
    "## BMI vs. Glucose"
   ]
  },
  {
   "cell_type": "code",
   "execution_count": 44,
   "id": "3dbbf3b4f0435dc0",
   "metadata": {
    "ExecuteTime": {
     "end_time": "2025-01-25T13:16:46.876002800Z",
     "start_time": "2025-01-25T13:16:46.502003500Z"
    },
    "collapsed": false
   },
   "outputs": [
    {
     "data": {
      "text/plain": [
       "\"# Define BMI bins for grouping\\nbmi_bins = [0, 18.5, 24.9, 29.9, 34.9, 39.9, 100]  # Categories: Underweight, Normal, Overweight, Obese I, Obese II, Obese III\\nbmi_labels = ['Underweight', 'Normal', 'Overweight', 'Obese I', 'Obese II', 'Obese III']\\nbangladesh_df['bmi_category'] = pd.cut(bangladesh_df['bmi'], bins=bmi_bins, labels=bmi_labels, right=False)\\n\\n# Aggregating mean glucose levels by BMI category\\nbmi_glucose_data = bangladesh_df.groupby('bmi_category')['glucose'].mean()\\n\\n# Plotting the bar chart\\nplt.figure(figsize=(10, 6))\\nbmi_glucose_data.plot(kind='bar', color='skyblue', edgecolor='black')\\nplt.title('Average Glucose Levels by BMI Category')\\nplt.xlabel('BMI Category')\\nplt.ylabel('Average Glucose Levels')\\nplt.xticks(rotation=45)\\nplt.grid(axis='y', linestyle='--', alpha=0.7)\\nplt.tight_layout()\\nplt.show()\""
      ]
     },
     "execution_count": 44,
     "metadata": {},
     "output_type": "execute_result"
    }
   ],
   "source": [
    "\"\"\"# Define BMI bins for grouping\n",
    "bmi_bins = [0, 18.5, 24.9, 29.9, 34.9, 39.9, 100]  # Categories: Underweight, Normal, Overweight, Obese I, Obese II, Obese III\n",
    "bmi_labels = ['Underweight', 'Normal', 'Overweight', 'Obese I', 'Obese II', 'Obese III']\n",
    "bangladesh_df['bmi_category'] = pd.cut(bangladesh_df['bmi'], bins=bmi_bins, labels=bmi_labels, right=False)\n",
    "\n",
    "# Aggregating mean glucose levels by BMI category\n",
    "bmi_glucose_data = bangladesh_df.groupby('bmi_category')['glucose'].mean()\n",
    "\n",
    "# Plotting the bar chart\n",
    "plt.figure(figsize=(10, 6))\n",
    "bmi_glucose_data.plot(kind='bar', color='skyblue', edgecolor='black')\n",
    "plt.title('Average Glucose Levels by BMI Category')\n",
    "plt.xlabel('BMI Category')\n",
    "plt.ylabel('Average Glucose Levels')\n",
    "plt.xticks(rotation=45)\n",
    "plt.grid(axis='y', linestyle='--', alpha=0.7)\n",
    "plt.tight_layout()\n",
    "plt.show()\"\"\""
   ]
  },
  {
   "cell_type": "markdown",
   "id": "d0042a514e41db3f",
   "metadata": {
    "collapsed": false
   },
   "source": [
    "## Blood Pressure vs. Health Outcomes"
   ]
  },
  {
   "cell_type": "code",
   "execution_count": 45,
   "id": "4b998bc191753bfd",
   "metadata": {
    "ExecuteTime": {
     "end_time": "2025-01-25T13:16:49.229047Z",
     "start_time": "2025-01-25T13:16:48.556049100Z"
    },
    "collapsed": false
   },
   "outputs": [
    {
     "data": {
      "text/plain": [
       "'# Define blood pressure bins for grouping\\nbp_bins = [0, 90, 120, 140, 160, 200]  # Categories: Low, Normal, Elevated, Hypertension Stage 1, Hypertension Stage 2\\nbp_labels = [\\'Low\\', \\'Normal\\', \\'Elevated\\', \\'Stage 1 Hypertension\\', \\'Stage 2 Hypertension\\']\\nbangladesh_df[\\'systolic_bp_category\\'] = pd.cut(bangladesh_df[\\'systolic_bp\\'], bins=bp_bins, labels=bp_labels, right=False)\\n\\n# Aggregating mean values for conditions by systolic blood pressure category\\nconditions = [\\'hypertensive\\', \\'cardiovascular_disease\\', \\'stroke\\']\\nbp_condition_data = bangladesh_df.groupby(\\'systolic_bp_category\\')[conditions].mean()\\n\\n# Plotting bar charts for each condition\\nfor condition in conditions:\\n    plt.figure(figsize=(10, 6))\\n    bp_condition_data[condition].plot(kind=\\'bar\\', color=\\'skyblue\\', edgecolor=\\'black\\')\\n    plt.title(f\\'Association Between Systolic BP and {condition.replace(\"_\", \" \").capitalize()}\\')\\n    plt.xlabel(\\'Systolic Blood Pressure Category\\')\\n    plt.ylabel(f\\'Average {condition.replace(\"_\", \" \").capitalize()}\\')\\n    plt.xticks(rotation=45)\\n    plt.grid(axis=\\'y\\', linestyle=\\'--\\', alpha=0.7)\\n    plt.tight_layout()\\n    plt.show()'"
      ]
     },
     "execution_count": 45,
     "metadata": {},
     "output_type": "execute_result"
    }
   ],
   "source": [
    "\"\"\"# Define blood pressure bins for grouping\n",
    "bp_bins = [0, 90, 120, 140, 160, 200]  # Categories: Low, Normal, Elevated, Hypertension Stage 1, Hypertension Stage 2\n",
    "bp_labels = ['Low', 'Normal', 'Elevated', 'Stage 1 Hypertension', 'Stage 2 Hypertension']\n",
    "bangladesh_df['systolic_bp_category'] = pd.cut(bangladesh_df['systolic_bp'], bins=bp_bins, labels=bp_labels, right=False)\n",
    "\n",
    "# Aggregating mean values for conditions by systolic blood pressure category\n",
    "conditions = ['hypertensive', 'cardiovascular_disease', 'stroke']\n",
    "bp_condition_data = bangladesh_df.groupby('systolic_bp_category')[conditions].mean()\n",
    "\n",
    "# Plotting bar charts for each condition\n",
    "for condition in conditions:\n",
    "    plt.figure(figsize=(10, 6))\n",
    "    bp_condition_data[condition].plot(kind='bar', color='skyblue', edgecolor='black')\n",
    "    plt.title(f'Association Between Systolic BP and {condition.replace(\"_\", \" \").capitalize()}')\n",
    "    plt.xlabel('Systolic Blood Pressure Category')\n",
    "    plt.ylabel(f'Average {condition.replace(\"_\", \" \").capitalize()}')\n",
    "    plt.xticks(rotation=45)\n",
    "    plt.grid(axis='y', linestyle='--', alpha=0.7)\n",
    "    plt.tight_layout()\n",
    "    plt.show()\"\"\""
   ]
  },
  {
   "cell_type": "markdown",
   "id": "e34cc61f35138914",
   "metadata": {
    "collapsed": false
   },
   "source": [
    "## Family History (Diabetes/Hypertension) vs. Conditions"
   ]
  },
  {
   "cell_type": "code",
   "execution_count": 46,
   "id": "9778c7eabaed1189",
   "metadata": {
    "ExecuteTime": {
     "end_time": "2025-01-25T13:16:51.681046300Z",
     "start_time": "2025-01-25T13:16:50.738049400Z"
    },
    "collapsed": false
   },
   "outputs": [
    {
     "data": {
      "text/plain": [
       "'# Aggregating mean values for diabetes and hypertension based on family history of diabetes and hypertension\\nfamily_history_columns = [\\'family_diabetes\\', \\'family_hypertension\\']\\nconditions = [\\'diabetic_Encoded\\', \\'hypertensive\\']\\n\\nfor family_history in family_history_columns:\\n    grouped_data = bangladesh_df.groupby(family_history)[conditions].mean()\\n    \\n    for condition in conditions:\\n        plt.figure(figsize=(8, 6))\\n        grouped_data[condition].plot(kind=\\'bar\\', color=\\'skyblue\\', edgecolor=\\'black\\')\\n        plt.title(f\\'Impact of {family_history.replace(\"_\", \" \").capitalize()} on {condition.replace(\"_\", \" \").capitalize()}\\')\\n        plt.xlabel(f\\'{family_history.replace(\"_\", \" \").capitalize()} (0 = No, 1 = Yes)\\')\\n        plt.ylabel(f\\'Average {condition.replace(\"_\", \" \").capitalize()} Prevalence\\')\\n        plt.xticks([0, 1], [\\'No\\', \\'Yes\\'], rotation=0)\\n        plt.grid(axis=\\'y\\', linestyle=\\'--\\', alpha=0.7)\\n        plt.tight_layout()\\n        plt.show()'"
      ]
     },
     "execution_count": 46,
     "metadata": {},
     "output_type": "execute_result"
    }
   ],
   "source": [
    "\"\"\"# Aggregating mean values for diabetes and hypertension based on family history of diabetes and hypertension\n",
    "family_history_columns = ['family_diabetes', 'family_hypertension']\n",
    "conditions = ['diabetic_Encoded', 'hypertensive']\n",
    "\n",
    "for family_history in family_history_columns:\n",
    "    grouped_data = bangladesh_df.groupby(family_history)[conditions].mean()\n",
    "    \n",
    "    for condition in conditions:\n",
    "        plt.figure(figsize=(8, 6))\n",
    "        grouped_data[condition].plot(kind='bar', color='skyblue', edgecolor='black')\n",
    "        plt.title(f'Impact of {family_history.replace(\"_\", \" \").capitalize()} on {condition.replace(\"_\", \" \").capitalize()}')\n",
    "        plt.xlabel(f'{family_history.replace(\"_\", \" \").capitalize()} (0 = No, 1 = Yes)')\n",
    "        plt.ylabel(f'Average {condition.replace(\"_\", \" \").capitalize()} Prevalence')\n",
    "        plt.xticks([0, 1], ['No', 'Yes'], rotation=0)\n",
    "        plt.grid(axis='y', linestyle='--', alpha=0.7)\n",
    "        plt.tight_layout()\n",
    "        plt.show()\"\"\""
   ]
  },
  {
   "cell_type": "markdown",
   "id": "a2081cab31be5802",
   "metadata": {
    "collapsed": false
   },
   "source": [
    "## Pulse Rate vs. Cardiovascular Disease"
   ]
  },
  {
   "cell_type": "code",
   "execution_count": 47,
   "id": "540fdfcb8dc6e832",
   "metadata": {
    "ExecuteTime": {
     "end_time": "2025-01-25T13:16:53.958048200Z",
     "start_time": "2025-01-25T13:16:53.255052200Z"
    },
    "collapsed": false
   },
   "outputs": [
    {
     "data": {
      "text/plain": [
       "'# Define pulse rate bins for grouping\\npulse_rate_bins = [0, 60, 80, 100, 200]  # Categories: Bradycardia, Normal, Elevated, Tachycardia\\npulse_rate_labels = [\\'Bradycardia\\', \\'Normal\\', \\'Elevated\\', \\'Tachycardia\\']\\nbangladesh_df[\\'pulse_rate_category\\'] = pd.cut(bangladesh_df[\\'pulse_rate\\'], bins=pulse_rate_bins, labels=pulse_rate_labels, right=False)\\n\\n# Aggregating mean values for cardiovascular conditions by pulse rate category\\nconditions = [\\'cardiovascular_disease\\', \\'stroke\\']\\npulse_condition_data = bangladesh_df.groupby(\\'pulse_rate_category\\')[conditions].mean()\\n\\n# Plotting bar charts for each cardiovascular condition\\nfor condition in conditions:\\n    plt.figure(figsize=(10, 6))\\n    pulse_condition_data[condition].plot(kind=\\'bar\\', color=\\'skyblue\\', edgecolor=\\'black\\')\\n    plt.title(f\\'Impact of Pulse Rate on {condition.replace(\"_\", \" \").capitalize()}\\')\\n    plt.xlabel(\\'Pulse Rate Category\\')\\n    plt.ylabel(f\\'Average {condition.replace(\"_\", \" \").capitalize()} Prevalence\\')\\n    plt.xticks(rotation=45)\\n    plt.grid(axis=\\'y\\', linestyle=\\'--\\', alpha=0.7)\\n    plt.tight_layout()\\n    plt.show()'"
      ]
     },
     "execution_count": 47,
     "metadata": {},
     "output_type": "execute_result"
    }
   ],
   "source": [
    "\"\"\"# Define pulse rate bins for grouping\n",
    "pulse_rate_bins = [0, 60, 80, 100, 200]  # Categories: Bradycardia, Normal, Elevated, Tachycardia\n",
    "pulse_rate_labels = ['Bradycardia', 'Normal', 'Elevated', 'Tachycardia']\n",
    "bangladesh_df['pulse_rate_category'] = pd.cut(bangladesh_df['pulse_rate'], bins=pulse_rate_bins, labels=pulse_rate_labels, right=False)\n",
    "\n",
    "# Aggregating mean values for cardiovascular conditions by pulse rate category\n",
    "conditions = ['cardiovascular_disease', 'stroke']\n",
    "pulse_condition_data = bangladesh_df.groupby('pulse_rate_category')[conditions].mean()\n",
    "\n",
    "# Plotting bar charts for each cardiovascular condition\n",
    "for condition in conditions:\n",
    "    plt.figure(figsize=(10, 6))\n",
    "    pulse_condition_data[condition].plot(kind='bar', color='skyblue', edgecolor='black')\n",
    "    plt.title(f'Impact of Pulse Rate on {condition.replace(\"_\", \" \").capitalize()}')\n",
    "    plt.xlabel('Pulse Rate Category')\n",
    "    plt.ylabel(f'Average {condition.replace(\"_\", \" \").capitalize()} Prevalence')\n",
    "    plt.xticks(rotation=45)\n",
    "    plt.grid(axis='y', linestyle='--', alpha=0.7)\n",
    "    plt.tight_layout()\n",
    "    plt.show()\"\"\""
   ]
  },
  {
   "cell_type": "markdown",
   "id": "e61f7de2cb98a4cb",
   "metadata": {
    "collapsed": false
   },
   "source": [
    "# Saving Processed CSV File"
   ]
  },
  {
   "cell_type": "code",
   "execution_count": 48,
   "id": "a558cbf29a9f0f0f",
   "metadata": {
    "ExecuteTime": {
     "start_time": "2025-01-25T13:13:16.487924400Z"
    },
    "collapsed": false
   },
   "outputs": [
    {
     "name": "stdout",
     "output_type": "stream",
     "text": [
      "Updated dataset saved to: /Users/mohammedbasem/Desktop/T2D-Prediction-System--Data-Fusion-for-Enhanced-Decision-Making/processed_datasets/clinical/Bangladesh_pro.csv\n"
     ]
    }
   ],
   "source": [
    "# Define the exact output file path\n",
    "output_file_path = r'/Users/mohammedbasem/Desktop/T2D-Prediction-System--Data-Fusion-for-Enhanced-Decision-Making/processed_datasets/clinical/Bangladesh_pro.csv'\n",
    "\n",
    "# Save the updated DataFrame to a CSV file\n",
    "bangladesh_df.to_csv(output_file_path, index=False)\n",
    "\n",
    "print(f\"Updated dataset saved to: {output_file_path}\")"
   ]
  },
  {
   "cell_type": "markdown",
   "id": "40c48fe376fc9437",
   "metadata": {
    "collapsed": false
   },
   "source": [
    "# Conclusion"
   ]
  },
  {
   "cell_type": "markdown",
   "id": "5735af62",
   "metadata": {},
   "source": []
  }
 ],
 "metadata": {
  "kernelspec": {
   "display_name": "base",
   "language": "python",
   "name": "python3"
  },
  "language_info": {
   "codemirror_mode": {
    "name": "ipython",
    "version": 3
   },
   "file_extension": ".py",
   "mimetype": "text/x-python",
   "name": "python",
   "nbconvert_exporter": "python",
   "pygments_lexer": "ipython3",
   "version": "3.12.2"
  }
 },
 "nbformat": 4,
 "nbformat_minor": 5
}
