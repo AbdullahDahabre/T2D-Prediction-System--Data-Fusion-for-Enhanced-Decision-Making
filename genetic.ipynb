{
 "cells": [
  {
   "cell_type": "markdown",
   "metadata": {},
   "source": [
    "# Features and Definitions"
   ]
  },
  {
   "cell_type": "markdown",
   "metadata": {
    "vscode": {
     "languageId": "plaintext"
    }
   },
   "source": [
    "1. **DATE ADDED TO CATALOG**: Date the study was added to the GWAS catalog.  \n",
    "2. **PUBMEDID**: Unique identifier for the publication in PubMed.  \n",
    "3. **FIRST AUTHOR**: Name of the first author of the study.  \n",
    "4. **DATE**: Publication date of the study.  \n",
    "5. **JOURNAL**: Journal where the study was published.  \n",
    "6. **LINK**: URL to the publication or related resource.  \n",
    "7. **STUDY**: Description of the study.  \n",
    "8. **DISEASE/TRAIT**: Disease or trait studied.  \n",
    "9. **INITIAL SAMPLE SIZE**: Size of the initial sample used in the study.  \n",
    "10. **REPLICATION SAMPLE SIZE**: Size of the replication sample used to validate findings.  \n",
    "11. **REGION**: Genomic region associated with the findings.  \n",
    "12. **CHR_ID**: Chromosome ID where the SNP is located.  \n",
    "13. **CHR_POS**: Chromosomal position of the SNP.  \n",
    "14. **REPORTED GENE(S)**: Genes reported in the study related to the SNP.  \n",
    "15. **MAPPED_GENE**: Genes mapped to the SNP.  \n",
    "16. **UPSTREAM_GENE_ID**: Gene ID upstream of the SNP.  \n",
    "17. **DOWNSTREAM_GENE_ID**: Gene ID downstream of the SNP.  \n",
    "18. **SNP_GENE_IDS**: IDs of genes related to the SNP.  \n",
    "19. **UPSTREAM_GENE_DISTANCE**: Distance from the SNP to the upstream gene.  \n",
    "20. **DOWNSTREAM_GENE_DISTANCE**: Distance from the SNP to the downstream gene.  \n",
    "21. **STRONGEST SNP-RISK ALLELE**: SNP and risk allele with the strongest association.  \n",
    "22. **SNPS**: Single Nucleotide Polymorphisms studied.  \n",
    "23. **MERGED**: Indicator if the SNP was merged with others.  \n",
    "24. **SNP_ID_CURRENT**: Current identifier for the SNP.  \n",
    "25. **CONTEXT**: Genomic context of the SNP (e.g., intronic, exonic).  \n",
    "26. **INTERGENIC**: Indicates if the SNP is between genes.  \n",
    "27. **RISK ALLELE FREQUENCY**: Frequency of the risk allele in the population.  \n",
    "28. **P-VALUE**: Statistical significance of the SNP association.  \n",
    "29. **PVALUE_MLOG**: -log10 transformation of the p-value.  \n",
    "30. **P-VALUE (TEXT)**: P-value as text.  \n",
    "31. **OR or BETA**: Effect size or odds ratio for the SNP.  \n",
    "32. **95% CI (TEXT)**: Confidence interval for the effect size or odds ratio.  \n",
    "33. **PLATFORM [SNPS PASSING QC]**: Genotyping platform used and SNPs passing quality control.  \n",
    "34. **CNV**: Copy number variation information."
   ]
  },
  {
   "cell_type": "markdown",
   "metadata": {},
   "source": [
    "# Features Relationships in Dataset"
   ]
  },
  {
   "cell_type": "markdown",
   "metadata": {},
   "source": []
  },
  {
   "cell_type": "markdown",
   "metadata": {},
   "source": [
    "# Importing Libraries"
   ]
  },
  {
   "cell_type": "code",
   "execution_count": null,
   "metadata": {
    "vscode": {
     "languageId": "plaintext"
    }
   },
   "outputs": [],
   "source": [
    "# Essentials\n",
    "import numpy as np\n",
    "import pandas as pd\n",
    "\n",
    "# Processing/Statistics\n",
    "\n",
    "# Visualization\n",
    "\n",
    "# Warnings"
   ]
  },
  {
   "cell_type": "markdown",
   "metadata": {},
   "source": [
    "# Exploratory Data Analysis (EDA)"
   ]
  },
  {
   "cell_type": "markdown",
   "metadata": {},
   "source": [
    "Reading Data"
   ]
  },
  {
   "cell_type": "code",
   "execution_count": null,
   "metadata": {
    "vscode": {
     "languageId": "plaintext"
    }
   },
   "outputs": [],
   "source": [
    "genetic_df = pd.read_csv(r\"C:\\Users\\dahab\\OneDrive\\Desktop\\T2D-Prediction-System--Data-Fusion-for-Enhanced-Decision-Making\\datasets\\genetic\\filtered_diabetes_data.csv\")"
   ]
  },
  {
   "cell_type": "markdown",
   "metadata": {},
   "source": [
    "First rows"
   ]
  },
  {
   "cell_type": "code",
   "execution_count": null,
   "metadata": {
    "vscode": {
     "languageId": "plaintext"
    }
   },
   "outputs": [],
   "source": [
    "genetic_df.head(10)"
   ]
  },
  {
   "cell_type": "markdown",
   "metadata": {},
   "source": [
    "Dropping redundant columns"
   ]
  },
  {
   "cell_type": "markdown",
   "metadata": {},
   "source": [
    "###### give me a code to drop first 6 columns, replication sample size, reported gene, snp_id_current, P-Value Text, and CNV"
   ]
  },
  {
   "cell_type": "markdown",
   "metadata": {},
   "source": [
    "checking intergenic correctness"
   ]
  },
  {
   "cell_type": "markdown",
   "metadata": {},
   "source": [
    "Renaming some columns"
   ]
  },
  {
   "cell_type": "markdown",
   "metadata": {},
   "source": [
    "Count of numerical and categorical columns"
   ]
  },
  {
   "cell_type": "markdown",
   "metadata": {},
   "source": [
    "Unique values of categorical columns"
   ]
  },
  {
   "cell_type": "markdown",
   "metadata": {},
   "source": [
    "Disease Treat unique values"
   ]
  },
  {
   "cell_type": "markdown",
   "metadata": {},
   "source": [
    "Checking missing values"
   ]
  },
  {
   "cell_type": "markdown",
   "metadata": {},
   "source": [
    "Check replication size column and might drop"
   ]
  },
  {
   "cell_type": "markdown",
   "metadata": {},
   "source": [
    "Checking rows with null Gene IDs"
   ]
  },
  {
   "cell_type": "markdown",
   "metadata": {},
   "source": [
    "Checking duplicates"
   ]
  },
  {
   "cell_type": "markdown",
   "metadata": {},
   "source": [
    "Checking how many rows with SNP Gene"
   ]
  },
  {
   "cell_type": "markdown",
   "metadata": {},
   "source": [
    "Divide into two datasets according to SNP Gene"
   ]
  },
  {
   "cell_type": "markdown",
   "metadata": {},
   "source": [
    "Concise Summary or Data"
   ]
  },
  {
   "cell_type": "markdown",
   "metadata": {},
   "source": [
    "Columns names"
   ]
  },
  {
   "cell_type": "markdown",
   "metadata": {},
   "source": [
    "Statistics of the Dataset"
   ]
  },
  {
   "cell_type": "markdown",
   "metadata": {},
   "source": [
    "# Feature Engineering"
   ]
  },
  {
   "cell_type": "markdown",
   "metadata": {},
   "source": [
    "Initial sample size column to percentage"
   ]
  },
  {
   "cell_type": "markdown",
   "metadata": {},
   "source": [
    "Initial sample size combine male and females"
   ]
  },
  {
   "cell_type": "markdown",
   "metadata": {},
   "source": [
    "add rows for region, chr_id, chr_pos, multiple mapped gene"
   ]
  },
  {
   "cell_type": "markdown",
   "metadata": {},
   "source": [
    "mapped gene into ( on, between, on specific, on and between)"
   ]
  },
  {
   "cell_type": "markdown",
   "metadata": {},
   "source": [
    "strong snp-risk to risk (letters only), ? is null to be dropped"
   ]
  },
  {
   "cell_type": "markdown",
   "metadata": {},
   "source": [
    "replace nr with nan to risk alley frequency"
   ]
  },
  {
   "cell_type": "markdown",
   "metadata": {},
   "source": [
    "# Data Visualization"
   ]
  },
  {
   "cell_type": "markdown",
   "metadata": {},
   "source": []
  },
  {
   "cell_type": "markdown",
   "metadata": {},
   "source": [
    "# Conclusion"
   ]
  },
  {
   "cell_type": "markdown",
   "metadata": {},
   "source": []
  }
 ],
 "metadata": {
  "language_info": {
   "name": "python"
  }
 },
 "nbformat": 4,
 "nbformat_minor": 2
}
